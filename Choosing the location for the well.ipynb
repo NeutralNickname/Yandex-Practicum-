{
 "cells": [
  {
   "cell_type": "markdown",
   "metadata": {},
   "source": [
    "# Выбор локации для скважины"
   ]
  },
  {
   "cell_type": "markdown",
   "metadata": {},
   "source": [
    "Допустим, вы работаете в добывающей компании «ГлавРосГосНефть». Нужно решить, где бурить новую скважину.\n",
    "\n",
    "Вам предоставлены пробы нефти в трёх регионах: в каждом 10 000 месторождений, где измерили качество нефти и объём её запасов. Постройте модель машинного обучения, которая поможет определить регион, где добыча принесёт наибольшую прибыль. Проанализируйте возможную прибыль и риски техникой *Bootstrap.*\n",
    "\n",
    "Шаги для выбора локации:\n",
    "\n",
    "- В избранном регионе ищут месторождения, для каждого определяют значения признаков;\n",
    "- Строят модель и оценивают объём запасов;\n",
    "- Выбирают месторождения с самым высокими оценками значений. Количество месторождений зависит от бюджета компании и стоимости разработки одной скважины;\n",
    "- Прибыль равна суммарной прибыли отобранных месторождений."
   ]
  },
  {
   "cell_type": "markdown",
   "metadata": {},
   "source": [
    "# План проекта"
   ]
  },
  {
   "cell_type": "markdown",
   "metadata": {},
   "source": [
    "1. Загрузить и подготовить данные.\n",
    "2. Обучить и проверить модель для каждого региона:\n",
    "* Разбить данные на обучающую и валидационную выборки в соотношении 75:25.\n",
    "* Обучить модель и сделать предсказания на валидационной выборке.\n",
    "* Сохранить предсказания и правильные ответы на валидационной выборке.\n",
    "* Напечатать на экране средний запас предсказанного сырья и RMSE модели.\n",
    "* Проанализировать результаты.\n",
    "3. Подготовиться к расчёту прибыли:\n",
    "* Все ключевые значения для расчётов сохранить в отдельных переменных.\n",
    "* Рассчитать достаточный объём сырья для безубыточной разработки новой скважины. Сравнить полученный объём сырья со средним запасом в каждом регионе. \n",
    "* Написать выводы по этапу подготовки расчёта прибыли.\n",
    "4. Написать функцию для расчёта прибыли по выбранным скважинам и предсказаниям модели:\n",
    "* Выбрать скважины с максимальными значениями предсказаний. \n",
    "* Просуммировать целевое значение объёма сырья, соответствующее этим предсказаниям.\n",
    "* Рассчитать прибыль для полученного объёма сырья.\n",
    "5. Посчитать риски и прибыль для каждого региона:\n",
    "* Применить технику Bootstrap с 1000 выборок, чтобы найти распределение прибыли.\n",
    "* Найти среднюю прибыль, 95%-й доверительный интервал и риск убытков. Убыток — это отрицательная прибыль.\n",
    "* Написать выводы: предложить регион для разработки скважин и обосновать выбор."
   ]
  },
  {
   "cell_type": "markdown",
   "metadata": {},
   "source": [
    "# Цель проекта"
   ]
  },
  {
   "cell_type": "markdown",
   "metadata": {},
   "source": [
    "Построить модель машинного обучения, которая поможет определить регион, где добыча принесет наибольшую прибыль."
   ]
  },
  {
   "cell_type": "markdown",
   "metadata": {},
   "source": [
    "## Загрузка и подготовка данных"
   ]
  },
  {
   "cell_type": "code",
   "execution_count": 1,
   "metadata": {},
   "outputs": [],
   "source": [
    "# Загрузка библиотек\n",
    "import pandas as pd\n",
    "import numpy as np\n",
    "import matplotlib.pyplot as plt\n",
    "import scipy.stats as st\n",
    "\n",
    "from sklearn.model_selection import train_test_split\n",
    "from sklearn.linear_model import LinearRegression\n",
    "from sklearn.metrics import mean_squared_error\n",
    "from sklearn.metrics import r2_score\n",
    "from sklearn.metrics import mean_absolute_error\n",
    "\n",
    "import warnings\n",
    "warnings.filterwarnings('ignore')"
   ]
  },
  {
   "cell_type": "code",
   "execution_count": 2,
   "metadata": {},
   "outputs": [],
   "source": [
    "# Сохранение датасетов в переменные\n",
    "df_0 = pd.read_csv('/datasets/geo_data_0.csv')\n",
    "df_1 = pd.read_csv('/datasets/geo_data_1.csv')\n",
    "df_2 = pd.read_csv('/datasets/geo_data_2.csv')\n",
    "\n",
    "# Список переменных\n",
    "df_list = [df_0, df_1, df_2]"
   ]
  },
  {
   "cell_type": "code",
   "execution_count": 3,
   "metadata": {},
   "outputs": [
    {
     "data": {
      "text/html": [
       "<div>\n",
       "<style scoped>\n",
       "    .dataframe tbody tr th:only-of-type {\n",
       "        vertical-align: middle;\n",
       "    }\n",
       "\n",
       "    .dataframe tbody tr th {\n",
       "        vertical-align: top;\n",
       "    }\n",
       "\n",
       "    .dataframe thead th {\n",
       "        text-align: right;\n",
       "    }\n",
       "</style>\n",
       "<table border=\"1\" class=\"dataframe\">\n",
       "  <thead>\n",
       "    <tr style=\"text-align: right;\">\n",
       "      <th></th>\n",
       "      <th>id</th>\n",
       "      <th>f0</th>\n",
       "      <th>f1</th>\n",
       "      <th>f2</th>\n",
       "      <th>product</th>\n",
       "    </tr>\n",
       "  </thead>\n",
       "  <tbody>\n",
       "    <tr>\n",
       "      <th>0</th>\n",
       "      <td>txEyH</td>\n",
       "      <td>0.705745</td>\n",
       "      <td>-0.497823</td>\n",
       "      <td>1.221170</td>\n",
       "      <td>105.280062</td>\n",
       "    </tr>\n",
       "    <tr>\n",
       "      <th>1</th>\n",
       "      <td>2acmU</td>\n",
       "      <td>1.334711</td>\n",
       "      <td>-0.340164</td>\n",
       "      <td>4.365080</td>\n",
       "      <td>73.037750</td>\n",
       "    </tr>\n",
       "    <tr>\n",
       "      <th>2</th>\n",
       "      <td>409Wp</td>\n",
       "      <td>1.022732</td>\n",
       "      <td>0.151990</td>\n",
       "      <td>1.419926</td>\n",
       "      <td>85.265647</td>\n",
       "    </tr>\n",
       "    <tr>\n",
       "      <th>3</th>\n",
       "      <td>iJLyR</td>\n",
       "      <td>-0.032172</td>\n",
       "      <td>0.139033</td>\n",
       "      <td>2.978566</td>\n",
       "      <td>168.620776</td>\n",
       "    </tr>\n",
       "    <tr>\n",
       "      <th>4</th>\n",
       "      <td>Xdl7t</td>\n",
       "      <td>1.988431</td>\n",
       "      <td>0.155413</td>\n",
       "      <td>4.751769</td>\n",
       "      <td>154.036647</td>\n",
       "    </tr>\n",
       "  </tbody>\n",
       "</table>\n",
       "</div>"
      ],
      "text/plain": [
       "      id        f0        f1        f2     product\n",
       "0  txEyH  0.705745 -0.497823  1.221170  105.280062\n",
       "1  2acmU  1.334711 -0.340164  4.365080   73.037750\n",
       "2  409Wp  1.022732  0.151990  1.419926   85.265647\n",
       "3  iJLyR -0.032172  0.139033  2.978566  168.620776\n",
       "4  Xdl7t  1.988431  0.155413  4.751769  154.036647"
      ]
     },
     "metadata": {},
     "output_type": "display_data"
    },
    {
     "name": "stdout",
     "output_type": "stream",
     "text": [
      "<class 'pandas.core.frame.DataFrame'>\n",
      "RangeIndex: 100000 entries, 0 to 99999\n",
      "Data columns (total 5 columns):\n",
      " #   Column   Non-Null Count   Dtype  \n",
      "---  ------   --------------   -----  \n",
      " 0   id       100000 non-null  object \n",
      " 1   f0       100000 non-null  float64\n",
      " 2   f1       100000 non-null  float64\n",
      " 3   f2       100000 non-null  float64\n",
      " 4   product  100000 non-null  float64\n",
      "dtypes: float64(4), object(1)\n",
      "memory usage: 3.8+ MB\n"
     ]
    },
    {
     "data": {
      "text/plain": [
       "None"
      ]
     },
     "metadata": {},
     "output_type": "display_data"
    },
    {
     "data": {
      "text/html": [
       "<div>\n",
       "<style scoped>\n",
       "    .dataframe tbody tr th:only-of-type {\n",
       "        vertical-align: middle;\n",
       "    }\n",
       "\n",
       "    .dataframe tbody tr th {\n",
       "        vertical-align: top;\n",
       "    }\n",
       "\n",
       "    .dataframe thead th {\n",
       "        text-align: right;\n",
       "    }\n",
       "</style>\n",
       "<table border=\"1\" class=\"dataframe\">\n",
       "  <thead>\n",
       "    <tr style=\"text-align: right;\">\n",
       "      <th></th>\n",
       "      <th>id</th>\n",
       "      <th>f0</th>\n",
       "      <th>f1</th>\n",
       "      <th>f2</th>\n",
       "      <th>product</th>\n",
       "    </tr>\n",
       "  </thead>\n",
       "  <tbody>\n",
       "    <tr>\n",
       "      <th>0</th>\n",
       "      <td>kBEdx</td>\n",
       "      <td>-15.001348</td>\n",
       "      <td>-8.276000</td>\n",
       "      <td>-0.005876</td>\n",
       "      <td>3.179103</td>\n",
       "    </tr>\n",
       "    <tr>\n",
       "      <th>1</th>\n",
       "      <td>62mP7</td>\n",
       "      <td>14.272088</td>\n",
       "      <td>-3.475083</td>\n",
       "      <td>0.999183</td>\n",
       "      <td>26.953261</td>\n",
       "    </tr>\n",
       "    <tr>\n",
       "      <th>2</th>\n",
       "      <td>vyE1P</td>\n",
       "      <td>6.263187</td>\n",
       "      <td>-5.948386</td>\n",
       "      <td>5.001160</td>\n",
       "      <td>134.766305</td>\n",
       "    </tr>\n",
       "    <tr>\n",
       "      <th>3</th>\n",
       "      <td>KcrkZ</td>\n",
       "      <td>-13.081196</td>\n",
       "      <td>-11.506057</td>\n",
       "      <td>4.999415</td>\n",
       "      <td>137.945408</td>\n",
       "    </tr>\n",
       "    <tr>\n",
       "      <th>4</th>\n",
       "      <td>AHL4O</td>\n",
       "      <td>12.702195</td>\n",
       "      <td>-8.147433</td>\n",
       "      <td>5.004363</td>\n",
       "      <td>134.766305</td>\n",
       "    </tr>\n",
       "  </tbody>\n",
       "</table>\n",
       "</div>"
      ],
      "text/plain": [
       "      id         f0         f1        f2     product\n",
       "0  kBEdx -15.001348  -8.276000 -0.005876    3.179103\n",
       "1  62mP7  14.272088  -3.475083  0.999183   26.953261\n",
       "2  vyE1P   6.263187  -5.948386  5.001160  134.766305\n",
       "3  KcrkZ -13.081196 -11.506057  4.999415  137.945408\n",
       "4  AHL4O  12.702195  -8.147433  5.004363  134.766305"
      ]
     },
     "metadata": {},
     "output_type": "display_data"
    },
    {
     "name": "stdout",
     "output_type": "stream",
     "text": [
      "<class 'pandas.core.frame.DataFrame'>\n",
      "RangeIndex: 100000 entries, 0 to 99999\n",
      "Data columns (total 5 columns):\n",
      " #   Column   Non-Null Count   Dtype  \n",
      "---  ------   --------------   -----  \n",
      " 0   id       100000 non-null  object \n",
      " 1   f0       100000 non-null  float64\n",
      " 2   f1       100000 non-null  float64\n",
      " 3   f2       100000 non-null  float64\n",
      " 4   product  100000 non-null  float64\n",
      "dtypes: float64(4), object(1)\n",
      "memory usage: 3.8+ MB\n"
     ]
    },
    {
     "data": {
      "text/plain": [
       "None"
      ]
     },
     "metadata": {},
     "output_type": "display_data"
    },
    {
     "data": {
      "text/html": [
       "<div>\n",
       "<style scoped>\n",
       "    .dataframe tbody tr th:only-of-type {\n",
       "        vertical-align: middle;\n",
       "    }\n",
       "\n",
       "    .dataframe tbody tr th {\n",
       "        vertical-align: top;\n",
       "    }\n",
       "\n",
       "    .dataframe thead th {\n",
       "        text-align: right;\n",
       "    }\n",
       "</style>\n",
       "<table border=\"1\" class=\"dataframe\">\n",
       "  <thead>\n",
       "    <tr style=\"text-align: right;\">\n",
       "      <th></th>\n",
       "      <th>id</th>\n",
       "      <th>f0</th>\n",
       "      <th>f1</th>\n",
       "      <th>f2</th>\n",
       "      <th>product</th>\n",
       "    </tr>\n",
       "  </thead>\n",
       "  <tbody>\n",
       "    <tr>\n",
       "      <th>0</th>\n",
       "      <td>fwXo0</td>\n",
       "      <td>-1.146987</td>\n",
       "      <td>0.963328</td>\n",
       "      <td>-0.828965</td>\n",
       "      <td>27.758673</td>\n",
       "    </tr>\n",
       "    <tr>\n",
       "      <th>1</th>\n",
       "      <td>WJtFt</td>\n",
       "      <td>0.262778</td>\n",
       "      <td>0.269839</td>\n",
       "      <td>-2.530187</td>\n",
       "      <td>56.069697</td>\n",
       "    </tr>\n",
       "    <tr>\n",
       "      <th>2</th>\n",
       "      <td>ovLUW</td>\n",
       "      <td>0.194587</td>\n",
       "      <td>0.289035</td>\n",
       "      <td>-5.586433</td>\n",
       "      <td>62.871910</td>\n",
       "    </tr>\n",
       "    <tr>\n",
       "      <th>3</th>\n",
       "      <td>q6cA6</td>\n",
       "      <td>2.236060</td>\n",
       "      <td>-0.553760</td>\n",
       "      <td>0.930038</td>\n",
       "      <td>114.572842</td>\n",
       "    </tr>\n",
       "    <tr>\n",
       "      <th>4</th>\n",
       "      <td>WPMUX</td>\n",
       "      <td>-0.515993</td>\n",
       "      <td>1.716266</td>\n",
       "      <td>5.899011</td>\n",
       "      <td>149.600746</td>\n",
       "    </tr>\n",
       "  </tbody>\n",
       "</table>\n",
       "</div>"
      ],
      "text/plain": [
       "      id        f0        f1        f2     product\n",
       "0  fwXo0 -1.146987  0.963328 -0.828965   27.758673\n",
       "1  WJtFt  0.262778  0.269839 -2.530187   56.069697\n",
       "2  ovLUW  0.194587  0.289035 -5.586433   62.871910\n",
       "3  q6cA6  2.236060 -0.553760  0.930038  114.572842\n",
       "4  WPMUX -0.515993  1.716266  5.899011  149.600746"
      ]
     },
     "metadata": {},
     "output_type": "display_data"
    },
    {
     "name": "stdout",
     "output_type": "stream",
     "text": [
      "<class 'pandas.core.frame.DataFrame'>\n",
      "RangeIndex: 100000 entries, 0 to 99999\n",
      "Data columns (total 5 columns):\n",
      " #   Column   Non-Null Count   Dtype  \n",
      "---  ------   --------------   -----  \n",
      " 0   id       100000 non-null  object \n",
      " 1   f0       100000 non-null  float64\n",
      " 2   f1       100000 non-null  float64\n",
      " 3   f2       100000 non-null  float64\n",
      " 4   product  100000 non-null  float64\n",
      "dtypes: float64(4), object(1)\n",
      "memory usage: 3.8+ MB\n"
     ]
    },
    {
     "data": {
      "text/plain": [
       "None"
      ]
     },
     "metadata": {},
     "output_type": "display_data"
    }
   ],
   "source": [
    "# Ознакомление с содержимым датасета\n",
    "for df in df_list:\n",
    "    display(df.head())\n",
    "    display(df.info())"
   ]
  },
  {
   "cell_type": "markdown",
   "metadata": {},
   "source": [
    "Структура всех датасетов одинакова, типы данных соответсвуют значениям."
   ]
  },
  {
   "cell_type": "code",
   "execution_count": 4,
   "metadata": {
    "scrolled": true
   },
   "outputs": [
    {
     "data": {
      "text/plain": [
       "0"
      ]
     },
     "metadata": {},
     "output_type": "display_data"
    },
    {
     "data": {
      "text/plain": [
       "id         0\n",
       "f0         0\n",
       "f1         0\n",
       "f2         0\n",
       "product    0\n",
       "dtype: int64"
      ]
     },
     "metadata": {},
     "output_type": "display_data"
    },
    {
     "data": {
      "text/plain": [
       "0"
      ]
     },
     "metadata": {},
     "output_type": "display_data"
    },
    {
     "data": {
      "text/plain": [
       "id         0\n",
       "f0         0\n",
       "f1         0\n",
       "f2         0\n",
       "product    0\n",
       "dtype: int64"
      ]
     },
     "metadata": {},
     "output_type": "display_data"
    },
    {
     "data": {
      "text/plain": [
       "0"
      ]
     },
     "metadata": {},
     "output_type": "display_data"
    },
    {
     "data": {
      "text/plain": [
       "id         0\n",
       "f0         0\n",
       "f1         0\n",
       "f2         0\n",
       "product    0\n",
       "dtype: int64"
      ]
     },
     "metadata": {},
     "output_type": "display_data"
    }
   ],
   "source": [
    "# Проверка на явные дубликаты и пропущенные значения\n",
    "for df in df_list:\n",
    "    display(df.duplicated().sum())\n",
    "    display(df.isnull().sum())"
   ]
  },
  {
   "cell_type": "markdown",
   "metadata": {},
   "source": [
    "Пропущенные значения и явные дубликаты в датасетах не обнаружены."
   ]
  },
  {
   "cell_type": "code",
   "execution_count": 5,
   "metadata": {
    "scrolled": true
   },
   "outputs": [
    {
     "name": "stdout",
     "output_type": "stream",
     "text": [
      "99990\n",
      "99996\n",
      "99996\n"
     ]
    }
   ],
   "source": [
    "# Проверка на неявные дубликаты, проверка повторяющихся id\n",
    "for df in df_list:\n",
    "    print(len(df['id'].unique()))"
   ]
  },
  {
   "cell_type": "markdown",
   "metadata": {},
   "source": [
    "Есть повторяющиеся id, 18 дубликатов. Так при проверке на явные дубликаты они не проявились, значит дублируютя только значения столбца id. Это странно, так как данные по условию задачи синтезированы. Удалим строки с дубликатами значений id (тем более, что их количество не велико)."
   ]
  },
  {
   "cell_type": "code",
   "execution_count": 6,
   "metadata": {},
   "outputs": [],
   "source": [
    "# Удаление строк с дублирующимся id\n",
    "for i in range(3):\n",
    "    df_list[i] = df_list[i].drop_duplicates(subset=['id']).reset_index(drop=True)"
   ]
  },
  {
   "cell_type": "code",
   "execution_count": 7,
   "metadata": {
    "scrolled": true
   },
   "outputs": [
    {
     "data": {
      "text/html": [
       "<style  type=\"text/css\" >\n",
       "#T_d9ee1_row0_col0,#T_d9ee1_row1_col1,#T_d9ee1_row2_col2,#T_d9ee1_row3_col3{\n",
       "            background-color:  #313695;\n",
       "            color:  #f1f1f1;\n",
       "        }#T_d9ee1_row0_col1,#T_d9ee1_row0_col2,#T_d9ee1_row1_col0,#T_d9ee1_row1_col3{\n",
       "            background-color:  #a50026;\n",
       "            color:  #f1f1f1;\n",
       "        }#T_d9ee1_row0_col3{\n",
       "            background-color:  #fba35c;\n",
       "            color:  #000000;\n",
       "        }#T_d9ee1_row1_col2{\n",
       "            background-color:  #a70226;\n",
       "            color:  #f1f1f1;\n",
       "        }#T_d9ee1_row2_col0{\n",
       "            background-color:  #fdaf62;\n",
       "            color:  #000000;\n",
       "        }#T_d9ee1_row2_col1{\n",
       "            background-color:  #fdb164;\n",
       "            color:  #000000;\n",
       "        }#T_d9ee1_row2_col3{\n",
       "            background-color:  #eaf7e6;\n",
       "            color:  #000000;\n",
       "        }#T_d9ee1_row3_col0{\n",
       "            background-color:  #fee192;\n",
       "            color:  #000000;\n",
       "        }#T_d9ee1_row3_col1{\n",
       "            background-color:  #ec5c3b;\n",
       "            color:  #000000;\n",
       "        }#T_d9ee1_row3_col2{\n",
       "            background-color:  #fffbb9;\n",
       "            color:  #000000;\n",
       "        }</style><table id=\"T_d9ee1_\" ><thead>    <tr>        <th class=\"blank level0\" ></th>        <th class=\"col_heading level0 col0\" >f0</th>        <th class=\"col_heading level0 col1\" >f1</th>        <th class=\"col_heading level0 col2\" >f2</th>        <th class=\"col_heading level0 col3\" >product</th>    </tr></thead><tbody>\n",
       "                <tr>\n",
       "                        <th id=\"T_d9ee1_level0_row0\" class=\"row_heading level0 row0\" >f0</th>\n",
       "                        <td id=\"T_d9ee1_row0_col0\" class=\"data row0 col0\" >1.000000</td>\n",
       "                        <td id=\"T_d9ee1_row0_col1\" class=\"data row0 col1\" >-0.440717</td>\n",
       "                        <td id=\"T_d9ee1_row0_col2\" class=\"data row0 col2\" >-0.003211</td>\n",
       "                        <td id=\"T_d9ee1_row0_col3\" class=\"data row0 col3\" >0.143504</td>\n",
       "            </tr>\n",
       "            <tr>\n",
       "                        <th id=\"T_d9ee1_level0_row1\" class=\"row_heading level0 row1\" >f1</th>\n",
       "                        <td id=\"T_d9ee1_row1_col0\" class=\"data row1 col0\" >-0.440717</td>\n",
       "                        <td id=\"T_d9ee1_row1_col1\" class=\"data row1 col1\" >1.000000</td>\n",
       "                        <td id=\"T_d9ee1_row1_col2\" class=\"data row1 col2\" >0.001764</td>\n",
       "                        <td id=\"T_d9ee1_row1_col3\" class=\"data row1 col3\" >-0.192351</td>\n",
       "            </tr>\n",
       "            <tr>\n",
       "                        <th id=\"T_d9ee1_level0_row2\" class=\"row_heading level0 row2\" >f2</th>\n",
       "                        <td id=\"T_d9ee1_row2_col0\" class=\"data row2 col0\" >-0.003211</td>\n",
       "                        <td id=\"T_d9ee1_row2_col1\" class=\"data row2 col1\" >0.001764</td>\n",
       "                        <td id=\"T_d9ee1_row2_col2\" class=\"data row2 col2\" >1.000000</td>\n",
       "                        <td id=\"T_d9ee1_row2_col3\" class=\"data row2 col3\" >0.483631</td>\n",
       "            </tr>\n",
       "            <tr>\n",
       "                        <th id=\"T_d9ee1_level0_row3\" class=\"row_heading level0 row3\" >product</th>\n",
       "                        <td id=\"T_d9ee1_row3_col0\" class=\"data row3 col0\" >0.143504</td>\n",
       "                        <td id=\"T_d9ee1_row3_col1\" class=\"data row3 col1\" >-0.192351</td>\n",
       "                        <td id=\"T_d9ee1_row3_col2\" class=\"data row3 col2\" >0.483631</td>\n",
       "                        <td id=\"T_d9ee1_row3_col3\" class=\"data row3 col3\" >1.000000</td>\n",
       "            </tr>\n",
       "    </tbody></table>"
      ],
      "text/plain": [
       "<pandas.io.formats.style.Styler at 0x7f820c1942b0>"
      ]
     },
     "metadata": {},
     "output_type": "display_data"
    },
    {
     "data": {
      "text/html": [
       "<style  type=\"text/css\" >\n",
       "#T_15d55_row0_col0,#T_15d55_row1_col1,#T_15d55_row2_col2,#T_15d55_row2_col3,#T_15d55_row3_col2,#T_15d55_row3_col3{\n",
       "            background-color:  #313695;\n",
       "            color:  #f1f1f1;\n",
       "        }#T_15d55_row0_col1{\n",
       "            background-color:  #f16640;\n",
       "            color:  #000000;\n",
       "        }#T_15d55_row0_col2,#T_15d55_row0_col3,#T_15d55_row1_col2,#T_15d55_row3_col0,#T_15d55_row3_col1{\n",
       "            background-color:  #a50026;\n",
       "            color:  #f1f1f1;\n",
       "        }#T_15d55_row1_col0{\n",
       "            background-color:  #f47044;\n",
       "            color:  #000000;\n",
       "        }#T_15d55_row1_col3{\n",
       "            background-color:  #af0926;\n",
       "            color:  #f1f1f1;\n",
       "        }#T_15d55_row2_col0{\n",
       "            background-color:  #b30d26;\n",
       "            color:  #f1f1f1;\n",
       "        }#T_15d55_row2_col1{\n",
       "            background-color:  #a70226;\n",
       "            color:  #f1f1f1;\n",
       "        }</style><table id=\"T_15d55_\" ><thead>    <tr>        <th class=\"blank level0\" ></th>        <th class=\"col_heading level0 col0\" >f0</th>        <th class=\"col_heading level0 col1\" >f1</th>        <th class=\"col_heading level0 col2\" >f2</th>        <th class=\"col_heading level0 col3\" >product</th>    </tr></thead><tbody>\n",
       "                <tr>\n",
       "                        <th id=\"T_15d55_level0_row0\" class=\"row_heading level0 row0\" >f0</th>\n",
       "                        <td id=\"T_15d55_row0_col0\" class=\"data row0 col0\" >1.000000</td>\n",
       "                        <td id=\"T_15d55_row0_col1\" class=\"data row0 col1\" >0.182279</td>\n",
       "                        <td id=\"T_15d55_row0_col2\" class=\"data row0 col2\" >-0.001810</td>\n",
       "                        <td id=\"T_15d55_row0_col3\" class=\"data row0 col3\" >-0.030523</td>\n",
       "            </tr>\n",
       "            <tr>\n",
       "                        <th id=\"T_15d55_level0_row1\" class=\"row_heading level0 row1\" >f1</th>\n",
       "                        <td id=\"T_15d55_row1_col0\" class=\"data row1 col0\" >0.182279</td>\n",
       "                        <td id=\"T_15d55_row1_col1\" class=\"data row1 col1\" >1.000000</td>\n",
       "                        <td id=\"T_15d55_row1_col2\" class=\"data row1 col2\" >-0.002594</td>\n",
       "                        <td id=\"T_15d55_row1_col3\" class=\"data row1 col3\" >-0.010154</td>\n",
       "            </tr>\n",
       "            <tr>\n",
       "                        <th id=\"T_15d55_level0_row2\" class=\"row_heading level0 row2\" >f2</th>\n",
       "                        <td id=\"T_15d55_row2_col0\" class=\"data row2 col0\" >-0.001810</td>\n",
       "                        <td id=\"T_15d55_row2_col1\" class=\"data row2 col1\" >-0.002594</td>\n",
       "                        <td id=\"T_15d55_row2_col2\" class=\"data row2 col2\" >1.000000</td>\n",
       "                        <td id=\"T_15d55_row2_col3\" class=\"data row2 col3\" >0.999397</td>\n",
       "            </tr>\n",
       "            <tr>\n",
       "                        <th id=\"T_15d55_level0_row3\" class=\"row_heading level0 row3\" >product</th>\n",
       "                        <td id=\"T_15d55_row3_col0\" class=\"data row3 col0\" >-0.030523</td>\n",
       "                        <td id=\"T_15d55_row3_col1\" class=\"data row3 col1\" >-0.010154</td>\n",
       "                        <td id=\"T_15d55_row3_col2\" class=\"data row3 col2\" >0.999397</td>\n",
       "                        <td id=\"T_15d55_row3_col3\" class=\"data row3 col3\" >1.000000</td>\n",
       "            </tr>\n",
       "    </tbody></table>"
      ],
      "text/plain": [
       "<pandas.io.formats.style.Styler at 0x7f818572e670>"
      ]
     },
     "metadata": {},
     "output_type": "display_data"
    },
    {
     "data": {
      "text/html": [
       "<style  type=\"text/css\" >\n",
       "#T_2b9e0_row0_col0,#T_2b9e0_row1_col1,#T_2b9e0_row2_col2,#T_2b9e0_row3_col3{\n",
       "            background-color:  #313695;\n",
       "            color:  #f1f1f1;\n",
       "        }#T_2b9e0_row0_col1,#T_2b9e0_row0_col2,#T_2b9e0_row0_col3,#T_2b9e0_row1_col0,#T_2b9e0_row1_col2,#T_2b9e0_row1_col3,#T_2b9e0_row2_col0,#T_2b9e0_row2_col1,#T_2b9e0_row3_col0,#T_2b9e0_row3_col1{\n",
       "            background-color:  #a50026;\n",
       "            color:  #f1f1f1;\n",
       "        }#T_2b9e0_row2_col3,#T_2b9e0_row3_col2{\n",
       "            background-color:  #feefa6;\n",
       "            color:  #000000;\n",
       "        }</style><table id=\"T_2b9e0_\" ><thead>    <tr>        <th class=\"blank level0\" ></th>        <th class=\"col_heading level0 col0\" >f0</th>        <th class=\"col_heading level0 col1\" >f1</th>        <th class=\"col_heading level0 col2\" >f2</th>        <th class=\"col_heading level0 col3\" >product</th>    </tr></thead><tbody>\n",
       "                <tr>\n",
       "                        <th id=\"T_2b9e0_level0_row0\" class=\"row_heading level0 row0\" >f0</th>\n",
       "                        <td id=\"T_2b9e0_row0_col0\" class=\"data row0 col0\" >1.000000</td>\n",
       "                        <td id=\"T_2b9e0_row0_col1\" class=\"data row0 col1\" >0.000506</td>\n",
       "                        <td id=\"T_2b9e0_row0_col2\" class=\"data row0 col2\" >-0.000452</td>\n",
       "                        <td id=\"T_2b9e0_row0_col3\" class=\"data row0 col3\" >-0.001978</td>\n",
       "            </tr>\n",
       "            <tr>\n",
       "                        <th id=\"T_2b9e0_level0_row1\" class=\"row_heading level0 row1\" >f1</th>\n",
       "                        <td id=\"T_2b9e0_row1_col0\" class=\"data row1 col0\" >0.000506</td>\n",
       "                        <td id=\"T_2b9e0_row1_col1\" class=\"data row1 col1\" >1.000000</td>\n",
       "                        <td id=\"T_2b9e0_row1_col2\" class=\"data row1 col2\" >0.000753</td>\n",
       "                        <td id=\"T_2b9e0_row1_col3\" class=\"data row1 col3\" >-0.001055</td>\n",
       "            </tr>\n",
       "            <tr>\n",
       "                        <th id=\"T_2b9e0_level0_row2\" class=\"row_heading level0 row2\" >f2</th>\n",
       "                        <td id=\"T_2b9e0_row2_col0\" class=\"data row2 col0\" >-0.000452</td>\n",
       "                        <td id=\"T_2b9e0_row2_col1\" class=\"data row2 col1\" >0.000753</td>\n",
       "                        <td id=\"T_2b9e0_row2_col2\" class=\"data row2 col2\" >1.000000</td>\n",
       "                        <td id=\"T_2b9e0_row2_col3\" class=\"data row2 col3\" >0.445867</td>\n",
       "            </tr>\n",
       "            <tr>\n",
       "                        <th id=\"T_2b9e0_level0_row3\" class=\"row_heading level0 row3\" >product</th>\n",
       "                        <td id=\"T_2b9e0_row3_col0\" class=\"data row3 col0\" >-0.001978</td>\n",
       "                        <td id=\"T_2b9e0_row3_col1\" class=\"data row3 col1\" >-0.001055</td>\n",
       "                        <td id=\"T_2b9e0_row3_col2\" class=\"data row3 col2\" >0.445867</td>\n",
       "                        <td id=\"T_2b9e0_row3_col3\" class=\"data row3 col3\" >1.000000</td>\n",
       "            </tr>\n",
       "    </tbody></table>"
      ],
      "text/plain": [
       "<pandas.io.formats.style.Styler at 0x7f81857541f0>"
      ]
     },
     "metadata": {},
     "output_type": "display_data"
    }
   ],
   "source": [
    "# Изучение корреляции параметров\n",
    "for df in df_list:\n",
    "    display(df.corr().style.background_gradient(cmap='RdYlBu'))"
   ]
  },
  {
   "cell_type": "markdown",
   "metadata": {},
   "source": [
    "Исходя из полученных данных, можно зафиксировать несколько наблюдений:\n",
    "* Для региона 1, есть корреляция между признаками f2 и product и обратная корреляция f0 и f1.\n",
    "* Для региона 2, есть корреляция между product и f2.\n",
    "* Для региона 3, так же есть корреляция poduct и f2."
   ]
  },
  {
   "cell_type": "code",
   "execution_count": 8,
   "metadata": {},
   "outputs": [
    {
     "data": {
      "image/png": "[encoded data removed]",
      "text/plain": [
       "<Figure size 1080x504 with 1 Axes>"
      ]
     },
     "metadata": {
      "needs_background": "light"
     },
     "output_type": "display_data"
    }
   ],
   "source": [
    "# График распределения запасов объема нефти по регионам\n",
    "plt.title('Распределение запаса объема нефти по регионам')\n",
    "ax=df_0['product'].plot(kind='hist',figsize=(15,7),grid=True, legend=True, histtype='step', linewidth=4, label='Регион 1')\n",
    "ax1=df_1['product'].plot(kind='hist',figsize=(15,7),grid=True, legend=True,histtype='step', linewidth=4, label='Регион 2', ax=ax)\n",
    "df_2['product'].plot(kind='hist',figsize=(15,7),grid=True, legend=True,histtype='step', linewidth=4, label='Регион 3', ax=ax1)\n",
    "plt.xlabel('Распределение данных объема запаса нефти для регионов')\n",
    "plt.ylabel('Объем запаса нефти, тыс.баррелей')\n",
    "plt.show()"
   ]
  },
  {
   "cell_type": "markdown",
   "metadata": {},
   "source": [
    "Библиотеки подключены, данные загружены. Проведена проверка на дубликаты, пропуски и соответствие типов данных. В ходе предобработки из датасетов исключены строки с дублирующимся значением id (так как данные синтезированы, возможно это результат какого-либо сбоя). Изучены корреляции признаков, между признаками нет сильной корреляции, за исключением признака f2 с целевым признаком product, что в совокупности должно обеспечить более высокую точность модели. Так же изучено распределние данных объема запаса нефти для каждого из регионов, как видно на графике, значения для регионов 1 и 3 схожи между собой, а значения для региона 2 сильно отличаются, как это повлияет на исследование, узнаем. Кроме того, график показал, что у целевого признака отсутствуют выбросы. Данные подготовлены для дальйнейшего исследования."
   ]
  },
  {
   "cell_type": "markdown",
   "metadata": {},
   "source": [
    "## Обучение и проверка модели"
   ]
  },
  {
   "cell_type": "code",
   "execution_count": 9,
   "metadata": {},
   "outputs": [],
   "source": [
    "# Функция для обучения по данным для каждого региона\n",
    "def predict(df_region):\n",
    "    # Обозначим целевой признак\n",
    "    features = df_region.drop(['product', 'id'], axis=1)\n",
    "    target = df_region['product']\n",
    "    \n",
    "    # Поделим выборку на обучающую и валидационную в соотношении 75:25\n",
    "    features_train, features_valid, target_train, target_valid = train_test_split(features, target, test_size=0.25, random_state=12345)\n",
    "    \n",
    "    # Инициализация модели Линейной регрессии\n",
    "    model = LinearRegression(normalize=False)\n",
    "    # Обучение модели\n",
    "    model.fit(features_train, target_train)\n",
    "    # Предсказание\n",
    "    predictions = model.predict(features_valid)\n",
    "    # Преобразование в Series\n",
    "    predictions = pd.Series(predictions)\n",
    "    \n",
    "    # Расчет среднеквадратичной ошибки\n",
    "    rmse = (mean_squared_error(predictions, target_valid))**(0.5)\n",
    "    # Расчет среднего значения\n",
    "    mean = sum(predictions) / len(predictions)\n",
    "    \n",
    "    # Вывод Среднеквадратичной ошибки и Среднего значения объема запасов нефти с округлением до двух знаков\n",
    "    print('Среднеквадратичная ошибка (RMSE): {0:.2f}'.format(rmse))\n",
    "    print('Запас объема нефти в среднем по региону: {0:.2f}'.format(mean), 'тысяч бар.\\n')\n",
    "    \n",
    "    # Возвращем предсказани, валидационную выборку, значение RMSE, для сохранения в переменных\n",
    "    return (predictions, target_valid.reset_index(drop=True), rmse)"
   ]
  },
  {
   "cell_type": "code",
   "execution_count": 10,
   "metadata": {
    "scrolled": true
   },
   "outputs": [
    {
     "name": "stdout",
     "output_type": "stream",
     "text": [
      "Регион 1\n",
      "Среднеквадратичная ошибка (RMSE): 37.58\n",
      "Запас объема нефти в среднем по региону: 92.59 тысяч бар.\n",
      "\n",
      "Регион 2\n",
      "Среднеквадратичная ошибка (RMSE): 0.89\n",
      "Запас объема нефти в среднем по региону: 68.73 тысяч бар.\n",
      "\n",
      "Регион 3\n",
      "Среднеквадратичная ошибка (RMSE): 40.03\n",
      "Запас объема нефти в среднем по региону: 94.97 тысяч бар.\n",
      "\n"
     ]
    }
   ],
   "source": [
    "# Переменная-счетчик для нумерации регионов из списка\n",
    "n = 1\n",
    "# Цикл который поочередно передаст каждый регион из списка в функцию\n",
    "for df_region in [df_0, df_1, df_2]:\n",
    "    # Обозначение датаесета из списка\n",
    "    print(f'Регион {n}')\n",
    "    # Обращение к функции\n",
    "    predict(df_region)\n",
    "    # Увеличиваем счетчик\n",
    "    n+=1"
   ]
  },
  {
   "cell_type": "code",
   "execution_count": 11,
   "metadata": {},
   "outputs": [
    {
     "name": "stdout",
     "output_type": "stream",
     "text": [
      "Среднеквадратичная ошибка (RMSE): 37.58\n",
      "Запас объема нефти в среднем по региону: 92.59 тысяч бар.\n",
      "\n",
      "Среднеквадратичная ошибка (RMSE): 0.89\n",
      "Запас объема нефти в среднем по региону: 68.73 тысяч бар.\n",
      "\n",
      "Среднеквадратичная ошибка (RMSE): 40.03\n",
      "Запас объема нефти в среднем по региону: 94.97 тысяч бар.\n",
      "\n"
     ]
    }
   ],
   "source": [
    "# Сохранение переменных полученных при помощи функции\n",
    "pred_0, target_0, rmse_0 = predict(df_0)\n",
    "pred_1, target_1, rmse_1 = predict(df_1)\n",
    "pred_2, target_2, rmse_2 = predict(df_2)"
   ]
  },
  {
   "cell_type": "markdown",
   "metadata": {},
   "source": [
    "* Самое низкое значение среднеквадратичной ошибки у региона номер 2.\n",
    "* Самое высокое значение среднего объема запасов ресурсов у региона номер 3."
   ]
  },
  {
   "cell_type": "markdown",
   "metadata": {},
   "source": [
    "## Подготовка к расчёту прибыли"
   ]
  },
  {
   "cell_type": "markdown",
   "metadata": {},
   "source": [
    "Для подготовки к расчету прибыли, обратимся к условиям поставленной задачи.\n",
    "\n",
    "* При разведке региона исследуют 500 точек, из которых с помощью машинного обучения выбирают 200 лучших для разработки.\n",
    "* Бюджет на разработку скважин в регионе — 10 млрд рублей.\n",
    "* При нынешних ценах один баррель сырья приносит 450 рублей дохода. Доход с каждой единицы продукта составляет 450 тыс. рублей, поскольку объём указан в тысячах баррелей."
   ]
  },
  {
   "cell_type": "code",
   "execution_count": 12,
   "metadata": {},
   "outputs": [
    {
     "name": "stdout",
     "output_type": "stream",
     "text": [
      "Минимальное среднее количество продукта в месторождениях региона, достаточное для разработки: 111.11 тысяч бар.\n"
     ]
    }
   ],
   "source": [
    "# Объявим константы с исходными цифрам из условия задачи\n",
    "BUDGET = 10000000000 # Бюджет\n",
    "PRICE = 450000 #  Доход с каждой единицы продукта\n",
    "BEST_UNIT = 200 # Лучшие скважины для разработки\n",
    "MIN = BUDGET / BEST_UNIT / PRICE # Минимальное среднее количество продука\n",
    "MLRD = 1000000000 # Миллиард для привдения в красивый формат\n",
    "print('Минимальное среднее количество продукта в месторождениях региона, достаточное для разработки: {:.2f} тысяч бар.'.format(MIN))\n"
   ]
  },
  {
   "cell_type": "markdown",
   "metadata": {},
   "source": [
    "Похоже, что ни один из регионов не обладает достаточным объемом запаса продукта, достаточного для разработки."
   ]
  },
  {
   "cell_type": "markdown",
   "metadata": {},
   "source": [
    "## Расчёт прибыли и рисков "
   ]
  },
  {
   "cell_type": "code",
   "execution_count": 13,
   "metadata": {},
   "outputs": [],
   "source": [
    "# Функция для расчета прибыли\n",
    "def revenue(target, probs):\n",
    "    \n",
    "    # Сортировка шахт по убыванию\n",
    "    best_probs = probs.sort_values(ascending=False)\n",
    "    # Срез первых двухста, лучших\n",
    "    selected = target[best_probs.index][:BEST_UNIT]\n",
    "    # Возвращем значение прибыли для среза\n",
    "    return ((PRICE * selected.sum()) - BUDGET) / MLRD"
   ]
  },
  {
   "cell_type": "code",
   "execution_count": 14,
   "metadata": {},
   "outputs": [
    {
     "name": "stdout",
     "output_type": "stream",
     "text": [
      "Предполагаемая прибыль двухста лучших шахт Региона 1: 3.32 млрд. руб.\n",
      "Предполагаемая прибыль двухста лучших шахт Региона 2: 2.42 млрд. руб.\n",
      "Предполагаемая прибыль двухста лучших шахт Региона 3: 2.71 млрд. руб.\n"
     ]
    }
   ],
   "source": [
    "print('Предполагаемая прибыль двухста лучших шахт Региона 1: {:.2f} млрд. руб.'.format(revenue(target_0, pred_0)))\n",
    "print('Предполагаемая прибыль двухста лучших шахт Региона 2: {:.2f} млрд. руб.'.format(revenue(target_1, pred_1)))\n",
    "print('Предполагаемая прибыль двухста лучших шахт Региона 3: {:.2f} млрд. руб.'.format(revenue(target_2, pred_2)))"
   ]
  },
  {
   "cell_type": "markdown",
   "metadata": {},
   "source": [
    "При подготовке к расчету прибыли, все значения из условий к поставленной задаче сохранены в константы. В результате подготовки можно сделать следующие выводы:\n",
    "* Ни один из регионов не обладает минимальным средним количеством продукта, достаточного для разработки. Самое большой объем запасов в регионе номер 3.\n",
    "* При выборе 200 наиболее перспективных скважни наибольшую предполагаемую прибиль показал регион номер 1."
   ]
  },
  {
   "cell_type": "code",
   "execution_count": 15,
   "metadata": {},
   "outputs": [],
   "source": [
    "state = np.random.RandomState(12345)\n",
    "\n",
    "# Значения исходя из условия задачи\n",
    "samples = 1000\n",
    "risk = 0.025\n",
    "units = 500\n",
    "\n",
    "# Функция для применения техники bootstrap\n",
    "def bootstrap (target, predictions):\n",
    "    values = []\n",
    "    #Цикл формирующий выборки\n",
    "    for i in range(samples):\n",
    "        target_subsample = target.reset_index(drop=True).sample(n=units, replace=True, random_state=state)\n",
    "        probs_subsample = predictions[target_subsample.index]\n",
    "        rev = revenue(target_subsample, probs_subsample)\n",
    "        values.append(rev)\n",
    "    values = pd.Series(values)\n",
    "    # Минимальный квантиль исходя из условий\n",
    "    lower = values.quantile(risk)\n",
    "    # Расчет доверительного интервала\n",
    "    interval = (values.quantile(0.025), values.quantile(0.975))\n",
    "    # Расчет средних значений\n",
    "    mean = values.mean()\n",
    "\n",
    "    print(\"Средняя выручка:\", mean)\n",
    "    print(\"Доверительный интервал:\", interval)\n",
    "    # Расчет рисков в процентах\n",
    "    print(\"Риск убытка:\", ((values < 0).mean()*100).round(2),'%')"
   ]
  },
  {
   "cell_type": "code",
   "execution_count": 16,
   "metadata": {
    "scrolled": true
   },
   "outputs": [
    {
     "name": "stdout",
     "output_type": "stream",
     "text": [
      "Регион 1\n",
      "Средняя выручка: 0.42593852691059236\n",
      "Доверительный интервал: (-0.10209009483793655, 0.9479763533583688)\n",
      "Риск убытка: 6.0 %\n"
     ]
    }
   ],
   "source": [
    "# Обращение к функции для Региона 1\n",
    "print('Регион 1')\n",
    "bootstrap(target_0, pred_0)"
   ]
  },
  {
   "cell_type": "code",
   "execution_count": 17,
   "metadata": {},
   "outputs": [
    {
     "name": "stdout",
     "output_type": "stream",
     "text": [
      "Регион 2\n",
      "Средняя выручка: 0.5182594936973248\n",
      "Доверительный интервал: (0.12812323143308443, 0.9536129820669085)\n",
      "Риск убытка: 0.3 %\n"
     ]
    }
   ],
   "source": [
    "# Обращение к функции для Региона 2\n",
    "print('Регион 2')\n",
    "bootstrap(target_1, pred_1)"
   ]
  },
  {
   "cell_type": "code",
   "execution_count": 18,
   "metadata": {},
   "outputs": [
    {
     "name": "stdout",
     "output_type": "stream",
     "text": [
      "Регион 3\n",
      "Средняя выручка: 0.4201940053440501\n",
      "Доверительный интервал: (-0.11585260916001143, 0.9896299398445739)\n",
      "Риск убытка: 6.2 %\n"
     ]
    }
   ],
   "source": [
    "# Обращение к функции для Региона 3\n",
    "print('Регион 3')\n",
    "bootstrap(target_2, pred_2)"
   ]
  },
  {
   "cell_type": "markdown",
   "metadata": {},
   "source": [
    "# Вывод"
   ]
  },
  {
   "cell_type": "markdown",
   "metadata": {},
   "source": [
    "* В ходе проведения исследования, данные были загружены, предопработаны и изучены. \n",
    "* После чего данные были разделены на обучающую и валидационную выборку в соотношение 75:25, обучены и проверены. В следствии чего были получены значения запасов объемов нефти для каждого региона и получены значения возможной среднеквадратичной ошибки. В результате, самым потенциально перспективным регионом по объему запасов оказался регион номер 3, по региону 2 самое минимальное значение среднеквадратичной ошибки. \n",
    "* Далее была произведена подготовка к расчету прибыли и рисков в ходе которой выяснилось что, минимальное среднее количество продукта в месторождениях региона, достаточное для разработки: 111.11 тысяч бар. И ни один из регионов не обладает таким объемом запасов. \n",
    "* Итоговым этапом исследования, стал расчет прибыли и рисков, в ходе которого произведен расчет самого потенциально прибыльного региона, по 200 лучшим скважинам, им оказался регион номер 1. \n",
    "* Далее при помощи технологии bootstrap произведен расчет средней выручки, доверительного интервала и риска убытков. Так как в задаче есть четкое условие, что вероятность убытков не должна превышать 2,5%, под этот критерий попадает только регион номер 2, который кроме того имеет и самую высокую среднюю выручку.\n",
    "\n",
    "По итогу проведенного исследования, самым подходящим под условия поставленной задачи является регион номер 2.\n"
   ]
  }
 ],
 "metadata": {
  "ExecuteTimeLog": [
   {
    "duration": 1564,
    "start_time": "2022-12-27T20:32:22.171Z"
   },
   {
    "duration": 1835,
    "start_time": "2022-12-27T20:32:27.013Z"
   },
   {
    "duration": 97,
    "start_time": "2022-12-27T20:35:28.578Z"
   },
   {
    "duration": 121,
    "start_time": "2022-12-27T20:35:40.378Z"
   },
   {
    "duration": 139,
    "start_time": "2022-12-27T20:36:04.153Z"
   },
   {
    "duration": 137,
    "start_time": "2022-12-27T20:36:38.475Z"
   },
   {
    "duration": 2,
    "start_time": "2022-12-27T20:43:25.326Z"
   },
   {
    "duration": 3,
    "start_time": "2022-12-27T20:43:29.683Z"
   },
   {
    "duration": 24,
    "start_time": "2022-12-27T20:43:45.915Z"
   },
   {
    "duration": 54,
    "start_time": "2022-12-27T20:44:40.372Z"
   },
   {
    "duration": 11,
    "start_time": "2022-12-27T20:48:27.741Z"
   },
   {
    "duration": 143,
    "start_time": "2022-12-27T20:48:38.757Z"
   },
   {
    "duration": 3,
    "start_time": "2022-12-28T22:15:40.113Z"
   },
   {
    "duration": 741,
    "start_time": "2022-12-28T22:15:40.945Z"
   },
   {
    "duration": 72,
    "start_time": "2022-12-28T22:15:43.437Z"
   },
   {
    "duration": 156,
    "start_time": "2022-12-28T22:15:51.952Z"
   },
   {
    "duration": 49,
    "start_time": "2022-12-28T22:17:37.066Z"
   },
   {
    "duration": 97,
    "start_time": "2022-12-28T22:21:01.018Z"
   },
   {
    "duration": 1211,
    "start_time": "2022-12-28T22:21:03.553Z"
   },
   {
    "duration": 54,
    "start_time": "2022-12-28T22:21:36.828Z"
   },
   {
    "duration": 3,
    "start_time": "2022-12-28T22:24:27.314Z"
   },
   {
    "duration": 454,
    "start_time": "2022-12-28T22:24:29.042Z"
   },
   {
    "duration": 57,
    "start_time": "2022-12-28T22:24:29.742Z"
   },
   {
    "duration": 159,
    "start_time": "2022-12-28T22:24:33.090Z"
   },
   {
    "duration": 51,
    "start_time": "2022-12-28T22:24:35.211Z"
   },
   {
    "duration": 85,
    "start_time": "2022-12-28T22:30:25.346Z"
   },
   {
    "duration": 13,
    "start_time": "2022-12-28T22:34:26.597Z"
   },
   {
    "duration": 60,
    "start_time": "2022-12-28T22:36:07.950Z"
   },
   {
    "duration": 65,
    "start_time": "2022-12-28T22:36:23.893Z"
   },
   {
    "duration": 68,
    "start_time": "2022-12-28T22:38:10.541Z"
   },
   {
    "duration": 61,
    "start_time": "2022-12-28T22:40:41.555Z"
   },
   {
    "duration": 338,
    "start_time": "2022-12-28T22:54:35.305Z"
   },
   {
    "duration": 282,
    "start_time": "2022-12-28T22:55:00.995Z"
   },
   {
    "duration": 279,
    "start_time": "2022-12-28T22:55:55.066Z"
   },
   {
    "duration": 309,
    "start_time": "2022-12-28T22:56:59.482Z"
   },
   {
    "duration": 410,
    "start_time": "2022-12-28T22:57:52.296Z"
   },
   {
    "duration": 267,
    "start_time": "2022-12-28T22:58:58.484Z"
   },
   {
    "duration": 275,
    "start_time": "2022-12-28T22:59:13.291Z"
   },
   {
    "duration": 271,
    "start_time": "2022-12-28T22:59:42.341Z"
   },
   {
    "duration": 298,
    "start_time": "2022-12-28T22:59:52.580Z"
   },
   {
    "duration": 290,
    "start_time": "2022-12-28T23:00:21.891Z"
   },
   {
    "duration": 306,
    "start_time": "2022-12-28T23:13:00.078Z"
   },
   {
    "duration": 289,
    "start_time": "2022-12-28T23:13:09.901Z"
   },
   {
    "duration": 275,
    "start_time": "2022-12-28T23:13:37.764Z"
   },
   {
    "duration": 5,
    "start_time": "2022-12-28T23:43:46.349Z"
   },
   {
    "duration": 26,
    "start_time": "2022-12-28T23:45:23.812Z"
   },
   {
    "duration": 37,
    "start_time": "2022-12-28T23:45:37.109Z"
   },
   {
    "duration": 5,
    "start_time": "2022-12-28T23:46:50.461Z"
   },
   {
    "duration": 68,
    "start_time": "2022-12-28T23:46:51.974Z"
   },
   {
    "duration": 43,
    "start_time": "2022-12-28T23:47:17.480Z"
   },
   {
    "duration": 11,
    "start_time": "2022-12-28T23:47:42.501Z"
   },
   {
    "duration": 12,
    "start_time": "2022-12-28T23:47:59.654Z"
   },
   {
    "duration": 1304,
    "start_time": "2022-12-28T23:48:09.541Z"
   },
   {
    "duration": 371,
    "start_time": "2022-12-28T23:48:10.847Z"
   },
   {
    "duration": 69,
    "start_time": "2022-12-28T23:48:11.220Z"
   },
   {
    "duration": 199,
    "start_time": "2022-12-28T23:48:11.291Z"
   },
   {
    "duration": 57,
    "start_time": "2022-12-28T23:48:11.492Z"
   },
   {
    "duration": 162,
    "start_time": "2022-12-28T23:48:11.551Z"
   },
   {
    "duration": 0,
    "start_time": "2022-12-28T23:48:11.714Z"
   },
   {
    "duration": 0,
    "start_time": "2022-12-28T23:48:11.715Z"
   },
   {
    "duration": 0,
    "start_time": "2022-12-28T23:48:11.726Z"
   },
   {
    "duration": 0,
    "start_time": "2022-12-28T23:48:11.727Z"
   },
   {
    "duration": 80,
    "start_time": "2022-12-28T23:50:05.269Z"
   },
   {
    "duration": 102,
    "start_time": "2022-12-28T23:50:15.245Z"
   },
   {
    "duration": 284,
    "start_time": "2022-12-28T23:50:19.013Z"
   },
   {
    "duration": 4,
    "start_time": "2022-12-28T23:50:22.917Z"
   },
   {
    "duration": 79,
    "start_time": "2022-12-28T23:50:25.469Z"
   },
   {
    "duration": 5,
    "start_time": "2022-12-28T23:51:03.838Z"
   },
   {
    "duration": 397,
    "start_time": "2022-12-28T23:51:05.655Z"
   },
   {
    "duration": 14,
    "start_time": "2022-12-28T23:53:30.158Z"
   },
   {
    "duration": 1355,
    "start_time": "2022-12-28T23:53:38.014Z"
   },
   {
    "duration": 392,
    "start_time": "2022-12-28T23:53:39.371Z"
   },
   {
    "duration": 89,
    "start_time": "2022-12-28T23:53:39.765Z"
   },
   {
    "duration": 182,
    "start_time": "2022-12-28T23:53:39.856Z"
   },
   {
    "duration": 43,
    "start_time": "2022-12-28T23:53:40.040Z"
   },
   {
    "duration": 100,
    "start_time": "2022-12-28T23:53:40.084Z"
   },
   {
    "duration": 101,
    "start_time": "2022-12-28T23:53:40.186Z"
   },
   {
    "duration": 287,
    "start_time": "2022-12-28T23:53:40.289Z"
   },
   {
    "duration": 5,
    "start_time": "2022-12-28T23:53:40.577Z"
   },
   {
    "duration": 460,
    "start_time": "2022-12-28T23:53:40.584Z"
   },
   {
    "duration": 1340,
    "start_time": "2022-12-28T23:54:02.455Z"
   },
   {
    "duration": 390,
    "start_time": "2022-12-28T23:54:03.796Z"
   },
   {
    "duration": 74,
    "start_time": "2022-12-28T23:54:04.187Z"
   },
   {
    "duration": 176,
    "start_time": "2022-12-28T23:54:04.262Z"
   },
   {
    "duration": 42,
    "start_time": "2022-12-28T23:54:04.441Z"
   },
   {
    "duration": 109,
    "start_time": "2022-12-28T23:54:04.485Z"
   },
   {
    "duration": 96,
    "start_time": "2022-12-28T23:54:04.595Z"
   },
   {
    "duration": 301,
    "start_time": "2022-12-28T23:54:04.693Z"
   },
   {
    "duration": 5,
    "start_time": "2022-12-28T23:54:04.995Z"
   },
   {
    "duration": 165,
    "start_time": "2022-12-28T23:54:05.002Z"
   },
   {
    "duration": 105,
    "start_time": "2022-12-28T23:54:35.436Z"
   },
   {
    "duration": 5,
    "start_time": "2022-12-28T23:54:42.590Z"
   },
   {
    "duration": 60,
    "start_time": "2022-12-28T23:54:45.457Z"
   },
   {
    "duration": 65,
    "start_time": "2022-12-28T23:55:28.994Z"
   },
   {
    "duration": 91,
    "start_time": "2022-12-28T23:55:47.262Z"
   },
   {
    "duration": 95,
    "start_time": "2022-12-28T23:55:58.320Z"
   },
   {
    "duration": 76,
    "start_time": "2022-12-29T00:05:42.857Z"
   },
   {
    "duration": 4,
    "start_time": "2022-12-29T00:05:48.344Z"
   },
   {
    "duration": 54,
    "start_time": "2022-12-29T00:05:51.041Z"
   },
   {
    "duration": 66,
    "start_time": "2022-12-29T00:15:39.402Z"
   },
   {
    "duration": 56,
    "start_time": "2022-12-29T00:15:47.460Z"
   },
   {
    "duration": 72,
    "start_time": "2022-12-29T00:16:23.843Z"
   },
   {
    "duration": 75,
    "start_time": "2022-12-29T00:16:43.371Z"
   },
   {
    "duration": 57,
    "start_time": "2022-12-29T00:17:00.037Z"
   },
   {
    "duration": 69,
    "start_time": "2022-12-29T00:17:48.916Z"
   },
   {
    "duration": 1311,
    "start_time": "2022-12-29T00:21:46.724Z"
   },
   {
    "duration": 354,
    "start_time": "2022-12-29T00:21:48.037Z"
   },
   {
    "duration": 65,
    "start_time": "2022-12-29T00:21:48.393Z"
   },
   {
    "duration": 172,
    "start_time": "2022-12-29T00:21:48.460Z"
   },
   {
    "duration": 40,
    "start_time": "2022-12-29T00:21:48.633Z"
   },
   {
    "duration": 100,
    "start_time": "2022-12-29T00:21:48.675Z"
   },
   {
    "duration": 112,
    "start_time": "2022-12-29T00:21:48.776Z"
   },
   {
    "duration": 0,
    "start_time": "2022-12-29T00:21:48.890Z"
   },
   {
    "duration": 0,
    "start_time": "2022-12-29T00:21:48.891Z"
   },
   {
    "duration": 0,
    "start_time": "2022-12-29T00:21:48.892Z"
   },
   {
    "duration": 0,
    "start_time": "2022-12-29T00:21:48.893Z"
   },
   {
    "duration": 45,
    "start_time": "2022-12-29T00:22:16.758Z"
   },
   {
    "duration": 92,
    "start_time": "2022-12-29T00:22:28.741Z"
   },
   {
    "duration": 281,
    "start_time": "2022-12-29T00:22:33.036Z"
   },
   {
    "duration": 5,
    "start_time": "2022-12-29T00:22:36.420Z"
   },
   {
    "duration": 63,
    "start_time": "2022-12-29T00:22:39.579Z"
   },
   {
    "duration": 45,
    "start_time": "2022-12-29T00:23:20.095Z"
   },
   {
    "duration": 54,
    "start_time": "2022-12-29T00:23:47.373Z"
   },
   {
    "duration": 382,
    "start_time": "2022-12-29T00:24:27.862Z"
   },
   {
    "duration": 1325,
    "start_time": "2022-12-29T00:25:01.791Z"
   },
   {
    "duration": 357,
    "start_time": "2022-12-29T00:25:03.118Z"
   },
   {
    "duration": 66,
    "start_time": "2022-12-29T00:25:03.477Z"
   },
   {
    "duration": 150,
    "start_time": "2022-12-29T00:25:03.545Z"
   },
   {
    "duration": 53,
    "start_time": "2022-12-29T00:25:03.697Z"
   },
   {
    "duration": 89,
    "start_time": "2022-12-29T00:25:03.752Z"
   },
   {
    "duration": 97,
    "start_time": "2022-12-29T00:25:03.843Z"
   },
   {
    "duration": 273,
    "start_time": "2022-12-29T00:25:03.942Z"
   },
   {
    "duration": 9,
    "start_time": "2022-12-29T00:25:04.217Z"
   },
   {
    "duration": 406,
    "start_time": "2022-12-29T00:25:04.228Z"
   },
   {
    "duration": 389,
    "start_time": "2022-12-29T00:26:02.150Z"
   },
   {
    "duration": 432,
    "start_time": "2022-12-29T00:26:16.406Z"
   },
   {
    "duration": 436,
    "start_time": "2022-12-29T00:36:39.497Z"
   },
   {
    "duration": 5,
    "start_time": "2022-12-29T00:36:42.521Z"
   },
   {
    "duration": 394,
    "start_time": "2022-12-29T00:36:44.849Z"
   },
   {
    "duration": 341,
    "start_time": "2022-12-29T00:36:57.297Z"
   },
   {
    "duration": 80,
    "start_time": "2022-12-29T00:37:28.705Z"
   },
   {
    "duration": 7,
    "start_time": "2022-12-29T00:37:50.385Z"
   },
   {
    "duration": 78,
    "start_time": "2022-12-29T00:38:11.121Z"
   },
   {
    "duration": 5,
    "start_time": "2022-12-29T00:38:20.282Z"
   },
   {
    "duration": 395,
    "start_time": "2022-12-29T00:38:23.042Z"
   },
   {
    "duration": 423,
    "start_time": "2022-12-29T00:40:43.315Z"
   },
   {
    "duration": 6,
    "start_time": "2022-12-29T00:44:48.996Z"
   },
   {
    "duration": 392,
    "start_time": "2022-12-29T00:44:51.644Z"
   },
   {
    "duration": 367,
    "start_time": "2022-12-29T00:46:37.572Z"
   },
   {
    "duration": 345,
    "start_time": "2022-12-29T00:46:44.893Z"
   },
   {
    "duration": 143,
    "start_time": "2022-12-29T00:49:02.580Z"
   },
   {
    "duration": 5,
    "start_time": "2022-12-29T00:56:17.126Z"
   },
   {
    "duration": 20,
    "start_time": "2022-12-29T00:56:20.223Z"
   },
   {
    "duration": 4,
    "start_time": "2022-12-29T00:56:55.847Z"
   },
   {
    "duration": 422,
    "start_time": "2022-12-29T00:57:01.920Z"
   },
   {
    "duration": 57,
    "start_time": "2022-12-29T00:57:05.839Z"
   },
   {
    "duration": 58,
    "start_time": "2022-12-29T00:58:59.272Z"
   },
   {
    "duration": 322,
    "start_time": "2022-12-29T00:59:18.816Z"
   },
   {
    "duration": 360,
    "start_time": "2022-12-29T01:02:37.072Z"
   },
   {
    "duration": 312,
    "start_time": "2022-12-29T01:02:43.721Z"
   },
   {
    "duration": 353,
    "start_time": "2022-12-29T01:02:56.674Z"
   },
   {
    "duration": 1257,
    "start_time": "2022-12-29T01:05:04.957Z"
   },
   {
    "duration": 345,
    "start_time": "2022-12-29T01:05:06.215Z"
   },
   {
    "duration": 72,
    "start_time": "2022-12-29T01:05:06.562Z"
   },
   {
    "duration": 144,
    "start_time": "2022-12-29T01:05:06.636Z"
   },
   {
    "duration": 57,
    "start_time": "2022-12-29T01:05:06.782Z"
   },
   {
    "duration": 85,
    "start_time": "2022-12-29T01:05:06.841Z"
   },
   {
    "duration": 84,
    "start_time": "2022-12-29T01:05:06.928Z"
   },
   {
    "duration": 295,
    "start_time": "2022-12-29T01:05:07.013Z"
   },
   {
    "duration": 5,
    "start_time": "2022-12-29T01:05:07.310Z"
   },
   {
    "duration": 411,
    "start_time": "2022-12-29T01:05:07.326Z"
   },
   {
    "duration": 506,
    "start_time": "2022-12-29T01:05:07.739Z"
   },
   {
    "duration": 401,
    "start_time": "2022-12-29T01:06:58.932Z"
   },
   {
    "duration": 362,
    "start_time": "2022-12-29T01:07:03.268Z"
   },
   {
    "duration": 407,
    "start_time": "2022-12-29T01:16:16.130Z"
   },
   {
    "duration": 48,
    "start_time": "2022-12-29T01:16:52.404Z"
   },
   {
    "duration": 253,
    "start_time": "2022-12-29T01:17:11.690Z"
   },
   {
    "duration": 4,
    "start_time": "2022-12-29T01:24:44.397Z"
   },
   {
    "duration": 4,
    "start_time": "2022-12-29T01:29:06.359Z"
   },
   {
    "duration": 5,
    "start_time": "2022-12-29T01:31:40.151Z"
   },
   {
    "duration": 420,
    "start_time": "2022-12-29T01:31:42.519Z"
   },
   {
    "duration": 5,
    "start_time": "2022-12-29T01:32:00.664Z"
   },
   {
    "duration": 380,
    "start_time": "2022-12-29T01:32:02.359Z"
   },
   {
    "duration": 92,
    "start_time": "2022-12-29T01:32:57.552Z"
   },
   {
    "duration": 3,
    "start_time": "2022-12-29T01:33:04.968Z"
   },
   {
    "duration": 4,
    "start_time": "2022-12-29T01:33:54.792Z"
   },
   {
    "duration": 3,
    "start_time": "2022-12-29T01:45:35.172Z"
   },
   {
    "duration": 110,
    "start_time": "2022-12-29T01:46:35.267Z"
   },
   {
    "duration": 4,
    "start_time": "2022-12-29T01:46:43.019Z"
   },
   {
    "duration": 5,
    "start_time": "2022-12-29T01:46:45.491Z"
   },
   {
    "duration": 10,
    "start_time": "2022-12-29T01:46:47.180Z"
   },
   {
    "duration": 4,
    "start_time": "2022-12-29T01:48:19.771Z"
   },
   {
    "duration": 10,
    "start_time": "2022-12-29T01:48:22.068Z"
   },
   {
    "duration": 3,
    "start_time": "2022-12-29T01:50:02.253Z"
   },
   {
    "duration": 9,
    "start_time": "2022-12-29T01:50:04.366Z"
   },
   {
    "duration": 17,
    "start_time": "2022-12-29T01:54:25.486Z"
   },
   {
    "duration": 10,
    "start_time": "2022-12-29T01:54:53.016Z"
   },
   {
    "duration": 74,
    "start_time": "2022-12-29T01:55:14.358Z"
   },
   {
    "duration": 14,
    "start_time": "2022-12-29T01:55:26.527Z"
   },
   {
    "duration": 8,
    "start_time": "2022-12-29T01:55:54.563Z"
   },
   {
    "duration": 25,
    "start_time": "2022-12-29T01:56:31.575Z"
   },
   {
    "duration": 78,
    "start_time": "2022-12-29T01:58:22.055Z"
   },
   {
    "duration": 35,
    "start_time": "2022-12-29T01:58:34.602Z"
   },
   {
    "duration": 407,
    "start_time": "2022-12-29T01:58:59.225Z"
   },
   {
    "duration": 9,
    "start_time": "2022-12-29T02:00:58.345Z"
   },
   {
    "duration": 389,
    "start_time": "2022-12-29T02:01:04.544Z"
   },
   {
    "duration": 17,
    "start_time": "2022-12-29T02:01:09.065Z"
   },
   {
    "duration": 3,
    "start_time": "2022-12-29T02:07:21.996Z"
   },
   {
    "duration": 12,
    "start_time": "2022-12-29T02:07:23.867Z"
   },
   {
    "duration": 3,
    "start_time": "2022-12-29T02:08:04.433Z"
   },
   {
    "duration": 16,
    "start_time": "2022-12-29T02:08:06.123Z"
   },
   {
    "duration": 3,
    "start_time": "2022-12-29T02:08:46.385Z"
   },
   {
    "duration": 17,
    "start_time": "2022-12-29T02:08:47.819Z"
   },
   {
    "duration": 4,
    "start_time": "2022-12-29T02:10:45.377Z"
   },
   {
    "duration": 17,
    "start_time": "2022-12-29T02:10:46.508Z"
   },
   {
    "duration": 1203,
    "start_time": "2022-12-29T02:11:08.464Z"
   },
   {
    "duration": 332,
    "start_time": "2022-12-29T02:11:09.669Z"
   },
   {
    "duration": 59,
    "start_time": "2022-12-29T02:11:10.002Z"
   },
   {
    "duration": 144,
    "start_time": "2022-12-29T02:11:10.063Z"
   },
   {
    "duration": 46,
    "start_time": "2022-12-29T02:11:10.208Z"
   },
   {
    "duration": 79,
    "start_time": "2022-12-29T02:11:10.256Z"
   },
   {
    "duration": 91,
    "start_time": "2022-12-29T02:11:10.336Z"
   },
   {
    "duration": 251,
    "start_time": "2022-12-29T02:11:10.429Z"
   },
   {
    "duration": 6,
    "start_time": "2022-12-29T02:11:10.681Z"
   },
   {
    "duration": 450,
    "start_time": "2022-12-29T02:11:10.689Z"
   },
   {
    "duration": 602,
    "start_time": "2022-12-29T02:11:11.142Z"
   },
   {
    "duration": 264,
    "start_time": "2022-12-29T02:11:11.745Z"
   },
   {
    "duration": 0,
    "start_time": "2022-12-29T02:11:12.010Z"
   },
   {
    "duration": 0,
    "start_time": "2022-12-29T02:11:12.011Z"
   },
   {
    "duration": 3,
    "start_time": "2022-12-29T02:11:32.268Z"
   },
   {
    "duration": 3,
    "start_time": "2022-12-29T02:11:35.970Z"
   },
   {
    "duration": 16,
    "start_time": "2022-12-29T02:11:38.393Z"
   },
   {
    "duration": 4,
    "start_time": "2022-12-29T02:33:32.573Z"
   },
   {
    "duration": 13,
    "start_time": "2022-12-29T02:34:14.292Z"
   },
   {
    "duration": 4,
    "start_time": "2022-12-29T02:35:31.254Z"
   },
   {
    "duration": 5,
    "start_time": "2022-12-29T02:35:38.237Z"
   },
   {
    "duration": 12,
    "start_time": "2022-12-29T02:35:40.742Z"
   },
   {
    "duration": 5,
    "start_time": "2022-12-29T02:38:42.390Z"
   },
   {
    "duration": 6,
    "start_time": "2022-12-29T02:38:47.928Z"
   },
   {
    "duration": 13,
    "start_time": "2022-12-29T02:38:49.845Z"
   },
   {
    "duration": 5,
    "start_time": "2022-12-29T02:41:15.263Z"
   },
   {
    "duration": 13,
    "start_time": "2022-12-29T02:41:17.775Z"
   },
   {
    "duration": 5,
    "start_time": "2022-12-29T02:42:53.704Z"
   },
   {
    "duration": 1375,
    "start_time": "2022-12-29T02:42:54.263Z"
   },
   {
    "duration": 5,
    "start_time": "2022-12-29T02:46:44.608Z"
   },
   {
    "duration": 1331,
    "start_time": "2022-12-29T02:46:45.193Z"
   },
   {
    "duration": 1360,
    "start_time": "2022-12-29T02:50:32.154Z"
   },
   {
    "duration": 1415,
    "start_time": "2022-12-29T02:50:48.777Z"
   },
   {
    "duration": 1338,
    "start_time": "2022-12-29T02:51:05.234Z"
   },
   {
    "duration": 1298,
    "start_time": "2022-12-29T02:52:37.603Z"
   },
   {
    "duration": 79,
    "start_time": "2022-12-29T02:53:41.731Z"
   },
   {
    "duration": 3,
    "start_time": "2022-12-29T02:53:57.867Z"
   },
   {
    "duration": 3,
    "start_time": "2022-12-29T02:54:02.411Z"
   },
   {
    "duration": 71,
    "start_time": "2022-12-29T02:54:13.923Z"
   },
   {
    "duration": 1328,
    "start_time": "2022-12-29T02:54:22.555Z"
   },
   {
    "duration": 95,
    "start_time": "2022-12-29T03:01:39.292Z"
   },
   {
    "duration": 5,
    "start_time": "2022-12-29T03:02:41.157Z"
   },
   {
    "duration": 10,
    "start_time": "2022-12-29T03:02:52.351Z"
   },
   {
    "duration": 13,
    "start_time": "2022-12-29T03:04:04.335Z"
   },
   {
    "duration": 4,
    "start_time": "2022-12-29T03:04:48.453Z"
   },
   {
    "duration": 13,
    "start_time": "2022-12-29T03:04:52.311Z"
   },
   {
    "duration": 1329,
    "start_time": "2022-12-29T03:06:12.791Z"
   },
   {
    "duration": 3,
    "start_time": "2022-12-29T03:06:49.727Z"
   },
   {
    "duration": 4,
    "start_time": "2022-12-29T03:06:58.175Z"
   },
   {
    "duration": 1331,
    "start_time": "2022-12-29T03:06:58.816Z"
   },
   {
    "duration": 5,
    "start_time": "2022-12-29T03:11:19.143Z"
   },
   {
    "duration": 1393,
    "start_time": "2022-12-29T03:11:20.488Z"
   },
   {
    "duration": 5,
    "start_time": "2022-12-29T03:12:49.463Z"
   },
   {
    "duration": 1351,
    "start_time": "2022-12-29T03:12:50.625Z"
   },
   {
    "duration": 4,
    "start_time": "2022-12-29T03:13:12.410Z"
   },
   {
    "duration": 3978,
    "start_time": "2022-12-29T03:13:13.061Z"
   },
   {
    "duration": 5,
    "start_time": "2022-12-29T03:15:13.960Z"
   },
   {
    "duration": 5,
    "start_time": "2022-12-29T03:15:32.376Z"
   },
   {
    "duration": 6,
    "start_time": "2022-12-29T03:16:02.192Z"
   },
   {
    "duration": 5,
    "start_time": "2022-12-29T03:18:58.442Z"
   },
   {
    "duration": 5,
    "start_time": "2022-12-29T03:20:33.907Z"
   },
   {
    "duration": 3,
    "start_time": "2022-12-29T03:21:06.227Z"
   },
   {
    "duration": 1303,
    "start_time": "2022-12-29T03:21:12.251Z"
   },
   {
    "duration": 1325,
    "start_time": "2022-12-29T03:22:46.660Z"
   },
   {
    "duration": 1265,
    "start_time": "2022-12-29T03:23:00.809Z"
   },
   {
    "duration": 330,
    "start_time": "2022-12-29T03:23:02.076Z"
   },
   {
    "duration": 63,
    "start_time": "2022-12-29T03:23:02.408Z"
   },
   {
    "duration": 160,
    "start_time": "2022-12-29T03:23:02.473Z"
   },
   {
    "duration": 34,
    "start_time": "2022-12-29T03:23:02.635Z"
   },
   {
    "duration": 86,
    "start_time": "2022-12-29T03:23:02.671Z"
   },
   {
    "duration": 83,
    "start_time": "2022-12-29T03:23:02.759Z"
   },
   {
    "duration": 257,
    "start_time": "2022-12-29T03:23:02.844Z"
   },
   {
    "duration": 4,
    "start_time": "2022-12-29T03:23:03.103Z"
   },
   {
    "duration": 418,
    "start_time": "2022-12-29T03:23:03.109Z"
   },
   {
    "duration": 409,
    "start_time": "2022-12-29T03:23:03.529Z"
   },
   {
    "duration": 87,
    "start_time": "2022-12-29T03:23:03.940Z"
   },
   {
    "duration": 3,
    "start_time": "2022-12-29T03:23:04.029Z"
   },
   {
    "duration": 110,
    "start_time": "2022-12-29T03:23:04.034Z"
   },
   {
    "duration": 5,
    "start_time": "2022-12-29T03:23:04.145Z"
   },
   {
    "duration": 1336,
    "start_time": "2022-12-29T03:23:04.151Z"
   },
   {
    "duration": 5,
    "start_time": "2022-12-29T03:23:43.970Z"
   },
   {
    "duration": 1343,
    "start_time": "2022-12-29T03:23:44.675Z"
   },
   {
    "duration": 5,
    "start_time": "2022-12-29T03:24:01.434Z"
   },
   {
    "duration": 1321,
    "start_time": "2022-12-29T03:24:02.180Z"
   },
   {
    "duration": 1338,
    "start_time": "2022-12-29T03:24:25.724Z"
   },
   {
    "duration": 6,
    "start_time": "2022-12-29T03:24:30.434Z"
   },
   {
    "duration": 1309,
    "start_time": "2022-12-29T03:24:32.852Z"
   },
   {
    "duration": 3938,
    "start_time": "2022-12-29T03:25:07.452Z"
   },
   {
    "duration": 6,
    "start_time": "2022-12-29T03:27:00.987Z"
   },
   {
    "duration": 3957,
    "start_time": "2022-12-29T03:27:03.045Z"
   },
   {
    "duration": 1321,
    "start_time": "2022-12-29T03:27:20.533Z"
   },
   {
    "duration": 1279,
    "start_time": "2022-12-29T03:28:20.061Z"
   },
   {
    "duration": 5,
    "start_time": "2022-12-29T03:28:29.628Z"
   },
   {
    "duration": 1311,
    "start_time": "2022-12-29T03:28:31.421Z"
   },
   {
    "duration": 5,
    "start_time": "2022-12-29T03:29:04.852Z"
   },
   {
    "duration": 1298,
    "start_time": "2022-12-29T03:29:06.902Z"
   },
   {
    "duration": 5,
    "start_time": "2022-12-29T03:30:03.260Z"
   },
   {
    "duration": 1349,
    "start_time": "2022-12-29T03:30:04.830Z"
   },
   {
    "duration": 5,
    "start_time": "2022-12-29T03:32:14.101Z"
   },
   {
    "duration": 98,
    "start_time": "2022-12-29T03:32:19.554Z"
   },
   {
    "duration": 5,
    "start_time": "2022-12-29T03:32:32.597Z"
   },
   {
    "duration": 12,
    "start_time": "2022-12-29T03:32:33.839Z"
   },
   {
    "duration": 5,
    "start_time": "2022-12-29T03:32:45.581Z"
   },
   {
    "duration": 12,
    "start_time": "2022-12-29T03:32:46.167Z"
   },
   {
    "duration": 6,
    "start_time": "2022-12-29T03:33:02.708Z"
   },
   {
    "duration": 1329,
    "start_time": "2022-12-29T03:33:03.295Z"
   },
   {
    "duration": 6,
    "start_time": "2022-12-29T03:33:54.029Z"
   },
   {
    "duration": 1300,
    "start_time": "2022-12-29T03:33:54.527Z"
   },
   {
    "duration": 1282,
    "start_time": "2022-12-29T03:34:03.431Z"
   },
   {
    "duration": 5,
    "start_time": "2022-12-29T03:34:35.925Z"
   },
   {
    "duration": 1307,
    "start_time": "2022-12-29T03:34:36.770Z"
   },
   {
    "duration": 5,
    "start_time": "2022-12-29T03:35:16.798Z"
   },
   {
    "duration": 1348,
    "start_time": "2022-12-29T03:35:18.745Z"
   },
   {
    "duration": 3,
    "start_time": "2022-12-29T03:36:05.725Z"
   },
   {
    "duration": 5,
    "start_time": "2022-12-29T03:36:09.454Z"
   },
   {
    "duration": 1362,
    "start_time": "2022-12-29T03:36:10.905Z"
   },
   {
    "duration": 4,
    "start_time": "2022-12-29T03:36:29.471Z"
   },
   {
    "duration": 1291,
    "start_time": "2022-12-29T03:36:30.144Z"
   },
   {
    "duration": 5,
    "start_time": "2022-12-29T03:36:35.285Z"
   },
   {
    "duration": 1275,
    "start_time": "2022-12-29T03:36:36.248Z"
   },
   {
    "duration": 5,
    "start_time": "2022-12-29T03:36:39.806Z"
   },
   {
    "duration": 1298,
    "start_time": "2022-12-29T03:36:40.432Z"
   },
   {
    "duration": 5,
    "start_time": "2022-12-29T03:36:44.831Z"
   },
   {
    "duration": 1288,
    "start_time": "2022-12-29T03:36:45.530Z"
   },
   {
    "duration": 5,
    "start_time": "2022-12-29T03:36:55.654Z"
   },
   {
    "duration": 1292,
    "start_time": "2022-12-29T03:36:56.656Z"
   },
   {
    "duration": 5,
    "start_time": "2022-12-29T03:38:02.246Z"
   },
   {
    "duration": 1332,
    "start_time": "2022-12-29T03:38:02.857Z"
   },
   {
    "duration": 1296,
    "start_time": "2022-12-29T03:38:12.953Z"
   },
   {
    "duration": 5,
    "start_time": "2022-12-29T03:39:18.494Z"
   },
   {
    "duration": 1332,
    "start_time": "2022-12-29T03:39:19.119Z"
   },
   {
    "duration": 9,
    "start_time": "2022-12-29T03:43:35.292Z"
   },
   {
    "duration": 5,
    "start_time": "2022-12-29T03:43:41.056Z"
   },
   {
    "duration": 10,
    "start_time": "2022-12-29T03:43:41.675Z"
   },
   {
    "duration": 9,
    "start_time": "2022-12-29T03:43:56.379Z"
   },
   {
    "duration": 1293,
    "start_time": "2022-12-29T03:44:36.922Z"
   },
   {
    "duration": 1290,
    "start_time": "2022-12-29T03:45:35.627Z"
   },
   {
    "duration": 6,
    "start_time": "2022-12-29T03:46:22.018Z"
   },
   {
    "duration": 1272,
    "start_time": "2022-12-29T03:46:22.526Z"
   },
   {
    "duration": 5,
    "start_time": "2022-12-29T03:46:52.809Z"
   },
   {
    "duration": 1269,
    "start_time": "2022-12-29T03:46:53.479Z"
   },
   {
    "duration": 5,
    "start_time": "2022-12-29T03:47:03.080Z"
   },
   {
    "duration": 1309,
    "start_time": "2022-12-29T03:47:04.975Z"
   },
   {
    "duration": 1332,
    "start_time": "2022-12-29T03:48:33.904Z"
   },
   {
    "duration": 5,
    "start_time": "2022-12-29T03:48:41.169Z"
   },
   {
    "duration": 1294,
    "start_time": "2022-12-29T03:48:41.781Z"
   },
   {
    "duration": 1363,
    "start_time": "2022-12-29T03:49:21.486Z"
   },
   {
    "duration": 5,
    "start_time": "2022-12-29T03:49:32.217Z"
   },
   {
    "duration": 1290,
    "start_time": "2022-12-29T03:49:33.180Z"
   },
   {
    "duration": 3886,
    "start_time": "2022-12-29T03:50:19.935Z"
   },
   {
    "duration": 3941,
    "start_time": "2022-12-29T03:52:03.574Z"
   },
   {
    "duration": 5,
    "start_time": "2022-12-29T04:02:08.322Z"
   },
   {
    "duration": 1280,
    "start_time": "2022-12-29T04:02:52.129Z"
   },
   {
    "duration": 5,
    "start_time": "2022-12-29T04:03:02.305Z"
   },
   {
    "duration": 1309,
    "start_time": "2022-12-29T04:03:03.289Z"
   },
   {
    "duration": 5,
    "start_time": "2022-12-29T04:04:53.793Z"
   },
   {
    "duration": 1283,
    "start_time": "2022-12-29T04:04:56.386Z"
   },
   {
    "duration": 5,
    "start_time": "2022-12-29T04:06:53.914Z"
   },
   {
    "duration": 1300,
    "start_time": "2022-12-29T04:06:54.562Z"
   },
   {
    "duration": 5,
    "start_time": "2022-12-29T04:13:50.836Z"
   },
   {
    "duration": 1307,
    "start_time": "2022-12-29T04:13:51.764Z"
   },
   {
    "duration": 5,
    "start_time": "2022-12-29T04:14:05.892Z"
   },
   {
    "duration": 1289,
    "start_time": "2022-12-29T04:14:07.899Z"
   },
   {
    "duration": 1333,
    "start_time": "2022-12-29T04:14:30.996Z"
   },
   {
    "duration": 1310,
    "start_time": "2022-12-29T04:14:33.147Z"
   },
   {
    "duration": 5,
    "start_time": "2022-12-29T04:14:52.532Z"
   },
   {
    "duration": 1318,
    "start_time": "2022-12-29T04:14:53.180Z"
   },
   {
    "duration": 1306,
    "start_time": "2022-12-29T04:14:55.108Z"
   },
   {
    "duration": 1319,
    "start_time": "2022-12-29T04:14:56.996Z"
   },
   {
    "duration": 1319,
    "start_time": "2022-12-29T04:15:25.988Z"
   },
   {
    "duration": 1286,
    "start_time": "2022-12-29T04:15:42.428Z"
   },
   {
    "duration": 1295,
    "start_time": "2022-12-29T04:15:52.972Z"
   },
   {
    "duration": 1288,
    "start_time": "2022-12-29T04:15:57.005Z"
   },
   {
    "duration": 1271,
    "start_time": "2022-12-29T04:16:02.412Z"
   },
   {
    "duration": 1282,
    "start_time": "2022-12-29T04:16:08.605Z"
   },
   {
    "duration": 1287,
    "start_time": "2022-12-29T04:16:13.436Z"
   },
   {
    "duration": 1278,
    "start_time": "2022-12-29T04:16:16.700Z"
   },
   {
    "duration": 1286,
    "start_time": "2022-12-29T04:16:19.316Z"
   },
   {
    "duration": 1329,
    "start_time": "2022-12-29T04:16:31.468Z"
   },
   {
    "duration": 5,
    "start_time": "2022-12-29T04:19:06.637Z"
   },
   {
    "duration": 1336,
    "start_time": "2022-12-29T04:19:07.476Z"
   },
   {
    "duration": 1325,
    "start_time": "2022-12-29T04:19:10.021Z"
   },
   {
    "duration": 1308,
    "start_time": "2022-12-29T04:19:12.181Z"
   },
   {
    "duration": 1329,
    "start_time": "2022-12-29T04:19:18.605Z"
   },
   {
    "duration": 1330,
    "start_time": "2022-12-29T04:19:21.013Z"
   },
   {
    "duration": 1302,
    "start_time": "2022-12-29T04:19:23.176Z"
   },
   {
    "duration": 1191,
    "start_time": "2022-12-29T04:20:02.373Z"
   },
   {
    "duration": 348,
    "start_time": "2022-12-29T04:20:03.566Z"
   },
   {
    "duration": 56,
    "start_time": "2022-12-29T04:20:03.916Z"
   },
   {
    "duration": 160,
    "start_time": "2022-12-29T04:20:03.974Z"
   },
   {
    "duration": 38,
    "start_time": "2022-12-29T04:20:04.136Z"
   },
   {
    "duration": 89,
    "start_time": "2022-12-29T04:20:04.176Z"
   },
   {
    "duration": 89,
    "start_time": "2022-12-29T04:20:04.267Z"
   },
   {
    "duration": 250,
    "start_time": "2022-12-29T04:20:04.358Z"
   },
   {
    "duration": 4,
    "start_time": "2022-12-29T04:20:04.610Z"
   },
   {
    "duration": 424,
    "start_time": "2022-12-29T04:20:04.616Z"
   },
   {
    "duration": 603,
    "start_time": "2022-12-29T04:20:05.042Z"
   },
   {
    "duration": 83,
    "start_time": "2022-12-29T04:20:05.647Z"
   },
   {
    "duration": 101,
    "start_time": "2022-12-29T04:20:05.732Z"
   },
   {
    "duration": 21,
    "start_time": "2022-12-29T04:20:05.836Z"
   },
   {
    "duration": 4,
    "start_time": "2022-12-29T04:20:05.859Z"
   },
   {
    "duration": 1370,
    "start_time": "2022-12-29T04:20:05.865Z"
   },
   {
    "duration": 1316,
    "start_time": "2022-12-29T04:20:07.236Z"
   },
   {
    "duration": 1302,
    "start_time": "2022-12-29T04:20:08.554Z"
   },
   {
    "duration": 1179,
    "start_time": "2022-12-29T05:30:28.464Z"
   },
   {
    "duration": 330,
    "start_time": "2022-12-29T05:30:29.645Z"
   },
   {
    "duration": 68,
    "start_time": "2022-12-29T05:30:29.977Z"
   },
   {
    "duration": 155,
    "start_time": "2022-12-29T05:30:30.047Z"
   },
   {
    "duration": 46,
    "start_time": "2022-12-29T05:30:30.203Z"
   },
   {
    "duration": 87,
    "start_time": "2022-12-29T05:30:30.250Z"
   },
   {
    "duration": 95,
    "start_time": "2022-12-29T05:30:30.339Z"
   },
   {
    "duration": 263,
    "start_time": "2022-12-29T05:30:30.436Z"
   },
   {
    "duration": 5,
    "start_time": "2022-12-29T05:30:30.700Z"
   },
   {
    "duration": 433,
    "start_time": "2022-12-29T05:30:30.707Z"
   },
   {
    "duration": 594,
    "start_time": "2022-12-29T05:30:31.142Z"
   },
   {
    "duration": 90,
    "start_time": "2022-12-29T05:30:31.738Z"
   },
   {
    "duration": 102,
    "start_time": "2022-12-29T05:30:31.830Z"
   },
   {
    "duration": 21,
    "start_time": "2022-12-29T05:30:31.934Z"
   },
   {
    "duration": 6,
    "start_time": "2022-12-29T05:30:31.956Z"
   },
   {
    "duration": 1319,
    "start_time": "2022-12-29T05:30:31.964Z"
   },
   {
    "duration": 1349,
    "start_time": "2022-12-29T05:30:33.285Z"
   },
   {
    "duration": 1348,
    "start_time": "2022-12-29T05:30:34.636Z"
   },
   {
    "duration": 1238,
    "start_time": "2022-12-29T05:31:30.138Z"
   },
   {
    "duration": 340,
    "start_time": "2022-12-29T05:31:31.378Z"
   },
   {
    "duration": 63,
    "start_time": "2022-12-29T05:31:31.720Z"
   },
   {
    "duration": 170,
    "start_time": "2022-12-29T05:31:31.784Z"
   },
   {
    "duration": 36,
    "start_time": "2022-12-29T05:31:31.956Z"
   },
   {
    "duration": 89,
    "start_time": "2022-12-29T05:31:31.994Z"
   },
   {
    "duration": 93,
    "start_time": "2022-12-29T05:31:32.085Z"
   },
   {
    "duration": 262,
    "start_time": "2022-12-29T05:31:32.180Z"
   },
   {
    "duration": 6,
    "start_time": "2022-12-29T05:31:32.444Z"
   },
   {
    "duration": 387,
    "start_time": "2022-12-29T05:31:32.452Z"
   },
   {
    "duration": 595,
    "start_time": "2022-12-29T05:31:32.840Z"
   },
   {
    "duration": 90,
    "start_time": "2022-12-29T05:31:33.437Z"
   },
   {
    "duration": 99,
    "start_time": "2022-12-29T05:31:33.529Z"
   },
   {
    "duration": 18,
    "start_time": "2022-12-29T05:31:33.630Z"
   },
   {
    "duration": 6,
    "start_time": "2022-12-29T05:31:33.650Z"
   },
   {
    "duration": 1358,
    "start_time": "2022-12-29T05:31:33.657Z"
   },
   {
    "duration": 1358,
    "start_time": "2022-12-29T05:31:35.017Z"
   },
   {
    "duration": 1330,
    "start_time": "2022-12-29T05:31:36.377Z"
   }
  ],
  "kernelspec": {
   "display_name": "Python 3 (ipykernel)",
   "language": "python",
   "name": "python3"
  },
  "language_info": {
   "codemirror_mode": {
    "name": "ipython",
    "version": 3
   },
   "file_extension": ".py",
   "mimetype": "text/x-python",
   "name": "python",
   "nbconvert_exporter": "python",
   "pygments_lexer": "ipython3",
   "version": "3.9.5"
  },
  "toc": {
   "base_numbering": 1,
   "nav_menu": {},
   "number_sections": true,
   "sideBar": true,
   "skip_h1_title": true,
   "title_cell": "Table of Contents",
   "title_sidebar": "Contents",
   "toc_cell": false,
   "toc_position": {},
   "toc_section_display": true,
   "toc_window_display": false
  }
 },
 "nbformat": 4,
 "nbformat_minor": 2
}
