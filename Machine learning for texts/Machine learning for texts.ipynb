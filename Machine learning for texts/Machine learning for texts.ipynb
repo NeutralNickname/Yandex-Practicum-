{
 "cells": [
  {
   "cell_type": "markdown",
   "metadata": {
    "toc": true
   },
   "source": [
    "<h1>Содержание<span class=\"tocSkip\"></span></h1>\n",
    "<div class=\"toc\"><ul class=\"toc-item\"><li><span><a href=\"#Подготовка\" data-toc-modified-id=\"Подготовка-1\"><span class=\"toc-item-num\">1&nbsp;&nbsp;</span>Подготовка</a></span></li><li><span><a href=\"#Обучение\" data-toc-modified-id=\"Обучение-2\"><span class=\"toc-item-num\">2&nbsp;&nbsp;</span>Обучение</a></span></li><li><span><a href=\"#Выводы\" data-toc-modified-id=\"Выводы-3\"><span class=\"toc-item-num\">3&nbsp;&nbsp;</span>Выводы</a></span></li><li><span><a href=\"#Чек-лист-проверки\" data-toc-modified-id=\"Чек-лист-проверки-4\"><span class=\"toc-item-num\">4&nbsp;&nbsp;</span>Чек-лист проверки</a></span></li></ul></div>"
   ]
  },
  {
   "cell_type": "markdown",
   "metadata": {},
   "source": [
    "# Проект для «Викишоп»"
   ]
  },
  {
   "cell_type": "markdown",
   "metadata": {},
   "source": [
    "Интернет-магазин «Викишоп» запускает новый сервис. Теперь пользователи могут редактировать и дополнять описания товаров, как в вики-сообществах. То есть клиенты предлагают свои правки и комментируют изменения других. Магазину нужен инструмент, который будет искать токсичные комментарии и отправлять их на модерацию. "
   ]
  },
  {
   "cell_type": "markdown",
   "metadata": {},
   "source": [
    "# План проекта"
   ]
  },
  {
   "cell_type": "markdown",
   "metadata": {},
   "source": [
    "1. Загрузить и подготовить данные.\n",
    "2. Обучить разные модели. \n",
    "3. Сделать выводы."
   ]
  },
  {
   "cell_type": "markdown",
   "metadata": {},
   "source": [
    "# Цель проекта"
   ]
  },
  {
   "cell_type": "markdown",
   "metadata": {},
   "source": [
    "Обучить модель классифицировать комментарии на позитивные и негативные. Значение метрики качества F1 должно быть не меньше 0.75."
   ]
  },
  {
   "cell_type": "markdown",
   "metadata": {},
   "source": [
    "# Описание данных"
   ]
  },
  {
   "cell_type": "markdown",
   "metadata": {},
   "source": [
    "Данные находятся в файле `toxic_comments.csv`. Столбец *text* в нём содержит текст комментария, а *toxic* — целевой признак."
   ]
  },
  {
   "cell_type": "markdown",
   "metadata": {},
   "source": [
    "## Подготовка"
   ]
  },
  {
   "cell_type": "code",
   "execution_count": 1,
   "metadata": {},
   "outputs": [],
   "source": [
    "# Импортируем необходимые для работы библиотеки и модули\n",
    "import pandas as pd\n",
    "import re\n",
    "import numpy as np\n",
    "\n",
    "import nltk\n",
    "from nltk.corpus import stopwords as nltk_stopwords\n",
    "from nltk.stem import WordNetLemmatizer\n",
    "from nltk.corpus import wordnet\n",
    "\n",
    "from sklearn.model_selection import train_test_split, cross_val_score, GridSearchCV\n",
    "from sklearn.feature_extraction.text import TfidfVectorizer \n",
    "from sklearn.linear_model import LogisticRegression\n",
    "from sklearn.tree import DecisionTreeClassifier\n",
    "from sklearn.metrics import f1_score\n",
    "\n",
    "from lightgbm import LGBMClassifier\n",
    "\n",
    "from tqdm.notebook import tqdm\n",
    "tqdm.pandas()\n",
    "\n",
    "import requests\n",
    "\n",
    "import warnings\n",
    "warnings.filterwarnings('ignore')"
   ]
  },
  {
   "cell_type": "code",
   "execution_count": 1,
   "metadata": {
    "scrolled": true
   },
   "outputs": [
    {
     "name": "stdout",
     "output_type": "stream",
     "text": [
      "INFO: Pandarallel will run on 4 workers.\n",
      "INFO: Pandarallel will use Memory file system to transfer data between the main process and workers.\n"
     ]
    }
   ],
   "source": [
    "!pip install -q pandas jupyter pandarallel requests tqdm\n",
    "\n",
    "from pandarallel import pandarallel\n",
    "pandarallel.initialize(progress_bar=True)"
   ]
  },
  {
   "cell_type": "code",
   "execution_count": 3,
   "metadata": {},
   "outputs": [],
   "source": [
    "# Сохраним датасет в переменную\n",
    "df = pd.read_csv('/datasets/toxic_comments.csv', index_col=0)"
   ]
  },
  {
   "cell_type": "code",
   "execution_count": 4,
   "metadata": {
    "scrolled": true
   },
   "outputs": [
    {
     "data": {
      "text/html": [
       "<div>\n",
       "<style scoped>\n",
       "    .dataframe tbody tr th:only-of-type {\n",
       "        vertical-align: middle;\n",
       "    }\n",
       "\n",
       "    .dataframe tbody tr th {\n",
       "        vertical-align: top;\n",
       "    }\n",
       "\n",
       "    .dataframe thead th {\n",
       "        text-align: right;\n",
       "    }\n",
       "</style>\n",
       "<table border=\"1\" class=\"dataframe\">\n",
       "  <thead>\n",
       "    <tr style=\"text-align: right;\">\n",
       "      <th></th>\n",
       "      <th>text</th>\n",
       "      <th>toxic</th>\n",
       "    </tr>\n",
       "  </thead>\n",
       "  <tbody>\n",
       "    <tr>\n",
       "      <th>50155</th>\n",
       "      <td>Thanks for your concern \\n\\nThanks for your co...</td>\n",
       "      <td>0</td>\n",
       "    </tr>\n",
       "    <tr>\n",
       "      <th>89493</th>\n",
       "      <td>Thank-you  Talk Contribs</td>\n",
       "      <td>0</td>\n",
       "    </tr>\n",
       "    <tr>\n",
       "      <th>40878</th>\n",
       "      <td>PS - after rereading this, it sounds very atta...</td>\n",
       "      <td>0</td>\n",
       "    </tr>\n",
       "    <tr>\n",
       "      <th>114236</th>\n",
       "      <td>Judging from your talk page and your recent ed...</td>\n",
       "      <td>0</td>\n",
       "    </tr>\n",
       "    <tr>\n",
       "      <th>105140</th>\n",
       "      <td>Cue the scary music.  And the laugh track.  Wh...</td>\n",
       "      <td>1</td>\n",
       "    </tr>\n",
       "  </tbody>\n",
       "</table>\n",
       "</div>"
      ],
      "text/plain": [
       "                                                     text  toxic\n",
       "50155   Thanks for your concern \\n\\nThanks for your co...      0\n",
       "89493                            Thank-you  Talk Contribs      0\n",
       "40878   PS - after rereading this, it sounds very atta...      0\n",
       "114236  Judging from your talk page and your recent ed...      0\n",
       "105140  Cue the scary music.  And the laugh track.  Wh...      1"
      ]
     },
     "metadata": {},
     "output_type": "display_data"
    },
    {
     "data": {
      "text/html": [
       "<div>\n",
       "<style scoped>\n",
       "    .dataframe tbody tr th:only-of-type {\n",
       "        vertical-align: middle;\n",
       "    }\n",
       "\n",
       "    .dataframe tbody tr th {\n",
       "        vertical-align: top;\n",
       "    }\n",
       "\n",
       "    .dataframe thead th {\n",
       "        text-align: right;\n",
       "    }\n",
       "</style>\n",
       "<table border=\"1\" class=\"dataframe\">\n",
       "  <thead>\n",
       "    <tr style=\"text-align: right;\">\n",
       "      <th></th>\n",
       "      <th>text</th>\n",
       "      <th>toxic</th>\n",
       "    </tr>\n",
       "  </thead>\n",
       "  <tbody>\n",
       "    <tr>\n",
       "      <th>0</th>\n",
       "      <td>Explanation\\nWhy the edits made under my usern...</td>\n",
       "      <td>0</td>\n",
       "    </tr>\n",
       "    <tr>\n",
       "      <th>1</th>\n",
       "      <td>D'aww! He matches this background colour I'm s...</td>\n",
       "      <td>0</td>\n",
       "    </tr>\n",
       "    <tr>\n",
       "      <th>2</th>\n",
       "      <td>Hey man, I'm really not trying to edit war. It...</td>\n",
       "      <td>0</td>\n",
       "    </tr>\n",
       "    <tr>\n",
       "      <th>3</th>\n",
       "      <td>\"\\nMore\\nI can't make any real suggestions on ...</td>\n",
       "      <td>0</td>\n",
       "    </tr>\n",
       "    <tr>\n",
       "      <th>4</th>\n",
       "      <td>You, sir, are my hero. Any chance you remember...</td>\n",
       "      <td>0</td>\n",
       "    </tr>\n",
       "  </tbody>\n",
       "</table>\n",
       "</div>"
      ],
      "text/plain": [
       "                                                text  toxic\n",
       "0  Explanation\\nWhy the edits made under my usern...      0\n",
       "1  D'aww! He matches this background colour I'm s...      0\n",
       "2  Hey man, I'm really not trying to edit war. It...      0\n",
       "3  \"\\nMore\\nI can't make any real suggestions on ...      0\n",
       "4  You, sir, are my hero. Any chance you remember...      0"
      ]
     },
     "metadata": {},
     "output_type": "display_data"
    },
    {
     "name": "stdout",
     "output_type": "stream",
     "text": [
      "Количество (строк, столбцов): (159292, 2)\n",
      "Количество явных дубликатов 0\n",
      "Количество пропусков:\n",
      "text     0\n",
      "toxic    0\n",
      "dtype: int64\n"
     ]
    }
   ],
   "source": [
    "# Изучим содержимое датасета\n",
    "display(df.sample(5))\n",
    "display(df.head())\n",
    "print('Количество (строк, столбцов):', df.shape)\n",
    "print('Количество явных дубликатов', df.duplicated().sum())\n",
    "print('Количество пропусков:', df.isna().sum(), sep='\\n')"
   ]
  },
  {
   "cell_type": "code",
   "execution_count": 6,
   "metadata": {
    "scrolled": true
   },
   "outputs": [
    {
     "data": {
      "text/plain": [
       "<AxesSubplot:title={'center':'Соотношение количества токсичных и нет, отзывов'}>"
      ]
     },
     "execution_count": 6,
     "metadata": {},
     "output_type": "execute_result"
    },
    {
     "data": {
      "image/png": "[encoded data removed]",
      "text/plain": [
       "<Figure size 432x288 with 1 Axes>"
      ]
     },
     "metadata": {},
     "output_type": "display_data"
    }
   ],
   "source": [
    "# Посмотрим на баланс классов \n",
    "explode = (0.1, 0)\n",
    "df['toxic'].value_counts(normalize=True).plot(kind='pie', explode=explode,\n",
    "                    grid=True, title='Соотношение количества токсичных и нет, отзывов', labels=['Не токсичный отзыв (0)','Токсчиный отзыв (1)'], ylabel='',\n",
    "                    autopct='%1.1f%%', shadow=True, startangle=90)"
   ]
  },
  {
   "cell_type": "code",
   "execution_count": 7,
   "metadata": {},
   "outputs": [
    {
     "name": "stderr",
     "output_type": "stream",
     "text": [
      "[nltk_data] Downloading package averaged_perceptron_tagger to\n",
      "[nltk_data]     /home/jovyan/nltk_data...\n",
      "[nltk_data]   Package averaged_perceptron_tagger is already up-to-\n",
      "[nltk_data]       date!\n"
     ]
    }
   ],
   "source": [
    "nltk.download('averaged_perceptron_tagger')\n",
    "\n",
    "def get_wordnet_pos(word):\n",
    "    tag = nltk.pos_tag([word])[0][1][0].upper()\n",
    "    tag_dict = {\"J\": wordnet.ADJ,\n",
    "                \"N\": wordnet.NOUN,\n",
    "                \"V\": wordnet.VERB,\n",
    "                \"R\": wordnet.ADV\n",
    "               }  \n",
    "    return tag_dict.get(tag, wordnet.NOUN)\n",
    "\n",
    "m = WordNetLemmatizer()\n",
    "\n",
    "def lemmatize(text):\n",
    "    text = [m.lemmatize(w, get_wordnet_pos(w)) for w in nltk.word_tokenize(text)]\n",
    "    return ' '.join(text)"
   ]
  },
  {
   "cell_type": "code",
   "execution_count": 9,
   "metadata": {},
   "outputs": [],
   "source": [
    "# Функция для очистки\n",
    "def clear_text(text):\n",
    "    text = re.sub(r'[^a-zA-Z ]', ' ', text).lower()\n",
    "    text = \" \".join(text.split())\n",
    "    return text"
   ]
  },
  {
   "cell_type": "code",
   "execution_count": 11,
   "metadata": {},
   "outputs": [
    {
     "data": {
      "application/vnd.jupyter.widget-view+json": {
       "model_id": "bf00450efa704240a8e7e297580f8a7f",
       "version_major": 2,
       "version_minor": 0
      },
      "text/plain": [
       "  0%|          | 0/159292 [00:00<?, ?it/s]"
      ]
     },
     "metadata": {},
     "output_type": "display_data"
    }
   ],
   "source": [
    "# Применим очистку к датасету\n",
    "df['text'] = df['text'].progress_apply(clear_text) "
   ]
  },
  {
   "cell_type": "code",
   "execution_count": 12,
   "metadata": {},
   "outputs": [
    {
     "data": {
      "application/vnd.jupyter.widget-view+json": {
       "model_id": "bac36f28de624e4fb992b686b8471fc0",
       "version_major": 2,
       "version_minor": 0
      },
      "text/plain": [
       "  0%|          | 0/159292 [00:00<?, ?it/s]"
      ]
     },
     "metadata": {},
     "output_type": "display_data"
    }
   ],
   "source": [
    "# Леммантизируем\n",
    "df['text'] = df['text'].progress_apply(lemmatize) "
   ]
  },
  {
   "cell_type": "code",
   "execution_count": 13,
   "metadata": {},
   "outputs": [],
   "source": [
    "# Выделим целевой признак\n",
    "features = df.drop(['toxic'], axis=1)\n",
    "target = df['toxic']"
   ]
  },
  {
   "cell_type": "code",
   "execution_count": 14,
   "metadata": {},
   "outputs": [],
   "source": [
    "# Поделим на обучающую и тестовую выборки\n",
    "features_train, features_test, target_train, target_test = train_test_split(features, target, test_size=0.25, random_state=123, \n",
    "                                                                           stratify=target)"
   ]
  },
  {
   "cell_type": "code",
   "execution_count": 15,
   "metadata": {},
   "outputs": [
    {
     "name": "stderr",
     "output_type": "stream",
     "text": [
      "[nltk_data] Downloading package stopwords to /home/jovyan/nltk_data...\n",
      "[nltk_data]   Package stopwords is already up-to-date!\n"
     ]
    }
   ],
   "source": [
    "nltk.download('stopwords')\n",
    "stopwords = set(nltk_stopwords.words('english'))\n",
    "\n",
    "# Считаем величину TF-IDF для обучающей и тестовой выборок\n",
    "count_tf_idf = TfidfVectorizer(stop_words=stopwords)\n",
    "tf_train = count_tf_idf.fit_transform(features_train.text)\n",
    "tf_test = count_tf_idf.transform(features_test.text)"
   ]
  },
  {
   "cell_type": "markdown",
   "metadata": {},
   "source": [
    "Данные загружены и подготовлены к обучению:\n",
    "* Данные загружены и удален ненужный для обучения столбец (который дублировал индексацию)\n",
    "* Дубликаты и пропуски в датасете отсутствуют\n",
    "* Произведена очистка и леммантизация текстовых значений\n",
    "* Данные поделены на выборки\n",
    "* Посчитаны величины TF-IDF и произведена очистка от стопслов\n",
    "* Выявлен дисбаланс выборки "
   ]
  },
  {
   "cell_type": "markdown",
   "metadata": {},
   "source": [
    "## Обучение"
   ]
  },
  {
   "cell_type": "code",
   "execution_count": 16,
   "metadata": {},
   "outputs": [
    {
     "name": "stdout",
     "output_type": "stream",
     "text": [
      "Значение метрики F1: 0.8263977353149328\n"
     ]
    }
   ],
   "source": [
    "# Обучим модель\n",
    "model_log = LogisticRegression(random_state=12345, class_weight='balanced').fit(tf_train, target_train)\n",
    "predictions = model_log.predict(tf_train)\n",
    "\n",
    "#Рассчитаем и получим значение метрики\n",
    "f1_metric = f1_score(target_train, predictions)\n",
    "print('Значение метрики F1:',f1_metric)"
   ]
  },
  {
   "cell_type": "code",
   "execution_count": 17,
   "metadata": {},
   "outputs": [
    {
     "name": "stdout",
     "output_type": "stream",
     "text": [
      "Оптимальное значение гиперпараметров: {'max_depth': 15}\n",
      "Лучший показатель F1: 0.60\n"
     ]
    }
   ],
   "source": [
    "# Перебор производился по большему количеству параметров, выбрано лучшее, остальные удалены, чтобы уменьшить время загрузки.\n",
    "grid_space = { 'max_depth':[15] }\n",
    "\n",
    "# Найдем оптимальные значения гиперпараметров и обучим модель\n",
    "model = DecisionTreeClassifier(random_state=12345, class_weight = 'balanced')\n",
    "dt_class = GridSearchCV(model, param_grid=grid_space, scoring='f1', cv=3)\n",
    "dt_class_v = dt_class.fit(tf_train, target_train)\n",
    "\n",
    "# Выведим лучшее значение метрики и при каких гиперпараметрах оно было получено\n",
    "print('Оптимальное значение гиперпараметров:', dt_class_v.best_params_)\n",
    "print('Лучший показатель F1: {:.2f}'.format(dt_class_v.best_score_))"
   ]
  },
  {
   "cell_type": "code",
   "execution_count": 18,
   "metadata": {},
   "outputs": [
    {
     "name": "stdout",
     "output_type": "stream",
     "text": [
      "Оптимальное значение гиперпараметров: {'max_depth': 15}\n",
      "Лучший показатель F1: 0.74\n"
     ]
    }
   ],
   "source": [
    "# Перебор производился по большему количеству параметров, выбрано лучшее, остальные удалены, чтобы уменьшить время загрузки.\n",
    "grid_space = {\n",
    "    'max_depth': [15],\n",
    "    #'learning_rate': [0.1],\n",
    "    #'cat_smooth': [1]\n",
    "}\n",
    "\n",
    "# Найдем оптимальные значения гиперпараметров и обучим модель\n",
    "model = LGBMClassifier(random_state = 12345, class_weight = 'balanced')\n",
    "lgbm_class = GridSearchCV(model, param_grid = grid_space, scoring='f1', cv=3)\n",
    "lgbm_class_v = lgbm_class.fit(tf_train, target_train)\n",
    "\n",
    "# Выведим лучшее значение метрики и при каких гиперпараметрах оно было получено\n",
    "print('Оптимальное значение гиперпараметров:', lgbm_class_v.best_params_)\n",
    "print('Лучший показатель F1: {:.2f}'.format(lgbm_class_v.best_score_))"
   ]
  },
  {
   "cell_type": "markdown",
   "metadata": {},
   "source": [
    "Изучены показания метрики F1 при обучении на трех моделях Логистическая регрессия, Дерево решений и LGBM Классификатор.\n",
    "Так как данные имеют дисбаланс, при обучении был использован параметр class_weight = 'balanced'.\n",
    "\n",
    "Из всех трех моделей, только Логистическая регрессия показала значение метрики удовлетворяющее условию задачи (0.82), остальные модели показали значения ниже требуемого (0.75)."
   ]
  },
  {
   "cell_type": "markdown",
   "metadata": {},
   "source": [
    "## Выводы"
   ]
  },
  {
   "cell_type": "code",
   "execution_count": 20,
   "metadata": {},
   "outputs": [
    {
     "data": {
      "text/plain": [
       "0.75"
      ]
     },
     "execution_count": 20,
     "metadata": {},
     "output_type": "execute_result"
    }
   ],
   "source": [
    "# Выполним проверку выбранной модели на тестовой выборке\n",
    "prediction = model_log.predict(tf_test)\n",
    "metric_test = f1_score(target_test, prediction)\n",
    "metric_test.round(2)"
   ]
  },
  {
   "cell_type": "markdown",
   "metadata": {},
   "source": [
    "В ходе выполнения проекта:\n",
    "\n",
    "Данные были загружены и изучены, был обнаружен столбец дублирующий индексацию, он был исключен из выборки, дубликатов или пропусков в данных нет.\n",
    "\n",
    "Проведена очистка и леммантизация текстовых значений, после чего датасет был поделен на обучающую и тестовую выборку в соотношении 75 к 25.\n",
    "\n",
    "Текстовые значения были очищены от стоп слов и произведен расчет TF-IDF значений для признака обучающей и тестовой выборок.\n",
    "\n",
    "Так как в данных был обнаружен дисбаланс, то при обучении моделей использовался параметр class_weight = 'balanced'.\n",
    "\n",
    "Для обучения было выбрано три модели Логистическая регрессия, Дерево решений и LGBM Классификатор.\n",
    "\n",
    "Так как только Логистическая регрессия показала значение F1 метрики (0.82) не ниже допустимого по условию задачи, эта модель и была выбрана для тестирования.\n",
    "\n",
    "При проверке на тестовой выборке модель показала значени F1 метрики (0.75) удовлетворяющее условию поставленной задачи."
   ]
  }
 ],
 "metadata": {
  "ExecuteTimeLog": [
   {
    "duration": 49,
    "start_time": "2023-02-23T12:58:14.025Z"
   },
   {
    "duration": 408,
    "start_time": "2023-02-23T12:58:18.072Z"
   },
   {
    "duration": 69,
    "start_time": "2023-02-23T12:58:20.452Z"
   },
   {
    "duration": 4257,
    "start_time": "2023-02-23T12:59:12.948Z"
   },
   {
    "duration": 18,
    "start_time": "2023-02-23T12:59:26.655Z"
   },
   {
    "duration": 11,
    "start_time": "2023-02-23T12:59:44.728Z"
   },
   {
    "duration": 411,
    "start_time": "2023-02-23T13:02:29.005Z"
   },
   {
    "duration": 891,
    "start_time": "2023-02-23T13:02:29.418Z"
   },
   {
    "duration": 21,
    "start_time": "2023-02-23T13:02:30.312Z"
   },
   {
    "duration": 34,
    "start_time": "2023-02-23T13:02:44.500Z"
   },
   {
    "duration": 96,
    "start_time": "2023-02-23T13:02:57.189Z"
   },
   {
    "duration": 5,
    "start_time": "2023-02-23T13:03:07.350Z"
   },
   {
    "duration": 9,
    "start_time": "2023-02-23T13:03:20.350Z"
   },
   {
    "duration": 26,
    "start_time": "2023-02-23T13:07:35.580Z"
   },
   {
    "duration": 38,
    "start_time": "2023-02-23T13:08:14.069Z"
   },
   {
    "duration": 13,
    "start_time": "2023-02-23T13:08:33.148Z"
   },
   {
    "duration": 6,
    "start_time": "2023-02-23T13:08:36.043Z"
   },
   {
    "duration": 11,
    "start_time": "2023-02-23T13:31:00.474Z"
   },
   {
    "duration": 606,
    "start_time": "2023-02-23T13:31:06.586Z"
   },
   {
    "duration": 54,
    "start_time": "2023-02-23T13:34:05.935Z"
   },
   {
    "duration": 118,
    "start_time": "2023-02-23T13:34:29.351Z"
   },
   {
    "duration": 153,
    "start_time": "2023-02-23T13:35:22.899Z"
   },
   {
    "duration": 134,
    "start_time": "2023-02-23T13:35:28.853Z"
   },
   {
    "duration": 46,
    "start_time": "2023-02-25T12:53:32.575Z"
   },
   {
    "duration": 429,
    "start_time": "2023-02-25T12:53:36.310Z"
   },
   {
    "duration": 3351,
    "start_time": "2023-02-25T12:53:37.070Z"
   },
   {
    "duration": 14,
    "start_time": "2023-02-25T12:53:41.324Z"
   },
   {
    "duration": 31,
    "start_time": "2023-02-25T12:53:53.682Z"
   },
   {
    "duration": 9,
    "start_time": "2023-02-25T12:54:06.454Z"
   },
   {
    "duration": 5,
    "start_time": "2023-02-25T12:56:54.032Z"
   },
   {
    "duration": 3,
    "start_time": "2023-02-25T12:57:18.596Z"
   },
   {
    "duration": 2,
    "start_time": "2023-02-25T12:57:19.373Z"
   },
   {
    "duration": 1791,
    "start_time": "2023-02-25T12:58:35.055Z"
   },
   {
    "duration": 413,
    "start_time": "2023-02-25T12:59:28.341Z"
   },
   {
    "duration": 3,
    "start_time": "2023-02-25T12:59:28.756Z"
   },
   {
    "duration": 3364,
    "start_time": "2023-02-25T12:59:28.761Z"
   },
   {
    "duration": 16,
    "start_time": "2023-02-25T12:59:32.127Z"
   },
   {
    "duration": 14,
    "start_time": "2023-02-25T12:59:32.145Z"
   },
   {
    "duration": 534,
    "start_time": "2023-02-25T12:59:32.161Z"
   },
   {
    "duration": 1838,
    "start_time": "2023-02-25T12:59:32.697Z"
   },
   {
    "duration": 3,
    "start_time": "2023-02-25T13:00:50.798Z"
   },
   {
    "duration": 3,
    "start_time": "2023-02-25T13:03:49.009Z"
   },
   {
    "duration": 3,
    "start_time": "2023-02-25T13:03:49.873Z"
   },
   {
    "duration": 779,
    "start_time": "2023-02-25T13:05:22.065Z"
   },
   {
    "duration": 4,
    "start_time": "2023-02-25T13:06:40.363Z"
   },
   {
    "duration": 4,
    "start_time": "2023-02-25T13:06:41.133Z"
   },
   {
    "duration": 3,
    "start_time": "2023-02-25T13:11:42.030Z"
   },
   {
    "duration": 5,
    "start_time": "2023-02-25T13:11:44.342Z"
   },
   {
    "duration": 2106,
    "start_time": "2023-02-25T13:37:36.210Z"
   },
   {
    "duration": 64764,
    "start_time": "2023-02-25T13:37:57.285Z"
   },
   {
    "duration": 7,
    "start_time": "2023-02-25T13:39:26.605Z"
   },
   {
    "duration": 3,
    "start_time": "2023-02-25T14:01:01.322Z"
   },
   {
    "duration": 1351,
    "start_time": "2023-02-25T14:01:04.016Z"
   },
   {
    "duration": 7,
    "start_time": "2023-02-25T14:01:07.585Z"
   },
   {
    "duration": 57,
    "start_time": "2023-02-25T14:14:36.736Z"
   },
   {
    "duration": 1324,
    "start_time": "2023-02-25T14:14:45.784Z"
   },
   {
    "duration": 3,
    "start_time": "2023-02-25T14:14:59.692Z"
   },
   {
    "duration": 9,
    "start_time": "2023-02-25T14:15:04.340Z"
   },
   {
    "duration": 192,
    "start_time": "2023-02-25T14:19:00.761Z"
   },
   {
    "duration": 3,
    "start_time": "2023-02-25T14:19:23.574Z"
   },
   {
    "duration": 16,
    "start_time": "2023-02-25T14:19:28.462Z"
   },
   {
    "duration": 3,
    "start_time": "2023-02-25T14:19:45.529Z"
   },
   {
    "duration": 4,
    "start_time": "2023-02-25T14:19:46.903Z"
   },
   {
    "duration": 209,
    "start_time": "2023-02-25T14:40:09.923Z"
   },
   {
    "duration": 238,
    "start_time": "2023-02-25T14:40:56.430Z"
   },
   {
    "duration": 249,
    "start_time": "2023-02-25T14:42:02.678Z"
   },
   {
    "duration": 214,
    "start_time": "2023-02-25T14:42:23.970Z"
   },
   {
    "duration": 221,
    "start_time": "2023-02-25T14:42:35.298Z"
   },
   {
    "duration": 218,
    "start_time": "2023-02-25T14:44:08.420Z"
   },
   {
    "duration": 1260,
    "start_time": "2023-02-25T14:44:37.082Z"
   },
   {
    "duration": 218,
    "start_time": "2023-02-25T14:44:39.586Z"
   },
   {
    "duration": 2669,
    "start_time": "2023-02-25T14:44:40.837Z"
   },
   {
    "duration": 264,
    "start_time": "2023-02-25T14:44:45.714Z"
   },
   {
    "duration": 16,
    "start_time": "2023-02-25T14:45:00.596Z"
   },
   {
    "duration": 1802,
    "start_time": "2023-02-25T14:45:21.103Z"
   },
   {
    "duration": 4,
    "start_time": "2023-02-25T14:45:25.835Z"
   },
   {
    "duration": 3,
    "start_time": "2023-02-25T14:45:26.143Z"
   },
   {
    "duration": 2031,
    "start_time": "2023-02-25T14:45:46.770Z"
   },
   {
    "duration": 67277,
    "start_time": "2023-02-25T14:45:49.827Z"
   },
   {
    "duration": 9,
    "start_time": "2023-02-25T14:47:13.070Z"
   },
   {
    "duration": 134,
    "start_time": "2023-02-25T14:59:19.699Z"
   },
   {
    "duration": 50,
    "start_time": "2023-02-25T15:10:52.475Z"
   },
   {
    "duration": 13,
    "start_time": "2023-02-25T15:11:38.144Z"
   },
   {
    "duration": 24,
    "start_time": "2023-02-25T15:11:59.885Z"
   },
   {
    "duration": 4126,
    "start_time": "2023-02-25T15:12:05.137Z"
   },
   {
    "duration": 16,
    "start_time": "2023-02-25T15:12:22.928Z"
   },
   {
    "duration": 14,
    "start_time": "2023-02-25T15:14:16.319Z"
   },
   {
    "duration": 3,
    "start_time": "2023-02-25T15:14:41.300Z"
   },
   {
    "duration": 2171,
    "start_time": "2023-02-25T15:15:18.014Z"
   },
   {
    "duration": 273,
    "start_time": "2023-02-25T15:15:20.187Z"
   },
   {
    "duration": 3555,
    "start_time": "2023-02-25T15:15:20.462Z"
   },
   {
    "duration": 280,
    "start_time": "2023-02-25T15:15:24.020Z"
   },
   {
    "duration": 14,
    "start_time": "2023-02-25T15:15:24.302Z"
   },
   {
    "duration": 351,
    "start_time": "2023-02-25T15:15:24.327Z"
   },
   {
    "duration": 1912,
    "start_time": "2023-02-25T15:15:24.680Z"
   },
   {
    "duration": 4,
    "start_time": "2023-02-25T15:15:26.594Z"
   },
   {
    "duration": 5,
    "start_time": "2023-02-25T15:15:26.600Z"
   },
   {
    "duration": 2195,
    "start_time": "2023-02-25T15:15:26.607Z"
   },
   {
    "duration": 71781,
    "start_time": "2023-02-25T15:15:28.804Z"
   },
   {
    "duration": 65,
    "start_time": "2023-02-25T15:17:35.300Z"
   },
   {
    "duration": 2074,
    "start_time": "2023-02-25T15:17:46.747Z"
   },
   {
    "duration": 157,
    "start_time": "2023-02-25T15:17:48.824Z"
   },
   {
    "duration": 3672,
    "start_time": "2023-02-25T15:17:48.983Z"
   },
   {
    "duration": 298,
    "start_time": "2023-02-25T15:17:52.658Z"
   },
   {
    "duration": 14,
    "start_time": "2023-02-25T15:17:52.958Z"
   },
   {
    "duration": 353,
    "start_time": "2023-02-25T15:17:52.974Z"
   },
   {
    "duration": 1913,
    "start_time": "2023-02-25T15:17:53.329Z"
   },
   {
    "duration": 13,
    "start_time": "2023-02-25T15:17:55.244Z"
   },
   {
    "duration": 6,
    "start_time": "2023-02-25T15:17:55.259Z"
   },
   {
    "duration": 2232,
    "start_time": "2023-02-25T15:17:55.267Z"
   },
   {
    "duration": 70400,
    "start_time": "2023-02-25T15:17:57.501Z"
   },
   {
    "duration": 2558,
    "start_time": "2023-02-25T15:31:28.212Z"
   },
   {
    "duration": 176,
    "start_time": "2023-02-25T15:31:32.598Z"
   },
   {
    "duration": 3531,
    "start_time": "2023-02-25T15:31:35.182Z"
   },
   {
    "duration": 275,
    "start_time": "2023-02-25T15:31:39.911Z"
   },
   {
    "duration": 17,
    "start_time": "2023-02-25T15:31:43.324Z"
   },
   {
    "duration": 332,
    "start_time": "2023-02-25T15:31:45.993Z"
   },
   {
    "duration": 3,
    "start_time": "2023-02-25T15:31:50.986Z"
   },
   {
    "duration": 4,
    "start_time": "2023-02-25T15:31:51.986Z"
   },
   {
    "duration": 93557,
    "start_time": "2023-02-25T15:31:54.681Z"
   },
   {
    "duration": 70292,
    "start_time": "2023-02-25T15:33:36.996Z"
   },
   {
    "duration": 7,
    "start_time": "2023-02-25T15:35:18.261Z"
   },
   {
    "duration": 1241,
    "start_time": "2023-02-25T15:39:53.172Z"
   },
   {
    "duration": 142,
    "start_time": "2023-02-25T15:39:56.974Z"
   },
   {
    "duration": 790,
    "start_time": "2023-02-25T15:39:59.541Z"
   },
   {
    "duration": 13,
    "start_time": "2023-02-25T15:40:03.447Z"
   },
   {
    "duration": 3,
    "start_time": "2023-02-25T15:40:06.856Z"
   },
   {
    "duration": 3,
    "start_time": "2023-02-25T15:40:07.218Z"
   },
   {
    "duration": 90944,
    "start_time": "2023-02-25T15:40:10.871Z"
   },
   {
    "duration": 14,
    "start_time": "2023-02-25T15:41:48.782Z"
   },
   {
    "duration": 65990,
    "start_time": "2023-02-25T15:42:00.486Z"
   },
   {
    "duration": 7,
    "start_time": "2023-02-25T15:43:10.092Z"
   },
   {
    "duration": 4,
    "start_time": "2023-02-25T15:43:50.486Z"
   },
   {
    "duration": 4,
    "start_time": "2023-02-25T15:44:19.983Z"
   },
   {
    "duration": 3,
    "start_time": "2023-02-25T15:44:31.140Z"
   },
   {
    "duration": 3,
    "start_time": "2023-02-25T15:44:41.304Z"
   },
   {
    "duration": 4,
    "start_time": "2023-02-25T15:44:46.919Z"
   },
   {
    "duration": 1898,
    "start_time": "2023-02-25T15:49:16.661Z"
   },
   {
    "duration": 3,
    "start_time": "2023-02-25T15:49:59.985Z"
   },
   {
    "duration": 61,
    "start_time": "2023-02-25T15:51:36.407Z"
   },
   {
    "duration": 2167,
    "start_time": "2023-02-25T15:51:47.373Z"
   },
   {
    "duration": 265,
    "start_time": "2023-02-25T15:52:55.398Z"
   },
   {
    "duration": 3407,
    "start_time": "2023-02-25T15:52:57.535Z"
   },
   {
    "duration": 13,
    "start_time": "2023-02-25T15:53:02.961Z"
   },
   {
    "duration": 3,
    "start_time": "2023-02-25T15:53:06.569Z"
   },
   {
    "duration": 4,
    "start_time": "2023-02-25T15:53:07.168Z"
   },
   {
    "duration": 88291,
    "start_time": "2023-02-25T15:53:09.477Z"
   },
   {
    "duration": 66539,
    "start_time": "2023-02-25T15:54:46.521Z"
   },
   {
    "duration": 1923,
    "start_time": "2023-02-25T15:56:06.247Z"
   },
   {
    "duration": 116,
    "start_time": "2023-02-25T16:00:59.196Z"
   },
   {
    "duration": 3,
    "start_time": "2023-02-25T16:01:23.550Z"
   },
   {
    "duration": 1835,
    "start_time": "2023-02-25T16:02:26.915Z"
   },
   {
    "duration": 221,
    "start_time": "2023-02-25T16:02:36.634Z"
   },
   {
    "duration": 3365,
    "start_time": "2023-02-25T16:02:39.052Z"
   },
   {
    "duration": 14,
    "start_time": "2023-02-25T16:02:45.761Z"
   },
   {
    "duration": 2,
    "start_time": "2023-02-25T16:02:57.610Z"
   },
   {
    "duration": 4,
    "start_time": "2023-02-25T16:02:59.857Z"
   },
   {
    "duration": 88523,
    "start_time": "2023-02-25T16:03:08.849Z"
   },
   {
    "duration": 321,
    "start_time": "2023-02-25T16:05:09.305Z"
   },
   {
    "duration": 17,
    "start_time": "2023-02-25T16:05:24.289Z"
   },
   {
    "duration": 5,
    "start_time": "2023-02-25T16:05:26.080Z"
   },
   {
    "duration": 65475,
    "start_time": "2023-02-25T16:05:29.712Z"
   },
   {
    "duration": 1851,
    "start_time": "2023-02-25T16:06:56.224Z"
   },
   {
    "duration": 1205,
    "start_time": "2023-02-26T12:50:37.052Z"
   },
   {
    "duration": 222,
    "start_time": "2023-02-26T12:50:41.435Z"
   },
   {
    "duration": 3358,
    "start_time": "2023-02-26T12:50:43.282Z"
   },
   {
    "duration": 248,
    "start_time": "2023-02-26T12:50:48.224Z"
   },
   {
    "duration": 12,
    "start_time": "2023-02-26T12:50:55.815Z"
   },
   {
    "duration": 518,
    "start_time": "2023-02-26T12:50:56.868Z"
   },
   {
    "duration": 2,
    "start_time": "2023-02-26T12:51:01.142Z"
   },
   {
    "duration": 3,
    "start_time": "2023-02-26T12:51:02.829Z"
   },
   {
    "duration": 81886,
    "start_time": "2023-02-26T12:51:03.763Z"
   },
   {
    "duration": 60363,
    "start_time": "2023-02-26T12:53:29.708Z"
   },
   {
    "duration": 1765,
    "start_time": "2023-02-26T12:57:42.054Z"
   },
   {
    "duration": 44,
    "start_time": "2023-02-26T12:58:46.342Z"
   },
   {
    "duration": 1203,
    "start_time": "2023-02-26T13:07:48.869Z"
   },
   {
    "duration": 243,
    "start_time": "2023-02-26T13:07:51.930Z"
   },
   {
    "duration": 3330,
    "start_time": "2023-02-26T13:07:53.600Z"
   },
   {
    "duration": 264,
    "start_time": "2023-02-26T13:07:57.695Z"
   },
   {
    "duration": 14,
    "start_time": "2023-02-26T13:08:00.824Z"
   },
   {
    "duration": 320,
    "start_time": "2023-02-26T13:08:02.181Z"
   },
   {
    "duration": 3,
    "start_time": "2023-02-26T13:08:04.481Z"
   },
   {
    "duration": 4,
    "start_time": "2023-02-26T13:08:05.198Z"
   },
   {
    "duration": 86059,
    "start_time": "2023-02-26T13:08:07.302Z"
   },
   {
    "duration": 63189,
    "start_time": "2023-02-26T13:09:45.837Z"
   },
   {
    "duration": 554,
    "start_time": "2023-02-26T13:10:51.123Z"
   },
   {
    "duration": 103,
    "start_time": "2023-02-26T13:10:53.691Z"
   },
   {
    "duration": 6,
    "start_time": "2023-02-26T13:11:15.661Z"
   },
   {
    "duration": 536,
    "start_time": "2023-02-26T13:11:21.972Z"
   },
   {
    "duration": 121,
    "start_time": "2023-02-26T13:17:12.268Z"
   },
   {
    "duration": 621,
    "start_time": "2023-02-26T13:17:14.500Z"
   },
   {
    "duration": 4,
    "start_time": "2023-02-26T13:25:13.054Z"
   },
   {
    "duration": 117,
    "start_time": "2023-02-26T13:27:28.980Z"
   },
   {
    "duration": 2622,
    "start_time": "2023-02-26T13:27:36.435Z"
   },
   {
    "duration": 9,
    "start_time": "2023-02-26T13:28:20.776Z"
   },
   {
    "duration": 9,
    "start_time": "2023-02-26T13:28:26.125Z"
   },
   {
    "duration": 4,
    "start_time": "2023-02-26T13:28:34.053Z"
   },
   {
    "duration": 4,
    "start_time": "2023-02-26T13:28:39.574Z"
   },
   {
    "duration": 7,
    "start_time": "2023-02-26T13:28:44.977Z"
   },
   {
    "duration": 5,
    "start_time": "2023-02-26T13:28:48.191Z"
   },
   {
    "duration": 32,
    "start_time": "2023-02-26T13:42:14.867Z"
   },
   {
    "duration": 12796,
    "start_time": "2023-02-26T13:43:16.144Z"
   },
   {
    "duration": 12912,
    "start_time": "2023-02-26T13:44:04.027Z"
   },
   {
    "duration": 19284,
    "start_time": "2023-02-26T13:50:05.567Z"
   },
   {
    "duration": 5,
    "start_time": "2023-02-26T13:50:35.906Z"
   },
   {
    "duration": 43,
    "start_time": "2023-02-26T13:51:33.541Z"
   },
   {
    "duration": 15009,
    "start_time": "2023-02-26T13:51:38.834Z"
   },
   {
    "duration": 14846,
    "start_time": "2023-02-26T13:52:28.891Z"
   },
   {
    "duration": 4,
    "start_time": "2023-02-26T13:52:45.973Z"
   },
   {
    "duration": 4,
    "start_time": "2023-02-26T14:11:57.814Z"
   },
   {
    "duration": 16,
    "start_time": "2023-02-26T14:56:31.009Z"
   },
   {
    "duration": 17198,
    "start_time": "2023-02-26T14:57:01.888Z"
   },
   {
    "duration": 17562,
    "start_time": "2023-02-26T14:57:56.710Z"
   },
   {
    "duration": 16817,
    "start_time": "2023-02-26T15:04:03.170Z"
   },
   {
    "duration": 2,
    "start_time": "2023-02-26T15:11:16.452Z"
   },
   {
    "duration": 10,
    "start_time": "2023-02-26T15:11:24.787Z"
   },
   {
    "duration": 4,
    "start_time": "2023-02-26T15:11:57.896Z"
   },
   {
    "duration": 3,
    "start_time": "2023-02-26T15:13:33.583Z"
   },
   {
    "duration": 17,
    "start_time": "2023-02-26T15:16:39.666Z"
   },
   {
    "duration": 18,
    "start_time": "2023-02-26T15:17:46.647Z"
   },
   {
    "duration": 10,
    "start_time": "2023-02-26T15:21:38.474Z"
   },
   {
    "duration": 80273,
    "start_time": "2023-02-26T15:22:59.833Z"
   },
   {
    "duration": 4,
    "start_time": "2023-02-26T15:24:29.681Z"
   },
   {
    "duration": 340939,
    "start_time": "2023-02-26T15:30:28.315Z"
   },
   {
    "duration": 4,
    "start_time": "2023-02-26T15:37:19.771Z"
   },
   {
    "duration": 25981,
    "start_time": "2023-02-26T15:37:36.088Z"
   },
   {
    "duration": 83415,
    "start_time": "2023-02-26T15:38:22.122Z"
   },
   {
    "duration": 272195,
    "start_time": "2023-02-26T15:41:04.083Z"
   },
   {
    "duration": 26,
    "start_time": "2023-02-26T15:48:38.768Z"
   },
   {
    "duration": 64,
    "start_time": "2023-02-26T15:50:13.237Z"
   },
   {
    "duration": 1123125,
    "start_time": "2023-02-26T15:50:25.865Z"
   },
   {
    "duration": 1524,
    "start_time": "2023-02-26T19:21:35.951Z"
   },
   {
    "duration": 1427,
    "start_time": "2023-02-26T19:22:09.845Z"
   },
   {
    "duration": 225,
    "start_time": "2023-02-26T19:22:11.275Z"
   },
   {
    "duration": 3513,
    "start_time": "2023-02-26T19:22:11.501Z"
   },
   {
    "duration": 274,
    "start_time": "2023-02-26T19:22:15.016Z"
   },
   {
    "duration": 14,
    "start_time": "2023-02-26T19:22:15.293Z"
   },
   {
    "duration": 569,
    "start_time": "2023-02-26T19:22:15.309Z"
   },
   {
    "duration": 3,
    "start_time": "2023-02-26T19:22:15.881Z"
   },
   {
    "duration": 8,
    "start_time": "2023-02-26T19:22:15.886Z"
   },
   {
    "duration": 96159,
    "start_time": "2023-02-26T19:22:15.896Z"
   },
   {
    "duration": 75858,
    "start_time": "2023-02-26T19:23:52.057Z"
   },
   {
    "duration": 671,
    "start_time": "2023-02-26T19:25:07.917Z"
   },
   {
    "duration": 185,
    "start_time": "2023-02-26T19:25:08.590Z"
   },
   {
    "duration": 597,
    "start_time": "2023-02-26T19:25:08.778Z"
   },
   {
    "duration": 3095,
    "start_time": "2023-02-26T19:25:09.378Z"
   },
   {
    "duration": 10463,
    "start_time": "2023-02-26T19:25:12.475Z"
   },
   {
    "duration": 265419,
    "start_time": "2023-02-26T19:25:23.027Z"
   },
   {
    "duration": 661502,
    "start_time": "2023-02-26T19:29:48.447Z"
   },
   {
    "duration": 177015,
    "start_time": "2023-02-26T19:44:06.619Z"
   },
   {
    "duration": 74263,
    "start_time": "2023-02-26T19:48:20.002Z"
   },
   {
    "duration": 107162,
    "start_time": "2023-02-26T19:50:58.489Z"
   },
   {
    "duration": 165618,
    "start_time": "2023-02-26T19:55:55.958Z"
   },
   {
    "duration": 122,
    "start_time": "2023-02-26T20:06:13.819Z"
   },
   {
    "duration": 36753,
    "start_time": "2023-02-26T20:06:29.189Z"
   },
   {
    "duration": 9628,
    "start_time": "2023-02-26T20:07:15.308Z"
   },
   {
    "duration": 1365,
    "start_time": "2023-02-26T20:07:47.123Z"
   },
   {
    "duration": 141,
    "start_time": "2023-02-26T20:07:48.490Z"
   },
   {
    "duration": 841,
    "start_time": "2023-02-26T20:07:48.632Z"
   },
   {
    "duration": 282,
    "start_time": "2023-02-26T20:07:49.476Z"
   },
   {
    "duration": 14,
    "start_time": "2023-02-26T20:07:49.759Z"
   },
   {
    "duration": 355,
    "start_time": "2023-02-26T20:07:49.775Z"
   },
   {
    "duration": 3,
    "start_time": "2023-02-26T20:07:50.132Z"
   },
   {
    "duration": 9,
    "start_time": "2023-02-26T20:07:50.137Z"
   },
   {
    "duration": 90143,
    "start_time": "2023-02-26T20:07:50.147Z"
   },
   {
    "duration": 73980,
    "start_time": "2023-02-26T20:09:20.295Z"
   },
   {
    "duration": 676,
    "start_time": "2023-02-26T20:10:34.277Z"
   },
   {
    "duration": 124,
    "start_time": "2023-02-26T20:10:34.955Z"
   },
   {
    "duration": 627,
    "start_time": "2023-02-26T20:10:35.081Z"
   },
   {
    "duration": 2844,
    "start_time": "2023-02-26T20:10:35.710Z"
   },
   {
    "duration": 10084,
    "start_time": "2023-02-26T20:10:38.556Z"
   },
   {
    "duration": 0,
    "start_time": "2023-02-26T20:10:48.642Z"
   },
   {
    "duration": 0,
    "start_time": "2023-02-26T20:10:48.643Z"
   },
   {
    "duration": 0,
    "start_time": "2023-02-26T20:10:48.644Z"
   },
   {
    "duration": 9317,
    "start_time": "2023-02-26T20:11:05.919Z"
   },
   {
    "duration": 13,
    "start_time": "2023-02-26T20:11:26.681Z"
   },
   {
    "duration": 13,
    "start_time": "2023-02-26T20:12:29.011Z"
   },
   {
    "duration": 8091,
    "start_time": "2023-02-26T20:15:34.356Z"
   },
   {
    "duration": 13,
    "start_time": "2023-02-26T20:16:25.472Z"
   },
   {
    "duration": 1387,
    "start_time": "2023-02-26T20:16:39.854Z"
   },
   {
    "duration": 152,
    "start_time": "2023-02-26T20:16:41.244Z"
   },
   {
    "duration": 830,
    "start_time": "2023-02-26T20:16:41.398Z"
   },
   {
    "duration": 271,
    "start_time": "2023-02-26T20:16:42.229Z"
   },
   {
    "duration": 14,
    "start_time": "2023-02-26T20:16:42.503Z"
   },
   {
    "duration": 342,
    "start_time": "2023-02-26T20:16:42.527Z"
   },
   {
    "duration": 3,
    "start_time": "2023-02-26T20:16:42.871Z"
   },
   {
    "duration": 13,
    "start_time": "2023-02-26T20:16:42.875Z"
   },
   {
    "duration": 88305,
    "start_time": "2023-02-26T20:16:42.890Z"
   },
   {
    "duration": 73696,
    "start_time": "2023-02-26T20:18:11.198Z"
   },
   {
    "duration": 702,
    "start_time": "2023-02-26T20:19:24.895Z"
   },
   {
    "duration": 129,
    "start_time": "2023-02-26T20:19:25.599Z"
   },
   {
    "duration": 639,
    "start_time": "2023-02-26T20:19:25.730Z"
   },
   {
    "duration": 3300,
    "start_time": "2023-02-26T20:19:26.372Z"
   },
   {
    "duration": 14453,
    "start_time": "2023-02-26T20:19:29.674Z"
   },
   {
    "duration": 6067,
    "start_time": "2023-02-26T20:19:44.129Z"
   },
   {
    "duration": 0,
    "start_time": "2023-02-26T20:19:50.200Z"
   },
   {
    "duration": 0,
    "start_time": "2023-02-26T20:19:50.201Z"
   },
   {
    "duration": 12,
    "start_time": "2023-02-26T20:20:14.099Z"
   },
   {
    "duration": 14,
    "start_time": "2023-02-26T20:20:24.755Z"
   },
   {
    "duration": 12,
    "start_time": "2023-02-26T20:24:06.968Z"
   },
   {
    "duration": 17,
    "start_time": "2023-02-26T20:33:18.672Z"
   },
   {
    "duration": 12392,
    "start_time": "2023-02-26T20:33:25.745Z"
   },
   {
    "duration": 1415,
    "start_time": "2023-03-01T10:39:47.224Z"
   },
   {
    "duration": 158,
    "start_time": "2023-03-01T10:39:48.641Z"
   },
   {
    "duration": 2208,
    "start_time": "2023-03-01T10:39:48.801Z"
   },
   {
    "duration": 274,
    "start_time": "2023-03-01T10:39:51.012Z"
   },
   {
    "duration": 14,
    "start_time": "2023-03-01T10:39:51.288Z"
   },
   {
    "duration": 509,
    "start_time": "2023-03-01T10:39:51.304Z"
   },
   {
    "duration": 3,
    "start_time": "2023-03-01T10:39:51.815Z"
   },
   {
    "duration": 10,
    "start_time": "2023-03-01T10:39:51.819Z"
   },
   {
    "duration": 84190,
    "start_time": "2023-03-01T10:39:51.831Z"
   },
   {
    "duration": 61264,
    "start_time": "2023-03-01T10:41:16.023Z"
   },
   {
    "duration": 20,
    "start_time": "2023-03-01T10:42:17.290Z"
   },
   {
    "duration": 118,
    "start_time": "2023-03-01T10:42:17.312Z"
   },
   {
    "duration": 26,
    "start_time": "2023-03-01T10:42:17.431Z"
   },
   {
    "duration": 2148,
    "start_time": "2023-03-01T10:42:17.458Z"
   },
   {
    "duration": 9441,
    "start_time": "2023-03-01T10:42:19.608Z"
   },
   {
    "duration": 142206,
    "start_time": "2023-03-01T10:42:29.051Z"
   },
   {
    "duration": 172628,
    "start_time": "2023-03-01T10:44:51.259Z"
   },
   {
    "duration": 170,
    "start_time": "2023-03-01T10:47:43.889Z"
   },
   {
    "duration": 11,
    "start_time": "2023-03-01T10:47:51.383Z"
   },
   {
    "duration": 12,
    "start_time": "2023-03-01T10:52:42.458Z"
   },
   {
    "duration": 30,
    "start_time": "2023-03-01T10:54:49.496Z"
   },
   {
    "duration": 116,
    "start_time": "2023-03-01T10:54:50.911Z"
   },
   {
    "duration": 31,
    "start_time": "2023-03-01T10:54:53.839Z"
   },
   {
    "duration": 16,
    "start_time": "2023-03-01T10:54:55.311Z"
   },
   {
    "duration": 18,
    "start_time": "2023-03-01T10:55:00.317Z"
   },
   {
    "duration": 38,
    "start_time": "2023-03-01T10:55:33.012Z"
   },
   {
    "duration": 28,
    "start_time": "2023-03-01T10:55:50.583Z"
   },
   {
    "duration": 109,
    "start_time": "2023-03-01T10:55:51.395Z"
   },
   {
    "duration": 18,
    "start_time": "2023-03-01T10:55:59.494Z"
   },
   {
    "duration": 7,
    "start_time": "2023-03-01T10:56:07.492Z"
   },
   {
    "duration": 17,
    "start_time": "2023-03-01T10:56:10.693Z"
   },
   {
    "duration": 1454,
    "start_time": "2023-03-01T10:56:41.594Z"
   },
   {
    "duration": 213,
    "start_time": "2023-03-01T10:56:43.049Z"
   },
   {
    "duration": 829,
    "start_time": "2023-03-01T10:56:43.265Z"
   },
   {
    "duration": 280,
    "start_time": "2023-03-01T10:56:44.096Z"
   },
   {
    "duration": 15,
    "start_time": "2023-03-01T10:56:44.379Z"
   },
   {
    "duration": 364,
    "start_time": "2023-03-01T10:56:44.395Z"
   },
   {
    "duration": 3,
    "start_time": "2023-03-01T10:56:44.761Z"
   },
   {
    "duration": 24,
    "start_time": "2023-03-01T10:56:44.765Z"
   },
   {
    "duration": 84038,
    "start_time": "2023-03-01T10:56:44.790Z"
   },
   {
    "duration": 70791,
    "start_time": "2023-03-01T10:58:08.830Z"
   },
   {
    "duration": 32,
    "start_time": "2023-03-01T10:59:19.624Z"
   },
   {
    "duration": 121,
    "start_time": "2023-03-01T10:59:19.658Z"
   },
   {
    "duration": 12,
    "start_time": "2023-03-01T10:59:19.780Z"
   },
   {
    "duration": 7,
    "start_time": "2023-03-01T10:59:19.795Z"
   },
   {
    "duration": 156,
    "start_time": "2023-03-01T10:59:19.804Z"
   },
   {
    "duration": 0,
    "start_time": "2023-03-01T10:59:19.962Z"
   },
   {
    "duration": 0,
    "start_time": "2023-03-01T10:59:19.963Z"
   },
   {
    "duration": 0,
    "start_time": "2023-03-01T10:59:19.964Z"
   },
   {
    "duration": 16,
    "start_time": "2023-03-01T12:13:23.915Z"
   },
   {
    "duration": 722,
    "start_time": "2023-03-01T12:14:53.791Z"
   },
   {
    "duration": 17,
    "start_time": "2023-03-01T12:14:58.067Z"
   },
   {
    "duration": 25,
    "start_time": "2023-03-01T12:15:09.454Z"
   },
   {
    "duration": 26,
    "start_time": "2023-03-01T12:15:13.254Z"
   },
   {
    "duration": 7,
    "start_time": "2023-03-01T12:15:14.150Z"
   },
   {
    "duration": 16,
    "start_time": "2023-03-01T12:15:16.304Z"
   },
   {
    "duration": 19,
    "start_time": "2023-03-01T12:15:41.832Z"
   },
   {
    "duration": 20,
    "start_time": "2023-03-01T12:19:29.947Z"
   },
   {
    "duration": 1448,
    "start_time": "2023-03-01T12:25:52.364Z"
   },
   {
    "duration": 200,
    "start_time": "2023-03-01T12:25:58.224Z"
   },
   {
    "duration": 832,
    "start_time": "2023-03-01T12:26:00.502Z"
   },
   {
    "duration": 17,
    "start_time": "2023-03-01T12:26:06.158Z"
   },
   {
    "duration": 3,
    "start_time": "2023-03-01T12:26:08.884Z"
   },
   {
    "duration": 4,
    "start_time": "2023-03-01T12:26:09.148Z"
   },
   {
    "duration": 25,
    "start_time": "2023-03-01T12:26:13.525Z"
   },
   {
    "duration": 25284,
    "start_time": "2023-03-01T12:26:26.897Z"
   },
   {
    "duration": 19562,
    "start_time": "2023-03-01T12:29:53.476Z"
   },
   {
    "duration": 25,
    "start_time": "2023-03-01T12:30:26.477Z"
   },
   {
    "duration": 273,
    "start_time": "2023-03-01T12:30:30.466Z"
   },
   {
    "duration": 11,
    "start_time": "2023-03-01T12:30:33.759Z"
   },
   {
    "duration": 8,
    "start_time": "2023-03-01T12:30:34.337Z"
   },
   {
    "duration": 122,
    "start_time": "2023-03-01T12:30:36.407Z"
   },
   {
    "duration": 15,
    "start_time": "2023-03-01T12:34:44.893Z"
   },
   {
    "duration": 1439,
    "start_time": "2023-03-01T12:35:20.817Z"
   },
   {
    "duration": 129,
    "start_time": "2023-03-01T12:35:22.260Z"
   },
   {
    "duration": 810,
    "start_time": "2023-03-01T12:35:22.391Z"
   },
   {
    "duration": 342,
    "start_time": "2023-03-01T12:35:23.203Z"
   },
   {
    "duration": 16,
    "start_time": "2023-03-01T12:35:23.548Z"
   },
   {
    "duration": 356,
    "start_time": "2023-03-01T12:35:23.566Z"
   },
   {
    "duration": 3,
    "start_time": "2023-03-01T12:35:23.924Z"
   },
   {
    "duration": 34,
    "start_time": "2023-03-01T12:35:23.928Z"
   },
   {
    "duration": 85480,
    "start_time": "2023-03-01T12:35:23.963Z"
   },
   {
    "duration": 69463,
    "start_time": "2023-03-01T12:36:49.449Z"
   },
   {
    "duration": 25,
    "start_time": "2023-03-01T12:37:58.915Z"
   },
   {
    "duration": 122,
    "start_time": "2023-03-01T12:37:58.948Z"
   },
   {
    "duration": 12,
    "start_time": "2023-03-01T12:37:59.072Z"
   },
   {
    "duration": 145,
    "start_time": "2023-03-01T12:37:59.086Z"
   },
   {
    "duration": 0,
    "start_time": "2023-03-01T12:37:59.232Z"
   },
   {
    "duration": 0,
    "start_time": "2023-03-01T12:37:59.234Z"
   },
   {
    "duration": 0,
    "start_time": "2023-03-01T12:37:59.235Z"
   },
   {
    "duration": 0,
    "start_time": "2023-03-01T12:37:59.236Z"
   },
   {
    "duration": 7,
    "start_time": "2023-03-01T12:39:21.274Z"
   },
   {
    "duration": 14,
    "start_time": "2023-03-01T12:41:20.147Z"
   },
   {
    "duration": 13,
    "start_time": "2023-03-01T12:41:26.479Z"
   },
   {
    "duration": 13,
    "start_time": "2023-03-01T12:43:38.716Z"
   },
   {
    "duration": 15,
    "start_time": "2023-03-01T12:43:51.204Z"
   },
   {
    "duration": 8,
    "start_time": "2023-03-01T12:44:05.625Z"
   },
   {
    "duration": 1489,
    "start_time": "2023-03-01T12:45:13.210Z"
   },
   {
    "duration": 215,
    "start_time": "2023-03-01T12:45:26.703Z"
   },
   {
    "duration": 837,
    "start_time": "2023-03-01T12:45:28.508Z"
   },
   {
    "duration": 18,
    "start_time": "2023-03-01T12:45:32.472Z"
   },
   {
    "duration": 3,
    "start_time": "2023-03-01T12:45:34.746Z"
   },
   {
    "duration": 4,
    "start_time": "2023-03-01T12:45:35.120Z"
   },
   {
    "duration": 83130,
    "start_time": "2023-03-01T12:45:36.664Z"
   },
   {
    "duration": 65100,
    "start_time": "2023-03-01T12:47:55.319Z"
   },
   {
    "duration": 126,
    "start_time": "2023-03-01T12:52:07.539Z"
   },
   {
    "duration": 16,
    "start_time": "2023-03-01T12:52:19.923Z"
   },
   {
    "duration": 4,
    "start_time": "2023-03-01T12:52:57.663Z"
   },
   {
    "duration": 13,
    "start_time": "2023-03-01T12:53:25.200Z"
   },
   {
    "duration": 13294,
    "start_time": "2023-03-01T12:53:57.511Z"
   },
   {
    "duration": 21,
    "start_time": "2023-03-01T12:55:17.509Z"
   },
   {
    "duration": 10,
    "start_time": "2023-03-01T12:56:31.568Z"
   },
   {
    "duration": 8,
    "start_time": "2023-03-01T12:56:50.105Z"
   },
   {
    "duration": 4,
    "start_time": "2023-03-01T12:57:06.704Z"
   },
   {
    "duration": 4,
    "start_time": "2023-03-01T12:57:31.625Z"
   },
   {
    "duration": 4,
    "start_time": "2023-03-01T12:57:42.679Z"
   },
   {
    "duration": 1454,
    "start_time": "2023-03-01T15:38:29.323Z"
   },
   {
    "duration": 214,
    "start_time": "2023-03-01T15:38:33.703Z"
   },
   {
    "duration": 2454,
    "start_time": "2023-03-01T15:38:36.630Z"
   },
   {
    "duration": 1553,
    "start_time": "2023-03-02T08:41:27.926Z"
   },
   {
    "duration": 227,
    "start_time": "2023-03-02T08:41:31.763Z"
   },
   {
    "duration": 2735,
    "start_time": "2023-03-02T08:41:33.769Z"
   },
   {
    "duration": 305,
    "start_time": "2023-03-02T08:41:37.195Z"
   },
   {
    "duration": 30,
    "start_time": "2023-03-02T08:41:39.407Z"
   },
   {
    "duration": 555,
    "start_time": "2023-03-02T08:41:40.251Z"
   },
   {
    "duration": 3,
    "start_time": "2023-03-02T08:41:41.893Z"
   },
   {
    "duration": 4,
    "start_time": "2023-03-02T08:41:44.477Z"
   },
   {
    "duration": 40,
    "start_time": "2023-03-02T08:41:45.220Z"
   },
   {
    "duration": 29956,
    "start_time": "2023-03-02T08:41:46.908Z"
   },
   {
    "duration": 24981,
    "start_time": "2023-03-02T08:42:19.274Z"
   },
   {
    "duration": 2576,
    "start_time": "2023-03-02T08:42:57.961Z"
   },
   {
    "duration": 5,
    "start_time": "2023-03-02T08:43:21.766Z"
   },
   {
    "duration": 12,
    "start_time": "2023-03-02T08:43:47.134Z"
   },
   {
    "duration": 10,
    "start_time": "2023-03-02T08:44:20.381Z"
   },
   {
    "duration": 1468,
    "start_time": "2023-03-02T08:59:22.663Z"
   },
   {
    "duration": 176,
    "start_time": "2023-03-02T08:59:25.165Z"
   },
   {
    "duration": 926,
    "start_time": "2023-03-02T08:59:27.987Z"
   },
   {
    "duration": 282,
    "start_time": "2023-03-02T08:59:29.667Z"
   },
   {
    "duration": 14,
    "start_time": "2023-03-02T08:59:32.179Z"
   },
   {
    "duration": 330,
    "start_time": "2023-03-02T08:59:33.554Z"
   },
   {
    "duration": 4,
    "start_time": "2023-03-02T08:59:35.842Z"
   },
   {
    "duration": 4,
    "start_time": "2023-03-02T08:59:36.115Z"
   },
   {
    "duration": 17,
    "start_time": "2023-03-02T08:59:38.241Z"
   },
   {
    "duration": 28480,
    "start_time": "2023-03-02T08:59:40.632Z"
   },
   {
    "duration": 22567,
    "start_time": "2023-03-02T09:00:19.590Z"
   },
   {
    "duration": 132,
    "start_time": "2023-03-02T09:00:51.916Z"
   },
   {
    "duration": 6,
    "start_time": "2023-03-02T09:01:01.564Z"
   },
   {
    "duration": 10,
    "start_time": "2023-03-02T09:01:16.160Z"
   },
   {
    "duration": 2337,
    "start_time": "2023-03-02T09:02:25.231Z"
   },
   {
    "duration": 5,
    "start_time": "2023-03-02T09:02:30.283Z"
   },
   {
    "duration": 6,
    "start_time": "2023-03-02T09:02:50.465Z"
   },
   {
    "duration": 13147,
    "start_time": "2023-03-02T09:02:55.179Z"
   },
   {
    "duration": 14,
    "start_time": "2023-03-02T09:03:21.809Z"
   },
   {
    "duration": 11,
    "start_time": "2023-03-02T09:03:51.750Z"
   },
   {
    "duration": 12,
    "start_time": "2023-03-02T09:11:22.492Z"
   },
   {
    "duration": 10873,
    "start_time": "2023-03-02T09:13:37.053Z"
   },
   {
    "duration": 118,
    "start_time": "2023-03-02T09:14:20.015Z"
   },
   {
    "duration": 2567,
    "start_time": "2023-03-02T09:16:23.458Z"
   },
   {
    "duration": 2658,
    "start_time": "2023-03-02T09:16:42.445Z"
   },
   {
    "duration": 6,
    "start_time": "2023-03-02T09:16:47.418Z"
   },
   {
    "duration": 11110,
    "start_time": "2023-03-02T09:16:50.825Z"
   },
   {
    "duration": 1574,
    "start_time": "2023-03-02T09:17:43.246Z"
   },
   {
    "duration": 150,
    "start_time": "2023-03-02T09:17:46.492Z"
   },
   {
    "duration": 890,
    "start_time": "2023-03-02T09:17:47.737Z"
   },
   {
    "duration": 281,
    "start_time": "2023-03-02T09:17:49.746Z"
   },
   {
    "duration": 13,
    "start_time": "2023-03-02T09:17:52.410Z"
   },
   {
    "duration": 357,
    "start_time": "2023-03-02T09:17:53.464Z"
   },
   {
    "duration": 3,
    "start_time": "2023-03-02T09:17:55.512Z"
   },
   {
    "duration": 5,
    "start_time": "2023-03-02T09:17:55.784Z"
   },
   {
    "duration": 23,
    "start_time": "2023-03-02T09:17:56.736Z"
   },
   {
    "duration": 28836,
    "start_time": "2023-03-02T09:17:58.390Z"
   },
   {
    "duration": 23598,
    "start_time": "2023-03-02T09:24:51.236Z"
   },
   {
    "duration": 10,
    "start_time": "2023-03-02T09:25:25.966Z"
   },
   {
    "duration": 122,
    "start_time": "2023-03-02T09:25:29.179Z"
   },
   {
    "duration": 9,
    "start_time": "2023-03-02T09:25:36.330Z"
   },
   {
    "duration": 133,
    "start_time": "2023-03-02T09:25:41.074Z"
   },
   {
    "duration": 13,
    "start_time": "2023-03-02T09:25:43.297Z"
   },
   {
    "duration": 2654,
    "start_time": "2023-03-02T09:25:44.496Z"
   },
   {
    "duration": 6,
    "start_time": "2023-03-02T09:25:49.582Z"
   },
   {
    "duration": 12426,
    "start_time": "2023-03-02T09:25:52.205Z"
   },
   {
    "duration": 13269,
    "start_time": "2023-03-02T09:26:15.259Z"
   },
   {
    "duration": 11524,
    "start_time": "2023-03-02T09:26:59.696Z"
   },
   {
    "duration": 1404,
    "start_time": "2023-03-02T10:07:43.552Z"
   },
   {
    "duration": 202,
    "start_time": "2023-03-02T10:07:45.991Z"
   },
   {
    "duration": 820,
    "start_time": "2023-03-02T10:07:46.959Z"
   },
   {
    "duration": 249,
    "start_time": "2023-03-02T10:07:49.654Z"
   },
   {
    "duration": 14,
    "start_time": "2023-03-02T10:07:52.023Z"
   },
   {
    "duration": 330,
    "start_time": "2023-03-02T10:07:53.023Z"
   },
   {
    "duration": 3,
    "start_time": "2023-03-02T10:07:55.124Z"
   },
   {
    "duration": 3,
    "start_time": "2023-03-02T10:07:55.879Z"
   },
   {
    "duration": 16,
    "start_time": "2023-03-02T10:07:57.475Z"
   },
   {
    "duration": 27224,
    "start_time": "2023-03-02T10:07:59.036Z"
   },
   {
    "duration": 25100,
    "start_time": "2023-03-02T10:08:35.254Z"
   },
   {
    "duration": 7,
    "start_time": "2023-03-02T10:09:03.988Z"
   },
   {
    "duration": 9,
    "start_time": "2023-03-02T10:09:08.475Z"
   },
   {
    "duration": 2385,
    "start_time": "2023-03-02T10:09:09.249Z"
   },
   {
    "duration": 5,
    "start_time": "2023-03-02T10:09:17.725Z"
   },
   {
    "duration": 12877,
    "start_time": "2023-03-02T10:09:21.367Z"
   },
   {
    "duration": 10170,
    "start_time": "2023-03-02T10:09:48.952Z"
   },
   {
    "duration": 3510,
    "start_time": "2023-03-02T10:11:32.669Z"
   },
   {
    "duration": 5,
    "start_time": "2023-03-02T10:11:38.130Z"
   },
   {
    "duration": 12427,
    "start_time": "2023-03-02T10:11:41.510Z"
   },
   {
    "duration": 4,
    "start_time": "2023-03-02T10:12:27.800Z"
   },
   {
    "duration": 4,
    "start_time": "2023-03-02T10:12:39.836Z"
   },
   {
    "duration": 10344,
    "start_time": "2023-03-02T10:14:32.088Z"
   },
   {
    "duration": 2055,
    "start_time": "2023-03-02T10:15:20.172Z"
   },
   {
    "duration": 12418,
    "start_time": "2023-03-02T10:15:28.011Z"
   },
   {
    "duration": 13008,
    "start_time": "2023-03-02T10:15:50.125Z"
   },
   {
    "duration": 146482,
    "start_time": "2023-03-02T10:21:42.905Z"
   },
   {
    "duration": 501,
    "start_time": "2023-03-02T10:29:58.889Z"
   },
   {
    "duration": 515,
    "start_time": "2023-03-02T10:31:52.375Z"
   },
   {
    "duration": 537,
    "start_time": "2023-03-02T10:32:12.601Z"
   },
   {
    "duration": 4,
    "start_time": "2023-03-02T10:32:37.930Z"
   },
   {
    "duration": 564,
    "start_time": "2023-03-02T10:32:45.248Z"
   },
   {
    "duration": 11624,
    "start_time": "2023-03-02T10:33:33.430Z"
   },
   {
    "duration": 556,
    "start_time": "2023-03-02T10:34:04.236Z"
   },
   {
    "duration": 4,
    "start_time": "2023-03-02T10:34:15.136Z"
   },
   {
    "duration": 10651,
    "start_time": "2023-03-02T10:34:19.283Z"
   },
   {
    "duration": 6,
    "start_time": "2023-03-02T10:36:02.478Z"
   },
   {
    "duration": 12198,
    "start_time": "2023-03-02T10:36:09.336Z"
   },
   {
    "duration": 535,
    "start_time": "2023-03-02T10:36:28.669Z"
   },
   {
    "duration": 517,
    "start_time": "2023-03-02T10:37:59.437Z"
   },
   {
    "duration": 11585,
    "start_time": "2023-03-02T10:38:34.537Z"
   },
   {
    "duration": 1507,
    "start_time": "2023-03-02T10:38:53.605Z"
   },
   {
    "duration": 128,
    "start_time": "2023-03-02T10:38:55.114Z"
   },
   {
    "duration": 866,
    "start_time": "2023-03-02T10:38:55.244Z"
   },
   {
    "duration": 285,
    "start_time": "2023-03-02T10:38:56.113Z"
   },
   {
    "duration": 24,
    "start_time": "2023-03-02T10:38:56.400Z"
   },
   {
    "duration": 328,
    "start_time": "2023-03-02T10:38:56.426Z"
   },
   {
    "duration": 3,
    "start_time": "2023-03-02T10:38:56.755Z"
   },
   {
    "duration": 9,
    "start_time": "2023-03-02T10:38:56.759Z"
   },
   {
    "duration": 22,
    "start_time": "2023-03-02T10:38:56.770Z"
   },
   {
    "duration": 27379,
    "start_time": "2023-03-02T10:38:56.795Z"
   },
   {
    "duration": 21399,
    "start_time": "2023-03-02T10:39:24.176Z"
   },
   {
    "duration": 6,
    "start_time": "2023-03-02T10:39:45.577Z"
   },
   {
    "duration": 6,
    "start_time": "2023-03-02T10:39:45.585Z"
   },
   {
    "duration": 13,
    "start_time": "2023-03-02T10:39:45.592Z"
   },
   {
    "duration": 120,
    "start_time": "2023-03-02T10:39:45.606Z"
   },
   {
    "duration": 10,
    "start_time": "2023-03-02T10:39:45.728Z"
   },
   {
    "duration": 2052,
    "start_time": "2023-03-02T10:39:45.739Z"
   },
   {
    "duration": 11839,
    "start_time": "2023-03-02T10:39:47.793Z"
   },
   {
    "duration": 147148,
    "start_time": "2023-03-02T10:39:59.634Z"
   },
   {
    "duration": 1392226,
    "start_time": "2023-03-02T10:42:26.784Z"
   },
   {
    "duration": 0,
    "start_time": "2023-03-02T11:05:39.012Z"
   },
   {
    "duration": 11866,
    "start_time": "2023-03-02T11:06:03.967Z"
   },
   {
    "duration": 11,
    "start_time": "2023-03-02T11:07:03.472Z"
   },
   {
    "duration": 16,
    "start_time": "2023-03-02T11:07:05.317Z"
   },
   {
    "duration": 8,
    "start_time": "2023-03-02T11:09:04.591Z"
   },
   {
    "duration": 6,
    "start_time": "2023-03-02T11:09:19.085Z"
   },
   {
    "duration": 4,
    "start_time": "2023-03-02T11:10:44.078Z"
   },
   {
    "duration": 5,
    "start_time": "2023-03-02T11:10:59.819Z"
   },
   {
    "duration": 16,
    "start_time": "2023-03-02T11:11:02.276Z"
   },
   {
    "duration": 15,
    "start_time": "2023-03-02T11:12:09.992Z"
   },
   {
    "duration": 4,
    "start_time": "2023-03-02T11:35:16.069Z"
   },
   {
    "duration": 42,
    "start_time": "2023-03-02T11:35:20.058Z"
   },
   {
    "duration": 7495,
    "start_time": "2023-03-02T11:35:21.217Z"
   },
   {
    "duration": 642,
    "start_time": "2023-03-02T11:35:33.423Z"
   },
   {
    "duration": 20865,
    "start_time": "2023-03-02T11:35:36.790Z"
   },
   {
    "duration": 6,
    "start_time": "2023-03-02T11:36:03.064Z"
   },
   {
    "duration": 7,
    "start_time": "2023-03-02T11:36:06.838Z"
   },
   {
    "duration": 16,
    "start_time": "2023-03-02T11:36:11.620Z"
   },
   {
    "duration": 7,
    "start_time": "2023-03-02T11:36:12.309Z"
   },
   {
    "duration": 17,
    "start_time": "2023-03-02T11:36:17.155Z"
   },
   {
    "duration": 1439,
    "start_time": "2023-03-02T11:36:30.191Z"
   },
   {
    "duration": 214,
    "start_time": "2023-03-02T11:36:31.632Z"
   },
   {
    "duration": 848,
    "start_time": "2023-03-02T11:36:31.847Z"
   },
   {
    "duration": 271,
    "start_time": "2023-03-02T11:36:32.697Z"
   },
   {
    "duration": 16,
    "start_time": "2023-03-02T11:36:32.970Z"
   },
   {
    "duration": 348,
    "start_time": "2023-03-02T11:36:32.987Z"
   },
   {
    "duration": 3,
    "start_time": "2023-03-02T11:36:33.337Z"
   },
   {
    "duration": 16,
    "start_time": "2023-03-02T11:36:33.342Z"
   },
   {
    "duration": 22,
    "start_time": "2023-03-02T11:36:33.359Z"
   },
   {
    "duration": 654,
    "start_time": "2023-03-02T11:36:33.384Z"
   },
   {
    "duration": 20045,
    "start_time": "2023-03-02T11:36:34.040Z"
   },
   {
    "duration": 6,
    "start_time": "2023-03-02T11:36:54.087Z"
   },
   {
    "duration": 26,
    "start_time": "2023-03-02T11:36:54.095Z"
   },
   {
    "duration": 117,
    "start_time": "2023-03-02T11:36:54.123Z"
   },
   {
    "duration": 10,
    "start_time": "2023-03-02T11:36:54.241Z"
   },
   {
    "duration": 6,
    "start_time": "2023-03-02T11:36:54.253Z"
   },
   {
    "duration": 141,
    "start_time": "2023-03-02T11:36:54.261Z"
   },
   {
    "duration": 0,
    "start_time": "2023-03-02T11:36:54.404Z"
   },
   {
    "duration": 0,
    "start_time": "2023-03-02T11:36:54.405Z"
   },
   {
    "duration": 0,
    "start_time": "2023-03-02T11:36:54.406Z"
   },
   {
    "duration": 15,
    "start_time": "2023-03-02T11:37:15.207Z"
   },
   {
    "duration": 2066,
    "start_time": "2023-03-02T11:38:38.173Z"
   },
   {
    "duration": 14382,
    "start_time": "2023-03-02T11:38:43.447Z"
   },
   {
    "duration": 11,
    "start_time": "2023-03-02T11:39:17.502Z"
   },
   {
    "duration": 11,
    "start_time": "2023-03-02T11:41:38.360Z"
   },
   {
    "duration": 11,
    "start_time": "2023-03-02T11:41:41.170Z"
   },
   {
    "duration": 13542,
    "start_time": "2023-03-02T11:41:54.487Z"
   },
   {
    "duration": 11,
    "start_time": "2023-03-02T11:46:11.208Z"
   },
   {
    "duration": 4,
    "start_time": "2023-03-02T11:46:40.292Z"
   },
   {
    "duration": 10,
    "start_time": "2023-03-02T11:46:46.575Z"
   },
   {
    "duration": 34953,
    "start_time": "2023-03-02T11:46:56.169Z"
   },
   {
    "duration": 33830,
    "start_time": "2023-03-02T11:47:43.797Z"
   },
   {
    "duration": 14179,
    "start_time": "2023-03-02T11:48:25.349Z"
   },
   {
    "duration": 13728,
    "start_time": "2023-03-02T11:48:43.405Z"
   },
   {
    "duration": 13300,
    "start_time": "2023-03-02T11:49:02.431Z"
   },
   {
    "duration": 31139,
    "start_time": "2023-03-02T11:49:19.984Z"
   },
   {
    "duration": 13,
    "start_time": "2023-03-02T11:50:11.142Z"
   },
   {
    "duration": 11,
    "start_time": "2023-03-02T11:50:30.762Z"
   },
   {
    "duration": 35474,
    "start_time": "2023-03-02T11:51:35.249Z"
   },
   {
    "duration": 14183,
    "start_time": "2023-03-02T11:52:40.741Z"
   },
   {
    "duration": 12380,
    "start_time": "2023-03-02T11:53:14.447Z"
   },
   {
    "duration": 6,
    "start_time": "2023-03-02T11:56:21.493Z"
   },
   {
    "duration": 3,
    "start_time": "2023-03-02T11:59:57.302Z"
   },
   {
    "duration": 23,
    "start_time": "2023-03-02T11:59:59.417Z"
   },
   {
    "duration": 40,
    "start_time": "2023-03-02T12:00:02.615Z"
   },
   {
    "duration": 842,
    "start_time": "2023-03-02T12:00:03.703Z"
   },
   {
    "duration": 22559,
    "start_time": "2023-03-02T12:00:05.587Z"
   },
   {
    "duration": 13,
    "start_time": "2023-03-02T12:00:33.694Z"
   },
   {
    "duration": 6,
    "start_time": "2023-03-02T12:00:36.061Z"
   },
   {
    "duration": 118,
    "start_time": "2023-03-02T12:00:39.296Z"
   },
   {
    "duration": 17,
    "start_time": "2023-03-02T12:00:42.091Z"
   },
   {
    "duration": 2318,
    "start_time": "2023-03-02T12:00:42.869Z"
   },
   {
    "duration": 13364,
    "start_time": "2023-03-02T12:00:59.767Z"
   },
   {
    "duration": 15,
    "start_time": "2023-03-02T12:05:04.583Z"
   },
   {
    "duration": 5,
    "start_time": "2023-03-02T12:05:42.734Z"
   },
   {
    "duration": 24,
    "start_time": "2023-03-02T12:05:46.918Z"
   },
   {
    "duration": 4,
    "start_time": "2023-03-02T12:05:51.075Z"
   },
   {
    "duration": 40,
    "start_time": "2023-03-02T12:05:51.388Z"
   },
   {
    "duration": 716,
    "start_time": "2023-03-02T12:05:52.304Z"
   },
   {
    "duration": 1900,
    "start_time": "2023-03-02T12:05:53.851Z"
   },
   {
    "duration": 8,
    "start_time": "2023-03-02T12:05:58.434Z"
   },
   {
    "duration": 6,
    "start_time": "2023-03-02T12:06:01.306Z"
   },
   {
    "duration": 23,
    "start_time": "2023-03-02T12:06:15.089Z"
   },
   {
    "duration": 2267,
    "start_time": "2023-03-02T12:06:15.701Z"
   },
   {
    "duration": 14613,
    "start_time": "2023-03-02T12:06:20.421Z"
   },
   {
    "duration": 38578,
    "start_time": "2023-03-02T12:06:40.144Z"
   },
   {
    "duration": 14778,
    "start_time": "2023-03-02T12:07:24.345Z"
   },
   {
    "duration": 7,
    "start_time": "2023-03-02T12:07:53.199Z"
   },
   {
    "duration": 12,
    "start_time": "2023-03-02T12:08:00.235Z"
   },
   {
    "duration": 2287,
    "start_time": "2023-03-02T12:08:00.854Z"
   },
   {
    "duration": 12958,
    "start_time": "2023-03-02T12:08:07.769Z"
   },
   {
    "duration": 11,
    "start_time": "2023-03-02T12:08:30.789Z"
   },
   {
    "duration": 14,
    "start_time": "2023-03-02T12:08:42.846Z"
   },
   {
    "duration": 14,
    "start_time": "2023-03-02T12:08:54.942Z"
   },
   {
    "duration": 1635,
    "start_time": "2023-03-02T12:10:01.407Z"
   },
   {
    "duration": 921,
    "start_time": "2023-03-02T12:10:05.482Z"
   },
   {
    "duration": 16,
    "start_time": "2023-03-02T12:10:08.780Z"
   },
   {
    "duration": 4,
    "start_time": "2023-03-02T12:10:13.038Z"
   },
   {
    "duration": 3,
    "start_time": "2023-03-02T12:10:13.487Z"
   },
   {
    "duration": 2243,
    "start_time": "2023-03-02T12:10:16.942Z"
   },
   {
    "duration": 2889,
    "start_time": "2023-03-02T12:10:21.065Z"
   },
   {
    "duration": 12,
    "start_time": "2023-03-02T12:10:26.527Z"
   },
   {
    "duration": 9,
    "start_time": "2023-03-02T12:10:29.539Z"
   },
   {
    "duration": 143,
    "start_time": "2023-03-02T12:10:35.441Z"
   },
   {
    "duration": 26,
    "start_time": "2023-03-02T12:10:48.921Z"
   },
   {
    "duration": 7523,
    "start_time": "2023-03-02T12:10:50.888Z"
   },
   {
    "duration": 12,
    "start_time": "2023-03-02T12:11:02.149Z"
   },
   {
    "duration": 51958,
    "start_time": "2023-03-02T12:11:07.700Z"
   },
   {
    "duration": 18,
    "start_time": "2023-03-02T12:12:07.477Z"
   },
   {
    "duration": 17,
    "start_time": "2023-03-02T12:12:26.353Z"
   },
   {
    "duration": 15,
    "start_time": "2023-03-02T12:12:32.616Z"
   },
   {
    "duration": 53693,
    "start_time": "2023-03-02T12:17:41.735Z"
   },
   {
    "duration": 1626,
    "start_time": "2023-03-02T12:19:14.183Z"
   },
   {
    "duration": 984,
    "start_time": "2023-03-02T12:19:15.812Z"
   },
   {
    "duration": 16,
    "start_time": "2023-03-02T12:19:18.017Z"
   },
   {
    "duration": 3,
    "start_time": "2023-03-02T12:19:20.413Z"
   },
   {
    "duration": 3,
    "start_time": "2023-03-02T12:19:20.797Z"
   },
   {
    "duration": 2267,
    "start_time": "2023-03-02T12:19:24.995Z"
   },
   {
    "duration": 2871,
    "start_time": "2023-03-02T12:19:28.193Z"
   },
   {
    "duration": 9,
    "start_time": "2023-03-02T12:19:48.821Z"
   },
   {
    "duration": 11,
    "start_time": "2023-03-02T12:19:53.286Z"
   },
   {
    "duration": 28,
    "start_time": "2023-03-02T12:19:57.626Z"
   },
   {
    "duration": 7943,
    "start_time": "2023-03-02T12:20:00.370Z"
   },
   {
    "duration": 52856,
    "start_time": "2023-03-02T12:20:11.424Z"
   },
   {
    "duration": 230,
    "start_time": "2023-03-02T12:21:11.744Z"
   },
   {
    "duration": 10,
    "start_time": "2023-03-02T12:23:05.044Z"
   },
   {
    "duration": 5,
    "start_time": "2023-03-02T12:23:20.900Z"
   },
   {
    "duration": 29,
    "start_time": "2023-03-02T12:23:50.193Z"
   },
   {
    "duration": 113543,
    "start_time": "2023-03-02T12:24:22.785Z"
   },
   {
    "duration": 1647,
    "start_time": "2023-03-02T12:46:33.552Z"
   },
   {
    "duration": 1014,
    "start_time": "2023-03-02T12:46:35.201Z"
   },
   {
    "duration": 323,
    "start_time": "2023-03-02T12:46:36.217Z"
   },
   {
    "duration": 15,
    "start_time": "2023-03-02T12:46:36.542Z"
   },
   {
    "duration": 382,
    "start_time": "2023-03-02T12:46:36.559Z"
   },
   {
    "duration": 3,
    "start_time": "2023-03-02T12:46:36.943Z"
   },
   {
    "duration": 6,
    "start_time": "2023-03-02T12:46:36.947Z"
   },
   {
    "duration": 2144,
    "start_time": "2023-03-02T12:46:36.955Z"
   },
   {
    "duration": 2780,
    "start_time": "2023-03-02T12:46:39.101Z"
   },
   {
    "duration": 11,
    "start_time": "2023-03-02T12:46:41.884Z"
   },
   {
    "duration": 37,
    "start_time": "2023-03-02T12:46:41.897Z"
   },
   {
    "duration": 7464,
    "start_time": "2023-03-02T12:46:41.935Z"
   },
   {
    "duration": 52164,
    "start_time": "2023-03-02T12:46:49.400Z"
   },
   {
    "duration": 611082,
    "start_time": "2023-03-02T12:47:41.566Z"
   },
   {
    "duration": 0,
    "start_time": "2023-03-02T12:57:52.650Z"
   },
   {
    "duration": 0,
    "start_time": "2023-03-02T12:57:52.652Z"
   },
   {
    "duration": 17,
    "start_time": "2023-03-02T12:58:22.335Z"
   },
   {
    "duration": 6,
    "start_time": "2023-03-02T12:59:06.470Z"
   },
   {
    "duration": 35674,
    "start_time": "2023-03-02T12:59:31.555Z"
   },
   {
    "duration": 1542,
    "start_time": "2023-03-02T13:03:15.951Z"
   },
   {
    "duration": 942,
    "start_time": "2023-03-02T13:03:17.495Z"
   },
   {
    "duration": 302,
    "start_time": "2023-03-02T13:03:18.438Z"
   },
   {
    "duration": 15,
    "start_time": "2023-03-02T13:03:18.743Z"
   },
   {
    "duration": 385,
    "start_time": "2023-03-02T13:03:18.760Z"
   },
   {
    "duration": 3,
    "start_time": "2023-03-02T13:03:19.147Z"
   },
   {
    "duration": 10,
    "start_time": "2023-03-02T13:03:19.152Z"
   },
   {
    "duration": 134,
    "start_time": "2023-03-02T13:03:19.164Z"
   },
   {
    "duration": 0,
    "start_time": "2023-03-02T13:03:19.301Z"
   },
   {
    "duration": 0,
    "start_time": "2023-03-02T13:03:19.302Z"
   },
   {
    "duration": 0,
    "start_time": "2023-03-02T13:03:19.303Z"
   },
   {
    "duration": 0,
    "start_time": "2023-03-02T13:03:19.305Z"
   },
   {
    "duration": 0,
    "start_time": "2023-03-02T13:03:19.320Z"
   },
   {
    "duration": 0,
    "start_time": "2023-03-02T13:03:19.322Z"
   },
   {
    "duration": 0,
    "start_time": "2023-03-02T13:03:19.324Z"
   },
   {
    "duration": 0,
    "start_time": "2023-03-02T13:03:19.325Z"
   },
   {
    "duration": 0,
    "start_time": "2023-03-02T13:03:19.327Z"
   },
   {
    "duration": 26,
    "start_time": "2023-03-02T13:03:30.876Z"
   },
   {
    "duration": 652,
    "start_time": "2023-03-02T13:03:33.047Z"
   },
   {
    "duration": 1803,
    "start_time": "2023-03-02T13:03:34.208Z"
   },
   {
    "duration": 6,
    "start_time": "2023-03-02T13:03:36.726Z"
   },
   {
    "duration": 9,
    "start_time": "2023-03-02T13:03:38.078Z"
   },
   {
    "duration": 2265,
    "start_time": "2023-03-02T13:03:39.865Z"
   },
   {
    "duration": 11373,
    "start_time": "2023-03-02T13:03:44.556Z"
   },
   {
    "duration": 61181,
    "start_time": "2023-03-02T13:04:00.826Z"
   },
   {
    "duration": 9,
    "start_time": "2023-03-02T13:05:43.007Z"
   },
   {
    "duration": 13365,
    "start_time": "2023-03-02T13:06:04.773Z"
   },
   {
    "duration": 11,
    "start_time": "2023-03-02T13:06:22.593Z"
   },
   {
    "duration": 21,
    "start_time": "2023-03-02T13:06:35.808Z"
   },
   {
    "duration": 816,
    "start_time": "2023-03-02T13:06:37.264Z"
   },
   {
    "duration": 616,
    "start_time": "2023-03-02T13:06:38.626Z"
   },
   {
    "duration": 8,
    "start_time": "2023-03-02T13:06:41.057Z"
   },
   {
    "duration": 27,
    "start_time": "2023-03-02T13:06:41.879Z"
   },
   {
    "duration": 2870,
    "start_time": "2023-03-02T13:06:43.530Z"
   },
   {
    "duration": 14041,
    "start_time": "2023-03-02T13:06:48.788Z"
   },
   {
    "duration": 12,
    "start_time": "2023-03-02T13:07:45.142Z"
   },
   {
    "duration": 26,
    "start_time": "2023-03-02T13:08:26.070Z"
   },
   {
    "duration": 1377,
    "start_time": "2023-03-02T13:08:26.596Z"
   },
   {
    "duration": 987,
    "start_time": "2023-03-02T13:08:28.756Z"
   },
   {
    "duration": 10,
    "start_time": "2023-03-02T13:08:30.354Z"
   },
   {
    "duration": 33,
    "start_time": "2023-03-02T13:08:31.026Z"
   },
   {
    "duration": 17,
    "start_time": "2023-03-02T13:08:34.776Z"
   },
   {
    "duration": 15,
    "start_time": "2023-03-02T13:08:43.436Z"
   },
   {
    "duration": 1521,
    "start_time": "2023-03-02T13:08:53.320Z"
   },
   {
    "duration": 5,
    "start_time": "2023-03-02T13:08:55.012Z"
   },
   {
    "duration": 877,
    "start_time": "2023-03-02T13:08:58.153Z"
   },
   {
    "duration": 264,
    "start_time": "2023-03-02T13:08:59.604Z"
   },
   {
    "duration": 15,
    "start_time": "2023-03-02T13:09:01.434Z"
   },
   {
    "duration": 355,
    "start_time": "2023-03-02T13:09:02.044Z"
   },
   {
    "duration": 4,
    "start_time": "2023-03-02T13:09:04.822Z"
   },
   {
    "duration": 3,
    "start_time": "2023-03-02T13:09:06.827Z"
   },
   {
    "duration": 25,
    "start_time": "2023-03-02T13:09:08.776Z"
   },
   {
    "duration": 1280,
    "start_time": "2023-03-02T13:09:09.506Z"
   },
   {
    "duration": 2105,
    "start_time": "2023-03-02T13:09:11.591Z"
   },
   {
    "duration": 7,
    "start_time": "2023-03-02T13:09:14.217Z"
   },
   {
    "duration": 20,
    "start_time": "2023-03-02T13:09:16.333Z"
   },
   {
    "duration": 4249,
    "start_time": "2023-03-02T13:09:16.975Z"
   },
   {
    "duration": 40015,
    "start_time": "2023-03-02T13:09:23.709Z"
   },
   {
    "duration": 14,
    "start_time": "2023-03-02T13:10:08.634Z"
   },
   {
    "duration": 31,
    "start_time": "2023-03-02T13:10:23.872Z"
   },
   {
    "duration": 1744,
    "start_time": "2023-03-02T13:10:25.025Z"
   },
   {
    "duration": 1374,
    "start_time": "2023-03-02T13:10:27.436Z"
   },
   {
    "duration": 10,
    "start_time": "2023-03-02T13:10:29.548Z"
   },
   {
    "duration": 48,
    "start_time": "2023-03-02T13:10:30.449Z"
   },
   {
    "duration": 5562,
    "start_time": "2023-03-02T13:10:31.890Z"
   },
   {
    "duration": 41914,
    "start_time": "2023-03-02T13:10:40.127Z"
   },
   {
    "duration": 18,
    "start_time": "2023-03-02T13:11:28.856Z"
   },
   {
    "duration": 1484,
    "start_time": "2023-03-02T13:12:56.853Z"
   },
   {
    "duration": 859,
    "start_time": "2023-03-02T13:12:58.339Z"
   },
   {
    "duration": 266,
    "start_time": "2023-03-02T13:12:59.199Z"
   },
   {
    "duration": 14,
    "start_time": "2023-03-02T13:12:59.467Z"
   },
   {
    "duration": 350,
    "start_time": "2023-03-02T13:12:59.483Z"
   },
   {
    "duration": 2,
    "start_time": "2023-03-02T13:12:59.835Z"
   },
   {
    "duration": 13,
    "start_time": "2023-03-02T13:12:59.840Z"
   },
   {
    "duration": 6,
    "start_time": "2023-03-02T13:12:59.855Z"
   },
   {
    "duration": 1993,
    "start_time": "2023-03-02T13:12:59.863Z"
   },
   {
    "duration": 2641,
    "start_time": "2023-03-02T13:13:01.859Z"
   },
   {
    "duration": 19,
    "start_time": "2023-03-02T13:13:04.502Z"
   },
   {
    "duration": 40,
    "start_time": "2023-03-02T13:13:04.523Z"
   },
   {
    "duration": 6700,
    "start_time": "2023-03-02T13:13:04.565Z"
   },
   {
    "duration": 54889,
    "start_time": "2023-03-02T13:13:11.267Z"
   },
   {
    "duration": 151868,
    "start_time": "2023-03-02T13:14:06.158Z"
   },
   {
    "duration": 1663857,
    "start_time": "2023-03-02T13:16:38.028Z"
   },
   {
    "duration": 19,
    "start_time": "2023-03-02T13:44:21.921Z"
   },
   {
    "duration": 3,
    "start_time": "2023-03-02T13:44:21.942Z"
   },
   {
    "duration": 48554,
    "start_time": "2023-03-02T13:49:58.857Z"
   },
   {
    "duration": 1463,
    "start_time": "2023-03-03T10:26:49.546Z"
   },
   {
    "duration": 2626,
    "start_time": "2023-03-03T10:26:52.945Z"
   },
   {
    "duration": 256,
    "start_time": "2023-03-03T10:27:02.207Z"
   },
   {
    "duration": 249,
    "start_time": "2023-03-03T10:30:16.777Z"
   },
   {
    "duration": 222,
    "start_time": "2023-03-03T10:30:39.505Z"
   },
   {
    "duration": 1432,
    "start_time": "2023-03-03T10:47:45.906Z"
   },
   {
    "duration": 886,
    "start_time": "2023-03-03T10:47:48.032Z"
   },
   {
    "duration": 270,
    "start_time": "2023-03-03T10:47:51.342Z"
   },
   {
    "duration": 2,
    "start_time": "2023-03-03T10:47:55.942Z"
   },
   {
    "duration": 525,
    "start_time": "2023-03-03T10:47:56.794Z"
   },
   {
    "duration": 4,
    "start_time": "2023-03-03T10:57:10.781Z"
   },
   {
    "duration": 4,
    "start_time": "2023-03-03T10:57:30.309Z"
   },
   {
    "duration": 4,
    "start_time": "2023-03-03T10:58:31.828Z"
   },
   {
    "duration": 6,
    "start_time": "2023-03-03T10:58:37.619Z"
   },
   {
    "duration": 3,
    "start_time": "2023-03-03T10:59:12.385Z"
   },
   {
    "duration": 2403,
    "start_time": "2023-03-03T10:59:17.177Z"
   },
   {
    "duration": 551,
    "start_time": "2023-03-03T10:59:21.183Z"
   },
   {
    "duration": 628,
    "start_time": "2023-03-03T10:59:57.245Z"
   },
   {
    "duration": 1157390,
    "start_time": "2023-03-03T11:00:02.838Z"
   },
   {
    "duration": 13,
    "start_time": "2023-03-03T12:10:18.537Z"
   },
   {
    "duration": 61,
    "start_time": "2023-03-03T12:10:25.971Z"
   },
   {
    "duration": 14,
    "start_time": "2023-03-03T12:10:34.073Z"
   },
   {
    "duration": 1855,
    "start_time": "2023-03-03T12:12:26.399Z"
   },
   {
    "duration": 12,
    "start_time": "2023-03-03T12:12:37.774Z"
   },
   {
    "duration": 95,
    "start_time": "2023-03-03T12:26:28.815Z"
   },
   {
    "duration": 5299,
    "start_time": "2023-03-03T12:26:54.679Z"
   },
   {
    "duration": 44,
    "start_time": "2023-03-03T12:27:08.633Z"
   },
   {
    "duration": 1845950,
    "start_time": "2023-03-03T12:27:25.999Z"
   },
   {
    "duration": 1574,
    "start_time": "2023-03-03T12:58:49.956Z"
   },
   {
    "duration": 2561,
    "start_time": "2023-03-03T12:58:54.431Z"
   },
   {
    "duration": 923,
    "start_time": "2023-03-03T12:59:01.444Z"
   },
   {
    "duration": 268,
    "start_time": "2023-03-03T12:59:06.580Z"
   },
   {
    "duration": 364,
    "start_time": "2023-03-03T12:59:09.844Z"
   },
   {
    "duration": 176,
    "start_time": "2023-03-03T12:59:16.870Z"
   },
   {
    "duration": 3,
    "start_time": "2023-03-03T12:59:23.245Z"
   },
   {
    "duration": 2603,
    "start_time": "2023-03-03T12:59:27.269Z"
   },
   {
    "duration": 1753229,
    "start_time": "2023-03-03T12:59:33.364Z"
   },
   {
    "duration": 96,
    "start_time": "2023-03-03T13:29:33.619Z"
   },
   {
    "duration": 74,
    "start_time": "2023-03-03T13:29:35.331Z"
   },
   {
    "duration": 7012,
    "start_time": "2023-03-03T13:29:39.920Z"
   },
   {
    "duration": 51221,
    "start_time": "2023-03-03T13:29:53.349Z"
   },
   {
    "duration": 1605,
    "start_time": "2023-03-04T09:32:44.269Z"
   },
   {
    "duration": 0,
    "start_time": "2023-03-04T09:32:45.876Z"
   },
   {
    "duration": 0,
    "start_time": "2023-03-04T09:32:45.877Z"
   },
   {
    "duration": 0,
    "start_time": "2023-03-04T09:32:45.879Z"
   },
   {
    "duration": 0,
    "start_time": "2023-03-04T09:32:45.879Z"
   },
   {
    "duration": 0,
    "start_time": "2023-03-04T09:32:45.881Z"
   },
   {
    "duration": 0,
    "start_time": "2023-03-04T09:32:45.881Z"
   },
   {
    "duration": 0,
    "start_time": "2023-03-04T09:32:45.882Z"
   },
   {
    "duration": 0,
    "start_time": "2023-03-04T09:32:45.883Z"
   },
   {
    "duration": 0,
    "start_time": "2023-03-04T09:32:45.884Z"
   },
   {
    "duration": 0,
    "start_time": "2023-03-04T09:32:45.885Z"
   },
   {
    "duration": 0,
    "start_time": "2023-03-04T09:32:45.886Z"
   },
   {
    "duration": 0,
    "start_time": "2023-03-04T09:32:45.887Z"
   },
   {
    "duration": 0,
    "start_time": "2023-03-04T09:32:45.888Z"
   },
   {
    "duration": 0,
    "start_time": "2023-03-04T09:32:45.912Z"
   },
   {
    "duration": 0,
    "start_time": "2023-03-04T09:32:45.913Z"
   },
   {
    "duration": 0,
    "start_time": "2023-03-04T09:32:45.914Z"
   },
   {
    "duration": 0,
    "start_time": "2023-03-04T09:32:45.915Z"
   },
   {
    "duration": 0,
    "start_time": "2023-03-04T09:32:45.916Z"
   },
   {
    "duration": 5112,
    "start_time": "2023-03-04T09:32:56.977Z"
   },
   {
    "duration": 39,
    "start_time": "2023-03-04T09:33:09.077Z"
   },
   {
    "duration": 3458,
    "start_time": "2023-03-04T09:33:14.085Z"
   },
   {
    "duration": 1453,
    "start_time": "2023-03-04T09:33:37.712Z"
   },
   {
    "duration": 57,
    "start_time": "2023-03-04T09:33:39.167Z"
   },
   {
    "duration": 0,
    "start_time": "2023-03-04T09:33:39.226Z"
   },
   {
    "duration": 0,
    "start_time": "2023-03-04T09:33:39.227Z"
   },
   {
    "duration": 0,
    "start_time": "2023-03-04T09:33:39.228Z"
   },
   {
    "duration": 0,
    "start_time": "2023-03-04T09:33:39.229Z"
   },
   {
    "duration": 0,
    "start_time": "2023-03-04T09:33:39.230Z"
   },
   {
    "duration": 0,
    "start_time": "2023-03-04T09:33:39.231Z"
   },
   {
    "duration": 0,
    "start_time": "2023-03-04T09:33:39.231Z"
   },
   {
    "duration": 0,
    "start_time": "2023-03-04T09:33:39.232Z"
   },
   {
    "duration": 0,
    "start_time": "2023-03-04T09:33:39.233Z"
   },
   {
    "duration": 0,
    "start_time": "2023-03-04T09:33:39.234Z"
   },
   {
    "duration": 0,
    "start_time": "2023-03-04T09:33:39.235Z"
   },
   {
    "duration": 0,
    "start_time": "2023-03-04T09:33:39.236Z"
   },
   {
    "duration": 0,
    "start_time": "2023-03-04T09:33:39.237Z"
   },
   {
    "duration": 0,
    "start_time": "2023-03-04T09:33:39.238Z"
   },
   {
    "duration": 0,
    "start_time": "2023-03-04T09:33:39.240Z"
   },
   {
    "duration": 0,
    "start_time": "2023-03-04T09:33:39.241Z"
   },
   {
    "duration": 0,
    "start_time": "2023-03-04T09:33:39.242Z"
   },
   {
    "duration": 2545,
    "start_time": "2023-03-04T09:33:53.248Z"
   },
   {
    "duration": 1569,
    "start_time": "2023-03-04T09:34:04.801Z"
   },
   {
    "duration": 2352,
    "start_time": "2023-03-04T09:34:06.372Z"
   },
   {
    "duration": 870,
    "start_time": "2023-03-04T09:34:08.726Z"
   },
   {
    "duration": 285,
    "start_time": "2023-03-04T09:34:09.598Z"
   },
   {
    "duration": 2,
    "start_time": "2023-03-04T09:34:09.885Z"
   },
   {
    "duration": 564,
    "start_time": "2023-03-04T09:34:09.889Z"
   },
   {
    "duration": 677,
    "start_time": "2023-03-04T09:34:10.455Z"
   },
   {
    "duration": 3,
    "start_time": "2023-03-04T09:34:11.134Z"
   },
   {
    "duration": 31,
    "start_time": "2023-03-04T09:34:11.138Z"
   },
   {
    "duration": 13,
    "start_time": "2023-03-04T09:34:11.171Z"
   },
   {
    "duration": 2730,
    "start_time": "2023-03-04T09:34:11.186Z"
   },
   {
    "duration": 1289439,
    "start_time": "2023-03-04T09:34:13.919Z"
   },
   {
    "duration": 10,
    "start_time": "2023-03-04T09:55:43.360Z"
   },
   {
    "duration": 74,
    "start_time": "2023-03-04T09:55:43.371Z"
   },
   {
    "duration": 7392,
    "start_time": "2023-03-04T09:55:43.447Z"
   },
   {
    "duration": 13311,
    "start_time": "2023-03-04T09:55:50.841Z"
   },
   {
    "duration": 0,
    "start_time": "2023-03-04T09:56:04.155Z"
   },
   {
    "duration": 0,
    "start_time": "2023-03-04T09:56:04.156Z"
   },
   {
    "duration": 0,
    "start_time": "2023-03-04T09:56:04.158Z"
   },
   {
    "duration": 46995,
    "start_time": "2023-03-04T09:56:05.862Z"
   },
   {
    "duration": 19,
    "start_time": "2023-03-04T09:57:01.679Z"
   },
   {
    "duration": 48013,
    "start_time": "2023-03-04T09:57:12.131Z"
   },
   {
    "duration": 1492,
    "start_time": "2023-03-04T09:59:05.880Z"
   },
   {
    "duration": 2350,
    "start_time": "2023-03-04T09:59:07.374Z"
   },
   {
    "duration": 829,
    "start_time": "2023-03-04T09:59:09.726Z"
   },
   {
    "duration": 281,
    "start_time": "2023-03-04T09:59:10.556Z"
   },
   {
    "duration": 2,
    "start_time": "2023-03-04T09:59:10.840Z"
   },
   {
    "duration": 414,
    "start_time": "2023-03-04T09:59:10.843Z"
   },
   {
    "duration": 151,
    "start_time": "2023-03-04T09:59:11.259Z"
   },
   {
    "duration": 2,
    "start_time": "2023-03-04T09:59:11.412Z"
   },
   {
    "duration": 5,
    "start_time": "2023-03-04T09:59:11.416Z"
   },
   {
    "duration": 5,
    "start_time": "2023-03-04T09:59:11.422Z"
   },
   {
    "duration": 2558,
    "start_time": "2023-03-04T09:59:11.428Z"
   },
   {
    "duration": 1252295,
    "start_time": "2023-03-04T09:59:13.990Z"
   },
   {
    "duration": 11,
    "start_time": "2023-03-04T10:20:06.287Z"
   },
   {
    "duration": 58,
    "start_time": "2023-03-04T10:20:06.315Z"
   },
   {
    "duration": 7310,
    "start_time": "2023-03-04T10:20:06.377Z"
   },
   {
    "duration": 49573,
    "start_time": "2023-03-04T10:20:13.689Z"
   },
   {
    "duration": 44857,
    "start_time": "2023-03-04T10:21:03.265Z"
   },
   {
    "duration": 2184247,
    "start_time": "2023-03-04T10:21:48.124Z"
   },
   {
    "duration": 66,
    "start_time": "2023-03-04T10:58:12.373Z"
   },
   {
    "duration": 19,
    "start_time": "2023-03-04T11:04:33.240Z"
   },
   {
    "duration": 5286,
    "start_time": "2023-06-10T13:44:24.384Z"
   }
  ],
  "kernelspec": {
   "display_name": "Python 3 (ipykernel)",
   "language": "python",
   "name": "python3"
  },
  "language_info": {
   "codemirror_mode": {
    "name": "ipython",
    "version": 3
   },
   "file_extension": ".py",
   "mimetype": "text/x-python",
   "name": "python",
   "nbconvert_exporter": "python",
   "pygments_lexer": "ipython3",
   "version": "3.9.5"
  },
  "toc": {
   "base_numbering": 1,
   "nav_menu": {},
   "number_sections": true,
   "sideBar": true,
   "skip_h1_title": true,
   "title_cell": "Содержание",
   "title_sidebar": "Contents",
   "toc_cell": true,
   "toc_position": {
    "height": "calc(100% - 180px)",
    "left": "10px",
    "top": "150px",
    "width": "302.391px"
   },
   "toc_section_display": true,
   "toc_window_display": false
  }
 },
 "nbformat": 4,
 "nbformat_minor": 2
}
