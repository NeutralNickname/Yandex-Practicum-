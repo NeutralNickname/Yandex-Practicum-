{
 "cells": [
  {
   "cell_type": "markdown",
   "metadata": {
    "toc": true
   },
   "source": [
    "<h1>Содержание<span class=\"tocSkip\"></span></h1>\n",
    "<div class=\"toc\"><ul class=\"toc-item\"><li><span><a href=\"#Подготовка-данных\" data-toc-modified-id=\"Подготовка-данных-1\"><span class=\"toc-item-num\">1&nbsp;&nbsp;</span>Подготовка данных</a></span><ul class=\"toc-item\"><li><span><a href=\"#Подключение-библиотек-и-выгрузка-данных-и-первичное-ознакомление\" data-toc-modified-id=\"Подключение-библиотек-и-выгрузка-данных-и-первичное-ознакомление-1.1\"><span class=\"toc-item-num\">1.1&nbsp;&nbsp;</span>Подключение библиотек и выгрузка данных и первичное ознакомление</a></span></li><li><span><a href=\"#Проверка-корректности-расчета-эффективности-обогащения\" data-toc-modified-id=\"Проверка-корректности-расчета-эффективности-обогащения-1.2\"><span class=\"toc-item-num\">1.2&nbsp;&nbsp;</span>Проверка корректности расчета эффективности обогащения</a></span></li><li><span><a href=\"#Анализ-признаков-недоступных-в-тестовой-выборке\" data-toc-modified-id=\"Анализ-признаков-недоступных-в-тестовой-выборке-1.3\"><span class=\"toc-item-num\">1.3&nbsp;&nbsp;</span>Анализ признаков недоступных в тестовой выборке</a></span></li><li><span><a href=\"#Работа-с-пропусками\" data-toc-modified-id=\"Работа-с-пропусками-1.4\"><span class=\"toc-item-num\">1.4&nbsp;&nbsp;</span>Работа с пропусками</a></span></li><li><span><a href=\"#Проверка-на-явные-дубликаты\" data-toc-modified-id=\"Проверка-на-явные-дубликаты-1.5\"><span class=\"toc-item-num\">1.5&nbsp;&nbsp;</span>Проверка на явные дубликаты</a></span></li><li><span><a href=\"#Вывод\" data-toc-modified-id=\"Вывод-1.6\"><span class=\"toc-item-num\">1.6&nbsp;&nbsp;</span>Вывод</a></span></li></ul></li><li><span><a href=\"#Анализ-данных\" data-toc-modified-id=\"Анализ-данных-2\"><span class=\"toc-item-num\">2&nbsp;&nbsp;</span>Анализ данных</a></span><ul class=\"toc-item\"><li><span><a href=\"#Изменение-концентрации-металлов-на-различных-этапах-очистки\" data-toc-modified-id=\"Изменение-концентрации-металлов-на-различных-этапах-очистки-2.1\"><span class=\"toc-item-num\">2.1&nbsp;&nbsp;</span>Изменение концентрации металлов на различных этапах очистки</a></span></li><li><span><a href=\"#Распределение-размеров-гранул-сырья-на-обучающей-и-тестовой-выборках\" data-toc-modified-id=\"Распределение-размеров-гранул-сырья-на-обучающей-и-тестовой-выборках-2.2\"><span class=\"toc-item-num\">2.2&nbsp;&nbsp;</span>Распределение размеров гранул сырья на обучающей и тестовой выборках</a></span></li><li><span><a href=\"#Cуммарная-концентрация-всех-веществ-на-разных-стадиях.\" data-toc-modified-id=\"Cуммарная-концентрация-всех-веществ-на-разных-стадиях.-2.3\"><span class=\"toc-item-num\">2.3&nbsp;&nbsp;</span>Cуммарная концентрация всех веществ на разных стадиях.</a></span></li><li><span><a href=\"#Вывод\" data-toc-modified-id=\"Вывод-2.4\"><span class=\"toc-item-num\">2.4&nbsp;&nbsp;</span>Вывод</a></span></li></ul></li><li><span><a href=\"#Модель\" data-toc-modified-id=\"Модель-3\"><span class=\"toc-item-num\">3&nbsp;&nbsp;</span>Модель</a></span><ul class=\"toc-item\"><li><span><a href=\"#Функция-для-вычисления-итоговой-sMAPE\" data-toc-modified-id=\"Функция-для-вычисления-итоговой-sMAPE-3.1\"><span class=\"toc-item-num\">3.1&nbsp;&nbsp;</span>Функция для вычисления итоговой sMAPE</a></span></li><li><span><a href=\"#Обучение-моделей-и-оценка-их-качества-кросс-валидаций\" data-toc-modified-id=\"Обучение-моделей-и-оценка-их-качества-кросс-валидаций-3.2\"><span class=\"toc-item-num\">3.2&nbsp;&nbsp;</span>Обучение моделей и оценка их качества кросс-валидаций</a></span></li><li><span><a href=\"#Вывод\" data-toc-modified-id=\"Вывод-3.3\"><span class=\"toc-item-num\">3.3&nbsp;&nbsp;</span>Вывод</a></span></li></ul></li><li><span><a href=\"#Вывод\" data-toc-modified-id=\"Вывод-4\"><span class=\"toc-item-num\">4&nbsp;&nbsp;</span>Вывод</a></span></li><li><span><a href=\"#Чек-лист-готовности-проекта\" data-toc-modified-id=\"Чек-лист-готовности-проекта-5\"><span class=\"toc-item-num\">5&nbsp;&nbsp;</span>Чек-лист готовности проекта</a></span></li></ul></div>"
   ]
  },
  {
   "cell_type": "markdown",
   "metadata": {},
   "source": [
    "# Восстановление золота из руды"
   ]
  },
  {
   "cell_type": "markdown",
   "metadata": {},
   "source": [
    "Подготовьте прототип модели машинного обучения для «Цифры». Компания разрабатывает решения для эффективной работы промышленных предприятий.\n",
    "\n",
    "Модель должна предсказать коэффициент восстановления золота из золотосодержащей руды. Используйте данные с параметрами добычи и очистки. \n",
    "\n",
    "Модель поможет оптимизировать производство, чтобы не запускать предприятие с убыточными характеристиками.\n",
    "\n",
    "Вам нужно:\n",
    "\n",
    "1. Подготовить данные;\n",
    "2. Провести исследовательский анализ данных;\n",
    "3. Построить и обучить модель.\n",
    "\n",
    "Чтобы выполнить проект, обращайтесь к библиотекам *pandas*, *matplotlib* и *sklearn.* Вам поможет их документация."
   ]
  },
  {
   "cell_type": "markdown",
   "metadata": {},
   "source": [
    "# Цель проекта"
   ]
  },
  {
   "cell_type": "markdown",
   "metadata": {},
   "source": [
    "Подготовить прототип модели машинного обучения для «Цифры»."
   ]
  },
  {
   "cell_type": "markdown",
   "metadata": {},
   "source": [
    "# План проекта"
   ]
  },
  {
   "cell_type": "markdown",
   "metadata": {},
   "source": [
    "1. Подготовить данные\n",
    "* Открыть файлы и изучить их.\n",
    "* Проверить, что эффективность обогащения рассчитана правильно. Вычислить её на обучающей выборке для признака rougher.output.recovery. Найти MAE между расчётами и значением признака.\n",
    "* Проанализировать признаки, недоступные в тестовой выборке. Что это за параметры? К какому типу относятся?\n",
    "* Провести предобработку данных.\n",
    "\n",
    "2. Проанализировать данные\n",
    "* Посмотреть, как меняется концентрация металлов (Au, Ag, Pb) на различных этапах очистки.\n",
    "* Сравнить распределения размеров гранул сырья на обучающей и тестовой выборках. Если распределения сильно отличаются друг от друга, оценка модели будет неправильной.\n",
    "* Исследовать суммарную концентрацию всех веществ на разных стадиях: в сырье, в черновом и финальном концентратах. \n",
    "\n",
    "3. Построить модель\n",
    "* Написать функцию для вычисления итоговой sMAPE.\n",
    "* Обучить разные модели и оценить их качество кросс-валидацией. Выбрать лучшую модель и проверить её на тестовой выборке.\n",
    "* Сделать выводы."
   ]
  },
  {
   "cell_type": "markdown",
   "metadata": {},
   "source": [
    "## Подготовка данных"
   ]
  },
  {
   "cell_type": "markdown",
   "metadata": {},
   "source": [
    "### Подключение библиотек и выгрузка данных и первичное ознакомление"
   ]
  },
  {
   "cell_type": "code",
   "execution_count": 1,
   "metadata": {},
   "outputs": [],
   "source": [
    "# Импорт библиотек\n",
    "import pandas as pd\n",
    "import numpy as np\n",
    "\n",
    "from matplotlib import pyplot as plt\n",
    "import seaborn as sns\n",
    "\n",
    "from sklearn.linear_model import LinearRegression\n",
    "from sklearn.tree import DecisionTreeRegressor\n",
    "from sklearn.ensemble import RandomForestRegressor\n",
    "\n",
    "from sklearn.model_selection import cross_val_score\n",
    "from sklearn.metrics import make_scorer\n",
    "from sklearn.dummy import DummyRegressor\n",
    "from sklearn.preprocessing import StandardScaler\n",
    "from sklearn.model_selection import GridSearchCV\n",
    "\n",
    "from tqdm import tqdm, tqdm_notebook\n",
    "\n",
    "import warnings\n",
    "warnings.filterwarnings('ignore')"
   ]
  },
  {
   "cell_type": "code",
   "execution_count": 2,
   "metadata": {},
   "outputs": [],
   "source": [
    "# Сохранение данных в переменные\n",
    "df_train = pd.read_csv('/datasets/gold_recovery_train_new.csv')\n",
    "df_test = pd.read_csv('/datasets/gold_recovery_test_new.csv')\n",
    "df_full = pd.read_csv('/datasets/gold_recovery_full_new.csv')\n",
    "\n",
    "# Список переменных\n",
    "df_list = [df_train, df_test, df_full]"
   ]
  },
  {
   "cell_type": "code",
   "execution_count": 3,
   "metadata": {
    "scrolled": true
   },
   "outputs": [
    {
     "data": {
      "text/html": [
       "<div>\n",
       "<style scoped>\n",
       "    .dataframe tbody tr th:only-of-type {\n",
       "        vertical-align: middle;\n",
       "    }\n",
       "\n",
       "    .dataframe tbody tr th {\n",
       "        vertical-align: top;\n",
       "    }\n",
       "\n",
       "    .dataframe thead th {\n",
       "        text-align: right;\n",
       "    }\n",
       "</style>\n",
       "<table border=\"1\" class=\"dataframe\">\n",
       "  <thead>\n",
       "    <tr style=\"text-align: right;\">\n",
       "      <th></th>\n",
       "      <th>date</th>\n",
       "      <th>final.output.concentrate_ag</th>\n",
       "      <th>final.output.concentrate_pb</th>\n",
       "      <th>final.output.concentrate_sol</th>\n",
       "      <th>final.output.concentrate_au</th>\n",
       "      <th>final.output.recovery</th>\n",
       "      <th>final.output.tail_ag</th>\n",
       "      <th>final.output.tail_pb</th>\n",
       "      <th>final.output.tail_sol</th>\n",
       "      <th>final.output.tail_au</th>\n",
       "      <th>...</th>\n",
       "      <th>secondary_cleaner.state.floatbank4_a_air</th>\n",
       "      <th>secondary_cleaner.state.floatbank4_a_level</th>\n",
       "      <th>secondary_cleaner.state.floatbank4_b_air</th>\n",
       "      <th>secondary_cleaner.state.floatbank4_b_level</th>\n",
       "      <th>secondary_cleaner.state.floatbank5_a_air</th>\n",
       "      <th>secondary_cleaner.state.floatbank5_a_level</th>\n",
       "      <th>secondary_cleaner.state.floatbank5_b_air</th>\n",
       "      <th>secondary_cleaner.state.floatbank5_b_level</th>\n",
       "      <th>secondary_cleaner.state.floatbank6_a_air</th>\n",
       "      <th>secondary_cleaner.state.floatbank6_a_level</th>\n",
       "    </tr>\n",
       "  </thead>\n",
       "  <tbody>\n",
       "    <tr>\n",
       "      <th>0</th>\n",
       "      <td>2016-01-15 00:00:00</td>\n",
       "      <td>6.055403</td>\n",
       "      <td>9.889648</td>\n",
       "      <td>5.507324</td>\n",
       "      <td>42.192020</td>\n",
       "      <td>70.541216</td>\n",
       "      <td>10.411962</td>\n",
       "      <td>0.895447</td>\n",
       "      <td>16.904297</td>\n",
       "      <td>2.143149</td>\n",
       "      <td>...</td>\n",
       "      <td>14.016835</td>\n",
       "      <td>-502.488007</td>\n",
       "      <td>12.099931</td>\n",
       "      <td>-504.715942</td>\n",
       "      <td>9.925633</td>\n",
       "      <td>-498.310211</td>\n",
       "      <td>8.079666</td>\n",
       "      <td>-500.470978</td>\n",
       "      <td>14.151341</td>\n",
       "      <td>-605.841980</td>\n",
       "    </tr>\n",
       "    <tr>\n",
       "      <th>1</th>\n",
       "      <td>2016-01-15 01:00:00</td>\n",
       "      <td>6.029369</td>\n",
       "      <td>9.968944</td>\n",
       "      <td>5.257781</td>\n",
       "      <td>42.701629</td>\n",
       "      <td>69.266198</td>\n",
       "      <td>10.462676</td>\n",
       "      <td>0.927452</td>\n",
       "      <td>16.634514</td>\n",
       "      <td>2.224930</td>\n",
       "      <td>...</td>\n",
       "      <td>13.992281</td>\n",
       "      <td>-505.503262</td>\n",
       "      <td>11.950531</td>\n",
       "      <td>-501.331529</td>\n",
       "      <td>10.039245</td>\n",
       "      <td>-500.169983</td>\n",
       "      <td>7.984757</td>\n",
       "      <td>-500.582168</td>\n",
       "      <td>13.998353</td>\n",
       "      <td>-599.787184</td>\n",
       "    </tr>\n",
       "    <tr>\n",
       "      <th>2</th>\n",
       "      <td>2016-01-15 02:00:00</td>\n",
       "      <td>6.055926</td>\n",
       "      <td>10.213995</td>\n",
       "      <td>5.383759</td>\n",
       "      <td>42.657501</td>\n",
       "      <td>68.116445</td>\n",
       "      <td>10.507046</td>\n",
       "      <td>0.953716</td>\n",
       "      <td>16.208849</td>\n",
       "      <td>2.257889</td>\n",
       "      <td>...</td>\n",
       "      <td>14.015015</td>\n",
       "      <td>-502.520901</td>\n",
       "      <td>11.912783</td>\n",
       "      <td>-501.133383</td>\n",
       "      <td>10.070913</td>\n",
       "      <td>-500.129135</td>\n",
       "      <td>8.013877</td>\n",
       "      <td>-500.517572</td>\n",
       "      <td>14.028663</td>\n",
       "      <td>-601.427363</td>\n",
       "    </tr>\n",
       "    <tr>\n",
       "      <th>3</th>\n",
       "      <td>2016-01-15 03:00:00</td>\n",
       "      <td>6.047977</td>\n",
       "      <td>9.977019</td>\n",
       "      <td>4.858634</td>\n",
       "      <td>42.689819</td>\n",
       "      <td>68.347543</td>\n",
       "      <td>10.422762</td>\n",
       "      <td>0.883763</td>\n",
       "      <td>16.532835</td>\n",
       "      <td>2.146849</td>\n",
       "      <td>...</td>\n",
       "      <td>14.036510</td>\n",
       "      <td>-500.857308</td>\n",
       "      <td>11.999550</td>\n",
       "      <td>-501.193686</td>\n",
       "      <td>9.970366</td>\n",
       "      <td>-499.201640</td>\n",
       "      <td>7.977324</td>\n",
       "      <td>-500.255908</td>\n",
       "      <td>14.005551</td>\n",
       "      <td>-599.996129</td>\n",
       "    </tr>\n",
       "    <tr>\n",
       "      <th>4</th>\n",
       "      <td>2016-01-15 04:00:00</td>\n",
       "      <td>6.148599</td>\n",
       "      <td>10.142511</td>\n",
       "      <td>4.939416</td>\n",
       "      <td>42.774141</td>\n",
       "      <td>66.927016</td>\n",
       "      <td>10.360302</td>\n",
       "      <td>0.792826</td>\n",
       "      <td>16.525686</td>\n",
       "      <td>2.055292</td>\n",
       "      <td>...</td>\n",
       "      <td>14.027298</td>\n",
       "      <td>-499.838632</td>\n",
       "      <td>11.953070</td>\n",
       "      <td>-501.053894</td>\n",
       "      <td>9.925709</td>\n",
       "      <td>-501.686727</td>\n",
       "      <td>7.894242</td>\n",
       "      <td>-500.356035</td>\n",
       "      <td>13.996647</td>\n",
       "      <td>-601.496691</td>\n",
       "    </tr>\n",
       "  </tbody>\n",
       "</table>\n",
       "<p>5 rows × 87 columns</p>\n",
       "</div>"
      ],
      "text/plain": [
       "                  date  final.output.concentrate_ag  \\\n",
       "0  2016-01-15 00:00:00                     6.055403   \n",
       "1  2016-01-15 01:00:00                     6.029369   \n",
       "2  2016-01-15 02:00:00                     6.055926   \n",
       "3  2016-01-15 03:00:00                     6.047977   \n",
       "4  2016-01-15 04:00:00                     6.148599   \n",
       "\n",
       "   final.output.concentrate_pb  final.output.concentrate_sol  \\\n",
       "0                     9.889648                      5.507324   \n",
       "1                     9.968944                      5.257781   \n",
       "2                    10.213995                      5.383759   \n",
       "3                     9.977019                      4.858634   \n",
       "4                    10.142511                      4.939416   \n",
       "\n",
       "   final.output.concentrate_au  final.output.recovery  final.output.tail_ag  \\\n",
       "0                    42.192020              70.541216             10.411962   \n",
       "1                    42.701629              69.266198             10.462676   \n",
       "2                    42.657501              68.116445             10.507046   \n",
       "3                    42.689819              68.347543             10.422762   \n",
       "4                    42.774141              66.927016             10.360302   \n",
       "\n",
       "   final.output.tail_pb  final.output.tail_sol  final.output.tail_au  ...  \\\n",
       "0              0.895447              16.904297              2.143149  ...   \n",
       "1              0.927452              16.634514              2.224930  ...   \n",
       "2              0.953716              16.208849              2.257889  ...   \n",
       "3              0.883763              16.532835              2.146849  ...   \n",
       "4              0.792826              16.525686              2.055292  ...   \n",
       "\n",
       "   secondary_cleaner.state.floatbank4_a_air  \\\n",
       "0                                 14.016835   \n",
       "1                                 13.992281   \n",
       "2                                 14.015015   \n",
       "3                                 14.036510   \n",
       "4                                 14.027298   \n",
       "\n",
       "   secondary_cleaner.state.floatbank4_a_level  \\\n",
       "0                                 -502.488007   \n",
       "1                                 -505.503262   \n",
       "2                                 -502.520901   \n",
       "3                                 -500.857308   \n",
       "4                                 -499.838632   \n",
       "\n",
       "   secondary_cleaner.state.floatbank4_b_air  \\\n",
       "0                                 12.099931   \n",
       "1                                 11.950531   \n",
       "2                                 11.912783   \n",
       "3                                 11.999550   \n",
       "4                                 11.953070   \n",
       "\n",
       "   secondary_cleaner.state.floatbank4_b_level  \\\n",
       "0                                 -504.715942   \n",
       "1                                 -501.331529   \n",
       "2                                 -501.133383   \n",
       "3                                 -501.193686   \n",
       "4                                 -501.053894   \n",
       "\n",
       "   secondary_cleaner.state.floatbank5_a_air  \\\n",
       "0                                  9.925633   \n",
       "1                                 10.039245   \n",
       "2                                 10.070913   \n",
       "3                                  9.970366   \n",
       "4                                  9.925709   \n",
       "\n",
       "   secondary_cleaner.state.floatbank5_a_level  \\\n",
       "0                                 -498.310211   \n",
       "1                                 -500.169983   \n",
       "2                                 -500.129135   \n",
       "3                                 -499.201640   \n",
       "4                                 -501.686727   \n",
       "\n",
       "   secondary_cleaner.state.floatbank5_b_air  \\\n",
       "0                                  8.079666   \n",
       "1                                  7.984757   \n",
       "2                                  8.013877   \n",
       "3                                  7.977324   \n",
       "4                                  7.894242   \n",
       "\n",
       "   secondary_cleaner.state.floatbank5_b_level  \\\n",
       "0                                 -500.470978   \n",
       "1                                 -500.582168   \n",
       "2                                 -500.517572   \n",
       "3                                 -500.255908   \n",
       "4                                 -500.356035   \n",
       "\n",
       "   secondary_cleaner.state.floatbank6_a_air  \\\n",
       "0                                 14.151341   \n",
       "1                                 13.998353   \n",
       "2                                 14.028663   \n",
       "3                                 14.005551   \n",
       "4                                 13.996647   \n",
       "\n",
       "   secondary_cleaner.state.floatbank6_a_level  \n",
       "0                                 -605.841980  \n",
       "1                                 -599.787184  \n",
       "2                                 -601.427363  \n",
       "3                                 -599.996129  \n",
       "4                                 -601.496691  \n",
       "\n",
       "[5 rows x 87 columns]"
      ]
     },
     "metadata": {},
     "output_type": "display_data"
    },
    {
     "name": "stdout",
     "output_type": "stream",
     "text": [
      "<class 'pandas.core.frame.DataFrame'>\n",
      "RangeIndex: 14149 entries, 0 to 14148\n",
      "Data columns (total 87 columns):\n",
      " #   Column                                              Non-Null Count  Dtype  \n",
      "---  ------                                              --------------  -----  \n",
      " 0   date                                                14149 non-null  object \n",
      " 1   final.output.concentrate_ag                         14148 non-null  float64\n",
      " 2   final.output.concentrate_pb                         14148 non-null  float64\n",
      " 3   final.output.concentrate_sol                        13938 non-null  float64\n",
      " 4   final.output.concentrate_au                         14149 non-null  float64\n",
      " 5   final.output.recovery                               14149 non-null  float64\n",
      " 6   final.output.tail_ag                                14149 non-null  float64\n",
      " 7   final.output.tail_pb                                14049 non-null  float64\n",
      " 8   final.output.tail_sol                               14144 non-null  float64\n",
      " 9   final.output.tail_au                                14149 non-null  float64\n",
      " 10  primary_cleaner.input.sulfate                       14129 non-null  float64\n",
      " 11  primary_cleaner.input.depressant                    14117 non-null  float64\n",
      " 12  primary_cleaner.input.feed_size                     14149 non-null  float64\n",
      " 13  primary_cleaner.input.xanthate                      14049 non-null  float64\n",
      " 14  primary_cleaner.output.concentrate_ag               14149 non-null  float64\n",
      " 15  primary_cleaner.output.concentrate_pb               14063 non-null  float64\n",
      " 16  primary_cleaner.output.concentrate_sol              13863 non-null  float64\n",
      " 17  primary_cleaner.output.concentrate_au               14149 non-null  float64\n",
      " 18  primary_cleaner.output.tail_ag                      14148 non-null  float64\n",
      " 19  primary_cleaner.output.tail_pb                      14134 non-null  float64\n",
      " 20  primary_cleaner.output.tail_sol                     14103 non-null  float64\n",
      " 21  primary_cleaner.output.tail_au                      14149 non-null  float64\n",
      " 22  primary_cleaner.state.floatbank8_a_air              14145 non-null  float64\n",
      " 23  primary_cleaner.state.floatbank8_a_level            14148 non-null  float64\n",
      " 24  primary_cleaner.state.floatbank8_b_air              14145 non-null  float64\n",
      " 25  primary_cleaner.state.floatbank8_b_level            14148 non-null  float64\n",
      " 26  primary_cleaner.state.floatbank8_c_air              14147 non-null  float64\n",
      " 27  primary_cleaner.state.floatbank8_c_level            14148 non-null  float64\n",
      " 28  primary_cleaner.state.floatbank8_d_air              14146 non-null  float64\n",
      " 29  primary_cleaner.state.floatbank8_d_level            14148 non-null  float64\n",
      " 30  rougher.calculation.sulfate_to_au_concentrate       14148 non-null  float64\n",
      " 31  rougher.calculation.floatbank10_sulfate_to_au_feed  14148 non-null  float64\n",
      " 32  rougher.calculation.floatbank11_sulfate_to_au_feed  14148 non-null  float64\n",
      " 33  rougher.calculation.au_pb_ratio                     14149 non-null  float64\n",
      " 34  rougher.input.feed_ag                               14149 non-null  float64\n",
      " 35  rougher.input.feed_pb                               14049 non-null  float64\n",
      " 36  rougher.input.feed_rate                             14141 non-null  float64\n",
      " 37  rougher.input.feed_size                             14005 non-null  float64\n",
      " 38  rougher.input.feed_sol                              14071 non-null  float64\n",
      " 39  rougher.input.feed_au                               14149 non-null  float64\n",
      " 40  rougher.input.floatbank10_sulfate                   14120 non-null  float64\n",
      " 41  rougher.input.floatbank10_xanthate                  14141 non-null  float64\n",
      " 42  rougher.input.floatbank11_sulfate                   14113 non-null  float64\n",
      " 43  rougher.input.floatbank11_xanthate                  13721 non-null  float64\n",
      " 44  rougher.output.concentrate_ag                       14149 non-null  float64\n",
      " 45  rougher.output.concentrate_pb                       14149 non-null  float64\n",
      " 46  rougher.output.concentrate_sol                      14127 non-null  float64\n",
      " 47  rougher.output.concentrate_au                       14149 non-null  float64\n",
      " 48  rougher.output.recovery                             14149 non-null  float64\n",
      " 49  rougher.output.tail_ag                              14148 non-null  float64\n",
      " 50  rougher.output.tail_pb                              14149 non-null  float64\n",
      " 51  rougher.output.tail_sol                             14149 non-null  float64\n",
      " 52  rougher.output.tail_au                              14149 non-null  float64\n",
      " 53  rougher.state.floatbank10_a_air                     14148 non-null  float64\n",
      " 54  rougher.state.floatbank10_a_level                   14148 non-null  float64\n",
      " 55  rougher.state.floatbank10_b_air                     14148 non-null  float64\n",
      " 56  rougher.state.floatbank10_b_level                   14148 non-null  float64\n",
      " 57  rougher.state.floatbank10_c_air                     14148 non-null  float64\n",
      " 58  rougher.state.floatbank10_c_level                   14148 non-null  float64\n",
      " 59  rougher.state.floatbank10_d_air                     14149 non-null  float64\n",
      " 60  rougher.state.floatbank10_d_level                   14149 non-null  float64\n",
      " 61  rougher.state.floatbank10_e_air                     13713 non-null  float64\n",
      " 62  rougher.state.floatbank10_e_level                   14149 non-null  float64\n",
      " 63  rougher.state.floatbank10_f_air                     14149 non-null  float64\n",
      " 64  rougher.state.floatbank10_f_level                   14149 non-null  float64\n",
      " 65  secondary_cleaner.output.tail_ag                    14147 non-null  float64\n",
      " 66  secondary_cleaner.output.tail_pb                    14139 non-null  float64\n",
      " 67  secondary_cleaner.output.tail_sol                   12544 non-null  float64\n",
      " 68  secondary_cleaner.output.tail_au                    14149 non-null  float64\n",
      " 69  secondary_cleaner.state.floatbank2_a_air            13932 non-null  float64\n",
      " 70  secondary_cleaner.state.floatbank2_a_level          14148 non-null  float64\n",
      " 71  secondary_cleaner.state.floatbank2_b_air            14128 non-null  float64\n",
      " 72  secondary_cleaner.state.floatbank2_b_level          14148 non-null  float64\n",
      " 73  secondary_cleaner.state.floatbank3_a_air            14145 non-null  float64\n",
      " 74  secondary_cleaner.state.floatbank3_a_level          14148 non-null  float64\n",
      " 75  secondary_cleaner.state.floatbank3_b_air            14148 non-null  float64\n",
      " 76  secondary_cleaner.state.floatbank3_b_level          14148 non-null  float64\n",
      " 77  secondary_cleaner.state.floatbank4_a_air            14143 non-null  float64\n",
      " 78  secondary_cleaner.state.floatbank4_a_level          14148 non-null  float64\n",
      " 79  secondary_cleaner.state.floatbank4_b_air            14148 non-null  float64\n",
      " 80  secondary_cleaner.state.floatbank4_b_level          14148 non-null  float64\n",
      " 81  secondary_cleaner.state.floatbank5_a_air            14148 non-null  float64\n",
      " 82  secondary_cleaner.state.floatbank5_a_level          14148 non-null  float64\n",
      " 83  secondary_cleaner.state.floatbank5_b_air            14148 non-null  float64\n",
      " 84  secondary_cleaner.state.floatbank5_b_level          14148 non-null  float64\n",
      " 85  secondary_cleaner.state.floatbank6_a_air            14147 non-null  float64\n",
      " 86  secondary_cleaner.state.floatbank6_a_level          14148 non-null  float64\n",
      "dtypes: float64(86), object(1)\n",
      "memory usage: 9.4+ MB\n"
     ]
    },
    {
     "data": {
      "text/plain": [
       "None"
      ]
     },
     "metadata": {},
     "output_type": "display_data"
    },
    {
     "data": {
      "text/html": [
       "<div>\n",
       "<style scoped>\n",
       "    .dataframe tbody tr th:only-of-type {\n",
       "        vertical-align: middle;\n",
       "    }\n",
       "\n",
       "    .dataframe tbody tr th {\n",
       "        vertical-align: top;\n",
       "    }\n",
       "\n",
       "    .dataframe thead th {\n",
       "        text-align: right;\n",
       "    }\n",
       "</style>\n",
       "<table border=\"1\" class=\"dataframe\">\n",
       "  <thead>\n",
       "    <tr style=\"text-align: right;\">\n",
       "      <th></th>\n",
       "      <th>date</th>\n",
       "      <th>primary_cleaner.input.sulfate</th>\n",
       "      <th>primary_cleaner.input.depressant</th>\n",
       "      <th>primary_cleaner.input.feed_size</th>\n",
       "      <th>primary_cleaner.input.xanthate</th>\n",
       "      <th>primary_cleaner.state.floatbank8_a_air</th>\n",
       "      <th>primary_cleaner.state.floatbank8_a_level</th>\n",
       "      <th>primary_cleaner.state.floatbank8_b_air</th>\n",
       "      <th>primary_cleaner.state.floatbank8_b_level</th>\n",
       "      <th>primary_cleaner.state.floatbank8_c_air</th>\n",
       "      <th>...</th>\n",
       "      <th>secondary_cleaner.state.floatbank4_a_air</th>\n",
       "      <th>secondary_cleaner.state.floatbank4_a_level</th>\n",
       "      <th>secondary_cleaner.state.floatbank4_b_air</th>\n",
       "      <th>secondary_cleaner.state.floatbank4_b_level</th>\n",
       "      <th>secondary_cleaner.state.floatbank5_a_air</th>\n",
       "      <th>secondary_cleaner.state.floatbank5_a_level</th>\n",
       "      <th>secondary_cleaner.state.floatbank5_b_air</th>\n",
       "      <th>secondary_cleaner.state.floatbank5_b_level</th>\n",
       "      <th>secondary_cleaner.state.floatbank6_a_air</th>\n",
       "      <th>secondary_cleaner.state.floatbank6_a_level</th>\n",
       "    </tr>\n",
       "  </thead>\n",
       "  <tbody>\n",
       "    <tr>\n",
       "      <th>0</th>\n",
       "      <td>2016-09-01 00:59:59</td>\n",
       "      <td>210.800909</td>\n",
       "      <td>14.993118</td>\n",
       "      <td>8.080000</td>\n",
       "      <td>1.005021</td>\n",
       "      <td>1398.981301</td>\n",
       "      <td>-500.225577</td>\n",
       "      <td>1399.144926</td>\n",
       "      <td>-499.919735</td>\n",
       "      <td>1400.102998</td>\n",
       "      <td>...</td>\n",
       "      <td>12.023554</td>\n",
       "      <td>-497.795834</td>\n",
       "      <td>8.016656</td>\n",
       "      <td>-501.289139</td>\n",
       "      <td>7.946562</td>\n",
       "      <td>-432.317850</td>\n",
       "      <td>4.872511</td>\n",
       "      <td>-500.037437</td>\n",
       "      <td>26.705889</td>\n",
       "      <td>-499.709414</td>\n",
       "    </tr>\n",
       "    <tr>\n",
       "      <th>1</th>\n",
       "      <td>2016-09-01 01:59:59</td>\n",
       "      <td>215.392455</td>\n",
       "      <td>14.987471</td>\n",
       "      <td>8.080000</td>\n",
       "      <td>0.990469</td>\n",
       "      <td>1398.777912</td>\n",
       "      <td>-500.057435</td>\n",
       "      <td>1398.055362</td>\n",
       "      <td>-499.778182</td>\n",
       "      <td>1396.151033</td>\n",
       "      <td>...</td>\n",
       "      <td>12.058140</td>\n",
       "      <td>-498.695773</td>\n",
       "      <td>8.130979</td>\n",
       "      <td>-499.634209</td>\n",
       "      <td>7.958270</td>\n",
       "      <td>-525.839648</td>\n",
       "      <td>4.878850</td>\n",
       "      <td>-500.162375</td>\n",
       "      <td>25.019940</td>\n",
       "      <td>-499.819438</td>\n",
       "    </tr>\n",
       "    <tr>\n",
       "      <th>2</th>\n",
       "      <td>2016-09-01 02:59:59</td>\n",
       "      <td>215.259946</td>\n",
       "      <td>12.884934</td>\n",
       "      <td>7.786667</td>\n",
       "      <td>0.996043</td>\n",
       "      <td>1398.493666</td>\n",
       "      <td>-500.868360</td>\n",
       "      <td>1398.860436</td>\n",
       "      <td>-499.764529</td>\n",
       "      <td>1398.075709</td>\n",
       "      <td>...</td>\n",
       "      <td>11.962366</td>\n",
       "      <td>-498.767484</td>\n",
       "      <td>8.096893</td>\n",
       "      <td>-500.827423</td>\n",
       "      <td>8.071056</td>\n",
       "      <td>-500.801673</td>\n",
       "      <td>4.905125</td>\n",
       "      <td>-499.828510</td>\n",
       "      <td>24.994862</td>\n",
       "      <td>-500.622559</td>\n",
       "    </tr>\n",
       "    <tr>\n",
       "      <th>3</th>\n",
       "      <td>2016-09-01 03:59:59</td>\n",
       "      <td>215.336236</td>\n",
       "      <td>12.006805</td>\n",
       "      <td>7.640000</td>\n",
       "      <td>0.863514</td>\n",
       "      <td>1399.618111</td>\n",
       "      <td>-498.863574</td>\n",
       "      <td>1397.440120</td>\n",
       "      <td>-499.211024</td>\n",
       "      <td>1400.129303</td>\n",
       "      <td>...</td>\n",
       "      <td>12.033091</td>\n",
       "      <td>-498.350935</td>\n",
       "      <td>8.074946</td>\n",
       "      <td>-499.474407</td>\n",
       "      <td>7.897085</td>\n",
       "      <td>-500.868509</td>\n",
       "      <td>4.931400</td>\n",
       "      <td>-499.963623</td>\n",
       "      <td>24.948919</td>\n",
       "      <td>-498.709987</td>\n",
       "    </tr>\n",
       "    <tr>\n",
       "      <th>4</th>\n",
       "      <td>2016-09-01 04:59:59</td>\n",
       "      <td>199.099327</td>\n",
       "      <td>10.682530</td>\n",
       "      <td>7.530000</td>\n",
       "      <td>0.805575</td>\n",
       "      <td>1401.268123</td>\n",
       "      <td>-500.808305</td>\n",
       "      <td>1398.128818</td>\n",
       "      <td>-499.504543</td>\n",
       "      <td>1402.172226</td>\n",
       "      <td>...</td>\n",
       "      <td>12.025367</td>\n",
       "      <td>-500.786497</td>\n",
       "      <td>8.054678</td>\n",
       "      <td>-500.397500</td>\n",
       "      <td>8.107890</td>\n",
       "      <td>-509.526725</td>\n",
       "      <td>4.957674</td>\n",
       "      <td>-500.360026</td>\n",
       "      <td>25.003331</td>\n",
       "      <td>-500.856333</td>\n",
       "    </tr>\n",
       "  </tbody>\n",
       "</table>\n",
       "<p>5 rows × 53 columns</p>\n",
       "</div>"
      ],
      "text/plain": [
       "                  date  primary_cleaner.input.sulfate  \\\n",
       "0  2016-09-01 00:59:59                     210.800909   \n",
       "1  2016-09-01 01:59:59                     215.392455   \n",
       "2  2016-09-01 02:59:59                     215.259946   \n",
       "3  2016-09-01 03:59:59                     215.336236   \n",
       "4  2016-09-01 04:59:59                     199.099327   \n",
       "\n",
       "   primary_cleaner.input.depressant  primary_cleaner.input.feed_size  \\\n",
       "0                         14.993118                         8.080000   \n",
       "1                         14.987471                         8.080000   \n",
       "2                         12.884934                         7.786667   \n",
       "3                         12.006805                         7.640000   \n",
       "4                         10.682530                         7.530000   \n",
       "\n",
       "   primary_cleaner.input.xanthate  primary_cleaner.state.floatbank8_a_air  \\\n",
       "0                        1.005021                             1398.981301   \n",
       "1                        0.990469                             1398.777912   \n",
       "2                        0.996043                             1398.493666   \n",
       "3                        0.863514                             1399.618111   \n",
       "4                        0.805575                             1401.268123   \n",
       "\n",
       "   primary_cleaner.state.floatbank8_a_level  \\\n",
       "0                               -500.225577   \n",
       "1                               -500.057435   \n",
       "2                               -500.868360   \n",
       "3                               -498.863574   \n",
       "4                               -500.808305   \n",
       "\n",
       "   primary_cleaner.state.floatbank8_b_air  \\\n",
       "0                             1399.144926   \n",
       "1                             1398.055362   \n",
       "2                             1398.860436   \n",
       "3                             1397.440120   \n",
       "4                             1398.128818   \n",
       "\n",
       "   primary_cleaner.state.floatbank8_b_level  \\\n",
       "0                               -499.919735   \n",
       "1                               -499.778182   \n",
       "2                               -499.764529   \n",
       "3                               -499.211024   \n",
       "4                               -499.504543   \n",
       "\n",
       "   primary_cleaner.state.floatbank8_c_air  ...  \\\n",
       "0                             1400.102998  ...   \n",
       "1                             1396.151033  ...   \n",
       "2                             1398.075709  ...   \n",
       "3                             1400.129303  ...   \n",
       "4                             1402.172226  ...   \n",
       "\n",
       "   secondary_cleaner.state.floatbank4_a_air  \\\n",
       "0                                 12.023554   \n",
       "1                                 12.058140   \n",
       "2                                 11.962366   \n",
       "3                                 12.033091   \n",
       "4                                 12.025367   \n",
       "\n",
       "   secondary_cleaner.state.floatbank4_a_level  \\\n",
       "0                                 -497.795834   \n",
       "1                                 -498.695773   \n",
       "2                                 -498.767484   \n",
       "3                                 -498.350935   \n",
       "4                                 -500.786497   \n",
       "\n",
       "   secondary_cleaner.state.floatbank4_b_air  \\\n",
       "0                                  8.016656   \n",
       "1                                  8.130979   \n",
       "2                                  8.096893   \n",
       "3                                  8.074946   \n",
       "4                                  8.054678   \n",
       "\n",
       "   secondary_cleaner.state.floatbank4_b_level  \\\n",
       "0                                 -501.289139   \n",
       "1                                 -499.634209   \n",
       "2                                 -500.827423   \n",
       "3                                 -499.474407   \n",
       "4                                 -500.397500   \n",
       "\n",
       "   secondary_cleaner.state.floatbank5_a_air  \\\n",
       "0                                  7.946562   \n",
       "1                                  7.958270   \n",
       "2                                  8.071056   \n",
       "3                                  7.897085   \n",
       "4                                  8.107890   \n",
       "\n",
       "   secondary_cleaner.state.floatbank5_a_level  \\\n",
       "0                                 -432.317850   \n",
       "1                                 -525.839648   \n",
       "2                                 -500.801673   \n",
       "3                                 -500.868509   \n",
       "4                                 -509.526725   \n",
       "\n",
       "   secondary_cleaner.state.floatbank5_b_air  \\\n",
       "0                                  4.872511   \n",
       "1                                  4.878850   \n",
       "2                                  4.905125   \n",
       "3                                  4.931400   \n",
       "4                                  4.957674   \n",
       "\n",
       "   secondary_cleaner.state.floatbank5_b_level  \\\n",
       "0                                 -500.037437   \n",
       "1                                 -500.162375   \n",
       "2                                 -499.828510   \n",
       "3                                 -499.963623   \n",
       "4                                 -500.360026   \n",
       "\n",
       "   secondary_cleaner.state.floatbank6_a_air  \\\n",
       "0                                 26.705889   \n",
       "1                                 25.019940   \n",
       "2                                 24.994862   \n",
       "3                                 24.948919   \n",
       "4                                 25.003331   \n",
       "\n",
       "   secondary_cleaner.state.floatbank6_a_level  \n",
       "0                                 -499.709414  \n",
       "1                                 -499.819438  \n",
       "2                                 -500.622559  \n",
       "3                                 -498.709987  \n",
       "4                                 -500.856333  \n",
       "\n",
       "[5 rows x 53 columns]"
      ]
     },
     "metadata": {},
     "output_type": "display_data"
    },
    {
     "name": "stdout",
     "output_type": "stream",
     "text": [
      "<class 'pandas.core.frame.DataFrame'>\n",
      "RangeIndex: 5290 entries, 0 to 5289\n",
      "Data columns (total 53 columns):\n",
      " #   Column                                      Non-Null Count  Dtype  \n",
      "---  ------                                      --------------  -----  \n",
      " 0   date                                        5290 non-null   object \n",
      " 1   primary_cleaner.input.sulfate               5286 non-null   float64\n",
      " 2   primary_cleaner.input.depressant            5285 non-null   float64\n",
      " 3   primary_cleaner.input.feed_size             5290 non-null   float64\n",
      " 4   primary_cleaner.input.xanthate              5286 non-null   float64\n",
      " 5   primary_cleaner.state.floatbank8_a_air      5290 non-null   float64\n",
      " 6   primary_cleaner.state.floatbank8_a_level    5290 non-null   float64\n",
      " 7   primary_cleaner.state.floatbank8_b_air      5290 non-null   float64\n",
      " 8   primary_cleaner.state.floatbank8_b_level    5290 non-null   float64\n",
      " 9   primary_cleaner.state.floatbank8_c_air      5290 non-null   float64\n",
      " 10  primary_cleaner.state.floatbank8_c_level    5290 non-null   float64\n",
      " 11  primary_cleaner.state.floatbank8_d_air      5290 non-null   float64\n",
      " 12  primary_cleaner.state.floatbank8_d_level    5290 non-null   float64\n",
      " 13  rougher.input.feed_ag                       5290 non-null   float64\n",
      " 14  rougher.input.feed_pb                       5290 non-null   float64\n",
      " 15  rougher.input.feed_rate                     5287 non-null   float64\n",
      " 16  rougher.input.feed_size                     5289 non-null   float64\n",
      " 17  rougher.input.feed_sol                      5269 non-null   float64\n",
      " 18  rougher.input.feed_au                       5290 non-null   float64\n",
      " 19  rougher.input.floatbank10_sulfate           5285 non-null   float64\n",
      " 20  rougher.input.floatbank10_xanthate          5290 non-null   float64\n",
      " 21  rougher.input.floatbank11_sulfate           5282 non-null   float64\n",
      " 22  rougher.input.floatbank11_xanthate          5265 non-null   float64\n",
      " 23  rougher.state.floatbank10_a_air             5290 non-null   float64\n",
      " 24  rougher.state.floatbank10_a_level           5290 non-null   float64\n",
      " 25  rougher.state.floatbank10_b_air             5290 non-null   float64\n",
      " 26  rougher.state.floatbank10_b_level           5290 non-null   float64\n",
      " 27  rougher.state.floatbank10_c_air             5290 non-null   float64\n",
      " 28  rougher.state.floatbank10_c_level           5290 non-null   float64\n",
      " 29  rougher.state.floatbank10_d_air             5290 non-null   float64\n",
      " 30  rougher.state.floatbank10_d_level           5290 non-null   float64\n",
      " 31  rougher.state.floatbank10_e_air             5290 non-null   float64\n",
      " 32  rougher.state.floatbank10_e_level           5290 non-null   float64\n",
      " 33  rougher.state.floatbank10_f_air             5290 non-null   float64\n",
      " 34  rougher.state.floatbank10_f_level           5290 non-null   float64\n",
      " 35  secondary_cleaner.state.floatbank2_a_air    5287 non-null   float64\n",
      " 36  secondary_cleaner.state.floatbank2_a_level  5290 non-null   float64\n",
      " 37  secondary_cleaner.state.floatbank2_b_air    5288 non-null   float64\n",
      " 38  secondary_cleaner.state.floatbank2_b_level  5290 non-null   float64\n",
      " 39  secondary_cleaner.state.floatbank3_a_air    5281 non-null   float64\n",
      " 40  secondary_cleaner.state.floatbank3_a_level  5290 non-null   float64\n",
      " 41  secondary_cleaner.state.floatbank3_b_air    5290 non-null   float64\n",
      " 42  secondary_cleaner.state.floatbank3_b_level  5290 non-null   float64\n",
      " 43  secondary_cleaner.state.floatbank4_a_air    5290 non-null   float64\n",
      " 44  secondary_cleaner.state.floatbank4_a_level  5290 non-null   float64\n",
      " 45  secondary_cleaner.state.floatbank4_b_air    5290 non-null   float64\n",
      " 46  secondary_cleaner.state.floatbank4_b_level  5290 non-null   float64\n",
      " 47  secondary_cleaner.state.floatbank5_a_air    5290 non-null   float64\n",
      " 48  secondary_cleaner.state.floatbank5_a_level  5290 non-null   float64\n",
      " 49  secondary_cleaner.state.floatbank5_b_air    5290 non-null   float64\n",
      " 50  secondary_cleaner.state.floatbank5_b_level  5290 non-null   float64\n",
      " 51  secondary_cleaner.state.floatbank6_a_air    5290 non-null   float64\n",
      " 52  secondary_cleaner.state.floatbank6_a_level  5290 non-null   float64\n",
      "dtypes: float64(52), object(1)\n",
      "memory usage: 2.1+ MB\n"
     ]
    },
    {
     "data": {
      "text/plain": [
       "None"
      ]
     },
     "metadata": {},
     "output_type": "display_data"
    },
    {
     "data": {
      "text/html": [
       "<div>\n",
       "<style scoped>\n",
       "    .dataframe tbody tr th:only-of-type {\n",
       "        vertical-align: middle;\n",
       "    }\n",
       "\n",
       "    .dataframe tbody tr th {\n",
       "        vertical-align: top;\n",
       "    }\n",
       "\n",
       "    .dataframe thead th {\n",
       "        text-align: right;\n",
       "    }\n",
       "</style>\n",
       "<table border=\"1\" class=\"dataframe\">\n",
       "  <thead>\n",
       "    <tr style=\"text-align: right;\">\n",
       "      <th></th>\n",
       "      <th>date</th>\n",
       "      <th>final.output.concentrate_ag</th>\n",
       "      <th>final.output.concentrate_pb</th>\n",
       "      <th>final.output.concentrate_sol</th>\n",
       "      <th>final.output.concentrate_au</th>\n",
       "      <th>final.output.recovery</th>\n",
       "      <th>final.output.tail_ag</th>\n",
       "      <th>final.output.tail_pb</th>\n",
       "      <th>final.output.tail_sol</th>\n",
       "      <th>final.output.tail_au</th>\n",
       "      <th>...</th>\n",
       "      <th>secondary_cleaner.state.floatbank4_a_air</th>\n",
       "      <th>secondary_cleaner.state.floatbank4_a_level</th>\n",
       "      <th>secondary_cleaner.state.floatbank4_b_air</th>\n",
       "      <th>secondary_cleaner.state.floatbank4_b_level</th>\n",
       "      <th>secondary_cleaner.state.floatbank5_a_air</th>\n",
       "      <th>secondary_cleaner.state.floatbank5_a_level</th>\n",
       "      <th>secondary_cleaner.state.floatbank5_b_air</th>\n",
       "      <th>secondary_cleaner.state.floatbank5_b_level</th>\n",
       "      <th>secondary_cleaner.state.floatbank6_a_air</th>\n",
       "      <th>secondary_cleaner.state.floatbank6_a_level</th>\n",
       "    </tr>\n",
       "  </thead>\n",
       "  <tbody>\n",
       "    <tr>\n",
       "      <th>0</th>\n",
       "      <td>2016-01-15 00:00:00</td>\n",
       "      <td>6.055403</td>\n",
       "      <td>9.889648</td>\n",
       "      <td>5.507324</td>\n",
       "      <td>42.192020</td>\n",
       "      <td>70.541216</td>\n",
       "      <td>10.411962</td>\n",
       "      <td>0.895447</td>\n",
       "      <td>16.904297</td>\n",
       "      <td>2.143149</td>\n",
       "      <td>...</td>\n",
       "      <td>14.016835</td>\n",
       "      <td>-502.488007</td>\n",
       "      <td>12.099931</td>\n",
       "      <td>-504.715942</td>\n",
       "      <td>9.925633</td>\n",
       "      <td>-498.310211</td>\n",
       "      <td>8.079666</td>\n",
       "      <td>-500.470978</td>\n",
       "      <td>14.151341</td>\n",
       "      <td>-605.841980</td>\n",
       "    </tr>\n",
       "    <tr>\n",
       "      <th>1</th>\n",
       "      <td>2016-01-15 01:00:00</td>\n",
       "      <td>6.029369</td>\n",
       "      <td>9.968944</td>\n",
       "      <td>5.257781</td>\n",
       "      <td>42.701629</td>\n",
       "      <td>69.266198</td>\n",
       "      <td>10.462676</td>\n",
       "      <td>0.927452</td>\n",
       "      <td>16.634514</td>\n",
       "      <td>2.224930</td>\n",
       "      <td>...</td>\n",
       "      <td>13.992281</td>\n",
       "      <td>-505.503262</td>\n",
       "      <td>11.950531</td>\n",
       "      <td>-501.331529</td>\n",
       "      <td>10.039245</td>\n",
       "      <td>-500.169983</td>\n",
       "      <td>7.984757</td>\n",
       "      <td>-500.582168</td>\n",
       "      <td>13.998353</td>\n",
       "      <td>-599.787184</td>\n",
       "    </tr>\n",
       "    <tr>\n",
       "      <th>2</th>\n",
       "      <td>2016-01-15 02:00:00</td>\n",
       "      <td>6.055926</td>\n",
       "      <td>10.213995</td>\n",
       "      <td>5.383759</td>\n",
       "      <td>42.657501</td>\n",
       "      <td>68.116445</td>\n",
       "      <td>10.507046</td>\n",
       "      <td>0.953716</td>\n",
       "      <td>16.208849</td>\n",
       "      <td>2.257889</td>\n",
       "      <td>...</td>\n",
       "      <td>14.015015</td>\n",
       "      <td>-502.520901</td>\n",
       "      <td>11.912783</td>\n",
       "      <td>-501.133383</td>\n",
       "      <td>10.070913</td>\n",
       "      <td>-500.129135</td>\n",
       "      <td>8.013877</td>\n",
       "      <td>-500.517572</td>\n",
       "      <td>14.028663</td>\n",
       "      <td>-601.427363</td>\n",
       "    </tr>\n",
       "    <tr>\n",
       "      <th>3</th>\n",
       "      <td>2016-01-15 03:00:00</td>\n",
       "      <td>6.047977</td>\n",
       "      <td>9.977019</td>\n",
       "      <td>4.858634</td>\n",
       "      <td>42.689819</td>\n",
       "      <td>68.347543</td>\n",
       "      <td>10.422762</td>\n",
       "      <td>0.883763</td>\n",
       "      <td>16.532835</td>\n",
       "      <td>2.146849</td>\n",
       "      <td>...</td>\n",
       "      <td>14.036510</td>\n",
       "      <td>-500.857308</td>\n",
       "      <td>11.999550</td>\n",
       "      <td>-501.193686</td>\n",
       "      <td>9.970366</td>\n",
       "      <td>-499.201640</td>\n",
       "      <td>7.977324</td>\n",
       "      <td>-500.255908</td>\n",
       "      <td>14.005551</td>\n",
       "      <td>-599.996129</td>\n",
       "    </tr>\n",
       "    <tr>\n",
       "      <th>4</th>\n",
       "      <td>2016-01-15 04:00:00</td>\n",
       "      <td>6.148599</td>\n",
       "      <td>10.142511</td>\n",
       "      <td>4.939416</td>\n",
       "      <td>42.774141</td>\n",
       "      <td>66.927016</td>\n",
       "      <td>10.360302</td>\n",
       "      <td>0.792826</td>\n",
       "      <td>16.525686</td>\n",
       "      <td>2.055292</td>\n",
       "      <td>...</td>\n",
       "      <td>14.027298</td>\n",
       "      <td>-499.838632</td>\n",
       "      <td>11.953070</td>\n",
       "      <td>-501.053894</td>\n",
       "      <td>9.925709</td>\n",
       "      <td>-501.686727</td>\n",
       "      <td>7.894242</td>\n",
       "      <td>-500.356035</td>\n",
       "      <td>13.996647</td>\n",
       "      <td>-601.496691</td>\n",
       "    </tr>\n",
       "  </tbody>\n",
       "</table>\n",
       "<p>5 rows × 87 columns</p>\n",
       "</div>"
      ],
      "text/plain": [
       "                  date  final.output.concentrate_ag  \\\n",
       "0  2016-01-15 00:00:00                     6.055403   \n",
       "1  2016-01-15 01:00:00                     6.029369   \n",
       "2  2016-01-15 02:00:00                     6.055926   \n",
       "3  2016-01-15 03:00:00                     6.047977   \n",
       "4  2016-01-15 04:00:00                     6.148599   \n",
       "\n",
       "   final.output.concentrate_pb  final.output.concentrate_sol  \\\n",
       "0                     9.889648                      5.507324   \n",
       "1                     9.968944                      5.257781   \n",
       "2                    10.213995                      5.383759   \n",
       "3                     9.977019                      4.858634   \n",
       "4                    10.142511                      4.939416   \n",
       "\n",
       "   final.output.concentrate_au  final.output.recovery  final.output.tail_ag  \\\n",
       "0                    42.192020              70.541216             10.411962   \n",
       "1                    42.701629              69.266198             10.462676   \n",
       "2                    42.657501              68.116445             10.507046   \n",
       "3                    42.689819              68.347543             10.422762   \n",
       "4                    42.774141              66.927016             10.360302   \n",
       "\n",
       "   final.output.tail_pb  final.output.tail_sol  final.output.tail_au  ...  \\\n",
       "0              0.895447              16.904297              2.143149  ...   \n",
       "1              0.927452              16.634514              2.224930  ...   \n",
       "2              0.953716              16.208849              2.257889  ...   \n",
       "3              0.883763              16.532835              2.146849  ...   \n",
       "4              0.792826              16.525686              2.055292  ...   \n",
       "\n",
       "   secondary_cleaner.state.floatbank4_a_air  \\\n",
       "0                                 14.016835   \n",
       "1                                 13.992281   \n",
       "2                                 14.015015   \n",
       "3                                 14.036510   \n",
       "4                                 14.027298   \n",
       "\n",
       "   secondary_cleaner.state.floatbank4_a_level  \\\n",
       "0                                 -502.488007   \n",
       "1                                 -505.503262   \n",
       "2                                 -502.520901   \n",
       "3                                 -500.857308   \n",
       "4                                 -499.838632   \n",
       "\n",
       "   secondary_cleaner.state.floatbank4_b_air  \\\n",
       "0                                 12.099931   \n",
       "1                                 11.950531   \n",
       "2                                 11.912783   \n",
       "3                                 11.999550   \n",
       "4                                 11.953070   \n",
       "\n",
       "   secondary_cleaner.state.floatbank4_b_level  \\\n",
       "0                                 -504.715942   \n",
       "1                                 -501.331529   \n",
       "2                                 -501.133383   \n",
       "3                                 -501.193686   \n",
       "4                                 -501.053894   \n",
       "\n",
       "   secondary_cleaner.state.floatbank5_a_air  \\\n",
       "0                                  9.925633   \n",
       "1                                 10.039245   \n",
       "2                                 10.070913   \n",
       "3                                  9.970366   \n",
       "4                                  9.925709   \n",
       "\n",
       "   secondary_cleaner.state.floatbank5_a_level  \\\n",
       "0                                 -498.310211   \n",
       "1                                 -500.169983   \n",
       "2                                 -500.129135   \n",
       "3                                 -499.201640   \n",
       "4                                 -501.686727   \n",
       "\n",
       "   secondary_cleaner.state.floatbank5_b_air  \\\n",
       "0                                  8.079666   \n",
       "1                                  7.984757   \n",
       "2                                  8.013877   \n",
       "3                                  7.977324   \n",
       "4                                  7.894242   \n",
       "\n",
       "   secondary_cleaner.state.floatbank5_b_level  \\\n",
       "0                                 -500.470978   \n",
       "1                                 -500.582168   \n",
       "2                                 -500.517572   \n",
       "3                                 -500.255908   \n",
       "4                                 -500.356035   \n",
       "\n",
       "   secondary_cleaner.state.floatbank6_a_air  \\\n",
       "0                                 14.151341   \n",
       "1                                 13.998353   \n",
       "2                                 14.028663   \n",
       "3                                 14.005551   \n",
       "4                                 13.996647   \n",
       "\n",
       "   secondary_cleaner.state.floatbank6_a_level  \n",
       "0                                 -605.841980  \n",
       "1                                 -599.787184  \n",
       "2                                 -601.427363  \n",
       "3                                 -599.996129  \n",
       "4                                 -601.496691  \n",
       "\n",
       "[5 rows x 87 columns]"
      ]
     },
     "metadata": {},
     "output_type": "display_data"
    },
    {
     "name": "stdout",
     "output_type": "stream",
     "text": [
      "<class 'pandas.core.frame.DataFrame'>\n",
      "RangeIndex: 19439 entries, 0 to 19438\n",
      "Data columns (total 87 columns):\n",
      " #   Column                                              Non-Null Count  Dtype  \n",
      "---  ------                                              --------------  -----  \n",
      " 0   date                                                19439 non-null  object \n",
      " 1   final.output.concentrate_ag                         19438 non-null  float64\n",
      " 2   final.output.concentrate_pb                         19438 non-null  float64\n",
      " 3   final.output.concentrate_sol                        19228 non-null  float64\n",
      " 4   final.output.concentrate_au                         19439 non-null  float64\n",
      " 5   final.output.recovery                               19439 non-null  float64\n",
      " 6   final.output.tail_ag                                19438 non-null  float64\n",
      " 7   final.output.tail_pb                                19338 non-null  float64\n",
      " 8   final.output.tail_sol                               19433 non-null  float64\n",
      " 9   final.output.tail_au                                19439 non-null  float64\n",
      " 10  primary_cleaner.input.sulfate                       19415 non-null  float64\n",
      " 11  primary_cleaner.input.depressant                    19402 non-null  float64\n",
      " 12  primary_cleaner.input.feed_size                     19439 non-null  float64\n",
      " 13  primary_cleaner.input.xanthate                      19335 non-null  float64\n",
      " 14  primary_cleaner.output.concentrate_ag               19439 non-null  float64\n",
      " 15  primary_cleaner.output.concentrate_pb               19323 non-null  float64\n",
      " 16  primary_cleaner.output.concentrate_sol              19069 non-null  float64\n",
      " 17  primary_cleaner.output.concentrate_au               19439 non-null  float64\n",
      " 18  primary_cleaner.output.tail_ag                      19435 non-null  float64\n",
      " 19  primary_cleaner.output.tail_pb                      19418 non-null  float64\n",
      " 20  primary_cleaner.output.tail_sol                     19377 non-null  float64\n",
      " 21  primary_cleaner.output.tail_au                      19439 non-null  float64\n",
      " 22  primary_cleaner.state.floatbank8_a_air              19435 non-null  float64\n",
      " 23  primary_cleaner.state.floatbank8_a_level            19438 non-null  float64\n",
      " 24  primary_cleaner.state.floatbank8_b_air              19435 non-null  float64\n",
      " 25  primary_cleaner.state.floatbank8_b_level            19438 non-null  float64\n",
      " 26  primary_cleaner.state.floatbank8_c_air              19437 non-null  float64\n",
      " 27  primary_cleaner.state.floatbank8_c_level            19438 non-null  float64\n",
      " 28  primary_cleaner.state.floatbank8_d_air              19436 non-null  float64\n",
      " 29  primary_cleaner.state.floatbank8_d_level            19438 non-null  float64\n",
      " 30  rougher.calculation.sulfate_to_au_concentrate       19437 non-null  float64\n",
      " 31  rougher.calculation.floatbank10_sulfate_to_au_feed  19437 non-null  float64\n",
      " 32  rougher.calculation.floatbank11_sulfate_to_au_feed  19437 non-null  float64\n",
      " 33  rougher.calculation.au_pb_ratio                     19439 non-null  float64\n",
      " 34  rougher.input.feed_ag                               19439 non-null  float64\n",
      " 35  rougher.input.feed_pb                               19339 non-null  float64\n",
      " 36  rougher.input.feed_rate                             19428 non-null  float64\n",
      " 37  rougher.input.feed_size                             19294 non-null  float64\n",
      " 38  rougher.input.feed_sol                              19340 non-null  float64\n",
      " 39  rougher.input.feed_au                               19439 non-null  float64\n",
      " 40  rougher.input.floatbank10_sulfate                   19405 non-null  float64\n",
      " 41  rougher.input.floatbank10_xanthate                  19431 non-null  float64\n",
      " 42  rougher.input.floatbank11_sulfate                   19395 non-null  float64\n",
      " 43  rougher.input.floatbank11_xanthate                  18986 non-null  float64\n",
      " 44  rougher.output.concentrate_ag                       19439 non-null  float64\n",
      " 45  rougher.output.concentrate_pb                       19439 non-null  float64\n",
      " 46  rougher.output.concentrate_sol                      19416 non-null  float64\n",
      " 47  rougher.output.concentrate_au                       19439 non-null  float64\n",
      " 48  rougher.output.recovery                             19439 non-null  float64\n",
      " 49  rougher.output.tail_ag                              19438 non-null  float64\n",
      " 50  rougher.output.tail_pb                              19439 non-null  float64\n",
      " 51  rougher.output.tail_sol                             19439 non-null  float64\n",
      " 52  rougher.output.tail_au                              19439 non-null  float64\n",
      " 53  rougher.state.floatbank10_a_air                     19438 non-null  float64\n",
      " 54  rougher.state.floatbank10_a_level                   19438 non-null  float64\n",
      " 55  rougher.state.floatbank10_b_air                     19438 non-null  float64\n",
      " 56  rougher.state.floatbank10_b_level                   19438 non-null  float64\n",
      " 57  rougher.state.floatbank10_c_air                     19438 non-null  float64\n",
      " 58  rougher.state.floatbank10_c_level                   19438 non-null  float64\n",
      " 59  rougher.state.floatbank10_d_air                     19439 non-null  float64\n",
      " 60  rougher.state.floatbank10_d_level                   19439 non-null  float64\n",
      " 61  rougher.state.floatbank10_e_air                     19003 non-null  float64\n",
      " 62  rougher.state.floatbank10_e_level                   19439 non-null  float64\n",
      " 63  rougher.state.floatbank10_f_air                     19439 non-null  float64\n",
      " 64  rougher.state.floatbank10_f_level                   19439 non-null  float64\n",
      " 65  secondary_cleaner.output.tail_ag                    19437 non-null  float64\n",
      " 66  secondary_cleaner.output.tail_pb                    19427 non-null  float64\n",
      " 67  secondary_cleaner.output.tail_sol                   17691 non-null  float64\n",
      " 68  secondary_cleaner.output.tail_au                    19439 non-null  float64\n",
      " 69  secondary_cleaner.state.floatbank2_a_air            19219 non-null  float64\n",
      " 70  secondary_cleaner.state.floatbank2_a_level          19438 non-null  float64\n",
      " 71  secondary_cleaner.state.floatbank2_b_air            19416 non-null  float64\n",
      " 72  secondary_cleaner.state.floatbank2_b_level          19438 non-null  float64\n",
      " 73  secondary_cleaner.state.floatbank3_a_air            19426 non-null  float64\n",
      " 74  secondary_cleaner.state.floatbank3_a_level          19438 non-null  float64\n",
      " 75  secondary_cleaner.state.floatbank3_b_air            19438 non-null  float64\n",
      " 76  secondary_cleaner.state.floatbank3_b_level          19438 non-null  float64\n",
      " 77  secondary_cleaner.state.floatbank4_a_air            19433 non-null  float64\n",
      " 78  secondary_cleaner.state.floatbank4_a_level          19438 non-null  float64\n",
      " 79  secondary_cleaner.state.floatbank4_b_air            19438 non-null  float64\n",
      " 80  secondary_cleaner.state.floatbank4_b_level          19438 non-null  float64\n",
      " 81  secondary_cleaner.state.floatbank5_a_air            19438 non-null  float64\n",
      " 82  secondary_cleaner.state.floatbank5_a_level          19438 non-null  float64\n",
      " 83  secondary_cleaner.state.floatbank5_b_air            19438 non-null  float64\n",
      " 84  secondary_cleaner.state.floatbank5_b_level          19438 non-null  float64\n",
      " 85  secondary_cleaner.state.floatbank6_a_air            19437 non-null  float64\n",
      " 86  secondary_cleaner.state.floatbank6_a_level          19438 non-null  float64\n",
      "dtypes: float64(86), object(1)\n",
      "memory usage: 12.9+ MB\n"
     ]
    },
    {
     "data": {
      "text/plain": [
       "None"
      ]
     },
     "metadata": {},
     "output_type": "display_data"
    }
   ],
   "source": [
    "# Ознакомление с содержимым датасета\n",
    "for df in df_list:\n",
    "    display(df.head())\n",
    "    display(df.info())"
   ]
  },
  {
   "cell_type": "markdown",
   "metadata": {},
   "source": [
    "Столбец date очевидно содержит дату, приведем его к соответсующему типу."
   ]
  },
  {
   "cell_type": "code",
   "execution_count": 4,
   "metadata": {},
   "outputs": [],
   "source": [
    "for df in df_list:\n",
    "    df['date'] = pd.to_datetime(df['date'], format='%Y-%m-%d %H:%M:%S')"
   ]
  },
  {
   "cell_type": "markdown",
   "metadata": {},
   "source": [
    "Типы данных в порядке, в некоторых столбцах есть пропуски, вернемся к ним позже."
   ]
  },
  {
   "cell_type": "markdown",
   "metadata": {},
   "source": [
    "### Проверка корректности расчета эффективности обогащения"
   ]
  },
  {
   "cell_type": "markdown",
   "metadata": {},
   "source": [
    "Эффективность обогащения рассчитывается по формуле:\n",
    "\n",
    "![](https://pictures.s3.yandex.net/resources/Recovery_1576238822.jpg)\n",
    "\n",
    "где:\n",
    "\n",
    "    C — доля золота в концентрате после флотации/очистки;\n",
    "    F — доля золота в сырье/концентрате до флотации/очистки;\n",
    "    T — доля золота в отвальных хвостах после флотации/очистки."
   ]
  },
  {
   "cell_type": "code",
   "execution_count": 5,
   "metadata": {},
   "outputs": [
    {
     "name": "stdout",
     "output_type": "stream",
     "text": [
      "Средняя абсолютная ошибка: 1.3885438295121047e-16\n"
     ]
    }
   ],
   "source": [
    "# Запишем необходимые значения в переменные\n",
    "c = df_train['rougher.output.concentrate_au']\n",
    "f = df_train['rougher.input.feed_au']\n",
    "t = df_train['rougher.output.tail_au']\n",
    "\n",
    "# Рассчитаем значения по формуле\n",
    "recovery = (c * (f - t))/ (f * (c - t))*100\n",
    "\n",
    "# Расчитаем MAE исходя из исходных и рассчитанных значений\n",
    "print('Средняя абсолютная ошибка:', (df_train['rougher.output.recovery'] - recovery).mean())"
   ]
  },
  {
   "cell_type": "markdown",
   "metadata": {},
   "source": [
    "Разница значений близка к нулю, соответственно эффективность обогащения рассчитана правильно."
   ]
  },
  {
   "cell_type": "markdown",
   "metadata": {},
   "source": [
    "### Анализ признаков недоступных в тестовой выборке"
   ]
  },
  {
   "cell_type": "code",
   "execution_count": 6,
   "metadata": {
    "scrolled": true
   },
   "outputs": [
    {
     "data": {
      "text/plain": [
       "{'final.output.concentrate_ag',\n",
       " 'final.output.concentrate_au',\n",
       " 'final.output.concentrate_pb',\n",
       " 'final.output.concentrate_sol',\n",
       " 'final.output.recovery',\n",
       " 'final.output.tail_ag',\n",
       " 'final.output.tail_au',\n",
       " 'final.output.tail_pb',\n",
       " 'final.output.tail_sol',\n",
       " 'primary_cleaner.output.concentrate_ag',\n",
       " 'primary_cleaner.output.concentrate_au',\n",
       " 'primary_cleaner.output.concentrate_pb',\n",
       " 'primary_cleaner.output.concentrate_sol',\n",
       " 'primary_cleaner.output.tail_ag',\n",
       " 'primary_cleaner.output.tail_au',\n",
       " 'primary_cleaner.output.tail_pb',\n",
       " 'primary_cleaner.output.tail_sol',\n",
       " 'rougher.calculation.au_pb_ratio',\n",
       " 'rougher.calculation.floatbank10_sulfate_to_au_feed',\n",
       " 'rougher.calculation.floatbank11_sulfate_to_au_feed',\n",
       " 'rougher.calculation.sulfate_to_au_concentrate',\n",
       " 'rougher.output.concentrate_ag',\n",
       " 'rougher.output.concentrate_au',\n",
       " 'rougher.output.concentrate_pb',\n",
       " 'rougher.output.concentrate_sol',\n",
       " 'rougher.output.recovery',\n",
       " 'rougher.output.tail_ag',\n",
       " 'rougher.output.tail_au',\n",
       " 'rougher.output.tail_pb',\n",
       " 'rougher.output.tail_sol',\n",
       " 'secondary_cleaner.output.tail_ag',\n",
       " 'secondary_cleaner.output.tail_au',\n",
       " 'secondary_cleaner.output.tail_pb',\n",
       " 'secondary_cleaner.output.tail_sol'}"
      ]
     },
     "execution_count": 6,
     "metadata": {},
     "output_type": "execute_result"
    }
   ],
   "source": [
    "# Выведем список признаков отсутствующих в тестовой выборке\n",
    "set(df_train.columns) - set(df_test.columns)"
   ]
  },
  {
   "cell_type": "markdown",
   "metadata": {},
   "source": [
    "В тестовой выборке отсутсвуют несколько расчитываемых значений и большое количество значений характеризующих параметры концентраций после всех операций. Это данные, которые получают после реальных измерений, в тестовой выборке в них нет необходимости.\n",
    "Для проверки качества модели добавим в тестовую выборку целевые признаки 'rougher.output.recovery' и 'final.output.recovery'."
   ]
  },
  {
   "cell_type": "markdown",
   "metadata": {},
   "source": [
    "### Работа с пропусками"
   ]
  },
  {
   "cell_type": "code",
   "execution_count": 7,
   "metadata": {
    "scrolled": true
   },
   "outputs": [
    {
     "data": {
      "text/plain": [
       "4100"
      ]
     },
     "execution_count": 7,
     "metadata": {},
     "output_type": "execute_result"
    }
   ],
   "source": [
    "# Посчитаем количество пропусков\n",
    "df_train.isnull().sum().sum()"
   ]
  },
  {
   "cell_type": "markdown",
   "metadata": {},
   "source": [
    "Пропуски есть и их немного. Однако в описании к проекту указано, что соседние данные похожи, значит мы можем заполнить пропуски. А раз можем, так и поступим."
   ]
  },
  {
   "cell_type": "code",
   "execution_count": 8,
   "metadata": {},
   "outputs": [],
   "source": [
    "# Заполним пропуски промежуточными значениями, при помощи интерполяции\n",
    "for df_fil in df_list:\n",
    "    df = df_fil.fillna(method='ffill', inplace=True)"
   ]
  },
  {
   "cell_type": "markdown",
   "metadata": {},
   "source": [
    "Пропущенные значения синтезированы в соответствии с условиями из описания проекта."
   ]
  },
  {
   "cell_type": "code",
   "execution_count": 9,
   "metadata": {},
   "outputs": [],
   "source": [
    "# За индекс возьмем столбец дата и добавим необходимые столбцы в тестовую выборку\n",
    "df_test = df_test.merge(df_full[['final.output.recovery', 'rougher.output.recovery', 'date']], on='date')\n",
    "# Преобразуем столбец дата в индекс\n",
    "df_train.set_index('date', inplace=True)\n",
    "df_test.set_index('date', inplace=True)"
   ]
  },
  {
   "cell_type": "markdown",
   "metadata": {},
   "source": [
    "### Проверка на явные дубликаты"
   ]
  },
  {
   "cell_type": "code",
   "execution_count": 10,
   "metadata": {},
   "outputs": [
    {
     "data": {
      "text/plain": [
       "0"
      ]
     },
     "metadata": {},
     "output_type": "display_data"
    },
    {
     "data": {
      "text/plain": [
       "0"
      ]
     },
     "metadata": {},
     "output_type": "display_data"
    },
    {
     "data": {
      "text/plain": [
       "0"
      ]
     },
     "metadata": {},
     "output_type": "display_data"
    }
   ],
   "source": [
    "# Проверка на явные дубликаты\n",
    "for df in df_list:\n",
    "    display(df.duplicated().sum())"
   ]
  },
  {
   "cell_type": "markdown",
   "metadata": {},
   "source": [
    "Явные дубликаты отсутствуют."
   ]
  },
  {
   "cell_type": "markdown",
   "metadata": {},
   "source": [
    "### Вывод"
   ]
  },
  {
   "cell_type": "markdown",
   "metadata": {},
   "source": [
    "На этапе подготовки данных:\n",
    "* Произвдена загрузка данных и изучено содержимое датасетов.\n",
    "* Типы данных приведены в соответствие со значениями.\n",
    "* Произведена проверка расчетного и исходного значения эффективности обогащения, для проверки произведен расчет средней абсолютной ошибки. Эффективность обогащения расчитана верно.\n",
    "* В тестовой выборке отсутствуют столбцы, которые есть в прочих выборках, однако после анализа, принято решение, что их отсутствие обосновано, за исключением 'rougher.output.recovery' и 'final.output.recovery'. Эти признаки добавлены в тестовую выборку, для оценки качества модели.\n",
    "* Пропуски значений заполнены при помощи интерполяции, так как в описании проекта указано, что соседние признаки имеют схожие значения.\n",
    "* Дубликаты в датасете не обнаружены."
   ]
  },
  {
   "cell_type": "markdown",
   "metadata": {},
   "source": [
    "## Анализ данных"
   ]
  },
  {
   "cell_type": "markdown",
   "metadata": {},
   "source": [
    "### Изменение концентрации металлов на различных этапах очистки"
   ]
  },
  {
   "cell_type": "code",
   "execution_count": 11,
   "metadata": {},
   "outputs": [
    {
     "data": {
      "image/png": "[encoded data removed]",
      "text/plain": [
       "<Figure size 1440x432 with 1 Axes>"
      ]
     },
     "metadata": {
      "needs_background": "light"
     },
     "output_type": "display_data"
    },
    {
     "data": {
      "image/png": "[encoded data removed]",
      "text/plain": [
       "<Figure size 1440x432 with 1 Axes>"
      ]
     },
     "metadata": {
      "needs_background": "light"
     },
     "output_type": "display_data"
    },
    {
     "data": {
      "image/png": "[encoded data removed]",
      "text/plain": [
       "<Figure size 1440x432 with 1 Axes>"
      ]
     },
     "metadata": {
      "needs_background": "light"
     },
     "output_type": "display_data"
    }
   ],
   "source": [
    "def concentrat (metal):\n",
    "    sns.kdeplot(df_train[f'rougher.input.feed_{metal}'], color='r', label='Сырье', shade=True)\n",
    "    sns.kdeplot(df_train[f'rougher.output.concentrate_{metal}'], color='g', label='После флотации', shade=True)\n",
    "    sns.kdeplot(df_train[f'primary_cleaner.output.concentrate_{metal}'], color='b', label='После первичной очистки', shade=True)\n",
    "    sns.kdeplot(df_train[f'final.output.concentrate_{metal}'], color='y', label='Финальная', shade=True)\n",
    "    \n",
    "    plt.xlabel('Концентрация металла')\n",
    "    plt.ylabel('Количество наблюдений')\n",
    "    plt.legend(loc='upper right')\n",
    "    return\n",
    "    \n",
    "for con in ['au','pb','ag']:\n",
    "    plt.figure(figsize=[20, 6])\n",
    "    concentrat(con)\n",
    "    if con == 'au':\n",
    "        plt.subplots_adjust(top=0.85, wspace=0.2, hspace=0.3)\n",
    "        plt.suptitle('Концентрация металлов на различных этапах очистки', fontsize=17)\n",
    "        plt.title(f'Распределение золота', fontsize=15)\n",
    "    elif con == 'pb':\n",
    "        plt.title(f'Распределение свинца', fontsize=15)\n",
    "    else:\n",
    "        plt.title(f'Распределение серебра', fontsize=15)"
   ]
  },
  {
   "cell_type": "markdown",
   "metadata": {},
   "source": [
    "* Концентрация золота после каждого этапа очистки увеличивается.\n",
    "* Концентрация серебра увеличивается на этапе флотации, затем идет на спад.\n",
    "* Концентрация свинца растет до финальной очистки, после чего рост останавливается.\n",
    "\n",
    "Так же в данных наблюдатся выбросы в районе нулевых значений."
   ]
  },
  {
   "cell_type": "markdown",
   "metadata": {},
   "source": [
    "### Распределение размеров гранул сырья на обучающей и тестовой выборках"
   ]
  },
  {
   "cell_type": "code",
   "execution_count": 12,
   "metadata": {},
   "outputs": [
    {
     "data": {
      "image/png": "[encoded data removed]",
      "text/plain": [
       "<Figure size 864x345.6 with 2 Axes>"
      ]
     },
     "metadata": {
      "needs_background": "light"
     },
     "output_type": "display_data"
    }
   ],
   "source": [
    "# Избавимся от дублирующегося кода путем создания функции, в которую передаются признаки и значение xlim\n",
    "def chart (one, two, xlim, tit):\n",
    "    plt.title(tit, fontsize=13)\n",
    "    sns.kdeplot(one, color = 'b', label='Обучающая выборка', alpha=0.5, shade=True)\n",
    "    sns.kdeplot(two, color = 'r', label='Тестовая выборка', alpha=0.7, shade=True)\n",
    "    # Лимит по оси х\n",
    "    plt.xlim(xlim)\n",
    "    # Обозначим оси\n",
    "    plt.xlabel('Значения')\n",
    "    plt.ylabel('Количество наблюдений')\n",
    "    # Разместим легенду\n",
    "    plt.legend(loc='upper right')\n",
    "    return\n",
    "\n",
    "# Графики будут небольшие, расположим их в один ряд и пропишем заголовок\n",
    "fig, axes = plt.subplots(1, 2, figsize=(12, 4.8))\n",
    "plt.subplots_adjust(top=0.85, wspace=0.2, hspace=0.3)\n",
    "plt.suptitle('Распределения размеров гранул сырья на обучающей и тестовой выборках', fontsize=17)\n",
    "\n",
    "# Зададим положение графика и вызовем функцию\n",
    "plt.subplot(1, 2, 1)\n",
    "chart(df_train['rougher.input.feed_size'], df_test['rougher.input.feed_size'],[0, 120], 'До этапа флотации' )\n",
    "\n",
    "plt.subplot(1, 2, 2)\n",
    "chart(df_train['primary_cleaner.input.feed_size'],\\\n",
    "       df_test['primary_cleaner.input.feed_size'],[5, 10], 'После этапа первичной очистки')"
   ]
  },
  {
   "cell_type": "markdown",
   "metadata": {},
   "source": [
    "Распределение значений размеров гранул для обучающей и тестовой выборок похожи, это говорит об однородности данных."
   ]
  },
  {
   "cell_type": "markdown",
   "metadata": {},
   "source": [
    "### Cуммарная концентрация всех веществ на разных стадиях."
   ]
  },
  {
   "cell_type": "code",
   "execution_count": 13,
   "metadata": {},
   "outputs": [],
   "source": [
    "# Создадим переменные с суммарными значениями концентраций всех металлов для каждой стадии\n",
    "# Черновой концентрат\n",
    "rougher = (df_train['rougher.output.concentrate_au'] + \n",
    "           df_train['rougher.output.concentrate_ag'] + \n",
    "           df_train['rougher.output.concentrate_pb'] +\n",
    "           df_train['rougher.output.concentrate_sol'])\n",
    "\n",
    "\n",
    "# Сырье\n",
    "primary = (df_train['rougher.input.feed_ag'] + \n",
    "           df_train['rougher.input.feed_pb'] + \n",
    "           df_train['rougher.input.feed_sol'] +\n",
    "           df_train['rougher.input.feed_au'])\n",
    "\n",
    "# Финальный концентрат\n",
    "final = (df_train['final.output.concentrate_au'] + \n",
    "         df_train['final.output.concentrate_ag'] + \n",
    "         df_train['final.output.concentrate_pb'] +\n",
    "         df_train['final.output.concentrate_sol'])"
   ]
  },
  {
   "cell_type": "code",
   "execution_count": 14,
   "metadata": {},
   "outputs": [
    {
     "data": {
      "image/png": "[encoded data removed]",
      "text/plain": [
       "<Figure size 1440x720 with 1 Axes>"
      ]
     },
     "metadata": {
      "needs_background": "light"
     },
     "output_type": "display_data"
    }
   ],
   "source": [
    "# Задаем размер\n",
    "plt.figure(figsize=[20, 10])\n",
    "# Заголовок\n",
    "plt.title('Cуммарная концентрация всех веществ на разных стадиях.', fontsize=20)\n",
    "# Задаем значения для формирования графика\n",
    "sns.kdeplot(rougher, color = 'b', label='Черновой концентрат', alpha=0.5, shade=True)\n",
    "sns.kdeplot(primary, color = 'r', label='Сырье', alpha=0.7, shade=True)\n",
    "sns.kdeplot(final, color = 'g', label='Финальный концентрат', alpha=0.7, shade=True)\n",
    "# Обозначим оси\n",
    "plt.xlabel('Суммарная концентрация')\n",
    "plt.ylabel('Количество')\n",
    "# Разместим легенду\n",
    "plt.legend()\n",
    "\n",
    "# Вывод\n",
    "plt.show()"
   ]
  },
  {
   "cell_type": "markdown",
   "metadata": {},
   "source": [
    "Суммарная концентрация веществ на каждом этапе обработки растет. Что говорит о эффективности обработки.\n",
    "\n",
    "Обнаружены выбросы в районе нулевых значений."
   ]
  },
  {
   "cell_type": "code",
   "execution_count": 15,
   "metadata": {},
   "outputs": [],
   "source": [
    "# Убрал конструкцию в цикл\n",
    "for metal in ['au', 'ag', 'pb', 'sol']:\n",
    "    df_train = df_train[(df_train[f'rougher.output.concentrate_{metal}'] > 0) & \\\n",
    "                        (df_train[f'final.output.concentrate_{metal}'] > 0) & \\\n",
    "                                 (df_train[f'primary_cleaner.output.concentrate_{metal}'] > 0)]"
   ]
  },
  {
   "cell_type": "markdown",
   "metadata": {},
   "source": [
    "### Вывод"
   ]
  },
  {
   "cell_type": "markdown",
   "metadata": {},
   "source": [
    "* Концентрация золота после каждого этапа очистки увеличивается.\n",
    "* Распределение значений размеров гранул для обучающей и тестовой выборок не имеют существенных различий.\n",
    "* Суммарная концентрация веществ на каждом этапе обработки растет.\n",
    "\n",
    "В ходе проведения анализа данных были обнаружены выбросы, после чего были исключены из датасета."
   ]
  },
  {
   "cell_type": "markdown",
   "metadata": {},
   "source": [
    "## Модель"
   ]
  },
  {
   "cell_type": "markdown",
   "metadata": {},
   "source": [
    "### Функция для вычисления итоговой sMAPE"
   ]
  },
  {
   "cell_type": "code",
   "execution_count": 16,
   "metadata": {},
   "outputs": [],
   "source": [
    "# Функция расчета sMape\n",
    "def s_mape(target, predicted):        \n",
    "    return 1/len(target) * np.sum(2 * np.abs(target - predicted) / (np.abs(target) + np.abs(predicted))*100)\n",
    "\n",
    "# Функция расчет итогового sMape\n",
    "def smape_final(rougher, final):\n",
    "    return 0.25*rougher + 0.75*final\n",
    "\n",
    "# Счетчик\n",
    "smape_scorer = make_scorer(s_mape, greater_is_better = False)"
   ]
  },
  {
   "cell_type": "markdown",
   "metadata": {},
   "source": [
    "### Обучение моделей и оценка их качества кросс-валидаций"
   ]
  },
  {
   "cell_type": "code",
   "execution_count": 17,
   "metadata": {},
   "outputs": [],
   "source": [
    "# Удалим из обучающей выборки столбцы неиспользуемые в тестовой\n",
    "df_train = df_train.drop(set(df_train.columns)-set(df_test.columns), axis=1)"
   ]
  },
  {
   "cell_type": "code",
   "execution_count": 18,
   "metadata": {},
   "outputs": [],
   "source": [
    "# Тренировочная выборка \n",
    "# Признаки исходного сырья\n",
    "features_train_r = df_train.filter(regex='^rougher',axis=1)\n",
    "features_train_r = features_train_r.drop(['rougher.output.recovery'], axis=1)\n",
    "target_train_r = df_train['rougher.output.recovery']\n",
    "\n",
    "# Признаки после всех обработок\n",
    "features_train_f = df_train.drop(['rougher.output.recovery', 'final.output.recovery'], axis=1)\n",
    "target_train_f = df_train['final.output.recovery']\n",
    "\n",
    "# Тестовая выборка\n",
    "# Признаки исходного сырья\n",
    "features_test_r = df_test.filter(regex='^rougher',axis=1)\n",
    "features_test_r = features_test_r.drop(['rougher.output.recovery'], axis=1)\n",
    "target_test_r = df_test['rougher.output.recovery']\n",
    "\n",
    "# Признаки после всех обработок\n",
    "features_test_f = df_test.drop(['rougher.output.recovery', 'final.output.recovery'], axis=1)\n",
    "target_test_f = df_test['final.output.recovery']"
   ]
  },
  {
   "cell_type": "code",
   "execution_count": 19,
   "metadata": {},
   "outputs": [],
   "source": [
    "# Проведем масштабирование численных признаков\n",
    "features_r_lr = features_train_r.copy()\n",
    "features_f_lr = features_train_f.copy()\n",
    "num_r = features_r_lr.columns\n",
    "num_f = features_f_lr.columns\n",
    "\n",
    "scaler = StandardScaler ()\n",
    "\n",
    "scaler.fit (features_r_lr [num_r])\n",
    "features_r_lr [num_r] = scaler.transform (features_r_lr [num_r])\n",
    "scaler.fit (features_f_lr [num_f])\n",
    "features_f_lr [num_f] = scaler.transform (features_f_lr [num_f])"
   ]
  },
  {
   "cell_type": "code",
   "execution_count": 20,
   "metadata": {},
   "outputs": [
    {
     "name": "stdout",
     "output_type": "stream",
     "text": [
      "sMape: 9.873959111740742\n"
     ]
    }
   ],
   "source": [
    "# Инициализация модели Линейной регрессии\n",
    "model = LinearRegression()\n",
    "rougher_lr = cross_val_score(model, features_r_lr, target_train_r, scoring=smape_scorer, cv=5)\n",
    "final_lr =  cross_val_score(model, features_f_lr, target_train_f, scoring=smape_scorer, cv=5)\n",
    "print('sMape:', (smape_final(rougher_lr, final_lr).mean())*-1)"
   ]
  },
  {
   "cell_type": "code",
   "execution_count": 21,
   "metadata": {
    "scrolled": false
   },
   "outputs": [
    {
     "data": {
      "application/vnd.jupyter.widget-view+json": {
       "model_id": "c26079da28e342539a718afbfb2b5f3e",
       "version_major": 2,
       "version_minor": 0
      },
      "text/plain": [
       "Цикл завершен на:   0%|          | 0/9 [00:00<?, ?it/s]"
      ]
     },
     "metadata": {},
     "output_type": "display_data"
    },
    {
     "name": "stdout",
     "output_type": "stream",
     "text": [
      "Оптимальное значение max_depth: 3\n",
      "sMape: 8.827338627953981\n"
     ]
    }
   ],
   "source": [
    "# Инициализация модели Дерева Решений\n",
    "# Переменные\n",
    "best_depth = 0\n",
    "best_result = 100\n",
    "\n",
    "# Перебор гиперпараметра max_depth\n",
    "for depth in tqdm_notebook(range(1, 10),  desc ='Цикл завершен на'):\n",
    "    # Обучение модели\n",
    "    model = DecisionTreeRegressor(random_state=12345, max_depth = depth)\n",
    "    rougher_dtr = cross_val_score(model, features_train_r, target_train_r, scoring=smape_scorer, cv=5)\n",
    "    final_dtr = cross_val_score(model, features_train_f, target_train_f, scoring=smape_scorer, cv=5)\n",
    "    # Расчет по метрик\n",
    "    result = (smape_final(rougher_dtr, final_dtr).mean()*-1)\n",
    "    \n",
    "    # Фиксация оптимальных значений\n",
    "    if best_result > result:\n",
    "        best_depth = depth\n",
    "        best_result = result\n",
    "        \n",
    "print('Оптимальное значение max_depth:', best_depth)\n",
    "print('sMape:', best_result)"
   ]
  },
  {
   "cell_type": "code",
   "execution_count": 22,
   "metadata": {
    "scrolled": true
   },
   "outputs": [
    {
     "data": {
      "application/vnd.jupyter.widget-view+json": {
       "model_id": "6c49657a3c0b4400b24e5cc11c221050",
       "version_major": 2,
       "version_minor": 0
      },
      "text/plain": [
       "Цикл завершен на:   0%|          | 0/6 [00:00<?, ?it/s]"
      ]
     },
     "metadata": {},
     "output_type": "display_data"
    },
    {
     "name": "stdout",
     "output_type": "stream",
     "text": [
      "Оптимальные значения:\n",
      "max_depth = 5 \n",
      "n_estimators = 5\n",
      "sMape: 8.42080827449918\n"
     ]
    }
   ],
   "source": [
    "# Инициализация модели Случайного леса\n",
    "# Переменные\n",
    "best_est = 0\n",
    "best_depth = 0\n",
    "best_result = 100\n",
    "\n",
    "\n",
    "# Перебор гиперпараметров\n",
    "for est in tqdm_notebook(range(1, 7), desc ='Цикл завершен на'):\n",
    "    for depth in range(2, 6):\n",
    "        model = RandomForestRegressor(random_state=12345, n_estimators=est, max_depth = depth)\n",
    "        rougher_rfr = cross_val_score(model, features_train_r, target_train_r, scoring=smape_scorer, cv=5)\n",
    "        final_rfr = cross_val_score(model, features_train_f, target_train_f, scoring=smape_scorer, cv=5)\n",
    "        # Расчет метрик\n",
    "        result = (smape_final(rougher_rfr, final_rfr).mean()*-1)\n",
    "        # Фиксация оптимальных значений\n",
    "        if best_result > result:\n",
    "            best_est = est\n",
    "            best_depth = depth\n",
    "            best_result = result\n",
    "\n",
    "print('Оптимальные значения:' '\\nmax_depth =', best_depth, '\\nn_estimators =', best_est) \n",
    "print('sMape:', best_result)"
   ]
  },
  {
   "cell_type": "code",
   "execution_count": 23,
   "metadata": {},
   "outputs": [
    {
     "name": "stdout",
     "output_type": "stream",
     "text": [
      "{'max_depth': 1, 'min_samples_leaf': 1, 'min_samples_split': 2, 'n_estimators': 1} {'max_depth': 1, 'min_samples_leaf': 1, 'min_samples_split': 2, 'n_estimators': 2}\n"
     ]
    }
   ],
   "source": [
    "custom_score = make_scorer(s_mape,greater_is_better=False)\n",
    "\n",
    "model = RandomForestRegressor(random_state=12345)\n",
    "grid_space={ 'n_estimators': range (1,3),\n",
    "              'max_depth': range (1,2),\n",
    "              'min_samples_leaf': range (1,2),\n",
    "              'min_samples_split': range (2,3) }\n",
    "\n",
    "grid_rfr_r = GridSearchCV(model,param_grid=grid_space, scoring=custom_score, cv=3)\n",
    "grid_rfr_f = GridSearchCV(model,param_grid=grid_space, scoring=custom_score, cv=3)\n",
    "#rougher_rfr = cross_val_score(grid, features_train_r, target_train_r, scoring=custom_score)\n",
    "#final_rfr = cross_val_score(grid, features_train_f, target_train_f, scoring=custom_score)\n",
    "\n",
    "rougher_rfr_1 = grid_rfr_r.fit(features_train_r, target_train_r)\n",
    "final_rfr_1 = grid_rfr_f.fit( features_train_f, target_train_f)\n",
    "\n",
    "print(rougher_rfr_1.best_params_, final_rfr_1.best_params_)\n",
    "\n",
    "#{'max_depth': 1, 'min_samples_leaf': 1, 'min_samples_split': 2, 'n_estimators': 40} \n",
    "#{'max_depth': 1, 'min_samples_leaf': 1, 'min_samples_split': 2, 'n_estimators': 40}"
   ]
  },
  {
   "cell_type": "code",
   "execution_count": 24,
   "metadata": {},
   "outputs": [
    {
     "data": {
      "text/plain": [
       "9.130638450095528"
      ]
     },
     "metadata": {},
     "output_type": "display_data"
    },
    {
     "data": {
      "text/plain": [
       "10.258832481072387"
      ]
     },
     "metadata": {},
     "output_type": "display_data"
    }
   ],
   "source": [
    "display((rougher_rfr_1.best_score_)*-1)\n",
    "display((final_rfr_1.best_score_)*-1)"
   ]
  },
  {
   "cell_type": "code",
   "execution_count": 25,
   "metadata": {},
   "outputs": [
    {
     "name": "stdout",
     "output_type": "stream",
     "text": [
      "{'max_depth': 3} {'max_depth': 3}\n"
     ]
    },
    {
     "data": {
      "text/plain": [
       "8.017801136435414"
      ]
     },
     "metadata": {},
     "output_type": "display_data"
    },
    {
     "data": {
      "text/plain": [
       "11.1538480112754"
      ]
     },
     "metadata": {},
     "output_type": "display_data"
    }
   ],
   "source": [
    "grid_space_1 = { 'max_depth':[3,5,10,None] }\n",
    "model_1 = DecisionTreeRegressor(random_state=12345)\n",
    "\n",
    "grid_1_r = GridSearchCV(model_1,param_grid=grid_space_1, scoring=custom_score, cv=3)\n",
    "grid_1_f = GridSearchCV(model_1,param_grid=grid_space_1, scoring=custom_score, cv=3)\n",
    "\n",
    "rougher_dfr_1 = grid_1_r.fit(features_train_r, target_train_r)\n",
    "final_dfr_1 = grid_1_f.fit( features_train_f, target_train_f)\n",
    "\n",
    "print(rougher_dfr_1.best_params_, final_dfr_1.best_params_)\n",
    "\n",
    "display((rougher_dfr_1.best_score_)*-1)\n",
    "display((final_dfr_1.best_score_)*-1)"
   ]
  },
  {
   "cell_type": "markdown",
   "metadata": {},
   "source": [
    "* Лучшей моделью оказалась RandomForestRegressor c итоговым показателем sMape 8.42.\n",
    "* Худшей LinearRegression, при очень длинном ожидании мне удалось добиться показателя sMape 9.87.\n",
    "* DecisionTreeRegressor тоже показал неплохой результат 8.82.\n",
    "\n",
    "Остановимся на RandomForestRegressor."
   ]
  },
  {
   "cell_type": "code",
   "execution_count": 26,
   "metadata": {},
   "outputs": [
    {
     "name": "stdout",
     "output_type": "stream",
     "text": [
      "sMape: 9.549479552435276\n"
     ]
    }
   ],
   "source": [
    "# Проверим модель на тестовой выборке\n",
    "model_r = RandomForestRegressor(random_state=12345, n_estimators=5, max_depth =5)\n",
    "model_f = RandomForestRegressor(random_state=12345, n_estimators=5, max_depth =5)\n",
    "model_r.fit(features_train_r, target_train_r)\n",
    "model_f.fit(features_train_f, target_train_f)\n",
    "test_predictions_r = model_r.predict(features_test_r)\n",
    "test_predictions_f = model_f.predict(features_test_f)\n",
    "\n",
    "print('sMape:', smape_final(s_mape(target_test_r, test_predictions_r),\\\n",
    "                                                         s_mape(target_test_f, test_predictions_f)).mean())"
   ]
  },
  {
   "cell_type": "code",
   "execution_count": 27,
   "metadata": {},
   "outputs": [
    {
     "name": "stdout",
     "output_type": "stream",
     "text": [
      "sMape: 9.827613822597588\n"
     ]
    }
   ],
   "source": [
    "dummy_model_r = DummyRegressor(strategy=\"mean\")\n",
    "dummy_model_f = DummyRegressor(strategy=\"mean\")\n",
    "dummy_model_r.fit(features_train_r, target_train_r)\n",
    "dummy_model_f.fit(features_train_f, target_train_f)\n",
    "test_predictions_r = dummy_model_r.predict(features_test_r)\n",
    "test_predictions_f = dummy_model_f.predict(features_test_f)\n",
    "\n",
    "print('sMape:', smape_final(s_mape(target_test_r, test_predictions_r),\\\n",
    "                                                         s_mape(target_test_f, test_predictions_f)).mean())"
   ]
  },
  {
   "cell_type": "markdown",
   "metadata": {},
   "source": [
    "###  Вывод"
   ]
  },
  {
   "cell_type": "markdown",
   "metadata": {},
   "source": [
    "* В ходе исследования проведено обучение моделей на обучающей выборке с перебором параметров.\n",
    "* Оптимальной моделью с хорошим показателем SMape выбрана модель DecisionTreeRegressor.\n",
    "* Модель с оптимальными параметрами проверена на тестовой выборке, значение sMape корректно.\n",
    "* Произведена проверка на адекватность при помощи DummyRegressor, sMape тестовой выборки немного лучше, чем у константной модели."
   ]
  },
  {
   "cell_type": "markdown",
   "metadata": {},
   "source": [
    "## Вывод"
   ]
  },
  {
   "cell_type": "markdown",
   "metadata": {},
   "source": [
    "Предоставленные данные были выгружены, изучены и обработаны в соответствии с поставленными задачами и составленным планом.\n",
    "* Данные были выгружены и изучены. После чего произведена проверка корректности расчета эффективности обогащения, данные корректны. Далее произведен анализ признаков отсутствующих в тестовой выборке, недостающие признаки добавлены в датасет. После чего недостающие данные были синтезированы исходя из условий задачи. \n",
    "* В ходе дальнейшего изучения данных можно сделать несколько выводов:\n",
    "** Концентрация золота после каждого этапа очистки увеличивается.\n",
    "** Распределение значений размеров гранул для обучающей и тестовой выборок не имеют существенных различий.\n",
    "** Суммарная концентрация веществ на каждом этапе обработки растет.\n",
    "* Кроме того на этом этапе были обнаружены и исключены из датасета аномальные значения.\n",
    "* Следующим этапом на обучающей выборке были рассмотрены три модели с пербором параметров, из них выбрана лучшая, которая показала хорошие значения при проверке на тестовой выборке и прошла проверку на адекватность. Использовалась модель RandomForestRegressor.\n",
    "\n",
    "Прототип модели машинного обучения для «Цифры», который можно использовать для предсказания коэффициента восстановления золота из золотосодержащей руды сделан. Основная цель достигнута.\n"
   ]
  }
 ],
 "metadata": {
  "ExecuteTimeLog": [
   {
    "duration": 1567,
    "start_time": "2023-01-09T11:22:33.910Z"
   },
   {
    "duration": 2130,
    "start_time": "2023-01-09T11:25:42.155Z"
   },
   {
    "duration": 3507,
    "start_time": "2023-01-09T11:26:37.935Z"
   },
   {
    "duration": 683,
    "start_time": "2023-01-09T11:27:30.280Z"
   },
   {
    "duration": 138,
    "start_time": "2023-01-09T11:27:51.050Z"
   },
   {
    "duration": 248,
    "start_time": "2023-01-09T11:50:38.449Z"
   },
   {
    "duration": 204,
    "start_time": "2023-01-09T11:51:05.234Z"
   },
   {
    "duration": 34,
    "start_time": "2023-01-09T11:56:14.457Z"
   },
   {
    "duration": 93,
    "start_time": "2023-01-09T11:58:43.633Z"
   },
   {
    "duration": 10,
    "start_time": "2023-01-09T12:08:10.263Z"
   },
   {
    "duration": 75,
    "start_time": "2023-01-09T12:08:23.277Z"
   },
   {
    "duration": 25,
    "start_time": "2023-01-09T12:11:10.461Z"
   },
   {
    "duration": 21,
    "start_time": "2023-01-09T12:11:44.473Z"
   },
   {
    "duration": 31,
    "start_time": "2023-01-09T12:12:11.358Z"
   },
   {
    "duration": 32,
    "start_time": "2023-01-09T12:12:17.274Z"
   },
   {
    "duration": 72,
    "start_time": "2023-01-09T12:12:31.437Z"
   },
   {
    "duration": 22,
    "start_time": "2023-01-09T12:12:54.806Z"
   },
   {
    "duration": 28,
    "start_time": "2023-01-09T12:13:06.765Z"
   },
   {
    "duration": 21,
    "start_time": "2023-01-09T12:19:16.397Z"
   },
   {
    "duration": 27,
    "start_time": "2023-01-09T12:19:19.743Z"
   },
   {
    "duration": 107,
    "start_time": "2023-01-09T12:19:34.973Z"
   },
   {
    "duration": 21,
    "start_time": "2023-01-09T12:20:08.707Z"
   },
   {
    "duration": 18,
    "start_time": "2023-01-09T12:20:12.392Z"
   },
   {
    "duration": 21,
    "start_time": "2023-01-09T12:20:15.754Z"
   },
   {
    "duration": 24,
    "start_time": "2023-01-09T12:20:44.156Z"
   },
   {
    "duration": 22,
    "start_time": "2023-01-09T12:20:47.367Z"
   },
   {
    "duration": 96,
    "start_time": "2023-01-09T12:29:00.712Z"
   },
   {
    "duration": 100,
    "start_time": "2023-01-09T12:29:35.423Z"
   },
   {
    "duration": 23,
    "start_time": "2023-01-09T12:29:47.763Z"
   },
   {
    "duration": 6,
    "start_time": "2023-01-09T12:37:11.991Z"
   },
   {
    "duration": 87,
    "start_time": "2023-01-09T12:39:08.962Z"
   },
   {
    "duration": 6,
    "start_time": "2023-01-09T12:39:24.505Z"
   },
   {
    "duration": 15,
    "start_time": "2023-01-09T12:40:49.647Z"
   },
   {
    "duration": 13,
    "start_time": "2023-01-09T12:40:54.489Z"
   },
   {
    "duration": 8,
    "start_time": "2023-01-09T12:41:02.545Z"
   },
   {
    "duration": 8,
    "start_time": "2023-01-09T12:42:07.770Z"
   },
   {
    "duration": 11,
    "start_time": "2023-01-09T12:49:47.169Z"
   },
   {
    "duration": 4,
    "start_time": "2023-01-09T12:52:54.972Z"
   },
   {
    "duration": 725,
    "start_time": "2023-01-09T12:53:00.106Z"
   },
   {
    "duration": 125,
    "start_time": "2023-01-09T12:53:00.833Z"
   },
   {
    "duration": 7,
    "start_time": "2023-01-09T12:53:09.095Z"
   },
   {
    "duration": 1463,
    "start_time": "2023-01-09T12:53:25.338Z"
   },
   {
    "duration": 701,
    "start_time": "2023-01-09T12:53:26.803Z"
   },
   {
    "duration": 114,
    "start_time": "2023-01-09T12:53:27.506Z"
   },
   {
    "duration": 8,
    "start_time": "2023-01-09T12:53:27.621Z"
   },
   {
    "duration": 80,
    "start_time": "2023-01-09T12:53:27.631Z"
   },
   {
    "duration": 40,
    "start_time": "2023-01-09T12:53:27.713Z"
   },
   {
    "duration": 271,
    "start_time": "2023-01-09T12:53:27.755Z"
   },
   {
    "duration": 73,
    "start_time": "2023-01-09T12:56:34.426Z"
   },
   {
    "duration": 9,
    "start_time": "2023-01-09T12:56:45.531Z"
   },
   {
    "duration": 8,
    "start_time": "2023-01-09T12:57:37.227Z"
   },
   {
    "duration": 1647,
    "start_time": "2023-01-10T21:36:15.137Z"
   },
   {
    "duration": 3009,
    "start_time": "2023-01-10T21:36:16.787Z"
   },
   {
    "duration": 131,
    "start_time": "2023-01-10T21:36:19.798Z"
   },
   {
    "duration": 9,
    "start_time": "2023-01-10T21:36:19.932Z"
   },
   {
    "duration": 101,
    "start_time": "2023-01-10T21:36:19.947Z"
   },
   {
    "duration": 38,
    "start_time": "2023-01-10T21:36:20.050Z"
   },
   {
    "duration": 271,
    "start_time": "2023-01-10T21:36:20.090Z"
   },
   {
    "duration": 8,
    "start_time": "2023-01-10T21:45:31.245Z"
   },
   {
    "duration": 17,
    "start_time": "2023-01-10T21:45:42.703Z"
   },
   {
    "duration": 16,
    "start_time": "2023-01-10T21:46:34.185Z"
   },
   {
    "duration": 256,
    "start_time": "2023-01-10T21:47:01.361Z"
   },
   {
    "duration": 33,
    "start_time": "2023-01-10T21:49:09.359Z"
   },
   {
    "duration": 9,
    "start_time": "2023-01-10T21:50:37.826Z"
   },
   {
    "duration": 11,
    "start_time": "2023-01-10T21:51:01.463Z"
   },
   {
    "duration": 6,
    "start_time": "2023-01-10T21:51:31.564Z"
   },
   {
    "duration": 4,
    "start_time": "2023-01-10T21:51:59.791Z"
   },
   {
    "duration": 4,
    "start_time": "2023-01-10T21:52:18.797Z"
   },
   {
    "duration": 4,
    "start_time": "2023-01-10T21:55:46.633Z"
   },
   {
    "duration": 93,
    "start_time": "2023-01-10T21:56:37.307Z"
   },
   {
    "duration": 109,
    "start_time": "2023-01-10T21:56:47.027Z"
   },
   {
    "duration": 22,
    "start_time": "2023-01-10T21:56:52.236Z"
   },
   {
    "duration": 4,
    "start_time": "2023-01-10T21:56:53.080Z"
   },
   {
    "duration": 91,
    "start_time": "2023-01-10T21:56:58.327Z"
   },
   {
    "duration": 4,
    "start_time": "2023-01-10T21:57:44.084Z"
   },
   {
    "duration": 13,
    "start_time": "2023-01-10T21:58:23.960Z"
   },
   {
    "duration": 5,
    "start_time": "2023-01-10T21:59:01.436Z"
   },
   {
    "duration": 4,
    "start_time": "2023-01-10T21:59:15.847Z"
   },
   {
    "duration": 4,
    "start_time": "2023-01-10T21:59:38.424Z"
   },
   {
    "duration": 8,
    "start_time": "2023-01-10T22:02:34.976Z"
   },
   {
    "duration": 7,
    "start_time": "2023-01-10T22:02:41.516Z"
   },
   {
    "duration": 6,
    "start_time": "2023-01-10T22:03:59.584Z"
   },
   {
    "duration": 9,
    "start_time": "2023-01-10T22:05:10.812Z"
   },
   {
    "duration": 96,
    "start_time": "2023-01-10T22:07:37.968Z"
   },
   {
    "duration": 20,
    "start_time": "2023-01-10T22:08:59.027Z"
   },
   {
    "duration": 123,
    "start_time": "2023-01-10T22:09:03.958Z"
   },
   {
    "duration": 11,
    "start_time": "2023-01-10T22:09:29.112Z"
   },
   {
    "duration": 91,
    "start_time": "2023-01-10T22:09:32.989Z"
   },
   {
    "duration": 47,
    "start_time": "2023-01-10T22:09:58.321Z"
   },
   {
    "duration": 1335,
    "start_time": "2023-01-10T22:10:03.763Z"
   },
   {
    "duration": 760,
    "start_time": "2023-01-10T22:10:06.291Z"
   },
   {
    "duration": 99,
    "start_time": "2023-01-10T22:10:10.986Z"
   },
   {
    "duration": 14,
    "start_time": "2023-01-10T22:10:19.124Z"
   },
   {
    "duration": 125,
    "start_time": "2023-01-10T22:10:23.995Z"
   },
   {
    "duration": 7,
    "start_time": "2023-01-10T22:10:44.847Z"
   },
   {
    "duration": 4,
    "start_time": "2023-01-10T22:11:05.137Z"
   },
   {
    "duration": 2,
    "start_time": "2023-01-10T22:11:18.294Z"
   },
   {
    "duration": 4,
    "start_time": "2023-01-10T22:11:24.844Z"
   },
   {
    "duration": 4,
    "start_time": "2023-01-10T22:11:34.933Z"
   },
   {
    "duration": 4,
    "start_time": "2023-01-10T22:11:45.280Z"
   },
   {
    "duration": 57,
    "start_time": "2023-01-10T22:13:17.797Z"
   },
   {
    "duration": 23,
    "start_time": "2023-01-10T22:13:24.308Z"
   },
   {
    "duration": 34,
    "start_time": "2023-01-10T22:13:28.440Z"
   },
   {
    "duration": 20,
    "start_time": "2023-01-10T22:14:28.239Z"
   },
   {
    "duration": 21,
    "start_time": "2023-01-10T22:14:31.773Z"
   },
   {
    "duration": 15,
    "start_time": "2023-01-10T22:15:13.752Z"
   },
   {
    "duration": 20,
    "start_time": "2023-01-10T22:15:17.825Z"
   },
   {
    "duration": 22,
    "start_time": "2023-01-10T22:16:14.264Z"
   },
   {
    "duration": 21,
    "start_time": "2023-01-10T22:16:16.848Z"
   },
   {
    "duration": 7,
    "start_time": "2023-01-10T22:21:12.230Z"
   },
   {
    "duration": 31,
    "start_time": "2023-01-10T22:21:32.834Z"
   },
   {
    "duration": 21,
    "start_time": "2023-01-10T22:21:55.867Z"
   },
   {
    "duration": 19,
    "start_time": "2023-01-10T22:25:57.216Z"
   },
   {
    "duration": 20,
    "start_time": "2023-01-10T22:26:27.944Z"
   },
   {
    "duration": 38,
    "start_time": "2023-01-10T22:44:57.945Z"
   },
   {
    "duration": 15,
    "start_time": "2023-01-10T22:45:21.108Z"
   },
   {
    "duration": 14,
    "start_time": "2023-01-10T22:45:31.352Z"
   },
   {
    "duration": 9,
    "start_time": "2023-01-10T22:47:20.980Z"
   },
   {
    "duration": 137,
    "start_time": "2023-01-10T22:47:36.414Z"
   },
   {
    "duration": 7,
    "start_time": "2023-01-10T22:48:58.646Z"
   },
   {
    "duration": 107,
    "start_time": "2023-01-10T22:49:07.553Z"
   },
   {
    "duration": 27,
    "start_time": "2023-01-10T22:50:12.706Z"
   },
   {
    "duration": 19,
    "start_time": "2023-01-10T22:51:17.860Z"
   },
   {
    "duration": 96,
    "start_time": "2023-01-10T22:51:52.442Z"
   },
   {
    "duration": 1462,
    "start_time": "2023-01-10T23:05:13.303Z"
   },
   {
    "duration": 733,
    "start_time": "2023-01-10T23:05:14.767Z"
   },
   {
    "duration": 137,
    "start_time": "2023-01-10T23:05:15.502Z"
   },
   {
    "duration": 21,
    "start_time": "2023-01-10T23:05:15.642Z"
   },
   {
    "duration": 13,
    "start_time": "2023-01-10T23:05:15.665Z"
   },
   {
    "duration": 46,
    "start_time": "2023-01-10T23:05:15.680Z"
   },
   {
    "duration": 16,
    "start_time": "2023-01-10T23:05:15.728Z"
   },
   {
    "duration": 18,
    "start_time": "2023-01-10T23:05:15.746Z"
   },
   {
    "duration": 69,
    "start_time": "2023-01-10T23:05:15.768Z"
   },
   {
    "duration": 29,
    "start_time": "2023-01-10T23:05:15.840Z"
   },
   {
    "duration": 277,
    "start_time": "2023-01-10T23:05:15.872Z"
   },
   {
    "duration": 49,
    "start_time": "2023-01-10T23:07:03.026Z"
   },
   {
    "duration": 18,
    "start_time": "2023-01-10T23:07:22.472Z"
   },
   {
    "duration": 22,
    "start_time": "2023-01-10T23:08:22.386Z"
   },
   {
    "duration": 66,
    "start_time": "2023-01-10T23:19:26.299Z"
   },
   {
    "duration": 146,
    "start_time": "2023-01-10T23:19:41.744Z"
   },
   {
    "duration": 6,
    "start_time": "2023-01-10T23:20:33.987Z"
   },
   {
    "duration": 7,
    "start_time": "2023-01-10T23:20:39.279Z"
   },
   {
    "duration": 4,
    "start_time": "2023-01-10T23:21:03.207Z"
   },
   {
    "duration": 49,
    "start_time": "2023-01-11T08:44:13.043Z"
   },
   {
    "duration": 10,
    "start_time": "2023-01-11T08:58:52.176Z"
   },
   {
    "duration": 1948,
    "start_time": "2023-01-11T08:59:05.109Z"
   },
   {
    "duration": 2699,
    "start_time": "2023-01-11T08:59:07.060Z"
   },
   {
    "duration": 182,
    "start_time": "2023-01-11T08:59:09.761Z"
   },
   {
    "duration": 17,
    "start_time": "2023-01-11T08:59:09.954Z"
   },
   {
    "duration": 11,
    "start_time": "2023-01-11T08:59:11.385Z"
   },
   {
    "duration": 24,
    "start_time": "2023-01-11T08:59:12.722Z"
   },
   {
    "duration": 18,
    "start_time": "2023-01-11T08:59:13.719Z"
   },
   {
    "duration": 20,
    "start_time": "2023-01-11T08:59:14.123Z"
   },
   {
    "duration": 94,
    "start_time": "2023-01-11T08:59:15.136Z"
   },
   {
    "duration": 22,
    "start_time": "2023-01-11T08:59:16.259Z"
   },
   {
    "duration": 297,
    "start_time": "2023-01-11T08:59:17.695Z"
   },
   {
    "duration": 112,
    "start_time": "2023-01-11T08:59:20.595Z"
   },
   {
    "duration": 4259,
    "start_time": "2023-01-11T08:59:48.302Z"
   },
   {
    "duration": 4378,
    "start_time": "2023-01-11T09:00:09.582Z"
   },
   {
    "duration": 1686,
    "start_time": "2023-01-11T09:00:56.184Z"
   },
   {
    "duration": 4220,
    "start_time": "2023-01-11T09:01:23.948Z"
   },
   {
    "duration": 3879,
    "start_time": "2023-01-11T09:02:34.584Z"
   },
   {
    "duration": 3889,
    "start_time": "2023-01-11T09:03:26.172Z"
   },
   {
    "duration": 90,
    "start_time": "2023-01-11T09:07:57.878Z"
   },
   {
    "duration": 4174,
    "start_time": "2023-01-11T09:08:22.665Z"
   },
   {
    "duration": 4069,
    "start_time": "2023-01-11T09:09:27.176Z"
   },
   {
    "duration": 4001,
    "start_time": "2023-01-11T09:10:09.949Z"
   },
   {
    "duration": 3888,
    "start_time": "2023-01-11T09:10:34.481Z"
   },
   {
    "duration": 3771,
    "start_time": "2023-01-11T09:10:50.920Z"
   },
   {
    "duration": 3454,
    "start_time": "2023-01-11T09:11:09.174Z"
   },
   {
    "duration": 3707,
    "start_time": "2023-01-11T09:11:22.748Z"
   },
   {
    "duration": 3503,
    "start_time": "2023-01-11T09:11:53.219Z"
   },
   {
    "duration": 3478,
    "start_time": "2023-01-11T09:12:10.200Z"
   },
   {
    "duration": 3611,
    "start_time": "2023-01-11T09:12:21.561Z"
   },
   {
    "duration": 3311,
    "start_time": "2023-01-11T09:12:31.836Z"
   },
   {
    "duration": 388,
    "start_time": "2023-01-11T09:16:07.161Z"
   },
   {
    "duration": 3199,
    "start_time": "2023-01-11T09:16:13.748Z"
   },
   {
    "duration": 3261,
    "start_time": "2023-01-11T09:16:28.271Z"
   },
   {
    "duration": 3462,
    "start_time": "2023-01-11T09:17:21.473Z"
   },
   {
    "duration": 3518,
    "start_time": "2023-01-11T09:17:39.680Z"
   },
   {
    "duration": 3519,
    "start_time": "2023-01-11T09:19:44.316Z"
   },
   {
    "duration": 262,
    "start_time": "2023-01-11T09:21:38.602Z"
   },
   {
    "duration": 3932,
    "start_time": "2023-01-11T09:22:03.193Z"
   },
   {
    "duration": 4076,
    "start_time": "2023-01-11T09:22:48.974Z"
   },
   {
    "duration": 4059,
    "start_time": "2023-01-11T09:23:02.588Z"
   },
   {
    "duration": 204,
    "start_time": "2023-01-11T09:33:31.392Z"
   },
   {
    "duration": 206,
    "start_time": "2023-01-11T09:33:58.827Z"
   },
   {
    "duration": 2057,
    "start_time": "2023-01-11T09:34:25.754Z"
   },
   {
    "duration": 2005,
    "start_time": "2023-01-11T09:34:47.583Z"
   },
   {
    "duration": 2034,
    "start_time": "2023-01-11T09:35:02.245Z"
   },
   {
    "duration": 2036,
    "start_time": "2023-01-11T09:35:39.138Z"
   },
   {
    "duration": 3499,
    "start_time": "2023-01-11T09:35:53.123Z"
   },
   {
    "duration": 3418,
    "start_time": "2023-01-11T09:36:08.504Z"
   },
   {
    "duration": 775,
    "start_time": "2023-01-11T09:41:33.652Z"
   },
   {
    "duration": 79,
    "start_time": "2023-01-11T09:42:47.217Z"
   },
   {
    "duration": 467,
    "start_time": "2023-01-11T09:42:51.425Z"
   },
   {
    "duration": 71,
    "start_time": "2023-01-11T09:43:07.206Z"
   },
   {
    "duration": 460,
    "start_time": "2023-01-11T09:43:10.875Z"
   },
   {
    "duration": 442,
    "start_time": "2023-01-11T09:43:45.739Z"
   },
   {
    "duration": 457,
    "start_time": "2023-01-11T09:43:53.627Z"
   },
   {
    "duration": 446,
    "start_time": "2023-01-11T09:44:19.196Z"
   },
   {
    "duration": 422,
    "start_time": "2023-01-11T09:44:27.636Z"
   },
   {
    "duration": 542,
    "start_time": "2023-01-11T09:45:36.167Z"
   },
   {
    "duration": 1119,
    "start_time": "2023-01-11T09:46:40.075Z"
   },
   {
    "duration": 1108,
    "start_time": "2023-01-11T09:46:50.652Z"
   },
   {
    "duration": 1014,
    "start_time": "2023-01-11T09:47:14.736Z"
   },
   {
    "duration": 1019,
    "start_time": "2023-01-11T09:47:55.044Z"
   },
   {
    "duration": 809,
    "start_time": "2023-01-11T09:48:20.864Z"
   },
   {
    "duration": 987,
    "start_time": "2023-01-11T09:50:05.749Z"
   },
   {
    "duration": 1022,
    "start_time": "2023-01-11T09:50:18.016Z"
   },
   {
    "duration": 942,
    "start_time": "2023-01-11T09:51:17.119Z"
   },
   {
    "duration": 953,
    "start_time": "2023-01-11T09:51:36.774Z"
   },
   {
    "duration": 2763,
    "start_time": "2023-01-11T09:52:46.962Z"
   },
   {
    "duration": 0,
    "start_time": "2023-01-11T10:09:30.119Z"
   },
   {
    "duration": 1840,
    "start_time": "2023-01-11T10:09:30.245Z"
   },
   {
    "duration": 4295,
    "start_time": "2023-01-11T10:09:32.088Z"
   },
   {
    "duration": 121,
    "start_time": "2023-01-11T10:09:36.385Z"
   },
   {
    "duration": 22,
    "start_time": "2023-01-11T10:09:36.531Z"
   },
   {
    "duration": 12,
    "start_time": "2023-01-11T10:09:36.557Z"
   },
   {
    "duration": 22,
    "start_time": "2023-01-11T10:09:36.571Z"
   },
   {
    "duration": 11,
    "start_time": "2023-01-11T10:09:36.595Z"
   },
   {
    "duration": 30,
    "start_time": "2023-01-11T10:09:36.608Z"
   },
   {
    "duration": 78,
    "start_time": "2023-01-11T10:09:36.640Z"
   },
   {
    "duration": 36,
    "start_time": "2023-01-11T10:09:36.722Z"
   },
   {
    "duration": 293,
    "start_time": "2023-01-11T10:09:36.761Z"
   },
   {
    "duration": 3179,
    "start_time": "2023-01-11T10:09:37.058Z"
   },
   {
    "duration": 1007,
    "start_time": "2023-01-11T10:09:40.240Z"
   },
   {
    "duration": 958,
    "start_time": "2023-01-11T10:10:28.401Z"
   },
   {
    "duration": 1454,
    "start_time": "2023-01-11T10:13:37.555Z"
   },
   {
    "duration": 762,
    "start_time": "2023-01-11T10:13:39.011Z"
   },
   {
    "duration": 121,
    "start_time": "2023-01-11T10:13:39.775Z"
   },
   {
    "duration": 46,
    "start_time": "2023-01-11T10:13:39.899Z"
   },
   {
    "duration": 15,
    "start_time": "2023-01-11T10:13:39.948Z"
   },
   {
    "duration": 24,
    "start_time": "2023-01-11T10:13:39.965Z"
   },
   {
    "duration": 10,
    "start_time": "2023-01-11T10:13:39.990Z"
   },
   {
    "duration": 15,
    "start_time": "2023-01-11T10:13:40.001Z"
   },
   {
    "duration": 76,
    "start_time": "2023-01-11T10:13:40.017Z"
   },
   {
    "duration": 25,
    "start_time": "2023-01-11T10:13:40.096Z"
   },
   {
    "duration": 268,
    "start_time": "2023-01-11T10:13:40.124Z"
   },
   {
    "duration": 2978,
    "start_time": "2023-01-11T10:13:40.393Z"
   },
   {
    "duration": 1053,
    "start_time": "2023-01-11T10:13:43.373Z"
   },
   {
    "duration": 910,
    "start_time": "2023-01-11T10:25:54.596Z"
   },
   {
    "duration": 880,
    "start_time": "2023-01-11T10:36:52.854Z"
   },
   {
    "duration": 1048,
    "start_time": "2023-01-11T10:37:03.699Z"
   },
   {
    "duration": 1350,
    "start_time": "2023-01-11T10:37:14.598Z"
   },
   {
    "duration": 1055,
    "start_time": "2023-01-11T10:37:27.600Z"
   },
   {
    "duration": 928,
    "start_time": "2023-01-11T10:37:40.580Z"
   },
   {
    "duration": 959,
    "start_time": "2023-01-11T10:37:54.899Z"
   },
   {
    "duration": 903,
    "start_time": "2023-01-11T10:38:03.753Z"
   },
   {
    "duration": 957,
    "start_time": "2023-01-11T10:45:55.551Z"
   },
   {
    "duration": 130,
    "start_time": "2023-01-11T11:48:31.710Z"
   },
   {
    "duration": 7,
    "start_time": "2023-01-11T11:50:10.760Z"
   },
   {
    "duration": 763,
    "start_time": "2023-01-11T16:16:58.152Z"
   },
   {
    "duration": 756,
    "start_time": "2023-01-11T16:18:07.400Z"
   },
   {
    "duration": 617,
    "start_time": "2023-01-11T16:18:20.755Z"
   },
   {
    "duration": 622,
    "start_time": "2023-01-11T16:18:37.910Z"
   },
   {
    "duration": 598,
    "start_time": "2023-01-11T16:18:48.333Z"
   },
   {
    "duration": 595,
    "start_time": "2023-01-11T16:18:58.756Z"
   },
   {
    "duration": 897,
    "start_time": "2023-01-11T16:26:45.291Z"
   },
   {
    "duration": 903,
    "start_time": "2023-01-11T16:52:04.778Z"
   },
   {
    "duration": 921,
    "start_time": "2023-01-11T16:53:23.903Z"
   },
   {
    "duration": 896,
    "start_time": "2023-01-11T16:53:32.987Z"
   },
   {
    "duration": 859,
    "start_time": "2023-01-11T16:53:43.926Z"
   },
   {
    "duration": 892,
    "start_time": "2023-01-11T16:54:50.573Z"
   },
   {
    "duration": 878,
    "start_time": "2023-01-11T16:55:36.994Z"
   },
   {
    "duration": 17,
    "start_time": "2023-01-11T17:01:50.759Z"
   },
   {
    "duration": 922,
    "start_time": "2023-01-11T17:01:56.432Z"
   },
   {
    "duration": 13,
    "start_time": "2023-01-11T17:03:32.268Z"
   },
   {
    "duration": 976,
    "start_time": "2023-01-11T17:03:34.098Z"
   },
   {
    "duration": 873,
    "start_time": "2023-01-11T17:03:47.310Z"
   },
   {
    "duration": 693,
    "start_time": "2023-01-11T17:04:57.747Z"
   },
   {
    "duration": 17,
    "start_time": "2023-01-11T17:05:43.329Z"
   },
   {
    "duration": 889,
    "start_time": "2023-01-11T17:05:46.495Z"
   },
   {
    "duration": 754,
    "start_time": "2023-01-11T17:07:35.690Z"
   },
   {
    "duration": 9,
    "start_time": "2023-01-11T17:09:09.867Z"
   },
   {
    "duration": 890,
    "start_time": "2023-01-11T17:09:11.891Z"
   },
   {
    "duration": 22,
    "start_time": "2023-01-11T17:10:24.040Z"
   },
   {
    "duration": 838,
    "start_time": "2023-01-11T17:10:26.231Z"
   },
   {
    "duration": 7,
    "start_time": "2023-01-11T17:10:39.769Z"
   },
   {
    "duration": 844,
    "start_time": "2023-01-11T17:10:42.142Z"
   },
   {
    "duration": 16,
    "start_time": "2023-01-11T17:11:13.438Z"
   },
   {
    "duration": 8,
    "start_time": "2023-01-11T17:11:18.994Z"
   },
   {
    "duration": 848,
    "start_time": "2023-01-11T17:11:20.250Z"
   },
   {
    "duration": 17,
    "start_time": "2023-01-11T17:12:31.207Z"
   },
   {
    "duration": 7,
    "start_time": "2023-01-11T17:12:33.790Z"
   },
   {
    "duration": 879,
    "start_time": "2023-01-11T17:12:35.186Z"
   },
   {
    "duration": 14,
    "start_time": "2023-01-11T17:13:35.886Z"
   },
   {
    "duration": 7,
    "start_time": "2023-01-11T17:13:39.328Z"
   },
   {
    "duration": 827,
    "start_time": "2023-01-11T17:13:40.445Z"
   },
   {
    "duration": 2019,
    "start_time": "2023-01-11T17:13:50.115Z"
   },
   {
    "duration": 18,
    "start_time": "2023-01-11T17:14:27.610Z"
   },
   {
    "duration": 1448,
    "start_time": "2023-01-11T17:14:37.333Z"
   },
   {
    "duration": 727,
    "start_time": "2023-01-11T17:14:38.782Z"
   },
   {
    "duration": 121,
    "start_time": "2023-01-11T17:14:39.510Z"
   },
   {
    "duration": 13,
    "start_time": "2023-01-11T17:14:39.636Z"
   },
   {
    "duration": 20,
    "start_time": "2023-01-11T17:14:39.651Z"
   },
   {
    "duration": 32,
    "start_time": "2023-01-11T17:14:39.673Z"
   },
   {
    "duration": 11,
    "start_time": "2023-01-11T17:14:39.707Z"
   },
   {
    "duration": 29,
    "start_time": "2023-01-11T17:14:39.719Z"
   },
   {
    "duration": 57,
    "start_time": "2023-01-11T17:14:39.749Z"
   },
   {
    "duration": 27,
    "start_time": "2023-01-11T17:14:39.808Z"
   },
   {
    "duration": 247,
    "start_time": "2023-01-11T17:14:39.837Z"
   },
   {
    "duration": 2754,
    "start_time": "2023-01-11T17:14:40.086Z"
   },
   {
    "duration": 856,
    "start_time": "2023-01-11T17:14:42.842Z"
   },
   {
    "duration": 7,
    "start_time": "2023-01-11T17:14:43.700Z"
   },
   {
    "duration": 888,
    "start_time": "2023-01-11T17:14:43.709Z"
   },
   {
    "duration": 38,
    "start_time": "2023-01-11T17:14:44.599Z"
   },
   {
    "duration": 7,
    "start_time": "2023-01-11T17:15:00.465Z"
   },
   {
    "duration": 963,
    "start_time": "2023-01-11T17:15:01.089Z"
   },
   {
    "duration": 2530,
    "start_time": "2023-01-11T17:15:13.052Z"
   },
   {
    "duration": 1357,
    "start_time": "2023-01-11T17:46:41.090Z"
   },
   {
    "duration": 1329,
    "start_time": "2023-01-11T17:49:00.761Z"
   },
   {
    "duration": 716,
    "start_time": "2023-01-11T17:49:02.092Z"
   },
   {
    "duration": 125,
    "start_time": "2023-01-11T17:49:02.810Z"
   },
   {
    "duration": 12,
    "start_time": "2023-01-11T17:49:02.937Z"
   },
   {
    "duration": 19,
    "start_time": "2023-01-11T17:49:02.951Z"
   },
   {
    "duration": 20,
    "start_time": "2023-01-11T17:49:02.972Z"
   },
   {
    "duration": 10,
    "start_time": "2023-01-11T17:49:02.993Z"
   },
   {
    "duration": 29,
    "start_time": "2023-01-11T17:49:03.005Z"
   },
   {
    "duration": 72,
    "start_time": "2023-01-11T17:49:03.035Z"
   },
   {
    "duration": 22,
    "start_time": "2023-01-11T17:49:03.110Z"
   },
   {
    "duration": 243,
    "start_time": "2023-01-11T17:49:03.134Z"
   },
   {
    "duration": 2693,
    "start_time": "2023-01-11T17:49:03.379Z"
   },
   {
    "duration": 904,
    "start_time": "2023-01-11T17:49:06.073Z"
   },
   {
    "duration": 7,
    "start_time": "2023-01-11T17:49:06.979Z"
   },
   {
    "duration": 894,
    "start_time": "2023-01-11T17:49:06.988Z"
   },
   {
    "duration": 20,
    "start_time": "2023-01-11T17:49:07.884Z"
   },
   {
    "duration": 11,
    "start_time": "2023-01-11T17:49:07.905Z"
   },
   {
    "duration": 18,
    "start_time": "2023-01-11T18:05:40.394Z"
   },
   {
    "duration": 1270,
    "start_time": "2023-01-11T18:05:51.074Z"
   },
   {
    "duration": 676,
    "start_time": "2023-01-11T18:05:52.346Z"
   },
   {
    "duration": 102,
    "start_time": "2023-01-11T18:05:53.024Z"
   },
   {
    "duration": 13,
    "start_time": "2023-01-11T18:05:53.128Z"
   },
   {
    "duration": 19,
    "start_time": "2023-01-11T18:05:53.143Z"
   },
   {
    "duration": 13,
    "start_time": "2023-01-11T18:05:53.164Z"
   },
   {
    "duration": 10,
    "start_time": "2023-01-11T18:05:53.178Z"
   },
   {
    "duration": 32,
    "start_time": "2023-01-11T18:05:53.189Z"
   },
   {
    "duration": 51,
    "start_time": "2023-01-11T18:05:53.222Z"
   },
   {
    "duration": 22,
    "start_time": "2023-01-11T18:05:53.275Z"
   },
   {
    "duration": 254,
    "start_time": "2023-01-11T18:05:53.298Z"
   },
   {
    "duration": 2575,
    "start_time": "2023-01-11T18:05:53.553Z"
   },
   {
    "duration": 833,
    "start_time": "2023-01-11T18:05:56.129Z"
   },
   {
    "duration": 7,
    "start_time": "2023-01-11T18:05:56.964Z"
   },
   {
    "duration": 906,
    "start_time": "2023-01-11T18:05:56.972Z"
   },
   {
    "duration": 19,
    "start_time": "2023-01-11T18:05:57.879Z"
   },
   {
    "duration": 3,
    "start_time": "2023-01-11T18:05:57.900Z"
   },
   {
    "duration": 21,
    "start_time": "2023-01-11T18:06:02.012Z"
   },
   {
    "duration": 14,
    "start_time": "2023-01-11T18:14:31.416Z"
   },
   {
    "duration": 15,
    "start_time": "2023-01-11T18:16:36.642Z"
   },
   {
    "duration": 10,
    "start_time": "2023-01-11T18:17:19.564Z"
   },
   {
    "duration": 130,
    "start_time": "2023-01-11T18:27:19.011Z"
   },
   {
    "duration": 11,
    "start_time": "2023-01-11T18:27:56.403Z"
   },
   {
    "duration": 3088,
    "start_time": "2023-01-11T18:28:20.545Z"
   },
   {
    "duration": 3,
    "start_time": "2023-01-11T18:28:44.556Z"
   },
   {
    "duration": 13,
    "start_time": "2023-01-11T18:28:46.621Z"
   },
   {
    "duration": 2991,
    "start_time": "2023-01-11T18:28:49.034Z"
   },
   {
    "duration": 3251,
    "start_time": "2023-01-11T18:29:15.472Z"
   },
   {
    "duration": 4173,
    "start_time": "2023-01-11T18:31:47.955Z"
   },
   {
    "duration": 19104,
    "start_time": "2023-01-11T18:42:01.852Z"
   },
   {
    "duration": 19365,
    "start_time": "2023-01-11T18:42:34.862Z"
   },
   {
    "duration": 6,
    "start_time": "2023-01-11T18:48:45.990Z"
   },
   {
    "duration": 10,
    "start_time": "2023-01-11T18:48:59.243Z"
   },
   {
    "duration": 8,
    "start_time": "2023-01-11T18:49:26.149Z"
   },
   {
    "duration": 35,
    "start_time": "2023-01-11T18:49:31.358Z"
   },
   {
    "duration": 33,
    "start_time": "2023-01-11T18:49:55.791Z"
   },
   {
    "duration": 150084,
    "start_time": "2023-01-11T18:50:06.174Z"
   },
   {
    "duration": 24882,
    "start_time": "2023-01-11T18:53:10.601Z"
   },
   {
    "duration": 19222,
    "start_time": "2023-01-11T18:55:48.128Z"
   },
   {
    "duration": 26221,
    "start_time": "2023-01-11T18:56:17.540Z"
   },
   {
    "duration": 24622,
    "start_time": "2023-01-11T18:57:11.137Z"
   },
   {
    "duration": 24566,
    "start_time": "2023-01-11T18:58:05.675Z"
   },
   {
    "duration": 24698,
    "start_time": "2023-01-11T18:58:41.674Z"
   },
   {
    "duration": 2671,
    "start_time": "2023-01-11T18:59:34.355Z"
   },
   {
    "duration": 24946,
    "start_time": "2023-01-11T18:59:55.456Z"
   },
   {
    "duration": 24764,
    "start_time": "2023-01-11T19:03:27.992Z"
   },
   {
    "duration": 3270,
    "start_time": "2023-01-11T19:06:17.252Z"
   },
   {
    "duration": 35,
    "start_time": "2023-01-11T19:12:42.802Z"
   },
   {
    "duration": 66600,
    "start_time": "2023-01-11T19:12:56.399Z"
   },
   {
    "duration": 21606,
    "start_time": "2023-01-11T19:14:22.904Z"
   },
   {
    "duration": 11645,
    "start_time": "2023-01-11T19:15:00.002Z"
   },
   {
    "duration": 1412,
    "start_time": "2023-01-11T19:16:00.588Z"
   },
   {
    "duration": 1367,
    "start_time": "2023-01-11T19:16:20.329Z"
   },
   {
    "duration": 37406,
    "start_time": "2023-01-11T19:16:31.675Z"
   },
   {
    "duration": 199777,
    "start_time": "2023-01-11T19:18:01.480Z"
   },
   {
    "duration": 24610,
    "start_time": "2023-01-11T19:21:36.072Z"
   },
   {
    "duration": 23,
    "start_time": "2023-01-11T19:22:23.316Z"
   },
   {
    "duration": 18381,
    "start_time": "2023-01-11T19:23:20.610Z"
   },
   {
    "duration": 3706,
    "start_time": "2023-01-11T19:25:50.774Z"
   },
   {
    "duration": 3806,
    "start_time": "2023-01-11T19:26:17.855Z"
   },
   {
    "duration": 37305,
    "start_time": "2023-01-11T19:26:30.575Z"
   },
   {
    "duration": 402728,
    "start_time": "2023-01-11T19:28:04.739Z"
   },
   {
    "duration": 469,
    "start_time": "2023-01-11T19:42:31.908Z"
   },
   {
    "duration": 1169,
    "start_time": "2023-01-11T19:43:00.200Z"
   },
   {
    "duration": 1175,
    "start_time": "2023-01-11T19:49:21.687Z"
   },
   {
    "duration": 1190,
    "start_time": "2023-01-11T19:49:44.496Z"
   },
   {
    "duration": 45,
    "start_time": "2023-01-11T19:53:08.132Z"
   },
   {
    "duration": 1137,
    "start_time": "2023-01-11T19:53:36.189Z"
   },
   {
    "duration": 4,
    "start_time": "2023-01-11T19:58:13.418Z"
   },
   {
    "duration": 1141,
    "start_time": "2023-01-11T19:58:22.650Z"
   },
   {
    "duration": 1155,
    "start_time": "2023-01-11T19:58:44.753Z"
   },
   {
    "duration": 1256,
    "start_time": "2023-01-11T20:03:30.869Z"
   },
   {
    "duration": 669,
    "start_time": "2023-01-11T20:03:32.127Z"
   },
   {
    "duration": 125,
    "start_time": "2023-01-11T20:03:32.797Z"
   },
   {
    "duration": 12,
    "start_time": "2023-01-11T20:03:32.924Z"
   },
   {
    "duration": 10,
    "start_time": "2023-01-11T20:03:32.937Z"
   },
   {
    "duration": 13,
    "start_time": "2023-01-11T20:03:32.949Z"
   },
   {
    "duration": 10,
    "start_time": "2023-01-11T20:03:32.963Z"
   },
   {
    "duration": 19,
    "start_time": "2023-01-11T20:03:32.974Z"
   },
   {
    "duration": 73,
    "start_time": "2023-01-11T20:03:32.995Z"
   },
   {
    "duration": 22,
    "start_time": "2023-01-11T20:03:33.070Z"
   },
   {
    "duration": 238,
    "start_time": "2023-01-11T20:03:33.093Z"
   },
   {
    "duration": 2536,
    "start_time": "2023-01-11T20:03:33.332Z"
   },
   {
    "duration": 898,
    "start_time": "2023-01-11T20:03:35.870Z"
   },
   {
    "duration": 6,
    "start_time": "2023-01-11T20:03:36.770Z"
   },
   {
    "duration": 884,
    "start_time": "2023-01-11T20:03:36.777Z"
   },
   {
    "duration": 19,
    "start_time": "2023-01-11T20:03:37.663Z"
   },
   {
    "duration": 3,
    "start_time": "2023-01-11T20:03:37.684Z"
   },
   {
    "duration": 17,
    "start_time": "2023-01-11T20:03:37.689Z"
   },
   {
    "duration": 2415,
    "start_time": "2023-01-11T20:03:37.707Z"
   },
   {
    "duration": 24754,
    "start_time": "2023-01-11T20:03:40.124Z"
   },
   {
    "duration": 37381,
    "start_time": "2023-01-11T20:04:04.880Z"
   },
   {
    "duration": 4,
    "start_time": "2023-01-11T20:04:42.262Z"
   },
   {
    "duration": 1248,
    "start_time": "2023-01-11T20:04:42.267Z"
   },
   {
    "duration": 1155,
    "start_time": "2023-01-11T20:05:01.398Z"
   },
   {
    "duration": 1153,
    "start_time": "2023-01-11T20:06:03.518Z"
   },
   {
    "duration": 4,
    "start_time": "2023-01-11T20:08:18.279Z"
   },
   {
    "duration": 1204,
    "start_time": "2023-01-11T20:08:24.209Z"
   },
   {
    "duration": 5,
    "start_time": "2023-01-11T20:11:35.997Z"
   },
   {
    "duration": 11,
    "start_time": "2023-01-11T20:11:45.211Z"
   },
   {
    "duration": 2010,
    "start_time": "2023-01-11T20:11:47.612Z"
   },
   {
    "duration": 3,
    "start_time": "2023-01-11T20:11:58.086Z"
   },
   {
    "duration": 726,
    "start_time": "2023-01-11T20:11:59.834Z"
   },
   {
    "duration": 4,
    "start_time": "2023-01-11T20:13:17.867Z"
   },
   {
    "duration": 1355,
    "start_time": "2023-01-11T20:13:24.287Z"
   },
   {
    "duration": 712,
    "start_time": "2023-01-11T20:13:25.645Z"
   },
   {
    "duration": 97,
    "start_time": "2023-01-11T20:13:26.359Z"
   },
   {
    "duration": 12,
    "start_time": "2023-01-11T20:13:26.458Z"
   },
   {
    "duration": 11,
    "start_time": "2023-01-11T20:13:26.471Z"
   },
   {
    "duration": 38,
    "start_time": "2023-01-11T20:13:26.484Z"
   },
   {
    "duration": 10,
    "start_time": "2023-01-11T20:13:26.523Z"
   },
   {
    "duration": 13,
    "start_time": "2023-01-11T20:13:26.534Z"
   },
   {
    "duration": 7,
    "start_time": "2023-01-11T20:13:26.548Z"
   },
   {
    "duration": 73,
    "start_time": "2023-01-11T20:13:26.557Z"
   },
   {
    "duration": 19,
    "start_time": "2023-01-11T20:13:26.631Z"
   },
   {
    "duration": 239,
    "start_time": "2023-01-11T20:13:26.652Z"
   },
   {
    "duration": 1069,
    "start_time": "2023-01-11T20:13:26.893Z"
   },
   {
    "duration": 0,
    "start_time": "2023-01-11T20:13:27.964Z"
   },
   {
    "duration": 0,
    "start_time": "2023-01-11T20:13:27.965Z"
   },
   {
    "duration": 0,
    "start_time": "2023-01-11T20:13:27.966Z"
   },
   {
    "duration": 0,
    "start_time": "2023-01-11T20:13:27.967Z"
   },
   {
    "duration": 0,
    "start_time": "2023-01-11T20:13:27.968Z"
   },
   {
    "duration": 0,
    "start_time": "2023-01-11T20:13:27.969Z"
   },
   {
    "duration": 0,
    "start_time": "2023-01-11T20:13:27.970Z"
   },
   {
    "duration": 0,
    "start_time": "2023-01-11T20:13:27.971Z"
   },
   {
    "duration": 0,
    "start_time": "2023-01-11T20:13:27.972Z"
   },
   {
    "duration": 0,
    "start_time": "2023-01-11T20:13:27.973Z"
   },
   {
    "duration": 0,
    "start_time": "2023-01-11T20:13:27.974Z"
   },
   {
    "duration": 4,
    "start_time": "2023-01-11T20:14:32.953Z"
   },
   {
    "duration": 14,
    "start_time": "2023-01-11T20:14:36.051Z"
   },
   {
    "duration": 11,
    "start_time": "2023-01-11T20:14:44.479Z"
   },
   {
    "duration": 4,
    "start_time": "2023-01-11T20:14:55.597Z"
   },
   {
    "duration": 6,
    "start_time": "2023-01-11T20:15:49.756Z"
   },
   {
    "duration": 15,
    "start_time": "2023-01-11T20:15:50.225Z"
   },
   {
    "duration": 2244,
    "start_time": "2023-01-11T20:15:52.078Z"
   },
   {
    "duration": 1791,
    "start_time": "2023-01-11T20:15:59.231Z"
   },
   {
    "duration": 17149,
    "start_time": "2023-01-11T20:16:03.295Z"
   },
   {
    "duration": 1354,
    "start_time": "2023-01-11T20:16:50.505Z"
   },
   {
    "duration": 670,
    "start_time": "2023-01-11T20:16:51.864Z"
   },
   {
    "duration": 113,
    "start_time": "2023-01-11T20:16:52.536Z"
   },
   {
    "duration": 11,
    "start_time": "2023-01-11T20:16:52.652Z"
   },
   {
    "duration": 25,
    "start_time": "2023-01-11T20:16:52.665Z"
   },
   {
    "duration": 15,
    "start_time": "2023-01-11T20:16:52.691Z"
   },
   {
    "duration": 15,
    "start_time": "2023-01-11T20:16:52.707Z"
   },
   {
    "duration": 13,
    "start_time": "2023-01-11T20:16:52.724Z"
   },
   {
    "duration": 53,
    "start_time": "2023-01-11T20:16:52.739Z"
   },
   {
    "duration": 42,
    "start_time": "2023-01-11T20:16:52.796Z"
   },
   {
    "duration": 244,
    "start_time": "2023-01-11T20:16:52.840Z"
   },
   {
    "duration": 2622,
    "start_time": "2023-01-11T20:16:53.085Z"
   },
   {
    "duration": 851,
    "start_time": "2023-01-11T20:16:55.708Z"
   },
   {
    "duration": 6,
    "start_time": "2023-01-11T20:16:56.561Z"
   },
   {
    "duration": 896,
    "start_time": "2023-01-11T20:16:56.569Z"
   },
   {
    "duration": 18,
    "start_time": "2023-01-11T20:16:57.467Z"
   },
   {
    "duration": 5,
    "start_time": "2023-01-11T20:16:57.486Z"
   },
   {
    "duration": 11,
    "start_time": "2023-01-11T20:16:57.492Z"
   },
   {
    "duration": 24,
    "start_time": "2023-01-11T20:16:57.505Z"
   },
   {
    "duration": 1998,
    "start_time": "2023-01-11T20:16:57.531Z"
   },
   {
    "duration": 15716,
    "start_time": "2023-01-11T20:16:59.532Z"
   },
   {
    "duration": 23546,
    "start_time": "2023-01-11T20:17:15.249Z"
   },
   {
    "duration": 4,
    "start_time": "2023-01-11T20:17:38.797Z"
   },
   {
    "duration": 792,
    "start_time": "2023-01-11T20:17:38.803Z"
   },
   {
    "duration": 4,
    "start_time": "2023-01-11T20:20:09.517Z"
   },
   {
    "duration": 742,
    "start_time": "2023-01-11T20:20:10.061Z"
   },
   {
    "duration": 860,
    "start_time": "2023-01-11T20:20:39.973Z"
   },
   {
    "duration": 49,
    "start_time": "2023-01-11T20:21:44.022Z"
   },
   {
    "duration": 712,
    "start_time": "2023-01-11T20:21:56.786Z"
   },
   {
    "duration": 725,
    "start_time": "2023-01-11T20:22:13.702Z"
   },
   {
    "duration": 202,
    "start_time": "2023-01-11T20:22:46.374Z"
   },
   {
    "duration": 202,
    "start_time": "2023-01-11T20:28:58.749Z"
   },
   {
    "duration": 198,
    "start_time": "2023-01-11T20:30:22.960Z"
   },
   {
    "duration": 10,
    "start_time": "2023-01-11T20:30:42.796Z"
   },
   {
    "duration": 12,
    "start_time": "2023-01-11T20:31:19.001Z"
   },
   {
    "duration": 206,
    "start_time": "2023-01-11T20:31:20.872Z"
   },
   {
    "duration": 1302,
    "start_time": "2023-01-11T20:51:41.553Z"
   },
   {
    "duration": 685,
    "start_time": "2023-01-11T20:51:42.857Z"
   },
   {
    "duration": 108,
    "start_time": "2023-01-11T20:51:43.544Z"
   },
   {
    "duration": 11,
    "start_time": "2023-01-11T20:51:43.654Z"
   },
   {
    "duration": 12,
    "start_time": "2023-01-11T20:51:43.667Z"
   },
   {
    "duration": 23,
    "start_time": "2023-01-11T20:51:43.680Z"
   },
   {
    "duration": 24,
    "start_time": "2023-01-11T20:51:43.705Z"
   },
   {
    "duration": 14,
    "start_time": "2023-01-11T20:51:43.730Z"
   },
   {
    "duration": 57,
    "start_time": "2023-01-11T20:51:43.746Z"
   },
   {
    "duration": 38,
    "start_time": "2023-01-11T20:51:43.805Z"
   },
   {
    "duration": 244,
    "start_time": "2023-01-11T20:51:43.844Z"
   },
   {
    "duration": 2522,
    "start_time": "2023-01-11T20:51:44.090Z"
   },
   {
    "duration": 845,
    "start_time": "2023-01-11T20:51:46.613Z"
   },
   {
    "duration": 6,
    "start_time": "2023-01-11T20:51:47.459Z"
   },
   {
    "duration": 916,
    "start_time": "2023-01-11T20:51:47.467Z"
   },
   {
    "duration": 19,
    "start_time": "2023-01-11T20:51:48.385Z"
   },
   {
    "duration": 10,
    "start_time": "2023-01-11T20:51:48.406Z"
   },
   {
    "duration": 18,
    "start_time": "2023-01-11T20:51:48.421Z"
   },
   {
    "duration": 14,
    "start_time": "2023-01-11T20:51:48.441Z"
   },
   {
    "duration": 2365,
    "start_time": "2023-01-11T20:51:48.457Z"
   },
   {
    "duration": 15499,
    "start_time": "2023-01-11T20:51:50.824Z"
   },
   {
    "duration": 23461,
    "start_time": "2023-01-11T20:52:06.325Z"
   },
   {
    "duration": 205,
    "start_time": "2023-01-11T20:52:29.788Z"
   },
   {
    "duration": 9,
    "start_time": "2023-01-11T20:52:29.994Z"
   },
   {
    "duration": 23425,
    "start_time": "2023-01-11T20:53:52.590Z"
   },
   {
    "duration": 1806,
    "start_time": "2023-01-12T11:35:24.602Z"
   },
   {
    "duration": 3198,
    "start_time": "2023-01-12T11:35:26.410Z"
   },
   {
    "duration": 102,
    "start_time": "2023-01-12T11:35:29.610Z"
   },
   {
    "duration": 12,
    "start_time": "2023-01-12T11:35:29.713Z"
   },
   {
    "duration": 13,
    "start_time": "2023-01-12T11:35:29.727Z"
   },
   {
    "duration": 16,
    "start_time": "2023-01-12T11:35:29.741Z"
   },
   {
    "duration": 10,
    "start_time": "2023-01-12T11:35:29.758Z"
   },
   {
    "duration": 34,
    "start_time": "2023-01-12T11:35:29.770Z"
   },
   {
    "duration": 64,
    "start_time": "2023-01-12T11:35:29.805Z"
   },
   {
    "duration": 35,
    "start_time": "2023-01-12T11:35:29.871Z"
   },
   {
    "duration": 259,
    "start_time": "2023-01-12T11:35:29.908Z"
   },
   {
    "duration": 2841,
    "start_time": "2023-01-12T11:35:30.169Z"
   },
   {
    "duration": 994,
    "start_time": "2023-01-12T11:35:33.012Z"
   },
   {
    "duration": 7,
    "start_time": "2023-01-12T11:35:34.009Z"
   },
   {
    "duration": 941,
    "start_time": "2023-01-12T11:35:34.018Z"
   },
   {
    "duration": 29,
    "start_time": "2023-01-12T11:35:34.960Z"
   },
   {
    "duration": 17,
    "start_time": "2023-01-12T11:35:34.996Z"
   },
   {
    "duration": 15,
    "start_time": "2023-01-12T11:35:35.015Z"
   },
   {
    "duration": 21,
    "start_time": "2023-01-12T11:35:35.032Z"
   },
   {
    "duration": 1749,
    "start_time": "2023-01-12T11:35:35.055Z"
   },
   {
    "duration": 15937,
    "start_time": "2023-01-12T11:35:36.805Z"
   },
   {
    "duration": 24293,
    "start_time": "2023-01-12T11:35:52.743Z"
   },
   {
    "duration": 226,
    "start_time": "2023-01-12T11:36:17.038Z"
   },
   {
    "duration": 8,
    "start_time": "2023-01-12T11:36:17.266Z"
   },
   {
    "duration": 1758,
    "start_time": "2023-01-12T11:39:13.634Z"
   },
   {
    "duration": 718,
    "start_time": "2023-01-12T11:39:15.394Z"
   },
   {
    "duration": 153,
    "start_time": "2023-01-12T11:39:16.114Z"
   },
   {
    "duration": 40,
    "start_time": "2023-01-12T11:39:16.269Z"
   },
   {
    "duration": 22,
    "start_time": "2023-01-12T11:39:16.311Z"
   },
   {
    "duration": 23,
    "start_time": "2023-01-12T11:39:16.335Z"
   },
   {
    "duration": 11,
    "start_time": "2023-01-12T11:39:16.359Z"
   },
   {
    "duration": 26,
    "start_time": "2023-01-12T11:39:16.371Z"
   },
   {
    "duration": 56,
    "start_time": "2023-01-12T11:39:16.399Z"
   },
   {
    "duration": 23,
    "start_time": "2023-01-12T11:39:16.457Z"
   },
   {
    "duration": 255,
    "start_time": "2023-01-12T11:39:16.496Z"
   },
   {
    "duration": 2913,
    "start_time": "2023-01-12T11:39:16.753Z"
   },
   {
    "duration": 1023,
    "start_time": "2023-01-12T11:39:19.668Z"
   },
   {
    "duration": 7,
    "start_time": "2023-01-12T11:39:20.696Z"
   },
   {
    "duration": 1053,
    "start_time": "2023-01-12T11:39:20.704Z"
   },
   {
    "duration": 21,
    "start_time": "2023-01-12T11:39:21.759Z"
   },
   {
    "duration": 15,
    "start_time": "2023-01-12T11:39:21.782Z"
   },
   {
    "duration": 9,
    "start_time": "2023-01-12T11:39:21.799Z"
   },
   {
    "duration": 13,
    "start_time": "2023-01-12T11:39:21.810Z"
   },
   {
    "duration": 2375,
    "start_time": "2023-01-12T11:39:21.825Z"
   },
   {
    "duration": 16521,
    "start_time": "2023-01-12T11:39:24.202Z"
   },
   {
    "duration": 25472,
    "start_time": "2023-01-12T11:39:40.725Z"
   },
   {
    "duration": 236,
    "start_time": "2023-01-12T11:40:06.199Z"
   },
   {
    "duration": 14,
    "start_time": "2023-01-12T11:40:06.437Z"
   },
   {
    "duration": 22,
    "start_time": "2023-01-12T12:10:34.505Z"
   },
   {
    "duration": 46,
    "start_time": "2023-01-12T12:11:18.871Z"
   },
   {
    "duration": 14,
    "start_time": "2023-01-12T12:11:24.946Z"
   },
   {
    "duration": 6,
    "start_time": "2023-01-12T12:21:01.911Z"
   },
   {
    "duration": 777,
    "start_time": "2023-01-12T12:21:01.919Z"
   },
   {
    "duration": 118,
    "start_time": "2023-01-12T12:21:02.698Z"
   },
   {
    "duration": 13,
    "start_time": "2023-01-12T12:21:02.818Z"
   },
   {
    "duration": 15,
    "start_time": "2023-01-12T12:21:02.833Z"
   },
   {
    "duration": 20,
    "start_time": "2023-01-12T12:21:02.850Z"
   },
   {
    "duration": 25,
    "start_time": "2023-01-12T12:21:02.872Z"
   },
   {
    "duration": 22,
    "start_time": "2023-01-12T12:21:02.899Z"
   },
   {
    "duration": 5,
    "start_time": "2023-01-12T12:21:13.119Z"
   },
   {
    "duration": 5,
    "start_time": "2023-01-12T12:21:32.382Z"
   },
   {
    "duration": 29,
    "start_time": "2023-01-12T13:02:50.494Z"
   },
   {
    "duration": 25,
    "start_time": "2023-01-12T13:03:07.176Z"
   },
   {
    "duration": 29,
    "start_time": "2023-01-12T13:03:33.815Z"
   },
   {
    "duration": 27,
    "start_time": "2023-01-12T13:03:53.488Z"
   },
   {
    "duration": 49,
    "start_time": "2023-01-12T13:05:12.263Z"
   },
   {
    "duration": 28,
    "start_time": "2023-01-12T13:09:07.871Z"
   },
   {
    "duration": 32,
    "start_time": "2023-01-12T13:09:21.767Z"
   },
   {
    "duration": 32,
    "start_time": "2023-01-12T13:09:47.894Z"
   },
   {
    "duration": 29,
    "start_time": "2023-01-12T13:09:53.467Z"
   },
   {
    "duration": 5,
    "start_time": "2023-01-12T13:09:57.695Z"
   },
   {
    "duration": 702,
    "start_time": "2023-01-12T13:09:57.704Z"
   },
   {
    "duration": 151,
    "start_time": "2023-01-12T13:09:58.408Z"
   },
   {
    "duration": 37,
    "start_time": "2023-01-12T13:09:58.562Z"
   },
   {
    "duration": 17,
    "start_time": "2023-01-12T13:09:58.601Z"
   },
   {
    "duration": 18,
    "start_time": "2023-01-12T13:09:58.621Z"
   },
   {
    "duration": 13,
    "start_time": "2023-01-12T13:09:58.642Z"
   },
   {
    "duration": 38,
    "start_time": "2023-01-12T13:09:58.658Z"
   },
   {
    "duration": 21,
    "start_time": "2023-01-12T13:09:58.699Z"
   },
   {
    "duration": 15,
    "start_time": "2023-01-12T13:09:58.722Z"
   },
   {
    "duration": 336,
    "start_time": "2023-01-12T13:09:58.740Z"
   },
   {
    "duration": 2946,
    "start_time": "2023-01-12T13:09:59.078Z"
   },
   {
    "duration": 909,
    "start_time": "2023-01-12T13:10:02.026Z"
   },
   {
    "duration": 8,
    "start_time": "2023-01-12T13:10:02.937Z"
   },
   {
    "duration": 913,
    "start_time": "2023-01-12T13:10:02.948Z"
   },
   {
    "duration": 17,
    "start_time": "2023-01-12T13:10:03.862Z"
   },
   {
    "duration": 16,
    "start_time": "2023-01-12T13:10:03.881Z"
   },
   {
    "duration": 8,
    "start_time": "2023-01-12T13:10:03.899Z"
   },
   {
    "duration": 22,
    "start_time": "2023-01-12T13:10:03.908Z"
   },
   {
    "duration": 29,
    "start_time": "2023-01-12T13:10:12.415Z"
   },
   {
    "duration": 5,
    "start_time": "2023-01-12T13:10:27.055Z"
   },
   {
    "duration": 676,
    "start_time": "2023-01-12T13:10:27.062Z"
   },
   {
    "duration": 179,
    "start_time": "2023-01-12T13:10:27.740Z"
   },
   {
    "duration": 21,
    "start_time": "2023-01-12T13:10:27.921Z"
   },
   {
    "duration": 17,
    "start_time": "2023-01-12T13:10:27.945Z"
   },
   {
    "duration": 36,
    "start_time": "2023-01-12T13:10:27.965Z"
   },
   {
    "duration": 11,
    "start_time": "2023-01-12T13:10:28.003Z"
   },
   {
    "duration": 10,
    "start_time": "2023-01-12T13:10:28.016Z"
   },
   {
    "duration": 36,
    "start_time": "2023-01-12T13:10:28.028Z"
   },
   {
    "duration": 24,
    "start_time": "2023-01-12T13:10:28.098Z"
   },
   {
    "duration": 262,
    "start_time": "2023-01-12T13:10:28.125Z"
   },
   {
    "duration": 2796,
    "start_time": "2023-01-12T13:10:28.389Z"
   },
   {
    "duration": 1117,
    "start_time": "2023-01-12T13:10:31.187Z"
   },
   {
    "duration": 9,
    "start_time": "2023-01-12T13:10:32.306Z"
   },
   {
    "duration": 1161,
    "start_time": "2023-01-12T13:10:32.317Z"
   },
   {
    "duration": 30,
    "start_time": "2023-01-12T13:10:33.480Z"
   },
   {
    "duration": 5,
    "start_time": "2023-01-12T13:10:33.512Z"
   },
   {
    "duration": 11,
    "start_time": "2023-01-12T13:10:33.519Z"
   },
   {
    "duration": 31,
    "start_time": "2023-01-12T13:10:33.533Z"
   },
   {
    "duration": 6,
    "start_time": "2023-01-12T13:10:38.792Z"
   },
   {
    "duration": 4,
    "start_time": "2023-01-12T13:10:57.774Z"
   },
   {
    "duration": 7,
    "start_time": "2023-01-12T13:11:03.135Z"
   },
   {
    "duration": 4,
    "start_time": "2023-01-12T13:11:04.310Z"
   },
   {
    "duration": 13,
    "start_time": "2023-01-12T13:11:09.054Z"
   },
   {
    "duration": 5,
    "start_time": "2023-01-12T13:11:10.975Z"
   },
   {
    "duration": 4,
    "start_time": "2023-01-12T13:11:20.566Z"
   },
   {
    "duration": 4,
    "start_time": "2023-01-12T13:11:23.614Z"
   },
   {
    "duration": 53,
    "start_time": "2023-01-12T13:15:48.219Z"
   },
   {
    "duration": 1603,
    "start_time": "2023-01-12T20:16:35.878Z"
   },
   {
    "duration": 2149,
    "start_time": "2023-01-12T20:16:37.483Z"
   },
   {
    "duration": 98,
    "start_time": "2023-01-12T20:16:39.634Z"
   },
   {
    "duration": 12,
    "start_time": "2023-01-12T20:16:39.734Z"
   },
   {
    "duration": 30,
    "start_time": "2023-01-12T20:16:39.748Z"
   },
   {
    "duration": 17,
    "start_time": "2023-01-12T20:16:39.780Z"
   },
   {
    "duration": 13,
    "start_time": "2023-01-12T20:16:39.799Z"
   },
   {
    "duration": 17,
    "start_time": "2023-01-12T20:16:39.813Z"
   },
   {
    "duration": 97,
    "start_time": "2023-01-12T20:16:39.832Z"
   },
   {
    "duration": 24,
    "start_time": "2023-01-12T20:16:39.931Z"
   },
   {
    "duration": 259,
    "start_time": "2023-01-12T20:16:39.957Z"
   },
   {
    "duration": 2683,
    "start_time": "2023-01-12T20:16:40.217Z"
   },
   {
    "duration": 928,
    "start_time": "2023-01-12T20:16:42.902Z"
   },
   {
    "duration": 9,
    "start_time": "2023-01-12T20:16:43.832Z"
   },
   {
    "duration": 894,
    "start_time": "2023-01-12T20:16:43.842Z"
   },
   {
    "duration": 21,
    "start_time": "2023-01-12T20:16:44.738Z"
   },
   {
    "duration": 17,
    "start_time": "2023-01-12T20:16:44.761Z"
   },
   {
    "duration": 8,
    "start_time": "2023-01-12T20:16:44.780Z"
   },
   {
    "duration": 14,
    "start_time": "2023-01-12T20:16:44.790Z"
   },
   {
    "duration": 1972,
    "start_time": "2023-01-12T20:16:44.806Z"
   },
   {
    "duration": 15737,
    "start_time": "2023-01-12T20:16:46.780Z"
   },
   {
    "duration": 23284,
    "start_time": "2023-01-12T20:17:02.519Z"
   },
   {
    "duration": 231,
    "start_time": "2023-01-12T20:17:25.805Z"
   },
   {
    "duration": 11,
    "start_time": "2023-01-12T20:17:26.038Z"
   },
   {
    "duration": 1425,
    "start_time": "2023-01-12T20:24:11.511Z"
   },
   {
    "duration": 712,
    "start_time": "2023-01-12T20:24:12.938Z"
   },
   {
    "duration": 137,
    "start_time": "2023-01-12T20:24:13.652Z"
   },
   {
    "duration": 20,
    "start_time": "2023-01-12T20:24:13.792Z"
   },
   {
    "duration": 18,
    "start_time": "2023-01-12T20:24:13.814Z"
   },
   {
    "duration": 29,
    "start_time": "2023-01-12T20:24:13.834Z"
   },
   {
    "duration": 24,
    "start_time": "2023-01-12T20:24:13.865Z"
   },
   {
    "duration": 18,
    "start_time": "2023-01-12T20:24:13.892Z"
   },
   {
    "duration": 104,
    "start_time": "2023-01-12T20:24:13.913Z"
   },
   {
    "duration": 26,
    "start_time": "2023-01-12T20:24:14.020Z"
   },
   {
    "duration": 285,
    "start_time": "2023-01-12T20:24:14.049Z"
   },
   {
    "duration": 2812,
    "start_time": "2023-01-12T20:24:14.336Z"
   },
   {
    "duration": 875,
    "start_time": "2023-01-12T20:24:17.150Z"
   },
   {
    "duration": 7,
    "start_time": "2023-01-12T20:24:18.027Z"
   },
   {
    "duration": 1116,
    "start_time": "2023-01-12T20:24:18.035Z"
   },
   {
    "duration": 31,
    "start_time": "2023-01-12T20:24:19.153Z"
   },
   {
    "duration": 27,
    "start_time": "2023-01-12T20:24:19.186Z"
   },
   {
    "duration": 36,
    "start_time": "2023-01-12T20:24:19.216Z"
   },
   {
    "duration": 42,
    "start_time": "2023-01-12T20:24:19.254Z"
   },
   {
    "duration": 2184,
    "start_time": "2023-01-12T20:24:19.298Z"
   },
   {
    "duration": 15785,
    "start_time": "2023-01-12T20:24:21.484Z"
   },
   {
    "duration": 24378,
    "start_time": "2023-01-12T20:24:37.271Z"
   },
   {
    "duration": 272,
    "start_time": "2023-01-12T20:25:01.652Z"
   },
   {
    "duration": 12,
    "start_time": "2023-01-12T20:25:01.926Z"
   },
   {
    "duration": 108,
    "start_time": "2023-01-12T20:37:10.593Z"
   },
   {
    "duration": 13,
    "start_time": "2023-01-12T20:37:31.484Z"
   },
   {
    "duration": 10,
    "start_time": "2023-01-12T20:38:26.799Z"
   },
   {
    "duration": 3,
    "start_time": "2023-01-12T20:39:02.535Z"
   },
   {
    "duration": 6,
    "start_time": "2023-01-12T20:39:17.010Z"
   },
   {
    "duration": 6,
    "start_time": "2023-01-12T20:39:37.903Z"
   },
   {
    "duration": 11,
    "start_time": "2023-01-12T20:41:25.283Z"
   },
   {
    "duration": 10,
    "start_time": "2023-01-12T20:41:32.075Z"
   },
   {
    "duration": 3,
    "start_time": "2023-01-12T20:41:37.939Z"
   },
   {
    "duration": 4,
    "start_time": "2023-01-12T20:41:58.347Z"
   },
   {
    "duration": 3,
    "start_time": "2023-01-12T20:42:13.396Z"
   },
   {
    "duration": 5,
    "start_time": "2023-01-12T20:42:20.599Z"
   },
   {
    "duration": 5,
    "start_time": "2023-01-12T20:42:48.839Z"
   },
   {
    "duration": 3,
    "start_time": "2023-01-12T20:42:52.148Z"
   },
   {
    "duration": 5,
    "start_time": "2023-01-12T20:42:53.022Z"
   },
   {
    "duration": 1370,
    "start_time": "2023-01-12T20:44:58.888Z"
   },
   {
    "duration": 738,
    "start_time": "2023-01-12T20:45:07.999Z"
   },
   {
    "duration": 123,
    "start_time": "2023-01-12T20:45:08.895Z"
   },
   {
    "duration": 10,
    "start_time": "2023-01-12T20:45:38.681Z"
   },
   {
    "duration": 2,
    "start_time": "2023-01-12T20:45:49.636Z"
   },
   {
    "duration": 4,
    "start_time": "2023-01-12T20:45:50.761Z"
   },
   {
    "duration": 4,
    "start_time": "2023-01-12T20:47:10.872Z"
   },
   {
    "duration": 1343,
    "start_time": "2023-01-12T21:06:46.595Z"
   },
   {
    "duration": 663,
    "start_time": "2023-01-12T21:06:48.061Z"
   },
   {
    "duration": 100,
    "start_time": "2023-01-12T21:06:49.346Z"
   },
   {
    "duration": 14,
    "start_time": "2023-01-12T21:06:52.737Z"
   },
   {
    "duration": 7,
    "start_time": "2023-01-12T21:06:58.317Z"
   },
   {
    "duration": 6,
    "start_time": "2023-01-12T21:07:09.200Z"
   },
   {
    "duration": 4,
    "start_time": "2023-01-12T21:07:21.749Z"
   },
   {
    "duration": 9,
    "start_time": "2023-01-12T21:07:32.173Z"
   },
   {
    "duration": 5,
    "start_time": "2023-01-12T21:07:37.509Z"
   },
   {
    "duration": 127,
    "start_time": "2023-01-12T21:07:50.986Z"
   },
   {
    "duration": 1201,
    "start_time": "2023-01-12T21:13:03.268Z"
   },
   {
    "duration": 75,
    "start_time": "2023-01-12T21:15:02.037Z"
   },
   {
    "duration": 7,
    "start_time": "2023-01-12T21:15:10.360Z"
   },
   {
    "duration": 6,
    "start_time": "2023-01-12T21:15:41.461Z"
   },
   {
    "duration": 834,
    "start_time": "2023-01-12T21:16:28.498Z"
   },
   {
    "duration": 5,
    "start_time": "2023-01-12T21:17:54.129Z"
   },
   {
    "duration": 778,
    "start_time": "2023-01-12T21:17:58.817Z"
   },
   {
    "duration": 25,
    "start_time": "2023-01-12T21:20:10.691Z"
   },
   {
    "duration": 920,
    "start_time": "2023-01-12T21:20:13.967Z"
   },
   {
    "duration": 17,
    "start_time": "2023-01-12T21:20:21.394Z"
   },
   {
    "duration": 1127,
    "start_time": "2023-01-12T21:20:25.199Z"
   },
   {
    "duration": 16,
    "start_time": "2023-01-12T21:20:40.350Z"
   },
   {
    "duration": 876,
    "start_time": "2023-01-12T21:20:44.239Z"
   },
   {
    "duration": 7,
    "start_time": "2023-01-12T21:21:15.594Z"
   },
   {
    "duration": 888,
    "start_time": "2023-01-12T21:21:18.627Z"
   },
   {
    "duration": 1436,
    "start_time": "2023-01-12T21:22:28.398Z"
   },
   {
    "duration": 699,
    "start_time": "2023-01-12T21:22:33.749Z"
   },
   {
    "duration": 91,
    "start_time": "2023-01-12T21:22:35.306Z"
   },
   {
    "duration": 11,
    "start_time": "2023-01-12T21:22:38.846Z"
   },
   {
    "duration": 7,
    "start_time": "2023-01-12T21:22:42.227Z"
   },
   {
    "duration": 4,
    "start_time": "2023-01-12T21:22:47.731Z"
   },
   {
    "duration": 11,
    "start_time": "2023-01-12T21:22:54.630Z"
   },
   {
    "duration": 4,
    "start_time": "2023-01-12T21:22:57.042Z"
   },
   {
    "duration": 52,
    "start_time": "2023-01-12T21:22:59.908Z"
   },
   {
    "duration": 25,
    "start_time": "2023-01-12T21:23:03.378Z"
   },
   {
    "duration": 259,
    "start_time": "2023-01-12T21:23:07.533Z"
   },
   {
    "duration": 2690,
    "start_time": "2023-01-12T21:23:11.902Z"
   },
   {
    "duration": 818,
    "start_time": "2023-01-12T21:23:21.702Z"
   },
   {
    "duration": 8,
    "start_time": "2023-01-12T21:23:25.962Z"
   },
   {
    "duration": 900,
    "start_time": "2023-01-12T21:23:29.231Z"
   },
   {
    "duration": 24,
    "start_time": "2023-01-12T21:23:37.718Z"
   },
   {
    "duration": 6,
    "start_time": "2023-01-12T21:23:41.763Z"
   },
   {
    "duration": 821,
    "start_time": "2023-01-12T21:23:44.802Z"
   },
   {
    "duration": 70,
    "start_time": "2023-01-12T21:28:08.693Z"
   },
   {
    "duration": 76,
    "start_time": "2023-01-12T21:28:25.165Z"
   },
   {
    "duration": 3,
    "start_time": "2023-01-12T21:30:22.378Z"
   },
   {
    "duration": 102,
    "start_time": "2023-01-12T22:25:14.084Z"
   },
   {
    "duration": 5,
    "start_time": "2023-01-12T22:25:35.515Z"
   },
   {
    "duration": 12,
    "start_time": "2023-01-12T22:25:36.547Z"
   },
   {
    "duration": 14,
    "start_time": "2023-01-12T22:25:39.387Z"
   },
   {
    "duration": 4,
    "start_time": "2023-01-12T22:26:31.252Z"
   },
   {
    "duration": 18,
    "start_time": "2023-01-12T22:26:37.847Z"
   },
   {
    "duration": 41,
    "start_time": "2023-01-12T22:27:26.132Z"
   },
   {
    "duration": 1994,
    "start_time": "2023-01-12T22:29:43.385Z"
   },
   {
    "duration": 33,
    "start_time": "2023-01-12T22:29:59.140Z"
   },
   {
    "duration": 2249,
    "start_time": "2023-01-12T22:30:02.432Z"
   },
   {
    "duration": 1660,
    "start_time": "2023-01-12T22:32:30.226Z"
   },
   {
    "duration": 33,
    "start_time": "2023-01-12T22:45:19.968Z"
   },
   {
    "duration": 1615,
    "start_time": "2023-01-12T22:45:23.064Z"
   },
   {
    "duration": 15115,
    "start_time": "2023-01-12T22:49:54.598Z"
   },
   {
    "duration": 23206,
    "start_time": "2023-01-12T22:56:43.221Z"
   },
   {
    "duration": 1335,
    "start_time": "2023-01-12T23:00:11.467Z"
   },
   {
    "duration": 666,
    "start_time": "2023-01-12T23:00:12.804Z"
   },
   {
    "duration": 114,
    "start_time": "2023-01-12T23:00:13.472Z"
   },
   {
    "duration": 12,
    "start_time": "2023-01-12T23:00:13.588Z"
   },
   {
    "duration": 9,
    "start_time": "2023-01-12T23:00:13.601Z"
   },
   {
    "duration": 2,
    "start_time": "2023-01-12T23:00:13.611Z"
   },
   {
    "duration": 13,
    "start_time": "2023-01-12T23:00:13.615Z"
   },
   {
    "duration": 11,
    "start_time": "2023-01-12T23:00:13.630Z"
   },
   {
    "duration": 6,
    "start_time": "2023-01-12T23:00:13.642Z"
   },
   {
    "duration": 74,
    "start_time": "2023-01-12T23:00:13.651Z"
   },
   {
    "duration": 23,
    "start_time": "2023-01-12T23:00:13.726Z"
   },
   {
    "duration": 269,
    "start_time": "2023-01-12T23:00:13.751Z"
   },
   {
    "duration": 2521,
    "start_time": "2023-01-12T23:00:14.021Z"
   },
   {
    "duration": 874,
    "start_time": "2023-01-12T23:00:16.544Z"
   },
   {
    "duration": 7,
    "start_time": "2023-01-12T23:00:17.419Z"
   },
   {
    "duration": 900,
    "start_time": "2023-01-12T23:00:17.428Z"
   },
   {
    "duration": 25,
    "start_time": "2023-01-12T23:00:18.329Z"
   },
   {
    "duration": 4,
    "start_time": "2023-01-12T23:00:18.355Z"
   },
   {
    "duration": 19,
    "start_time": "2023-01-12T23:00:18.360Z"
   },
   {
    "duration": 13,
    "start_time": "2023-01-12T23:00:18.381Z"
   },
   {
    "duration": 48,
    "start_time": "2023-01-12T23:00:18.396Z"
   },
   {
    "duration": 1736,
    "start_time": "2023-01-12T23:00:18.446Z"
   },
   {
    "duration": 15573,
    "start_time": "2023-01-12T23:00:20.184Z"
   },
   {
    "duration": 23289,
    "start_time": "2023-01-12T23:00:35.760Z"
   },
   {
    "duration": 207,
    "start_time": "2023-01-12T23:00:59.051Z"
   },
   {
    "duration": 18,
    "start_time": "2023-01-12T23:00:59.260Z"
   },
   {
    "duration": 109,
    "start_time": "2023-01-12T23:06:58.455Z"
   },
   {
    "duration": 1351,
    "start_time": "2023-01-12T23:07:17.667Z"
   },
   {
    "duration": 684,
    "start_time": "2023-01-12T23:07:19.020Z"
   },
   {
    "duration": 107,
    "start_time": "2023-01-12T23:07:19.706Z"
   },
   {
    "duration": 13,
    "start_time": "2023-01-12T23:07:19.815Z"
   },
   {
    "duration": 9,
    "start_time": "2023-01-12T23:07:19.829Z"
   },
   {
    "duration": 3,
    "start_time": "2023-01-12T23:07:19.840Z"
   },
   {
    "duration": 34,
    "start_time": "2023-01-12T23:07:19.844Z"
   },
   {
    "duration": 9,
    "start_time": "2023-01-12T23:07:19.879Z"
   },
   {
    "duration": 13,
    "start_time": "2023-01-12T23:07:19.889Z"
   },
   {
    "duration": 52,
    "start_time": "2023-01-12T23:07:19.905Z"
   },
   {
    "duration": 36,
    "start_time": "2023-01-12T23:07:19.958Z"
   },
   {
    "duration": 239,
    "start_time": "2023-01-12T23:07:19.996Z"
   },
   {
    "duration": 2518,
    "start_time": "2023-01-12T23:07:20.237Z"
   },
   {
    "duration": 863,
    "start_time": "2023-01-12T23:07:22.756Z"
   },
   {
    "duration": 8,
    "start_time": "2023-01-12T23:07:23.621Z"
   },
   {
    "duration": 893,
    "start_time": "2023-01-12T23:07:23.630Z"
   },
   {
    "duration": 23,
    "start_time": "2023-01-12T23:07:24.525Z"
   },
   {
    "duration": 5,
    "start_time": "2023-01-12T23:07:24.549Z"
   },
   {
    "duration": 23,
    "start_time": "2023-01-12T23:07:24.555Z"
   },
   {
    "duration": 19,
    "start_time": "2023-01-12T23:07:24.580Z"
   },
   {
    "duration": 48,
    "start_time": "2023-01-12T23:07:24.601Z"
   },
   {
    "duration": 2231,
    "start_time": "2023-01-12T23:07:24.651Z"
   },
   {
    "duration": 15206,
    "start_time": "2023-01-12T23:07:26.884Z"
   },
   {
    "duration": 23021,
    "start_time": "2023-01-12T23:07:42.092Z"
   },
   {
    "duration": 230,
    "start_time": "2023-01-12T23:08:05.115Z"
   },
   {
    "duration": 9,
    "start_time": "2023-01-12T23:08:05.347Z"
   },
   {
    "duration": 104999,
    "start_time": "2023-01-12T23:08:45.598Z"
   },
   {
    "duration": 3,
    "start_time": "2023-01-12T23:11:21.772Z"
   },
   {
    "duration": 13,
    "start_time": "2023-01-12T23:11:26.193Z"
   },
   {
    "duration": 1927,
    "start_time": "2023-01-12T23:11:38.258Z"
   },
   {
    "duration": 1436,
    "start_time": "2023-01-12T23:11:52.528Z"
   },
   {
    "duration": 687,
    "start_time": "2023-01-12T23:11:53.966Z"
   },
   {
    "duration": 100,
    "start_time": "2023-01-12T23:11:54.654Z"
   },
   {
    "duration": 32,
    "start_time": "2023-01-12T23:11:54.755Z"
   },
   {
    "duration": 9,
    "start_time": "2023-01-12T23:11:54.789Z"
   },
   {
    "duration": 2,
    "start_time": "2023-01-12T23:11:54.800Z"
   },
   {
    "duration": 6,
    "start_time": "2023-01-12T23:11:54.804Z"
   },
   {
    "duration": 17,
    "start_time": "2023-01-12T23:11:54.812Z"
   },
   {
    "duration": 12,
    "start_time": "2023-01-12T23:11:54.831Z"
   },
   {
    "duration": 80,
    "start_time": "2023-01-12T23:11:54.845Z"
   },
   {
    "duration": 23,
    "start_time": "2023-01-12T23:11:54.927Z"
   },
   {
    "duration": 250,
    "start_time": "2023-01-12T23:11:54.955Z"
   },
   {
    "duration": 2577,
    "start_time": "2023-01-12T23:11:55.206Z"
   },
   {
    "duration": 923,
    "start_time": "2023-01-12T23:11:57.784Z"
   },
   {
    "duration": 7,
    "start_time": "2023-01-12T23:11:58.708Z"
   },
   {
    "duration": 911,
    "start_time": "2023-01-12T23:11:58.716Z"
   },
   {
    "duration": 20,
    "start_time": "2023-01-12T23:11:59.629Z"
   },
   {
    "duration": 3,
    "start_time": "2023-01-12T23:11:59.651Z"
   },
   {
    "duration": 7,
    "start_time": "2023-01-12T23:11:59.656Z"
   },
   {
    "duration": 23,
    "start_time": "2023-01-12T23:11:59.665Z"
   },
   {
    "duration": 9,
    "start_time": "2023-01-12T23:11:59.689Z"
   },
   {
    "duration": 112,
    "start_time": "2023-01-12T23:11:59.699Z"
   },
   {
    "duration": 0,
    "start_time": "2023-01-12T23:11:59.812Z"
   },
   {
    "duration": 0,
    "start_time": "2023-01-12T23:11:59.814Z"
   },
   {
    "duration": 0,
    "start_time": "2023-01-12T23:11:59.815Z"
   },
   {
    "duration": 0,
    "start_time": "2023-01-12T23:11:59.816Z"
   },
   {
    "duration": 104987,
    "start_time": "2023-01-12T23:12:10.547Z"
   },
   {
    "duration": 191,
    "start_time": "2023-01-12T23:17:01.969Z"
   },
   {
    "duration": 9,
    "start_time": "2023-01-12T23:17:04.640Z"
   },
   {
    "duration": 22918,
    "start_time": "2023-01-12T23:17:08.104Z"
   },
   {
    "duration": 99,
    "start_time": "2023-01-12T23:18:51.357Z"
   },
   {
    "duration": 10,
    "start_time": "2023-01-12T23:18:58.453Z"
   },
   {
    "duration": 39,
    "start_time": "2023-01-12T23:19:24.658Z"
   },
   {
    "duration": 2197,
    "start_time": "2023-01-12T23:19:28.682Z"
   },
   {
    "duration": 10,
    "start_time": "2023-01-12T23:25:41.283Z"
   },
   {
    "duration": 4,
    "start_time": "2023-01-12T23:26:08.330Z"
   },
   {
    "duration": 10,
    "start_time": "2023-01-12T23:26:30.899Z"
   },
   {
    "duration": 23,
    "start_time": "2023-01-12T23:26:52.585Z"
   },
   {
    "duration": 96882,
    "start_time": "2023-01-12T23:27:11.213Z"
   },
   {
    "duration": 404864,
    "start_time": "2023-01-12T23:44:42.049Z"
   },
   {
    "duration": 1262,
    "start_time": "2023-01-12T23:52:09.922Z"
   },
   {
    "duration": 864,
    "start_time": "2023-01-12T23:53:01.168Z"
   },
   {
    "duration": 1266,
    "start_time": "2023-01-12T23:53:16.676Z"
   },
   {
    "duration": 1952,
    "start_time": "2023-01-12T23:53:27.308Z"
   },
   {
    "duration": 1357,
    "start_time": "2023-01-12T23:55:28.836Z"
   },
   {
    "duration": 665,
    "start_time": "2023-01-12T23:55:30.195Z"
   },
   {
    "duration": 125,
    "start_time": "2023-01-12T23:55:30.864Z"
   },
   {
    "duration": 13,
    "start_time": "2023-01-12T23:55:30.990Z"
   },
   {
    "duration": 23,
    "start_time": "2023-01-12T23:55:31.004Z"
   },
   {
    "duration": 5,
    "start_time": "2023-01-12T23:55:31.029Z"
   },
   {
    "duration": 12,
    "start_time": "2023-01-12T23:55:31.036Z"
   },
   {
    "duration": 17,
    "start_time": "2023-01-12T23:55:31.049Z"
   },
   {
    "duration": 5,
    "start_time": "2023-01-12T23:55:31.068Z"
   },
   {
    "duration": 53,
    "start_time": "2023-01-12T23:55:31.078Z"
   },
   {
    "duration": 23,
    "start_time": "2023-01-12T23:55:31.133Z"
   },
   {
    "duration": 250,
    "start_time": "2023-01-12T23:55:31.158Z"
   },
   {
    "duration": 2587,
    "start_time": "2023-01-12T23:55:31.409Z"
   },
   {
    "duration": 930,
    "start_time": "2023-01-12T23:55:33.997Z"
   },
   {
    "duration": 7,
    "start_time": "2023-01-12T23:55:34.928Z"
   },
   {
    "duration": 912,
    "start_time": "2023-01-12T23:55:34.937Z"
   },
   {
    "duration": 32,
    "start_time": "2023-01-12T23:55:35.850Z"
   },
   {
    "duration": 3,
    "start_time": "2023-01-12T23:55:35.884Z"
   },
   {
    "duration": 9,
    "start_time": "2023-01-12T23:55:35.889Z"
   },
   {
    "duration": 14,
    "start_time": "2023-01-12T23:55:35.900Z"
   },
   {
    "duration": 42,
    "start_time": "2023-01-12T23:55:35.916Z"
   },
   {
    "duration": 1618,
    "start_time": "2023-01-12T23:55:35.960Z"
   },
   {
    "duration": 100707,
    "start_time": "2023-01-12T23:55:37.580Z"
   },
   {
    "duration": 47801,
    "start_time": "2023-01-12T23:57:18.288Z"
   },
   {
    "duration": 1248,
    "start_time": "2023-01-12T23:58:06.091Z"
   },
   {
    "duration": 10,
    "start_time": "2023-01-12T23:58:07.340Z"
   },
   {
    "duration": 1211,
    "start_time": "2023-01-12T23:58:17.459Z"
   },
   {
    "duration": 9,
    "start_time": "2023-01-12T23:58:21.026Z"
   },
   {
    "duration": 103,
    "start_time": "2023-01-12T23:59:12.027Z"
   },
   {
    "duration": 206,
    "start_time": "2023-01-12T23:59:26.336Z"
   },
   {
    "duration": 1361,
    "start_time": "2023-01-13T00:42:00.359Z"
   },
   {
    "duration": 667,
    "start_time": "2023-01-13T00:42:01.722Z"
   },
   {
    "duration": 117,
    "start_time": "2023-01-13T00:42:02.390Z"
   },
   {
    "duration": 11,
    "start_time": "2023-01-13T00:42:02.509Z"
   },
   {
    "duration": 12,
    "start_time": "2023-01-13T00:42:02.522Z"
   },
   {
    "duration": 10,
    "start_time": "2023-01-13T00:42:02.536Z"
   },
   {
    "duration": 9,
    "start_time": "2023-01-13T00:42:02.548Z"
   },
   {
    "duration": 24,
    "start_time": "2023-01-13T00:42:02.559Z"
   },
   {
    "duration": 5,
    "start_time": "2023-01-13T00:42:02.585Z"
   },
   {
    "duration": 54,
    "start_time": "2023-01-13T00:42:02.593Z"
   },
   {
    "duration": 43,
    "start_time": "2023-01-13T00:42:02.648Z"
   },
   {
    "duration": 239,
    "start_time": "2023-01-13T00:42:02.692Z"
   },
   {
    "duration": 2545,
    "start_time": "2023-01-13T00:42:02.933Z"
   },
   {
    "duration": 829,
    "start_time": "2023-01-13T00:42:05.480Z"
   },
   {
    "duration": 6,
    "start_time": "2023-01-13T00:42:06.310Z"
   },
   {
    "duration": 889,
    "start_time": "2023-01-13T00:42:06.318Z"
   },
   {
    "duration": 23,
    "start_time": "2023-01-13T00:42:07.209Z"
   },
   {
    "duration": 3,
    "start_time": "2023-01-13T00:42:07.234Z"
   },
   {
    "duration": 12,
    "start_time": "2023-01-13T00:42:07.238Z"
   },
   {
    "duration": 27,
    "start_time": "2023-01-13T00:42:07.251Z"
   },
   {
    "duration": 40,
    "start_time": "2023-01-13T00:42:07.280Z"
   },
   {
    "duration": 2057,
    "start_time": "2023-01-13T00:42:07.322Z"
   },
   {
    "duration": 11954,
    "start_time": "2023-01-13T00:42:09.381Z"
   },
   {
    "duration": 0,
    "start_time": "2023-01-13T00:42:21.337Z"
   },
   {
    "duration": 0,
    "start_time": "2023-01-13T00:42:21.338Z"
   },
   {
    "duration": 0,
    "start_time": "2023-01-13T00:42:21.339Z"
   },
   {
    "duration": 14521,
    "start_time": "2023-01-13T00:42:27.917Z"
   },
   {
    "duration": 48544,
    "start_time": "2023-01-13T00:42:47.835Z"
   },
   {
    "duration": 192,
    "start_time": "2023-01-13T00:44:41.704Z"
   },
   {
    "duration": 280,
    "start_time": "2023-01-13T00:44:55.524Z"
   },
   {
    "duration": 8,
    "start_time": "2023-01-13T00:45:00.671Z"
   },
   {
    "duration": 188,
    "start_time": "2023-01-13T00:45:09.587Z"
   },
   {
    "duration": 8,
    "start_time": "2023-01-13T00:45:11.311Z"
   },
   {
    "duration": 1343,
    "start_time": "2023-01-13T00:45:23.983Z"
   },
   {
    "duration": 716,
    "start_time": "2023-01-13T00:45:25.328Z"
   },
   {
    "duration": 133,
    "start_time": "2023-01-13T00:45:26.045Z"
   },
   {
    "duration": 14,
    "start_time": "2023-01-13T00:45:26.180Z"
   },
   {
    "duration": 10,
    "start_time": "2023-01-13T00:45:26.196Z"
   },
   {
    "duration": 3,
    "start_time": "2023-01-13T00:45:26.208Z"
   },
   {
    "duration": 6,
    "start_time": "2023-01-13T00:45:26.213Z"
   },
   {
    "duration": 15,
    "start_time": "2023-01-13T00:45:26.220Z"
   },
   {
    "duration": 6,
    "start_time": "2023-01-13T00:45:26.237Z"
   },
   {
    "duration": 63,
    "start_time": "2023-01-13T00:45:26.277Z"
   },
   {
    "duration": 40,
    "start_time": "2023-01-13T00:45:26.342Z"
   },
   {
    "duration": 275,
    "start_time": "2023-01-13T00:45:26.384Z"
   },
   {
    "duration": 2705,
    "start_time": "2023-01-13T00:45:26.661Z"
   },
   {
    "duration": 841,
    "start_time": "2023-01-13T00:45:29.368Z"
   },
   {
    "duration": 7,
    "start_time": "2023-01-13T00:45:30.210Z"
   },
   {
    "duration": 908,
    "start_time": "2023-01-13T00:45:30.218Z"
   },
   {
    "duration": 24,
    "start_time": "2023-01-13T00:45:31.128Z"
   },
   {
    "duration": 15,
    "start_time": "2023-01-13T00:45:31.154Z"
   },
   {
    "duration": 38,
    "start_time": "2023-01-13T00:45:31.171Z"
   },
   {
    "duration": 40,
    "start_time": "2023-01-13T00:45:31.211Z"
   },
   {
    "duration": 83,
    "start_time": "2023-01-13T00:45:31.252Z"
   },
   {
    "duration": 2043,
    "start_time": "2023-01-13T00:45:31.337Z"
   },
   {
    "duration": 14664,
    "start_time": "2023-01-13T00:45:33.383Z"
   },
   {
    "duration": 48526,
    "start_time": "2023-01-13T00:45:48.049Z"
   },
   {
    "duration": 204,
    "start_time": "2023-01-13T00:46:36.578Z"
   },
   {
    "duration": 9,
    "start_time": "2023-01-13T00:46:36.783Z"
   },
   {
    "duration": 142229,
    "start_time": "2023-01-13T00:46:57.602Z"
   },
   {
    "duration": 1342,
    "start_time": "2023-01-13T00:50:03.618Z"
   },
   {
    "duration": 1338,
    "start_time": "2023-01-13T00:50:17.667Z"
   },
   {
    "duration": 660,
    "start_time": "2023-01-13T00:50:19.006Z"
   },
   {
    "duration": 121,
    "start_time": "2023-01-13T00:50:19.667Z"
   },
   {
    "duration": 12,
    "start_time": "2023-01-13T00:50:19.790Z"
   },
   {
    "duration": 12,
    "start_time": "2023-01-13T00:50:19.803Z"
   },
   {
    "duration": 3,
    "start_time": "2023-01-13T00:50:19.816Z"
   },
   {
    "duration": 8,
    "start_time": "2023-01-13T00:50:19.820Z"
   },
   {
    "duration": 11,
    "start_time": "2023-01-13T00:50:19.829Z"
   },
   {
    "duration": 5,
    "start_time": "2023-01-13T00:50:19.842Z"
   },
   {
    "duration": 84,
    "start_time": "2023-01-13T00:50:19.849Z"
   },
   {
    "duration": 24,
    "start_time": "2023-01-13T00:50:19.934Z"
   },
   {
    "duration": 242,
    "start_time": "2023-01-13T00:50:19.959Z"
   },
   {
    "duration": 2370,
    "start_time": "2023-01-13T00:50:20.203Z"
   },
   {
    "duration": 823,
    "start_time": "2023-01-13T00:50:22.578Z"
   },
   {
    "duration": 7,
    "start_time": "2023-01-13T00:50:23.402Z"
   },
   {
    "duration": 906,
    "start_time": "2023-01-13T00:50:23.411Z"
   },
   {
    "duration": 25,
    "start_time": "2023-01-13T00:50:24.319Z"
   },
   {
    "duration": 4,
    "start_time": "2023-01-13T00:50:24.345Z"
   },
   {
    "duration": 26,
    "start_time": "2023-01-13T00:50:24.351Z"
   },
   {
    "duration": 19,
    "start_time": "2023-01-13T00:50:24.379Z"
   },
   {
    "duration": 55,
    "start_time": "2023-01-13T00:50:24.400Z"
   },
   {
    "duration": 1822,
    "start_time": "2023-01-13T00:50:24.457Z"
   },
   {
    "duration": 15581,
    "start_time": "2023-01-13T00:50:26.281Z"
   },
   {
    "duration": 145949,
    "start_time": "2023-01-13T00:50:41.863Z"
   },
   {
    "duration": 197,
    "start_time": "2023-01-13T00:53:07.814Z"
   },
   {
    "duration": 8,
    "start_time": "2023-01-13T00:53:08.012Z"
   },
   {
    "duration": 1282,
    "start_time": "2023-01-13T00:56:18.402Z"
   },
   {
    "duration": 93991,
    "start_time": "2023-01-13T00:57:46.067Z"
   },
   {
    "duration": 14174,
    "start_time": "2023-01-13T00:59:34.667Z"
   },
   {
    "duration": 2114,
    "start_time": "2023-01-13T01:00:01.236Z"
   },
   {
    "duration": 4212,
    "start_time": "2023-01-13T01:00:15.108Z"
   },
   {
    "duration": 3047,
    "start_time": "2023-01-13T01:00:31.192Z"
   },
   {
    "duration": 261385,
    "start_time": "2023-01-13T01:00:56.870Z"
   },
   {
    "duration": 1287,
    "start_time": "2023-01-13T01:05:59.614Z"
   },
   {
    "duration": 6059,
    "start_time": "2023-01-13T01:06:46.940Z"
   },
   {
    "duration": 103135,
    "start_time": "2023-01-13T01:06:57.348Z"
   },
   {
    "duration": 1677,
    "start_time": "2023-01-13T01:09:10.037Z"
   },
   {
    "duration": 70,
    "start_time": "2023-01-13T01:12:41.247Z"
   },
   {
    "duration": 1303,
    "start_time": "2023-01-13T01:20:40.628Z"
   },
   {
    "duration": 642,
    "start_time": "2023-01-13T01:20:41.933Z"
   },
   {
    "duration": 118,
    "start_time": "2023-01-13T01:20:42.576Z"
   },
   {
    "duration": 12,
    "start_time": "2023-01-13T01:20:42.696Z"
   },
   {
    "duration": 11,
    "start_time": "2023-01-13T01:20:42.709Z"
   },
   {
    "duration": 3,
    "start_time": "2023-01-13T01:20:42.721Z"
   },
   {
    "duration": 10,
    "start_time": "2023-01-13T01:20:42.725Z"
   },
   {
    "duration": 11,
    "start_time": "2023-01-13T01:20:42.736Z"
   },
   {
    "duration": 4,
    "start_time": "2023-01-13T01:20:42.749Z"
   },
   {
    "duration": 54,
    "start_time": "2023-01-13T01:20:42.779Z"
   },
   {
    "duration": 23,
    "start_time": "2023-01-13T01:20:42.835Z"
   },
   {
    "duration": 259,
    "start_time": "2023-01-13T01:20:42.860Z"
   },
   {
    "duration": 2532,
    "start_time": "2023-01-13T01:20:43.121Z"
   },
   {
    "duration": 956,
    "start_time": "2023-01-13T01:20:45.655Z"
   },
   {
    "duration": 6,
    "start_time": "2023-01-13T01:20:46.612Z"
   },
   {
    "duration": 897,
    "start_time": "2023-01-13T01:20:46.620Z"
   },
   {
    "duration": 25,
    "start_time": "2023-01-13T01:20:47.519Z"
   },
   {
    "duration": 4,
    "start_time": "2023-01-13T01:20:47.546Z"
   },
   {
    "duration": 9,
    "start_time": "2023-01-13T01:20:47.552Z"
   },
   {
    "duration": 33,
    "start_time": "2023-01-13T01:20:47.562Z"
   },
   {
    "duration": 62,
    "start_time": "2023-01-13T01:20:47.596Z"
   },
   {
    "duration": 2023,
    "start_time": "2023-01-13T01:20:47.660Z"
   },
   {
    "duration": 15386,
    "start_time": "2023-01-13T01:20:49.685Z"
   },
   {
    "duration": 63837,
    "start_time": "2023-01-13T01:21:05.079Z"
   },
   {
    "duration": 1289,
    "start_time": "2023-01-13T01:22:08.917Z"
   },
   {
    "duration": 8,
    "start_time": "2023-01-13T01:22:10.208Z"
   },
   {
    "duration": 98,
    "start_time": "2023-01-13T07:16:28.512Z"
   },
   {
    "duration": 77,
    "start_time": "2023-01-13T07:19:18.672Z"
   },
   {
    "duration": 83,
    "start_time": "2023-01-13T07:20:17.512Z"
   },
   {
    "duration": 1509,
    "start_time": "2023-01-13T10:42:52.149Z"
   },
   {
    "duration": 748,
    "start_time": "2023-01-13T10:42:53.660Z"
   },
   {
    "duration": 124,
    "start_time": "2023-01-13T10:42:54.410Z"
   },
   {
    "duration": 21,
    "start_time": "2023-01-13T10:42:54.537Z"
   },
   {
    "duration": 12,
    "start_time": "2023-01-13T10:42:54.578Z"
   },
   {
    "duration": 13,
    "start_time": "2023-01-13T10:42:54.592Z"
   },
   {
    "duration": 20,
    "start_time": "2023-01-13T10:42:54.607Z"
   },
   {
    "duration": 11,
    "start_time": "2023-01-13T10:42:54.630Z"
   },
   {
    "duration": 72,
    "start_time": "2023-01-13T10:42:54.643Z"
   },
   {
    "duration": 26,
    "start_time": "2023-01-13T10:42:54.719Z"
   },
   {
    "duration": 283,
    "start_time": "2023-01-13T10:42:54.747Z"
   },
   {
    "duration": 2492,
    "start_time": "2023-01-13T10:42:55.031Z"
   },
   {
    "duration": 888,
    "start_time": "2023-01-13T10:42:57.525Z"
   },
   {
    "duration": 8,
    "start_time": "2023-01-13T10:42:58.415Z"
   },
   {
    "duration": 902,
    "start_time": "2023-01-13T10:42:58.424Z"
   },
   {
    "duration": 24,
    "start_time": "2023-01-13T10:42:59.327Z"
   },
   {
    "duration": 12,
    "start_time": "2023-01-13T10:42:59.352Z"
   },
   {
    "duration": 26,
    "start_time": "2023-01-13T10:42:59.365Z"
   },
   {
    "duration": 30,
    "start_time": "2023-01-13T10:42:59.392Z"
   },
   {
    "duration": 67,
    "start_time": "2023-01-13T10:42:59.423Z"
   },
   {
    "duration": 2289,
    "start_time": "2023-01-13T10:42:59.492Z"
   },
   {
    "duration": 15502,
    "start_time": "2023-01-13T10:43:01.783Z"
   },
   {
    "duration": 65484,
    "start_time": "2023-01-13T10:43:17.286Z"
   },
   {
    "duration": 1340,
    "start_time": "2023-01-13T10:44:22.778Z"
   },
   {
    "duration": 10,
    "start_time": "2023-01-13T10:44:24.120Z"
   },
   {
    "duration": 1264,
    "start_time": "2023-01-13T11:37:49.526Z"
   },
   {
    "duration": 5,
    "start_time": "2023-01-13T11:38:03.326Z"
   },
   {
    "duration": 1471,
    "start_time": "2023-01-13T11:38:09.755Z"
   },
   {
    "duration": 682,
    "start_time": "2023-01-13T11:38:11.228Z"
   },
   {
    "duration": 124,
    "start_time": "2023-01-13T11:38:11.912Z"
   },
   {
    "duration": 13,
    "start_time": "2023-01-13T11:38:12.038Z"
   },
   {
    "duration": 33,
    "start_time": "2023-01-13T11:38:12.053Z"
   },
   {
    "duration": 4,
    "start_time": "2023-01-13T11:38:12.088Z"
   },
   {
    "duration": 9,
    "start_time": "2023-01-13T11:38:12.094Z"
   },
   {
    "duration": 14,
    "start_time": "2023-01-13T11:38:12.104Z"
   },
   {
    "duration": 6,
    "start_time": "2023-01-13T11:38:12.121Z"
   },
   {
    "duration": 89,
    "start_time": "2023-01-13T11:38:12.129Z"
   },
   {
    "duration": 25,
    "start_time": "2023-01-13T11:38:12.219Z"
   },
   {
    "duration": 270,
    "start_time": "2023-01-13T11:38:12.246Z"
   },
   {
    "duration": 2695,
    "start_time": "2023-01-13T11:38:12.518Z"
   },
   {
    "duration": 707,
    "start_time": "2023-01-13T11:38:15.214Z"
   },
   {
    "duration": 0,
    "start_time": "2023-01-13T11:38:15.923Z"
   },
   {
    "duration": 0,
    "start_time": "2023-01-13T11:38:15.924Z"
   },
   {
    "duration": 0,
    "start_time": "2023-01-13T11:38:15.925Z"
   },
   {
    "duration": 0,
    "start_time": "2023-01-13T11:38:15.926Z"
   },
   {
    "duration": 0,
    "start_time": "2023-01-13T11:38:15.927Z"
   },
   {
    "duration": 0,
    "start_time": "2023-01-13T11:38:15.928Z"
   },
   {
    "duration": 0,
    "start_time": "2023-01-13T11:38:15.929Z"
   },
   {
    "duration": 0,
    "start_time": "2023-01-13T11:38:15.930Z"
   },
   {
    "duration": 0,
    "start_time": "2023-01-13T11:38:15.931Z"
   },
   {
    "duration": 0,
    "start_time": "2023-01-13T11:38:15.932Z"
   },
   {
    "duration": 0,
    "start_time": "2023-01-13T11:38:15.933Z"
   },
   {
    "duration": 0,
    "start_time": "2023-01-13T11:38:15.935Z"
   },
   {
    "duration": 10,
    "start_time": "2023-01-13T11:38:39.619Z"
   },
   {
    "duration": 95,
    "start_time": "2023-01-13T11:38:46.288Z"
   },
   {
    "duration": 218,
    "start_time": "2023-01-13T11:40:04.115Z"
   },
   {
    "duration": 174,
    "start_time": "2023-01-13T11:40:19.859Z"
   },
   {
    "duration": 82,
    "start_time": "2023-01-13T11:40:46.636Z"
   },
   {
    "duration": 75,
    "start_time": "2023-01-13T11:40:58.519Z"
   },
   {
    "duration": 86,
    "start_time": "2023-01-13T11:41:07.120Z"
   },
   {
    "duration": 295,
    "start_time": "2023-01-13T11:41:34.952Z"
   },
   {
    "duration": 9,
    "start_time": "2023-01-13T11:41:54.940Z"
   },
   {
    "duration": 8,
    "start_time": "2023-01-13T11:42:35.216Z"
   },
   {
    "duration": 10,
    "start_time": "2023-01-13T11:42:56.738Z"
   },
   {
    "duration": 28,
    "start_time": "2023-01-13T11:53:29.538Z"
   },
   {
    "duration": 10,
    "start_time": "2023-01-13T11:53:40.661Z"
   },
   {
    "duration": 8,
    "start_time": "2023-01-13T11:55:50.213Z"
   },
   {
    "duration": 11,
    "start_time": "2023-01-13T11:58:19.983Z"
   },
   {
    "duration": 21,
    "start_time": "2023-01-13T12:01:33.084Z"
   },
   {
    "duration": 8,
    "start_time": "2023-01-13T12:01:36.213Z"
   },
   {
    "duration": 4,
    "start_time": "2023-01-13T12:02:10.898Z"
   },
   {
    "duration": 665,
    "start_time": "2023-01-13T12:02:15.582Z"
   },
   {
    "duration": 13,
    "start_time": "2023-01-13T12:02:20.862Z"
   },
   {
    "duration": 1521,
    "start_time": "2023-01-13T12:02:34.173Z"
   },
   {
    "duration": 643,
    "start_time": "2023-01-13T12:02:37.303Z"
   },
   {
    "duration": 14,
    "start_time": "2023-01-13T12:02:41.338Z"
   },
   {
    "duration": 12,
    "start_time": "2023-01-13T12:02:54.577Z"
   },
   {
    "duration": 5,
    "start_time": "2023-01-13T12:03:07.563Z"
   },
   {
    "duration": 11,
    "start_time": "2023-01-13T12:03:12.568Z"
   },
   {
    "duration": 22,
    "start_time": "2023-01-13T12:03:15.357Z"
   },
   {
    "duration": 9,
    "start_time": "2023-01-13T12:03:17.841Z"
   },
   {
    "duration": 9,
    "start_time": "2023-01-13T12:03:44.799Z"
   },
   {
    "duration": 19,
    "start_time": "2023-01-13T12:03:50.595Z"
   },
   {
    "duration": 9,
    "start_time": "2023-01-13T12:03:54.517Z"
   },
   {
    "duration": 10,
    "start_time": "2023-01-13T12:04:18.421Z"
   },
   {
    "duration": 8,
    "start_time": "2023-01-13T12:04:22.003Z"
   },
   {
    "duration": 9,
    "start_time": "2023-01-13T12:04:32.037Z"
   },
   {
    "duration": 7,
    "start_time": "2023-01-13T12:04:39.808Z"
   },
   {
    "duration": 10,
    "start_time": "2023-01-13T12:04:46.173Z"
   },
   {
    "duration": 5,
    "start_time": "2023-01-13T12:04:51.172Z"
   },
   {
    "duration": 53,
    "start_time": "2023-01-13T12:05:06.338Z"
   },
   {
    "duration": 24,
    "start_time": "2023-01-13T12:05:12.997Z"
   },
   {
    "duration": 16,
    "start_time": "2023-01-13T12:05:24.642Z"
   },
   {
    "duration": 1390,
    "start_time": "2023-01-13T12:06:04.480Z"
   },
   {
    "duration": 681,
    "start_time": "2023-01-13T12:06:13.387Z"
   },
   {
    "duration": 19,
    "start_time": "2023-01-13T12:06:20.202Z"
   },
   {
    "duration": 9,
    "start_time": "2023-01-13T12:06:43.680Z"
   },
   {
    "duration": 6,
    "start_time": "2023-01-13T12:06:49.643Z"
   },
   {
    "duration": 54,
    "start_time": "2023-01-13T12:06:56.402Z"
   },
   {
    "duration": 10,
    "start_time": "2023-01-13T12:07:05.632Z"
   },
   {
    "duration": 21,
    "start_time": "2023-01-13T12:07:08.454Z"
   },
   {
    "duration": 13,
    "start_time": "2023-01-13T12:12:09.472Z"
   },
   {
    "duration": 102,
    "start_time": "2023-01-13T12:12:40.130Z"
   },
   {
    "duration": 11,
    "start_time": "2023-01-13T12:12:58.646Z"
   },
   {
    "duration": 15,
    "start_time": "2023-01-13T12:13:07.142Z"
   },
   {
    "duration": 1467,
    "start_time": "2023-01-13T12:25:42.562Z"
   },
   {
    "duration": 651,
    "start_time": "2023-01-13T12:25:47.557Z"
   },
   {
    "duration": 126,
    "start_time": "2023-01-13T12:25:51.758Z"
   },
   {
    "duration": 13,
    "start_time": "2023-01-13T12:25:56.155Z"
   },
   {
    "duration": 9,
    "start_time": "2023-01-13T12:26:00.755Z"
   },
   {
    "duration": 5,
    "start_time": "2023-01-13T12:26:10.069Z"
   },
   {
    "duration": 56,
    "start_time": "2023-01-13T12:26:30.419Z"
   },
   {
    "duration": 6,
    "start_time": "2023-01-13T12:26:40.736Z"
   },
   {
    "duration": 10,
    "start_time": "2023-01-13T12:26:48.739Z"
   },
   {
    "duration": 6,
    "start_time": "2023-01-13T12:26:51.296Z"
   },
   {
    "duration": 7,
    "start_time": "2023-01-13T12:27:00.136Z"
   },
   {
    "duration": 9,
    "start_time": "2023-01-13T12:27:11.911Z"
   },
   {
    "duration": 11,
    "start_time": "2023-01-13T12:27:16.796Z"
   },
   {
    "duration": 5,
    "start_time": "2023-01-13T12:27:20.676Z"
   },
   {
    "duration": 9,
    "start_time": "2023-01-13T12:27:24.667Z"
   },
   {
    "duration": 8,
    "start_time": "2023-01-13T12:27:31.067Z"
   },
   {
    "duration": 9,
    "start_time": "2023-01-13T12:27:37.065Z"
   },
   {
    "duration": 115,
    "start_time": "2023-01-13T12:31:17.330Z"
   },
   {
    "duration": 1524,
    "start_time": "2023-01-13T12:32:00.526Z"
   },
   {
    "duration": 700,
    "start_time": "2023-01-13T12:32:05.754Z"
   },
   {
    "duration": 138,
    "start_time": "2023-01-13T12:32:08.350Z"
   },
   {
    "duration": 19,
    "start_time": "2023-01-13T12:32:12.194Z"
   },
   {
    "duration": 18,
    "start_time": "2023-01-13T12:32:17.969Z"
   },
   {
    "duration": 4,
    "start_time": "2023-01-13T12:32:21.768Z"
   },
   {
    "duration": 8,
    "start_time": "2023-01-13T12:32:32.495Z"
   },
   {
    "duration": 14,
    "start_time": "2023-01-13T12:33:13.361Z"
   },
   {
    "duration": 11,
    "start_time": "2023-01-13T12:33:36.141Z"
   },
   {
    "duration": 12,
    "start_time": "2023-01-13T12:33:39.522Z"
   },
   {
    "duration": 13,
    "start_time": "2023-01-13T12:33:45.939Z"
   },
   {
    "duration": 9,
    "start_time": "2023-01-13T12:33:51.794Z"
   },
   {
    "duration": 8,
    "start_time": "2023-01-13T12:33:55.615Z"
   },
   {
    "duration": 6,
    "start_time": "2023-01-13T12:34:02.511Z"
   },
   {
    "duration": 8,
    "start_time": "2023-01-13T12:34:11.330Z"
   },
   {
    "duration": 2770,
    "start_time": "2023-01-13T12:45:24.173Z"
   },
   {
    "duration": 986,
    "start_time": "2023-01-13T12:49:02.788Z"
   },
   {
    "duration": 332,
    "start_time": "2023-01-13T12:54:54.687Z"
   },
   {
    "duration": 280,
    "start_time": "2023-01-13T12:55:22.396Z"
   },
   {
    "duration": 612,
    "start_time": "2023-01-13T12:56:18.860Z"
   },
   {
    "duration": 615,
    "start_time": "2023-01-13T12:57:43.710Z"
   },
   {
    "duration": 839,
    "start_time": "2023-01-13T12:58:33.604Z"
   },
   {
    "duration": 1119,
    "start_time": "2023-01-13T13:01:11.699Z"
   },
   {
    "duration": 918,
    "start_time": "2023-01-13T13:01:29.895Z"
   },
   {
    "duration": 939,
    "start_time": "2023-01-13T13:05:25.845Z"
   },
   {
    "duration": 865,
    "start_time": "2023-01-13T13:07:56.552Z"
   },
   {
    "duration": 864,
    "start_time": "2023-01-13T13:10:19.780Z"
   },
   {
    "duration": 325,
    "start_time": "2023-01-13T13:11:51.658Z"
   },
   {
    "duration": 127,
    "start_time": "2023-01-13T13:12:02.237Z"
   },
   {
    "duration": 852,
    "start_time": "2023-01-13T13:12:30.860Z"
   },
   {
    "duration": 3,
    "start_time": "2023-01-13T13:13:41.851Z"
   },
   {
    "duration": 311,
    "start_time": "2023-01-13T13:19:33.899Z"
   },
   {
    "duration": 248,
    "start_time": "2023-01-13T13:21:32.607Z"
   },
   {
    "duration": 78,
    "start_time": "2023-01-13T13:22:21.426Z"
   },
   {
    "duration": 81,
    "start_time": "2023-01-13T13:23:45.057Z"
   },
   {
    "duration": 889,
    "start_time": "2023-01-13T13:25:20.922Z"
   },
   {
    "duration": 213,
    "start_time": "2023-01-13T13:31:49.456Z"
   },
   {
    "duration": 6,
    "start_time": "2023-01-13T13:31:55.708Z"
   },
   {
    "duration": 847,
    "start_time": "2023-01-13T13:32:01.192Z"
   },
   {
    "duration": 80,
    "start_time": "2023-01-13T13:52:14.750Z"
   },
   {
    "duration": 267,
    "start_time": "2023-01-13T13:52:22.936Z"
   },
   {
    "duration": 916,
    "start_time": "2023-01-13T13:54:19.409Z"
   },
   {
    "duration": 90,
    "start_time": "2023-01-13T13:58:40.631Z"
   },
   {
    "duration": 255,
    "start_time": "2023-01-13T13:58:47.513Z"
   },
   {
    "duration": 274,
    "start_time": "2023-01-13T14:16:28.155Z"
   },
   {
    "duration": 86,
    "start_time": "2023-01-13T14:16:49.172Z"
   },
   {
    "duration": 1212,
    "start_time": "2023-01-13T14:16:58.771Z"
   },
   {
    "duration": 1132,
    "start_time": "2023-01-13T21:09:29.012Z"
   },
   {
    "duration": 4,
    "start_time": "2023-01-13T21:09:46.416Z"
   },
   {
    "duration": 10,
    "start_time": "2023-01-13T21:09:58.383Z"
   },
   {
    "duration": 142,
    "start_time": "2023-01-13T21:18:57.148Z"
   },
   {
    "duration": 922,
    "start_time": "2023-01-13T21:19:06.430Z"
   },
   {
    "duration": 1101,
    "start_time": "2023-01-13T21:20:21.373Z"
   },
   {
    "duration": 1151,
    "start_time": "2023-01-13T21:20:49.368Z"
   },
   {
    "duration": 912,
    "start_time": "2023-01-13T21:21:08.179Z"
   },
   {
    "duration": 1100,
    "start_time": "2023-01-13T21:21:16.165Z"
   },
   {
    "duration": 1066,
    "start_time": "2023-01-13T21:21:51.871Z"
   },
   {
    "duration": 1047,
    "start_time": "2023-01-13T21:22:30.460Z"
   },
   {
    "duration": 1021,
    "start_time": "2023-01-13T21:23:10.191Z"
   },
   {
    "duration": 1025,
    "start_time": "2023-01-13T21:23:50.272Z"
   },
   {
    "duration": 2969,
    "start_time": "2023-01-13T21:26:22.692Z"
   },
   {
    "duration": 3350,
    "start_time": "2023-01-13T21:26:49.777Z"
   },
   {
    "duration": 3323,
    "start_time": "2023-01-13T21:28:14.595Z"
   },
   {
    "duration": 3177,
    "start_time": "2023-01-13T21:28:50.167Z"
   },
   {
    "duration": 3035,
    "start_time": "2023-01-13T21:31:06.565Z"
   },
   {
    "duration": 3091,
    "start_time": "2023-01-13T21:40:30.104Z"
   },
   {
    "duration": 3220,
    "start_time": "2023-01-13T21:41:02.300Z"
   },
   {
    "duration": 3094,
    "start_time": "2023-01-13T21:41:39.341Z"
   },
   {
    "duration": 3300,
    "start_time": "2023-01-13T21:44:51.242Z"
   },
   {
    "duration": 3063,
    "start_time": "2023-01-13T21:45:20.451Z"
   },
   {
    "duration": 66,
    "start_time": "2023-01-13T21:59:04.069Z"
   },
   {
    "duration": 70,
    "start_time": "2023-01-13T21:59:13.126Z"
   },
   {
    "duration": 3070,
    "start_time": "2023-01-13T21:59:24.699Z"
   },
   {
    "duration": 1355,
    "start_time": "2023-01-13T22:00:15.765Z"
   },
   {
    "duration": 662,
    "start_time": "2023-01-13T22:00:17.123Z"
   },
   {
    "duration": 108,
    "start_time": "2023-01-13T22:00:17.787Z"
   },
   {
    "duration": 12,
    "start_time": "2023-01-13T22:00:17.896Z"
   },
   {
    "duration": 9,
    "start_time": "2023-01-13T22:00:17.910Z"
   },
   {
    "duration": 6,
    "start_time": "2023-01-13T22:00:17.921Z"
   },
   {
    "duration": 9,
    "start_time": "2023-01-13T22:00:17.928Z"
   },
   {
    "duration": 5,
    "start_time": "2023-01-13T22:00:17.938Z"
   },
   {
    "duration": 14,
    "start_time": "2023-01-13T22:00:17.944Z"
   },
   {
    "duration": 10,
    "start_time": "2023-01-13T22:00:17.979Z"
   },
   {
    "duration": 13,
    "start_time": "2023-01-13T22:00:17.991Z"
   },
   {
    "duration": 232,
    "start_time": "2023-01-13T22:00:18.006Z"
   },
   {
    "duration": 3,
    "start_time": "2023-01-13T22:00:18.240Z"
   },
   {
    "duration": 2981,
    "start_time": "2023-01-13T22:00:18.245Z"
   },
   {
    "duration": 3,
    "start_time": "2023-01-13T22:00:21.227Z"
   },
   {
    "duration": 926,
    "start_time": "2023-01-13T22:00:21.232Z"
   },
   {
    "duration": 6,
    "start_time": "2023-01-13T22:00:22.160Z"
   },
   {
    "duration": 823,
    "start_time": "2023-01-13T22:00:22.168Z"
   },
   {
    "duration": 24,
    "start_time": "2023-01-13T22:00:22.993Z"
   },
   {
    "duration": 4,
    "start_time": "2023-01-13T22:00:23.018Z"
   },
   {
    "duration": 9,
    "start_time": "2023-01-13T22:00:23.023Z"
   },
   {
    "duration": 16,
    "start_time": "2023-01-13T22:00:23.034Z"
   },
   {
    "duration": 57,
    "start_time": "2023-01-13T22:00:23.052Z"
   },
   {
    "duration": 1672,
    "start_time": "2023-01-13T22:00:23.111Z"
   },
   {
    "duration": 15695,
    "start_time": "2023-01-13T22:00:24.785Z"
   },
   {
    "duration": 64880,
    "start_time": "2023-01-13T22:00:40.482Z"
   },
   {
    "duration": 1308,
    "start_time": "2023-01-13T22:01:45.364Z"
   },
   {
    "duration": 8,
    "start_time": "2023-01-13T22:01:46.677Z"
   },
   {
    "duration": 1588,
    "start_time": "2023-01-13T22:06:14.196Z"
   },
   {
    "duration": 1461,
    "start_time": "2023-01-13T22:06:49.479Z"
   },
   {
    "duration": 1482,
    "start_time": "2023-01-13T22:07:11.155Z"
   },
   {
    "duration": 1556,
    "start_time": "2023-01-13T22:07:20.475Z"
   },
   {
    "duration": 1433,
    "start_time": "2023-01-13T22:07:35.411Z"
   },
   {
    "duration": 1422,
    "start_time": "2023-01-13T22:07:58.993Z"
   },
   {
    "duration": 656,
    "start_time": "2023-01-13T22:08:00.417Z"
   },
   {
    "duration": 121,
    "start_time": "2023-01-13T22:08:01.074Z"
   },
   {
    "duration": 13,
    "start_time": "2023-01-13T22:08:01.197Z"
   },
   {
    "duration": 61,
    "start_time": "2023-01-13T22:08:01.212Z"
   },
   {
    "duration": 42,
    "start_time": "2023-01-13T22:08:01.274Z"
   },
   {
    "duration": 53,
    "start_time": "2023-01-13T22:08:01.318Z"
   },
   {
    "duration": 45,
    "start_time": "2023-01-13T22:08:01.373Z"
   },
   {
    "duration": 83,
    "start_time": "2023-01-13T22:08:01.420Z"
   },
   {
    "duration": 57,
    "start_time": "2023-01-13T22:08:01.505Z"
   },
   {
    "duration": 63,
    "start_time": "2023-01-13T22:08:01.563Z"
   },
   {
    "duration": 291,
    "start_time": "2023-01-13T22:08:01.627Z"
   },
   {
    "duration": 3,
    "start_time": "2023-01-13T22:08:01.919Z"
   },
   {
    "duration": 3010,
    "start_time": "2023-01-13T22:08:01.923Z"
   },
   {
    "duration": 3,
    "start_time": "2023-01-13T22:08:04.934Z"
   },
   {
    "duration": 951,
    "start_time": "2023-01-13T22:08:04.939Z"
   },
   {
    "duration": 6,
    "start_time": "2023-01-13T22:08:05.891Z"
   },
   {
    "duration": 914,
    "start_time": "2023-01-13T22:08:05.899Z"
   },
   {
    "duration": 25,
    "start_time": "2023-01-13T22:08:06.815Z"
   },
   {
    "duration": 15,
    "start_time": "2023-01-13T22:08:06.842Z"
   },
   {
    "duration": 41,
    "start_time": "2023-01-13T22:08:06.858Z"
   },
   {
    "duration": 24,
    "start_time": "2023-01-13T22:08:06.901Z"
   },
   {
    "duration": 66,
    "start_time": "2023-01-13T22:08:06.927Z"
   },
   {
    "duration": 2184,
    "start_time": "2023-01-13T22:08:06.995Z"
   },
   {
    "duration": 15569,
    "start_time": "2023-01-13T22:08:09.181Z"
   },
   {
    "duration": 49841,
    "start_time": "2023-01-13T22:08:24.752Z"
   },
   {
    "duration": 0,
    "start_time": "2023-01-13T22:09:14.594Z"
   },
   {
    "duration": 0,
    "start_time": "2023-01-13T22:09:14.596Z"
   },
   {
    "duration": 0,
    "start_time": "2023-01-13T22:09:14.597Z"
   },
   {
    "duration": 1582,
    "start_time": "2023-01-13T22:09:22.973Z"
   },
   {
    "duration": 1336,
    "start_time": "2023-01-13T22:09:47.667Z"
   },
   {
    "duration": 717,
    "start_time": "2023-01-13T22:09:52.866Z"
   },
   {
    "duration": 13,
    "start_time": "2023-01-13T22:09:59.738Z"
   },
   {
    "duration": 10,
    "start_time": "2023-01-13T22:10:11.686Z"
   },
   {
    "duration": 10,
    "start_time": "2023-01-13T22:10:15.186Z"
   },
   {
    "duration": 2978,
    "start_time": "2023-01-13T22:10:23.181Z"
   },
   {
    "duration": 3087,
    "start_time": "2023-01-13T22:10:39.140Z"
   },
   {
    "duration": 3045,
    "start_time": "2023-01-13T22:13:27.959Z"
   },
   {
    "duration": 3019,
    "start_time": "2023-01-13T22:14:05.254Z"
   },
   {
    "duration": 3026,
    "start_time": "2023-01-13T22:14:20.034Z"
   },
   {
    "duration": 1054,
    "start_time": "2023-01-13T22:14:36.398Z"
   },
   {
    "duration": 1232,
    "start_time": "2023-01-13T22:14:50.237Z"
   },
   {
    "duration": 2968,
    "start_time": "2023-01-13T22:15:09.829Z"
   },
   {
    "duration": 3168,
    "start_time": "2023-01-13T22:15:25.257Z"
   },
   {
    "duration": 2981,
    "start_time": "2023-01-13T22:15:36.034Z"
   },
   {
    "duration": 3067,
    "start_time": "2023-01-13T22:15:51.043Z"
   },
   {
    "duration": 2996,
    "start_time": "2023-01-13T22:16:21.134Z"
   },
   {
    "duration": 838,
    "start_time": "2023-01-13T22:24:17.415Z"
   },
   {
    "duration": 3,
    "start_time": "2023-01-13T22:37:51.293Z"
   },
   {
    "duration": 4,
    "start_time": "2023-01-13T22:38:12.860Z"
   },
   {
    "duration": 95,
    "start_time": "2023-01-13T22:38:20.172Z"
   },
   {
    "duration": 3047,
    "start_time": "2023-01-13T22:39:22.773Z"
   },
   {
    "duration": 183,
    "start_time": "2023-01-13T22:40:05.557Z"
   },
   {
    "duration": 6,
    "start_time": "2023-01-13T22:40:19.408Z"
   },
   {
    "duration": 915,
    "start_time": "2023-01-13T22:40:27.028Z"
   },
   {
    "duration": 6,
    "start_time": "2023-01-13T22:40:45.572Z"
   },
   {
    "duration": 821,
    "start_time": "2023-01-13T22:40:53.113Z"
   },
   {
    "duration": 24,
    "start_time": "2023-01-13T22:40:58.235Z"
   },
   {
    "duration": 8,
    "start_time": "2023-01-13T22:41:04.413Z"
   },
   {
    "duration": 839,
    "start_time": "2023-01-13T22:41:11.453Z"
   },
   {
    "duration": 70,
    "start_time": "2023-01-13T22:41:26.621Z"
   },
   {
    "duration": 64,
    "start_time": "2023-01-13T22:41:37.573Z"
   },
   {
    "duration": 65,
    "start_time": "2023-01-13T22:41:51.008Z"
   },
   {
    "duration": 2931,
    "start_time": "2023-01-13T22:42:15.673Z"
   },
   {
    "duration": 78,
    "start_time": "2023-01-13T22:43:41.514Z"
   },
   {
    "duration": 88,
    "start_time": "2023-01-13T22:44:46.706Z"
   },
   {
    "duration": 71,
    "start_time": "2023-01-13T22:45:10.035Z"
   },
   {
    "duration": 78,
    "start_time": "2023-01-13T22:46:37.971Z"
   },
   {
    "duration": 72,
    "start_time": "2023-01-13T22:47:21.239Z"
   },
   {
    "duration": 19,
    "start_time": "2023-01-13T22:48:51.304Z"
   },
   {
    "duration": 1484,
    "start_time": "2023-01-13T22:49:27.179Z"
   },
   {
    "duration": 699,
    "start_time": "2023-01-13T22:49:28.665Z"
   },
   {
    "duration": 117,
    "start_time": "2023-01-13T22:49:29.365Z"
   },
   {
    "duration": 14,
    "start_time": "2023-01-13T22:49:29.484Z"
   },
   {
    "duration": 14,
    "start_time": "2023-01-13T22:49:29.500Z"
   },
   {
    "duration": 6,
    "start_time": "2023-01-13T22:49:29.516Z"
   },
   {
    "duration": 6,
    "start_time": "2023-01-13T22:49:29.524Z"
   },
   {
    "duration": 7,
    "start_time": "2023-01-13T22:49:29.532Z"
   },
   {
    "duration": 13,
    "start_time": "2023-01-13T22:49:29.540Z"
   },
   {
    "duration": 31,
    "start_time": "2023-01-13T22:49:29.556Z"
   },
   {
    "duration": 12,
    "start_time": "2023-01-13T22:49:29.589Z"
   },
   {
    "duration": 265,
    "start_time": "2023-01-13T22:49:29.602Z"
   },
   {
    "duration": 11,
    "start_time": "2023-01-13T22:49:29.868Z"
   },
   {
    "duration": 2981,
    "start_time": "2023-01-13T22:49:29.880Z"
   },
   {
    "duration": 4,
    "start_time": "2023-01-13T22:49:32.863Z"
   },
   {
    "duration": 878,
    "start_time": "2023-01-13T22:49:32.869Z"
   },
   {
    "duration": 8,
    "start_time": "2023-01-13T22:49:33.749Z"
   },
   {
    "duration": 836,
    "start_time": "2023-01-13T22:49:33.758Z"
   },
   {
    "duration": 2,
    "start_time": "2023-01-13T22:49:34.595Z"
   },
   {
    "duration": 37,
    "start_time": "2023-01-13T22:49:34.599Z"
   },
   {
    "duration": 3,
    "start_time": "2023-01-13T22:49:34.638Z"
   },
   {
    "duration": 12,
    "start_time": "2023-01-13T22:49:34.643Z"
   },
   {
    "duration": 20,
    "start_time": "2023-01-13T22:49:34.656Z"
   },
   {
    "duration": 46,
    "start_time": "2023-01-13T22:49:34.678Z"
   },
   {
    "duration": 1954,
    "start_time": "2023-01-13T22:49:34.726Z"
   },
   {
    "duration": 14961,
    "start_time": "2023-01-13T22:49:36.683Z"
   },
   {
    "duration": 0,
    "start_time": "2023-01-13T22:49:51.646Z"
   },
   {
    "duration": 0,
    "start_time": "2023-01-13T22:49:51.647Z"
   },
   {
    "duration": 0,
    "start_time": "2023-01-13T22:49:51.648Z"
   },
   {
    "duration": 1151,
    "start_time": "2023-01-13T22:49:57.467Z"
   },
   {
    "duration": 1293,
    "start_time": "2023-01-13T22:50:31.915Z"
   },
   {
    "duration": 668,
    "start_time": "2023-01-13T22:50:36.786Z"
   },
   {
    "duration": 14,
    "start_time": "2023-01-13T22:50:41.919Z"
   },
   {
    "duration": 10,
    "start_time": "2023-01-13T22:50:56.094Z"
   },
   {
    "duration": 12,
    "start_time": "2023-01-13T22:51:04.550Z"
   },
   {
    "duration": 9,
    "start_time": "2023-01-13T22:51:21.916Z"
   },
   {
    "duration": 823,
    "start_time": "2023-01-13T22:51:33.788Z"
   },
   {
    "duration": 29,
    "start_time": "2023-01-13T22:51:39.562Z"
   },
   {
    "duration": 6,
    "start_time": "2023-01-13T22:51:46.263Z"
   },
   {
    "duration": 840,
    "start_time": "2023-01-13T22:51:49.876Z"
   },
   {
    "duration": 19,
    "start_time": "2023-01-13T22:53:16.260Z"
   },
   {
    "duration": 5,
    "start_time": "2023-01-13T22:53:47.120Z"
   },
   {
    "duration": 85,
    "start_time": "2023-01-13T23:03:52.900Z"
   },
   {
    "duration": 106,
    "start_time": "2023-01-13T23:04:04.225Z"
   },
   {
    "duration": 1381,
    "start_time": "2023-01-13T23:05:26.494Z"
   },
   {
    "duration": 726,
    "start_time": "2023-01-13T23:05:27.877Z"
   },
   {
    "duration": 122,
    "start_time": "2023-01-13T23:05:28.604Z"
   },
   {
    "duration": 14,
    "start_time": "2023-01-13T23:05:28.728Z"
   },
   {
    "duration": 35,
    "start_time": "2023-01-13T23:05:28.744Z"
   },
   {
    "duration": 4,
    "start_time": "2023-01-13T23:05:28.781Z"
   },
   {
    "duration": 8,
    "start_time": "2023-01-13T23:05:28.787Z"
   },
   {
    "duration": 5,
    "start_time": "2023-01-13T23:05:28.797Z"
   },
   {
    "duration": 14,
    "start_time": "2023-01-13T23:05:28.804Z"
   },
   {
    "duration": 12,
    "start_time": "2023-01-13T23:05:28.821Z"
   },
   {
    "duration": 12,
    "start_time": "2023-01-13T23:05:28.835Z"
   },
   {
    "duration": 269,
    "start_time": "2023-01-13T23:05:28.849Z"
   },
   {
    "duration": 3,
    "start_time": "2023-01-13T23:05:29.120Z"
   },
   {
    "duration": 2986,
    "start_time": "2023-01-13T23:05:29.124Z"
   },
   {
    "duration": 3,
    "start_time": "2023-01-13T23:05:32.111Z"
   },
   {
    "duration": 939,
    "start_time": "2023-01-13T23:05:32.115Z"
   },
   {
    "duration": 7,
    "start_time": "2023-01-13T23:05:33.056Z"
   },
   {
    "duration": 864,
    "start_time": "2023-01-13T23:05:33.065Z"
   },
   {
    "duration": 3,
    "start_time": "2023-01-13T23:05:33.931Z"
   },
   {
    "duration": 70,
    "start_time": "2023-01-13T23:05:33.936Z"
   },
   {
    "duration": 4,
    "start_time": "2023-01-13T23:05:34.008Z"
   },
   {
    "duration": 1300,
    "start_time": "2023-01-13T23:06:07.115Z"
   },
   {
    "duration": 659,
    "start_time": "2023-01-13T23:06:08.417Z"
   },
   {
    "duration": 116,
    "start_time": "2023-01-13T23:06:09.078Z"
   },
   {
    "duration": 13,
    "start_time": "2023-01-13T23:06:09.196Z"
   },
   {
    "duration": 12,
    "start_time": "2023-01-13T23:06:09.211Z"
   },
   {
    "duration": 10,
    "start_time": "2023-01-13T23:06:09.224Z"
   },
   {
    "duration": 14,
    "start_time": "2023-01-13T23:06:09.235Z"
   },
   {
    "duration": 9,
    "start_time": "2023-01-13T23:06:09.251Z"
   },
   {
    "duration": 16,
    "start_time": "2023-01-13T23:06:09.262Z"
   },
   {
    "duration": 23,
    "start_time": "2023-01-13T23:06:09.281Z"
   },
   {
    "duration": 17,
    "start_time": "2023-01-13T23:06:09.306Z"
   },
   {
    "duration": 232,
    "start_time": "2023-01-13T23:06:09.325Z"
   },
   {
    "duration": 2,
    "start_time": "2023-01-13T23:06:09.559Z"
   },
   {
    "duration": 2973,
    "start_time": "2023-01-13T23:06:09.563Z"
   },
   {
    "duration": 3,
    "start_time": "2023-01-13T23:06:12.538Z"
   },
   {
    "duration": 920,
    "start_time": "2023-01-13T23:06:12.543Z"
   },
   {
    "duration": 13,
    "start_time": "2023-01-13T23:06:13.465Z"
   },
   {
    "duration": 829,
    "start_time": "2023-01-13T23:06:13.479Z"
   },
   {
    "duration": 3,
    "start_time": "2023-01-13T23:06:14.310Z"
   },
   {
    "duration": 55,
    "start_time": "2023-01-13T23:06:14.315Z"
   },
   {
    "duration": 4,
    "start_time": "2023-01-13T23:06:14.372Z"
   },
   {
    "duration": 5,
    "start_time": "2023-01-13T23:06:21.831Z"
   },
   {
    "duration": 102,
    "start_time": "2023-01-13T23:06:26.605Z"
   },
   {
    "duration": 11,
    "start_time": "2023-01-13T23:07:05.214Z"
   },
   {
    "duration": 10,
    "start_time": "2023-01-13T23:07:21.463Z"
   },
   {
    "duration": 10,
    "start_time": "2023-01-13T23:07:48.859Z"
   },
   {
    "duration": 16,
    "start_time": "2023-01-13T23:12:26.634Z"
   },
   {
    "duration": 12,
    "start_time": "2023-01-13T23:13:05.696Z"
   },
   {
    "duration": 10,
    "start_time": "2023-01-13T23:13:20.062Z"
   },
   {
    "duration": 12,
    "start_time": "2023-01-13T23:16:49.671Z"
   },
   {
    "duration": 10,
    "start_time": "2023-01-13T23:16:56.453Z"
   },
   {
    "duration": 1342,
    "start_time": "2023-01-13T23:17:21.757Z"
   },
   {
    "duration": 636,
    "start_time": "2023-01-13T23:17:23.101Z"
   },
   {
    "duration": 99,
    "start_time": "2023-01-13T23:17:23.739Z"
   },
   {
    "duration": 13,
    "start_time": "2023-01-13T23:17:23.840Z"
   },
   {
    "duration": 37,
    "start_time": "2023-01-13T23:17:23.854Z"
   },
   {
    "duration": 17,
    "start_time": "2023-01-13T23:17:23.896Z"
   },
   {
    "duration": 10,
    "start_time": "2023-01-13T23:17:23.915Z"
   },
   {
    "duration": 6,
    "start_time": "2023-01-13T23:17:23.927Z"
   },
   {
    "duration": 17,
    "start_time": "2023-01-13T23:17:23.934Z"
   },
   {
    "duration": 31,
    "start_time": "2023-01-13T23:17:23.955Z"
   },
   {
    "duration": 17,
    "start_time": "2023-01-13T23:17:23.987Z"
   },
   {
    "duration": 232,
    "start_time": "2023-01-13T23:17:24.006Z"
   },
   {
    "duration": 3,
    "start_time": "2023-01-13T23:17:24.239Z"
   },
   {
    "duration": 3026,
    "start_time": "2023-01-13T23:17:24.243Z"
   },
   {
    "duration": 3,
    "start_time": "2023-01-13T23:17:27.271Z"
   },
   {
    "duration": 908,
    "start_time": "2023-01-13T23:17:27.278Z"
   },
   {
    "duration": 7,
    "start_time": "2023-01-13T23:17:28.188Z"
   },
   {
    "duration": 830,
    "start_time": "2023-01-13T23:17:28.197Z"
   },
   {
    "duration": 2,
    "start_time": "2023-01-13T23:17:29.029Z"
   },
   {
    "duration": 38,
    "start_time": "2023-01-13T23:17:29.032Z"
   },
   {
    "duration": 7,
    "start_time": "2023-01-13T23:17:29.072Z"
   },
   {
    "duration": 5,
    "start_time": "2023-01-13T23:17:38.255Z"
   },
   {
    "duration": 101,
    "start_time": "2023-01-13T23:17:43.208Z"
   },
   {
    "duration": 10,
    "start_time": "2023-01-13T23:18:25.019Z"
   },
   {
    "duration": 824,
    "start_time": "2023-01-13T23:36:44.989Z"
   },
   {
    "duration": 1199,
    "start_time": "2023-01-13T23:37:07.593Z"
   },
   {
    "duration": 5,
    "start_time": "2023-01-13T23:38:25.413Z"
   },
   {
    "duration": 16,
    "start_time": "2023-01-13T23:38:26.170Z"
   },
   {
    "duration": 15,
    "start_time": "2023-01-13T23:38:32.813Z"
   },
   {
    "duration": 10,
    "start_time": "2023-01-13T23:39:58.312Z"
   },
   {
    "duration": 19,
    "start_time": "2023-01-13T23:40:13.562Z"
   },
   {
    "duration": 42,
    "start_time": "2023-01-13T23:40:27.683Z"
   },
   {
    "duration": 10,
    "start_time": "2023-01-13T23:40:44.319Z"
   },
   {
    "duration": 7,
    "start_time": "2023-01-13T23:40:58.110Z"
   },
   {
    "duration": 10,
    "start_time": "2023-01-13T23:41:11.354Z"
   },
   {
    "duration": 73,
    "start_time": "2023-01-13T23:41:43.712Z"
   },
   {
    "duration": 10,
    "start_time": "2023-01-13T23:46:01.300Z"
   },
   {
    "duration": 40,
    "start_time": "2023-01-13T23:46:07.912Z"
   },
   {
    "duration": 1971,
    "start_time": "2023-01-13T23:46:11.408Z"
   },
   {
    "duration": 15238,
    "start_time": "2023-01-13T23:46:21.213Z"
   },
   {
    "duration": 63396,
    "start_time": "2023-01-14T00:04:03.089Z"
   },
   {
    "duration": 10,
    "start_time": "2023-01-14T00:05:45.955Z"
   },
   {
    "duration": 4,
    "start_time": "2023-01-14T00:06:10.912Z"
   },
   {
    "duration": 26746,
    "start_time": "2023-01-14T00:06:19.119Z"
   },
   {
    "duration": 7164,
    "start_time": "2023-01-14T00:07:17.943Z"
   },
   {
    "duration": 7255,
    "start_time": "2023-01-14T00:08:07.313Z"
   },
   {
    "duration": 6875,
    "start_time": "2023-01-14T00:08:42.125Z"
   },
   {
    "duration": 7630,
    "start_time": "2023-01-14T00:14:49.174Z"
   },
   {
    "duration": 4,
    "start_time": "2023-01-14T00:16:27.641Z"
   },
   {
    "duration": 2250,
    "start_time": "2023-01-14T00:16:42.029Z"
   },
   {
    "duration": 1700,
    "start_time": "2023-01-14T00:17:41.779Z"
   },
   {
    "duration": 14952,
    "start_time": "2023-01-14T00:17:55.485Z"
   },
   {
    "duration": 6944,
    "start_time": "2023-01-14T00:20:31.428Z"
   },
   {
    "duration": 5192,
    "start_time": "2023-01-14T00:20:58.987Z"
   },
   {
    "duration": 4808,
    "start_time": "2023-01-14T00:21:41.943Z"
   },
   {
    "duration": 4868,
    "start_time": "2023-01-14T00:22:57.764Z"
   },
   {
    "duration": 12,
    "start_time": "2023-01-14T00:23:50.688Z"
   },
   {
    "duration": 19082,
    "start_time": "2023-01-14T00:28:15.651Z"
   },
   {
    "duration": 57,
    "start_time": "2023-01-14T00:31:30.483Z"
   },
   {
    "duration": 53,
    "start_time": "2023-01-14T00:32:15.916Z"
   },
   {
    "duration": 54,
    "start_time": "2023-01-14T00:32:37.853Z"
   },
   {
    "duration": 48,
    "start_time": "2023-01-14T00:33:05.601Z"
   },
   {
    "duration": 82,
    "start_time": "2023-01-14T00:33:49.123Z"
   },
   {
    "duration": 47,
    "start_time": "2023-01-14T00:34:01.352Z"
   },
   {
    "duration": 53,
    "start_time": "2023-01-14T00:34:54.228Z"
   },
   {
    "duration": 53,
    "start_time": "2023-01-14T00:35:21.597Z"
   },
   {
    "duration": 53,
    "start_time": "2023-01-14T00:35:43.138Z"
   },
   {
    "duration": 17540,
    "start_time": "2023-01-14T00:36:01.976Z"
   },
   {
    "duration": 19352,
    "start_time": "2023-01-14T00:36:32.588Z"
   },
   {
    "duration": 18237,
    "start_time": "2023-01-14T00:38:01.029Z"
   },
   {
    "duration": 18468,
    "start_time": "2023-01-14T00:38:53.998Z"
   },
   {
    "duration": 19081,
    "start_time": "2023-01-14T00:40:43.234Z"
   },
   {
    "duration": 18868,
    "start_time": "2023-01-14T00:43:48.510Z"
   },
   {
    "duration": 15357,
    "start_time": "2023-01-14T00:44:48.991Z"
   },
   {
    "duration": 15467,
    "start_time": "2023-01-14T00:45:23.718Z"
   },
   {
    "duration": 14932,
    "start_time": "2023-01-14T00:46:33.759Z"
   },
   {
    "duration": 15478,
    "start_time": "2023-01-14T00:47:27.946Z"
   },
   {
    "duration": 31,
    "start_time": "2023-01-14T00:48:03.623Z"
   },
   {
    "duration": 29,
    "start_time": "2023-01-14T00:48:32.230Z"
   },
   {
    "duration": 16522,
    "start_time": "2023-01-14T00:48:41.967Z"
   },
   {
    "duration": 16392,
    "start_time": "2023-01-14T00:58:27.969Z"
   },
   {
    "duration": 1357,
    "start_time": "2023-01-14T01:03:02.462Z"
   },
   {
    "duration": 1391,
    "start_time": "2023-01-14T01:03:37.639Z"
   },
   {
    "duration": 3681,
    "start_time": "2023-01-14T01:04:33.420Z"
   },
   {
    "duration": 3714,
    "start_time": "2023-01-14T01:05:10.021Z"
   },
   {
    "duration": 3785,
    "start_time": "2023-01-14T01:05:48.935Z"
   },
   {
    "duration": 3719,
    "start_time": "2023-01-14T01:06:36.015Z"
   },
   {
    "duration": 25,
    "start_time": "2023-01-14T01:07:08.219Z"
   },
   {
    "duration": 25,
    "start_time": "2023-01-14T01:09:16.215Z"
   },
   {
    "duration": 3697,
    "start_time": "2023-01-14T01:12:15.628Z"
   },
   {
    "duration": 4,
    "start_time": "2023-01-14T01:12:36.580Z"
   },
   {
    "duration": 3741,
    "start_time": "2023-01-14T01:12:48.050Z"
   },
   {
    "duration": 357328,
    "start_time": "2023-01-14T01:15:03.599Z"
   },
   {
    "duration": 4742,
    "start_time": "2023-01-14T01:30:50.890Z"
   },
   {
    "duration": 6665,
    "start_time": "2023-01-14T01:31:02.124Z"
   },
   {
    "duration": 58554,
    "start_time": "2023-01-14T01:31:20.463Z"
   },
   {
    "duration": 28579,
    "start_time": "2023-01-14T01:32:46.211Z"
   },
   {
    "duration": 38716,
    "start_time": "2023-01-14T01:33:19.255Z"
   },
   {
    "duration": 38261,
    "start_time": "2023-01-14T01:34:48.867Z"
   },
   {
    "duration": 38001,
    "start_time": "2023-01-14T01:36:38.366Z"
   },
   {
    "duration": 14805,
    "start_time": "2023-01-14T01:43:07.850Z"
   },
   {
    "duration": 15504,
    "start_time": "2023-01-14T08:13:47.687Z"
   },
   {
    "duration": 95142,
    "start_time": "2023-01-14T08:14:47.542Z"
   },
   {
    "duration": 96639,
    "start_time": "2023-01-14T08:22:55.895Z"
   },
   {
    "duration": 15546,
    "start_time": "2023-01-14T08:25:45.759Z"
   },
   {
    "duration": 1427,
    "start_time": "2023-01-14T08:41:46.192Z"
   },
   {
    "duration": 676,
    "start_time": "2023-01-14T08:41:47.621Z"
   },
   {
    "duration": 118,
    "start_time": "2023-01-14T08:41:48.298Z"
   },
   {
    "duration": 13,
    "start_time": "2023-01-14T08:41:48.418Z"
   },
   {
    "duration": 15,
    "start_time": "2023-01-14T08:41:48.432Z"
   },
   {
    "duration": 29,
    "start_time": "2023-01-14T08:41:48.449Z"
   },
   {
    "duration": 27,
    "start_time": "2023-01-14T08:41:48.479Z"
   },
   {
    "duration": 12,
    "start_time": "2023-01-14T08:41:48.507Z"
   },
   {
    "duration": 12,
    "start_time": "2023-01-14T08:41:48.520Z"
   },
   {
    "duration": 18,
    "start_time": "2023-01-14T08:41:48.535Z"
   },
   {
    "duration": 10,
    "start_time": "2023-01-14T08:41:48.555Z"
   },
   {
    "duration": 223,
    "start_time": "2023-01-14T08:41:48.566Z"
   },
   {
    "duration": 3,
    "start_time": "2023-01-14T08:41:48.791Z"
   },
   {
    "duration": 3159,
    "start_time": "2023-01-14T08:41:48.795Z"
   },
   {
    "duration": 3,
    "start_time": "2023-01-14T08:41:51.956Z"
   },
   {
    "duration": 894,
    "start_time": "2023-01-14T08:41:51.960Z"
   },
   {
    "duration": 7,
    "start_time": "2023-01-14T08:41:52.856Z"
   },
   {
    "duration": 844,
    "start_time": "2023-01-14T08:41:52.865Z"
   },
   {
    "duration": 2,
    "start_time": "2023-01-14T08:41:53.711Z"
   },
   {
    "duration": 39,
    "start_time": "2023-01-14T08:41:53.714Z"
   },
   {
    "duration": 4,
    "start_time": "2023-01-14T08:41:53.755Z"
   },
   {
    "duration": 19,
    "start_time": "2023-01-14T08:41:53.760Z"
   },
   {
    "duration": 16,
    "start_time": "2023-01-14T08:41:53.781Z"
   },
   {
    "duration": 50,
    "start_time": "2023-01-14T08:41:53.799Z"
   },
   {
    "duration": 2328,
    "start_time": "2023-01-14T08:41:53.851Z"
   },
   {
    "duration": 15387,
    "start_time": "2023-01-14T08:41:56.183Z"
   },
   {
    "duration": 65269,
    "start_time": "2023-01-14T08:42:11.571Z"
   },
   {
    "duration": 15784,
    "start_time": "2023-01-14T08:43:16.843Z"
   },
   {
    "duration": 1363,
    "start_time": "2023-01-14T08:43:32.629Z"
   },
   {
    "duration": 13,
    "start_time": "2023-01-14T08:43:33.994Z"
   },
   {
    "duration": 2508,
    "start_time": "2023-01-14T08:45:44.272Z"
   },
   {
    "duration": 15861,
    "start_time": "2023-01-14T08:46:02.795Z"
   },
   {
    "duration": 83,
    "start_time": "2023-01-14T12:00:51.588Z"
   },
   {
    "duration": 66,
    "start_time": "2023-01-14T12:03:21.990Z"
   },
   {
    "duration": 60,
    "start_time": "2023-01-14T12:05:33.453Z"
   },
   {
    "duration": 2279,
    "start_time": "2023-01-14T12:08:04.288Z"
   },
   {
    "duration": 3492,
    "start_time": "2023-01-14T12:08:06.569Z"
   },
   {
    "duration": 115,
    "start_time": "2023-01-14T12:08:10.063Z"
   },
   {
    "duration": 13,
    "start_time": "2023-01-14T12:08:10.180Z"
   },
   {
    "duration": 32,
    "start_time": "2023-01-14T12:08:10.195Z"
   },
   {
    "duration": 5,
    "start_time": "2023-01-14T12:08:10.229Z"
   },
   {
    "duration": 10,
    "start_time": "2023-01-14T12:08:10.236Z"
   },
   {
    "duration": 5,
    "start_time": "2023-01-14T12:08:10.248Z"
   },
   {
    "duration": 13,
    "start_time": "2023-01-14T12:08:10.255Z"
   },
   {
    "duration": 11,
    "start_time": "2023-01-14T12:08:10.270Z"
   },
   {
    "duration": 12,
    "start_time": "2023-01-14T12:08:10.283Z"
   },
   {
    "duration": 294,
    "start_time": "2023-01-14T12:08:10.296Z"
   },
   {
    "duration": 3,
    "start_time": "2023-01-14T12:08:10.591Z"
   },
   {
    "duration": 3785,
    "start_time": "2023-01-14T12:08:10.596Z"
   },
   {
    "duration": 3,
    "start_time": "2023-01-14T12:08:14.383Z"
   },
   {
    "duration": 997,
    "start_time": "2023-01-14T12:08:14.388Z"
   },
   {
    "duration": 8,
    "start_time": "2023-01-14T12:08:15.389Z"
   },
   {
    "duration": 1003,
    "start_time": "2023-01-14T12:08:15.398Z"
   },
   {
    "duration": 3,
    "start_time": "2023-01-14T12:08:16.403Z"
   },
   {
    "duration": 39,
    "start_time": "2023-01-14T12:08:16.407Z"
   },
   {
    "duration": 10,
    "start_time": "2023-01-14T12:08:16.447Z"
   },
   {
    "duration": 11,
    "start_time": "2023-01-14T12:08:16.459Z"
   },
   {
    "duration": 16,
    "start_time": "2023-01-14T12:08:16.472Z"
   },
   {
    "duration": 58,
    "start_time": "2023-01-14T12:08:16.490Z"
   },
   {
    "duration": 5091,
    "start_time": "2023-01-14T12:08:16.551Z"
   },
   {
    "duration": 19101,
    "start_time": "2023-01-14T12:08:21.652Z"
   },
   {
    "duration": 80203,
    "start_time": "2023-01-14T12:08:40.755Z"
   },
   {
    "duration": 18250,
    "start_time": "2023-01-14T12:10:00.961Z"
   },
   {
    "duration": 5,
    "start_time": "2023-01-14T12:44:53.105Z"
   },
   {
    "duration": 4,
    "start_time": "2023-01-14T12:45:04.405Z"
   },
   {
    "duration": 73,
    "start_time": "2023-01-14T12:48:58.688Z"
   },
   {
    "duration": 116,
    "start_time": "2023-01-14T13:02:39.470Z"
   },
   {
    "duration": 132453,
    "start_time": "2023-01-14T13:03:41.613Z"
   },
   {
    "duration": 4244308,
    "start_time": "2023-01-14T13:06:19.361Z"
   },
   {
    "duration": 10,
    "start_time": "2023-01-14T14:40:47.967Z"
   },
   {
    "duration": 5,
    "start_time": "2023-01-14T14:41:31.202Z"
   },
   {
    "duration": 258,
    "start_time": "2023-01-14T14:43:39.875Z"
   },
   {
    "duration": 81,
    "start_time": "2023-01-14T14:44:15.002Z"
   },
   {
    "duration": 18,
    "start_time": "2023-01-14T14:44:21.634Z"
   },
   {
    "duration": 561,
    "start_time": "2023-01-14T14:44:37.331Z"
   },
   {
    "duration": 4,
    "start_time": "2023-01-14T14:44:41.882Z"
   },
   {
    "duration": 7,
    "start_time": "2023-01-14T14:45:42.194Z"
   },
   {
    "duration": 5,
    "start_time": "2023-01-14T14:46:01.256Z"
   },
   {
    "duration": 14,
    "start_time": "2023-01-14T14:46:07.677Z"
   },
   {
    "duration": 9,
    "start_time": "2023-01-14T14:46:13.926Z"
   },
   {
    "duration": 5852,
    "start_time": "2023-01-14T14:51:01.402Z"
   },
   {
    "duration": 6290,
    "start_time": "2023-01-14T14:51:24.664Z"
   },
   {
    "duration": 5952,
    "start_time": "2023-01-14T14:52:01.694Z"
   },
   {
    "duration": 1430,
    "start_time": "2023-01-14T14:53:34.131Z"
   },
   {
    "duration": 699,
    "start_time": "2023-01-14T14:53:35.562Z"
   },
   {
    "duration": 128,
    "start_time": "2023-01-14T14:53:36.262Z"
   },
   {
    "duration": 19,
    "start_time": "2023-01-14T14:53:36.393Z"
   },
   {
    "duration": 27,
    "start_time": "2023-01-14T14:53:36.414Z"
   },
   {
    "duration": 25,
    "start_time": "2023-01-14T14:53:36.443Z"
   },
   {
    "duration": 9,
    "start_time": "2023-01-14T14:53:36.470Z"
   },
   {
    "duration": 6,
    "start_time": "2023-01-14T14:53:36.480Z"
   },
   {
    "duration": 13,
    "start_time": "2023-01-14T14:53:36.487Z"
   },
   {
    "duration": 12,
    "start_time": "2023-01-14T14:53:36.503Z"
   },
   {
    "duration": 12,
    "start_time": "2023-01-14T14:53:36.517Z"
   },
   {
    "duration": 251,
    "start_time": "2023-01-14T14:53:36.531Z"
   },
   {
    "duration": 3,
    "start_time": "2023-01-14T14:53:36.784Z"
   },
   {
    "duration": 3556,
    "start_time": "2023-01-14T14:53:36.789Z"
   },
   {
    "duration": 3,
    "start_time": "2023-01-14T14:53:40.346Z"
   },
   {
    "duration": 922,
    "start_time": "2023-01-14T14:53:40.351Z"
   },
   {
    "duration": 7,
    "start_time": "2023-01-14T14:53:41.277Z"
   },
   {
    "duration": 803,
    "start_time": "2023-01-14T14:53:41.285Z"
   },
   {
    "duration": 3,
    "start_time": "2023-01-14T14:53:42.089Z"
   },
   {
    "duration": 32,
    "start_time": "2023-01-14T14:53:42.093Z"
   },
   {
    "duration": 3,
    "start_time": "2023-01-14T14:53:42.127Z"
   },
   {
    "duration": 7,
    "start_time": "2023-01-14T14:53:42.132Z"
   },
   {
    "duration": 18,
    "start_time": "2023-01-14T14:53:42.141Z"
   },
   {
    "duration": 50,
    "start_time": "2023-01-14T14:53:42.178Z"
   },
   {
    "duration": 2449,
    "start_time": "2023-01-14T14:53:42.230Z"
   },
   {
    "duration": 16041,
    "start_time": "2023-01-14T14:53:44.680Z"
   },
   {
    "duration": 67749,
    "start_time": "2023-01-14T14:54:00.723Z"
   },
   {
    "duration": 594,
    "start_time": "2023-01-14T14:55:08.477Z"
   },
   {
    "duration": 7,
    "start_time": "2023-01-14T14:55:09.073Z"
   },
   {
    "duration": 5866,
    "start_time": "2023-01-14T14:55:09.082Z"
   },
   {
    "duration": 1407,
    "start_time": "2023-01-14T14:55:14.949Z"
   },
   {
    "duration": 22,
    "start_time": "2023-01-14T14:55:16.358Z"
   },
   {
    "duration": 1447,
    "start_time": "2023-01-14T15:06:57.557Z"
   },
   {
    "duration": 703,
    "start_time": "2023-01-14T15:06:59.006Z"
   },
   {
    "duration": 119,
    "start_time": "2023-01-14T15:06:59.710Z"
   },
   {
    "duration": 13,
    "start_time": "2023-01-14T15:06:59.831Z"
   },
   {
    "duration": 37,
    "start_time": "2023-01-14T15:06:59.845Z"
   },
   {
    "duration": 4,
    "start_time": "2023-01-14T15:06:59.884Z"
   },
   {
    "duration": 9,
    "start_time": "2023-01-14T15:06:59.890Z"
   },
   {
    "duration": 7,
    "start_time": "2023-01-14T15:06:59.901Z"
   },
   {
    "duration": 34,
    "start_time": "2023-01-14T15:06:59.910Z"
   },
   {
    "duration": 14,
    "start_time": "2023-01-14T15:06:59.947Z"
   },
   {
    "duration": 11,
    "start_time": "2023-01-14T15:06:59.963Z"
   },
   {
    "duration": 255,
    "start_time": "2023-01-14T15:06:59.978Z"
   },
   {
    "duration": 3,
    "start_time": "2023-01-14T15:07:00.235Z"
   },
   {
    "duration": 3193,
    "start_time": "2023-01-14T15:07:00.240Z"
   },
   {
    "duration": 3,
    "start_time": "2023-01-14T15:07:03.435Z"
   },
   {
    "duration": 955,
    "start_time": "2023-01-14T15:07:03.439Z"
   },
   {
    "duration": 7,
    "start_time": "2023-01-14T15:07:04.396Z"
   },
   {
    "duration": 812,
    "start_time": "2023-01-14T15:07:04.405Z"
   },
   {
    "duration": 3,
    "start_time": "2023-01-14T15:07:05.218Z"
   },
   {
    "duration": 47,
    "start_time": "2023-01-14T15:07:05.223Z"
   },
   {
    "duration": 4,
    "start_time": "2023-01-14T15:07:05.272Z"
   },
   {
    "duration": 8,
    "start_time": "2023-01-14T15:07:05.277Z"
   },
   {
    "duration": 16,
    "start_time": "2023-01-14T15:07:05.287Z"
   },
   {
    "duration": 49,
    "start_time": "2023-01-14T15:07:05.305Z"
   },
   {
    "duration": 1823,
    "start_time": "2023-01-14T15:07:05.356Z"
   },
   {
    "duration": 15798,
    "start_time": "2023-01-14T15:07:07.181Z"
   },
   {
    "duration": 67217,
    "start_time": "2023-01-14T15:07:22.981Z"
   },
   {
    "duration": 663,
    "start_time": "2023-01-14T15:08:30.201Z"
   },
   {
    "duration": 6,
    "start_time": "2023-01-14T15:08:30.865Z"
   },
   {
    "duration": 7068,
    "start_time": "2023-01-14T15:08:30.879Z"
   },
   {
    "duration": 1416,
    "start_time": "2023-01-14T15:08:37.949Z"
   },
   {
    "duration": 16,
    "start_time": "2023-01-14T15:08:39.367Z"
   },
   {
    "duration": 1729,
    "start_time": "2023-01-14T16:04:13.128Z"
   },
   {
    "duration": 3132,
    "start_time": "2023-01-14T16:04:14.859Z"
   },
   {
    "duration": 91,
    "start_time": "2023-01-14T16:04:17.993Z"
   },
   {
    "duration": 11,
    "start_time": "2023-01-14T16:04:18.085Z"
   },
   {
    "duration": 11,
    "start_time": "2023-01-14T16:04:18.098Z"
   },
   {
    "duration": 4,
    "start_time": "2023-01-14T16:04:18.121Z"
   },
   {
    "duration": 7,
    "start_time": "2023-01-14T16:04:18.127Z"
   },
   {
    "duration": 12,
    "start_time": "2023-01-14T16:04:18.135Z"
   },
   {
    "duration": 16,
    "start_time": "2023-01-14T16:04:18.148Z"
   },
   {
    "duration": 12,
    "start_time": "2023-01-14T16:04:18.165Z"
   },
   {
    "duration": 10,
    "start_time": "2023-01-14T16:04:18.178Z"
   },
   {
    "duration": 239,
    "start_time": "2023-01-14T16:04:18.190Z"
   },
   {
    "duration": 3,
    "start_time": "2023-01-14T16:04:18.430Z"
   },
   {
    "duration": 2940,
    "start_time": "2023-01-14T16:04:18.435Z"
   },
   {
    "duration": 3,
    "start_time": "2023-01-14T16:04:21.377Z"
   },
   {
    "duration": 936,
    "start_time": "2023-01-14T16:04:21.381Z"
   },
   {
    "duration": 7,
    "start_time": "2023-01-14T16:04:22.321Z"
   },
   {
    "duration": 812,
    "start_time": "2023-01-14T16:04:22.329Z"
   },
   {
    "duration": 4,
    "start_time": "2023-01-14T16:04:23.143Z"
   },
   {
    "duration": 49,
    "start_time": "2023-01-14T16:04:23.149Z"
   },
   {
    "duration": 5,
    "start_time": "2023-01-14T16:04:23.199Z"
   },
   {
    "duration": 15,
    "start_time": "2023-01-14T16:04:23.206Z"
   },
   {
    "duration": 14,
    "start_time": "2023-01-14T16:04:23.223Z"
   },
   {
    "duration": 49,
    "start_time": "2023-01-14T16:04:23.239Z"
   },
   {
    "duration": 1932,
    "start_time": "2023-01-14T16:04:23.290Z"
   },
   {
    "duration": 16367,
    "start_time": "2023-01-14T16:04:25.223Z"
   },
   {
    "duration": 69258,
    "start_time": "2023-01-14T16:04:41.592Z"
   },
   {
    "duration": 601,
    "start_time": "2023-01-14T16:05:50.852Z"
   },
   {
    "duration": 6,
    "start_time": "2023-01-14T16:05:51.454Z"
   },
   {
    "duration": 575,
    "start_time": "2023-01-14T16:06:26.796Z"
   },
   {
    "duration": 5,
    "start_time": "2023-01-14T16:06:27.373Z"
   },
   {
    "duration": 47,
    "start_time": "2023-01-14T16:10:33.271Z"
   },
   {
    "duration": 6043,
    "start_time": "2023-01-14T16:13:48.307Z"
   },
   {
    "duration": 646,
    "start_time": "2023-01-14T16:15:19.277Z"
   },
   {
    "duration": 7,
    "start_time": "2023-01-14T16:15:28.917Z"
   },
   {
    "duration": 1379,
    "start_time": "2023-01-25T11:56:20.183Z"
   },
   {
    "duration": 2231,
    "start_time": "2023-01-25T11:56:21.563Z"
   },
   {
    "duration": 212,
    "start_time": "2023-01-25T11:56:23.795Z"
   },
   {
    "duration": 16,
    "start_time": "2023-01-25T11:56:24.009Z"
   },
   {
    "duration": 75,
    "start_time": "2023-01-25T11:56:24.028Z"
   },
   {
    "duration": 92,
    "start_time": "2023-01-25T11:56:24.105Z"
   },
   {
    "duration": 54,
    "start_time": "2023-01-25T11:56:24.199Z"
   },
   {
    "duration": 14,
    "start_time": "2023-01-25T11:56:24.255Z"
   },
   {
    "duration": 56,
    "start_time": "2023-01-25T11:56:24.270Z"
   },
   {
    "duration": 29,
    "start_time": "2023-01-25T11:56:24.328Z"
   },
   {
    "duration": 40,
    "start_time": "2023-01-25T11:56:24.359Z"
   },
   {
    "duration": 374,
    "start_time": "2023-01-25T11:56:24.401Z"
   },
   {
    "duration": 3,
    "start_time": "2023-01-25T11:56:24.776Z"
   },
   {
    "duration": 2984,
    "start_time": "2023-01-25T11:56:24.794Z"
   },
   {
    "duration": 4,
    "start_time": "2023-01-25T11:56:27.780Z"
   },
   {
    "duration": 895,
    "start_time": "2023-01-25T11:56:27.786Z"
   },
   {
    "duration": 13,
    "start_time": "2023-01-25T11:56:28.683Z"
   },
   {
    "duration": 830,
    "start_time": "2023-01-25T11:56:28.698Z"
   },
   {
    "duration": 3,
    "start_time": "2023-01-25T11:56:29.529Z"
   },
   {
    "duration": 32,
    "start_time": "2023-01-25T11:56:29.533Z"
   },
   {
    "duration": 3,
    "start_time": "2023-01-25T11:56:29.566Z"
   },
   {
    "duration": 18,
    "start_time": "2023-01-25T11:56:29.571Z"
   },
   {
    "duration": 27,
    "start_time": "2023-01-25T11:56:29.591Z"
   },
   {
    "duration": 58,
    "start_time": "2023-01-25T11:56:29.619Z"
   },
   {
    "duration": 1820,
    "start_time": "2023-01-25T11:56:29.678Z"
   },
   {
    "duration": 17368,
    "start_time": "2023-01-25T11:56:31.500Z"
   },
   {
    "duration": 2532,
    "start_time": "2023-06-09T11:42:35.594Z"
   },
   {
    "duration": 4197,
    "start_time": "2023-06-09T11:42:38.129Z"
   },
   {
    "duration": 138,
    "start_time": "2023-06-09T11:42:42.335Z"
   },
   {
    "duration": 30,
    "start_time": "2023-06-09T11:42:42.475Z"
   },
   {
    "duration": 24,
    "start_time": "2023-06-09T11:42:42.508Z"
   },
   {
    "duration": 5,
    "start_time": "2023-06-09T11:42:42.537Z"
   },
   {
    "duration": 15,
    "start_time": "2023-06-09T11:42:42.545Z"
   },
   {
    "duration": 11,
    "start_time": "2023-06-09T11:42:42.562Z"
   },
   {
    "duration": 45,
    "start_time": "2023-06-09T11:42:42.574Z"
   },
   {
    "duration": 317,
    "start_time": "2023-06-09T11:42:42.626Z"
   },
   {
    "duration": 4037,
    "start_time": "2023-06-09T11:42:42.948Z"
   },
   {
    "duration": 580,
    "start_time": "2023-06-09T11:42:46.987Z"
   },
   {
    "duration": 0,
    "start_time": "2023-06-09T11:42:47.569Z"
   },
   {
    "duration": 0,
    "start_time": "2023-06-09T11:42:47.570Z"
   },
   {
    "duration": 0,
    "start_time": "2023-06-09T11:42:47.572Z"
   },
   {
    "duration": 0,
    "start_time": "2023-06-09T11:42:47.573Z"
   },
   {
    "duration": 0,
    "start_time": "2023-06-09T11:42:47.576Z"
   },
   {
    "duration": 1,
    "start_time": "2023-06-09T11:42:47.577Z"
   },
   {
    "duration": 0,
    "start_time": "2023-06-09T11:42:47.578Z"
   },
   {
    "duration": 0,
    "start_time": "2023-06-09T11:42:47.579Z"
   },
   {
    "duration": 1,
    "start_time": "2023-06-09T11:42:47.579Z"
   },
   {
    "duration": 0,
    "start_time": "2023-06-09T11:42:47.580Z"
   },
   {
    "duration": 0,
    "start_time": "2023-06-09T11:42:47.581Z"
   },
   {
    "duration": 0,
    "start_time": "2023-06-09T11:42:47.582Z"
   },
   {
    "duration": 0,
    "start_time": "2023-06-09T11:42:47.583Z"
   },
   {
    "duration": 0,
    "start_time": "2023-06-09T11:42:47.584Z"
   },
   {
    "duration": 0,
    "start_time": "2023-06-09T11:42:47.585Z"
   },
   {
    "duration": 1020,
    "start_time": "2023-06-09T11:43:38.342Z"
   },
   {
    "duration": 1973,
    "start_time": "2023-06-09T11:43:45.801Z"
   },
   {
    "duration": 1018,
    "start_time": "2023-06-09T11:43:47.782Z"
   },
   {
    "duration": 164,
    "start_time": "2023-06-09T11:43:48.806Z"
   },
   {
    "duration": 23,
    "start_time": "2023-06-09T11:43:48.972Z"
   },
   {
    "duration": 13,
    "start_time": "2023-06-09T11:43:48.998Z"
   },
   {
    "duration": 5,
    "start_time": "2023-06-09T11:43:49.013Z"
   },
   {
    "duration": 30,
    "start_time": "2023-06-09T11:43:49.020Z"
   },
   {
    "duration": 15,
    "start_time": "2023-06-09T11:43:49.052Z"
   },
   {
    "duration": 38,
    "start_time": "2023-06-09T11:43:49.069Z"
   },
   {
    "duration": 436,
    "start_time": "2023-06-09T11:43:49.110Z"
   },
   {
    "duration": 3967,
    "start_time": "2023-06-09T11:43:49.554Z"
   },
   {
    "duration": 1251,
    "start_time": "2023-06-09T11:43:53.523Z"
   },
   {
    "duration": 13,
    "start_time": "2023-06-09T11:43:54.785Z"
   },
   {
    "duration": 1120,
    "start_time": "2023-06-09T11:43:54.802Z"
   },
   {
    "duration": 40,
    "start_time": "2023-06-09T11:43:55.925Z"
   },
   {
    "duration": 5,
    "start_time": "2023-06-09T11:43:55.966Z"
   },
   {
    "duration": 28,
    "start_time": "2023-06-09T11:43:55.972Z"
   },
   {
    "duration": 24,
    "start_time": "2023-06-09T11:43:56.002Z"
   },
   {
    "duration": 68,
    "start_time": "2023-06-09T11:43:56.030Z"
   },
   {
    "duration": 3734,
    "start_time": "2023-06-09T11:43:56.100Z"
   },
   {
    "duration": 24379,
    "start_time": "2023-06-09T11:43:59.845Z"
   },
   {
    "duration": 98647,
    "start_time": "2023-06-09T11:44:24.226Z"
   },
   {
    "duration": 851,
    "start_time": "2023-06-09T11:46:02.876Z"
   },
   {
    "duration": 6,
    "start_time": "2023-06-09T11:46:03.734Z"
   },
   {
    "duration": 7704,
    "start_time": "2023-06-09T11:46:03.742Z"
   },
   {
    "duration": 1764,
    "start_time": "2023-06-09T11:46:11.448Z"
   },
   {
    "duration": 21,
    "start_time": "2023-06-09T11:46:13.214Z"
   }
  ],
  "kernelspec": {
   "display_name": "Python 3 (ipykernel)",
   "language": "python",
   "name": "python3"
  },
  "language_info": {
   "codemirror_mode": {
    "name": "ipython",
    "version": 3
   },
   "file_extension": ".py",
   "mimetype": "text/x-python",
   "name": "python",
   "nbconvert_exporter": "python",
   "pygments_lexer": "ipython3",
   "version": "3.9.5"
  },
  "toc": {
   "base_numbering": 1,
   "nav_menu": {},
   "number_sections": true,
   "sideBar": true,
   "skip_h1_title": true,
   "title_cell": "Содержание",
   "title_sidebar": "Contents",
   "toc_cell": true,
   "toc_position": {
    "height": "calc(100% - 180px)",
    "left": "10px",
    "top": "150px",
    "width": "165px"
   },
   "toc_section_display": true,
   "toc_window_display": true
  }
 },
 "nbformat": 4,
 "nbformat_minor": 2
}
