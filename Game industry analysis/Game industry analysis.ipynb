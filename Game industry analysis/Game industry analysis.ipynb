{
 "cells": [
  {
   "cell_type": "markdown",
   "metadata": {},
   "source": [
    "# Исследование закономерностей определяющих успешность игр\n",
    "\n",
    "  В нашем распоряжении исторические данные до 2016 года, о продаже компьютерных игр, такие как оценки пользователей и экспертов, жанры и платформы (например Xbox или Playstation), а так же данные от ESRB.* Необходимо выявить закономерности определяющие успешность игры, чтобы выделить потенциально популярные продукты и спланировать рекламные компании. \n",
    "\n",
    "\n",
    "  *ESRB (Entertainment Software Rating Board) — это ассоциация, определяющая возрастной рейтинг компьютерных игр. ESRB оценивает игровой контент и присваивает ему подходящую возрастную категорию, например, «Для взрослых», «Для детей младшего возраста» или «Для подростков»."
   ]
  },
  {
   "cell_type": "markdown",
   "metadata": {},
   "source": [
    "# Основные задачи\n",
    "1. Отработать принципы работы с данными\n",
    "2. Выявить потенциально прибыльные платформы\n",
    "\n",
    "\n",
    "# План выполнения проекта\n",
    "\n",
    "1. Подключить необходимые библиотеки и загрузить данные из датасета\n",
    "\n",
    "2. Провести предобработку данных предоставленного датасета, для дальнейшего анализа\n",
    "* Привести названия столбцов к единому формату\n",
    "* Преобразовать типы данных в столбцах в соответствии с их значениями\n",
    "* Обработать пропущенные значения при необходимости (особое внимание уделить значениям \"tbd\" в столбце с оценкой пользователей\n",
    "* Посчитать суммарные продажи во всех регионах и добавить столбец с расчетами в датасет\n",
    "\n",
    "3. Провести исследовательский анализ данных\n",
    "* Изучить сколько игр выпускалость в разные года. Проверить актуальны ли данные за все периоды\n",
    "* Изучить как менялись продажи по платформам. Выделить платформы с наибольшими суммарными продажамаи и построить график распределения по годам. Выяснить за какой характерный срок появляются новые и исчезают старые платформы\n",
    "* Определить актуальный период, для построения прогноза на 2017 год, без учета данных за предыдущие годы\n",
    "* Определить какие платформы лидируют по продажам, растут или падают. Сделать выборку потенциально прибыльных платформ.\n",
    "* Построить диаграмму размаха по глобальным продажам игр в разбивке по платформе\n",
    "* Определить влияние отзывов и критиков на продажи внутри одной популярной платформы, с построением диаграммы рассеяния и подсчетом кореляции между отзывами и продажами\n",
    "* Соотнести выводы с продажами игр на других платформах\n",
    "* Изучить распределение игр по жанрам и сделать выводы об уровне продаж в зависимости от жанра\n",
    "\n",
    "4. Составить портрет пользователя для каждого из регионов (NA, EU, JP)\n",
    "* Топ-5 самых поплуярных платформ\n",
    "* Топ-5 самых популярных жанров\n",
    "* Определить влияние рейтинга ESRB на продажи в отдельном регионе\n",
    "\n",
    "5. Проверить гипотезы\n",
    "* Средние пользовательские рейтинги платформ Xbox One и PC одинаковые;\n",
    "* Средние пользовательские рейтинги жанров Action (англ. «действие», экшен-игры) и Sports (англ. «спортивные соревнования») разные.\n",
    "\n",
    "6. Сделать общий вывод"
   ]
  },
  {
   "cell_type": "markdown",
   "metadata": {},
   "source": [
    "## Загрузка библиотек, данных и ознакомление с ними"
   ]
  },
  {
   "cell_type": "code",
   "execution_count": 1,
   "metadata": {},
   "outputs": [],
   "source": [
    "# Импорт библиотек\n",
    "import pandas as pd\n",
    "import seaborn as sns\n",
    "import numpy as np\n",
    "import matplotlib\n",
    "import matplotlib.pyplot as plt\n",
    "import warnings\n",
    "\n",
    "from scipy import stats as st"
   ]
  },
  {
   "cell_type": "code",
   "execution_count": 2,
   "metadata": {},
   "outputs": [],
   "source": [
    "# Сохраним датасет в переменную data\n",
    "data = pd.read_csv('/datasets/games.csv')"
   ]
  },
  {
   "cell_type": "code",
   "execution_count": 3,
   "metadata": {},
   "outputs": [
    {
     "data": {
      "text/html": [
       "<div>\n",
       "<style scoped>\n",
       "    .dataframe tbody tr th:only-of-type {\n",
       "        vertical-align: middle;\n",
       "    }\n",
       "\n",
       "    .dataframe tbody tr th {\n",
       "        vertical-align: top;\n",
       "    }\n",
       "\n",
       "    .dataframe thead th {\n",
       "        text-align: right;\n",
       "    }\n",
       "</style>\n",
       "<table border=\"1\" class=\"dataframe\">\n",
       "  <thead>\n",
       "    <tr style=\"text-align: right;\">\n",
       "      <th></th>\n",
       "      <th>Name</th>\n",
       "      <th>Platform</th>\n",
       "      <th>Year_of_Release</th>\n",
       "      <th>Genre</th>\n",
       "      <th>NA_sales</th>\n",
       "      <th>EU_sales</th>\n",
       "      <th>JP_sales</th>\n",
       "      <th>Other_sales</th>\n",
       "      <th>Critic_Score</th>\n",
       "      <th>User_Score</th>\n",
       "      <th>Rating</th>\n",
       "    </tr>\n",
       "  </thead>\n",
       "  <tbody>\n",
       "    <tr>\n",
       "      <th>0</th>\n",
       "      <td>Wii Sports</td>\n",
       "      <td>Wii</td>\n",
       "      <td>2006.0</td>\n",
       "      <td>Sports</td>\n",
       "      <td>41.36</td>\n",
       "      <td>28.96</td>\n",
       "      <td>3.77</td>\n",
       "      <td>8.45</td>\n",
       "      <td>76.0</td>\n",
       "      <td>8</td>\n",
       "      <td>E</td>\n",
       "    </tr>\n",
       "    <tr>\n",
       "      <th>1</th>\n",
       "      <td>Super Mario Bros.</td>\n",
       "      <td>NES</td>\n",
       "      <td>1985.0</td>\n",
       "      <td>Platform</td>\n",
       "      <td>29.08</td>\n",
       "      <td>3.58</td>\n",
       "      <td>6.81</td>\n",
       "      <td>0.77</td>\n",
       "      <td>NaN</td>\n",
       "      <td>NaN</td>\n",
       "      <td>NaN</td>\n",
       "    </tr>\n",
       "    <tr>\n",
       "      <th>2</th>\n",
       "      <td>Mario Kart Wii</td>\n",
       "      <td>Wii</td>\n",
       "      <td>2008.0</td>\n",
       "      <td>Racing</td>\n",
       "      <td>15.68</td>\n",
       "      <td>12.76</td>\n",
       "      <td>3.79</td>\n",
       "      <td>3.29</td>\n",
       "      <td>82.0</td>\n",
       "      <td>8.3</td>\n",
       "      <td>E</td>\n",
       "    </tr>\n",
       "    <tr>\n",
       "      <th>3</th>\n",
       "      <td>Wii Sports Resort</td>\n",
       "      <td>Wii</td>\n",
       "      <td>2009.0</td>\n",
       "      <td>Sports</td>\n",
       "      <td>15.61</td>\n",
       "      <td>10.93</td>\n",
       "      <td>3.28</td>\n",
       "      <td>2.95</td>\n",
       "      <td>80.0</td>\n",
       "      <td>8</td>\n",
       "      <td>E</td>\n",
       "    </tr>\n",
       "    <tr>\n",
       "      <th>4</th>\n",
       "      <td>Pokemon Red/Pokemon Blue</td>\n",
       "      <td>GB</td>\n",
       "      <td>1996.0</td>\n",
       "      <td>Role-Playing</td>\n",
       "      <td>11.27</td>\n",
       "      <td>8.89</td>\n",
       "      <td>10.22</td>\n",
       "      <td>1.00</td>\n",
       "      <td>NaN</td>\n",
       "      <td>NaN</td>\n",
       "      <td>NaN</td>\n",
       "    </tr>\n",
       "  </tbody>\n",
       "</table>\n",
       "</div>"
      ],
      "text/plain": [
       "                       Name Platform  Year_of_Release         Genre  NA_sales  \\\n",
       "0                Wii Sports      Wii           2006.0        Sports     41.36   \n",
       "1         Super Mario Bros.      NES           1985.0      Platform     29.08   \n",
       "2            Mario Kart Wii      Wii           2008.0        Racing     15.68   \n",
       "3         Wii Sports Resort      Wii           2009.0        Sports     15.61   \n",
       "4  Pokemon Red/Pokemon Blue       GB           1996.0  Role-Playing     11.27   \n",
       "\n",
       "   EU_sales  JP_sales  Other_sales  Critic_Score User_Score Rating  \n",
       "0     28.96      3.77         8.45          76.0          8      E  \n",
       "1      3.58      6.81         0.77           NaN        NaN    NaN  \n",
       "2     12.76      3.79         3.29          82.0        8.3      E  \n",
       "3     10.93      3.28         2.95          80.0          8      E  \n",
       "4      8.89     10.22         1.00           NaN        NaN    NaN  "
      ]
     },
     "execution_count": 3,
     "metadata": {},
     "output_type": "execute_result"
    }
   ],
   "source": [
    "# Изучем название столбцов и какие они содержат значения по первым 5 строкам\n",
    "data.head()"
   ]
  },
  {
   "cell_type": "markdown",
   "metadata": {},
   "source": [
    "## Предобработка данных"
   ]
  },
  {
   "cell_type": "markdown",
   "metadata": {},
   "source": [
    "### Приведение названий столбцов к единому формату"
   ]
  },
  {
   "cell_type": "code",
   "execution_count": 4,
   "metadata": {},
   "outputs": [],
   "source": [
    "# Приведем все названия столбцов к нижнему регистру\n",
    "data.columns = map(str.lower, data.columns)"
   ]
  },
  {
   "cell_type": "markdown",
   "metadata": {},
   "source": [
    "### Преобразование типов данных в соотвествии с их значениями"
   ]
  },
  {
   "cell_type": "code",
   "execution_count": 5,
   "metadata": {},
   "outputs": [
    {
     "name": "stdout",
     "output_type": "stream",
     "text": [
      "<class 'pandas.core.frame.DataFrame'>\n",
      "RangeIndex: 16715 entries, 0 to 16714\n",
      "Data columns (total 11 columns):\n",
      " #   Column           Non-Null Count  Dtype  \n",
      "---  ------           --------------  -----  \n",
      " 0   name             16713 non-null  object \n",
      " 1   platform         16715 non-null  object \n",
      " 2   year_of_release  16446 non-null  float64\n",
      " 3   genre            16713 non-null  object \n",
      " 4   na_sales         16715 non-null  float64\n",
      " 5   eu_sales         16715 non-null  float64\n",
      " 6   jp_sales         16715 non-null  float64\n",
      " 7   other_sales      16715 non-null  float64\n",
      " 8   critic_score     8137 non-null   float64\n",
      " 9   user_score       10014 non-null  object \n",
      " 10  rating           9949 non-null   object \n",
      "dtypes: float64(6), object(5)\n",
      "memory usage: 1.4+ MB\n"
     ]
    }
   ],
   "source": [
    "# Вывод информации о текущих типах данных\n",
    "data.info()"
   ]
  },
  {
   "cell_type": "markdown",
   "metadata": {},
   "source": [
    "Очевидное несоответствие типа значениям в столбцах:\n",
    "* year_of_release (так как в значениях указан только год, логичнее использовать int вместо float)\n",
    "* user_score (object вместо float)\n",
    "Это необходимо исправить"
   ]
  },
  {
   "cell_type": "code",
   "execution_count": 6,
   "metadata": {},
   "outputs": [],
   "source": [
    "# year_of_release приведем к целочисленному типу\n",
    "data['year_of_release'] = data['year_of_release'].astype('Int64')"
   ]
  },
  {
   "cell_type": "code",
   "execution_count": 7,
   "metadata": {},
   "outputs": [],
   "source": [
    "# user_score посмотрим, какие есть значения\n",
    "data.user_score.unique()\n",
    "\n",
    "# Избавляемся от текстовых значений\n",
    "data['user_score'] = data['user_score'].replace('tbd', np.nan, regex=True)\n",
    "\n",
    "# Приводим столбец к правильному типу\n",
    "data['user_score'] = data['user_score'].astype(float)"
   ]
  },
  {
   "cell_type": "markdown",
   "metadata": {},
   "source": [
    "Очевидно, что рейтинг должен иметь числовые значения, однако среди них присутствует текстовое значение \"TBD\", что определенно мешает преобразовать столбец.\n",
    "\n",
    "TBD — (to be determined), в контексте рейтингов, это означает, что рейтинг не определен, по сути это NaN значение, поэтому заменили TBD на NaN и привели столбец к типу Float.\n",
    "\n",
    "Столбец year_of_release преобразуем в тип int, так как он хранит целочисленные значения."
   ]
  },
  {
   "cell_type": "markdown",
   "metadata": {},
   "source": [
    "### Пропуски в данных"
   ]
  },
  {
   "cell_type": "code",
   "execution_count": 8,
   "metadata": {},
   "outputs": [
    {
     "data": {
      "text/plain": [
       "name                  2\n",
       "platform              0\n",
       "year_of_release     269\n",
       "genre                 2\n",
       "na_sales              0\n",
       "eu_sales              0\n",
       "jp_sales              0\n",
       "other_sales           0\n",
       "critic_score       8578\n",
       "user_score         9125\n",
       "rating             6766\n",
       "dtype: int64"
      ]
     },
     "execution_count": 8,
     "metadata": {},
     "output_type": "execute_result"
    }
   ],
   "source": [
    "# Посмотрим общее количество пропусков по столбцам\n",
    "data.isna().sum()"
   ]
  },
  {
   "cell_type": "code",
   "execution_count": 9,
   "metadata": {},
   "outputs": [
    {
     "data": {
      "text/html": [
       "<div>\n",
       "<style scoped>\n",
       "    .dataframe tbody tr th:only-of-type {\n",
       "        vertical-align: middle;\n",
       "    }\n",
       "\n",
       "    .dataframe tbody tr th {\n",
       "        vertical-align: top;\n",
       "    }\n",
       "\n",
       "    .dataframe thead th {\n",
       "        text-align: right;\n",
       "    }\n",
       "</style>\n",
       "<table border=\"1\" class=\"dataframe\">\n",
       "  <thead>\n",
       "    <tr style=\"text-align: right;\">\n",
       "      <th></th>\n",
       "      <th>name</th>\n",
       "      <th>platform</th>\n",
       "      <th>year_of_release</th>\n",
       "      <th>genre</th>\n",
       "      <th>na_sales</th>\n",
       "      <th>eu_sales</th>\n",
       "      <th>jp_sales</th>\n",
       "      <th>other_sales</th>\n",
       "      <th>critic_score</th>\n",
       "      <th>user_score</th>\n",
       "      <th>rating</th>\n",
       "    </tr>\n",
       "  </thead>\n",
       "  <tbody>\n",
       "    <tr>\n",
       "      <th>659</th>\n",
       "      <td>NaN</td>\n",
       "      <td>GEN</td>\n",
       "      <td>1993</td>\n",
       "      <td>NaN</td>\n",
       "      <td>1.78</td>\n",
       "      <td>0.53</td>\n",
       "      <td>0.00</td>\n",
       "      <td>0.08</td>\n",
       "      <td>NaN</td>\n",
       "      <td>NaN</td>\n",
       "      <td>NaN</td>\n",
       "    </tr>\n",
       "    <tr>\n",
       "      <th>14244</th>\n",
       "      <td>NaN</td>\n",
       "      <td>GEN</td>\n",
       "      <td>1993</td>\n",
       "      <td>NaN</td>\n",
       "      <td>0.00</td>\n",
       "      <td>0.00</td>\n",
       "      <td>0.03</td>\n",
       "      <td>0.00</td>\n",
       "      <td>NaN</td>\n",
       "      <td>NaN</td>\n",
       "      <td>NaN</td>\n",
       "    </tr>\n",
       "  </tbody>\n",
       "</table>\n",
       "</div>"
      ],
      "text/plain": [
       "      name platform  year_of_release genre  na_sales  eu_sales  jp_sales  \\\n",
       "659    NaN      GEN             1993   NaN      1.78      0.53      0.00   \n",
       "14244  NaN      GEN             1993   NaN      0.00      0.00      0.03   \n",
       "\n",
       "       other_sales  critic_score  user_score rating  \n",
       "659           0.08           NaN         NaN    NaN  \n",
       "14244         0.00           NaN         NaN    NaN  "
      ]
     },
     "execution_count": 9,
     "metadata": {},
     "output_type": "execute_result"
    }
   ],
   "source": [
    "# Изучим пропуски в столбце name\n",
    "data[data['name'].isna()]"
   ]
  },
  {
   "cell_type": "code",
   "execution_count": 10,
   "metadata": {},
   "outputs": [],
   "source": [
    "# Несмотря на большое количество продаж в строке 659, строки для исследования не информативны, так как пропущены\n",
    "# значения в названии и жанре игры, а так же нет никакого из рейтингов. Удаляем.\n",
    "data.dropna(subset = ['name'], inplace=True)"
   ]
  },
  {
   "cell_type": "code",
   "execution_count": 11,
   "metadata": {},
   "outputs": [
    {
     "data": {
      "text/html": [
       "<div>\n",
       "<style scoped>\n",
       "    .dataframe tbody tr th:only-of-type {\n",
       "        vertical-align: middle;\n",
       "    }\n",
       "\n",
       "    .dataframe tbody tr th {\n",
       "        vertical-align: top;\n",
       "    }\n",
       "\n",
       "    .dataframe thead th {\n",
       "        text-align: right;\n",
       "    }\n",
       "</style>\n",
       "<table border=\"1\" class=\"dataframe\">\n",
       "  <thead>\n",
       "    <tr style=\"text-align: right;\">\n",
       "      <th></th>\n",
       "      <th>name</th>\n",
       "      <th>platform</th>\n",
       "      <th>year_of_release</th>\n",
       "      <th>genre</th>\n",
       "      <th>na_sales</th>\n",
       "      <th>eu_sales</th>\n",
       "      <th>jp_sales</th>\n",
       "      <th>other_sales</th>\n",
       "      <th>critic_score</th>\n",
       "      <th>user_score</th>\n",
       "      <th>rating</th>\n",
       "    </tr>\n",
       "  </thead>\n",
       "  <tbody>\n",
       "    <tr>\n",
       "      <th>183</th>\n",
       "      <td>Madden NFL 2004</td>\n",
       "      <td>PS2</td>\n",
       "      <td>&lt;NA&gt;</td>\n",
       "      <td>Sports</td>\n",
       "      <td>4.26</td>\n",
       "      <td>0.26</td>\n",
       "      <td>0.01</td>\n",
       "      <td>0.71</td>\n",
       "      <td>94.0</td>\n",
       "      <td>8.5</td>\n",
       "      <td>E</td>\n",
       "    </tr>\n",
       "    <tr>\n",
       "      <th>377</th>\n",
       "      <td>FIFA Soccer 2004</td>\n",
       "      <td>PS2</td>\n",
       "      <td>&lt;NA&gt;</td>\n",
       "      <td>Sports</td>\n",
       "      <td>0.59</td>\n",
       "      <td>2.36</td>\n",
       "      <td>0.04</td>\n",
       "      <td>0.51</td>\n",
       "      <td>84.0</td>\n",
       "      <td>6.4</td>\n",
       "      <td>E</td>\n",
       "    </tr>\n",
       "    <tr>\n",
       "      <th>456</th>\n",
       "      <td>LEGO Batman: The Videogame</td>\n",
       "      <td>Wii</td>\n",
       "      <td>&lt;NA&gt;</td>\n",
       "      <td>Action</td>\n",
       "      <td>1.80</td>\n",
       "      <td>0.97</td>\n",
       "      <td>0.00</td>\n",
       "      <td>0.29</td>\n",
       "      <td>74.0</td>\n",
       "      <td>7.9</td>\n",
       "      <td>E10+</td>\n",
       "    </tr>\n",
       "    <tr>\n",
       "      <th>475</th>\n",
       "      <td>wwe Smackdown vs. Raw 2006</td>\n",
       "      <td>PS2</td>\n",
       "      <td>&lt;NA&gt;</td>\n",
       "      <td>Fighting</td>\n",
       "      <td>1.57</td>\n",
       "      <td>1.02</td>\n",
       "      <td>0.00</td>\n",
       "      <td>0.41</td>\n",
       "      <td>NaN</td>\n",
       "      <td>NaN</td>\n",
       "      <td>NaN</td>\n",
       "    </tr>\n",
       "    <tr>\n",
       "      <th>609</th>\n",
       "      <td>Space Invaders</td>\n",
       "      <td>2600</td>\n",
       "      <td>&lt;NA&gt;</td>\n",
       "      <td>Shooter</td>\n",
       "      <td>2.36</td>\n",
       "      <td>0.14</td>\n",
       "      <td>0.00</td>\n",
       "      <td>0.03</td>\n",
       "      <td>NaN</td>\n",
       "      <td>NaN</td>\n",
       "      <td>NaN</td>\n",
       "    </tr>\n",
       "    <tr>\n",
       "      <th>...</th>\n",
       "      <td>...</td>\n",
       "      <td>...</td>\n",
       "      <td>...</td>\n",
       "      <td>...</td>\n",
       "      <td>...</td>\n",
       "      <td>...</td>\n",
       "      <td>...</td>\n",
       "      <td>...</td>\n",
       "      <td>...</td>\n",
       "      <td>...</td>\n",
       "      <td>...</td>\n",
       "    </tr>\n",
       "    <tr>\n",
       "      <th>16373</th>\n",
       "      <td>PDC World Championship Darts 2008</td>\n",
       "      <td>PSP</td>\n",
       "      <td>&lt;NA&gt;</td>\n",
       "      <td>Sports</td>\n",
       "      <td>0.01</td>\n",
       "      <td>0.00</td>\n",
       "      <td>0.00</td>\n",
       "      <td>0.00</td>\n",
       "      <td>43.0</td>\n",
       "      <td>NaN</td>\n",
       "      <td>E10+</td>\n",
       "    </tr>\n",
       "    <tr>\n",
       "      <th>16405</th>\n",
       "      <td>Freaky Flyers</td>\n",
       "      <td>GC</td>\n",
       "      <td>&lt;NA&gt;</td>\n",
       "      <td>Racing</td>\n",
       "      <td>0.01</td>\n",
       "      <td>0.00</td>\n",
       "      <td>0.00</td>\n",
       "      <td>0.00</td>\n",
       "      <td>69.0</td>\n",
       "      <td>6.5</td>\n",
       "      <td>T</td>\n",
       "    </tr>\n",
       "    <tr>\n",
       "      <th>16448</th>\n",
       "      <td>Inversion</td>\n",
       "      <td>PC</td>\n",
       "      <td>&lt;NA&gt;</td>\n",
       "      <td>Shooter</td>\n",
       "      <td>0.01</td>\n",
       "      <td>0.00</td>\n",
       "      <td>0.00</td>\n",
       "      <td>0.00</td>\n",
       "      <td>59.0</td>\n",
       "      <td>6.7</td>\n",
       "      <td>M</td>\n",
       "    </tr>\n",
       "    <tr>\n",
       "      <th>16458</th>\n",
       "      <td>Hakuouki: Shinsengumi Kitan</td>\n",
       "      <td>PS3</td>\n",
       "      <td>&lt;NA&gt;</td>\n",
       "      <td>Adventure</td>\n",
       "      <td>0.01</td>\n",
       "      <td>0.00</td>\n",
       "      <td>0.00</td>\n",
       "      <td>0.00</td>\n",
       "      <td>NaN</td>\n",
       "      <td>NaN</td>\n",
       "      <td>NaN</td>\n",
       "    </tr>\n",
       "    <tr>\n",
       "      <th>16522</th>\n",
       "      <td>Virtua Quest</td>\n",
       "      <td>GC</td>\n",
       "      <td>&lt;NA&gt;</td>\n",
       "      <td>Role-Playing</td>\n",
       "      <td>0.01</td>\n",
       "      <td>0.00</td>\n",
       "      <td>0.00</td>\n",
       "      <td>0.00</td>\n",
       "      <td>55.0</td>\n",
       "      <td>5.5</td>\n",
       "      <td>T</td>\n",
       "    </tr>\n",
       "  </tbody>\n",
       "</table>\n",
       "<p>269 rows × 11 columns</p>\n",
       "</div>"
      ],
      "text/plain": [
       "                                    name platform  year_of_release  \\\n",
       "183                      Madden NFL 2004      PS2             <NA>   \n",
       "377                     FIFA Soccer 2004      PS2             <NA>   \n",
       "456           LEGO Batman: The Videogame      Wii             <NA>   \n",
       "475           wwe Smackdown vs. Raw 2006      PS2             <NA>   \n",
       "609                       Space Invaders     2600             <NA>   \n",
       "...                                  ...      ...              ...   \n",
       "16373  PDC World Championship Darts 2008      PSP             <NA>   \n",
       "16405                      Freaky Flyers       GC             <NA>   \n",
       "16448                          Inversion       PC             <NA>   \n",
       "16458        Hakuouki: Shinsengumi Kitan      PS3             <NA>   \n",
       "16522                       Virtua Quest       GC             <NA>   \n",
       "\n",
       "              genre  na_sales  eu_sales  jp_sales  other_sales  critic_score  \\\n",
       "183          Sports      4.26      0.26      0.01         0.71          94.0   \n",
       "377          Sports      0.59      2.36      0.04         0.51          84.0   \n",
       "456          Action      1.80      0.97      0.00         0.29          74.0   \n",
       "475        Fighting      1.57      1.02      0.00         0.41           NaN   \n",
       "609         Shooter      2.36      0.14      0.00         0.03           NaN   \n",
       "...             ...       ...       ...       ...          ...           ...   \n",
       "16373        Sports      0.01      0.00      0.00         0.00          43.0   \n",
       "16405        Racing      0.01      0.00      0.00         0.00          69.0   \n",
       "16448       Shooter      0.01      0.00      0.00         0.00          59.0   \n",
       "16458     Adventure      0.01      0.00      0.00         0.00           NaN   \n",
       "16522  Role-Playing      0.01      0.00      0.00         0.00          55.0   \n",
       "\n",
       "       user_score rating  \n",
       "183           8.5      E  \n",
       "377           6.4      E  \n",
       "456           7.9   E10+  \n",
       "475           NaN    NaN  \n",
       "609           NaN    NaN  \n",
       "...           ...    ...  \n",
       "16373         NaN   E10+  \n",
       "16405         6.5      T  \n",
       "16448         6.7      M  \n",
       "16458         NaN    NaN  \n",
       "16522         5.5      T  \n",
       "\n",
       "[269 rows x 11 columns]"
      ]
     },
     "execution_count": 11,
     "metadata": {},
     "output_type": "execute_result"
    }
   ],
   "source": [
    "# Изучим содержимое строк, где пропущены значения в столбце year_of_release\n",
    "data[data['year_of_release'].isna()]\n",
    "# Похоже в названиях некоторых игр есть год выпуска."
   ]
  },
  {
   "cell_type": "code",
   "execution_count": 12,
   "metadata": {},
   "outputs": [
    {
     "data": {
      "text/html": [
       "<div>\n",
       "<style scoped>\n",
       "    .dataframe tbody tr th:only-of-type {\n",
       "        vertical-align: middle;\n",
       "    }\n",
       "\n",
       "    .dataframe tbody tr th {\n",
       "        vertical-align: top;\n",
       "    }\n",
       "\n",
       "    .dataframe thead th {\n",
       "        text-align: right;\n",
       "    }\n",
       "</style>\n",
       "<table border=\"1\" class=\"dataframe\">\n",
       "  <thead>\n",
       "    <tr style=\"text-align: right;\">\n",
       "      <th></th>\n",
       "      <th>name</th>\n",
       "      <th>platform</th>\n",
       "      <th>year_of_release</th>\n",
       "      <th>genre</th>\n",
       "      <th>na_sales</th>\n",
       "      <th>eu_sales</th>\n",
       "      <th>jp_sales</th>\n",
       "      <th>other_sales</th>\n",
       "      <th>critic_score</th>\n",
       "      <th>user_score</th>\n",
       "      <th>rating</th>\n",
       "    </tr>\n",
       "  </thead>\n",
       "  <tbody>\n",
       "    <tr>\n",
       "      <th>183</th>\n",
       "      <td>Madden NFL 2004</td>\n",
       "      <td>PS2</td>\n",
       "      <td>&lt;NA&gt;</td>\n",
       "      <td>Sports</td>\n",
       "      <td>4.26</td>\n",
       "      <td>0.26</td>\n",
       "      <td>0.01</td>\n",
       "      <td>0.71</td>\n",
       "      <td>94.0</td>\n",
       "      <td>8.5</td>\n",
       "      <td>E</td>\n",
       "    </tr>\n",
       "    <tr>\n",
       "      <th>1881</th>\n",
       "      <td>Madden NFL 2004</td>\n",
       "      <td>XB</td>\n",
       "      <td>2003</td>\n",
       "      <td>Sports</td>\n",
       "      <td>1.02</td>\n",
       "      <td>0.02</td>\n",
       "      <td>0.00</td>\n",
       "      <td>0.05</td>\n",
       "      <td>92.0</td>\n",
       "      <td>8.3</td>\n",
       "      <td>E</td>\n",
       "    </tr>\n",
       "    <tr>\n",
       "      <th>3889</th>\n",
       "      <td>Madden NFL 2004</td>\n",
       "      <td>GC</td>\n",
       "      <td>2003</td>\n",
       "      <td>Sports</td>\n",
       "      <td>0.40</td>\n",
       "      <td>0.10</td>\n",
       "      <td>0.00</td>\n",
       "      <td>0.01</td>\n",
       "      <td>94.0</td>\n",
       "      <td>7.7</td>\n",
       "      <td>E</td>\n",
       "    </tr>\n",
       "    <tr>\n",
       "      <th>5708</th>\n",
       "      <td>Madden NFL 2004</td>\n",
       "      <td>GBA</td>\n",
       "      <td>2003</td>\n",
       "      <td>Sports</td>\n",
       "      <td>0.22</td>\n",
       "      <td>0.08</td>\n",
       "      <td>0.00</td>\n",
       "      <td>0.01</td>\n",
       "      <td>70.0</td>\n",
       "      <td>6.6</td>\n",
       "      <td>E</td>\n",
       "    </tr>\n",
       "  </tbody>\n",
       "</table>\n",
       "</div>"
      ],
      "text/plain": [
       "                 name platform  year_of_release   genre  na_sales  eu_sales  \\\n",
       "183   Madden NFL 2004      PS2             <NA>  Sports      4.26      0.26   \n",
       "1881  Madden NFL 2004       XB             2003  Sports      1.02      0.02   \n",
       "3889  Madden NFL 2004       GC             2003  Sports      0.40      0.10   \n",
       "5708  Madden NFL 2004      GBA             2003  Sports      0.22      0.08   \n",
       "\n",
       "      jp_sales  other_sales  critic_score  user_score rating  \n",
       "183       0.01         0.71          94.0         8.5      E  \n",
       "1881      0.00         0.05          92.0         8.3      E  \n",
       "3889      0.00         0.01          94.0         7.7      E  \n",
       "5708      0.00         0.01          70.0         6.6      E  "
      ]
     },
     "execution_count": 12,
     "metadata": {},
     "output_type": "execute_result"
    }
   ],
   "source": [
    "# Проверим, может ли год выпуска игры не соответствовать, году указанному в названии.\n",
    "data.query('name == \"Madden NFL 2004\"')\n",
    "# Похоже использовать год из названия, будет не корректно, по первому же взятому примеру видно, \n",
    "# что Madden NFL 2004 была выпущена в 2003 году.\n",
    "# Так же некорректно будет заполнять пропуски и по году выпуска на других платформах\n",
    "# Так как известный факт, что одна и та же игра может появлятся на разных платформах с существенными интервалами во времени"
   ]
  },
  {
   "cell_type": "code",
   "execution_count": 13,
   "metadata": {},
   "outputs": [],
   "source": [
    "# Поскольку мы не можем получить точные значения для пропусков и их небольшое количество, \n",
    "# строки с пропуском года, придется исключить\n",
    "data.dropna(subset = ['year_of_release'], inplace=True)"
   ]
  },
  {
   "cell_type": "code",
   "execution_count": 14,
   "metadata": {},
   "outputs": [],
   "source": [
    "# В столбце рейтинг фактически есть значение RP - рейтинг ожидается, это эквивалентно пропуску, приведем в единый вид.\n",
    "data.loc[data.loc[:,'rating'].isnull(),'rating'] = 'RP'"
   ]
  },
  {
   "cell_type": "markdown",
   "metadata": {},
   "source": [
    "Из выборки были удалены строки с пропусками в названии и жанре, так как эти данные малоинформативны для исследования и таких строк в датасете небольшое количество.\n",
    "\n",
    "Несмотря на наличие возможности вычислить приблизительный год выпуска по другим значениям датасета, я пришел к выводу, что они окажутся не точными, поэтому такая замена скорее негативно скажется на исследовании. Принято решение исключить строки с пропусками из выборки.\n",
    "\n",
    "Значения в столбцах оценка критиков и оценка пользователей, являются оценочными, было бы не справедливо синтезировать оценки по среднему или медианному значению, очевидно, что такая замена может исказить исследование. Оставим как есть.\n",
    "\n",
    "Для пропусков в столбце рейтинг у нас есть специальное значение \"RP\" - рейтинг ожидается, его и будем использовать для всего датафрейма."
   ]
  },
  {
   "cell_type": "markdown",
   "metadata": {},
   "source": [
    "### Проверка на дубликаты"
   ]
  },
  {
   "cell_type": "code",
   "execution_count": 15,
   "metadata": {},
   "outputs": [
    {
     "name": "stdout",
     "output_type": "stream",
     "text": [
      "Количество явных дубликатов в датасете: 0\n"
     ]
    }
   ],
   "source": [
    "print('Количество явных дубликатов в датасете:', data.duplicated().sum())"
   ]
  },
  {
   "cell_type": "code",
   "execution_count": 16,
   "metadata": {},
   "outputs": [
    {
     "data": {
      "text/plain": [
       "array(['Sports', 'Platform', 'Racing', 'Role-Playing', 'Puzzle', 'Misc',\n",
       "       'Shooter', 'Simulation', 'Action', 'Fighting', 'Adventure',\n",
       "       'Strategy'], dtype=object)"
      ]
     },
     "execution_count": 16,
     "metadata": {},
     "output_type": "execute_result"
    }
   ],
   "source": [
    "# Поищем дубликаты в жанрах\n",
    "data.genre.unique()"
   ]
  },
  {
   "cell_type": "code",
   "execution_count": 17,
   "metadata": {},
   "outputs": [
    {
     "data": {
      "text/plain": [
       "array(['E', 'RP', 'M', 'T', 'E10+', 'K-A', 'AO', 'EC'], dtype=object)"
      ]
     },
     "execution_count": 17,
     "metadata": {},
     "output_type": "execute_result"
    }
   ],
   "source": [
    "# Поищем дубликаты в рейтинге\n",
    "data.rating.unique()"
   ]
  },
  {
   "cell_type": "code",
   "execution_count": 18,
   "metadata": {},
   "outputs": [],
   "source": [
    "# Всего в системе ERCB существует 7 значений, а тут 8, кто-то лишний затесался.\n",
    "# K-A это устаревшее название значения E, заменим, для удобства в дальнейшем, нам сейчас важнее цифры\n",
    "# Чем исторически точные названия\n",
    "data = data.replace({'rating':{'K-A':'E'}})"
   ]
  },
  {
   "cell_type": "markdown",
   "metadata": {},
   "source": [
    "В целом дубликаты в датасете практически отсутствуют. Даже совпадение двух категорий в рейтинге нельзя назвать полными дубликатами, так как у старых игр указывалось старое название рейтинга. Но для удобства я привел все в соответствии с современной классификацией."
   ]
  },
  {
   "cell_type": "markdown",
   "metadata": {},
   "source": [
    "### Расчет суммарных продаж для всех регионов"
   ]
  },
  {
   "cell_type": "code",
   "execution_count": 19,
   "metadata": {},
   "outputs": [],
   "source": [
    "data['total_sales'] = data.apply(lambda row: sum(row[['na_sales','eu_sales','jp_sales','other_sales']]),axis =1)"
   ]
  },
  {
   "cell_type": "code",
   "execution_count": 20,
   "metadata": {},
   "outputs": [
    {
     "data": {
      "text/html": [
       "<div>\n",
       "<style scoped>\n",
       "    .dataframe tbody tr th:only-of-type {\n",
       "        vertical-align: middle;\n",
       "    }\n",
       "\n",
       "    .dataframe tbody tr th {\n",
       "        vertical-align: top;\n",
       "    }\n",
       "\n",
       "    .dataframe thead th {\n",
       "        text-align: right;\n",
       "    }\n",
       "</style>\n",
       "<table border=\"1\" class=\"dataframe\">\n",
       "  <thead>\n",
       "    <tr style=\"text-align: right;\">\n",
       "      <th></th>\n",
       "      <th>name</th>\n",
       "      <th>platform</th>\n",
       "      <th>year_of_release</th>\n",
       "      <th>genre</th>\n",
       "      <th>na_sales</th>\n",
       "      <th>eu_sales</th>\n",
       "      <th>jp_sales</th>\n",
       "      <th>other_sales</th>\n",
       "      <th>critic_score</th>\n",
       "      <th>user_score</th>\n",
       "      <th>rating</th>\n",
       "      <th>total_sales</th>\n",
       "    </tr>\n",
       "  </thead>\n",
       "  <tbody>\n",
       "    <tr>\n",
       "      <th>0</th>\n",
       "      <td>Wii Sports</td>\n",
       "      <td>Wii</td>\n",
       "      <td>2006</td>\n",
       "      <td>Sports</td>\n",
       "      <td>41.36</td>\n",
       "      <td>28.96</td>\n",
       "      <td>3.77</td>\n",
       "      <td>8.45</td>\n",
       "      <td>76.0</td>\n",
       "      <td>8.0</td>\n",
       "      <td>E</td>\n",
       "      <td>82.54</td>\n",
       "    </tr>\n",
       "    <tr>\n",
       "      <th>1</th>\n",
       "      <td>Super Mario Bros.</td>\n",
       "      <td>NES</td>\n",
       "      <td>1985</td>\n",
       "      <td>Platform</td>\n",
       "      <td>29.08</td>\n",
       "      <td>3.58</td>\n",
       "      <td>6.81</td>\n",
       "      <td>0.77</td>\n",
       "      <td>NaN</td>\n",
       "      <td>NaN</td>\n",
       "      <td>RP</td>\n",
       "      <td>40.24</td>\n",
       "    </tr>\n",
       "    <tr>\n",
       "      <th>2</th>\n",
       "      <td>Mario Kart Wii</td>\n",
       "      <td>Wii</td>\n",
       "      <td>2008</td>\n",
       "      <td>Racing</td>\n",
       "      <td>15.68</td>\n",
       "      <td>12.76</td>\n",
       "      <td>3.79</td>\n",
       "      <td>3.29</td>\n",
       "      <td>82.0</td>\n",
       "      <td>8.3</td>\n",
       "      <td>E</td>\n",
       "      <td>35.52</td>\n",
       "    </tr>\n",
       "    <tr>\n",
       "      <th>3</th>\n",
       "      <td>Wii Sports Resort</td>\n",
       "      <td>Wii</td>\n",
       "      <td>2009</td>\n",
       "      <td>Sports</td>\n",
       "      <td>15.61</td>\n",
       "      <td>10.93</td>\n",
       "      <td>3.28</td>\n",
       "      <td>2.95</td>\n",
       "      <td>80.0</td>\n",
       "      <td>8.0</td>\n",
       "      <td>E</td>\n",
       "      <td>32.77</td>\n",
       "    </tr>\n",
       "    <tr>\n",
       "      <th>4</th>\n",
       "      <td>Pokemon Red/Pokemon Blue</td>\n",
       "      <td>GB</td>\n",
       "      <td>1996</td>\n",
       "      <td>Role-Playing</td>\n",
       "      <td>11.27</td>\n",
       "      <td>8.89</td>\n",
       "      <td>10.22</td>\n",
       "      <td>1.00</td>\n",
       "      <td>NaN</td>\n",
       "      <td>NaN</td>\n",
       "      <td>RP</td>\n",
       "      <td>31.38</td>\n",
       "    </tr>\n",
       "  </tbody>\n",
       "</table>\n",
       "</div>"
      ],
      "text/plain": [
       "                       name platform  year_of_release         genre  na_sales  \\\n",
       "0                Wii Sports      Wii             2006        Sports     41.36   \n",
       "1         Super Mario Bros.      NES             1985      Platform     29.08   \n",
       "2            Mario Kart Wii      Wii             2008        Racing     15.68   \n",
       "3         Wii Sports Resort      Wii             2009        Sports     15.61   \n",
       "4  Pokemon Red/Pokemon Blue       GB             1996  Role-Playing     11.27   \n",
       "\n",
       "   eu_sales  jp_sales  other_sales  critic_score  user_score rating  \\\n",
       "0     28.96      3.77         8.45          76.0         8.0      E   \n",
       "1      3.58      6.81         0.77           NaN         NaN     RP   \n",
       "2     12.76      3.79         3.29          82.0         8.3      E   \n",
       "3     10.93      3.28         2.95          80.0         8.0      E   \n",
       "4      8.89     10.22         1.00           NaN         NaN     RP   \n",
       "\n",
       "   total_sales  \n",
       "0        82.54  \n",
       "1        40.24  \n",
       "2        35.52  \n",
       "3        32.77  \n",
       "4        31.38  "
      ]
     },
     "execution_count": 20,
     "metadata": {},
     "output_type": "execute_result"
    }
   ],
   "source": [
    "data.head()"
   ]
  },
  {
   "cell_type": "markdown",
   "metadata": {},
   "source": [
    "Предоботка данных выполнена.\n",
    "\n",
    "* Заголовки столбцов приведены в нижний регистр\n",
    "* Типы данных заданы в соответствии со значениями\n",
    "* Пропуски изучены и внесены коррективы для приведения данных к единому формату, без существенных потерь данных\n",
    "* Проведен поиск дубликатов, столбец рейтинг приведен в единый формат\n",
    "* Расчита и добавлен столбец с общей суммой продаж для всех регионов"
   ]
  },
  {
   "cell_type": "markdown",
   "metadata": {},
   "source": [
    "## Исследование данных"
   ]
  },
  {
   "cell_type": "markdown",
   "metadata": {},
   "source": [
    "### Изучение распределения количества игр по годам"
   ]
  },
  {
   "cell_type": "code",
   "execution_count": 21,
   "metadata": {},
   "outputs": [
    {
     "data": {
      "image/png": "[encoded data removed]",
      "text/plain": [
       "<Figure size 1800x720 with 1 Axes>"
      ]
     },
     "metadata": {},
     "output_type": "display_data"
    }
   ],
   "source": [
    "#Выполним группировку по количеству игр выходивших в определенный год\n",
    "years_group = data.groupby('year_of_release').agg({'name':'count'})\n",
    "\n",
    "#Выберем оформление графика\n",
    "#plt.style.available\n",
    "\n",
    "# Для большого количества групп значений хорошо подходит столбчатый график с четким разделением по годам\n",
    "with plt.style.context('seaborn-dark'):\n",
    "    years_group.loc[1992:].plot(y='name', kind='bar', figsize=(25,10), color='y')\n",
    "    plt.xlabel('')"
   ]
  },
  {
   "cell_type": "markdown",
   "metadata": {},
   "source": [
    "Можно увидеть уверенный рост количества выпускаемых игр вплоть до 2009 года, 2008 и 2009 года стали пиками по количеству выпускаемых игр, начиная с 2010 года количество выпускаемых игр стало падать, к 2012 году сократилось более чем в два раза и плюс минус зафиксировалось на этой отметке. \n",
    "\n",
    "Падение вероятнее всего можно объяснить появлением игр на мобильных платформах, что добавило на рынок мощного игрока, который перетянул на себя кусок одеяла."
   ]
  },
  {
   "cell_type": "markdown",
   "metadata": {},
   "source": [
    "### Анализ продаж по платформам \n",
    "* Выделить платформы с наибольшими суммарными продажами\n",
    "* Построить график распределения по годам \n",
    "* Выяснить за какой характерный срок появляются новые и исчезают старые платформы"
   ]
  },
  {
   "cell_type": "code",
   "execution_count": 22,
   "metadata": {},
   "outputs": [
    {
     "data": {
      "text/plain": [
       "Text(0, 0.5, 'Количество продаж')"
      ]
     },
     "execution_count": 22,
     "metadata": {},
     "output_type": "execute_result"
    },
    {
     "data": {
      "image/png": "[encoded data removed]",
      "text/plain": [
       "<Figure size 1800x720 with 1 Axes>"
      ]
     },
     "metadata": {
      "needs_background": "light"
     },
     "output_type": "display_data"
    }
   ],
   "source": [
    "# Сводная таблица для подсчета суммарного количества проданных игр для каждой платформы\n",
    "sales_platform = data.pivot_table(index='platform', values='total_sales', aggfunc='sum').sort_values(\n",
    "    by='total_sales', ascending=False)\n",
    "\n",
    "# График для определения лидеров рынка\n",
    "plt.figure(figsize=(25,10))\n",
    "sns.barplot(x=sales_platform.index,y=sales_platform['total_sales'])\n",
    "plt.title(\"Суммарные продажи 1992 - 2016\")\n",
    "plt.xlabel(\"Консоль\")\n",
    "plt.ylabel(\"Количество продаж\")"
   ]
  },
  {
   "cell_type": "markdown",
   "metadata": {},
   "source": [
    "Исходя из представленных данных можно выделить топ-6 по количеству проданных игр это Playstation 2, Xbox 360, PlayStation 3, Wii, Nintendo DS и Playstaion (Первая). Остальные консоли имеют гораздо менее скромные показатели."
   ]
  },
  {
   "cell_type": "code",
   "execution_count": 23,
   "metadata": {},
   "outputs": [
    {
     "data": {
      "image/png": "[encoded data removed]",
      "text/plain": [
       "<Figure size 1800x720 with 1 Axes>"
      ]
     },
     "metadata": {
      "needs_background": "light"
     },
     "output_type": "display_data"
    }
   ],
   "source": [
    "# Функция вовзращающая сводную таблицу по заданным параметрам\n",
    "def year_platform(name, df):    \n",
    "    data_top = data[(data['platform'] == name) & (data['year_of_release'] > 1994)]\n",
    "    final = (data_top.pivot_table(index='year_of_release', \n",
    "                                values='total_sales', aggfunc='sum').sort_values('year_of_release', ascending=False))\n",
    "    return final\n",
    "\n",
    "# Выделим Топ 6 игроков рынка\n",
    "top_6 = data.pivot_table( index='platform', values='total_sales', \n",
    "                         aggfunc='sum').sort_values(by='total_sales', ascending=False).head(6)\n",
    "top_6 = top_6.reset_index().rename_axis(None, axis=1)\n",
    "\n",
    "# Укажем заголовки и параметры для графика\n",
    "plt.figure(figsize=(25,10))\n",
    "plt.title('График количества продаж игр для Топ 6 игровых консолей')\n",
    "plt.xlabel('Год')\n",
    "plt.xticks(np.arange(len(data['year_of_release'])), rotation = 45)\n",
    "plt.ylabel('Количество продаж')\n",
    "\n",
    "# При помощи функции построим график продаж игр для Топ 6 консолей по годам\n",
    "for i in list(top_6['platform']):\n",
    "    sns.lineplot(data=year_platform(i,data)['total_sales'], label=i)\n",
    "    plt.legend()"
   ]
  },
  {
   "cell_type": "markdown",
   "metadata": {},
   "source": [
    "Исходя из представленной информации, можно увидеть, что срок жизни консолей составляет в среднем около 10 лет. \n",
    "\n",
    "Особенно интересна политика компании Sony, они выпускали свежую консоль дважды, на похожих показателях падения продаж и вполне успешно подогревали интерес к своим консолям. \n",
    "\n",
    "У всех платмформ кроме Wii графики продаж весьма похожи, выпуск - плавный рост сроком от 3 до 5 лет, а затем такое же плавное снижение продаж. \n",
    "\n",
    "У Wii же можно видеть достаточно мощный старт, ускоренный рост, который почти дотянулся до успеха PS2, а затем затяжной спад и самый длительный период существования на минимальных показателях продаж. "
   ]
  },
  {
   "cell_type": "markdown",
   "metadata": {},
   "source": [
    "### Определение актуального периода для прогноза на 2017 год"
   ]
  },
  {
   "cell_type": "markdown",
   "metadata": {},
   "source": [
    "Для прогноза на 2017 год, для такой динамично развивающейся индустрии, как компьютерные игры, актуальными буду данные за послледние 3 года."
   ]
  },
  {
   "cell_type": "code",
   "execution_count": 24,
   "metadata": {},
   "outputs": [],
   "source": [
    "# Сказано - сделано, делаем выборку за последние 3 года.\n",
    "actual_data = data.query('year_of_release >= 2013')"
   ]
  },
  {
   "cell_type": "code",
   "execution_count": 25,
   "metadata": {},
   "outputs": [
    {
     "data": {
      "text/plain": [
       "array(['PS3', 'X360', 'PS4', '3DS', 'XOne', 'WiiU', 'Wii', 'PC', 'PSV',\n",
       "       'DS', 'PSP'], dtype=object)"
      ]
     },
     "execution_count": 25,
     "metadata": {},
     "output_type": "execute_result"
    }
   ],
   "source": [
    "# Посмотрим какие платформы попали в выборку\n",
    "actual_data['platform'].unique()"
   ]
  },
  {
   "cell_type": "markdown",
   "metadata": {},
   "source": [
    "В выборку попали пересечения смены поколений самых популярных консолей, PS3 и PS4, Xbox 360 и Xbox One, Wii и WiiU.\n",
    "Все разнообразие портативных консолей последних двух поколений от Sony и Nintendo. Ну и несменный PC."
   ]
  },
  {
   "cell_type": "markdown",
   "metadata": {},
   "source": [
    "### Анализ продаж игр для платформ заданного периода"
   ]
  },
  {
   "cell_type": "code",
   "execution_count": 26,
   "metadata": {},
   "outputs": [
    {
     "data": {
      "image/png": "[encoded data removed]",
      "text/plain": [
       "<Figure size 1800x720 with 1 Axes>"
      ]
     },
     "metadata": {
      "needs_background": "light"
     },
     "output_type": "display_data"
    }
   ],
   "source": [
    "# Сводная таблица для анализа общей картины продаж в актуальный период\n",
    "actual_data.pivot_table(index='year_of_release', columns = 'platform', \n",
    "                 values='total_sales', aggfunc='sum').plot(grid=True, figsize=(25, 10))\n",
    "\n",
    "# Параметры графика\n",
    "plt.title('График количества продаж игр за актуальный период')\n",
    "plt.xlabel('Год')\n",
    "plt.ylabel('Количество продаж')\n",
    "plt.show()"
   ]
  },
  {
   "cell_type": "markdown",
   "metadata": {},
   "source": [
    "* Четко видны лидеры рынка, это свежие платформы PS4 и Xboxe One\n",
    "* В сравнении с прошлыми годами и большим количеством игроков рынок становится более дифференцированным, выход новых консолей происходит все быстрее. Если раньше путь от старта до заката занимал в среднем 10 лет, то теперь всего 3-4 года.\n",
    "* Продажи игр для настольных консолей гораздо выше, чем для PC или портативных приставок.\n",
    "* В 2016 году видно падение продаж у всех игроков рынка, а это значит стоит ждать выхода приставок нового поколения от Xbox и PS, так точно, эта политика прослеживается за весь период, и вполне ожидаемо ждать новой волны интереса к ним, соответственно именно эти приставки и будем считать потенциально самыми прибыльными в 2017 году."
   ]
  },
  {
   "cell_type": "markdown",
   "metadata": {},
   "source": [
    "### Диаграмма размаха по глобальным продажам игр в разбивке по платформе"
   ]
  },
  {
   "cell_type": "code",
   "execution_count": 27,
   "metadata": {},
   "outputs": [
    {
     "data": {
      "image/png": "[encoded data removed]",
      "text/plain": [
       "<Figure size 1800x720 with 1 Axes>"
      ]
     },
     "metadata": {
      "needs_background": "light"
     },
     "output_type": "display_data"
    }
   ],
   "source": [
    "# Построим диаграмму размаха для актуального периода\n",
    "plt.figure(figsize=(25,10))\n",
    "sns.boxplot(data=actual_data, x='platform', y='total_sales')\n",
    "# Поработаем с визуалом\n",
    "plt.title('Диаграмма размаха', fontsize=15)\n",
    "plt.xlabel('Платформа', fontsize=12)\n",
    "plt.ylabel('Продажи',fontsize=12)\n",
    "plt.ylim([0, 2])\n",
    "plt.show()"
   ]
  },
  {
   "cell_type": "markdown",
   "metadata": {},
   "source": [
    "Безусловно на диаграмме размаха присутствуют выбросы, однако вряд ли это можно считать аномалиями, ведь успех каждой отдельно взятой игры уникален. \n",
    "\n",
    "Исходя из полученной диаграммы можно сделать следующие выводы:\n",
    "* Исходя из медианных значений можно выделить лидеров продаж, похоже это все настольные консоли: \n",
    "  Xbox 360, PS3, PS4, Xbox One, WiiU, Wii\n",
    "* Низкие показатели продаж у портативных консолей, DS, 3DS, PSP, PSV и у ПК."
   ]
  },
  {
   "cell_type": "code",
   "execution_count": 28,
   "metadata": {},
   "outputs": [
    {
     "data": {
      "image/png": "[encoded data removed]",
      "text/plain": [
       "<Figure size 1800x720 with 1 Axes>"
      ]
     },
     "metadata": {
      "needs_background": "light"
     },
     "output_type": "display_data"
    }
   ],
   "source": [
    "# Построим диаграмму размаха для актуального периода\n",
    "plt.figure(figsize=(25,10))\n",
    "sns.boxplot(data=actual_data, x='platform', y='total_sales')\n",
    "# Поработаем с визуалом\n",
    "plt.title('Диаграмма размаха для демонстрации выбросов', fontsize=15)\n",
    "plt.xlabel('Платформа', fontsize=12)\n",
    "plt.ylabel('Продажи',fontsize=12)\n",
    "plt.show()"
   ]
  },
  {
   "cell_type": "markdown",
   "metadata": {},
   "source": [
    "Уникальные, если можно так выразиться \"выстреливающие\" игры, вполне характерны для этого рынка, нельзя их так просто сбрасывать со счетов, по графику четко видно что практически у всех платформ их достаточно много и их доли продаж высоки."
   ]
  },
  {
   "cell_type": "markdown",
   "metadata": {},
   "source": [
    "### Определение влияние отзывов и критиков на продажи"
   ]
  },
  {
   "cell_type": "code",
   "execution_count": 29,
   "metadata": {},
   "outputs": [],
   "source": [
    "# Срез по интересующей нас платформе\n",
    "xbox_data = actual_data.query('platform == \"X360\"')\n",
    "xbox_data = xbox_data.sort_values('user_score',ascending = False)"
   ]
  },
  {
   "cell_type": "code",
   "execution_count": 30,
   "metadata": {},
   "outputs": [
    {
     "name": "stdout",
     "output_type": "stream",
     "text": [
      "Корреляция между оценками пользователей и продажами Xbox 360: -0.011742185147181356\n",
      "Корреляция между оценками критиков и продажами Xbox 360: 0.3503445460228664\n"
     ]
    }
   ],
   "source": [
    "# Выведем результат расчета корреляций\n",
    "print('Корреляция между оценками пользователей и продажами Xbox 360:', xbox_data['user_score'].corr(xbox_data['total_sales']))\n",
    "print('Корреляция между оценками критиков и продажами Xbox 360:', xbox_data['critic_score'].corr(xbox_data['total_sales']))"
   ]
  },
  {
   "cell_type": "code",
   "execution_count": 31,
   "metadata": {
    "scrolled": false
   },
   "outputs": [
    {
     "data": {
      "image/png": "[encoded data removed]",
      "text/plain": [
       "<Figure size 1080x504 with 2 Axes>"
      ]
     },
     "metadata": {
      "needs_background": "light"
     },
     "output_type": "display_data"
    }
   ],
   "source": [
    "# Построим графики рассеивания\n",
    "fig_scatter, (scatter_ax,scatter_ax2) = plt.subplots(1,2, figsize = (15,7))\n",
    "scatter_ax.scatter(y= 'critic_score', x = 'total_sales',data =xbox_data)\n",
    "scatter_ax2.scatter(y= 'user_score', x = 'total_sales',data =xbox_data)\n",
    "scatter_ax.set_title('Оценка критиков Xbox 360')\n",
    "scatter_ax2.set_title('Оценка пользователей Xbox 360')\n",
    "plt.show()"
   ]
  },
  {
   "cell_type": "markdown",
   "metadata": {},
   "source": [
    "Корреляция между оценкой пользователей и продажами практически отсутствует, а между оценкой критиков и продажами слишком слабая, чтобы говорить о прямом влиянии. Можно сделать вывод, что для платформы X360 оценки чьи бы то ни было, не влияют на количество проданных игр."
   ]
  },
  {
   "cell_type": "code",
   "execution_count": 32,
   "metadata": {},
   "outputs": [],
   "source": [
    "# Срез по интересующим нас платформам\n",
    "PS4_data = actual_data.query('platform == \"PS4\"')\n",
    "Wii_data = actual_data.query('platform == \"WiiU\"')\n",
    "PS4_data = PS4_data.sort_values('user_score',ascending=False)\n",
    "WiiU_data = Wii_data.sort_values('user_score',ascending=False)"
   ]
  },
  {
   "cell_type": "code",
   "execution_count": 33,
   "metadata": {},
   "outputs": [
    {
     "name": "stdout",
     "output_type": "stream",
     "text": [
      "Корреляция между оценками пользователей и продажами PS4: -0.031957110204556424\n",
      "Корреляция между оценками критиков и продажами PS4: 0.40656790206178134\n",
      "Корреляция между оценками пользователей и продажами WiiU: 0.41933048192661876\n",
      "Корреляция между оценками критиков и продажами WiiU: 0.3764149065423913\n"
     ]
    }
   ],
   "source": [
    "# Выведем результат расчета корреляций\n",
    "print('Корреляция между оценками пользователей и продажами PS4:', PS4_data['user_score'].corr(PS4_data['total_sales']))\n",
    "print('Корреляция между оценками критиков и продажами PS4:', PS4_data['critic_score'].corr(PS4_data['total_sales']))\n",
    "\n",
    "print('Корреляция между оценками пользователей и продажами WiiU:', WiiU_data['user_score'].corr(WiiU_data['total_sales']))\n",
    "print('Корреляция между оценками критиков и продажами WiiU:', WiiU_data['critic_score'].corr(WiiU_data['total_sales']))"
   ]
  },
  {
   "cell_type": "code",
   "execution_count": 34,
   "metadata": {},
   "outputs": [
    {
     "data": {
      "image/png": "[encoded data removed]",
      "text/plain": [
       "<Figure size 1080x504 with 2 Axes>"
      ]
     },
     "metadata": {
      "needs_background": "light"
     },
     "output_type": "display_data"
    }
   ],
   "source": [
    "# Построим графики рассеивания\n",
    "fig_scatter, (scatter_ax,scatter_ax2) = plt.subplots(1,2, figsize = (15,7))\n",
    "scatter_ax.scatter(y= 'critic_score', x = 'total_sales',data =PS4_data)\n",
    "scatter_ax2.scatter(y= 'user_score', x = 'total_sales',data =PS4_data)\n",
    "scatter_ax.set_title('Оценка критиков PS4')\n",
    "scatter_ax2.set_title('Оценка пользователей PS4')\n",
    "plt.show()"
   ]
  },
  {
   "cell_type": "code",
   "execution_count": 35,
   "metadata": {},
   "outputs": [
    {
     "data": {
      "image/png": "[encoded data removed]",
      "text/plain": [
       "<Figure size 1080x504 with 2 Axes>"
      ]
     },
     "metadata": {
      "needs_background": "light"
     },
     "output_type": "display_data"
    }
   ],
   "source": [
    "# Построим графики рассеивания\n",
    "fig_scatter, (scatter_ax,scatter_ax2) = plt.subplots(1,2, figsize = (15,7))\n",
    "scatter_ax.scatter(y= 'critic_score', x = 'total_sales',data =WiiU_data)\n",
    "scatter_ax2.scatter(y= 'user_score', x = 'total_sales',data =WiiU_data)\n",
    "scatter_ax.set_title('Оценка критиков WiiU')\n",
    "scatter_ax2.set_title('Оценка пользователей WiiU')\n",
    "plt.show()"
   ]
  },
  {
   "cell_type": "markdown",
   "metadata": {},
   "source": [
    "Для платформ WiiU и PS4 значения корреляции, хоть и ближе к умеренным, однако все еще достаточно слабые. Можно прийти к выводам, что перед покупкой игр, пользователи поглядывают на рейтинги, однако это далеко не самый решающий фактор."
   ]
  },
  {
   "cell_type": "markdown",
   "metadata": {},
   "source": [
    "### Изучение распределения игр по жанрам"
   ]
  },
  {
   "cell_type": "code",
   "execution_count": 36,
   "metadata": {},
   "outputs": [
    {
     "data": {
      "image/png": "[encoded data removed]",
      "text/plain": [
       "<Figure size 1800x720 with 1 Axes>"
      ]
     },
     "metadata": {
      "needs_background": "light"
     },
     "output_type": "display_data"
    }
   ],
   "source": [
    "# Создадим сводную таблицу для создания рейтинга жанров\n",
    "# genre_rating = actual_data.pivot_table(index='genre', values='total_sales', aggfunc='sum').sort_values(\n",
    "    # by='total_sales', ascending=False).reset_index().rename_axis(None, axis=1)\n",
    "\n",
    "#График для анализа результатов\n",
    "# plt.figure(figsize=(25,10))\n",
    "# plt.title('Рейтинг жанров по количеству продаж ',fontsize=15)\n",
    "# sns.barplot(data=genre_rating, x='genre', y='total_sales')\n",
    "# plt.xlabel('Жанр',fontsize=12)\n",
    "# plt.ylabel('Продажи',fontsize=12)\n",
    "# plt.show()\n",
    "\n",
    "# Построим диаграмму размаха для актуального периода\n",
    "plt.figure(figsize=(25,10))\n",
    "sns.boxplot(data=actual_data, x='genre', y='total_sales')\n",
    "# Поработаем с визуалом\n",
    "plt.title('Диаграмма размаха', fontsize=15)\n",
    "plt.xlabel('Жанр', fontsize=12)\n",
    "plt.ylabel('Продажи',fontsize=12)\n",
    "plt.ylim([0, 2])\n",
    "plt.show()"
   ]
  },
  {
   "cell_type": "markdown",
   "metadata": {},
   "source": [
    "   Вполне наглядный результат. \n",
    "   \n",
    "Если проводить анализ по медине значений то можно увидеть:\n",
    "\n",
    "* Самый стабильно продаваемый жанр это Шутеры, следом Спортивные симуляторы, а за ними платформеры.\n",
    "* Средние продажи жанров Экшн, РПГ и Misc не так высоки, однако большое количество выбросов говорит о том, что среди них много очень успешных проектов. Получается что в массе своей эти жанры не особо продаются, а вот вероятность наткнутся на сильную может даже легендарную игру в этом жанре достаточно высока. Все это касается и жанра Адвенчур, но в несколько меньшей степени. \n",
    "* Файтинги, Гонки, Симуляторы и Стратегии в сравнении показывают весьма скромный результат.\n",
    "* Ну и жанр головоломок остался самым не примечательным, средние продажи на низком уровне и выбросов достаточно мало.\n"
   ]
  },
  {
   "cell_type": "markdown",
   "metadata": {},
   "source": [
    "## Портрет пользователя Америки, Европы и Японии и их сравнение"
   ]
  },
  {
   "cell_type": "markdown",
   "metadata": {},
   "source": [
    "### Топ 5 Платформ"
   ]
  },
  {
   "cell_type": "code",
   "execution_count": 37,
   "metadata": {},
   "outputs": [
    {
     "data": {
      "image/png": "[encoded data removed]",
      "text/plain": [
       "<Figure size 1800x360 with 3 Axes>"
      ]
     },
     "metadata": {},
     "output_type": "display_data"
    }
   ],
   "source": [
    "#Группируем по платформе для каждого региона\n",
    "america = actual_data.groupby('platform')['na_sales'].sum().sort_values(ascending=False).head(5)\n",
    "europe = actual_data.groupby('platform')['eu_sales'].sum().sort_values(ascending=False).head(5)\n",
    "japan = actual_data.groupby('platform')['jp_sales'].sum().sort_values(ascending=False).head(5)\n",
    "\n",
    "#Чтобы красиво было\n",
    "fig, axes = plt.subplots(1, 3, figsize=(25, 5))\n",
    "#Урвем кусок пирога\n",
    "explode = (0.1, 0, 0, 0, 0)\n",
    "#Круговая диаграмма для Америки\n",
    "plt.subplot(1, 2, 1)\n",
    "america.plot(x='platform', y='na_sales', kind='pie',\n",
    "                    grid=True, title='ТОП 5 Северной Америки', explode=explode,\n",
    "                    autopct='%1.1f%%', shadow=True, startangle=90)\n",
    "#Круговая диаграмма для Европы\n",
    "plt.ylabel('')\n",
    "plt.subplot(1, 2, 2)\n",
    "europe.plot(x='platform', y='eu_sales', kind='pie',\n",
    "                    grid=True, title='ТОП 5 Европы', explode=explode,\n",
    "                    autopct='%1.1f%%', shadow=True, startangle=90)\n",
    "#Круговая диаграма для Японии\n",
    "plt.ylabel('')\n",
    "plt.subplot(1, 3, 2)\n",
    "japan.plot(x='platform', y='jp_sales', kind='pie',\n",
    "                    grid=True, title='ТОП 5 Японии', explode=explode,\n",
    "                    autopct='%1.1f%%', shadow=True, startangle=90)\n",
    "plt.ylabel('')\n",
    "fig.suptitle('Рейтинг популярности платформ ', fontsize=16)\n",
    "#Вывод диаграмм\n",
    "plt.show()"
   ]
  },
  {
   "cell_type": "markdown",
   "metadata": {},
   "source": [
    "Для Европы (в большей степени) и Северной Америке (чуть в меньшей степени) безусловным лидером является PS4. Интересен тот факт что в Европе в отличии от Америке предпочитают покупать игры для уже устаревшей PS3, чем переходить на свежую XOne, консервативная прослойка. Прочие места рейтинга поделили 3DS и старый Xbox 360.\n",
    "\n",
    "В Японии рейтинг возглавляет 3DS, затем PS3, DS и PSP заняли твердую середину, замыкающая консоль WiiU.\n",
    "\n",
    "В целом очень похоже на то, что в лидерах рейтинга Япония поддерживает отечественного производителя. Вероятнее всего, родная реклама делает свое дело эффективнее зарубежной. Впрочем в Японии весь рейтинг состоит из консолей японской разработоки.  "
   ]
  },
  {
   "cell_type": "markdown",
   "metadata": {},
   "source": [
    "### Топ 5 Жанров"
   ]
  },
  {
   "cell_type": "code",
   "execution_count": 38,
   "metadata": {},
   "outputs": [
    {
     "data": {
      "image/png": "[encoded data removed]",
      "text/plain": [
       "<Figure size 1800x360 with 3 Axes>"
      ]
     },
     "metadata": {},
     "output_type": "display_data"
    }
   ],
   "source": [
    "#Группируем по жанру для каждого региона\n",
    "america = actual_data.groupby('genre')['na_sales'].sum().sort_values(ascending=False).head(5)\n",
    "europe = actual_data.groupby('genre')['eu_sales'].sum().sort_values(ascending=False).head(5)\n",
    "japan = actual_data.groupby('genre')['jp_sales'].sum().sort_values(ascending=False).head(5)\n",
    "\n",
    "#Чтобы красиво было\n",
    "fig, axes = plt.subplots(1, 3, figsize=(25, 5))\n",
    "#Урвем кусок пирога\n",
    "explode = (0.1, 0, 0, 0, 0)\n",
    "#Круговая диаграмма для Америки\n",
    "plt.subplot(1, 2, 1)\n",
    "america.plot(x='genre', y='na_sales', kind='pie',\n",
    "                    grid=True, title='ТОП 5 Северной Америки', explode=explode,\n",
    "                    autopct='%1.1f%%', shadow=True, startangle=90)\n",
    "#Круговая диаграмма для Европы\n",
    "plt.ylabel('')\n",
    "plt.subplot(1, 2, 2)\n",
    "europe.plot(x='genre', y='eu_sales', kind='pie',\n",
    "                    grid=True, title='ТОП 5 Европы', explode=explode,\n",
    "                    autopct='%1.1f%%', shadow=True, startangle=90)\n",
    "#Круговая диаграма для Японии\n",
    "plt.ylabel('')\n",
    "plt.subplot(1, 3, 2)\n",
    "japan.plot(x='genre', y='jp_sales', kind='pie',\n",
    "                    grid=True, title='ТОП 5 Японии', explode=explode,\n",
    "                    autopct='%1.1f%%', shadow=True, startangle=90)\n",
    "plt.ylabel('')\n",
    "fig.suptitle('Рейтинг популярности жанров', fontsize=16)\n",
    "\n",
    "#Вывод диаграмм\n",
    "plt.show()"
   ]
  },
  {
   "cell_type": "markdown",
   "metadata": {},
   "source": [
    "Мнения о жанрах в Северной Америке и Европе совпали. Больше всего любят побегать в Экшнах и пострелять в Шутерах, чуть менее популярно поиграть в Фифу с друзьями (жанр Спорт), а вот Misc в Америке любят чуть больше чем в Европе, там больше любят гоночные симуляторы, важно отметить что РПГ заняло предпоследнюю строчку рейтинга в обоих регионах.\n",
    "\n",
    "В Японии же огромную долю рынка занимаю РПГ, затем идут Экшены, и примерно в равных долях Misc, Файтинги и Шутеры. Стрелялки в Японии, похоже не в чести. Другая культура."
   ]
  },
  {
   "cell_type": "markdown",
   "metadata": {},
   "source": [
    "### Влияние рейтинга  ESRB на продажи по регионам"
   ]
  },
  {
   "cell_type": "code",
   "execution_count": 39,
   "metadata": {},
   "outputs": [
    {
     "data": {
      "image/png": "[encoded data removed]",
      "text/plain": [
       "<Figure size 1800x360 with 3 Axes>"
      ]
     },
     "metadata": {},
     "output_type": "display_data"
    }
   ],
   "source": [
    "japan_ret = actual_data.groupby('rating')['jp_sales'].sum().sort_values(ascending=False).head(5)\n",
    "europe_ret = actual_data.groupby('rating')['eu_sales'].sum().sort_values(ascending=False).head(5)\n",
    "america_ret = actual_data.groupby('rating')['na_sales'].sum().sort_values(ascending=False).head(5)\n",
    "\n",
    "#Слышал что круговые диаграммы сейчас не модные, а в этом случае удобно же.\n",
    "fig, axes = plt.subplots(1, 3, figsize=(25, 5))\n",
    "#Урвем кусок пирога\n",
    "explode = (0.1, 0, 0, 0, 0)\n",
    "#Круговая диаграмма для Америки\n",
    "plt.subplot(1, 2, 1)\n",
    "america_ret.plot(x='rating', y='na_sales', kind='pie',\n",
    "                    grid=True, title='ТОП 5 Северной Америки', explode=explode,\n",
    "                    autopct='%1.1f%%', shadow=True, startangle=90)\n",
    "#Круговая диаграмма для Европы\n",
    "plt.ylabel('')\n",
    "plt.subplot(1, 2, 2)\n",
    "europe_ret.plot(x='rating', y='eu_sales', kind='pie',\n",
    "                    grid=True, title='ТОП 5 Европы', explode=explode,\n",
    "                    autopct='%1.1f%%', shadow=True, startangle=90)\n",
    "#Круговая диаграма для Японии\n",
    "plt.ylabel('')\n",
    "plt.subplot(1, 3, 2)\n",
    "japan_ret.plot(x='rating', y='jp_sales', kind='pie',\n",
    "                    grid=True, title='ТОП 5 Японии', explode=explode,\n",
    "                    autopct='%1.1f%%', shadow=True, startangle=90)\n",
    "plt.ylabel('')\n",
    "fig.suptitle('Показатели продаж по рейтингу ESRB', fontsize=16)\n",
    "\n",
    "#Вывод диаграмм\n",
    "plt.show()"
   ]
  },
  {
   "cell_type": "markdown",
   "metadata": {},
   "source": [
    "Американцы и Европейцы предпочитают играть в игры рейтинга М и Е, показатели очень похожи, это игры для всех и игры для взрослых, менее объемные продажи у игр с рейтингам Т, E10+ и без рейтинга. Пропорции немного отличаются, но не критично. Регионы очень похожи по своим показателям.\n",
    "\n",
    "А вот в Японии учитывая, что и платформы преобладают отечественные, и жанр в Америке и Европе не популярный в лидерах (РПГ), больше половины продаваемых игр без рейтинга. Это может говорить о том, что Японцы свои игры этой классификации не подвергают и играют в отечественные игры на отечественных консолях. Я бы ставил на это."
   ]
  },
  {
   "cell_type": "markdown",
   "metadata": {},
   "source": [
    "## Проверка гипотез"
   ]
  },
  {
   "cell_type": "markdown",
   "metadata": {},
   "source": [
    "### Средние пользовательские рейтинги платформ Xbox One и PC одинаковые"
   ]
  },
  {
   "cell_type": "markdown",
   "metadata": {},
   "source": [
    "Сформулируем нулевую и анльтернативную гипотезы:\n",
    "\n",
    "    Н0: Средний пользовательский рейтинг платформ Xbox One и PC одинаковый\n",
    "    H1: Средний пользовательский рейтинг платформ Xbox One и PC различается\n",
    "\n",
    "Так как выборки независимы будем использовать t-критерий Стьюдента"
   ]
  },
  {
   "cell_type": "code",
   "execution_count": 40,
   "metadata": {},
   "outputs": [],
   "source": [
    "# Запишем в переменные необходимые значения, за исключением нулевых значений\n",
    "xbox_one = actual_data[(actual_data['platform'] == 'XOne') & (actual_data['user_score'] > 0)]['user_score']\n",
    "pc = actual_data[(actual_data['platform'] == 'PC') & (actual_data['user_score'] > 0)]['user_score']"
   ]
  },
  {
   "cell_type": "code",
   "execution_count": 41,
   "metadata": {},
   "outputs": [],
   "source": [
    "# Запустим тест\n",
    "results = st.ttest_ind(xbox_one, pc)"
   ]
  },
  {
   "cell_type": "code",
   "execution_count": 42,
   "metadata": {},
   "outputs": [
    {
     "name": "stdout",
     "output_type": "stream",
     "text": [
      "p-значение: 0.14012658403611647\n",
      "Не получилось опровергнуть нулевую гипотезу\n"
     ]
    }
   ],
   "source": [
    "# Задаем значение Альфа\n",
    "alpha = .05\n",
    "\n",
    "# Вывод результата\n",
    "print('p-значение:', results.pvalue)\n",
    "\n",
    "if (results.pvalue < alpha):\n",
    "    print(\"Опровергаем нулевую гипотезу\")\n",
    "else:\n",
    "    print(\"Не получилось опровергнуть нулевую гипотезу\")"
   ]
  },
  {
   "cell_type": "markdown",
   "metadata": {},
   "source": [
    "Вывод: Средний пользовательский рейтинг платформ Xbox One и PC одинаковый"
   ]
  },
  {
   "cell_type": "markdown",
   "metadata": {},
   "source": [
    "### Средние пользовательские рейтинги жанров Action и Sports разные"
   ]
  },
  {
   "cell_type": "markdown",
   "metadata": {},
   "source": [
    "Сформулируем нулевую и анльтернативную гипотезы:\n",
    "\n",
    "    H0: Средние пользовательские рейтинги жанров Action и Sports равны\n",
    "    H1: Средние пользовательские рейтинги жанров Action и Sports различаются\n",
    "    \n",
    "Так как выборки независимы будем использовать t-критерий Стьюдента\n"
   ]
  },
  {
   "cell_type": "code",
   "execution_count": 43,
   "metadata": {},
   "outputs": [],
   "source": [
    "# Запишем в переменные необходимые значения, за исключением нулевых значений\n",
    "action = actual_data[(actual_data['genre'] == 'Action') & (actual_data['user_score'] > 0)]['user_score']\n",
    "sports = actual_data[(actual_data['genre'] == 'Sports') & (actual_data['user_score'] > 0)]['user_score']"
   ]
  },
  {
   "cell_type": "code",
   "execution_count": 44,
   "metadata": {},
   "outputs": [],
   "source": [
    "# Запустим тест\n",
    "results = st.ttest_ind(sports, action)"
   ]
  },
  {
   "cell_type": "code",
   "execution_count": 45,
   "metadata": {},
   "outputs": [
    {
     "name": "stdout",
     "output_type": "stream",
     "text": [
      "p-значение: 1.0517832389140023e-27\n",
      "Опровергаем нулевую гипотезу\n"
     ]
    }
   ],
   "source": [
    "# Задаем значение Альфа\n",
    "alpha = .05\n",
    "\n",
    "# Вывод результата\n",
    "print('p-значение:', results.pvalue)\n",
    "\n",
    "if (results.pvalue < alpha):\n",
    "    print(\"Опровергаем нулевую гипотезу\")\n",
    "else:\n",
    "    print(\"Не получилось опровергнуть нулевую гипотезу\")"
   ]
  },
  {
   "cell_type": "markdown",
   "metadata": {},
   "source": [
    "Вывод: Средние пользовательские рейтинги жанров Action и Sports различаются"
   ]
  },
  {
   "cell_type": "markdown",
   "metadata": {},
   "source": [
    "## Вывод"
   ]
  },
  {
   "cell_type": "markdown",
   "metadata": {},
   "source": [
    "Итоги проделанной работы.\n",
    "\n",
    "Перед анализом была проведена подготовка данных к работе. Заголовки столбцов были приведены в единый формат. Типы данных были измененены в соответствии с их значениями, для возможности дальнейших операций с ними. Удалены строки с пропусками значений, которые могли повлиять на точность проводимого анализа. Прочие отсутствующие значений приведены к единому стандарту. Проведена проверка датасета на дубликаты, значения рейтинга ESRB приведены к актуальным. Произведен расчет общих суммарных продаж для всех регионов и добавлен в датасет.\n",
    "\n",
    "В ходе анализа были сделаны следующие наблюдения.\n",
    "\n",
    "Исходя из количества выпускаемых игр по каждому году всего датасета, можно увидеть как формировался рынок компьютерных игр с течением времени, можно отметить активный рост с 1995 по 2009 год, за счет того, что платформы существовали в среднем около 10 лет, выпускалось огромное количество игр, а после 2009 года, за счет роста конкуренции, ускорялись и выпуски новых платформ, на рынке постепеннь появлялись новые игроки, количество выпускаемых игр сокращалось и рынок стал более дифференцированным. \n",
    "\n",
    "Для дальнейшего исследования был выбран период по большей части уже сформировавшегося актуального рынка, с 2009 по 2016 год.\n",
    "\n",
    "В условиях актуального глобального рынка можно отметить двух очевидных лидеров продаж, это игры для консолей Sony Playstation и Xbox. Считаю что их платформы будут самыми перспективными в 2017 году.\n",
    "\n",
    "Так же стоит указать, что портативные консоли от Nintendo и Sony, а так же игры для PC, хоть им не свойственны такие же высокие показатели продаж, как для консолей, заняли свою нишу на рынке и дают стабильные показатели продаж.\n",
    "\n",
    "Было рассмотрено влияние двух видов рейтингов на количество продаж: Оценки пользователей и Оценки критиков. По полученым выборочным данным можно прийти к выводу, что влияние либо отсутствует вовсе или минимальное.\n",
    "\n",
    "Среди жанров выпускаемых игр так же есть определенная градация по сумме продаж для глобального рынка. Предлагаю выделить три категории.\n",
    "\n",
    "* Безусловные лидеры:\n",
    "Жанр Shooter, Спортивные симуляторы и Платформеры\n",
    "\n",
    "Меньше слов, больше дела, как говорится\n",
    "\n",
    "* Твердая середина:\n",
    "\n",
    "Жанры Action, RPG, Misc\n",
    "\n",
    "Представители этих жанров дают очень неплохие показатели продаж на глобальном рынке\n",
    "\n",
    "* Менее востребованные\n",
    "\n",
    "Жанры Гонки, Файтинги, Симуляторы, Адвенчуры, Стратегии и Головоломки\n",
    "\n",
    "Представители этих жанров имеют относительно низкий уровень продаж\n",
    "\n",
    "\n",
    "В ходе анализа так же были составлены портреты среднестатистического пользователя для трех регионов.\n",
    "\n",
    "В Северной Америке самой популярной игровой платформой стала PS4, вторая по популярности XboxOne, так же в рейтинг вошли PS3, 3DS и Xbox 360.\n",
    "\n",
    "Самым популярным жанром стал Экшн, второе место заняли Шутеры, остальные позиции разделили между собой Спортивные игры, РПГ и Misc.\n",
    "\n",
    "Что касается рейтингов то первые позиции заняли M и E, это может говорить, что в игры играют и дети и взрослые. Логично.\n",
    "\n",
    "\n",
    "Для Европы самой поплярной платформой стала PS4, на второй строчке PS3.\n",
    "\n",
    "Популярность жанров, максимально схожа с предпочтениями Американцев.\n",
    "То же самое касается и рейтингов игр.\n",
    "\n",
    "А вот в рейтинг поплярных платформ Японии вошли только консоли японской разработкой, самой популярной оказалась Nintendo 3DS, далее PS3, PSV, PS4. WiiU\n",
    "\n",
    "Поплярные жанры так же отличаются от Европы и Америки, РПГ определенно самый популярный жанр в Японии.\n",
    "\n",
    "Огромную долю Японского рынка составляют игры без возрастного рейтинга, как такового, похоже возрастной ценз для компьютерных игр в Японии либо игнорируется либо используется другая система.\n",
    "\n",
    "Исходя из проделанной работы, можно уверенно сказать, что приципы работы с данными отработаны. А что касается прогноза, вероятнее всего в скором времени стоит ожидать выхода новых платформ от Microsoft и Sony. Это безусловные лидеры продаж и потенциально самые прибыльные представители для игровой индустрии. Так же стоит отметить что Nintendo 3DS, хоть и выглядит скромно на общем фоне, однако портативный консоли это все таки уже отдельный рынок, на нем она явный лидер. Ну и всегда есть вероятность, что рынок развернет, какая-нибудь иновационная разработка, несмотря на то, что вход на рынок игровых платформ сейчас очень высок, индустрия наращивает темы своего развития, как знать, возможно скоро мы увидим новых игроков."
   ]
  }
 ],
 "metadata": {
  "ExecuteTimeLog": [
   {
    "duration": 772,
    "start_time": "2022-11-06T23:21:49.090Z"
   },
   {
    "duration": 111,
    "start_time": "2022-11-06T23:21:50.992Z"
   },
   {
    "duration": 16,
    "start_time": "2022-11-06T23:23:38.438Z"
   },
   {
    "duration": 56,
    "start_time": "2022-11-06T23:23:51.564Z"
   },
   {
    "duration": 14,
    "start_time": "2022-11-06T23:23:53.107Z"
   },
   {
    "duration": 3,
    "start_time": "2022-11-06T23:28:08.468Z"
   },
   {
    "duration": 15,
    "start_time": "2022-11-06T23:28:11.913Z"
   },
   {
    "duration": 21,
    "start_time": "2022-11-06T23:30:27.393Z"
   },
   {
    "duration": 6,
    "start_time": "2022-11-06T23:34:16.981Z"
   },
   {
    "duration": 77,
    "start_time": "2022-11-06T23:41:54.938Z"
   },
   {
    "duration": 10,
    "start_time": "2022-11-06T23:43:55.912Z"
   },
   {
    "duration": 16,
    "start_time": "2022-11-06T23:44:02.456Z"
   },
   {
    "duration": 21,
    "start_time": "2022-11-06T23:44:07.156Z"
   },
   {
    "duration": 19,
    "start_time": "2022-11-06T23:44:30.955Z"
   },
   {
    "duration": 14,
    "start_time": "2022-11-06T23:44:34.753Z"
   },
   {
    "duration": 58,
    "start_time": "2022-11-06T23:44:40.997Z"
   },
   {
    "duration": 14,
    "start_time": "2022-11-06T23:44:43.279Z"
   },
   {
    "duration": 3,
    "start_time": "2022-11-06T23:44:45.663Z"
   },
   {
    "duration": 6,
    "start_time": "2022-11-06T23:44:51.673Z"
   },
   {
    "duration": 14,
    "start_time": "2022-11-06T23:44:55.269Z"
   },
   {
    "duration": 58,
    "start_time": "2022-11-06T23:46:13.222Z"
   },
   {
    "duration": 15,
    "start_time": "2022-11-06T23:46:21.458Z"
   },
   {
    "duration": 734,
    "start_time": "2022-11-06T23:49:46.012Z"
   },
   {
    "duration": 3,
    "start_time": "2022-11-06T23:49:56.257Z"
   },
   {
    "duration": 9,
    "start_time": "2022-11-06T23:49:59.552Z"
   },
   {
    "duration": 13,
    "start_time": "2022-11-06T23:50:04.762Z"
   },
   {
    "duration": 19,
    "start_time": "2022-11-06T23:51:17.952Z"
   },
   {
    "duration": 13,
    "start_time": "2022-11-06T23:52:27.282Z"
   },
   {
    "duration": 12,
    "start_time": "2022-11-06T23:52:32.252Z"
   },
   {
    "duration": 50,
    "start_time": "2022-11-06T23:54:40.670Z"
   },
   {
    "duration": 14,
    "start_time": "2022-11-06T23:54:47.878Z"
   },
   {
    "duration": 29,
    "start_time": "2022-11-06T23:54:52.339Z"
   },
   {
    "duration": 17,
    "start_time": "2022-11-06T23:55:09.932Z"
   },
   {
    "duration": 5,
    "start_time": "2022-11-06T23:55:15.564Z"
   },
   {
    "duration": 442,
    "start_time": "2022-11-06T23:55:18.226Z"
   },
   {
    "duration": 7,
    "start_time": "2022-11-06T23:55:39.283Z"
   },
   {
    "duration": 13,
    "start_time": "2022-11-06T23:55:45.685Z"
   },
   {
    "duration": 8,
    "start_time": "2022-11-06T23:55:50.112Z"
   },
   {
    "duration": 14,
    "start_time": "2022-11-06T23:56:03.084Z"
   },
   {
    "duration": 13,
    "start_time": "2022-11-06T23:57:01.485Z"
   },
   {
    "duration": 8,
    "start_time": "2022-11-07T00:00:06.982Z"
   },
   {
    "duration": 4,
    "start_time": "2022-11-07T00:00:12.914Z"
   },
   {
    "duration": 15,
    "start_time": "2022-11-07T00:00:19.192Z"
   },
   {
    "duration": 14,
    "start_time": "2022-11-07T00:00:39.472Z"
   },
   {
    "duration": 69,
    "start_time": "2022-11-07T00:00:44.304Z"
   },
   {
    "duration": 18,
    "start_time": "2022-11-07T00:02:49.292Z"
   },
   {
    "duration": 56,
    "start_time": "2022-11-07T00:03:09.808Z"
   },
   {
    "duration": 3,
    "start_time": "2022-11-07T00:03:13.580Z"
   },
   {
    "duration": 8,
    "start_time": "2022-11-07T00:03:17.255Z"
   },
   {
    "duration": 13,
    "start_time": "2022-11-07T00:03:21.304Z"
   },
   {
    "duration": 14,
    "start_time": "2022-11-07T00:05:14.674Z"
   },
   {
    "duration": 6,
    "start_time": "2022-11-07T00:08:15.800Z"
   },
   {
    "duration": 5,
    "start_time": "2022-11-07T00:09:28.508Z"
   },
   {
    "duration": 18,
    "start_time": "2022-11-07T00:15:27.949Z"
   },
   {
    "duration": 9,
    "start_time": "2022-11-07T00:24:01.578Z"
   },
   {
    "duration": 15,
    "start_time": "2022-11-07T00:28:46.291Z"
   },
   {
    "duration": 4,
    "start_time": "2022-11-07T00:36:29.061Z"
   },
   {
    "duration": 14,
    "start_time": "2022-11-07T00:36:36.923Z"
   },
   {
    "duration": 4,
    "start_time": "2022-11-07T00:36:49.150Z"
   },
   {
    "duration": 13,
    "start_time": "2022-11-07T00:36:51.078Z"
   },
   {
    "duration": 5,
    "start_time": "2022-11-07T00:37:21.405Z"
   },
   {
    "duration": 14,
    "start_time": "2022-11-07T00:37:23.780Z"
   },
   {
    "duration": 9,
    "start_time": "2022-11-07T00:37:28.279Z"
   },
   {
    "duration": 7,
    "start_time": "2022-11-07T00:37:44.335Z"
   },
   {
    "duration": 4,
    "start_time": "2022-11-07T00:37:48.935Z"
   },
   {
    "duration": 16,
    "start_time": "2022-11-07T00:37:51.954Z"
   },
   {
    "duration": 22,
    "start_time": "2022-11-07T00:39:53.954Z"
   },
   {
    "duration": 11,
    "start_time": "2022-11-07T00:39:56.101Z"
   },
   {
    "duration": 10,
    "start_time": "2022-11-07T00:40:00.424Z"
   },
   {
    "duration": 24,
    "start_time": "2022-11-07T08:42:35.286Z"
   },
   {
    "duration": 13,
    "start_time": "2022-11-07T09:03:35.416Z"
   },
   {
    "duration": 15,
    "start_time": "2022-11-07T09:03:42.697Z"
   },
   {
    "duration": 10,
    "start_time": "2022-11-07T09:23:08.395Z"
   },
   {
    "duration": 14,
    "start_time": "2022-11-07T09:23:17.877Z"
   },
   {
    "duration": 35,
    "start_time": "2022-11-07T09:23:45.703Z"
   },
   {
    "duration": 30,
    "start_time": "2022-11-07T09:25:57.306Z"
   },
   {
    "duration": 19,
    "start_time": "2022-11-07T09:26:47.804Z"
   },
   {
    "duration": 26,
    "start_time": "2022-11-07T09:27:13.158Z"
   },
   {
    "duration": 18,
    "start_time": "2022-11-07T09:27:19.567Z"
   },
   {
    "duration": 7,
    "start_time": "2022-11-07T09:31:37.746Z"
   },
   {
    "duration": 10,
    "start_time": "2022-11-07T09:31:43.732Z"
   },
   {
    "duration": 3,
    "start_time": "2022-11-07T09:31:55.983Z"
   },
   {
    "duration": 54,
    "start_time": "2022-11-07T09:31:57.658Z"
   },
   {
    "duration": 15,
    "start_time": "2022-11-07T09:31:58.860Z"
   },
   {
    "duration": 2,
    "start_time": "2022-11-07T09:32:01.313Z"
   },
   {
    "duration": 14,
    "start_time": "2022-11-07T09:32:03.084Z"
   },
   {
    "duration": 5,
    "start_time": "2022-11-07T09:32:05.785Z"
   },
   {
    "duration": 8,
    "start_time": "2022-11-07T09:32:10.933Z"
   },
   {
    "duration": 20,
    "start_time": "2022-11-07T09:32:12.218Z"
   },
   {
    "duration": 10,
    "start_time": "2022-11-07T09:32:15.035Z"
   },
   {
    "duration": 14,
    "start_time": "2022-11-07T09:32:17.918Z"
   },
   {
    "duration": 8,
    "start_time": "2022-11-07T09:32:20.185Z"
   },
   {
    "duration": 24,
    "start_time": "2022-11-07T09:32:21.687Z"
   },
   {
    "duration": 18,
    "start_time": "2022-11-07T09:32:24.767Z"
   },
   {
    "duration": 8,
    "start_time": "2022-11-07T09:32:28.034Z"
   },
   {
    "duration": 7,
    "start_time": "2022-11-07T09:42:19.642Z"
   },
   {
    "duration": 16,
    "start_time": "2022-11-07T09:42:26.505Z"
   },
   {
    "duration": 13,
    "start_time": "2022-11-07T09:42:44.135Z"
   },
   {
    "duration": 6,
    "start_time": "2022-11-07T09:43:28.041Z"
   },
   {
    "duration": 9,
    "start_time": "2022-11-07T09:43:47.424Z"
   },
   {
    "duration": 5,
    "start_time": "2022-11-07T09:53:15.977Z"
   },
   {
    "duration": 6,
    "start_time": "2022-11-07T10:03:13.076Z"
   },
   {
    "duration": 6,
    "start_time": "2022-11-07T10:03:17.811Z"
   },
   {
    "duration": 5,
    "start_time": "2022-11-07T10:04:32.698Z"
   },
   {
    "duration": 5,
    "start_time": "2022-11-07T10:04:36.172Z"
   },
   {
    "duration": 738,
    "start_time": "2022-11-07T10:04:48.414Z"
   },
   {
    "duration": 56,
    "start_time": "2022-11-07T10:04:49.154Z"
   },
   {
    "duration": 19,
    "start_time": "2022-11-07T10:04:49.212Z"
   },
   {
    "duration": 5,
    "start_time": "2022-11-07T10:04:49.233Z"
   },
   {
    "duration": 43,
    "start_time": "2022-11-07T10:04:49.239Z"
   },
   {
    "duration": 31,
    "start_time": "2022-11-07T10:04:49.283Z"
   },
   {
    "duration": 25,
    "start_time": "2022-11-07T10:04:49.315Z"
   },
   {
    "duration": 47,
    "start_time": "2022-11-07T10:04:49.342Z"
   },
   {
    "duration": 9,
    "start_time": "2022-11-07T10:04:49.391Z"
   },
   {
    "duration": 14,
    "start_time": "2022-11-07T10:04:49.403Z"
   },
   {
    "duration": 8,
    "start_time": "2022-11-07T10:04:49.419Z"
   },
   {
    "duration": 28,
    "start_time": "2022-11-07T10:04:49.429Z"
   },
   {
    "duration": 19,
    "start_time": "2022-11-07T10:04:49.458Z"
   },
   {
    "duration": 8,
    "start_time": "2022-11-07T10:04:49.479Z"
   },
   {
    "duration": 5,
    "start_time": "2022-11-07T10:04:49.488Z"
   },
   {
    "duration": 22,
    "start_time": "2022-11-07T10:04:49.495Z"
   },
   {
    "duration": 22,
    "start_time": "2022-11-07T10:04:49.519Z"
   },
   {
    "duration": 10,
    "start_time": "2022-11-07T10:04:49.542Z"
   },
   {
    "duration": 7,
    "start_time": "2022-11-07T10:04:49.553Z"
   },
   {
    "duration": 5,
    "start_time": "2022-11-07T10:05:08.592Z"
   },
   {
    "duration": 5145,
    "start_time": "2022-11-07T10:08:46.914Z"
   },
   {
    "duration": 16,
    "start_time": "2022-11-07T10:09:09.079Z"
   },
   {
    "duration": 5,
    "start_time": "2022-11-07T10:14:00.978Z"
   },
   {
    "duration": 6,
    "start_time": "2022-11-07T10:14:08.975Z"
   },
   {
    "duration": 7,
    "start_time": "2022-11-07T10:14:32.591Z"
   },
   {
    "duration": 4,
    "start_time": "2022-11-07T10:16:20.689Z"
   },
   {
    "duration": 16,
    "start_time": "2022-11-07T10:16:43.210Z"
   },
   {
    "duration": 15,
    "start_time": "2022-11-07T10:17:15.280Z"
   },
   {
    "duration": 4,
    "start_time": "2022-11-07T10:17:22.541Z"
   },
   {
    "duration": 17,
    "start_time": "2022-11-07T10:17:27.088Z"
   },
   {
    "duration": 3,
    "start_time": "2022-11-08T06:53:58.000Z"
   },
   {
    "duration": 48,
    "start_time": "2022-11-08T07:15:14.450Z"
   },
   {
    "duration": 726,
    "start_time": "2022-11-08T07:15:25.247Z"
   },
   {
    "duration": 194,
    "start_time": "2022-11-08T07:15:25.975Z"
   },
   {
    "duration": 18,
    "start_time": "2022-11-08T07:15:27.145Z"
   },
   {
    "duration": 3,
    "start_time": "2022-11-08T07:15:29.286Z"
   },
   {
    "duration": 13,
    "start_time": "2022-11-08T07:15:30.609Z"
   },
   {
    "duration": 5,
    "start_time": "2022-11-08T07:15:31.351Z"
   },
   {
    "duration": 8,
    "start_time": "2022-11-08T07:15:32.669Z"
   },
   {
    "duration": 20,
    "start_time": "2022-11-08T07:15:33.527Z"
   },
   {
    "duration": 9,
    "start_time": "2022-11-08T07:15:35.483Z"
   },
   {
    "duration": 16,
    "start_time": "2022-11-08T07:15:36.309Z"
   },
   {
    "duration": 9,
    "start_time": "2022-11-08T07:15:37.017Z"
   },
   {
    "duration": 23,
    "start_time": "2022-11-08T07:15:37.877Z"
   },
   {
    "duration": 18,
    "start_time": "2022-11-08T07:15:38.608Z"
   },
   {
    "duration": 6,
    "start_time": "2022-11-08T07:15:39.521Z"
   },
   {
    "duration": 5,
    "start_time": "2022-11-08T07:15:40.321Z"
   },
   {
    "duration": 14,
    "start_time": "2022-11-08T07:15:42.303Z"
   },
   {
    "duration": 5,
    "start_time": "2022-11-08T07:15:42.877Z"
   },
   {
    "duration": 5,
    "start_time": "2022-11-08T07:15:43.574Z"
   },
   {
    "duration": 7,
    "start_time": "2022-11-08T07:15:44.375Z"
   },
   {
    "duration": 4667,
    "start_time": "2022-11-08T07:15:46.173Z"
   },
   {
    "duration": 13,
    "start_time": "2022-11-08T07:15:50.842Z"
   },
   {
    "duration": 40,
    "start_time": "2022-11-08T07:16:01.759Z"
   },
   {
    "duration": 11,
    "start_time": "2022-11-08T07:16:28.324Z"
   },
   {
    "duration": 12,
    "start_time": "2022-11-08T07:16:41.325Z"
   },
   {
    "duration": 322,
    "start_time": "2022-11-08T07:16:47.367Z"
   },
   {
    "duration": 342,
    "start_time": "2022-11-08T07:17:03.478Z"
   },
   {
    "duration": 382,
    "start_time": "2022-11-08T07:17:08.671Z"
   },
   {
    "duration": 44,
    "start_time": "2022-11-08T07:18:06.188Z"
   },
   {
    "duration": 7,
    "start_time": "2022-11-08T07:18:26.953Z"
   },
   {
    "duration": 4,
    "start_time": "2022-11-08T07:18:40.568Z"
   },
   {
    "duration": 288,
    "start_time": "2022-11-08T07:18:59.650Z"
   },
   {
    "duration": 331,
    "start_time": "2022-11-08T07:19:28.613Z"
   },
   {
    "duration": 338,
    "start_time": "2022-11-08T07:19:49.945Z"
   },
   {
    "duration": 328,
    "start_time": "2022-11-08T07:20:12.163Z"
   },
   {
    "duration": 306,
    "start_time": "2022-11-08T07:20:28.012Z"
   },
   {
    "duration": 18,
    "start_time": "2022-11-08T07:42:34.595Z"
   },
   {
    "duration": 563,
    "start_time": "2022-11-08T07:43:06.735Z"
   },
   {
    "duration": 49,
    "start_time": "2022-11-08T07:43:11.292Z"
   },
   {
    "duration": 338,
    "start_time": "2022-11-08T07:43:29.880Z"
   },
   {
    "duration": 343,
    "start_time": "2022-11-08T08:02:48.118Z"
   },
   {
    "duration": 116,
    "start_time": "2022-11-08T08:06:10.708Z"
   },
   {
    "duration": 2035,
    "start_time": "2022-11-08T08:06:54.516Z"
   },
   {
    "duration": 14,
    "start_time": "2022-11-08T08:09:42.557Z"
   },
   {
    "duration": 146,
    "start_time": "2022-11-08T08:13:02.349Z"
   },
   {
    "duration": 150,
    "start_time": "2022-11-08T08:13:55.448Z"
   },
   {
    "duration": 17,
    "start_time": "2022-11-08T08:16:04.701Z"
   },
   {
    "duration": 23,
    "start_time": "2022-11-08T08:16:23.424Z"
   },
   {
    "duration": 23,
    "start_time": "2022-11-08T08:16:48.030Z"
   },
   {
    "duration": 1562,
    "start_time": "2022-11-08T08:17:29.606Z"
   },
   {
    "duration": 1414,
    "start_time": "2022-11-08T08:18:03.854Z"
   },
   {
    "duration": 10,
    "start_time": "2022-11-08T08:58:18.165Z"
   },
   {
    "duration": 28,
    "start_time": "2022-11-08T08:58:35.454Z"
   },
   {
    "duration": 25,
    "start_time": "2022-11-08T08:58:45.784Z"
   },
   {
    "duration": 298,
    "start_time": "2022-11-08T08:59:05.161Z"
   },
   {
    "duration": 233,
    "start_time": "2022-11-08T08:59:33.806Z"
   },
   {
    "duration": 248,
    "start_time": "2022-11-08T09:01:21.724Z"
   },
   {
    "duration": 243,
    "start_time": "2022-11-08T09:01:31.616Z"
   },
   {
    "duration": 261,
    "start_time": "2022-11-08T09:02:16.225Z"
   },
   {
    "duration": 3,
    "start_time": "2022-11-08T11:33:51.984Z"
   },
   {
    "duration": 3,
    "start_time": "2022-11-08T11:40:35.929Z"
   },
   {
    "duration": 4,
    "start_time": "2022-11-08T11:40:43.625Z"
   },
   {
    "duration": 12,
    "start_time": "2022-11-08T11:41:56.686Z"
   },
   {
    "duration": 154,
    "start_time": "2022-11-08T11:43:22.190Z"
   },
   {
    "duration": 223,
    "start_time": "2022-11-08T11:43:35.773Z"
   },
   {
    "duration": 226,
    "start_time": "2022-11-08T11:44:01.535Z"
   },
   {
    "duration": 379,
    "start_time": "2022-11-08T11:49:01.646Z"
   },
   {
    "duration": 1161,
    "start_time": "2022-11-08T11:49:21.156Z"
   },
   {
    "duration": 3,
    "start_time": "2022-11-08T11:49:45.594Z"
   },
   {
    "duration": 50,
    "start_time": "2022-11-08T11:49:46.048Z"
   },
   {
    "duration": 14,
    "start_time": "2022-11-08T11:49:46.741Z"
   },
   {
    "duration": 3,
    "start_time": "2022-11-08T11:49:48.458Z"
   },
   {
    "duration": 15,
    "start_time": "2022-11-08T11:49:49.542Z"
   },
   {
    "duration": 5,
    "start_time": "2022-11-08T11:49:50.141Z"
   },
   {
    "duration": 7,
    "start_time": "2022-11-08T11:49:51.405Z"
   },
   {
    "duration": 19,
    "start_time": "2022-11-08T11:49:52.015Z"
   },
   {
    "duration": 9,
    "start_time": "2022-11-08T11:49:53.969Z"
   },
   {
    "duration": 16,
    "start_time": "2022-11-08T11:49:54.662Z"
   },
   {
    "duration": 8,
    "start_time": "2022-11-08T11:49:55.176Z"
   },
   {
    "duration": 21,
    "start_time": "2022-11-08T11:49:55.898Z"
   },
   {
    "duration": 18,
    "start_time": "2022-11-08T11:49:56.562Z"
   },
   {
    "duration": 6,
    "start_time": "2022-11-08T11:49:57.169Z"
   },
   {
    "duration": 5,
    "start_time": "2022-11-08T11:49:57.800Z"
   },
   {
    "duration": 15,
    "start_time": "2022-11-08T11:49:59.703Z"
   },
   {
    "duration": 4,
    "start_time": "2022-11-08T11:50:00.334Z"
   },
   {
    "duration": 5,
    "start_time": "2022-11-08T11:50:00.977Z"
   },
   {
    "duration": 6,
    "start_time": "2022-11-08T11:50:01.568Z"
   },
   {
    "duration": 4731,
    "start_time": "2022-11-08T11:50:03.728Z"
   },
   {
    "duration": 21,
    "start_time": "2022-11-08T11:50:08.461Z"
   },
   {
    "duration": 299,
    "start_time": "2022-11-08T11:50:11.999Z"
   },
   {
    "duration": 349,
    "start_time": "2022-11-08T11:50:16.342Z"
   },
   {
    "duration": 1216,
    "start_time": "2022-11-08T11:50:19.876Z"
   },
   {
    "duration": 312,
    "start_time": "2022-11-08T11:50:30.997Z"
   },
   {
    "duration": 391,
    "start_time": "2022-11-08T11:50:43.104Z"
   },
   {
    "duration": 306,
    "start_time": "2022-11-08T11:50:54.319Z"
   },
   {
    "duration": 319,
    "start_time": "2022-11-08T11:51:12.966Z"
   },
   {
    "duration": 336,
    "start_time": "2022-11-08T11:51:19.917Z"
   },
   {
    "duration": 327,
    "start_time": "2022-11-08T11:51:25.900Z"
   },
   {
    "duration": 381,
    "start_time": "2022-11-08T11:52:23.771Z"
   },
   {
    "duration": 353,
    "start_time": "2022-11-08T11:53:13.952Z"
   },
   {
    "duration": 390,
    "start_time": "2022-11-08T11:53:48.737Z"
   },
   {
    "duration": 449,
    "start_time": "2022-11-08T11:54:38.508Z"
   },
   {
    "duration": 367,
    "start_time": "2022-11-08T11:55:34.136Z"
   },
   {
    "duration": 363,
    "start_time": "2022-11-08T11:57:05.238Z"
   },
   {
    "duration": 349,
    "start_time": "2022-11-08T11:59:21.642Z"
   },
   {
    "duration": 168,
    "start_time": "2022-11-08T11:59:33.603Z"
   },
   {
    "duration": 359,
    "start_time": "2022-11-08T11:59:38.863Z"
   },
   {
    "duration": 360,
    "start_time": "2022-11-08T12:00:36.379Z"
   },
   {
    "duration": 385,
    "start_time": "2022-11-08T12:01:15.294Z"
   },
   {
    "duration": 424,
    "start_time": "2022-11-08T12:02:14.646Z"
   },
   {
    "duration": 365,
    "start_time": "2022-11-08T12:02:34.666Z"
   },
   {
    "duration": 354,
    "start_time": "2022-11-08T12:14:29.925Z"
   },
   {
    "duration": 447,
    "start_time": "2022-11-08T12:14:42.295Z"
   },
   {
    "duration": 168,
    "start_time": "2022-11-08T12:15:15.448Z"
   },
   {
    "duration": 989,
    "start_time": "2022-11-08T12:19:44.582Z"
   },
   {
    "duration": 161,
    "start_time": "2022-11-08T12:19:57.884Z"
   },
   {
    "duration": 149,
    "start_time": "2022-11-08T12:20:04.700Z"
   },
   {
    "duration": 463,
    "start_time": "2022-11-08T12:20:13.617Z"
   },
   {
    "duration": 90,
    "start_time": "2022-11-08T12:22:05.462Z"
   },
   {
    "duration": 53,
    "start_time": "2022-11-08T12:22:24.506Z"
   },
   {
    "duration": 221,
    "start_time": "2022-11-08T12:23:08.805Z"
   },
   {
    "duration": 153,
    "start_time": "2022-11-08T12:23:23.016Z"
   },
   {
    "duration": 20036,
    "start_time": "2022-11-08T12:23:37.856Z"
   },
   {
    "duration": 17157,
    "start_time": "2022-11-08T12:24:25.724Z"
   },
   {
    "duration": 20764,
    "start_time": "2022-11-08T12:25:09.355Z"
   },
   {
    "duration": 20774,
    "start_time": "2022-11-08T12:25:57.939Z"
   },
   {
    "duration": 377,
    "start_time": "2022-11-08T12:46:24.029Z"
   },
   {
    "duration": 20748,
    "start_time": "2022-11-08T12:46:38.940Z"
   },
   {
    "duration": 22268,
    "start_time": "2022-11-08T13:07:27.177Z"
   },
   {
    "duration": 21611,
    "start_time": "2022-11-08T13:09:01.762Z"
   },
   {
    "duration": 7,
    "start_time": "2022-11-08T13:43:22.227Z"
   },
   {
    "duration": 5,
    "start_time": "2022-11-08T13:45:19.499Z"
   },
   {
    "duration": 7,
    "start_time": "2022-11-08T13:51:49.515Z"
   },
   {
    "duration": 5,
    "start_time": "2022-11-08T13:51:52.007Z"
   },
   {
    "duration": 6,
    "start_time": "2022-11-08T13:52:10.539Z"
   },
   {
    "duration": 4,
    "start_time": "2022-11-08T13:52:12.686Z"
   },
   {
    "duration": 5,
    "start_time": "2022-11-08T13:52:24.874Z"
   },
   {
    "duration": 6,
    "start_time": "2022-11-08T13:52:26.792Z"
   },
   {
    "duration": 6,
    "start_time": "2022-11-08T13:52:57.241Z"
   },
   {
    "duration": 5,
    "start_time": "2022-11-08T13:52:58.890Z"
   },
   {
    "duration": 7,
    "start_time": "2022-11-08T13:53:16.081Z"
   },
   {
    "duration": 5,
    "start_time": "2022-11-08T13:53:17.377Z"
   },
   {
    "duration": 50,
    "start_time": "2022-11-08T14:03:05.243Z"
   },
   {
    "duration": 8,
    "start_time": "2022-11-08T14:03:35.408Z"
   },
   {
    "duration": 1227,
    "start_time": "2022-11-08T14:03:47.215Z"
   },
   {
    "duration": 53,
    "start_time": "2022-11-08T14:03:48.444Z"
   },
   {
    "duration": 20,
    "start_time": "2022-11-08T14:03:48.498Z"
   },
   {
    "duration": 3,
    "start_time": "2022-11-08T14:03:50.164Z"
   },
   {
    "duration": 14,
    "start_time": "2022-11-08T14:03:51.318Z"
   },
   {
    "duration": 6,
    "start_time": "2022-11-08T14:03:51.964Z"
   },
   {
    "duration": 9,
    "start_time": "2022-11-08T14:03:53.155Z"
   },
   {
    "duration": 20,
    "start_time": "2022-11-08T14:03:53.826Z"
   },
   {
    "duration": 10,
    "start_time": "2022-11-08T14:03:55.533Z"
   },
   {
    "duration": 17,
    "start_time": "2022-11-08T14:03:56.124Z"
   },
   {
    "duration": 8,
    "start_time": "2022-11-08T14:03:56.705Z"
   },
   {
    "duration": 23,
    "start_time": "2022-11-08T14:03:57.312Z"
   },
   {
    "duration": 22,
    "start_time": "2022-11-08T14:03:58.033Z"
   },
   {
    "duration": 7,
    "start_time": "2022-11-08T14:03:58.675Z"
   },
   {
    "duration": 5,
    "start_time": "2022-11-08T14:03:59.340Z"
   },
   {
    "duration": 15,
    "start_time": "2022-11-08T14:04:01.051Z"
   },
   {
    "duration": 5,
    "start_time": "2022-11-08T14:04:01.680Z"
   },
   {
    "duration": 7,
    "start_time": "2022-11-08T14:04:02.209Z"
   },
   {
    "duration": 7,
    "start_time": "2022-11-08T14:04:02.819Z"
   },
   {
    "duration": 4736,
    "start_time": "2022-11-08T14:04:04.593Z"
   },
   {
    "duration": 23,
    "start_time": "2022-11-08T14:04:09.331Z"
   },
   {
    "duration": 353,
    "start_time": "2022-11-08T14:04:13.553Z"
   },
   {
    "duration": 404,
    "start_time": "2022-11-08T14:04:16.168Z"
   },
   {
    "duration": 20613,
    "start_time": "2022-11-08T14:04:17.776Z"
   },
   {
    "duration": 10,
    "start_time": "2022-11-08T14:04:46.739Z"
   },
   {
    "duration": 5,
    "start_time": "2022-11-08T14:04:47.481Z"
   },
   {
    "duration": 1231,
    "start_time": "2022-11-08T14:09:17.615Z"
   },
   {
    "duration": 51,
    "start_time": "2022-11-08T14:09:18.848Z"
   },
   {
    "duration": 17,
    "start_time": "2022-11-08T14:09:18.901Z"
   },
   {
    "duration": 3,
    "start_time": "2022-11-08T14:09:18.921Z"
   },
   {
    "duration": 27,
    "start_time": "2022-11-08T14:09:18.925Z"
   },
   {
    "duration": 6,
    "start_time": "2022-11-08T14:09:18.954Z"
   },
   {
    "duration": 26,
    "start_time": "2022-11-08T14:09:18.962Z"
   },
   {
    "duration": 35,
    "start_time": "2022-11-08T14:09:18.991Z"
   },
   {
    "duration": 15,
    "start_time": "2022-11-08T14:09:19.029Z"
   },
   {
    "duration": 20,
    "start_time": "2022-11-08T14:09:19.047Z"
   },
   {
    "duration": 20,
    "start_time": "2022-11-08T14:09:19.069Z"
   },
   {
    "duration": 31,
    "start_time": "2022-11-08T14:09:19.091Z"
   },
   {
    "duration": 32,
    "start_time": "2022-11-08T14:09:19.124Z"
   },
   {
    "duration": 17,
    "start_time": "2022-11-08T14:09:19.159Z"
   },
   {
    "duration": 11,
    "start_time": "2022-11-08T14:09:19.178Z"
   },
   {
    "duration": 22,
    "start_time": "2022-11-08T14:09:19.191Z"
   },
   {
    "duration": 6,
    "start_time": "2022-11-08T14:09:19.215Z"
   },
   {
    "duration": 11,
    "start_time": "2022-11-08T14:09:19.223Z"
   },
   {
    "duration": 14,
    "start_time": "2022-11-08T14:09:19.235Z"
   },
   {
    "duration": 4826,
    "start_time": "2022-11-08T14:09:19.251Z"
   },
   {
    "duration": 14,
    "start_time": "2022-11-08T14:09:24.079Z"
   },
   {
    "duration": 332,
    "start_time": "2022-11-08T14:09:24.095Z"
   },
   {
    "duration": 401,
    "start_time": "2022-11-08T14:09:24.428Z"
   },
   {
    "duration": 19734,
    "start_time": "2022-11-08T14:09:24.831Z"
   },
   {
    "duration": 8,
    "start_time": "2022-11-08T14:09:44.567Z"
   },
   {
    "duration": 10,
    "start_time": "2022-11-08T14:09:44.577Z"
   },
   {
    "duration": 19,
    "start_time": "2022-11-08T14:09:44.589Z"
   },
   {
    "duration": 15,
    "start_time": "2022-11-08T14:10:24.670Z"
   },
   {
    "duration": 333,
    "start_time": "2022-11-08T14:10:46.548Z"
   },
   {
    "duration": 351,
    "start_time": "2022-11-08T14:11:25.629Z"
   },
   {
    "duration": 106,
    "start_time": "2022-11-08T14:14:59.614Z"
   },
   {
    "duration": 289,
    "start_time": "2022-11-08T14:15:28.209Z"
   },
   {
    "duration": 495,
    "start_time": "2022-11-08T14:16:15.310Z"
   },
   {
    "duration": 8768,
    "start_time": "2022-11-08T14:17:47.546Z"
   },
   {
    "duration": 8369,
    "start_time": "2022-11-08T14:18:30.483Z"
   },
   {
    "duration": 0,
    "start_time": "2022-11-08T14:19:44.062Z"
   },
   {
    "duration": 0,
    "start_time": "2022-11-08T14:25:02.581Z"
   },
   {
    "duration": 470,
    "start_time": "2022-11-08T14:25:14.754Z"
   },
   {
    "duration": 461,
    "start_time": "2022-11-08T14:26:09.439Z"
   },
   {
    "duration": 395,
    "start_time": "2022-11-08T14:26:32.348Z"
   },
   {
    "duration": 327,
    "start_time": "2022-11-08T14:27:46.052Z"
   },
   {
    "duration": 348,
    "start_time": "2022-11-08T14:28:51.565Z"
   },
   {
    "duration": 303,
    "start_time": "2022-11-08T15:36:03.172Z"
   },
   {
    "duration": 347,
    "start_time": "2022-11-08T15:36:24.396Z"
   },
   {
    "duration": 482,
    "start_time": "2022-11-08T15:37:12.603Z"
   },
   {
    "duration": 69,
    "start_time": "2022-11-08T15:37:54.928Z"
   },
   {
    "duration": 44,
    "start_time": "2022-11-08T15:38:07.762Z"
   },
   {
    "duration": 17,
    "start_time": "2022-11-08T15:39:59.938Z"
   },
   {
    "duration": 334,
    "start_time": "2022-11-08T15:40:06.566Z"
   },
   {
    "duration": 330,
    "start_time": "2022-11-08T15:40:46.125Z"
   },
   {
    "duration": 392,
    "start_time": "2022-11-08T15:42:34.982Z"
   },
   {
    "duration": 394,
    "start_time": "2022-11-08T15:43:56.191Z"
   },
   {
    "duration": 360,
    "start_time": "2022-11-08T16:08:17.513Z"
   },
   {
    "duration": 8,
    "start_time": "2022-11-08T16:56:19.638Z"
   },
   {
    "duration": 4,
    "start_time": "2022-11-08T16:57:31.119Z"
   },
   {
    "duration": 5,
    "start_time": "2022-11-08T16:58:20.972Z"
   },
   {
    "duration": 7,
    "start_time": "2022-11-08T16:58:34.285Z"
   },
   {
    "duration": 5,
    "start_time": "2022-11-08T16:58:43.272Z"
   },
   {
    "duration": 4,
    "start_time": "2022-11-08T17:00:52.494Z"
   },
   {
    "duration": 4,
    "start_time": "2022-11-08T17:01:02.304Z"
   },
   {
    "duration": 7,
    "start_time": "2022-11-08T17:01:09.067Z"
   },
   {
    "duration": 5,
    "start_time": "2022-11-08T17:01:10.487Z"
   },
   {
    "duration": 185,
    "start_time": "2022-11-08T17:01:28.401Z"
   },
   {
    "duration": 197,
    "start_time": "2022-11-08T17:02:16.778Z"
   },
   {
    "duration": 47,
    "start_time": "2022-11-08T17:02:22.760Z"
   },
   {
    "duration": 6,
    "start_time": "2022-11-08T17:02:39.047Z"
   },
   {
    "duration": 4,
    "start_time": "2022-11-08T17:02:49.828Z"
   },
   {
    "duration": 160,
    "start_time": "2022-11-08T17:03:21.307Z"
   },
   {
    "duration": 17,
    "start_time": "2022-11-08T17:03:43.551Z"
   },
   {
    "duration": 253,
    "start_time": "2022-11-08T17:03:53.122Z"
   },
   {
    "duration": 13,
    "start_time": "2022-11-08T17:04:09.085Z"
   },
   {
    "duration": 12,
    "start_time": "2022-11-08T17:04:22.641Z"
   },
   {
    "duration": 10,
    "start_time": "2022-11-08T17:04:30.082Z"
   },
   {
    "duration": 18,
    "start_time": "2022-11-08T17:04:51.725Z"
   },
   {
    "duration": 10,
    "start_time": "2022-11-08T17:05:11.358Z"
   },
   {
    "duration": 16,
    "start_time": "2022-11-08T17:05:31.810Z"
   },
   {
    "duration": 15,
    "start_time": "2022-11-08T17:08:09.073Z"
   },
   {
    "duration": 4,
    "start_time": "2022-11-08T17:08:22.125Z"
   },
   {
    "duration": 271,
    "start_time": "2022-11-08T17:08:30.582Z"
   },
   {
    "duration": 13,
    "start_time": "2022-11-08T17:08:55.252Z"
   },
   {
    "duration": 13,
    "start_time": "2022-11-08T17:09:09.096Z"
   },
   {
    "duration": 29,
    "start_time": "2022-11-08T17:13:49.263Z"
   },
   {
    "duration": 4,
    "start_time": "2022-11-08T17:14:46.228Z"
   },
   {
    "duration": 23,
    "start_time": "2022-11-08T17:14:52.122Z"
   },
   {
    "duration": 207,
    "start_time": "2022-11-08T17:15:21.925Z"
   },
   {
    "duration": 16,
    "start_time": "2022-11-08T17:15:36.158Z"
   },
   {
    "duration": 16,
    "start_time": "2022-11-08T17:15:53.531Z"
   },
   {
    "duration": 13,
    "start_time": "2022-11-08T17:16:25.762Z"
   },
   {
    "duration": 192,
    "start_time": "2022-11-08T17:16:52.761Z"
   },
   {
    "duration": 7,
    "start_time": "2022-11-08T17:17:05.508Z"
   },
   {
    "duration": 10,
    "start_time": "2022-11-08T17:17:11.445Z"
   },
   {
    "duration": 8,
    "start_time": "2022-11-08T17:17:12.667Z"
   },
   {
    "duration": 14,
    "start_time": "2022-11-08T17:17:39.355Z"
   },
   {
    "duration": 5,
    "start_time": "2022-11-08T17:17:46.361Z"
   },
   {
    "duration": 1229,
    "start_time": "2022-11-08T17:20:47.166Z"
   },
   {
    "duration": 49,
    "start_time": "2022-11-08T17:20:48.397Z"
   },
   {
    "duration": 17,
    "start_time": "2022-11-08T17:20:48.448Z"
   },
   {
    "duration": 30,
    "start_time": "2022-11-08T17:20:48.468Z"
   },
   {
    "duration": 19,
    "start_time": "2022-11-08T17:20:48.500Z"
   },
   {
    "duration": 19,
    "start_time": "2022-11-08T17:20:48.521Z"
   },
   {
    "duration": 45,
    "start_time": "2022-11-08T17:20:48.541Z"
   },
   {
    "duration": 0,
    "start_time": "2022-11-08T17:20:48.589Z"
   },
   {
    "duration": 0,
    "start_time": "2022-11-08T17:20:48.590Z"
   },
   {
    "duration": 0,
    "start_time": "2022-11-08T17:20:48.591Z"
   },
   {
    "duration": 0,
    "start_time": "2022-11-08T17:20:48.592Z"
   },
   {
    "duration": 0,
    "start_time": "2022-11-08T17:20:48.595Z"
   },
   {
    "duration": 0,
    "start_time": "2022-11-08T17:20:48.596Z"
   },
   {
    "duration": 0,
    "start_time": "2022-11-08T17:20:48.597Z"
   },
   {
    "duration": 0,
    "start_time": "2022-11-08T17:20:48.599Z"
   },
   {
    "duration": 0,
    "start_time": "2022-11-08T17:20:48.601Z"
   },
   {
    "duration": 0,
    "start_time": "2022-11-08T17:20:48.602Z"
   },
   {
    "duration": 0,
    "start_time": "2022-11-08T17:20:48.603Z"
   },
   {
    "duration": 0,
    "start_time": "2022-11-08T17:20:48.604Z"
   },
   {
    "duration": 0,
    "start_time": "2022-11-08T17:20:48.605Z"
   },
   {
    "duration": 0,
    "start_time": "2022-11-08T17:20:48.607Z"
   },
   {
    "duration": 0,
    "start_time": "2022-11-08T17:20:48.608Z"
   },
   {
    "duration": 0,
    "start_time": "2022-11-08T17:20:48.609Z"
   },
   {
    "duration": 0,
    "start_time": "2022-11-08T17:20:48.610Z"
   },
   {
    "duration": 0,
    "start_time": "2022-11-08T17:20:48.611Z"
   },
   {
    "duration": 0,
    "start_time": "2022-11-08T17:20:48.612Z"
   },
   {
    "duration": 0,
    "start_time": "2022-11-08T17:20:48.614Z"
   },
   {
    "duration": 0,
    "start_time": "2022-11-08T17:20:48.615Z"
   },
   {
    "duration": 0,
    "start_time": "2022-11-08T17:20:48.616Z"
   },
   {
    "duration": 0,
    "start_time": "2022-11-08T17:20:48.617Z"
   },
   {
    "duration": 131,
    "start_time": "2022-11-08T17:21:20.864Z"
   },
   {
    "duration": 14,
    "start_time": "2022-11-08T17:21:40.949Z"
   },
   {
    "duration": 14,
    "start_time": "2022-11-08T17:21:56.058Z"
   },
   {
    "duration": 5,
    "start_time": "2022-11-08T17:22:16.526Z"
   },
   {
    "duration": 14,
    "start_time": "2022-11-08T17:22:27.362Z"
   },
   {
    "duration": 15,
    "start_time": "2022-11-08T17:22:50.796Z"
   },
   {
    "duration": 17,
    "start_time": "2022-11-08T17:23:07.369Z"
   },
   {
    "duration": 1142,
    "start_time": "2022-11-08T17:23:44.927Z"
   },
   {
    "duration": 71,
    "start_time": "2022-11-08T17:23:47.362Z"
   },
   {
    "duration": 19,
    "start_time": "2022-11-08T17:23:48.239Z"
   },
   {
    "duration": 3,
    "start_time": "2022-11-08T17:23:55.635Z"
   },
   {
    "duration": 26,
    "start_time": "2022-11-08T17:23:57.874Z"
   },
   {
    "duration": 6,
    "start_time": "2022-11-08T17:24:06.239Z"
   },
   {
    "duration": 119,
    "start_time": "2022-11-08T17:24:11.086Z"
   },
   {
    "duration": 13,
    "start_time": "2022-11-08T17:24:22.032Z"
   },
   {
    "duration": 5,
    "start_time": "2022-11-08T17:24:29.164Z"
   },
   {
    "duration": 19,
    "start_time": "2022-11-08T17:24:33.769Z"
   },
   {
    "duration": 16,
    "start_time": "2022-11-08T17:24:43.843Z"
   },
   {
    "duration": 26,
    "start_time": "2022-11-08T17:24:51.764Z"
   },
   {
    "duration": 9,
    "start_time": "2022-11-08T17:24:53.526Z"
   },
   {
    "duration": 24,
    "start_time": "2022-11-08T17:24:54.273Z"
   },
   {
    "duration": 10,
    "start_time": "2022-11-08T17:24:56.397Z"
   },
   {
    "duration": 22,
    "start_time": "2022-11-08T17:24:57.363Z"
   },
   {
    "duration": 17,
    "start_time": "2022-11-08T17:24:58.095Z"
   },
   {
    "duration": 6,
    "start_time": "2022-11-08T17:24:58.810Z"
   },
   {
    "duration": 6,
    "start_time": "2022-11-08T17:24:59.610Z"
   },
   {
    "duration": 23,
    "start_time": "2022-11-08T17:25:01.678Z"
   },
   {
    "duration": 7,
    "start_time": "2022-11-08T17:25:02.594Z"
   },
   {
    "duration": 4,
    "start_time": "2022-11-08T17:25:03.398Z"
   },
   {
    "duration": 5,
    "start_time": "2022-11-08T17:25:04.306Z"
   },
   {
    "duration": 4924,
    "start_time": "2022-11-08T17:25:05.981Z"
   },
   {
    "duration": 14,
    "start_time": "2022-11-08T17:25:10.907Z"
   },
   {
    "duration": 319,
    "start_time": "2022-11-08T17:25:14.092Z"
   },
   {
    "duration": 430,
    "start_time": "2022-11-08T17:25:16.562Z"
   },
   {
    "duration": 20487,
    "start_time": "2022-11-08T17:25:25.830Z"
   },
   {
    "duration": 7,
    "start_time": "2022-11-08T17:25:52.725Z"
   },
   {
    "duration": 4,
    "start_time": "2022-11-08T17:25:53.694Z"
   },
   {
    "duration": 372,
    "start_time": "2022-11-08T17:25:55.966Z"
   },
   {
    "duration": 376,
    "start_time": "2022-11-08T17:25:59.822Z"
   },
   {
    "duration": 10,
    "start_time": "2022-11-08T17:26:02.742Z"
   },
   {
    "duration": 7,
    "start_time": "2022-11-08T17:26:03.815Z"
   },
   {
    "duration": 58,
    "start_time": "2022-11-08T17:49:12.062Z"
   },
   {
    "duration": 66,
    "start_time": "2022-11-08T17:50:58.846Z"
   },
   {
    "duration": 7,
    "start_time": "2022-11-08T17:51:41.294Z"
   },
   {
    "duration": 55,
    "start_time": "2022-11-08T17:51:43.574Z"
   },
   {
    "duration": 52,
    "start_time": "2022-11-08T17:51:51.969Z"
   },
   {
    "duration": 63,
    "start_time": "2022-11-08T17:52:07.942Z"
   },
   {
    "duration": 234,
    "start_time": "2022-11-08T17:52:21.968Z"
   },
   {
    "duration": 241,
    "start_time": "2022-11-08T17:52:48.459Z"
   },
   {
    "duration": 244,
    "start_time": "2022-11-08T17:53:12.816Z"
   },
   {
    "duration": 237,
    "start_time": "2022-11-08T17:54:10.396Z"
   },
   {
    "duration": 237,
    "start_time": "2022-11-08T17:54:29.329Z"
   },
   {
    "duration": 365,
    "start_time": "2022-11-08T17:54:45.297Z"
   },
   {
    "duration": 216,
    "start_time": "2022-11-08T17:55:30.294Z"
   },
   {
    "duration": 73,
    "start_time": "2022-11-08T17:57:23.074Z"
   },
   {
    "duration": 82,
    "start_time": "2022-11-08T17:57:35.665Z"
   },
   {
    "duration": 49,
    "start_time": "2022-11-08T17:57:53.413Z"
   },
   {
    "duration": 73,
    "start_time": "2022-11-08T17:58:01.798Z"
   },
   {
    "duration": 48,
    "start_time": "2022-11-08T17:58:24.178Z"
   },
   {
    "duration": 248,
    "start_time": "2022-11-08T17:59:00.156Z"
   },
   {
    "duration": 240,
    "start_time": "2022-11-08T17:59:15.402Z"
   },
   {
    "duration": 232,
    "start_time": "2022-11-08T17:59:27.292Z"
   },
   {
    "duration": 250,
    "start_time": "2022-11-08T17:59:46.692Z"
   },
   {
    "duration": 267,
    "start_time": "2022-11-08T18:01:20.358Z"
   },
   {
    "duration": 306,
    "start_time": "2022-11-08T18:02:05.538Z"
   },
   {
    "duration": 369,
    "start_time": "2022-11-08T18:02:16.052Z"
   },
   {
    "duration": 8,
    "start_time": "2022-11-08T18:09:07.097Z"
   },
   {
    "duration": 10,
    "start_time": "2022-11-08T18:09:28.573Z"
   },
   {
    "duration": 11,
    "start_time": "2022-11-08T18:13:29.768Z"
   },
   {
    "duration": 7,
    "start_time": "2022-11-08T18:18:27.712Z"
   },
   {
    "duration": 5,
    "start_time": "2022-11-08T18:19:30.363Z"
   },
   {
    "duration": 217,
    "start_time": "2022-11-08T18:19:36.696Z"
   },
   {
    "duration": 7,
    "start_time": "2022-11-08T18:19:38.467Z"
   },
   {
    "duration": 7,
    "start_time": "2022-11-08T18:19:39.812Z"
   },
   {
    "duration": 279,
    "start_time": "2022-11-08T18:19:47.647Z"
   },
   {
    "duration": 10,
    "start_time": "2022-11-08T18:19:52.021Z"
   },
   {
    "duration": 7,
    "start_time": "2022-11-08T18:19:53.325Z"
   },
   {
    "duration": 8,
    "start_time": "2022-11-08T18:20:28.531Z"
   },
   {
    "duration": 51,
    "start_time": "2022-11-08T18:22:40.816Z"
   },
   {
    "duration": 1178,
    "start_time": "2022-11-08T18:25:01.396Z"
   },
   {
    "duration": 67,
    "start_time": "2022-11-08T18:25:02.583Z"
   },
   {
    "duration": 21,
    "start_time": "2022-11-08T18:25:02.653Z"
   },
   {
    "duration": 15,
    "start_time": "2022-11-08T18:25:02.677Z"
   },
   {
    "duration": 55,
    "start_time": "2022-11-08T18:25:02.694Z"
   },
   {
    "duration": 12,
    "start_time": "2022-11-08T18:25:02.752Z"
   },
   {
    "duration": 51,
    "start_time": "2022-11-08T18:25:02.766Z"
   },
   {
    "duration": 26,
    "start_time": "2022-11-08T18:25:02.820Z"
   },
   {
    "duration": 52,
    "start_time": "2022-11-08T18:25:02.850Z"
   },
   {
    "duration": 28,
    "start_time": "2022-11-08T18:25:02.905Z"
   },
   {
    "duration": 9,
    "start_time": "2022-11-08T18:25:02.935Z"
   },
   {
    "duration": 28,
    "start_time": "2022-11-08T18:25:02.945Z"
   },
   {
    "duration": 37,
    "start_time": "2022-11-08T18:25:02.975Z"
   },
   {
    "duration": 16,
    "start_time": "2022-11-08T18:25:03.014Z"
   },
   {
    "duration": 15,
    "start_time": "2022-11-08T18:25:03.032Z"
   },
   {
    "duration": 19,
    "start_time": "2022-11-08T18:25:03.049Z"
   },
   {
    "duration": 5,
    "start_time": "2022-11-08T18:25:03.070Z"
   },
   {
    "duration": 19,
    "start_time": "2022-11-08T18:25:03.078Z"
   },
   {
    "duration": 13,
    "start_time": "2022-11-08T18:25:03.099Z"
   },
   {
    "duration": 5694,
    "start_time": "2022-11-08T18:25:03.114Z"
   },
   {
    "duration": 17,
    "start_time": "2022-11-08T18:25:08.810Z"
   },
   {
    "duration": 385,
    "start_time": "2022-11-08T18:25:08.830Z"
   },
   {
    "duration": 468,
    "start_time": "2022-11-08T18:25:09.218Z"
   },
   {
    "duration": 22751,
    "start_time": "2022-11-08T18:25:09.690Z"
   },
   {
    "duration": 10,
    "start_time": "2022-11-08T18:25:32.444Z"
   },
   {
    "duration": 15,
    "start_time": "2022-11-08T18:25:32.456Z"
   },
   {
    "duration": 488,
    "start_time": "2022-11-08T18:25:32.473Z"
   },
   {
    "duration": 404,
    "start_time": "2022-11-08T18:25:32.965Z"
   },
   {
    "duration": 20,
    "start_time": "2022-11-08T18:25:33.370Z"
   },
   {
    "duration": 17,
    "start_time": "2022-11-08T18:25:33.394Z"
   },
   {
    "duration": 289,
    "start_time": "2022-11-08T18:25:33.413Z"
   },
   {
    "duration": 10,
    "start_time": "2022-11-08T18:25:33.704Z"
   },
   {
    "duration": 11,
    "start_time": "2022-11-08T18:25:33.715Z"
   },
   {
    "duration": 16,
    "start_time": "2022-11-08T18:43:14.058Z"
   },
   {
    "duration": 12,
    "start_time": "2022-11-08T18:53:22.303Z"
   },
   {
    "duration": 359,
    "start_time": "2022-11-08T18:54:16.448Z"
   },
   {
    "duration": 188,
    "start_time": "2022-11-08T18:54:43.171Z"
   },
   {
    "duration": 241,
    "start_time": "2022-11-08T18:55:12.528Z"
   },
   {
    "duration": 488,
    "start_time": "2022-11-08T18:55:40.066Z"
   },
   {
    "duration": 16,
    "start_time": "2022-11-08T18:57:51.185Z"
   },
   {
    "duration": 570,
    "start_time": "2022-11-08T18:58:02.403Z"
   },
   {
    "duration": 20,
    "start_time": "2022-11-08T18:58:12.895Z"
   },
   {
    "duration": 19,
    "start_time": "2022-11-08T18:58:50.402Z"
   },
   {
    "duration": 518,
    "start_time": "2022-11-08T18:59:56.485Z"
   },
   {
    "duration": 261,
    "start_time": "2022-11-08T19:00:13.076Z"
   },
   {
    "duration": 277,
    "start_time": "2022-11-08T19:00:40.316Z"
   },
   {
    "duration": 280,
    "start_time": "2022-11-08T19:05:49.202Z"
   },
   {
    "duration": 10,
    "start_time": "2022-11-08T19:29:29.761Z"
   },
   {
    "duration": 11,
    "start_time": "2022-11-08T19:29:52.856Z"
   },
   {
    "duration": 6,
    "start_time": "2022-11-08T19:30:47.300Z"
   },
   {
    "duration": 11,
    "start_time": "2022-11-08T19:32:08.658Z"
   },
   {
    "duration": 8,
    "start_time": "2022-11-08T19:32:15.626Z"
   },
   {
    "duration": 96,
    "start_time": "2022-11-08T21:29:58.818Z"
   },
   {
    "duration": 110,
    "start_time": "2022-11-08T21:30:26.419Z"
   },
   {
    "duration": 100,
    "start_time": "2022-11-08T21:31:24.848Z"
   },
   {
    "duration": 54,
    "start_time": "2022-11-08T21:34:50.239Z"
   },
   {
    "duration": 185,
    "start_time": "2022-11-08T21:35:01.231Z"
   },
   {
    "duration": 126,
    "start_time": "2022-11-08T21:35:12.301Z"
   },
   {
    "duration": 106,
    "start_time": "2022-11-08T21:36:02.804Z"
   },
   {
    "duration": 104,
    "start_time": "2022-11-08T21:36:56.623Z"
   },
   {
    "duration": 104,
    "start_time": "2022-11-08T21:38:47.991Z"
   },
   {
    "duration": 97,
    "start_time": "2022-11-08T21:39:03.928Z"
   },
   {
    "duration": 101,
    "start_time": "2022-11-08T21:39:13.322Z"
   },
   {
    "duration": 47,
    "start_time": "2022-11-08T21:40:15.835Z"
   },
   {
    "duration": 50,
    "start_time": "2022-11-08T21:40:32.815Z"
   },
   {
    "duration": 115,
    "start_time": "2022-11-08T21:40:38.034Z"
   },
   {
    "duration": 135,
    "start_time": "2022-11-08T21:41:12.906Z"
   },
   {
    "duration": 287,
    "start_time": "2022-11-08T21:46:36.371Z"
   },
   {
    "duration": 352,
    "start_time": "2022-11-08T21:48:17.210Z"
   },
   {
    "duration": 294,
    "start_time": "2022-11-08T21:49:52.618Z"
   },
   {
    "duration": 257,
    "start_time": "2022-11-08T21:50:12.909Z"
   },
   {
    "duration": 379,
    "start_time": "2022-11-08T21:50:26.074Z"
   },
   {
    "duration": 366,
    "start_time": "2022-11-08T21:50:45.391Z"
   },
   {
    "duration": 259,
    "start_time": "2022-11-08T21:52:34.460Z"
   },
   {
    "duration": 1019,
    "start_time": "2022-11-08T21:53:40.861Z"
   },
   {
    "duration": 202,
    "start_time": "2022-11-08T21:53:51.904Z"
   },
   {
    "duration": 276,
    "start_time": "2022-11-08T21:54:06.818Z"
   },
   {
    "duration": 283,
    "start_time": "2022-11-08T21:55:25.800Z"
   },
   {
    "duration": 294,
    "start_time": "2022-11-08T21:55:44.243Z"
   },
   {
    "duration": 324,
    "start_time": "2022-11-08T21:56:32.523Z"
   },
   {
    "duration": 499,
    "start_time": "2022-11-08T21:56:47.322Z"
   },
   {
    "duration": 212,
    "start_time": "2022-11-08T21:57:13.389Z"
   },
   {
    "duration": 215,
    "start_time": "2022-11-08T21:57:21.444Z"
   },
   {
    "duration": 367,
    "start_time": "2022-11-08T21:57:27.858Z"
   },
   {
    "duration": 442,
    "start_time": "2022-11-08T21:57:32.423Z"
   },
   {
    "duration": 497,
    "start_time": "2022-11-08T21:57:37.308Z"
   },
   {
    "duration": 379,
    "start_time": "2022-11-08T21:58:11.921Z"
   },
   {
    "duration": 364,
    "start_time": "2022-11-08T21:58:45.563Z"
   },
   {
    "duration": 401,
    "start_time": "2022-11-08T21:59:03.437Z"
   },
   {
    "duration": 187,
    "start_time": "2022-11-08T21:59:41.387Z"
   },
   {
    "duration": 368,
    "start_time": "2022-11-08T22:01:37.038Z"
   },
   {
    "duration": 503,
    "start_time": "2022-11-08T22:11:59.147Z"
   },
   {
    "duration": 23,
    "start_time": "2022-11-08T22:13:25.692Z"
   },
   {
    "duration": 269,
    "start_time": "2022-11-08T22:13:53.880Z"
   },
   {
    "duration": 376,
    "start_time": "2022-11-08T22:14:02.674Z"
   },
   {
    "duration": 372,
    "start_time": "2022-11-08T22:15:26.849Z"
   },
   {
    "duration": 397,
    "start_time": "2022-11-08T22:15:34.475Z"
   },
   {
    "duration": 552,
    "start_time": "2022-11-08T22:15:41.082Z"
   },
   {
    "duration": 406,
    "start_time": "2022-11-08T22:16:05.303Z"
   },
   {
    "duration": 343,
    "start_time": "2022-11-08T22:16:13.653Z"
   },
   {
    "duration": 389,
    "start_time": "2022-11-08T22:16:42.769Z"
   },
   {
    "duration": 402,
    "start_time": "2022-11-08T22:18:06.302Z"
   },
   {
    "duration": 389,
    "start_time": "2022-11-08T22:18:11.564Z"
   },
   {
    "duration": 527,
    "start_time": "2022-11-08T22:18:34.490Z"
   },
   {
    "duration": 386,
    "start_time": "2022-11-08T22:18:41.055Z"
   },
   {
    "duration": 360,
    "start_time": "2022-11-08T22:19:23.877Z"
   },
   {
    "duration": 58,
    "start_time": "2022-11-08T22:19:44.065Z"
   },
   {
    "duration": 371,
    "start_time": "2022-11-08T22:20:58.236Z"
   },
   {
    "duration": 394,
    "start_time": "2022-11-08T22:21:20.482Z"
   },
   {
    "duration": 775,
    "start_time": "2022-11-08T22:47:14.087Z"
   },
   {
    "duration": 410,
    "start_time": "2022-11-08T22:48:46.119Z"
   },
   {
    "duration": 683,
    "start_time": "2022-11-08T22:48:51.109Z"
   },
   {
    "duration": 403,
    "start_time": "2022-11-08T22:50:50.254Z"
   },
   {
    "duration": 587,
    "start_time": "2022-11-08T22:51:35.066Z"
   },
   {
    "duration": 7,
    "start_time": "2022-11-09T07:45:19.996Z"
   },
   {
    "duration": 8,
    "start_time": "2022-11-09T07:45:39.263Z"
   },
   {
    "duration": 4,
    "start_time": "2022-11-09T07:46:13.708Z"
   },
   {
    "duration": 4,
    "start_time": "2022-11-09T07:46:17.671Z"
   },
   {
    "duration": 18,
    "start_time": "2022-11-09T07:46:35.371Z"
   },
   {
    "duration": 4,
    "start_time": "2022-11-09T07:47:03.723Z"
   },
   {
    "duration": 76,
    "start_time": "2022-11-09T07:50:34.550Z"
   },
   {
    "duration": 11,
    "start_time": "2022-11-09T07:50:41.840Z"
   },
   {
    "duration": 8,
    "start_time": "2022-11-09T07:50:52.095Z"
   },
   {
    "duration": 7,
    "start_time": "2022-11-09T07:51:06.803Z"
   },
   {
    "duration": 4,
    "start_time": "2022-11-09T07:51:08.345Z"
   },
   {
    "duration": 4,
    "start_time": "2022-11-09T07:51:09.094Z"
   },
   {
    "duration": 7,
    "start_time": "2022-11-09T07:51:27.754Z"
   },
   {
    "duration": 6,
    "start_time": "2022-11-09T07:51:28.780Z"
   },
   {
    "duration": 4,
    "start_time": "2022-11-09T07:51:29.557Z"
   },
   {
    "duration": 7,
    "start_time": "2022-11-09T07:51:45.462Z"
   },
   {
    "duration": 3,
    "start_time": "2022-11-09T07:51:46.655Z"
   },
   {
    "duration": 4,
    "start_time": "2022-11-09T07:51:47.299Z"
   },
   {
    "duration": 53,
    "start_time": "2022-11-09T07:52:42.015Z"
   },
   {
    "duration": 58,
    "start_time": "2022-11-09T07:52:59.728Z"
   },
   {
    "duration": 7,
    "start_time": "2022-11-09T07:53:08.398Z"
   },
   {
    "duration": 12,
    "start_time": "2022-11-09T07:56:14.645Z"
   },
   {
    "duration": 8,
    "start_time": "2022-11-09T07:56:25.602Z"
   },
   {
    "duration": 3,
    "start_time": "2022-11-09T07:56:28.253Z"
   },
   {
    "duration": 4,
    "start_time": "2022-11-09T07:56:30.243Z"
   },
   {
    "duration": 4,
    "start_time": "2022-11-09T08:00:27.376Z"
   },
   {
    "duration": 6,
    "start_time": "2022-11-09T08:00:28.255Z"
   },
   {
    "duration": 6,
    "start_time": "2022-11-09T08:00:35.257Z"
   },
   {
    "duration": 4,
    "start_time": "2022-11-09T08:00:35.901Z"
   },
   {
    "duration": 4,
    "start_time": "2022-11-09T08:00:36.441Z"
   },
   {
    "duration": 10,
    "start_time": "2022-11-09T08:00:48.253Z"
   },
   {
    "duration": 4,
    "start_time": "2022-11-09T08:00:48.739Z"
   },
   {
    "duration": 4,
    "start_time": "2022-11-09T08:00:49.331Z"
   },
   {
    "duration": 19,
    "start_time": "2022-11-09T08:01:11.925Z"
   },
   {
    "duration": 9,
    "start_time": "2022-11-09T08:01:38.618Z"
   },
   {
    "duration": 7,
    "start_time": "2022-11-09T08:01:39.308Z"
   },
   {
    "duration": 5,
    "start_time": "2022-11-09T08:01:39.961Z"
   },
   {
    "duration": 20,
    "start_time": "2022-11-09T08:02:41.250Z"
   },
   {
    "duration": 7,
    "start_time": "2022-11-09T08:02:46.016Z"
   },
   {
    "duration": 4,
    "start_time": "2022-11-09T08:02:47.470Z"
   },
   {
    "duration": 4,
    "start_time": "2022-11-09T08:02:48.775Z"
   },
   {
    "duration": 9,
    "start_time": "2022-11-09T08:08:13.834Z"
   },
   {
    "duration": 4,
    "start_time": "2022-11-09T08:08:52.438Z"
   },
   {
    "duration": 9,
    "start_time": "2022-11-09T08:09:08.493Z"
   },
   {
    "duration": 3,
    "start_time": "2022-11-09T08:10:02.825Z"
   },
   {
    "duration": 4,
    "start_time": "2022-11-09T08:10:04.254Z"
   },
   {
    "duration": 7,
    "start_time": "2022-11-09T08:10:57.435Z"
   },
   {
    "duration": 4,
    "start_time": "2022-11-09T08:10:57.801Z"
   },
   {
    "duration": 7,
    "start_time": "2022-11-09T08:10:58.285Z"
   },
   {
    "duration": 3,
    "start_time": "2022-11-09T09:21:04.433Z"
   },
   {
    "duration": 45,
    "start_time": "2022-11-09T09:21:05.459Z"
   },
   {
    "duration": 14,
    "start_time": "2022-11-09T09:21:06.318Z"
   },
   {
    "duration": 3,
    "start_time": "2022-11-09T09:21:12.781Z"
   },
   {
    "duration": 15,
    "start_time": "2022-11-09T09:21:18.330Z"
   },
   {
    "duration": 4,
    "start_time": "2022-11-09T09:21:25.878Z"
   },
   {
    "duration": 19,
    "start_time": "2022-11-09T09:21:36.039Z"
   },
   {
    "duration": 10,
    "start_time": "2022-11-09T09:21:56.921Z"
   },
   {
    "duration": 15,
    "start_time": "2022-11-09T09:22:04.084Z"
   },
   {
    "duration": 9,
    "start_time": "2022-11-09T09:22:17.229Z"
   },
   {
    "duration": 21,
    "start_time": "2022-11-09T09:22:22.818Z"
   },
   {
    "duration": 19,
    "start_time": "2022-11-09T09:22:30.545Z"
   },
   {
    "duration": 7,
    "start_time": "2022-11-09T09:23:15.222Z"
   },
   {
    "duration": 7,
    "start_time": "2022-11-09T09:23:22.439Z"
   },
   {
    "duration": 15,
    "start_time": "2022-11-09T09:24:01.927Z"
   },
   {
    "duration": 6,
    "start_time": "2022-11-09T09:24:03.854Z"
   },
   {
    "duration": 5,
    "start_time": "2022-11-09T09:24:34.821Z"
   },
   {
    "duration": 7,
    "start_time": "2022-11-09T09:24:35.768Z"
   },
   {
    "duration": 4942,
    "start_time": "2022-11-09T09:24:48.739Z"
   },
   {
    "duration": 15,
    "start_time": "2022-11-09T09:24:53.683Z"
   },
   {
    "duration": 282,
    "start_time": "2022-11-09T09:25:29.299Z"
   },
   {
    "duration": 362,
    "start_time": "2022-11-09T09:25:43.814Z"
   },
   {
    "duration": 281,
    "start_time": "2022-11-09T09:26:23.219Z"
   },
   {
    "duration": 19608,
    "start_time": "2022-11-09T09:27:30.615Z"
   },
   {
    "duration": 6,
    "start_time": "2022-11-09T09:29:16.563Z"
   },
   {
    "duration": 8,
    "start_time": "2022-11-09T09:29:19.947Z"
   },
   {
    "duration": 381,
    "start_time": "2022-11-09T09:29:24.516Z"
   },
   {
    "duration": 349,
    "start_time": "2022-11-09T09:29:29.732Z"
   },
   {
    "duration": 7,
    "start_time": "2022-11-09T09:29:34.915Z"
   },
   {
    "duration": 7,
    "start_time": "2022-11-09T09:29:37.725Z"
   },
   {
    "duration": 249,
    "start_time": "2022-11-09T09:29:40.722Z"
   },
   {
    "duration": 11,
    "start_time": "2022-11-09T09:29:47.466Z"
   },
   {
    "duration": 13,
    "start_time": "2022-11-09T09:29:55.581Z"
   },
   {
    "duration": 9,
    "start_time": "2022-11-09T09:29:59.015Z"
   },
   {
    "duration": 312,
    "start_time": "2022-11-09T09:30:08.644Z"
   },
   {
    "duration": 1134,
    "start_time": "2022-11-09T09:33:48.415Z"
   },
   {
    "duration": 54,
    "start_time": "2022-11-09T09:33:49.551Z"
   },
   {
    "duration": 18,
    "start_time": "2022-11-09T09:33:49.607Z"
   },
   {
    "duration": 8,
    "start_time": "2022-11-09T09:33:49.627Z"
   },
   {
    "duration": 19,
    "start_time": "2022-11-09T09:33:49.638Z"
   },
   {
    "duration": 4,
    "start_time": "2022-11-09T09:33:49.659Z"
   },
   {
    "duration": 19,
    "start_time": "2022-11-09T09:33:49.679Z"
   },
   {
    "duration": 12,
    "start_time": "2022-11-09T09:33:49.700Z"
   },
   {
    "duration": 25,
    "start_time": "2022-11-09T09:33:49.713Z"
   },
   {
    "duration": 8,
    "start_time": "2022-11-09T09:33:49.740Z"
   },
   {
    "duration": 44,
    "start_time": "2022-11-09T09:33:49.749Z"
   },
   {
    "duration": 23,
    "start_time": "2022-11-09T09:33:49.795Z"
   },
   {
    "duration": 12,
    "start_time": "2022-11-09T09:33:49.820Z"
   },
   {
    "duration": 20,
    "start_time": "2022-11-09T09:33:49.835Z"
   },
   {
    "duration": 23,
    "start_time": "2022-11-09T09:33:49.856Z"
   },
   {
    "duration": 5,
    "start_time": "2022-11-09T09:33:49.880Z"
   },
   {
    "duration": 18,
    "start_time": "2022-11-09T09:33:49.887Z"
   },
   {
    "duration": 17,
    "start_time": "2022-11-09T09:33:49.906Z"
   },
   {
    "duration": 4957,
    "start_time": "2022-11-09T09:33:49.925Z"
   },
   {
    "duration": 14,
    "start_time": "2022-11-09T09:33:54.884Z"
   },
   {
    "duration": 330,
    "start_time": "2022-11-09T09:33:54.899Z"
   },
   {
    "duration": 452,
    "start_time": "2022-11-09T09:33:55.231Z"
   },
   {
    "duration": 20016,
    "start_time": "2022-11-09T09:33:55.685Z"
   },
   {
    "duration": 10,
    "start_time": "2022-11-09T09:34:15.703Z"
   },
   {
    "duration": 36,
    "start_time": "2022-11-09T09:34:15.715Z"
   },
   {
    "duration": 386,
    "start_time": "2022-11-09T09:34:15.752Z"
   },
   {
    "duration": 370,
    "start_time": "2022-11-09T09:34:16.140Z"
   },
   {
    "duration": 7,
    "start_time": "2022-11-09T09:34:16.511Z"
   },
   {
    "duration": 14,
    "start_time": "2022-11-09T09:34:16.520Z"
   },
   {
    "duration": 272,
    "start_time": "2022-11-09T09:34:16.536Z"
   },
   {
    "duration": 11,
    "start_time": "2022-11-09T09:34:16.810Z"
   },
   {
    "duration": 8,
    "start_time": "2022-11-09T09:34:16.822Z"
   },
   {
    "duration": 290,
    "start_time": "2022-11-09T09:34:16.831Z"
   },
   {
    "duration": 432,
    "start_time": "2022-11-09T09:34:17.124Z"
   },
   {
    "duration": 457,
    "start_time": "2022-11-09T09:34:17.558Z"
   },
   {
    "duration": 417,
    "start_time": "2022-11-09T09:34:18.018Z"
   },
   {
    "duration": 8,
    "start_time": "2022-11-09T09:34:18.437Z"
   },
   {
    "duration": 12,
    "start_time": "2022-11-09T09:34:18.446Z"
   },
   {
    "duration": 11,
    "start_time": "2022-11-09T09:34:18.460Z"
   },
   {
    "duration": 15,
    "start_time": "2022-11-09T09:34:18.479Z"
   },
   {
    "duration": 7,
    "start_time": "2022-11-09T09:34:18.499Z"
   },
   {
    "duration": 32,
    "start_time": "2022-11-09T09:34:18.508Z"
   },
   {
    "duration": 1327,
    "start_time": "2022-11-10T05:51:44.105Z"
   },
   {
    "duration": 94,
    "start_time": "2022-11-10T05:51:45.434Z"
   },
   {
    "duration": 18,
    "start_time": "2022-11-10T05:51:45.529Z"
   },
   {
    "duration": 3,
    "start_time": "2022-11-10T05:51:45.549Z"
   },
   {
    "duration": 24,
    "start_time": "2022-11-10T05:51:45.553Z"
   },
   {
    "duration": 10,
    "start_time": "2022-11-10T05:51:45.578Z"
   },
   {
    "duration": 29,
    "start_time": "2022-11-10T05:51:45.590Z"
   },
   {
    "duration": 28,
    "start_time": "2022-11-10T05:51:45.620Z"
   },
   {
    "duration": 19,
    "start_time": "2022-11-10T05:51:45.650Z"
   },
   {
    "duration": 8,
    "start_time": "2022-11-10T05:51:45.672Z"
   },
   {
    "duration": 29,
    "start_time": "2022-11-10T05:51:45.681Z"
   },
   {
    "duration": 28,
    "start_time": "2022-11-10T05:51:45.711Z"
   },
   {
    "duration": 8,
    "start_time": "2022-11-10T05:51:45.740Z"
   },
   {
    "duration": 5,
    "start_time": "2022-11-10T05:51:45.750Z"
   },
   {
    "duration": 21,
    "start_time": "2022-11-10T05:51:45.756Z"
   },
   {
    "duration": 5,
    "start_time": "2022-11-10T05:51:45.779Z"
   },
   {
    "duration": 13,
    "start_time": "2022-11-10T05:51:45.786Z"
   },
   {
    "duration": 26,
    "start_time": "2022-11-10T05:51:45.801Z"
   },
   {
    "duration": 4701,
    "start_time": "2022-11-10T05:51:45.830Z"
   },
   {
    "duration": 16,
    "start_time": "2022-11-10T05:51:50.532Z"
   },
   {
    "duration": 321,
    "start_time": "2022-11-10T05:51:50.549Z"
   },
   {
    "duration": 377,
    "start_time": "2022-11-10T05:51:50.872Z"
   },
   {
    "duration": 19297,
    "start_time": "2022-11-10T05:51:51.251Z"
   },
   {
    "duration": 7,
    "start_time": "2022-11-10T05:52:10.549Z"
   },
   {
    "duration": 9,
    "start_time": "2022-11-10T05:52:10.557Z"
   },
   {
    "duration": 339,
    "start_time": "2022-11-10T05:52:10.568Z"
   },
   {
    "duration": 349,
    "start_time": "2022-11-10T05:52:10.909Z"
   },
   {
    "duration": 6,
    "start_time": "2022-11-10T05:52:11.261Z"
   },
   {
    "duration": 7,
    "start_time": "2022-11-10T05:52:11.269Z"
   },
   {
    "duration": 245,
    "start_time": "2022-11-10T05:52:11.277Z"
   },
   {
    "duration": 9,
    "start_time": "2022-11-10T05:52:11.524Z"
   },
   {
    "duration": 19,
    "start_time": "2022-11-10T05:52:11.535Z"
   },
   {
    "duration": 294,
    "start_time": "2022-11-10T05:52:11.556Z"
   },
   {
    "duration": 394,
    "start_time": "2022-11-10T05:52:11.852Z"
   },
   {
    "duration": 404,
    "start_time": "2022-11-10T05:52:12.248Z"
   },
   {
    "duration": 400,
    "start_time": "2022-11-10T05:52:12.653Z"
   },
   {
    "duration": 7,
    "start_time": "2022-11-10T05:52:13.055Z"
   },
   {
    "duration": 5,
    "start_time": "2022-11-10T05:52:13.064Z"
   },
   {
    "duration": 9,
    "start_time": "2022-11-10T05:52:13.071Z"
   },
   {
    "duration": 12,
    "start_time": "2022-11-10T05:52:13.081Z"
   },
   {
    "duration": 4,
    "start_time": "2022-11-10T05:52:13.095Z"
   },
   {
    "duration": 32,
    "start_time": "2022-11-10T05:52:13.101Z"
   },
   {
    "duration": 1325,
    "start_time": "2022-11-10T07:38:57.640Z"
   },
   {
    "duration": 87,
    "start_time": "2022-11-10T07:38:58.967Z"
   },
   {
    "duration": 18,
    "start_time": "2022-11-10T07:38:59.056Z"
   },
   {
    "duration": 3,
    "start_time": "2022-11-10T07:39:00.450Z"
   },
   {
    "duration": 16,
    "start_time": "2022-11-10T07:39:03.509Z"
   },
   {
    "duration": 4,
    "start_time": "2022-11-10T07:39:05.606Z"
   },
   {
    "duration": 19,
    "start_time": "2022-11-10T07:39:06.070Z"
   },
   {
    "duration": 8,
    "start_time": "2022-11-10T07:39:08.174Z"
   },
   {
    "duration": 15,
    "start_time": "2022-11-10T07:39:08.775Z"
   },
   {
    "duration": 9,
    "start_time": "2022-11-10T07:39:09.343Z"
   },
   {
    "duration": 22,
    "start_time": "2022-11-10T07:39:10.143Z"
   },
   {
    "duration": 18,
    "start_time": "2022-11-10T07:39:10.861Z"
   },
   {
    "duration": 6,
    "start_time": "2022-11-10T07:39:11.714Z"
   },
   {
    "duration": 5,
    "start_time": "2022-11-10T07:39:12.466Z"
   },
   {
    "duration": 14,
    "start_time": "2022-11-10T07:39:22.644Z"
   },
   {
    "duration": 5,
    "start_time": "2022-11-10T07:39:23.498Z"
   },
   {
    "duration": 5,
    "start_time": "2022-11-10T07:39:24.325Z"
   },
   {
    "duration": 5,
    "start_time": "2022-11-10T07:39:27.962Z"
   },
   {
    "duration": 4366,
    "start_time": "2022-11-10T07:39:30.494Z"
   },
   {
    "duration": 14,
    "start_time": "2022-11-10T07:39:34.862Z"
   },
   {
    "duration": 291,
    "start_time": "2022-11-10T07:39:40.201Z"
   },
   {
    "duration": 381,
    "start_time": "2022-11-10T07:39:44.547Z"
   },
   {
    "duration": 18176,
    "start_time": "2022-11-10T07:39:55.115Z"
   },
   {
    "duration": 6,
    "start_time": "2022-11-10T07:40:13.293Z"
   },
   {
    "duration": 5,
    "start_time": "2022-11-10T07:40:16.667Z"
   },
   {
    "duration": 321,
    "start_time": "2022-11-10T07:41:25.325Z"
   },
   {
    "duration": 318,
    "start_time": "2022-11-10T08:06:29.142Z"
   },
   {
    "duration": 318,
    "start_time": "2022-11-10T08:07:22.721Z"
   },
   {
    "duration": 291,
    "start_time": "2022-11-10T08:07:41.258Z"
   },
   {
    "duration": 269,
    "start_time": "2022-11-10T08:20:16.390Z"
   },
   {
    "duration": 8,
    "start_time": "2022-11-10T08:20:26.842Z"
   },
   {
    "duration": 8,
    "start_time": "2022-11-10T08:20:28.715Z"
   },
   {
    "duration": 294,
    "start_time": "2022-11-10T08:20:31.525Z"
   },
   {
    "duration": 238,
    "start_time": "2022-11-10T08:20:46.998Z"
   },
   {
    "duration": 234,
    "start_time": "2022-11-10T08:21:35.900Z"
   },
   {
    "duration": 9,
    "start_time": "2022-11-10T08:22:13.151Z"
   },
   {
    "duration": 7,
    "start_time": "2022-11-10T08:22:14.990Z"
   },
   {
    "duration": 322,
    "start_time": "2022-11-10T08:22:18.926Z"
   },
   {
    "duration": 249,
    "start_time": "2022-11-10T08:22:21.802Z"
   },
   {
    "duration": 400,
    "start_time": "2022-11-10T08:23:47.973Z"
   },
   {
    "duration": 415,
    "start_time": "2022-11-10T08:24:14.217Z"
   },
   {
    "duration": 388,
    "start_time": "2022-11-10T08:24:25.859Z"
   },
   {
    "duration": 9,
    "start_time": "2022-11-10T08:24:42.399Z"
   },
   {
    "duration": 3,
    "start_time": "2022-11-10T08:24:43.858Z"
   },
   {
    "duration": 4,
    "start_time": "2022-11-10T08:24:44.994Z"
   },
   {
    "duration": 8,
    "start_time": "2022-11-10T08:24:57.361Z"
   },
   {
    "duration": 4,
    "start_time": "2022-11-10T08:24:57.851Z"
   },
   {
    "duration": 4,
    "start_time": "2022-11-10T08:24:58.317Z"
   },
   {
    "duration": 53,
    "start_time": "2022-11-10T09:39:08.134Z"
   },
   {
    "duration": 1327,
    "start_time": "2022-11-10T09:39:27.090Z"
   },
   {
    "duration": 114,
    "start_time": "2022-11-10T09:39:28.419Z"
   },
   {
    "duration": 19,
    "start_time": "2022-11-10T09:39:28.535Z"
   },
   {
    "duration": 2,
    "start_time": "2022-11-10T09:39:29.089Z"
   },
   {
    "duration": 16,
    "start_time": "2022-11-10T09:39:29.792Z"
   },
   {
    "duration": 5,
    "start_time": "2022-11-10T09:39:30.799Z"
   },
   {
    "duration": 21,
    "start_time": "2022-11-10T09:39:31.279Z"
   },
   {
    "duration": 11,
    "start_time": "2022-11-10T09:39:33.129Z"
   },
   {
    "duration": 17,
    "start_time": "2022-11-10T09:39:33.540Z"
   },
   {
    "duration": 10,
    "start_time": "2022-11-10T09:39:34.030Z"
   },
   {
    "duration": 26,
    "start_time": "2022-11-10T09:39:34.840Z"
   },
   {
    "duration": 18,
    "start_time": "2022-11-10T09:39:35.396Z"
   },
   {
    "duration": 6,
    "start_time": "2022-11-10T09:39:35.918Z"
   },
   {
    "duration": 5,
    "start_time": "2022-11-10T09:39:36.552Z"
   },
   {
    "duration": 15,
    "start_time": "2022-11-10T09:39:39.076Z"
   },
   {
    "duration": 5,
    "start_time": "2022-11-10T09:39:39.601Z"
   },
   {
    "duration": 5,
    "start_time": "2022-11-10T09:39:40.077Z"
   },
   {
    "duration": 7,
    "start_time": "2022-11-10T09:39:40.625Z"
   },
   {
    "duration": 4994,
    "start_time": "2022-11-10T09:39:42.147Z"
   },
   {
    "duration": 15,
    "start_time": "2022-11-10T09:39:47.143Z"
   },
   {
    "duration": 340,
    "start_time": "2022-11-10T09:39:49.585Z"
   },
   {
    "duration": 405,
    "start_time": "2022-11-10T09:39:50.889Z"
   },
   {
    "duration": 20744,
    "start_time": "2022-11-10T09:39:51.746Z"
   },
   {
    "duration": 7,
    "start_time": "2022-11-10T09:40:12.492Z"
   },
   {
    "duration": 10,
    "start_time": "2022-11-10T09:40:12.501Z"
   },
   {
    "duration": 362,
    "start_time": "2022-11-10T09:40:12.513Z"
   },
   {
    "duration": 364,
    "start_time": "2022-11-10T09:40:12.877Z"
   },
   {
    "duration": 349,
    "start_time": "2022-11-10T09:40:13.243Z"
   },
   {
    "duration": 8,
    "start_time": "2022-11-10T09:40:13.594Z"
   },
   {
    "duration": 10,
    "start_time": "2022-11-10T09:40:13.604Z"
   },
   {
    "duration": 340,
    "start_time": "2022-11-10T09:40:13.616Z"
   },
   {
    "duration": 9,
    "start_time": "2022-11-10T09:40:13.959Z"
   },
   {
    "duration": 9,
    "start_time": "2022-11-10T09:40:13.970Z"
   },
   {
    "duration": 313,
    "start_time": "2022-11-10T09:40:21.770Z"
   },
   {
    "duration": 10,
    "start_time": "2022-11-10T09:40:23.923Z"
   },
   {
    "duration": 9,
    "start_time": "2022-11-10T09:40:25.132Z"
   },
   {
    "duration": 293,
    "start_time": "2022-11-10T09:40:26.312Z"
   },
   {
    "duration": 277,
    "start_time": "2022-11-10T09:40:30.776Z"
   },
   {
    "duration": 443,
    "start_time": "2022-11-10T09:44:18.841Z"
   },
   {
    "duration": 370,
    "start_time": "2022-11-10T09:45:10.658Z"
   },
   {
    "duration": 282,
    "start_time": "2022-11-10T09:45:26.039Z"
   },
   {
    "duration": 375,
    "start_time": "2022-11-10T09:49:32.869Z"
   },
   {
    "duration": 412,
    "start_time": "2022-11-10T09:56:19.272Z"
   },
   {
    "duration": 501,
    "start_time": "2022-11-10T10:00:12.542Z"
   },
   {
    "duration": 434,
    "start_time": "2022-11-10T10:02:35.125Z"
   },
   {
    "duration": 83,
    "start_time": "2022-11-10T10:19:28.090Z"
   },
   {
    "duration": 1318,
    "start_time": "2022-11-10T10:29:49.019Z"
   },
   {
    "duration": 54,
    "start_time": "2022-11-10T10:29:50.339Z"
   },
   {
    "duration": 19,
    "start_time": "2022-11-10T10:29:50.395Z"
   },
   {
    "duration": 4,
    "start_time": "2022-11-10T10:29:50.416Z"
   },
   {
    "duration": 32,
    "start_time": "2022-11-10T10:29:50.422Z"
   },
   {
    "duration": 6,
    "start_time": "2022-11-10T10:29:50.455Z"
   },
   {
    "duration": 41,
    "start_time": "2022-11-10T10:29:50.463Z"
   },
   {
    "duration": 34,
    "start_time": "2022-11-10T10:29:50.507Z"
   },
   {
    "duration": 21,
    "start_time": "2022-11-10T10:29:50.543Z"
   },
   {
    "duration": 11,
    "start_time": "2022-11-10T10:29:50.568Z"
   },
   {
    "duration": 55,
    "start_time": "2022-11-10T10:29:50.581Z"
   },
   {
    "duration": 27,
    "start_time": "2022-11-10T10:29:50.639Z"
   },
   {
    "duration": 13,
    "start_time": "2022-11-10T10:29:50.668Z"
   },
   {
    "duration": 11,
    "start_time": "2022-11-10T10:29:50.684Z"
   },
   {
    "duration": 42,
    "start_time": "2022-11-10T10:29:50.697Z"
   },
   {
    "duration": 6,
    "start_time": "2022-11-10T10:29:50.740Z"
   },
   {
    "duration": 12,
    "start_time": "2022-11-10T10:29:50.749Z"
   },
   {
    "duration": 8,
    "start_time": "2022-11-10T10:29:50.763Z"
   },
   {
    "duration": 5277,
    "start_time": "2022-11-10T10:29:50.773Z"
   },
   {
    "duration": 18,
    "start_time": "2022-11-10T10:29:56.052Z"
   },
   {
    "duration": 359,
    "start_time": "2022-11-10T10:29:56.072Z"
   },
   {
    "duration": 415,
    "start_time": "2022-11-10T10:29:56.437Z"
   },
   {
    "duration": 21068,
    "start_time": "2022-11-10T10:29:56.854Z"
   },
   {
    "duration": 8,
    "start_time": "2022-11-10T10:30:17.925Z"
   },
   {
    "duration": 10,
    "start_time": "2022-11-10T10:30:17.935Z"
   },
   {
    "duration": 427,
    "start_time": "2022-11-10T10:30:17.947Z"
   },
   {
    "duration": 385,
    "start_time": "2022-11-10T10:30:18.376Z"
   },
   {
    "duration": 431,
    "start_time": "2022-11-10T10:30:18.765Z"
   },
   {
    "duration": 9,
    "start_time": "2022-11-10T10:30:19.198Z"
   },
   {
    "duration": 21,
    "start_time": "2022-11-10T10:30:19.209Z"
   },
   {
    "duration": 329,
    "start_time": "2022-11-10T10:30:19.237Z"
   },
   {
    "duration": 11,
    "start_time": "2022-11-10T10:30:19.568Z"
   },
   {
    "duration": 11,
    "start_time": "2022-11-10T10:30:19.581Z"
   },
   {
    "duration": 317,
    "start_time": "2022-11-10T10:30:19.594Z"
   },
   {
    "duration": 292,
    "start_time": "2022-11-10T10:30:19.913Z"
   },
   {
    "duration": 411,
    "start_time": "2022-11-10T10:30:20.207Z"
   },
   {
    "duration": 430,
    "start_time": "2022-11-10T10:30:20.620Z"
   },
   {
    "duration": 455,
    "start_time": "2022-11-10T10:30:21.051Z"
   },
   {
    "duration": 457,
    "start_time": "2022-11-10T10:30:21.509Z"
   },
   {
    "duration": 11,
    "start_time": "2022-11-10T10:30:21.968Z"
   },
   {
    "duration": 8,
    "start_time": "2022-11-10T10:30:21.981Z"
   },
   {
    "duration": 7,
    "start_time": "2022-11-10T10:30:21.991Z"
   },
   {
    "duration": 15,
    "start_time": "2022-11-10T10:30:22.001Z"
   },
   {
    "duration": 4,
    "start_time": "2022-11-10T10:30:22.039Z"
   },
   {
    "duration": 7,
    "start_time": "2022-11-10T10:30:22.045Z"
   },
   {
    "duration": 1154,
    "start_time": "2023-06-08T09:35:50.868Z"
   },
   {
    "duration": 185,
    "start_time": "2023-06-08T09:35:52.024Z"
   },
   {
    "duration": 20,
    "start_time": "2023-06-08T09:35:52.211Z"
   },
   {
    "duration": 4,
    "start_time": "2023-06-08T09:35:52.234Z"
   },
   {
    "duration": 22,
    "start_time": "2023-06-08T09:35:52.240Z"
   },
   {
    "duration": 4,
    "start_time": "2023-06-08T09:35:52.264Z"
   },
   {
    "duration": 24,
    "start_time": "2023-06-08T09:35:52.270Z"
   },
   {
    "duration": 10,
    "start_time": "2023-06-08T09:35:52.296Z"
   },
   {
    "duration": 16,
    "start_time": "2023-06-08T09:35:52.308Z"
   },
   {
    "duration": 10,
    "start_time": "2023-06-08T09:35:52.349Z"
   },
   {
    "duration": 25,
    "start_time": "2023-06-08T09:35:52.361Z"
   },
   {
    "duration": 18,
    "start_time": "2023-06-08T09:35:52.387Z"
   },
   {
    "duration": 8,
    "start_time": "2023-06-08T09:35:52.407Z"
   },
   {
    "duration": 34,
    "start_time": "2023-06-08T09:35:52.416Z"
   },
   {
    "duration": 23,
    "start_time": "2023-06-08T09:35:52.452Z"
   },
   {
    "duration": 5,
    "start_time": "2023-06-08T09:35:52.477Z"
   },
   {
    "duration": 7,
    "start_time": "2023-06-08T09:35:52.484Z"
   },
   {
    "duration": 6,
    "start_time": "2023-06-08T09:35:52.493Z"
   },
   {
    "duration": 5051,
    "start_time": "2023-06-08T09:35:52.502Z"
   },
   {
    "duration": 15,
    "start_time": "2023-06-08T09:35:57.554Z"
   },
   {
    "duration": 324,
    "start_time": "2023-06-08T09:35:57.571Z"
   },
   {
    "duration": 421,
    "start_time": "2023-06-08T09:35:57.897Z"
   },
   {
    "duration": 20671,
    "start_time": "2023-06-08T09:35:58.320Z"
   },
   {
    "duration": 6,
    "start_time": "2023-06-08T09:36:18.993Z"
   },
   {
    "duration": 7,
    "start_time": "2023-06-08T09:36:19.000Z"
   },
   {
    "duration": 358,
    "start_time": "2023-06-08T09:36:19.009Z"
   },
   {
    "duration": 352,
    "start_time": "2023-06-08T09:36:19.368Z"
   },
   {
    "duration": 319,
    "start_time": "2023-06-08T09:36:19.724Z"
   },
   {
    "duration": 8,
    "start_time": "2023-06-08T09:36:20.045Z"
   },
   {
    "duration": 15,
    "start_time": "2023-06-08T09:36:20.054Z"
   },
   {
    "duration": 291,
    "start_time": "2023-06-08T09:36:20.070Z"
   },
   {
    "duration": 11,
    "start_time": "2023-06-08T09:36:20.363Z"
   },
   {
    "duration": 9,
    "start_time": "2023-06-08T09:36:20.375Z"
   },
   {
    "duration": 295,
    "start_time": "2023-06-08T09:36:20.386Z"
   },
   {
    "duration": 272,
    "start_time": "2023-06-08T09:36:20.683Z"
   },
   {
    "duration": 354,
    "start_time": "2023-06-08T09:36:20.957Z"
   },
   {
    "duration": 408,
    "start_time": "2023-06-08T09:36:21.313Z"
   },
   {
    "duration": 423,
    "start_time": "2023-06-08T09:36:21.724Z"
   },
   {
    "duration": 426,
    "start_time": "2023-06-08T09:36:22.150Z"
   },
   {
    "duration": 6,
    "start_time": "2023-06-08T09:36:22.578Z"
   },
   {
    "duration": 25,
    "start_time": "2023-06-08T09:36:22.585Z"
   },
   {
    "duration": 9,
    "start_time": "2023-06-08T09:36:22.611Z"
   },
   {
    "duration": 17,
    "start_time": "2023-06-08T09:36:22.622Z"
   },
   {
    "duration": 6,
    "start_time": "2023-06-08T09:36:22.641Z"
   },
   {
    "duration": 14,
    "start_time": "2023-06-08T09:36:22.649Z"
   },
   {
    "duration": 1171,
    "start_time": "2023-06-08T09:47:28.823Z"
   },
   {
    "duration": 65,
    "start_time": "2023-06-08T09:47:29.997Z"
   },
   {
    "duration": 18,
    "start_time": "2023-06-08T09:47:30.064Z"
   },
   {
    "duration": 30,
    "start_time": "2023-06-08T09:47:30.084Z"
   },
   {
    "duration": 47,
    "start_time": "2023-06-08T09:47:30.116Z"
   },
   {
    "duration": 29,
    "start_time": "2023-06-08T09:47:30.164Z"
   },
   {
    "duration": 45,
    "start_time": "2023-06-08T09:47:30.195Z"
   },
   {
    "duration": 38,
    "start_time": "2023-06-08T09:47:30.242Z"
   },
   {
    "duration": 36,
    "start_time": "2023-06-08T09:47:30.282Z"
   },
   {
    "duration": 26,
    "start_time": "2023-06-08T09:47:30.320Z"
   },
   {
    "duration": 49,
    "start_time": "2023-06-08T09:47:30.347Z"
   },
   {
    "duration": 28,
    "start_time": "2023-06-08T09:47:30.397Z"
   },
   {
    "duration": 51,
    "start_time": "2023-06-08T09:47:30.426Z"
   },
   {
    "duration": 34,
    "start_time": "2023-06-08T09:47:30.479Z"
   },
   {
    "duration": 55,
    "start_time": "2023-06-08T09:47:30.515Z"
   },
   {
    "duration": 36,
    "start_time": "2023-06-08T09:47:30.572Z"
   },
   {
    "duration": 45,
    "start_time": "2023-06-08T09:47:30.609Z"
   },
   {
    "duration": 33,
    "start_time": "2023-06-08T09:47:30.656Z"
   },
   {
    "duration": 4834,
    "start_time": "2023-06-08T09:47:30.691Z"
   },
   {
    "duration": 15,
    "start_time": "2023-06-08T09:47:35.526Z"
   },
   {
    "duration": 325,
    "start_time": "2023-06-08T09:47:35.550Z"
   },
   {
    "duration": 411,
    "start_time": "2023-06-08T09:47:35.877Z"
   },
   {
    "duration": 19412,
    "start_time": "2023-06-08T09:47:36.290Z"
   },
   {
    "duration": 7,
    "start_time": "2023-06-08T09:47:55.704Z"
   },
   {
    "duration": 13,
    "start_time": "2023-06-08T09:47:55.712Z"
   },
   {
    "duration": 355,
    "start_time": "2023-06-08T09:47:55.727Z"
   },
   {
    "duration": 338,
    "start_time": "2023-06-08T09:47:56.083Z"
   },
   {
    "duration": 314,
    "start_time": "2023-06-08T09:47:56.424Z"
   },
   {
    "duration": 12,
    "start_time": "2023-06-08T09:47:56.740Z"
   },
   {
    "duration": 14,
    "start_time": "2023-06-08T09:47:56.754Z"
   },
   {
    "duration": 294,
    "start_time": "2023-06-08T09:47:56.770Z"
   },
   {
    "duration": 9,
    "start_time": "2023-06-08T09:47:57.066Z"
   },
   {
    "duration": 12,
    "start_time": "2023-06-08T09:47:57.076Z"
   },
   {
    "duration": 303,
    "start_time": "2023-06-08T09:47:57.089Z"
   },
   {
    "duration": 278,
    "start_time": "2023-06-08T09:47:57.393Z"
   },
   {
    "duration": 373,
    "start_time": "2023-06-08T09:47:57.672Z"
   },
   {
    "duration": 407,
    "start_time": "2023-06-08T09:47:58.047Z"
   },
   {
    "duration": 426,
    "start_time": "2023-06-08T09:47:58.456Z"
   },
   {
    "duration": 394,
    "start_time": "2023-06-08T09:47:58.884Z"
   },
   {
    "duration": 7,
    "start_time": "2023-06-08T09:47:59.280Z"
   },
   {
    "duration": 5,
    "start_time": "2023-06-08T09:47:59.289Z"
   },
   {
    "duration": 19,
    "start_time": "2023-06-08T09:47:59.295Z"
   },
   {
    "duration": 13,
    "start_time": "2023-06-08T09:47:59.315Z"
   },
   {
    "duration": 5,
    "start_time": "2023-06-08T09:47:59.329Z"
   },
   {
    "duration": 14,
    "start_time": "2023-06-08T09:47:59.336Z"
   }
  ],
  "kernelspec": {
   "display_name": "Python 3 (ipykernel)",
   "language": "python",
   "name": "python3"
  },
  "language_info": {
   "codemirror_mode": {
    "name": "ipython",
    "version": 3
   },
   "file_extension": ".py",
   "mimetype": "text/x-python",
   "name": "python",
   "nbconvert_exporter": "python",
   "pygments_lexer": "ipython3",
   "version": "3.9.5"
  },
  "toc": {
   "base_numbering": 1,
   "nav_menu": {},
   "number_sections": true,
   "sideBar": true,
   "skip_h1_title": true,
   "title_cell": "Table of Contents",
   "title_sidebar": "Contents",
   "toc_cell": false,
   "toc_position": {},
   "toc_section_display": true,
   "toc_window_display": false
  }
 },
 "nbformat": 4,
 "nbformat_minor": 2
}
