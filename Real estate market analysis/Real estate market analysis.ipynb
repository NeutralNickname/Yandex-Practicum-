{
 "cells": [
  {
   "cell_type": "markdown",
   "metadata": {},
   "source": [
    "# Исследование объявлений о продаже квартир\n",
    "\n",
    "В вашем распоряжении данные сервиса Яндекс.Недвижимость — архив объявлений о продаже квартир в Санкт-Петербурге и соседних населённых пунктов за несколько лет. Нужно научиться определять рыночную стоимость объектов недвижимости. Ваша задача — установить параметры. Это позволит построить автоматизированную систему: она отследит аномалии и мошенническую деятельность. \n",
    "\n",
    "По каждой квартире на продажу доступны два вида данных. Первые вписаны пользователем, вторые — получены автоматически на основе картографических данных. Например, расстояние до центра, аэропорта, ближайшего парка и водоёма. \n",
    "\n",
    "Основные задачи:\n",
    "1. Проанализировать базовые параметры недвижимости.\n",
    "2. Проанализировать срок реализации недвижимости.\n",
    "3. Изучить влияние базовых параметров недвижимости на конечную стоимость.\n",
    "4. Сравнить стоимость м2 недвижимости в 10 локациях с наибольшим количеством предложений.\n",
    "5. Изучить зависимость удаленности от центра Санкт-Петербурга на конечную стоимость.\n",
    "6. Сделать общий вывод.\n",
    "\n",
    "План работ:\n",
    "1. Предобработка данных:\n",
    "* Синтезировать пропущенные значения на основании исходных данных, или исключить, если это невозможно.\n",
    "* Откорректировать типы данных в соответствии со значениями в каждом столбце.\n",
    "* Избавиться от дубликатов.\n",
    "* Избавиться от аномальных и редких значений.\n",
    "2. Добавить в датафрейм столбцы с расчетными значениями для дальнейшего исследования.\n",
    "3. Исследовательский анализ:\n",
    "* Построить гистограммы для базовых параметров и ознакомиться с ними.\n",
    "* Изучить сроки продажи недвижимости.\n",
    "* Изучить влияние базовых параметров на конечную стоимость.\n",
    "* Сравнить стоимость м2 в недвижимости с наибольшим количеством предложений.\n",
    "* Посчитать среднюю стоимость и изучить как меняется цена по мере удаления от центра Санкт-Петербурга.\n",
    "4. Сделать общий вывод."
   ]
  },
  {
   "cell_type": "markdown",
   "metadata": {},
   "source": [
    "### Откройте файл с данными и изучите общую информацию. "
   ]
  },
  {
   "cell_type": "code",
   "execution_count": 1,
   "metadata": {
    "scrolled": true
   },
   "outputs": [],
   "source": [
    "#Подключаем библиотеки\n",
    "import pandas as pd\n",
    "import numpy as np\n",
    "import matplotlib\n",
    "import matplotlib.pyplot as plt\n",
    "import warnings"
   ]
  },
  {
   "cell_type": "code",
   "execution_count": 2,
   "metadata": {},
   "outputs": [],
   "source": [
    "#Открываю исходный файл данных\n",
    "data = pd.read_csv('/datasets/real_estate_data.csv', sep=\"\\t\")"
   ]
  },
  {
   "cell_type": "code",
   "execution_count": 3,
   "metadata": {},
   "outputs": [
    {
     "data": {
      "text/html": [
       "<div>\n",
       "<style scoped>\n",
       "    .dataframe tbody tr th:only-of-type {\n",
       "        vertical-align: middle;\n",
       "    }\n",
       "\n",
       "    .dataframe tbody tr th {\n",
       "        vertical-align: top;\n",
       "    }\n",
       "\n",
       "    .dataframe thead th {\n",
       "        text-align: right;\n",
       "    }\n",
       "</style>\n",
       "<table border=\"1\" class=\"dataframe\">\n",
       "  <thead>\n",
       "    <tr style=\"text-align: right;\">\n",
       "      <th></th>\n",
       "      <th>total_images</th>\n",
       "      <th>last_price</th>\n",
       "      <th>total_area</th>\n",
       "      <th>first_day_exposition</th>\n",
       "      <th>rooms</th>\n",
       "      <th>ceiling_height</th>\n",
       "      <th>floors_total</th>\n",
       "      <th>living_area</th>\n",
       "      <th>floor</th>\n",
       "      <th>is_apartment</th>\n",
       "      <th>...</th>\n",
       "      <th>kitchen_area</th>\n",
       "      <th>balcony</th>\n",
       "      <th>locality_name</th>\n",
       "      <th>airports_nearest</th>\n",
       "      <th>cityCenters_nearest</th>\n",
       "      <th>parks_around3000</th>\n",
       "      <th>parks_nearest</th>\n",
       "      <th>ponds_around3000</th>\n",
       "      <th>ponds_nearest</th>\n",
       "      <th>days_exposition</th>\n",
       "    </tr>\n",
       "  </thead>\n",
       "  <tbody>\n",
       "    <tr>\n",
       "      <th>0</th>\n",
       "      <td>20</td>\n",
       "      <td>13000000.0</td>\n",
       "      <td>108.0</td>\n",
       "      <td>2019-03-07T00:00:00</td>\n",
       "      <td>3</td>\n",
       "      <td>2.70</td>\n",
       "      <td>16.0</td>\n",
       "      <td>51.0</td>\n",
       "      <td>8</td>\n",
       "      <td>NaN</td>\n",
       "      <td>...</td>\n",
       "      <td>25.0</td>\n",
       "      <td>NaN</td>\n",
       "      <td>Санкт-Петербург</td>\n",
       "      <td>18863.0</td>\n",
       "      <td>16028.0</td>\n",
       "      <td>1.0</td>\n",
       "      <td>482.0</td>\n",
       "      <td>2.0</td>\n",
       "      <td>755.0</td>\n",
       "      <td>NaN</td>\n",
       "    </tr>\n",
       "    <tr>\n",
       "      <th>1</th>\n",
       "      <td>7</td>\n",
       "      <td>3350000.0</td>\n",
       "      <td>40.4</td>\n",
       "      <td>2018-12-04T00:00:00</td>\n",
       "      <td>1</td>\n",
       "      <td>NaN</td>\n",
       "      <td>11.0</td>\n",
       "      <td>18.6</td>\n",
       "      <td>1</td>\n",
       "      <td>NaN</td>\n",
       "      <td>...</td>\n",
       "      <td>11.0</td>\n",
       "      <td>2.0</td>\n",
       "      <td>посёлок Шушары</td>\n",
       "      <td>12817.0</td>\n",
       "      <td>18603.0</td>\n",
       "      <td>0.0</td>\n",
       "      <td>NaN</td>\n",
       "      <td>0.0</td>\n",
       "      <td>NaN</td>\n",
       "      <td>81.0</td>\n",
       "    </tr>\n",
       "    <tr>\n",
       "      <th>2</th>\n",
       "      <td>10</td>\n",
       "      <td>5196000.0</td>\n",
       "      <td>56.0</td>\n",
       "      <td>2015-08-20T00:00:00</td>\n",
       "      <td>2</td>\n",
       "      <td>NaN</td>\n",
       "      <td>5.0</td>\n",
       "      <td>34.3</td>\n",
       "      <td>4</td>\n",
       "      <td>NaN</td>\n",
       "      <td>...</td>\n",
       "      <td>8.3</td>\n",
       "      <td>0.0</td>\n",
       "      <td>Санкт-Петербург</td>\n",
       "      <td>21741.0</td>\n",
       "      <td>13933.0</td>\n",
       "      <td>1.0</td>\n",
       "      <td>90.0</td>\n",
       "      <td>2.0</td>\n",
       "      <td>574.0</td>\n",
       "      <td>558.0</td>\n",
       "    </tr>\n",
       "    <tr>\n",
       "      <th>3</th>\n",
       "      <td>0</td>\n",
       "      <td>64900000.0</td>\n",
       "      <td>159.0</td>\n",
       "      <td>2015-07-24T00:00:00</td>\n",
       "      <td>3</td>\n",
       "      <td>NaN</td>\n",
       "      <td>14.0</td>\n",
       "      <td>NaN</td>\n",
       "      <td>9</td>\n",
       "      <td>NaN</td>\n",
       "      <td>...</td>\n",
       "      <td>NaN</td>\n",
       "      <td>0.0</td>\n",
       "      <td>Санкт-Петербург</td>\n",
       "      <td>28098.0</td>\n",
       "      <td>6800.0</td>\n",
       "      <td>2.0</td>\n",
       "      <td>84.0</td>\n",
       "      <td>3.0</td>\n",
       "      <td>234.0</td>\n",
       "      <td>424.0</td>\n",
       "    </tr>\n",
       "    <tr>\n",
       "      <th>4</th>\n",
       "      <td>2</td>\n",
       "      <td>10000000.0</td>\n",
       "      <td>100.0</td>\n",
       "      <td>2018-06-19T00:00:00</td>\n",
       "      <td>2</td>\n",
       "      <td>3.03</td>\n",
       "      <td>14.0</td>\n",
       "      <td>32.0</td>\n",
       "      <td>13</td>\n",
       "      <td>NaN</td>\n",
       "      <td>...</td>\n",
       "      <td>41.0</td>\n",
       "      <td>NaN</td>\n",
       "      <td>Санкт-Петербург</td>\n",
       "      <td>31856.0</td>\n",
       "      <td>8098.0</td>\n",
       "      <td>2.0</td>\n",
       "      <td>112.0</td>\n",
       "      <td>1.0</td>\n",
       "      <td>48.0</td>\n",
       "      <td>121.0</td>\n",
       "    </tr>\n",
       "  </tbody>\n",
       "</table>\n",
       "<p>5 rows × 22 columns</p>\n",
       "</div>"
      ],
      "text/plain": [
       "   total_images  last_price  total_area first_day_exposition  rooms  \\\n",
       "0            20  13000000.0       108.0  2019-03-07T00:00:00      3   \n",
       "1             7   3350000.0        40.4  2018-12-04T00:00:00      1   \n",
       "2            10   5196000.0        56.0  2015-08-20T00:00:00      2   \n",
       "3             0  64900000.0       159.0  2015-07-24T00:00:00      3   \n",
       "4             2  10000000.0       100.0  2018-06-19T00:00:00      2   \n",
       "\n",
       "   ceiling_height  floors_total  living_area  floor is_apartment  ...  \\\n",
       "0            2.70          16.0         51.0      8          NaN  ...   \n",
       "1             NaN          11.0         18.6      1          NaN  ...   \n",
       "2             NaN           5.0         34.3      4          NaN  ...   \n",
       "3             NaN          14.0          NaN      9          NaN  ...   \n",
       "4            3.03          14.0         32.0     13          NaN  ...   \n",
       "\n",
       "   kitchen_area  balcony    locality_name  airports_nearest  \\\n",
       "0          25.0      NaN  Санкт-Петербург           18863.0   \n",
       "1          11.0      2.0   посёлок Шушары           12817.0   \n",
       "2           8.3      0.0  Санкт-Петербург           21741.0   \n",
       "3           NaN      0.0  Санкт-Петербург           28098.0   \n",
       "4          41.0      NaN  Санкт-Петербург           31856.0   \n",
       "\n",
       "  cityCenters_nearest  parks_around3000  parks_nearest  ponds_around3000  \\\n",
       "0             16028.0               1.0          482.0               2.0   \n",
       "1             18603.0               0.0            NaN               0.0   \n",
       "2             13933.0               1.0           90.0               2.0   \n",
       "3              6800.0               2.0           84.0               3.0   \n",
       "4              8098.0               2.0          112.0               1.0   \n",
       "\n",
       "   ponds_nearest  days_exposition  \n",
       "0          755.0              NaN  \n",
       "1            NaN             81.0  \n",
       "2          574.0            558.0  \n",
       "3          234.0            424.0  \n",
       "4           48.0            121.0  \n",
       "\n",
       "[5 rows x 22 columns]"
      ]
     },
     "execution_count": 3,
     "metadata": {},
     "output_type": "execute_result"
    }
   ],
   "source": [
    "#Использую типовые методы для изучения данных в исходном файле, чтобы не загромождать код,\n",
    "#некоторые вынесены в комментарий\n",
    "#Общая информация о данных\n",
    "#print(data.info())\n",
    "#Первые строки выгруженного датафрейма\n",
    "data.head(5)\n",
    "#Общее количество строк и столбцов\n",
    "#print(data.shape)\n",
    "#Количество пропущенных значений по столбцам\n",
    "#print(data.isnull().sum())\n",
    "#основные описательные статистические данные\n",
    "#data.describe()"
   ]
  },
  {
   "cell_type": "code",
   "execution_count": 4,
   "metadata": {
    "scrolled": true
   },
   "outputs": [
    {
     "data": {
      "text/html": [
       "<div>\n",
       "<style scoped>\n",
       "    .dataframe tbody tr th:only-of-type {\n",
       "        vertical-align: middle;\n",
       "    }\n",
       "\n",
       "    .dataframe tbody tr th {\n",
       "        vertical-align: top;\n",
       "    }\n",
       "\n",
       "    .dataframe thead th {\n",
       "        text-align: right;\n",
       "    }\n",
       "</style>\n",
       "<table border=\"1\" class=\"dataframe\">\n",
       "  <thead>\n",
       "    <tr style=\"text-align: right;\">\n",
       "      <th></th>\n",
       "      <th>total_images</th>\n",
       "      <th>last_price</th>\n",
       "      <th>total_area</th>\n",
       "      <th>first_day_exposition</th>\n",
       "      <th>rooms</th>\n",
       "      <th>ceiling_height</th>\n",
       "      <th>floors_total</th>\n",
       "      <th>living_area</th>\n",
       "      <th>floor</th>\n",
       "      <th>is_apartment</th>\n",
       "      <th>...</th>\n",
       "      <th>kitchen_area</th>\n",
       "      <th>balcony</th>\n",
       "      <th>locality_name</th>\n",
       "      <th>airports_nearest</th>\n",
       "      <th>cityCenters_nearest</th>\n",
       "      <th>parks_around3000</th>\n",
       "      <th>parks_nearest</th>\n",
       "      <th>ponds_around3000</th>\n",
       "      <th>ponds_nearest</th>\n",
       "      <th>days_exposition</th>\n",
       "    </tr>\n",
       "  </thead>\n",
       "  <tbody>\n",
       "    <tr>\n",
       "      <th>41</th>\n",
       "      <td>16</td>\n",
       "      <td>7900000.0</td>\n",
       "      <td>74.0</td>\n",
       "      <td>2016-05-04T00:00:00</td>\n",
       "      <td>3</td>\n",
       "      <td>NaN</td>\n",
       "      <td>14.0</td>\n",
       "      <td>59.0</td>\n",
       "      <td>8</td>\n",
       "      <td>False</td>\n",
       "      <td>...</td>\n",
       "      <td>12.0</td>\n",
       "      <td>5.0</td>\n",
       "      <td>Санкт-Петербург</td>\n",
       "      <td>37715.0</td>\n",
       "      <td>12612.0</td>\n",
       "      <td>1.0</td>\n",
       "      <td>725.0</td>\n",
       "      <td>1.0</td>\n",
       "      <td>759.0</td>\n",
       "      <td>179.0</td>\n",
       "    </tr>\n",
       "    <tr>\n",
       "      <th>171</th>\n",
       "      <td>6</td>\n",
       "      <td>3800000.0</td>\n",
       "      <td>49.0</td>\n",
       "      <td>2019-02-22T00:00:00</td>\n",
       "      <td>2</td>\n",
       "      <td>2.50</td>\n",
       "      <td>9.0</td>\n",
       "      <td>38.0</td>\n",
       "      <td>8</td>\n",
       "      <td>NaN</td>\n",
       "      <td>...</td>\n",
       "      <td>10.0</td>\n",
       "      <td>1.0</td>\n",
       "      <td>посёлок Шушары</td>\n",
       "      <td>18471.0</td>\n",
       "      <td>24272.0</td>\n",
       "      <td>0.0</td>\n",
       "      <td>NaN</td>\n",
       "      <td>0.0</td>\n",
       "      <td>NaN</td>\n",
       "      <td>11.0</td>\n",
       "    </tr>\n",
       "    <tr>\n",
       "      <th>184</th>\n",
       "      <td>7</td>\n",
       "      <td>2600000.0</td>\n",
       "      <td>30.2</td>\n",
       "      <td>2018-02-14T00:00:00</td>\n",
       "      <td>1</td>\n",
       "      <td>2.65</td>\n",
       "      <td>9.0</td>\n",
       "      <td>26.1</td>\n",
       "      <td>5</td>\n",
       "      <td>NaN</td>\n",
       "      <td>...</td>\n",
       "      <td>6.2</td>\n",
       "      <td>NaN</td>\n",
       "      <td>Санкт-Петербург</td>\n",
       "      <td>13952.0</td>\n",
       "      <td>15031.0</td>\n",
       "      <td>0.0</td>\n",
       "      <td>NaN</td>\n",
       "      <td>1.0</td>\n",
       "      <td>824.0</td>\n",
       "      <td>12.0</td>\n",
       "    </tr>\n",
       "    <tr>\n",
       "      <th>220</th>\n",
       "      <td>8</td>\n",
       "      <td>3890000.0</td>\n",
       "      <td>37.0</td>\n",
       "      <td>2018-07-09T00:00:00</td>\n",
       "      <td>1</td>\n",
       "      <td>2.50</td>\n",
       "      <td>25.0</td>\n",
       "      <td>28.0</td>\n",
       "      <td>6</td>\n",
       "      <td>NaN</td>\n",
       "      <td>...</td>\n",
       "      <td>9.0</td>\n",
       "      <td>NaN</td>\n",
       "      <td>Санкт-Петербург</td>\n",
       "      <td>25408.0</td>\n",
       "      <td>16166.0</td>\n",
       "      <td>0.0</td>\n",
       "      <td>NaN</td>\n",
       "      <td>0.0</td>\n",
       "      <td>NaN</td>\n",
       "      <td>28.0</td>\n",
       "    </tr>\n",
       "    <tr>\n",
       "      <th>319</th>\n",
       "      <td>19</td>\n",
       "      <td>4850000.0</td>\n",
       "      <td>59.7</td>\n",
       "      <td>2015-03-19T00:00:00</td>\n",
       "      <td>3</td>\n",
       "      <td>2.50</td>\n",
       "      <td>5.0</td>\n",
       "      <td>47.4</td>\n",
       "      <td>4</td>\n",
       "      <td>NaN</td>\n",
       "      <td>...</td>\n",
       "      <td>6.4</td>\n",
       "      <td>1.0</td>\n",
       "      <td>Санкт-Петербург</td>\n",
       "      <td>43095.0</td>\n",
       "      <td>15599.0</td>\n",
       "      <td>0.0</td>\n",
       "      <td>NaN</td>\n",
       "      <td>0.0</td>\n",
       "      <td>NaN</td>\n",
       "      <td>974.0</td>\n",
       "    </tr>\n",
       "    <tr>\n",
       "      <th>...</th>\n",
       "      <td>...</td>\n",
       "      <td>...</td>\n",
       "      <td>...</td>\n",
       "      <td>...</td>\n",
       "      <td>...</td>\n",
       "      <td>...</td>\n",
       "      <td>...</td>\n",
       "      <td>...</td>\n",
       "      <td>...</td>\n",
       "      <td>...</td>\n",
       "      <td>...</td>\n",
       "      <td>...</td>\n",
       "      <td>...</td>\n",
       "      <td>...</td>\n",
       "      <td>...</td>\n",
       "      <td>...</td>\n",
       "      <td>...</td>\n",
       "      <td>...</td>\n",
       "      <td>...</td>\n",
       "      <td>...</td>\n",
       "      <td>...</td>\n",
       "    </tr>\n",
       "    <tr>\n",
       "      <th>23216</th>\n",
       "      <td>15</td>\n",
       "      <td>10150000.0</td>\n",
       "      <td>114.0</td>\n",
       "      <td>2015-01-21T00:00:00</td>\n",
       "      <td>4</td>\n",
       "      <td>NaN</td>\n",
       "      <td>5.0</td>\n",
       "      <td>90.2</td>\n",
       "      <td>4</td>\n",
       "      <td>NaN</td>\n",
       "      <td>...</td>\n",
       "      <td>16.0</td>\n",
       "      <td>NaN</td>\n",
       "      <td>Санкт-Петербург</td>\n",
       "      <td>26259.0</td>\n",
       "      <td>4961.0</td>\n",
       "      <td>0.0</td>\n",
       "      <td>NaN</td>\n",
       "      <td>2.0</td>\n",
       "      <td>838.0</td>\n",
       "      <td>1052.0</td>\n",
       "    </tr>\n",
       "    <tr>\n",
       "      <th>23297</th>\n",
       "      <td>10</td>\n",
       "      <td>1850000.0</td>\n",
       "      <td>48.2</td>\n",
       "      <td>2019-03-13T00:00:00</td>\n",
       "      <td>2</td>\n",
       "      <td>NaN</td>\n",
       "      <td>5.0</td>\n",
       "      <td>42.2</td>\n",
       "      <td>2</td>\n",
       "      <td>NaN</td>\n",
       "      <td>...</td>\n",
       "      <td>6.0</td>\n",
       "      <td>1.0</td>\n",
       "      <td>Высоцк</td>\n",
       "      <td>NaN</td>\n",
       "      <td>NaN</td>\n",
       "      <td>NaN</td>\n",
       "      <td>NaN</td>\n",
       "      <td>NaN</td>\n",
       "      <td>NaN</td>\n",
       "      <td>45.0</td>\n",
       "    </tr>\n",
       "    <tr>\n",
       "      <th>23328</th>\n",
       "      <td>12</td>\n",
       "      <td>4299000.0</td>\n",
       "      <td>54.0</td>\n",
       "      <td>2016-11-25T00:00:00</td>\n",
       "      <td>2</td>\n",
       "      <td>NaN</td>\n",
       "      <td>14.0</td>\n",
       "      <td>40.0</td>\n",
       "      <td>8</td>\n",
       "      <td>NaN</td>\n",
       "      <td>...</td>\n",
       "      <td>10.0</td>\n",
       "      <td>0.0</td>\n",
       "      <td>Колпино</td>\n",
       "      <td>25612.0</td>\n",
       "      <td>31399.0</td>\n",
       "      <td>0.0</td>\n",
       "      <td>NaN</td>\n",
       "      <td>0.0</td>\n",
       "      <td>NaN</td>\n",
       "      <td>343.0</td>\n",
       "    </tr>\n",
       "    <tr>\n",
       "      <th>23521</th>\n",
       "      <td>13</td>\n",
       "      <td>8500000.0</td>\n",
       "      <td>65.0</td>\n",
       "      <td>2018-11-01T00:00:00</td>\n",
       "      <td>2</td>\n",
       "      <td>NaN</td>\n",
       "      <td>4.0</td>\n",
       "      <td>44.0</td>\n",
       "      <td>2</td>\n",
       "      <td>NaN</td>\n",
       "      <td>...</td>\n",
       "      <td>15.3</td>\n",
       "      <td>NaN</td>\n",
       "      <td>Санкт-Петербург</td>\n",
       "      <td>22276.0</td>\n",
       "      <td>3996.0</td>\n",
       "      <td>1.0</td>\n",
       "      <td>627.0</td>\n",
       "      <td>0.0</td>\n",
       "      <td>NaN</td>\n",
       "      <td>NaN</td>\n",
       "    </tr>\n",
       "    <tr>\n",
       "      <th>23680</th>\n",
       "      <td>14</td>\n",
       "      <td>5000000.0</td>\n",
       "      <td>59.0</td>\n",
       "      <td>2019-04-04T00:00:00</td>\n",
       "      <td>3</td>\n",
       "      <td>2.50</td>\n",
       "      <td>5.0</td>\n",
       "      <td>52.0</td>\n",
       "      <td>1</td>\n",
       "      <td>NaN</td>\n",
       "      <td>...</td>\n",
       "      <td>7.0</td>\n",
       "      <td>NaN</td>\n",
       "      <td>Санкт-Петербург</td>\n",
       "      <td>26835.0</td>\n",
       "      <td>11878.0</td>\n",
       "      <td>0.0</td>\n",
       "      <td>NaN</td>\n",
       "      <td>0.0</td>\n",
       "      <td>NaN</td>\n",
       "      <td>NaN</td>\n",
       "    </tr>\n",
       "  </tbody>\n",
       "</table>\n",
       "<p>475 rows × 22 columns</p>\n",
       "</div>"
      ],
      "text/plain": [
       "       total_images  last_price  total_area first_day_exposition  rooms  \\\n",
       "41               16   7900000.0        74.0  2016-05-04T00:00:00      3   \n",
       "171               6   3800000.0        49.0  2019-02-22T00:00:00      2   \n",
       "184               7   2600000.0        30.2  2018-02-14T00:00:00      1   \n",
       "220               8   3890000.0        37.0  2018-07-09T00:00:00      1   \n",
       "319              19   4850000.0        59.7  2015-03-19T00:00:00      3   \n",
       "...             ...         ...         ...                  ...    ...   \n",
       "23216            15  10150000.0       114.0  2015-01-21T00:00:00      4   \n",
       "23297            10   1850000.0        48.2  2019-03-13T00:00:00      2   \n",
       "23328            12   4299000.0        54.0  2016-11-25T00:00:00      2   \n",
       "23521            13   8500000.0        65.0  2018-11-01T00:00:00      2   \n",
       "23680            14   5000000.0        59.0  2019-04-04T00:00:00      3   \n",
       "\n",
       "       ceiling_height  floors_total  living_area  floor is_apartment  ...  \\\n",
       "41                NaN          14.0         59.0      8        False  ...   \n",
       "171              2.50           9.0         38.0      8          NaN  ...   \n",
       "184              2.65           9.0         26.1      5          NaN  ...   \n",
       "220              2.50          25.0         28.0      6          NaN  ...   \n",
       "319              2.50           5.0         47.4      4          NaN  ...   \n",
       "...               ...           ...          ...    ...          ...  ...   \n",
       "23216             NaN           5.0         90.2      4          NaN  ...   \n",
       "23297             NaN           5.0         42.2      2          NaN  ...   \n",
       "23328             NaN          14.0         40.0      8          NaN  ...   \n",
       "23521             NaN           4.0         44.0      2          NaN  ...   \n",
       "23680            2.50           5.0         52.0      1          NaN  ...   \n",
       "\n",
       "       kitchen_area  balcony    locality_name  airports_nearest  \\\n",
       "41             12.0      5.0  Санкт-Петербург           37715.0   \n",
       "171            10.0      1.0   посёлок Шушары           18471.0   \n",
       "184             6.2      NaN  Санкт-Петербург           13952.0   \n",
       "220             9.0      NaN  Санкт-Петербург           25408.0   \n",
       "319             6.4      1.0  Санкт-Петербург           43095.0   \n",
       "...             ...      ...              ...               ...   \n",
       "23216          16.0      NaN  Санкт-Петербург           26259.0   \n",
       "23297           6.0      1.0           Высоцк               NaN   \n",
       "23328          10.0      0.0          Колпино           25612.0   \n",
       "23521          15.3      NaN  Санкт-Петербург           22276.0   \n",
       "23680           7.0      NaN  Санкт-Петербург           26835.0   \n",
       "\n",
       "      cityCenters_nearest  parks_around3000  parks_nearest  ponds_around3000  \\\n",
       "41                12612.0               1.0          725.0               1.0   \n",
       "171               24272.0               0.0            NaN               0.0   \n",
       "184               15031.0               0.0            NaN               1.0   \n",
       "220               16166.0               0.0            NaN               0.0   \n",
       "319               15599.0               0.0            NaN               0.0   \n",
       "...                   ...               ...            ...               ...   \n",
       "23216              4961.0               0.0            NaN               2.0   \n",
       "23297                 NaN               NaN            NaN               NaN   \n",
       "23328             31399.0               0.0            NaN               0.0   \n",
       "23521              3996.0               1.0          627.0               0.0   \n",
       "23680             11878.0               0.0            NaN               0.0   \n",
       "\n",
       "       ponds_nearest  days_exposition  \n",
       "41             759.0            179.0  \n",
       "171              NaN             11.0  \n",
       "184            824.0             12.0  \n",
       "220              NaN             28.0  \n",
       "319              NaN            974.0  \n",
       "...              ...              ...  \n",
       "23216          838.0           1052.0  \n",
       "23297            NaN             45.0  \n",
       "23328            NaN            343.0  \n",
       "23521            NaN              NaN  \n",
       "23680            NaN              NaN  \n",
       "\n",
       "[475 rows x 22 columns]"
      ]
     },
     "execution_count": 4,
     "metadata": {},
     "output_type": "execute_result"
    }
   ],
   "source": [
    "#Проверка проверки\n",
    "data.query('total_area*0.9 <= living_area + kitchen_area')"
   ]
  },
  {
   "cell_type": "markdown",
   "metadata": {},
   "source": [
    "# Ознакомление с исходным файлом\n",
    "\n",
    "В загруженном датасете 22 столбца и 23699 строк. При первом ознакомлении можно заметить, что данные требуют предподготовки, так как есть пропущенные и некорректные значения, так же в некоторых столбцах тип не соотвествует значениям. Следует более детально изучить проблемы и привести датасет в пригодный для аналитики вид. Так же можно выделить, что исходя из поставленных задач данные делятся на два типа: добавленные пользователем и картографические, кроме того можно выделить ключевые столбцы необходимые для исследование, работа с ними будет производиться в первую очередь, остальные столбцы можно обработать по мере необходимости уже в процессе исследования.\n",
    "* общая площадь total_area\n",
    "* жилая площадь living_area\n",
    "* площадь кухни kitchen_area\n",
    "* цена объекта last_price\n",
    "* количество комнат rooms\n",
    "* высота потолков ceiling_height\n",
    "* этаж квартиры floor\n",
    "* общее количество этажей в доме floors_total\n",
    "* расстояние до центра города в метрах cityCenters_nearest\n",
    "* расстояние до ближайшего аэропорта airports_nearest\n",
    "* расстояние до ближайшего парка parks_nearest\n",
    "* день и месяц публикации объявления first_day_exposition\n",
    "\n",
    "##### План предобработки\n",
    "1. Изучить полученные данные, ознакомиться с представленными данными, значениями, типами, построить гистограмму для всего датасета.\n",
    "2. Провести работу над пропусками и некорректными значениями.\n",
    "3. Провести работу над дубликатами.\n",
    "4. Заполнить недостающие значения в столбцах связанными с параметрами жилья (площадь, высота потолков).\n",
    "5. Провести работу над аномально низкими, высокими значенияи и прочими аномалиями."
   ]
  },
  {
   "cell_type": "code",
   "execution_count": 5,
   "metadata": {},
   "outputs": [
    {
     "name": "stdout",
     "output_type": "stream",
     "text": [
      "<class 'pandas.core.frame.DataFrame'>\n",
      "RangeIndex: 23699 entries, 0 to 23698\n",
      "Data columns (total 22 columns):\n",
      " #   Column                Non-Null Count  Dtype  \n",
      "---  ------                --------------  -----  \n",
      " 0   total_images          23699 non-null  int64  \n",
      " 1   last_price            23699 non-null  float64\n",
      " 2   total_area            23699 non-null  float64\n",
      " 3   first_day_exposition  23699 non-null  object \n",
      " 4   rooms                 23699 non-null  int64  \n",
      " 5   ceiling_height        14504 non-null  float64\n",
      " 6   floors_total          23613 non-null  float64\n",
      " 7   living_area           21796 non-null  float64\n",
      " 8   floor                 23699 non-null  int64  \n",
      " 9   is_apartment          2775 non-null   object \n",
      " 10  studio                23699 non-null  bool   \n",
      " 11  open_plan             23699 non-null  bool   \n",
      " 12  kitchen_area          21421 non-null  float64\n",
      " 13  balcony               12180 non-null  float64\n",
      " 14  locality_name         23650 non-null  object \n",
      " 15  airports_nearest      18157 non-null  float64\n",
      " 16  cityCenters_nearest   18180 non-null  float64\n",
      " 17  parks_around3000      18181 non-null  float64\n",
      " 18  parks_nearest         8079 non-null   float64\n",
      " 19  ponds_around3000      18181 non-null  float64\n",
      " 20  ponds_nearest         9110 non-null   float64\n",
      " 21  days_exposition       20518 non-null  float64\n",
      "dtypes: bool(2), float64(14), int64(3), object(3)\n",
      "memory usage: 3.7+ MB\n"
     ]
    },
    {
     "data": {
      "image/png": "[encoded data removed]",
      "text/plain": [
       "<Figure size 1080x1440 with 20 Axes>"
      ]
     },
     "metadata": {
      "needs_background": "light"
     },
     "output_type": "display_data"
    }
   ],
   "source": [
    "#Гистограмма всего датафрейма\n",
    "data.hist(figsize=(15, 20))\n",
    "data.info()"
   ]
  },
  {
   "cell_type": "markdown",
   "metadata": {},
   "source": [
    "### Предобработка данных"
   ]
  },
  {
   "cell_type": "markdown",
   "metadata": {},
   "source": [
    "#### Работа с пропусками и недостающими значениями"
   ]
  },
  {
   "cell_type": "code",
   "execution_count": 6,
   "metadata": {},
   "outputs": [
    {
     "name": "stdout",
     "output_type": "stream",
     "text": [
      "<class 'pandas.core.frame.DataFrame'>\n",
      "Int64Index: 23565 entries, 0 to 23698\n",
      "Data columns (total 22 columns):\n",
      " #   Column                Non-Null Count  Dtype         \n",
      "---  ------                --------------  -----         \n",
      " 0   total_images          23565 non-null  int64         \n",
      " 1   last_price            23565 non-null  int64         \n",
      " 2   total_area            23565 non-null  float64       \n",
      " 3   first_day_exposition  23565 non-null  datetime64[ns]\n",
      " 4   rooms                 23565 non-null  int64         \n",
      " 5   ceiling_height        14481 non-null  float64       \n",
      " 6   floors_total          23565 non-null  int64         \n",
      " 7   living_area           21700 non-null  float64       \n",
      " 8   floor                 23565 non-null  int64         \n",
      " 9   is_apartment          23565 non-null  bool          \n",
      " 10  studio                23565 non-null  bool          \n",
      " 11  open_plan             23565 non-null  bool          \n",
      " 12  kitchen_area          21343 non-null  float64       \n",
      " 13  balcony               23565 non-null  int64         \n",
      " 14  locality_name         23565 non-null  object        \n",
      " 15  airports_nearest      23565 non-null  float64       \n",
      " 16  cityCenters_nearest   23565 non-null  float64       \n",
      " 17  parks_around3000      23565 non-null  int64         \n",
      " 18  parks_nearest         23565 non-null  float64       \n",
      " 19  ponds_around3000      23565 non-null  int64         \n",
      " 20  ponds_nearest         23565 non-null  float64       \n",
      " 21  days_exposition       20394 non-null  float64       \n",
      "dtypes: bool(3), datetime64[ns](1), float64(9), int64(8), object(1)\n",
      "memory usage: 3.7+ MB\n",
      "total_images               0\n",
      "last_price                 0\n",
      "total_area                 0\n",
      "first_day_exposition       0\n",
      "rooms                      0\n",
      "ceiling_height          9084\n",
      "floors_total               0\n",
      "living_area             1865\n",
      "floor                      0\n",
      "is_apartment               0\n",
      "studio                     0\n",
      "open_plan                  0\n",
      "kitchen_area            2222\n",
      "balcony                    0\n",
      "locality_name              0\n",
      "airports_nearest           0\n",
      "cityCenters_nearest        0\n",
      "parks_around3000           0\n",
      "parks_nearest              0\n",
      "ponds_around3000           0\n",
      "ponds_nearest              0\n",
      "days_exposition         3171\n",
      "dtype: int64\n"
     ]
    },
    {
     "data": {
      "text/html": [
       "<div>\n",
       "<style scoped>\n",
       "    .dataframe tbody tr th:only-of-type {\n",
       "        vertical-align: middle;\n",
       "    }\n",
       "\n",
       "    .dataframe tbody tr th {\n",
       "        vertical-align: top;\n",
       "    }\n",
       "\n",
       "    .dataframe thead th {\n",
       "        text-align: right;\n",
       "    }\n",
       "</style>\n",
       "<table border=\"1\" class=\"dataframe\">\n",
       "  <thead>\n",
       "    <tr style=\"text-align: right;\">\n",
       "      <th></th>\n",
       "      <th>total_images</th>\n",
       "      <th>last_price</th>\n",
       "      <th>total_area</th>\n",
       "      <th>first_day_exposition</th>\n",
       "      <th>rooms</th>\n",
       "      <th>ceiling_height</th>\n",
       "      <th>floors_total</th>\n",
       "      <th>living_area</th>\n",
       "      <th>floor</th>\n",
       "      <th>is_apartment</th>\n",
       "      <th>...</th>\n",
       "      <th>kitchen_area</th>\n",
       "      <th>balcony</th>\n",
       "      <th>locality_name</th>\n",
       "      <th>airports_nearest</th>\n",
       "      <th>cityCenters_nearest</th>\n",
       "      <th>parks_around3000</th>\n",
       "      <th>parks_nearest</th>\n",
       "      <th>ponds_around3000</th>\n",
       "      <th>ponds_nearest</th>\n",
       "      <th>days_exposition</th>\n",
       "    </tr>\n",
       "  </thead>\n",
       "  <tbody>\n",
       "    <tr>\n",
       "      <th>0</th>\n",
       "      <td>20</td>\n",
       "      <td>13000000</td>\n",
       "      <td>108.0</td>\n",
       "      <td>2019-03-07</td>\n",
       "      <td>3</td>\n",
       "      <td>2.70</td>\n",
       "      <td>16</td>\n",
       "      <td>51.0</td>\n",
       "      <td>8</td>\n",
       "      <td>False</td>\n",
       "      <td>...</td>\n",
       "      <td>25.0</td>\n",
       "      <td>0</td>\n",
       "      <td>Санкт-Петербург</td>\n",
       "      <td>18863.0</td>\n",
       "      <td>16028.0</td>\n",
       "      <td>1</td>\n",
       "      <td>482.0</td>\n",
       "      <td>2</td>\n",
       "      <td>755.0</td>\n",
       "      <td>NaN</td>\n",
       "    </tr>\n",
       "    <tr>\n",
       "      <th>1</th>\n",
       "      <td>7</td>\n",
       "      <td>3350000</td>\n",
       "      <td>40.4</td>\n",
       "      <td>2018-12-04</td>\n",
       "      <td>1</td>\n",
       "      <td>NaN</td>\n",
       "      <td>11</td>\n",
       "      <td>18.6</td>\n",
       "      <td>1</td>\n",
       "      <td>False</td>\n",
       "      <td>...</td>\n",
       "      <td>11.0</td>\n",
       "      <td>2</td>\n",
       "      <td>посёлок Шушары</td>\n",
       "      <td>12817.0</td>\n",
       "      <td>18603.0</td>\n",
       "      <td>0</td>\n",
       "      <td>0.0</td>\n",
       "      <td>0</td>\n",
       "      <td>0.0</td>\n",
       "      <td>81.0</td>\n",
       "    </tr>\n",
       "    <tr>\n",
       "      <th>2</th>\n",
       "      <td>10</td>\n",
       "      <td>5196000</td>\n",
       "      <td>56.0</td>\n",
       "      <td>2015-08-20</td>\n",
       "      <td>2</td>\n",
       "      <td>NaN</td>\n",
       "      <td>5</td>\n",
       "      <td>34.3</td>\n",
       "      <td>4</td>\n",
       "      <td>False</td>\n",
       "      <td>...</td>\n",
       "      <td>8.3</td>\n",
       "      <td>0</td>\n",
       "      <td>Санкт-Петербург</td>\n",
       "      <td>21741.0</td>\n",
       "      <td>13933.0</td>\n",
       "      <td>1</td>\n",
       "      <td>90.0</td>\n",
       "      <td>2</td>\n",
       "      <td>574.0</td>\n",
       "      <td>558.0</td>\n",
       "    </tr>\n",
       "    <tr>\n",
       "      <th>3</th>\n",
       "      <td>0</td>\n",
       "      <td>64900000</td>\n",
       "      <td>159.0</td>\n",
       "      <td>2015-07-24</td>\n",
       "      <td>3</td>\n",
       "      <td>NaN</td>\n",
       "      <td>14</td>\n",
       "      <td>NaN</td>\n",
       "      <td>9</td>\n",
       "      <td>False</td>\n",
       "      <td>...</td>\n",
       "      <td>NaN</td>\n",
       "      <td>0</td>\n",
       "      <td>Санкт-Петербург</td>\n",
       "      <td>28098.0</td>\n",
       "      <td>6800.0</td>\n",
       "      <td>2</td>\n",
       "      <td>84.0</td>\n",
       "      <td>3</td>\n",
       "      <td>234.0</td>\n",
       "      <td>424.0</td>\n",
       "    </tr>\n",
       "    <tr>\n",
       "      <th>4</th>\n",
       "      <td>2</td>\n",
       "      <td>10000000</td>\n",
       "      <td>100.0</td>\n",
       "      <td>2018-06-19</td>\n",
       "      <td>2</td>\n",
       "      <td>3.03</td>\n",
       "      <td>14</td>\n",
       "      <td>32.0</td>\n",
       "      <td>13</td>\n",
       "      <td>False</td>\n",
       "      <td>...</td>\n",
       "      <td>41.0</td>\n",
       "      <td>0</td>\n",
       "      <td>Санкт-Петербург</td>\n",
       "      <td>31856.0</td>\n",
       "      <td>8098.0</td>\n",
       "      <td>2</td>\n",
       "      <td>112.0</td>\n",
       "      <td>1</td>\n",
       "      <td>48.0</td>\n",
       "      <td>121.0</td>\n",
       "    </tr>\n",
       "  </tbody>\n",
       "</table>\n",
       "<p>5 rows × 22 columns</p>\n",
       "</div>"
      ],
      "text/plain": [
       "   total_images  last_price  total_area first_day_exposition  rooms  \\\n",
       "0            20    13000000       108.0           2019-03-07      3   \n",
       "1             7     3350000        40.4           2018-12-04      1   \n",
       "2            10     5196000        56.0           2015-08-20      2   \n",
       "3             0    64900000       159.0           2015-07-24      3   \n",
       "4             2    10000000       100.0           2018-06-19      2   \n",
       "\n",
       "   ceiling_height  floors_total  living_area  floor  is_apartment  ...  \\\n",
       "0            2.70            16         51.0      8         False  ...   \n",
       "1             NaN            11         18.6      1         False  ...   \n",
       "2             NaN             5         34.3      4         False  ...   \n",
       "3             NaN            14          NaN      9         False  ...   \n",
       "4            3.03            14         32.0     13         False  ...   \n",
       "\n",
       "   kitchen_area  balcony    locality_name  airports_nearest  \\\n",
       "0          25.0        0  Санкт-Петербург           18863.0   \n",
       "1          11.0        2   посёлок Шушары           12817.0   \n",
       "2           8.3        0  Санкт-Петербург           21741.0   \n",
       "3           NaN        0  Санкт-Петербург           28098.0   \n",
       "4          41.0        0  Санкт-Петербург           31856.0   \n",
       "\n",
       "  cityCenters_nearest  parks_around3000  parks_nearest  ponds_around3000  \\\n",
       "0             16028.0                 1          482.0                 2   \n",
       "1             18603.0                 0            0.0                 0   \n",
       "2             13933.0                 1           90.0                 2   \n",
       "3              6800.0                 2           84.0                 3   \n",
       "4              8098.0                 2          112.0                 1   \n",
       "\n",
       "   ponds_nearest  days_exposition  \n",
       "0          755.0              NaN  \n",
       "1            0.0             81.0  \n",
       "2          574.0            558.0  \n",
       "3          234.0            424.0  \n",
       "4           48.0            121.0  \n",
       "\n",
       "[5 rows x 22 columns]"
      ]
     },
     "execution_count": 6,
     "metadata": {},
     "output_type": "execute_result"
    }
   ],
   "source": [
    "#Столбец \"Цена\" не предполагает использование остатка, переведем в целочисленный тип\n",
    "data['last_price'] = data['last_price'].astype(int)\n",
    "#Столбцы с этажностью и расположением дома имеют пропуски, их не много, рациональнее исключить их\n",
    "data.dropna(subset=['locality_name'], inplace=True)\n",
    "data.dropna(subset=['floors_total'], inplace=True)\n",
    "#Столбец \"Этажность\" не предполагает использование остатка, переведем в целочисленный тип\n",
    "data['floors_total'] = data['floors_total'].astype(int)\n",
    "#Допустим, что пропуски в столбце \"Балконы\", означают отсутствие балкона. Заполним 0 и поменяем тип на целочисленный\n",
    "data['balcony'] = data['balcony'].fillna(value=0).astype(int)\n",
    "#Столбцы связанные с близостью инфраструктуры и ее количеством имеют пропуски, заменим их на маркер 0\n",
    "#Эти данные отсутсвуют, считаю, что нет смысла заполнять их средним, но так же нет смысла и удалять их\n",
    "#Столбцы отражающие количество переведем в целочисленный, те, что отвечают за расстояние оставим Float\n",
    "data[['parks_around3000','ponds_around3000']] = \\\n",
    "data[['parks_around3000','ponds_around3000']].fillna(value=0).astype(int)\n",
    "data[['parks_nearest','ponds_nearest','airports_nearest','cityCenters_nearest']] = \\\n",
    "data[['parks_nearest','ponds_nearest','airports_nearest','cityCenters_nearest']].fillna(value=0)\n",
    "#Допустим, что пропуски в столбце \"Аппартаменты\" означает, что объект не аппартаменты\n",
    "#Заменим пропуски на False\n",
    "data['is_apartment'] = data['is_apartment'].fillna(value=False)\n",
    "#Столбец дата приведем в нужный формат и обрежем время, эти значения не используются\n",
    "data['first_day_exposition'] = pd.to_datetime(data['first_day_exposition']).dt.normalize()\n",
    "#Пропуски в столбце \"Дни продажи\" заменим на маркер 0, их много, чтобы исключать,\n",
    "#Но и терять другие данные не стоит, так же приведем к челочисленному типу\n",
    "#data['days_exposition'].fillna(0, inplace=True)\n",
    "#data['days_exposition'] = data['days_exposition'].astype(int)\n",
    "#Проверим соответствие типов\n",
    "data.info()\n",
    "#Проверим пропуски\n",
    "print(data.isnull().sum())\n",
    "#Посмотрим на общий вид таблицы\n",
    "data.head(5)"
   ]
  },
  {
   "cell_type": "markdown",
   "metadata": {},
   "source": [
    "* Столбцы, где значения не подразумевают использования остатка были перведены в целочисленный тип. Цена, Количество парков и прудов, Этажность, Количество балконов, Количество дней до продажи.\n",
    "* В столбцах Этажность и Расположение были выявлены пропуски, так как их немного и данные нет возможности уточнить и нет смысла заполнять их синтезированными значениями, были исключены из выборки.\n",
    "* Для столбца \"Балконы\" логично предположить, что если не указан, значит его нет, потому пропуски были заменены на 0.\n",
    "* Для столбца \"Аппартаменты\" логично предположить, что если не указано, значит это не аппартаменты, пропуски была заменены на False.\n",
    "* Для пропусков в столбцаха близости и количество инфраструктуры по близости, пропущенные значения не имеет смысла заменять средними и нет данных, чтобы их рассчитать, значения заменены на 0, чтобы сохранить другие значения строки.\n",
    "* Для пропусков в столбце \"Срок продажи\", пропущенные значения были заменены на 0, чтобы сохранить другие значения строк, так как нет смысла заменять их на среднее и нет исходных данных, чтобы расчитать эти значения.\n",
    "* Столбец с датой публикации объявления был приведен к нужному типу и обрезан неиспользующийся фрагмент с временем, так как он не используется.\n"
   ]
  },
  {
   "cell_type": "markdown",
   "metadata": {},
   "source": [
    "#### Работа с дубликатами"
   ]
  },
  {
   "cell_type": "code",
   "execution_count": 7,
   "metadata": {
    "scrolled": true
   },
   "outputs": [
    {
     "data": {
      "text/plain": [
       "array(['Бокситогорск', 'Волосово', 'Волхов', 'Всеволожск', 'Выборг',\n",
       "       'Высоцк', 'Гатчина', 'Зеленогорск', 'Ивангород', 'Каменногорск',\n",
       "       'Кингисепп', 'Кириши', 'Кировск', 'Колпино', 'Коммунар',\n",
       "       'Красное Село', 'Кронштадт', 'Кудрово', 'Лодейное Поле',\n",
       "       'Ломоносов', 'Луга', 'Любань', 'Мурино', 'Никольское',\n",
       "       'Новая Ладога', 'Отрадное', 'Павловск', 'Петергоф', 'Пикалево',\n",
       "       'Подпорожье', 'Приморск', 'Приозерск', 'Пушкин', 'Санкт-Петербург',\n",
       "       'Светогорск', 'Сертолово', 'Сестрорецк', 'Сланцы', 'Сосновый Бор',\n",
       "       'Сясьстрой', 'Тихвин', 'Тосно', 'Шлиссельбург',\n",
       "       'деревня Агалатово', 'деревня Аро', 'деревня Батово',\n",
       "       'деревня Бегуницы', 'деревня Белогорка', 'деревня Большая Вруда',\n",
       "       'деревня Большая Пустомержа', 'деревня Большие Колпаны',\n",
       "       'деревня Большое Рейзино', 'деревня Большой Сабск', 'деревня Бор',\n",
       "       'деревня Борисова Грива', 'деревня Ваганово', 'деревня Вартемяги',\n",
       "       'деревня Вахнова Кара', 'деревня Выскатка', 'деревня Гарболово',\n",
       "       'деревня Глинка', 'деревня Горбунки', 'деревня Гостилицы',\n",
       "       'деревня Заклинье', 'деревня Заневка', 'деревня Зимитицы',\n",
       "       'деревня Извара', 'деревня Иссад', 'деревня Калитино',\n",
       "       'деревня Кальтино', 'деревня Камышовка', 'деревня Каськово',\n",
       "       'деревня Келози', 'деревня Кипень', 'деревня Кисельня',\n",
       "       'деревня Колтуши', 'деревня Коркино', 'деревня Котлы',\n",
       "       'деревня Кривко', 'деревня Кудрово', 'деревня Кузьмолово',\n",
       "       'деревня Курковицы', 'деревня Куровицы', 'деревня Куттузи',\n",
       "       'деревня Лаврики', 'деревня Лаголово', 'деревня Лампово',\n",
       "       'деревня Лесколово', 'деревня Лопухинка', 'деревня Лупполово',\n",
       "       'деревня Малая Романовка', 'деревня Малое Верево',\n",
       "       'деревня Малое Карлино', 'деревня Малые Колпаны',\n",
       "       'деревня Мануйлово', 'деревня Меньково', 'деревня Мины',\n",
       "       'деревня Мистолово', 'деревня Ненимяки', 'деревня Нижние Осельки',\n",
       "       'деревня Нижняя', 'деревня Низино', 'деревня Новое Девяткино',\n",
       "       'деревня Новолисино', 'деревня Нурма', 'деревня Оржицы',\n",
       "       'деревня Парицы', 'деревня Пельгора', 'деревня Пеники',\n",
       "       'деревня Пижма', 'деревня Пикколово', 'деревня Пудомяги',\n",
       "       'деревня Пустынка', 'деревня Пчева', 'деревня Рабитицы',\n",
       "       'деревня Разбегаево', 'деревня Раздолье', 'деревня Разметелево',\n",
       "       'деревня Рапполово', 'деревня Реброво', 'деревня Русско',\n",
       "       'деревня Сижно', 'деревня Снегиревка', 'деревня Старая',\n",
       "       'деревня Старая Пустошь', 'деревня Старое Хинколово',\n",
       "       'деревня Старополье', 'деревня Старосиверская',\n",
       "       'деревня Старые Бегуницы', 'деревня Суоранда',\n",
       "       'деревня Сяськелево', 'деревня Тарасово', 'деревня Терпилицы',\n",
       "       'деревня Тихковицы', 'деревня Тойворово', 'деревня Торосово',\n",
       "       'деревня Торошковичи', 'деревня Трубников Бор',\n",
       "       'деревня Фалилеево', 'деревня Федоровское', 'деревня Хапо-Ое',\n",
       "       'деревня Хязельки', 'деревня Чудской Бор', 'деревня Шпаньково',\n",
       "       'деревня Щеглово', 'деревня Юкки', 'деревня Ялгино',\n",
       "       'деревня Яльгелево', 'деревня Ям-Тесово',\n",
       "       'поселок Александровская', 'поселок Алексеевка', 'поселок Аннино',\n",
       "       'поселок Барышево', 'поселок Белоостров', 'поселок Большая Ижора',\n",
       "       'поселок Бугры', 'поселок Будогощь', 'поселок Важины',\n",
       "       'поселок Вещево', 'поселок Виллози', 'поселок Вознесенье',\n",
       "       'поселок Возрождение', 'поселок Войсковицы', 'поселок Войскорово',\n",
       "       'поселок Володарское', 'поселок Вырица', 'поселок Высокоключевой',\n",
       "       'поселок Гаврилово', 'поселок Гарболово', 'поселок Гладкое',\n",
       "       'поселок Глажево', 'поселок Глебычево', 'поселок Гончарово',\n",
       "       'поселок Громово', 'поселок Дзержинского', 'поселок Дружная Горка',\n",
       "       'поселок Дружноселье', 'поселок Дубровка', 'поселок Елизаветино',\n",
       "       'поселок Ефимовский', 'поселок Жилгородок', 'поселок Жилпоселок',\n",
       "       'поселок Житково', 'поселок Заводской', 'поселок Запорожское',\n",
       "       'поселок Зимитицы', 'поселок Ильичево', 'поселок Калитино',\n",
       "       'поселок Каложицы', 'поселок Кивеннапа Север', 'поселок Кикерино',\n",
       "       'поселок Кингисеппский', 'поселок Кирпичное', 'поселок Кобралово',\n",
       "       'поселок Кобринское', 'поселок Коммунары', 'поселок Кондратьево',\n",
       "       'поселок Корнево', 'поселок Коробицыно', 'поселок Котельский',\n",
       "       'поселок Красная Долина', 'поселок Красносельское',\n",
       "       'поселок Красный Бор', 'поселок Кузнечное',\n",
       "       'поселок Кузьмоловский', 'поселок Лебяжье', 'поселок Левашово',\n",
       "       'поселок Ленинское', 'поселок Лесное', 'поселок Лесогорский',\n",
       "       'поселок Лисий Нос', 'поселок Лужайка', 'поселок Лукаши',\n",
       "       'поселок Любань', 'поселок Мга', 'поселок Мельниково',\n",
       "       'поселок Металлострой', 'поселок Мичуринское',\n",
       "       'поселок Молодежное', 'поселок Молодцово', 'поселок Мурино',\n",
       "       'поселок Мыза-Ивановка', 'поселок Назия', 'поселок Никольский',\n",
       "       'поселок Новогорелово', 'поселок Новоселье', 'поселок Новый Свет',\n",
       "       'поселок Новый Учхоз', 'поселок Оредеж', 'поселок Павлово',\n",
       "       'поселок Пансионат Зеленый Бор', 'поселок Парголово',\n",
       "       'поселок Первомайское', 'поселок Перово', 'поселок Песочный',\n",
       "       'поселок Петро-Славянка', 'поселок Петровское',\n",
       "       'поселок Платформа 69-й километр', 'поселок Плодовое',\n",
       "       'поселок Плоское', 'поселок Победа', 'поселок Поляны',\n",
       "       'поселок Понтонный', 'поселок Почап', 'поселок Починок',\n",
       "       'поселок Приветнинское', 'поселок Пригородный',\n",
       "       'поселок Приладожский', 'поселок Пудость', 'поселок Пушное',\n",
       "       'поселок Пчевжа', 'поселок Рабитицы', 'поселок Рахья',\n",
       "       'поселок Репино', 'поселок Романовка', 'поселок Ромашки',\n",
       "       'поселок Ропша', 'поселок Рощино', 'поселок Рябово',\n",
       "       'поселок Саперное', 'поселок Саперный', 'поселок Свирь',\n",
       "       'поселок Свирьстрой', 'поселок Севастьяново', 'поселок Селезнево',\n",
       "       'поселок Сельцо', 'поселок Семиозерье', 'поселок Семрино',\n",
       "       'поселок Серебрянский', 'поселок Сиверский', 'поселок Синявино',\n",
       "       'поселок Советский', 'поселок Совхозный', 'поселок Сосново',\n",
       "       'поселок Старая Малукса', 'поселок Стеклянный', 'поселок Стрельна',\n",
       "       'поселок Суйда', 'поселок Сумино', 'поселок Суходолье',\n",
       "       'поселок Счастье', 'поселок Тайцы', 'поселок Тельмана',\n",
       "       'поселок Терволово', 'поселок Тесово-4', 'поселок Токсово',\n",
       "       'поселок Торковичи', 'поселок Торфяное', 'поселок Углово',\n",
       "       'поселок Ульяновка', 'поселок Усть-Ижора', 'поселок Усть-Луга',\n",
       "       'поселок Ушаки', 'поселок Федоровское', 'поселок Форносово',\n",
       "       'поселок Форт Красная Горка', 'поселок Цвелодубово',\n",
       "       'поселок Цвылево', 'поселок Шугозеро', 'поселок Шушары',\n",
       "       'поселок Щеглово', 'поселок Янино-1', 'поселок имени Морозова',\n",
       "       'поселок имени Свердлова',\n",
       "       'садоводческое некоммерческое товарищество Лесная Поляна',\n",
       "       'садовое товарищество Новая Ропша',\n",
       "       'садовое товарищество Приладожский', 'садовое товарищество Рахья',\n",
       "       'садовое товарищество Садко', 'село Копорье', 'село Никольское',\n",
       "       'село Павлово', 'село Паша', 'село Путилово', 'село Рождествено',\n",
       "       'село Русско-Высоцкое', 'село Старая Ладога', 'село Шум'],\n",
       "      dtype=object)"
      ]
     },
     "execution_count": 7,
     "metadata": {},
     "output_type": "execute_result"
    }
   ],
   "source": [
    "#Изучим уникальные значения столбца с локацией\n",
    "#print(data['locality_name'].unique())\n",
    "#Ничего против буквы \"ё\" не имею, но приведем в единый формат все названия для удобства, заменим на \"е\"\n",
    "data['locality_name'] = data['locality_name'].str.replace('ё','е')\n",
    "#Устраним дубликаты объеденив все виды поселков в единую категорию поселок\n",
    "data['locality_name'] = data['locality_name'].str.replace('городской поселок','поселок')\n",
    "data['locality_name'] = data['locality_name'].str.replace('поселок городского типа','поселок')\n",
    "data['locality_name'] = data['locality_name'].str.replace('поселок станции','поселок')\n",
    "data['locality_name'] = data['locality_name'].str.replace('поселок при железнодорожной станции','поселок')\n",
    "data['locality_name'] = data['locality_name'].str.replace('коттеджный поселок','поселок')\n",
    "\n",
    "data['locality_name'].sort_values().unique()\n"
   ]
  },
  {
   "cell_type": "markdown",
   "metadata": {},
   "source": [
    "В столбце с названиями были выявлены дубликаты по двум причинам.\n",
    "1. Нет жестких требований при указании типа населенного пункта, запись в свободной форме привела к дублированию.\n",
    "2. Я не против буквы Ё, но в данном случае вариативность написания привела к дублированию.\n",
    "\n",
    "Так же присутствуют дубликаты в названиях разных типов населенных пунктов, но выборочная проверка показала, что могут существовать населенные пункты разных типов, но с одинаковым названием. Их число не велико, оставим как есть.\n",
    "\n",
    "В остальном столбец приведен к единому стандарту, путем объединения всех типов поселков в единую категорию \"поселок\" и замене буквы ё на е во всей выборке.\n"
   ]
  },
  {
   "cell_type": "markdown",
   "metadata": {},
   "source": [
    "#### Работа с пропущенными значениями в данных параметров квартир (Площадь, Высота потолков)"
   ]
  },
  {
   "cell_type": "code",
   "execution_count": 8,
   "metadata": {},
   "outputs": [
    {
     "data": {
      "text/html": [
       "<div>\n",
       "<style scoped>\n",
       "    .dataframe tbody tr th:only-of-type {\n",
       "        vertical-align: middle;\n",
       "    }\n",
       "\n",
       "    .dataframe tbody tr th {\n",
       "        vertical-align: top;\n",
       "    }\n",
       "\n",
       "    .dataframe thead th {\n",
       "        text-align: right;\n",
       "    }\n",
       "</style>\n",
       "<table border=\"1\" class=\"dataframe\">\n",
       "  <thead>\n",
       "    <tr style=\"text-align: right;\">\n",
       "      <th></th>\n",
       "      <th>total_area</th>\n",
       "      <th>living_area</th>\n",
       "      <th>kitchen_area</th>\n",
       "    </tr>\n",
       "  </thead>\n",
       "  <tbody>\n",
       "    <tr>\n",
       "      <th>0</th>\n",
       "      <td>108.0</td>\n",
       "      <td>51.0</td>\n",
       "      <td>25.0</td>\n",
       "    </tr>\n",
       "    <tr>\n",
       "      <th>1</th>\n",
       "      <td>40.4</td>\n",
       "      <td>18.6</td>\n",
       "      <td>11.0</td>\n",
       "    </tr>\n",
       "    <tr>\n",
       "      <th>2</th>\n",
       "      <td>56.0</td>\n",
       "      <td>34.3</td>\n",
       "      <td>8.3</td>\n",
       "    </tr>\n",
       "    <tr>\n",
       "      <th>3</th>\n",
       "      <td>159.0</td>\n",
       "      <td>72.7</td>\n",
       "      <td>22.3</td>\n",
       "    </tr>\n",
       "    <tr>\n",
       "      <th>4</th>\n",
       "      <td>100.0</td>\n",
       "      <td>32.0</td>\n",
       "      <td>41.0</td>\n",
       "    </tr>\n",
       "    <tr>\n",
       "      <th>5</th>\n",
       "      <td>30.4</td>\n",
       "      <td>14.4</td>\n",
       "      <td>9.1</td>\n",
       "    </tr>\n",
       "    <tr>\n",
       "      <th>6</th>\n",
       "      <td>37.3</td>\n",
       "      <td>10.6</td>\n",
       "      <td>14.4</td>\n",
       "    </tr>\n",
       "  </tbody>\n",
       "</table>\n",
       "</div>"
      ],
      "text/plain": [
       "   total_area  living_area  kitchen_area\n",
       "0       108.0         51.0          25.0\n",
       "1        40.4         18.6          11.0\n",
       "2        56.0         34.3           8.3\n",
       "3       159.0         72.7          22.3\n",
       "4       100.0         32.0          41.0\n",
       "5        30.4         14.4           9.1\n",
       "6        37.3         10.6          14.4"
      ]
     },
     "execution_count": 8,
     "metadata": {},
     "output_type": "execute_result"
    }
   ],
   "source": [
    "#Отключим предупреждение о наличии пропущенных значений в обрабатываемых данных\n",
    "warnings.filterwarnings('ignore')\n",
    "#Заменим пропуски высоты потолков, за основу возьмем медиану с группировкой по Населенному пункту и количеству этажей\n",
    "data['ceiling_height'] = data.groupby(['locality_name', 'floors_total'])['ceiling_height'].apply(lambda x: x.fillna(x.median()))\n",
    "data['ceiling_height'].fillna(data['ceiling_height'].median(), inplace=True)\n",
    "#Заполним пропуски значений жилой и кухонной площади, средними значениями отталкиваясь от общей площади\n",
    "living = data['living_area'].mean() / data['total_area'].mean()\n",
    "kitchen = data['kitchen_area'].mean() / data['total_area'].mean()\n",
    "data['living_area'].fillna(living * (data['total_area'] * 0.8), inplace=True)\n",
    "data['kitchen_area'].fillna(kitchen * (data['total_area']* 0.8), inplace=True)\n",
    "#Обрежем остаток до 1 знака\n",
    "data[['living_area', 'kitchen_area']] = round(data[['living_area', 'kitchen_area']],1)\n",
    "\n",
    "data[['total_area','living_area', 'kitchen_area']].head(7)\n",
    "\n"
   ]
  },
  {
   "cell_type": "markdown",
   "metadata": {},
   "source": [
    "В столбцах где сожержаться данные о параметрах жилья имеются пропуски, очевидно по причине того, что это является необязательной информацией при публикации объявлении и данных цифр просто может не оказаться под рукой. Общая площадь указана в каждой строке, без пропусков.\n",
    "1. Чтобы заполнить пропуски в столбце \"Высота потолков\", выполненна группировка по Локации и Высоте потолков, после чего пропуски были заполнены медианным значением.\n",
    "2. Чтобы заполнить пропуски в жилой и кухонной площади, были расчитаны средние значения отталкиваясь от общей площади."
   ]
  },
  {
   "cell_type": "markdown",
   "metadata": {},
   "source": [
    "#### Работа с аномалиями"
   ]
  },
  {
   "cell_type": "markdown",
   "metadata": {},
   "source": [
    "##### Изучение аномальных значений\n",
    "\n",
    "Разделим все столбцы на группы в зависимости от количественных значений.\n",
    "А именно: Единицы, Десятки, Сотни и отдельно изучим столбец \"Цена\", так как там значения в миллионах."
   ]
  },
  {
   "cell_type": "code",
   "execution_count": 9,
   "metadata": {
    "scrolled": true
   },
   "outputs": [
    {
     "name": "stdout",
     "output_type": "stream",
     "text": [
      "(23130, 22)\n",
      "[1 2 3 4 5 6]\n",
      "(22872, 22)\n"
     ]
    },
    {
     "data": {
      "image/png": "[encoded data removed]",
      "text/plain": [
       "<Figure size 1080x360 with 1 Axes>"
      ]
     },
     "metadata": {
      "needs_background": "light"
     },
     "output_type": "display_data"
    }
   ],
   "source": [
    "#Изучим столбцы с единичными или около того, значениями.\n",
    "units = data[['rooms', 'ceiling_height', 'balcony', 'parks_around3000', 'ponds_around3000']]\n",
    "units.boxplot(figsize=(15,5))\n",
    "\n",
    "#Потолки выше 10 метров, выглядит нереалистично, возможно при заполнении неверно поставили запятую\n",
    "#Дадим им шанс попасть в выборку, разделим на 10, слишкм низкие варианты отсетяся далее\n",
    "index_ceiling = data.query('ceiling_height > 10').index \n",
    "data.loc[index_ceiling, 'ceiling_height'] = data.loc[index_ceiling, 'ceiling_height'] / 10\n",
    "#Норма высоты потолка в зависимости от региона варьируется от 2,4-2,7м\n",
    "#Сделаем поправку 10 см на навесной потолок и исключим все, что ниже\n",
    "#Потолки выше 5 метров тоже вызывают сомнения, таких значений не много, исключим и их тоже\n",
    "index_ceiling = data.query('ceiling_height < 2.3 or ceiling_height >= 3.5').index\n",
    "data.drop(index_ceiling, inplace=True, axis=0)\n",
    "\n",
    "print(data.shape)\n",
    "#data['ceiling_height'].hist(figsize=(12,3), bins=60, range=(5,40));\n",
    "#Проверка\n",
    "data.rooms.value_counts().to_frame()\n",
    "#Корректировка\n",
    "index_rooms = data.query('rooms == 0 or rooms >= 7').index\n",
    "data.drop(index_rooms, inplace=True, axis=0)\n",
    "print(data['rooms'].sort_values().unique())\n",
    "print(data.shape)\n",
    "#В остальных столбцах количество выбросов не выглядят критично, оставим как есть."
   ]
  },
  {
   "cell_type": "code",
   "execution_count": 10,
   "metadata": {},
   "outputs": [
    {
     "data": {
      "text/plain": [
       "<AxesSubplot:>"
      ]
     },
     "execution_count": 10,
     "metadata": {},
     "output_type": "execute_result"
    },
    {
     "data": {
      "image/png": "[encoded data removed]",
      "text/plain": [
       "<Figure size 1080x216 with 1 Axes>"
      ]
     },
     "metadata": {
      "needs_background": "light"
     },
     "output_type": "display_data"
    }
   ],
   "source": [
    "data.ceiling_height.hist(bins = 100, figsize = (15,3))"
   ]
  },
  {
   "cell_type": "markdown",
   "metadata": {},
   "source": [
    "Произвели корректировку значения в столбце \"Высота потолков\". Значения выше 10м выглядят не реалистично, допустим, что в этих значениях пропущена запятая, разделим их на 10, чтобы сохранить часть данных. Остальные значения ниже 2,3м и выше 3.5м отсеем, по причине неправдоподности.\n",
    "\n",
    "В столбце с количеством комнат, редкими значениями можно считать от 7 и более комнат. Исключим их из выборки.\n",
    "\n",
    "В столбцах балконы и количество парков и прудов в округе, значения похожи на реалистичные, оставим как есть.\n"
   ]
  },
  {
   "cell_type": "code",
   "execution_count": 11,
   "metadata": {
    "scrolled": false
   },
   "outputs": [
    {
     "name": "stdout",
     "output_type": "stream",
     "text": [
      "Количество ошибок: 0\n",
      "[ 1  2  3  4  5  6  7  8  9 10 11 12 13 14 15 16 17 18 19 20 21 22 23 24\n",
      " 25 26 27 28 29 33 34 35 36 52 60]\n",
      "       floors_total    locality_name\n",
      "2253             60        Кронштадт\n",
      "16731            52  Санкт-Петербург\n",
      "11079            36  Санкт-Петербург\n",
      "5807             36  Санкт-Петербург\n",
      "2966             35  Санкт-Петербург\n",
      "8496             35  Санкт-Петербург\n",
      "4855             35  Санкт-Петербург\n",
      "22946            35  Санкт-Петербург\n",
      "18218            35  Санкт-Петербург\n",
      "871              35  Санкт-Петербург\n",
      "12960            35  Санкт-Петербург\n",
      "9186             35  Санкт-Петербург\n",
      "13975            35  Санкт-Петербург\n",
      "20938            35  Санкт-Петербург\n",
      "21809            35  Санкт-Петербург\n",
      "5808             35  Санкт-Петербург\n",
      "14347            35  Санкт-Петербург\n",
      "7236             35  Санкт-Петербург\n",
      "12888            35  Санкт-Петербург\n",
      "9370             35  Санкт-Петербург\n"
     ]
    },
    {
     "data": {
      "text/plain": [
       "array([[<AxesSubplot:title={'center':'floor'}>]], dtype=object)"
      ]
     },
     "execution_count": 11,
     "metadata": {},
     "output_type": "execute_result"
    },
    {
     "data": {
      "image/png": "[encoded data removed]",
      "text/plain": [
       "<Figure size 1080x360 with 1 Axes>"
      ]
     },
     "metadata": {
      "needs_background": "light"
     },
     "output_type": "display_data"
    },
    {
     "data": {
      "image/png": "[encoded data removed]",
      "text/plain": [
       "<Figure size 1080x360 with 1 Axes>"
      ]
     },
     "metadata": {
      "needs_background": "light"
     },
     "output_type": "display_data"
    },
    {
     "data": {
      "image/png": "[encoded data removed]",
      "text/plain": [
       "<Figure size 1080x360 with 1 Axes>"
      ]
     },
     "metadata": {
      "needs_background": "light"
     },
     "output_type": "display_data"
    },
    {
     "data": {
      "image/png": "[encoded data removed]",
      "text/plain": [
       "<Figure size 1080x360 with 1 Axes>"
      ]
     },
     "metadata": {
      "needs_background": "light"
     },
     "output_type": "display_data"
    }
   ],
   "source": [
    "#Изучим столбцы, где значения исчисляются десятками\n",
    "decades = data[['total_images', 'floors_total', 'floor']]\n",
    "decades.boxplot(figsize=(15,5))\n",
    "\n",
    "#Приглядимся к количеству загружаемых фото\n",
    "data.sort_values('total_images').hist('total_images', bins=100, figsize=(15,5))\n",
    "#Если площадка не имеет ограничений по количеству загружаемых фото, и не требует загружать хотябы одну\n",
    "#То нельзя основываясь на этом столбце судить о достоверности информации, оставим как есть\n",
    "\n",
    "#Посмотрим, что с этажами\n",
    "#Проверим, есть ли зачения Этажа выше Этажности здания\n",
    "print('Количество ошибок:', data.query('floor > floors_total')['floor'].count())\n",
    "#Таких не нашлось, но проверить стоило\n",
    "#Теперь проверим, как высоко можно забраться\n",
    "print(data['floors_total'].sort_values().unique())\n",
    "#60 этаж, высоковато, посмотрим где\n",
    "print(data[['floors_total', 'locality_name']].sort_values(by = 'floors_total', ascending=False).head(20))\n",
    "#Выводы не однозначные, очевидно, что в Кронштадте нет 60 этажного дома\n",
    "#В то время как в некоторых поселкаx, вполне встречаются дома высотой 25 этажей\n",
    "#В Санкт-Петербурге само собой высотки имеются, но проверить на соответствие наши данные нет возможности\n",
    "#Оценим количество\n",
    "data.sort_values('floors_total').hist('floors_total', bins=100, figsize=(15,5))\n",
    "#Выберем золотую середину, исключим из выборки все, что выше 25 этажей\n",
    "index_floor = data.query('floors_total >= 26').index\n",
    "data.drop(index_floor, inplace=True, axis=0)\n",
    "\n",
    "#С общей этажностью разобрались, посмотрим что с этажом где размещено помещение\n",
    "data.sort_values('floor').hist('floor', bins=100, figsize=(15,5))\n",
    "#Выброс есть, но выглядит равномерно и реалистично, оставим как есть\n",
    "\n"
   ]
  },
  {
   "cell_type": "markdown",
   "metadata": {},
   "source": [
    "В данной группе данных, есть незначительные выбросы\n",
    "\n",
    "Столбец \"Количество изображений\" имеет некоторый выброс, однако это не самый важный критерий, к тому же в исследовании я планирую изучить влияние количество фото на скорость продажи, потому оставил его без изменений.\n",
    "\n",
    "Столбец \"Общая этажность\" имеет небольшое количество выбросов, среди которых встретились и явно указывающие на некорректность данных (Например 60 этажный дом в Крондштадте), было принято решение исключить из выборки все дома выше 25 этажей.\n",
    "\n",
    "Столбец \"Этаж помещения\" имеет некоторые выбросы, однако после корректировки по столбцу \"Общей этажности\" они выглядят реалистично, оставим как есть."
   ]
  },
  {
   "cell_type": "code",
   "execution_count": 12,
   "metadata": {
    "scrolled": true
   },
   "outputs": [
    {
     "name": "stdout",
     "output_type": "stream",
     "text": [
      "Количество ошибок: 0\n"
     ]
    },
    {
     "data": {
      "image/png": "[encoded data removed]",
      "text/plain": [
       "<Figure size 1080x360 with 1 Axes>"
      ]
     },
     "metadata": {
      "needs_background": "light"
     },
     "output_type": "display_data"
    },
    {
     "data": {
      "image/png": "[encoded data removed]",
      "text/plain": [
       "<Figure size 1080x360 with 1 Axes>"
      ]
     },
     "metadata": {
      "needs_background": "light"
     },
     "output_type": "display_data"
    },
    {
     "data": {
      "image/png": "[encoded data removed]",
      "text/plain": [
       "<Figure size 1080x360 with 1 Axes>"
      ]
     },
     "metadata": {
      "needs_background": "light"
     },
     "output_type": "display_data"
    },
    {
     "data": {
      "image/png": "[encoded data removed]",
      "text/plain": [
       "<Figure size 1080x360 with 1 Axes>"
      ]
     },
     "metadata": {
      "needs_background": "light"
     },
     "output_type": "display_data"
    }
   ],
   "source": [
    "#Изучим стобцы значения которых исчиляются сотнями\n",
    "hundred = data[['total_area', 'living_area', 'kitchen_area']]\n",
    "hundred.boxplot(figsize=(15,5))\n",
    "data.sort_values('total_area').hist('total_area', bins=100, figsize=(15,5))\n",
    "data.sort_values('living_area').hist('living_area', bins=100, figsize=(15,5))\n",
    "data.sort_values('kitchen_area').hist('kitchen_area', bins=100, figsize=(15,5))\n",
    "\n",
    "#Значения больше 200 м2 можно считать редкими, исключаем.\n",
    "index_total_area = data.query('total_area > 200 or total_area <= 20').index\n",
    "data.drop(index_total_area, inplace=True, axis=0)\n",
    "#Значения больше 100 м2 можно считать редкими, исключаем.\n",
    "index_living_area = data.query('living_area > 100 or living_area < 10').index\n",
    "data.drop(index_living_area, inplace=True, axis=0)\n",
    "#Значения больше 30 м2 можно считать редкими, исключаем.\n",
    "index_kitchen_area = data.query('kitchen_area > 30 or kitchen_area < 5').index\n",
    "data.drop(index_kitchen_area, inplace=True, axis=0)\n",
    "\n",
    "\n",
    "#Поищем явные несоответствия, жилая или кухонная площадь превышает общую\n",
    "print('Количество ошибок:', data.query('living_area > total_area or kitchen_area > total_area')['living_area'].count())\n",
    "#Нет таких, но проверить стоило"
   ]
  },
  {
   "cell_type": "markdown",
   "metadata": {},
   "source": [
    "Значения для общей площади более 200 м2, можно считать редкими.\n",
    "Значения для жилой площади более 100 м2 можно считать редкими.\n",
    "Значения для площади кухни более 30 м2 можно считать редкими.\n",
    "Редкие значения исключаем из выборки."
   ]
  },
  {
   "cell_type": "code",
   "execution_count": 13,
   "metadata": {},
   "outputs": [
    {
     "name": "stdout",
     "output_type": "stream",
     "text": [
      "Минимальная цена: 430000 Максимальная цена: 124000000\n",
      "<class 'pandas.core.frame.DataFrame'>\n",
      "RangeIndex: 21308 entries, 0 to 21307\n",
      "Data columns (total 22 columns):\n",
      " #   Column                Non-Null Count  Dtype         \n",
      "---  ------                --------------  -----         \n",
      " 0   total_images          21308 non-null  int64         \n",
      " 1   last_price            21308 non-null  int64         \n",
      " 2   total_area            21308 non-null  float64       \n",
      " 3   first_day_exposition  21308 non-null  datetime64[ns]\n",
      " 4   rooms                 21308 non-null  int64         \n",
      " 5   ceiling_height        21308 non-null  float64       \n",
      " 6   floors_total          21308 non-null  int64         \n",
      " 7   living_area           21308 non-null  float64       \n",
      " 8   floor                 21308 non-null  int64         \n",
      " 9   is_apartment          21308 non-null  bool          \n",
      " 10  studio                21308 non-null  bool          \n",
      " 11  open_plan             21308 non-null  bool          \n",
      " 12  kitchen_area          21308 non-null  float64       \n",
      " 13  balcony               21308 non-null  int64         \n",
      " 14  locality_name         21308 non-null  object        \n",
      " 15  airports_nearest      21308 non-null  float64       \n",
      " 16  cityCenters_nearest   21308 non-null  float64       \n",
      " 17  parks_around3000      21308 non-null  int64         \n",
      " 18  parks_nearest         21308 non-null  float64       \n",
      " 19  ponds_around3000      21308 non-null  int64         \n",
      " 20  ponds_nearest         21308 non-null  float64       \n",
      " 21  days_exposition       18535 non-null  float64       \n",
      "dtypes: bool(3), datetime64[ns](1), float64(9), int64(8), object(1)\n",
      "memory usage: 3.1+ MB\n"
     ]
    },
    {
     "data": {
      "image/png": "[encoded data removed]",
      "text/plain": [
       "<Figure size 432x288 with 1 Axes>"
      ]
     },
     "metadata": {
      "needs_background": "light"
     },
     "output_type": "display_data"
    },
    {
     "data": {
      "image/png": "[encoded data removed]",
      "text/plain": [
       "<Figure size 1080x360 with 1 Axes>"
      ]
     },
     "metadata": {
      "needs_background": "light"
     },
     "output_type": "display_data"
    },
    {
     "data": {
      "image/png": "[encoded data removed]",
      "text/plain": [
       "<Figure size 1080x360 with 1 Axes>"
      ]
     },
     "metadata": {
      "needs_background": "light"
     },
     "output_type": "display_data"
    },
    {
     "data": {
      "image/png": "[encoded data removed]",
      "text/plain": [
       "<Figure size 1080x360 with 1 Axes>"
      ]
     },
     "metadata": {
      "needs_background": "light"
     },
     "output_type": "display_data"
    }
   ],
   "source": [
    "#Проверим на выбросы столбец с ценой\n",
    "data.boxplot('last_price')\n",
    "#Есть выбросы, изучим детальнее\n",
    "#Узнаем минимальное и максимальное значение столбца\n",
    "print('Минимальная цена:', data['last_price'].min(), 'Максимальная цена:', data['last_price'].max())\n",
    "#Используем диаграммы, чтобы выделить выбросы\n",
    "data.sort_values('last_price').hist('last_price', bins=100, figsize=(15,5), range=(0,599999))\n",
    "data.sort_values('last_price').hist('last_price', bins=100, figsize=(15,5), range=(600000,25000000))\n",
    "data.sort_values('last_price').hist('last_price', bins=100, figsize=(15,5), range=(25000001,763000000))\n",
    "#При помощи диаграмм, получилось выявить зоны аномально низких и высоких значений\n",
    "#Так как количество их невелико, считаю, что правильнее исключить их из выборки, для более объективного анализа\n",
    "data = data.loc[(data['last_price'] >= 600000) & (data['last_price'] <= 25000000)]\n",
    "#Сброс индексов\n",
    "data.reset_index(inplace=True, drop=True)\n",
    "\n",
    "data.info()"
   ]
  },
  {
   "cell_type": "markdown",
   "metadata": {},
   "source": [
    "После изучения значений, было принято решение исключить из выборки выбивающиеся значения. Для удобства все цены были разделены на три категории, чтобы определить, что можно безболезненно исключить из выборки. В датасете остались значения от 600 000 до 25 000 000."
   ]
  },
  {
   "cell_type": "markdown",
   "metadata": {},
   "source": [
    "Расстояния до объектов инфраструктуры"
   ]
  },
  {
   "cell_type": "code",
   "execution_count": 14,
   "metadata": {
    "scrolled": true
   },
   "outputs": [
    {
     "name": "stdout",
     "output_type": "stream",
     "text": [
      "[    0.  6450.  6914. ... 84665. 84853. 84869.]\n",
      "[    0.   287.   329. ... 65764. 65952. 65968.]\n"
     ]
    },
    {
     "data": {
      "image/png": "[encoded data removed]",
      "text/plain": [
       "<Figure size 1080x360 with 1 Axes>"
      ]
     },
     "metadata": {
      "needs_background": "light"
     },
     "output_type": "display_data"
    }
   ],
   "source": [
    "#Это второстепенные значения, проверим, что отсутствуют аномальные значения, при помощи boxplot\n",
    "infra = data[['airports_nearest', 'cityCenters_nearest']]\n",
    "infra.boxplot(figsize=(15,5))\n",
    "\n",
    "#И закрепим цифрами минимальных и максимальных значений.\n",
    "print(data['airports_nearest'].sort_values().unique())\n",
    "print(data['cityCenters_nearest'].sort_values().unique())"
   ]
  },
  {
   "cell_type": "markdown",
   "metadata": {},
   "source": [
    "Расстояние есть расстояние, не вижу ничего, что могло бы быть здесь нереалистичным. Максимальные значения в районе 66-85 км, имеет место быть. Минимальное значение 0, но так мы обозначили все пропуски. Оставим как есть."
   ]
  },
  {
   "cell_type": "code",
   "execution_count": 15,
   "metadata": {
    "scrolled": true
   },
   "outputs": [
    {
     "data": {
      "text/plain": [
       "array([[<AxesSubplot:title={'center':'ponds_nearest'}>]], dtype=object)"
      ]
     },
     "execution_count": 15,
     "metadata": {},
     "output_type": "execute_result"
    },
    {
     "data": {
      "image/png": "[encoded data removed]",
      "text/plain": [
       "<Figure size 1080x360 with 1 Axes>"
      ]
     },
     "metadata": {
      "needs_background": "light"
     },
     "output_type": "display_data"
    },
    {
     "data": {
      "image/png": "[encoded data removed]",
      "text/plain": [
       "<Figure size 1080x360 with 1 Axes>"
      ]
     },
     "metadata": {
      "needs_background": "light"
     },
     "output_type": "display_data"
    },
    {
     "data": {
      "image/png": "[encoded data removed]",
      "text/plain": [
       "<Figure size 1080x360 with 1 Axes>"
      ]
     },
     "metadata": {
      "needs_background": "light"
     },
     "output_type": "display_data"
    }
   ],
   "source": [
    "#Это второстепенные значения, проверим, что отсутствуют аномальные значения, при помощи boxplot\n",
    "infra = data[['parks_nearest', 'ponds_nearest']]\n",
    "infra.boxplot(figsize=(15,5))\n",
    "\n",
    "#Изучим подробнее\n",
    "data.sort_values('parks_nearest').hist('parks_nearest', bins=100, figsize=(15,5))\n",
    "data.sort_values('ponds_nearest').hist('ponds_nearest', bins=100, figsize=(15,5))"
   ]
  },
  {
   "cell_type": "markdown",
   "metadata": {},
   "source": [
    "#### Столбец количество дней продажи"
   ]
  },
  {
   "cell_type": "code",
   "execution_count": 16,
   "metadata": {},
   "outputs": [
    {
     "data": {
      "image/png": "[encoded data removed]",
      "text/plain": [
       "<Figure size 1080x360 with 1 Axes>"
      ]
     },
     "metadata": {
      "needs_background": "light"
     },
     "output_type": "display_data"
    }
   ],
   "source": [
    "data.sort_values('days_exposition').hist('days_exposition', bins=100, figsize=(15,5))\n",
    "\n",
    "#Значения больше 800 дней можно считать аномальными.\n",
    "index_days_exposition = data.query('days_exposition > 800').index\n",
    "data.drop(index_days_exposition, inplace=True, axis=0)"
   ]
  },
  {
   "cell_type": "markdown",
   "metadata": {},
   "source": [
    "Да, у нас есть аномалия, а именно 0, но таким образом мы обозначили пропуски, оставим как есть.\n",
    "А вот срок продажи более 800 дней выглядит не нормально, исключим из выборки значения от 800 дней и более."
   ]
  },
  {
   "cell_type": "markdown",
   "metadata": {},
   "source": [
    "### Посчитайте и добавьте в таблицу новые столбцы"
   ]
  },
  {
   "cell_type": "markdown",
   "metadata": {},
   "source": [
    "Поставлена задача рассчитать и добавить в таблицу новые столбцы:\n",
    "* цена одного квадратного метра;\n",
    "* день недели публикации объявления (0 — понедельник, 1 — вторник и так далее);\n",
    "* месяц публикации объявления;\n",
    "* год публикации объявления;\n",
    "* тип этажа квартиры (значения — «‎первый», «последний», «другой»);\n",
    "* расстояние до центра города в километрах (переведите из м в км и округлите до целых значений)."
   ]
  },
  {
   "cell_type": "code",
   "execution_count": 17,
   "metadata": {},
   "outputs": [
    {
     "data": {
      "text/html": [
       "<div>\n",
       "<style scoped>\n",
       "    .dataframe tbody tr th:only-of-type {\n",
       "        vertical-align: middle;\n",
       "    }\n",
       "\n",
       "    .dataframe tbody tr th {\n",
       "        vertical-align: top;\n",
       "    }\n",
       "\n",
       "    .dataframe thead th {\n",
       "        text-align: right;\n",
       "    }\n",
       "</style>\n",
       "<table border=\"1\" class=\"dataframe\">\n",
       "  <thead>\n",
       "    <tr style=\"text-align: right;\">\n",
       "      <th></th>\n",
       "      <th>total_images</th>\n",
       "      <th>last_price</th>\n",
       "      <th>total_area</th>\n",
       "      <th>first_day_exposition</th>\n",
       "      <th>rooms</th>\n",
       "      <th>ceiling_height</th>\n",
       "      <th>floors_total</th>\n",
       "      <th>living_area</th>\n",
       "      <th>floor</th>\n",
       "      <th>is_apartment</th>\n",
       "      <th>...</th>\n",
       "      <th>parks_nearest</th>\n",
       "      <th>ponds_around3000</th>\n",
       "      <th>ponds_nearest</th>\n",
       "      <th>days_exposition</th>\n",
       "      <th>price_per_metr</th>\n",
       "      <th>day</th>\n",
       "      <th>month</th>\n",
       "      <th>year</th>\n",
       "      <th>floor_group</th>\n",
       "      <th>city_centre_nearest_km</th>\n",
       "    </tr>\n",
       "  </thead>\n",
       "  <tbody>\n",
       "    <tr>\n",
       "      <th>0</th>\n",
       "      <td>20</td>\n",
       "      <td>13000000</td>\n",
       "      <td>108.0</td>\n",
       "      <td>2019-03-07</td>\n",
       "      <td>3</td>\n",
       "      <td>2.70</td>\n",
       "      <td>16</td>\n",
       "      <td>51.0</td>\n",
       "      <td>8</td>\n",
       "      <td>False</td>\n",
       "      <td>...</td>\n",
       "      <td>482.0</td>\n",
       "      <td>2</td>\n",
       "      <td>755.0</td>\n",
       "      <td>NaN</td>\n",
       "      <td>120370</td>\n",
       "      <td>3</td>\n",
       "      <td>3</td>\n",
       "      <td>2019</td>\n",
       "      <td>Другой</td>\n",
       "      <td>16</td>\n",
       "    </tr>\n",
       "    <tr>\n",
       "      <th>1</th>\n",
       "      <td>7</td>\n",
       "      <td>3350000</td>\n",
       "      <td>40.4</td>\n",
       "      <td>2018-12-04</td>\n",
       "      <td>1</td>\n",
       "      <td>2.65</td>\n",
       "      <td>11</td>\n",
       "      <td>18.6</td>\n",
       "      <td>1</td>\n",
       "      <td>False</td>\n",
       "      <td>...</td>\n",
       "      <td>0.0</td>\n",
       "      <td>0</td>\n",
       "      <td>0.0</td>\n",
       "      <td>81.0</td>\n",
       "      <td>82920</td>\n",
       "      <td>1</td>\n",
       "      <td>12</td>\n",
       "      <td>2018</td>\n",
       "      <td>Первый</td>\n",
       "      <td>18</td>\n",
       "    </tr>\n",
       "    <tr>\n",
       "      <th>2</th>\n",
       "      <td>10</td>\n",
       "      <td>5196000</td>\n",
       "      <td>56.0</td>\n",
       "      <td>2015-08-20</td>\n",
       "      <td>2</td>\n",
       "      <td>2.60</td>\n",
       "      <td>5</td>\n",
       "      <td>34.3</td>\n",
       "      <td>4</td>\n",
       "      <td>False</td>\n",
       "      <td>...</td>\n",
       "      <td>90.0</td>\n",
       "      <td>2</td>\n",
       "      <td>574.0</td>\n",
       "      <td>558.0</td>\n",
       "      <td>92785</td>\n",
       "      <td>3</td>\n",
       "      <td>8</td>\n",
       "      <td>2015</td>\n",
       "      <td>Другой</td>\n",
       "      <td>13</td>\n",
       "    </tr>\n",
       "    <tr>\n",
       "      <th>3</th>\n",
       "      <td>10</td>\n",
       "      <td>2890000</td>\n",
       "      <td>30.4</td>\n",
       "      <td>2018-09-10</td>\n",
       "      <td>1</td>\n",
       "      <td>2.65</td>\n",
       "      <td>12</td>\n",
       "      <td>14.4</td>\n",
       "      <td>5</td>\n",
       "      <td>False</td>\n",
       "      <td>...</td>\n",
       "      <td>0.0</td>\n",
       "      <td>0</td>\n",
       "      <td>0.0</td>\n",
       "      <td>55.0</td>\n",
       "      <td>95065</td>\n",
       "      <td>0</td>\n",
       "      <td>9</td>\n",
       "      <td>2018</td>\n",
       "      <td>Другой</td>\n",
       "      <td>0</td>\n",
       "    </tr>\n",
       "    <tr>\n",
       "      <th>4</th>\n",
       "      <td>5</td>\n",
       "      <td>7915000</td>\n",
       "      <td>71.6</td>\n",
       "      <td>2019-04-18</td>\n",
       "      <td>2</td>\n",
       "      <td>2.75</td>\n",
       "      <td>24</td>\n",
       "      <td>32.7</td>\n",
       "      <td>22</td>\n",
       "      <td>False</td>\n",
       "      <td>...</td>\n",
       "      <td>0.0</td>\n",
       "      <td>0</td>\n",
       "      <td>0.0</td>\n",
       "      <td>NaN</td>\n",
       "      <td>110544</td>\n",
       "      <td>3</td>\n",
       "      <td>4</td>\n",
       "      <td>2019</td>\n",
       "      <td>Другой</td>\n",
       "      <td>11</td>\n",
       "    </tr>\n",
       "  </tbody>\n",
       "</table>\n",
       "<p>5 rows × 28 columns</p>\n",
       "</div>"
      ],
      "text/plain": [
       "   total_images  last_price  total_area first_day_exposition  rooms  \\\n",
       "0            20    13000000       108.0           2019-03-07      3   \n",
       "1             7     3350000        40.4           2018-12-04      1   \n",
       "2            10     5196000        56.0           2015-08-20      2   \n",
       "3            10     2890000        30.4           2018-09-10      1   \n",
       "4             5     7915000        71.6           2019-04-18      2   \n",
       "\n",
       "   ceiling_height  floors_total  living_area  floor  is_apartment  ...  \\\n",
       "0            2.70            16         51.0      8         False  ...   \n",
       "1            2.65            11         18.6      1         False  ...   \n",
       "2            2.60             5         34.3      4         False  ...   \n",
       "3            2.65            12         14.4      5         False  ...   \n",
       "4            2.75            24         32.7     22         False  ...   \n",
       "\n",
       "   parks_nearest  ponds_around3000  ponds_nearest  days_exposition  \\\n",
       "0          482.0                 2          755.0              NaN   \n",
       "1            0.0                 0            0.0             81.0   \n",
       "2           90.0                 2          574.0            558.0   \n",
       "3            0.0                 0            0.0             55.0   \n",
       "4            0.0                 0            0.0              NaN   \n",
       "\n",
       "  price_per_metr  day  month  year  floor_group  city_centre_nearest_km  \n",
       "0         120370    3      3  2019       Другой                      16  \n",
       "1          82920    1     12  2018       Первый                      18  \n",
       "2          92785    3      8  2015       Другой                      13  \n",
       "3          95065    0      9  2018       Другой                       0  \n",
       "4         110544    3      4  2019       Другой                      11  \n",
       "\n",
       "[5 rows x 28 columns]"
      ]
     },
     "execution_count": 17,
     "metadata": {},
     "output_type": "execute_result"
    }
   ],
   "source": [
    "# Расчет значений для столбца \"Цена за квадратный метр\"\n",
    "data['price_per_metr'] = (data['last_price'] / data ['total_area']).astype(int)\n",
    "\n",
    "# Извлечем данные из столбца \"Первый день публикации\" и заполним новые столбцы\n",
    "# День\n",
    "data['day'] = data['first_day_exposition'].dt.weekday\n",
    "# Месяц\n",
    "data['month'] = data['first_day_exposition'].dt.month\n",
    "# Год\n",
    "data['year'] = data['first_day_exposition'].dt.year\n",
    "\n",
    "# Группируем этажи исходя из поставленной задачи\n",
    "# Создадим функцию которая заполнит столбец \"Группа этажей\" по заданным условиям\n",
    "# Добавил в функцию поправку на крайние значения \"отрицательные и меньше нуля\"\n",
    "def flour_group(row):\n",
    "    if row['floor'] == 1:\n",
    "        return 'Первый'\n",
    "    elif row['floor'] == row['floors_total']:\n",
    "        return 'Последний'\n",
    "    elif row['floor'] <=0:\n",
    "        return 'Неккоректное значение'\n",
    "    else:\n",
    "        return 'Другой'\n",
    "data['floor_group'] = data.apply(flour_group, axis=1)\n",
    "\n",
    "# Заполним столбец \"Расстояние до центра в км\" (делим на 1000 значения в метрах, оцелочисливаем)\n",
    "data['city_centre_nearest_km'] = (data['cityCenters_nearest'] / 1000).astype(int)\n",
    "\n",
    "#Проверка показала, что отрицательные и нулевые значения отсутствуют\n",
    "#data.floor_group.value_counts().to_frame()\n",
    "data.head()"
   ]
  },
  {
   "cell_type": "markdown",
   "metadata": {},
   "source": [
    "Были добавлены все необходимые для дальнейшего исследования стобцы.\n",
    "* Цена за квадратный метр расчитана из имеющихся данных путем деления цены на общую площадь.\n",
    "* Столбцы указывающие на день, месяц и год, созданы из имеющихся данных, при помощи метода .dt\n",
    "* Группы этажей \"первый\", \"последний\" и \"другой\" заполнены по исходным данным при помощи функции по условию.\n",
    "* Модифицированный столбец \"Расстояние до центра в км\" создан из исходных данных, путем перевода в нужную величину и округления до целого."
   ]
  },
  {
   "cell_type": "markdown",
   "metadata": {},
   "source": [
    "### Проведите исследовательский анализ данных"
   ]
  },
  {
   "cell_type": "markdown",
   "metadata": {},
   "source": [
    "#### Анализ базовых параметров"
   ]
  },
  {
   "cell_type": "code",
   "execution_count": 18,
   "metadata": {
    "scrolled": false
   },
   "outputs": [
    {
     "data": {
      "image/png": "[encoded data removed]",
      "text/plain": [
       "<Figure size 1080x216 with 1 Axes>"
      ]
     },
     "metadata": {
      "needs_background": "light"
     },
     "output_type": "display_data"
    },
    {
     "data": {
      "image/png": "[encoded data removed]",
      "text/plain": [
       "<Figure size 1080x216 with 1 Axes>"
      ]
     },
     "metadata": {
      "needs_background": "light"
     },
     "output_type": "display_data"
    },
    {
     "data": {
      "image/png": "[encoded data removed]",
      "text/plain": [
       "<Figure size 1080x216 with 1 Axes>"
      ]
     },
     "metadata": {
      "needs_background": "light"
     },
     "output_type": "display_data"
    },
    {
     "data": {
      "image/png": "[encoded data removed]",
      "text/plain": [
       "<Figure size 1080x216 with 1 Axes>"
      ]
     },
     "metadata": {
      "needs_background": "light"
     },
     "output_type": "display_data"
    },
    {
     "data": {
      "image/png": "[encoded data removed]",
      "text/plain": [
       "<Figure size 1080x216 with 1 Axes>"
      ]
     },
     "metadata": {
      "needs_background": "light"
     },
     "output_type": "display_data"
    },
    {
     "data": {
      "image/png": "[encoded data removed]",
      "text/plain": [
       "<Figure size 1080x216 with 1 Axes>"
      ]
     },
     "metadata": {
      "needs_background": "light"
     },
     "output_type": "display_data"
    },
    {
     "data": {
      "image/png": "[encoded data removed]",
      "text/plain": [
       "<Figure size 1080x216 with 1 Axes>"
      ]
     },
     "metadata": {
      "needs_background": "light"
     },
     "output_type": "display_data"
    },
    {
     "data": {
      "image/png": "[encoded data removed]",
      "text/plain": [
       "<Figure size 1080x216 with 1 Axes>"
      ]
     },
     "metadata": {
      "needs_background": "light"
     },
     "output_type": "display_data"
    },
    {
     "data": {
      "image/png": "[encoded data removed]",
      "text/plain": [
       "<Figure size 1080x216 with 1 Axes>"
      ]
     },
     "metadata": {
      "needs_background": "light"
     },
     "output_type": "display_data"
    },
    {
     "data": {
      "image/png": "[encoded data removed]",
      "text/plain": [
       "<Figure size 1080x216 with 1 Axes>"
      ]
     },
     "metadata": {
      "needs_background": "light"
     },
     "output_type": "display_data"
    },
    {
     "data": {
      "image/png": "[encoded data removed]",
      "text/plain": [
       "<Figure size 1080x216 with 1 Axes>"
      ]
     },
     "metadata": {
      "needs_background": "light"
     },
     "output_type": "display_data"
    },
    {
     "data": {
      "image/png": "[encoded data removed]",
      "text/plain": [
       "<Figure size 1080x216 with 1 Axes>"
      ]
     },
     "metadata": {
      "needs_background": "light"
     },
     "output_type": "display_data"
    },
    {
     "data": {
      "image/png": "[encoded data removed]",
      "text/plain": [
       "<Figure size 1080x216 with 1 Axes>"
      ]
     },
     "metadata": {
      "needs_background": "light"
     },
     "output_type": "display_data"
    },
    {
     "data": {
      "image/png": "[encoded data removed]",
      "text/plain": [
       "<Figure size 1080x216 with 1 Axes>"
      ]
     },
     "metadata": {
      "needs_background": "light"
     },
     "output_type": "display_data"
    }
   ],
   "source": [
    "# Гистограмма для Общей площади, выборка с ценами до 200 м2, чтобы график был наглядным\n",
    "data.query('total_area < 200')['total_area'].hist(figsize=(15,3), bins = len(pd.unique(data['total_area']))//10).set_title('Общая площадь')\n",
    "plt.show()\n",
    "# Гистограмма для Жилой площади, количество корзин для графиков с площадями будем делать в едином масштабе\n",
    "data.query('living_area < 100')['living_area'].hist(figsize=(15,3), bins= len(pd.unique(data['living_area']))//10).set_title('Жилая площадь')\n",
    "plt.show()\n",
    "# Гистограмма для Площади кухни\n",
    "data.query('kitchen_area < 40')['kitchen_area'].hist(figsize=(15,3), bins= len(pd.unique(data['kitchen_area']))//10).set_title('Площадь кухни')\n",
    "plt.show()\n",
    "# Гистограмма для Цены объекта, ограничимся значениями до 20кк, чтобы график был наглядным\n",
    "data.query('last_price < 20000000')['last_price'].hist(figsize=(15,3), bins= 10).set_title('Цена')\n",
    "plt.show()\n",
    "#Количество комнат\n",
    "data['rooms'].hist(figsize=(15,3), bins = 10).set_title('Количество комнат')\n",
    "plt.show()\n",
    "# Высота потолков\n",
    "data['ceiling_height'].hist(figsize=(15,3), bins = 50).set_title('Высота потолка')\n",
    "plt.show()\n",
    "# Этаж квартиры\n",
    "data['floor'].hist(figsize=(15,3), bins = len(pd.unique(data['floor']))).set_title('Этаж')\n",
    "plt.show()\n",
    "# Тип этажа квартиры\n",
    "data['floor_group'].hist(figsize=(15,3), bins = len(pd.unique(data['floor_group']))).set_title('Тип этажа')\n",
    "plt.show()\n",
    "# Общее количество этажей в квартире\n",
    "data['floors_total'].hist(figsize=(15,3), bins = len(pd.unique(data['floors_total']))).set_title('Общая этажность')\n",
    "plt.show()\n",
    "# Расстояние до центра города, исключим из выборки пропуски, в данном случае они не информативны\n",
    "data.query('cityCenters_nearest > 0')['cityCenters_nearest'].hist(figsize=(15,3), bins = len(pd.unique(data['cityCenters_nearest']))//100).set_title('Удаленность от центра')\n",
    "plt.show()\n",
    "# Расстояние до аэропорта, исключим из выборки пропуски, в данном случае они не информативны\n",
    "data.query('airports_nearest > 0')['airports_nearest'].hist(figsize=(15,3), bins = len(pd.unique(data['airports_nearest']))//100).set_title('Удаленность от аэропорта')\n",
    "plt.show()\n",
    "# Расстояние до парка, исключим из выборки пропуски, в данном случае они не информативны\n",
    "data.query('parks_nearest > 0')['parks_nearest'].hist(figsize=(15,3), bins = len(pd.unique(data['parks_nearest']))//100).set_title('Удаленность от парка')\n",
    "plt.show()\n",
    "# Дни продажи, имеем четкое количество дней, уберем сетку и сделаем расстояние между столбцами\n",
    "data['day'].hist(figsize=(15,3), bins = 14, grid = False).set_title('День публикации')\n",
    "plt.show()\n",
    "# Месяцы продажи, имеем четкое количество месяцев, уберем сетку и сделаем расстояние между столбцами\n",
    "data['month'].hist(figsize=(15,3), bins = 24, grid = False).set_title('Месяц публикации')\n",
    "plt.show()"
   ]
  },
  {
   "cell_type": "markdown",
   "metadata": {},
   "source": [
    "Благодаря построенным гистограммам, можно детально изучить базовые параметры и сделать определенные выводы о предложенной на площадке недвижимости.\n",
    "\n",
    "1. Общая площадь \n",
    "\n",
    "Исходя из графика можно увидеть вполне предсказуемую картину: больше всего предложений с общей площадью от 25 до 50 м2, очевидно, что это квартиры с одной или двумя комнатами, самые распространенные. Уже значительно меньше предложений от 50 до 75 м2, это двух и трех, возможно четырех комнатные квартиры, более дорогой сегмент. Ну и от 75 до 100 м2, квартиры с 4 и более комнатами, их меньше чем \"двушек\", но тоже достаточно. Все что меньше 25 и больше 100 м2, можно считать за уникальные предложения.\n",
    "\n",
    "2. Жилая площадь\n",
    "\n",
    "В целом картина аналогичная, ведь жилая площадь имеет прямую связь с общей площадью.\n",
    "Можно выделить наибольшее число предложений приблизительно от 17 до 50 м2.\n",
    "\n",
    "3. Площадь кухни\n",
    "\n",
    "И тут есть прямая зависимость от общей площади, хотя планировка квартир, конечно  может отличаться, однако в глобальном плане, все стандартно, больше всего предложений от 5 до 15 м2.\n",
    "\n",
    "4. Цена продажи\n",
    "\n",
    "Вполне реалистичные значения, больше всего предложений находятся в срезе от 2 000 000 до 7 500 000, что вполне соответствует реальности, учитывая, что в выборке есть как крупные города, так и небольшие населенные пункты.\n",
    "\n",
    "5. Количество комнат\n",
    "\n",
    "В большей части предложений от 1 до 3 комнат, 4 и более комнат встречаются гораздо реже.\n",
    "\n",
    "6. Высота потолка\n",
    "\n",
    "Как я и предполагал, большая часть предложений имеет высоту потолков 2,5 - 2,8м, так же есть очевидный пик помещений с 3 метровыми потолками, вполне может быть. Остальные значения можно считать редкими, их количество невелико.\n",
    "\n",
    "7. Этаж\n",
    "\n",
    "В основном предложены помещения до 5 этажа включительно, значительно меньше предложений до 10 этажа, ну и далее по нисходящей. Вполне реалистичо, ведь 5 этажей есть почти в любом доме, а предложений в высотках значительно меньше, а на верхних этажах еще меньше.\n",
    "\n",
    "8. Тип этажа\n",
    "\n",
    "Меньше всего предложений на первом и последнем этаже, больше всего на других. Вполне очевидный расклад, просто по соотношению количества этажей в принципе.\n",
    "\n",
    "9. Общее количество этажей\n",
    "\n",
    "На графике четко видно два пика это 5 этаж и 9 этаж, именно этих домов существует больше всего. Предложения по прочим этажностям тоже есть, но, конечно значительно меньше.\n",
    "\n",
    "10. Удаленность от центра\n",
    "\n",
    "Большее количество предложений расположилось на удаленности от центра до 20км, дальше от центра предложений уже значительно меньше.\n",
    "\n",
    "11. Удаленность от аэропорта\n",
    "\n",
    "Удаленность от аэропорта же показывает больший разброс, предложения почти равномерно распределились в диапазоне от 5 до 50 км. Вполне ожидаемо для нашей выборки, аэропорты чаще всего расположены на окраине города.\n",
    "\n",
    "12. Удаленность от парка\n",
    "\n",
    "С парками проблем нет, большая часть предложений расположена на расстоянии менее километра до ближайшего парка.\n",
    "\n",
    "13. День публикации\n",
    "\n",
    "Чаще всего объявления публикуют в будни, почти равномерно в любой день. Меньше в выходные. Вероятнее всего в основном продажей занимаются риэлторы и соответственно делают публикации в рабочее время. \n",
    "\n",
    "14. Месяц публикации\n",
    "\n",
    "Тут на графике четко прослеживается сезонность рынка. Количество предложений падает летом и в Новогодние праздники, и растет в рабочие месяца. Вполне закономерно.\n",
    "\n",
    "В итоге можно сказать, что все значения вполне предсказуемы и выглядят очень реалистично. Это говорит, что выборка корректна и наша предобработка сделала ее еще более наглядной и логичной."
   ]
  },
  {
   "cell_type": "markdown",
   "metadata": {},
   "source": [
    "#### Сроки продажи недвижимости"
   ]
  },
  {
   "cell_type": "code",
   "execution_count": 19,
   "metadata": {},
   "outputs": [
    {
     "name": "stdout",
     "output_type": "stream",
     "text": [
      "Медианное время продажи: 91 \n",
      "\n",
      "Среднее время продажи: 155 \n",
      "\n"
     ]
    },
    {
     "data": {
      "text/plain": [
       "count    18023.000000\n",
       "mean       154.854519\n",
       "std        164.159406\n",
       "min          1.000000\n",
       "25%         44.000000\n",
       "50%         91.000000\n",
       "75%        210.000000\n",
       "max        800.000000\n",
       "Name: days_exposition, dtype: float64"
      ]
     },
     "execution_count": 19,
     "metadata": {},
     "output_type": "execute_result"
    },
    {
     "data": {
      "image/png": "[encoded data removed]",
      "text/plain": [
       "<Figure size 1080x216 with 1 Axes>"
      ]
     },
     "metadata": {
      "needs_background": "light"
     },
     "output_type": "display_data"
    }
   ],
   "source": [
    "# Посчитаем среднее и медианное время продажи недвижимости в днях, отбросим значения с маркером и округлим.\n",
    "print('Медианное время продажи:', round(data.query('days_exposition > 0')['days_exposition'].median()),'\\n')\n",
    "print('Среднее время продажи:', round(data.query('days_exposition > 0')['days_exposition'].mean()),'\\n')\n",
    "# Гистограма времени продажи, отделим редкие значения, отбросим маркер, пропишем заголовок\n",
    "data.query('days_exposition > 0')['days_exposition'].hist(bins=100, range = (0, 400), figsize=(15,3)).set_title('Время продажи')\n",
    "# Посмотрим значения срока продажи\n",
    "data.query('days_exposition > 0')['days_exposition'].describe()"
   ]
  },
  {
   "cell_type": "markdown",
   "metadata": {},
   "source": [
    "Исходя из графика можно увидеть что большая часть недвижимости продавалось менее, чем за 200 дней. Есть четко выраженный пик в районе до 50 дней. Средний срок продажи 181 день, медианный 96.\n",
    "Можно сделать вывод, что быстрая продажа это в течении одного-двух месяцев, в среднем на продажу уйдет три-четыре месяца, а все, что дольше это уже медленная продажа, если недвижимость продается дольше 8 месяцев, значит это либо очень спецефическое предложение, либо пора снижать цену."
   ]
  },
  {
   "cell_type": "markdown",
   "metadata": {},
   "source": [
    "#### Влияние базовых параметров на общую стоимость"
   ]
  },
  {
   "cell_type": "code",
   "execution_count": 20,
   "metadata": {
    "scrolled": false
   },
   "outputs": [
    {
     "data": {
      "text/plain": [
       "<AxesSubplot:xlabel='day'>"
      ]
     },
     "execution_count": 20,
     "metadata": {},
     "output_type": "execute_result"
    },
    {
     "data": {
      "image/png": "[encoded data removed]",
      "text/plain": [
       "<Figure size 360x360 with 1 Axes>"
      ]
     },
     "metadata": {
      "needs_background": "light"
     },
     "output_type": "display_data"
    },
    {
     "data": {
      "image/png": "[encoded data removed]",
      "text/plain": [
       "<Figure size 360x360 with 1 Axes>"
      ]
     },
     "metadata": {
      "needs_background": "light"
     },
     "output_type": "display_data"
    },
    {
     "data": {
      "image/png": "[encoded data removed]",
      "text/plain": [
       "<Figure size 360x360 with 1 Axes>"
      ]
     },
     "metadata": {
      "needs_background": "light"
     },
     "output_type": "display_data"
    },
    {
     "data": {
      "image/png": "[encoded data removed]",
      "text/plain": [
       "<Figure size 360x360 with 1 Axes>"
      ]
     },
     "metadata": {
      "needs_background": "light"
     },
     "output_type": "display_data"
    },
    {
     "data": {
      "image/png": "[encoded data removed]",
      "text/plain": [
       "<Figure size 360x360 with 1 Axes>"
      ]
     },
     "metadata": {
      "needs_background": "light"
     },
     "output_type": "display_data"
    },
    {
     "data": {
      "image/png": "[encoded data removed]",
      "text/plain": [
       "<Figure size 360x360 with 1 Axes>"
      ]
     },
     "metadata": {
      "needs_background": "light"
     },
     "output_type": "display_data"
    },
    {
     "data": {
      "image/png": "[encoded data removed]",
      "text/plain": [
       "<Figure size 360x360 with 1 Axes>"
      ]
     },
     "metadata": {
      "needs_background": "light"
     },
     "output_type": "display_data"
    },
    {
     "data": {
      "image/png": "[encoded data removed]",
      "text/plain": [
       "<Figure size 360x360 with 1 Axes>"
      ]
     },
     "metadata": {
      "needs_background": "light"
     },
     "output_type": "display_data"
    }
   ],
   "source": [
    "#Выясним кореляцию стоимости к базовым параметрам\n",
    "data.pivot_table(index='total_area', values='last_price').plot(grid=True, style='o', figsize=(5, 5))\n",
    "data.pivot_table(index='living_area', values='last_price').plot(grid=True, style='o', figsize=(5, 5))\n",
    "data.pivot_table(index='kitchen_area', values='last_price').plot(grid=True, style='o', figsize=(5, 5))\n",
    "data.pivot_table(index='rooms', values='last_price').plot(grid=True, style='o-', figsize=(5, 5))\n",
    "data.pivot_table(index='floor_group', values='last_price', aggfunc='median').plot(kind = 'barh', grid=True, style='o-', figsize=(5, 5))\n",
    "data.pivot_table(index='year', values='last_price', aggfunc='median').plot(grid=True, style='o-', figsize=(5, 5))\n",
    "data.pivot_table(index='month', values='last_price', aggfunc='median').plot(grid=True, style='o-', figsize=(5, 5))\n",
    "data.pivot_table(index='day', values='last_price', aggfunc='median').plot(grid=True, style='o-', figsize=(5, 5))"
   ]
  },
  {
   "cell_type": "markdown",
   "metadata": {},
   "source": [
    "Исходя из составленных графиков, можно сделать некоторые выводы относительно зависимости стоимости квартиры от базовых параметров.\n",
    "\n",
    "1. Общая площадь\n",
    "\n",
    "Чем больше блощадь, тем выше стоимость помещения, прямая зависимость.\n",
    "\n",
    "2. Жилая площадь\n",
    "\n",
    "Обычно в объявлениях смотрят на общую площадь и на непосредственно жилую площадь смотрят реже при покупке, однако она на прямую зависит от общей площади, формально можно признать, что в целом зависимость цены от жилой площади тоже прямая.\n",
    "\n",
    "3. Площадь кухни\n",
    "\n",
    "На графике четко видно прямую зависимость цены от площади кухни, это наверное второй по существенности из базовых параметров при выборе квартиры.\n",
    "\n",
    "4. Количество комнат\n",
    "\n",
    "Количество комнат так же напрямую влияет на стоимость квартиры, видна небольшая просадка в многокомнатных квартирах, это может быть связано с демпингом на труднопродаваемое жилье, что в целом не меняет картины.\n",
    "\n",
    "5. Этаж\n",
    "\n",
    "Самые недорогие квартиры находятся на первом этаже, а вот цены на любой другой этаж уже значительно выше, в то время как цены на последний этаж чуть ниже, чем на любой другой кроме первого.\n",
    "\n",
    "6. Год публикации\n",
    "\n",
    "2014 год мы не будем брать в расчет, поскольку значений в этом году мало, можем налюдать стабильный рост цен на недвижимость начиная с 2016 года и по сегодняшний день.\n",
    "\n",
    "7. Месяц публикации\n",
    "\n",
    "Четко прослеживается сезонность рынка. Летом самые низкие цены. Весной самые высокие. В остальные месяцы цены варьируются от средних до выше средних попеременно.\n",
    "\n",
    "8. День публикации\n",
    "\n",
    "Самые дорогие предложения появляются по вторникам, после чего в среднем цена начинает опускаться и достигает минимума к четвергу держится на низком уровне еще немного проседает в воскресенье, а с понедельника начинает расти."
   ]
  },
  {
   "cell_type": "markdown",
   "metadata": {},
   "source": [
    "#### Сравнение стоимости за м2 в 10 городах с наибольним количеством предложений"
   ]
  },
  {
   "cell_type": "code",
   "execution_count": 21,
   "metadata": {},
   "outputs": [
    {
     "data": {
      "text/html": [
       "<div>\n",
       "<style scoped>\n",
       "    .dataframe tbody tr th:only-of-type {\n",
       "        vertical-align: middle;\n",
       "    }\n",
       "\n",
       "    .dataframe tbody tr th {\n",
       "        vertical-align: top;\n",
       "    }\n",
       "\n",
       "    .dataframe thead th {\n",
       "        text-align: right;\n",
       "    }\n",
       "</style>\n",
       "<table border=\"1\" class=\"dataframe\">\n",
       "  <thead>\n",
       "    <tr style=\"text-align: right;\">\n",
       "      <th></th>\n",
       "      <th>price_per_metr</th>\n",
       "    </tr>\n",
       "    <tr>\n",
       "      <th>locality_name</th>\n",
       "      <th></th>\n",
       "    </tr>\n",
       "  </thead>\n",
       "  <tbody>\n",
       "    <tr>\n",
       "      <th>Санкт-Петербург</th>\n",
       "      <td>108783</td>\n",
       "    </tr>\n",
       "    <tr>\n",
       "      <th>Пушкин</th>\n",
       "      <td>101739</td>\n",
       "    </tr>\n",
       "    <tr>\n",
       "      <th>деревня Кудрово</th>\n",
       "      <td>91904</td>\n",
       "    </tr>\n",
       "    <tr>\n",
       "      <th>поселок Парголово</th>\n",
       "      <td>85974</td>\n",
       "    </tr>\n",
       "    <tr>\n",
       "      <th>поселок Мурино</th>\n",
       "      <td>84846</td>\n",
       "    </tr>\n",
       "    <tr>\n",
       "      <th>поселок Шушары</th>\n",
       "      <td>78203</td>\n",
       "    </tr>\n",
       "    <tr>\n",
       "      <th>Колпино</th>\n",
       "      <td>75167</td>\n",
       "    </tr>\n",
       "    <tr>\n",
       "      <th>Гатчина</th>\n",
       "      <td>68959</td>\n",
       "    </tr>\n",
       "    <tr>\n",
       "      <th>Всеволожск</th>\n",
       "      <td>68665</td>\n",
       "    </tr>\n",
       "    <tr>\n",
       "      <th>Выборг</th>\n",
       "      <td>57685</td>\n",
       "    </tr>\n",
       "  </tbody>\n",
       "</table>\n",
       "</div>"
      ],
      "text/plain": [
       "                   price_per_metr\n",
       "locality_name                    \n",
       "Санкт-Петербург            108783\n",
       "Пушкин                     101739\n",
       "деревня Кудрово             91904\n",
       "поселок Парголово           85974\n",
       "поселок Мурино              84846\n",
       "поселок Шушары              78203\n",
       "Колпино                     75167\n",
       "Гатчина                     68959\n",
       "Всеволожск                  68665\n",
       "Выборг                      57685"
      ]
     },
     "metadata": {},
     "output_type": "display_data"
    },
    {
     "data": {
      "text/plain": [
       "<AxesSubplot:ylabel='locality_name'>"
      ]
     },
     "execution_count": 21,
     "metadata": {},
     "output_type": "execute_result"
    },
    {
     "data": {
      "image/png": "[encoded data removed]",
      "text/plain": [
       "<Figure size 1368x432 with 1 Axes>"
      ]
     },
     "metadata": {
      "needs_background": "light"
     },
     "output_type": "display_data"
    }
   ],
   "source": [
    "#Запишем в переменную топ 10 городов, где больше всего предложений\n",
    "top = data['locality_name'].value_counts().head(10)\n",
    "display(\n",
    "#Выводим список городов с сортировкой по убыванию, по цене за квадратный метр жилья  \n",
    "      data.query('locality_name in (@top.index)')\n",
    "    .pivot_table(values='price_per_metr', index='locality_name')\n",
    "    .sort_values(by='price_per_metr', ascending=False)\n",
    "    .astype(int)\n",
    ")\n",
    "\n",
    "(\n",
    "#Выводим список городов с сортировкой по убыванию, по цене за квадратный метр жилья  \n",
    "      data.query('locality_name in (@top.index)')\n",
    "    .pivot_table(values='price_per_metr', index='locality_name')\n",
    "    .sort_values(by='price_per_metr', ascending=False)\n",
    "    .astype(int).plot(kind= 'barh', figsize=(19,6), rot = -5, legend = False, fontsize = 16)\n",
    ")\n"
   ]
  },
  {
   "cell_type": "markdown",
   "metadata": {},
   "source": [
    "В выборке из 10 населенных пунктов, где больше всего предложений, цена за м2 варьируется от 58237р (Выборг) до 112298р(Санкт-Петербург). Самые высокие цены в Санкт-Петербурге и далее уменьшаются по мере удаления от города."
   ]
  },
  {
   "cell_type": "markdown",
   "metadata": {},
   "source": [
    "#### Средняя цена каждого км до центра города в Санкт-Петербурге"
   ]
  },
  {
   "cell_type": "code",
   "execution_count": 22,
   "metadata": {},
   "outputs": [
    {
     "data": {
      "image/png": "[encoded data removed]",
      "text/plain": [
       "<Figure size 1080x216 with 1 Axes>"
      ]
     },
     "metadata": {
      "needs_background": "light"
     },
     "output_type": "display_data"
    }
   ],
   "source": [
    "# Расчитываем общую цену недвижимости на каждый километр в Санкт-Петербурге\n",
    "(\n",
    "    data.query('locality_name == \"Санкт-Петербург\"')\n",
    "    .pivot_table(index='city_centre_nearest_km', values='last_price')\n",
    "    .plot(grid=True, style='o-', xlim=(0,20), figsize=(15, 3))\n",
    ")\n",
    "plt.show()"
   ]
  },
  {
   "cell_type": "markdown",
   "metadata": {},
   "source": [
    "Исходя из полученных данных, можно сделать вывод, что начиная с расстояния 9 км до центра города, цена на недвижимость начинает существенно расти."
   ]
  },
  {
   "cell_type": "markdown",
   "metadata": {},
   "source": [
    "### Общий вывод"
   ]
  },
  {
   "cell_type": "markdown",
   "metadata": {},
   "source": [
    "* Предобработка данных\n",
    "В датафрейме предобработке подверглись многие данные.\n",
    "1. Удалены некорректные, неинформативные и аномально высокие и низкие значения.\n",
    "2. Значения с пропусками были заменены на средние и медианные, где это оправдано. Там где это возможно пропуски были заменены согласно логике. Там где нет возможности произвести замену, а удаление не целесообразно, были установлены маркеры, которые были учтены в дальнейшем исследовании.\n",
    "3. Устранены дубликаты и приведены к единому стандарту текстовые значения.\n",
    "4. Типы данных были приведены в соответствующий формат, согласно тем значениям, которые в них хранятся.\n",
    "5. В датафрейм были добавлены рассчетные значения для проведения исследования.\n",
    "\n",
    "* Исследование данных\n",
    "1. При помощи гистограмм был произведен анализ данных, который показал, что значения всех базовых параметров имеют реалистичные значения и четко прослеживаются особенности рынка недвижимости (например сезонность продаж и преоблодание колчества 5 и 9 этажных домов на рынке)\n",
    "2. * Определена прямая зависимость цены, от площади (общей, жилой и кухонной) и количества комнат на цену.\n",
    "   * Жилье на первом этаже стоит дешевле, чем на любом другом.\n",
    "   * Выявлена зависимость цены от месяца, летом, в середине осени и весны и к Новогодним праздникам, цены опускаются, в остальное время растут.\n",
    "3. Скорость продажи квартир в среднем составляет 181 день, в то время, как медианное 96, соответственно можно прийти к выводу, что до 3 месяцев это быстрая продажа, до полугода это среднее время продажи, более полугода медленная продажа, год и более, аномально долгое время продажи.\n",
    "4. Цена недвижимости напрямую зависит от того в какой локации находится, чем ближе к Санкт-Петербургу, тем дороже. Кроме того, эта тенденция сохраняется и в городе, чем ближе к центру, тем дороже жилье.\n"
   ]
  }
 ],
 "metadata": {
  "ExecuteTimeLog": [
   {
    "duration": 764,
    "start_time": "2022-10-04T09:01:08.451Z"
   },
   {
    "duration": 96,
    "start_time": "2022-10-04T09:01:28.831Z"
   },
   {
    "duration": 109,
    "start_time": "2022-10-04T09:01:52.539Z"
   },
   {
    "duration": 427,
    "start_time": "2022-10-04T09:02:48.972Z"
   },
   {
    "duration": 104,
    "start_time": "2022-10-04T09:03:17.197Z"
   },
   {
    "duration": 90,
    "start_time": "2022-10-04T09:05:37.341Z"
   },
   {
    "duration": 111,
    "start_time": "2022-10-04T09:06:25.805Z"
   },
   {
    "duration": 146,
    "start_time": "2022-10-04T09:06:47.192Z"
   },
   {
    "duration": 2127,
    "start_time": "2022-10-04T09:07:31.145Z"
   },
   {
    "duration": 2155,
    "start_time": "2022-10-04T09:10:18.340Z"
   },
   {
    "duration": 2143,
    "start_time": "2022-10-04T09:10:34.228Z"
   },
   {
    "duration": 118,
    "start_time": "2022-10-04T09:10:56.027Z"
   },
   {
    "duration": 91,
    "start_time": "2022-10-04T10:18:38.683Z"
   },
   {
    "duration": 102,
    "start_time": "2022-10-04T10:18:49.135Z"
   },
   {
    "duration": 6,
    "start_time": "2022-10-04T10:21:41.889Z"
   },
   {
    "duration": 8,
    "start_time": "2022-10-04T10:23:22.706Z"
   },
   {
    "duration": 7,
    "start_time": "2022-10-04T10:25:19.786Z"
   },
   {
    "duration": 493,
    "start_time": "2022-10-04T10:25:30.201Z"
   },
   {
    "duration": 8,
    "start_time": "2022-10-04T10:25:35.537Z"
   },
   {
    "duration": 9,
    "start_time": "2022-10-04T10:37:15.419Z"
   },
   {
    "duration": 7,
    "start_time": "2022-10-04T10:39:31.650Z"
   },
   {
    "duration": 6,
    "start_time": "2022-10-04T10:40:37.958Z"
   },
   {
    "duration": 6,
    "start_time": "2022-10-04T10:42:17.688Z"
   },
   {
    "duration": 7,
    "start_time": "2022-10-04T10:42:56.537Z"
   },
   {
    "duration": 877,
    "start_time": "2022-10-04T10:43:41.868Z"
   },
   {
    "duration": 1866,
    "start_time": "2022-10-04T10:45:03.792Z"
   },
   {
    "duration": 67,
    "start_time": "2022-10-04T10:45:30.256Z"
   },
   {
    "duration": 1022,
    "start_time": "2022-10-04T10:45:36.545Z"
   },
   {
    "duration": 2365,
    "start_time": "2022-10-04T10:45:59.900Z"
   },
   {
    "duration": 114,
    "start_time": "2022-10-04T10:46:21.820Z"
   },
   {
    "duration": 1053,
    "start_time": "2022-10-04T10:46:26.554Z"
   },
   {
    "duration": 549,
    "start_time": "2022-10-04T10:46:33.215Z"
   },
   {
    "duration": 1223,
    "start_time": "2022-10-04T10:46:33.766Z"
   },
   {
    "duration": 17,
    "start_time": "2022-10-04T10:47:55.832Z"
   },
   {
    "duration": 9,
    "start_time": "2022-10-04T10:53:06.885Z"
   },
   {
    "duration": 402,
    "start_time": "2022-10-04T10:54:25.630Z"
   },
   {
    "duration": 157,
    "start_time": "2022-10-04T11:07:54.125Z"
   },
   {
    "duration": 156,
    "start_time": "2022-10-04T11:08:52.744Z"
   },
   {
    "duration": 159,
    "start_time": "2022-10-04T11:10:49.456Z"
   },
   {
    "duration": 17,
    "start_time": "2022-10-04T11:13:33.762Z"
   },
   {
    "duration": 9,
    "start_time": "2022-10-04T11:13:49.730Z"
   },
   {
    "duration": 202,
    "start_time": "2022-10-04T11:16:08.307Z"
   },
   {
    "duration": 139,
    "start_time": "2022-10-04T11:16:39.634Z"
   },
   {
    "duration": 132,
    "start_time": "2022-10-04T11:16:56.291Z"
   },
   {
    "duration": 10,
    "start_time": "2022-10-04T11:44:54.417Z"
   },
   {
    "duration": 616,
    "start_time": "2022-10-04T11:45:58.675Z"
   },
   {
    "duration": 143,
    "start_time": "2022-10-04T11:46:15.538Z"
   },
   {
    "duration": 405,
    "start_time": "2022-10-04T12:02:06.195Z"
   },
   {
    "duration": 717,
    "start_time": "2022-10-04T12:02:37.734Z"
   },
   {
    "duration": 909,
    "start_time": "2022-10-04T12:03:22.879Z"
   },
   {
    "duration": 1027,
    "start_time": "2022-10-04T12:03:53.580Z"
   },
   {
    "duration": 905,
    "start_time": "2022-10-04T12:04:04.843Z"
   },
   {
    "duration": 50,
    "start_time": "2022-10-04T12:07:36.821Z"
   },
   {
    "duration": 1015,
    "start_time": "2022-10-04T12:07:52.468Z"
   },
   {
    "duration": 1035,
    "start_time": "2022-10-04T12:08:12.189Z"
   },
   {
    "duration": 916,
    "start_time": "2022-10-04T12:10:23.048Z"
   },
   {
    "duration": 905,
    "start_time": "2022-10-04T12:11:19.304Z"
   },
   {
    "duration": 1158,
    "start_time": "2022-10-04T12:11:49.014Z"
   },
   {
    "duration": 981,
    "start_time": "2022-10-04T12:12:23.841Z"
   },
   {
    "duration": 1103,
    "start_time": "2022-10-04T12:14:18.053Z"
   },
   {
    "duration": 910,
    "start_time": "2022-10-04T12:14:32.020Z"
   },
   {
    "duration": 143,
    "start_time": "2022-10-04T12:15:26.446Z"
   },
   {
    "duration": 136,
    "start_time": "2022-10-04T12:15:33.994Z"
   },
   {
    "duration": 563,
    "start_time": "2022-10-04T12:15:59.608Z"
   },
   {
    "duration": 390,
    "start_time": "2022-10-04T12:16:13.733Z"
   },
   {
    "duration": 421,
    "start_time": "2022-10-04T12:16:22.971Z"
   },
   {
    "duration": 583,
    "start_time": "2022-10-04T12:16:47.270Z"
   },
   {
    "duration": 449,
    "start_time": "2022-10-04T12:16:56.193Z"
   },
   {
    "duration": 51,
    "start_time": "2022-10-04T12:19:19.076Z"
   },
   {
    "duration": 418,
    "start_time": "2022-10-04T12:19:27.813Z"
   },
   {
    "duration": 435,
    "start_time": "2022-10-04T12:19:49.531Z"
   },
   {
    "duration": 116,
    "start_time": "2022-10-04T12:53:49.040Z"
   },
   {
    "duration": 400,
    "start_time": "2022-10-04T12:54:00.604Z"
   },
   {
    "duration": 408,
    "start_time": "2022-10-04T12:54:14.407Z"
   },
   {
    "duration": 829,
    "start_time": "2022-10-04T12:54:43.309Z"
   },
   {
    "duration": 686,
    "start_time": "2022-10-04T12:54:56.048Z"
   },
   {
    "duration": 712,
    "start_time": "2022-10-04T12:55:07.321Z"
   },
   {
    "duration": 1177,
    "start_time": "2022-10-04T12:55:38.020Z"
   },
   {
    "duration": 984,
    "start_time": "2022-10-04T12:55:56.032Z"
   },
   {
    "duration": 933,
    "start_time": "2022-10-04T12:56:04.385Z"
   },
   {
    "duration": 1214,
    "start_time": "2022-10-04T12:56:14.947Z"
   },
   {
    "duration": 928,
    "start_time": "2022-10-04T12:56:43.904Z"
   },
   {
    "duration": 1193,
    "start_time": "2022-10-04T12:57:08.740Z"
   },
   {
    "duration": 980,
    "start_time": "2022-10-04T12:57:22.204Z"
   },
   {
    "duration": 979,
    "start_time": "2022-10-04T12:57:54.123Z"
   },
   {
    "duration": 1238,
    "start_time": "2022-10-04T12:58:39.796Z"
   },
   {
    "duration": 958,
    "start_time": "2022-10-04T13:01:23.241Z"
   },
   {
    "duration": 954,
    "start_time": "2022-10-04T13:10:13.832Z"
   },
   {
    "duration": 1241,
    "start_time": "2022-10-04T13:11:23.561Z"
   },
   {
    "duration": 1005,
    "start_time": "2022-10-04T13:12:07.509Z"
   },
   {
    "duration": 994,
    "start_time": "2022-10-04T13:12:37.757Z"
   },
   {
    "duration": 1291,
    "start_time": "2022-10-04T13:13:09.196Z"
   },
   {
    "duration": 986,
    "start_time": "2022-10-04T13:14:02.625Z"
   },
   {
    "duration": 11,
    "start_time": "2022-10-04T13:14:08.521Z"
   },
   {
    "duration": 489,
    "start_time": "2022-10-04T13:14:26.497Z"
   },
   {
    "duration": 433,
    "start_time": "2022-10-04T13:14:26.988Z"
   },
   {
    "duration": 1194,
    "start_time": "2022-10-04T13:14:27.422Z"
   },
   {
    "duration": 15,
    "start_time": "2022-10-04T13:14:57.310Z"
   },
   {
    "duration": 11,
    "start_time": "2022-10-04T13:15:29.864Z"
   },
   {
    "duration": 10,
    "start_time": "2022-10-04T13:15:41.878Z"
   },
   {
    "duration": 507,
    "start_time": "2022-10-04T13:15:47.501Z"
   },
   {
    "duration": 419,
    "start_time": "2022-10-04T13:15:48.010Z"
   },
   {
    "duration": 1066,
    "start_time": "2022-10-04T13:15:48.431Z"
   },
   {
    "duration": 938,
    "start_time": "2022-10-04T13:16:02.950Z"
   },
   {
    "duration": 1067,
    "start_time": "2022-10-04T13:16:39.704Z"
   },
   {
    "duration": 546,
    "start_time": "2022-10-04T13:17:00.418Z"
   },
   {
    "duration": 407,
    "start_time": "2022-10-04T13:17:00.966Z"
   },
   {
    "duration": 1021,
    "start_time": "2022-10-04T13:17:01.374Z"
   },
   {
    "duration": 996,
    "start_time": "2022-10-04T13:17:26.357Z"
   },
   {
    "duration": 1050,
    "start_time": "2022-10-04T13:18:53.038Z"
   },
   {
    "duration": 936,
    "start_time": "2022-10-04T13:19:21.494Z"
   },
   {
    "duration": 1027,
    "start_time": "2022-10-04T13:21:06.479Z"
   },
   {
    "duration": 1029,
    "start_time": "2022-10-04T13:21:40.414Z"
   },
   {
    "duration": 875,
    "start_time": "2022-10-04T13:22:44.774Z"
   },
   {
    "duration": 982,
    "start_time": "2022-10-04T13:22:55.758Z"
   },
   {
    "duration": 9,
    "start_time": "2022-10-04T13:31:17.220Z"
   },
   {
    "duration": 7,
    "start_time": "2022-10-04T13:33:54.140Z"
   },
   {
    "duration": 109,
    "start_time": "2022-10-04T13:36:17.095Z"
   },
   {
    "duration": 122,
    "start_time": "2022-10-04T13:36:44.939Z"
   },
   {
    "duration": 1604,
    "start_time": "2022-10-04T13:37:20.065Z"
   },
   {
    "duration": 379,
    "start_time": "2022-10-04T13:38:12.867Z"
   },
   {
    "duration": 62,
    "start_time": "2022-10-04T13:39:02.643Z"
   },
   {
    "duration": 474,
    "start_time": "2022-10-04T13:39:08.874Z"
   },
   {
    "duration": 379,
    "start_time": "2022-10-04T13:39:19.207Z"
   },
   {
    "duration": 406,
    "start_time": "2022-10-04T13:39:35.907Z"
   },
   {
    "duration": 392,
    "start_time": "2022-10-04T13:40:36.814Z"
   },
   {
    "duration": 383,
    "start_time": "2022-10-04T13:41:15.893Z"
   },
   {
    "duration": 411,
    "start_time": "2022-10-04T13:41:32.306Z"
   },
   {
    "duration": 466,
    "start_time": "2022-10-04T13:43:24.529Z"
   },
   {
    "duration": 381,
    "start_time": "2022-10-04T13:43:46.154Z"
   },
   {
    "duration": 422,
    "start_time": "2022-10-04T13:44:27.790Z"
   },
   {
    "duration": 63,
    "start_time": "2022-10-04T13:47:20.705Z"
   },
   {
    "duration": 403,
    "start_time": "2022-10-04T13:47:34.052Z"
   },
   {
    "duration": 186,
    "start_time": "2022-10-04T13:55:57.406Z"
   },
   {
    "duration": 175,
    "start_time": "2022-10-04T13:56:10.503Z"
   },
   {
    "duration": 3,
    "start_time": "2022-10-04T14:00:57.972Z"
   },
   {
    "duration": 11,
    "start_time": "2022-10-04T14:03:29.736Z"
   },
   {
    "duration": 126,
    "start_time": "2022-10-04T14:04:09.937Z"
   },
   {
    "duration": 495,
    "start_time": "2022-10-04T14:05:21.168Z"
   },
   {
    "duration": 390,
    "start_time": "2022-10-04T14:05:21.666Z"
   },
   {
    "duration": 993,
    "start_time": "2022-10-04T14:05:22.058Z"
   },
   {
    "duration": 372,
    "start_time": "2022-10-04T14:05:23.053Z"
   },
   {
    "duration": 14,
    "start_time": "2022-10-04T14:05:23.427Z"
   },
   {
    "duration": 15,
    "start_time": "2022-10-04T14:06:22.723Z"
   },
   {
    "duration": 543,
    "start_time": "2022-10-04T14:08:51.232Z"
   },
   {
    "duration": 421,
    "start_time": "2022-10-04T14:08:51.777Z"
   },
   {
    "duration": 1018,
    "start_time": "2022-10-04T14:08:52.200Z"
   },
   {
    "duration": 398,
    "start_time": "2022-10-04T14:08:53.220Z"
   },
   {
    "duration": 735,
    "start_time": "2022-10-04T14:08:53.620Z"
   },
   {
    "duration": 10,
    "start_time": "2022-10-04T14:09:25.508Z"
   },
   {
    "duration": 18,
    "start_time": "2022-10-04T14:09:40.878Z"
   },
   {
    "duration": 542,
    "start_time": "2022-10-04T14:09:57.736Z"
   },
   {
    "duration": 490,
    "start_time": "2022-10-04T14:09:58.281Z"
   },
   {
    "duration": 1024,
    "start_time": "2022-10-04T14:09:58.773Z"
   },
   {
    "duration": 408,
    "start_time": "2022-10-04T14:09:59.799Z"
   },
   {
    "duration": 10,
    "start_time": "2022-10-04T14:10:00.209Z"
   },
   {
    "duration": 20,
    "start_time": "2022-10-04T14:22:38.306Z"
   },
   {
    "duration": 520,
    "start_time": "2022-10-04T14:22:46.256Z"
   },
   {
    "duration": 425,
    "start_time": "2022-10-04T14:22:46.778Z"
   },
   {
    "duration": 1045,
    "start_time": "2022-10-04T14:22:47.205Z"
   },
   {
    "duration": 435,
    "start_time": "2022-10-04T14:22:48.253Z"
   },
   {
    "duration": 16,
    "start_time": "2022-10-04T14:22:48.689Z"
   },
   {
    "duration": 75,
    "start_time": "2022-10-04T14:23:22.618Z"
   },
   {
    "duration": 9,
    "start_time": "2022-10-04T14:30:08.889Z"
   },
   {
    "duration": 547,
    "start_time": "2022-10-04T14:30:16.028Z"
   },
   {
    "duration": 423,
    "start_time": "2022-10-04T14:30:16.577Z"
   },
   {
    "duration": 1046,
    "start_time": "2022-10-04T14:30:17.002Z"
   },
   {
    "duration": 392,
    "start_time": "2022-10-04T14:30:18.049Z"
   },
   {
    "duration": 10,
    "start_time": "2022-10-04T14:30:18.443Z"
   },
   {
    "duration": 56,
    "start_time": "2022-10-05T08:32:43.018Z"
   },
   {
    "duration": 6,
    "start_time": "2022-10-05T08:33:02.061Z"
   },
   {
    "duration": 675,
    "start_time": "2022-10-05T08:33:09.810Z"
   },
   {
    "duration": 514,
    "start_time": "2022-10-05T08:33:10.487Z"
   },
   {
    "duration": 939,
    "start_time": "2022-10-05T08:33:11.003Z"
   },
   {
    "duration": 349,
    "start_time": "2022-10-05T08:33:11.944Z"
   },
   {
    "duration": 12,
    "start_time": "2022-10-05T08:33:12.294Z"
   },
   {
    "duration": 98,
    "start_time": "2022-10-05T08:57:00.791Z"
   },
   {
    "duration": 89,
    "start_time": "2022-10-05T08:57:10.381Z"
   },
   {
    "duration": 140,
    "start_time": "2022-10-05T08:58:26.480Z"
   },
   {
    "duration": 555,
    "start_time": "2022-10-05T12:09:38.779Z"
   },
   {
    "duration": 374,
    "start_time": "2022-10-05T12:09:39.335Z"
   },
   {
    "duration": 894,
    "start_time": "2022-10-05T12:09:39.711Z"
   },
   {
    "duration": 357,
    "start_time": "2022-10-05T12:09:40.607Z"
   },
   {
    "duration": 9,
    "start_time": "2022-10-05T12:09:40.966Z"
   },
   {
    "duration": 45,
    "start_time": "2022-10-06T06:18:00.977Z"
   },
   {
    "duration": 766,
    "start_time": "2022-10-06T06:18:07.397Z"
   },
   {
    "duration": 5,
    "start_time": "2022-10-06T06:18:12.249Z"
   },
   {
    "duration": 3,
    "start_time": "2022-10-06T06:20:18.829Z"
   },
   {
    "duration": 16,
    "start_time": "2022-10-06T06:21:05.724Z"
   },
   {
    "duration": 21,
    "start_time": "2022-10-06T06:31:35.910Z"
   },
   {
    "duration": 150,
    "start_time": "2022-10-06T06:34:38.807Z"
   },
   {
    "duration": 23,
    "start_time": "2022-10-06T06:34:42.490Z"
   },
   {
    "duration": 25,
    "start_time": "2022-10-06T06:36:06.963Z"
   },
   {
    "duration": 65,
    "start_time": "2022-10-06T06:37:00.533Z"
   },
   {
    "duration": 33,
    "start_time": "2022-10-06T06:41:27.355Z"
   },
   {
    "duration": 38,
    "start_time": "2022-10-06T06:42:25.341Z"
   },
   {
    "duration": 601,
    "start_time": "2022-10-06T07:10:38.522Z"
   },
   {
    "duration": 53,
    "start_time": "2022-10-06T07:10:39.125Z"
   },
   {
    "duration": 1434,
    "start_time": "2022-10-06T07:10:39.179Z"
   },
   {
    "duration": 356,
    "start_time": "2022-10-06T07:10:40.615Z"
   },
   {
    "duration": 13,
    "start_time": "2022-10-06T07:10:40.972Z"
   },
   {
    "duration": 10,
    "start_time": "2022-10-06T07:23:19.218Z"
   },
   {
    "duration": 42,
    "start_time": "2022-10-06T07:23:40.286Z"
   },
   {
    "duration": 72,
    "start_time": "2022-10-06T07:23:45.475Z"
   },
   {
    "duration": 8,
    "start_time": "2022-10-06T07:23:54.752Z"
   },
   {
    "duration": 15,
    "start_time": "2022-10-06T07:26:55.687Z"
   },
   {
    "duration": 8,
    "start_time": "2022-10-06T07:27:10.708Z"
   },
   {
    "duration": 9,
    "start_time": "2022-10-06T07:27:22.835Z"
   },
   {
    "duration": 14,
    "start_time": "2022-10-06T07:28:20.379Z"
   },
   {
    "duration": 28,
    "start_time": "2022-10-06T07:31:55.069Z"
   },
   {
    "duration": 26,
    "start_time": "2022-10-06T07:32:09.382Z"
   },
   {
    "duration": 39,
    "start_time": "2022-10-06T07:34:10.403Z"
   },
   {
    "duration": 68,
    "start_time": "2022-10-06T07:47:12.110Z"
   },
   {
    "duration": 45,
    "start_time": "2022-10-06T08:10:42.293Z"
   },
   {
    "duration": 49,
    "start_time": "2022-10-06T08:14:30.416Z"
   },
   {
    "duration": 1174,
    "start_time": "2022-10-06T08:15:31.113Z"
   },
   {
    "duration": 766,
    "start_time": "2022-10-06T08:15:49.851Z"
   },
   {
    "duration": 45,
    "start_time": "2022-10-06T08:16:09.003Z"
   },
   {
    "duration": 62,
    "start_time": "2022-10-06T08:16:23.920Z"
   },
   {
    "duration": 62,
    "start_time": "2022-10-06T08:18:38.300Z"
   },
   {
    "duration": 63,
    "start_time": "2022-10-06T08:20:51.288Z"
   },
   {
    "duration": 4,
    "start_time": "2022-10-06T08:28:04.503Z"
   },
   {
    "duration": 5,
    "start_time": "2022-10-06T08:28:31.182Z"
   },
   {
    "duration": 118,
    "start_time": "2022-10-06T08:28:35.927Z"
   },
   {
    "duration": 1218,
    "start_time": "2022-10-06T08:30:26.206Z"
   },
   {
    "duration": 93,
    "start_time": "2022-10-06T08:31:11.936Z"
   },
   {
    "duration": 1092,
    "start_time": "2022-10-06T08:31:35.079Z"
   },
   {
    "duration": 1041,
    "start_time": "2022-10-06T08:32:05.511Z"
   },
   {
    "duration": 150,
    "start_time": "2022-10-06T08:32:16.927Z"
   },
   {
    "duration": 121,
    "start_time": "2022-10-06T08:32:35.336Z"
   },
   {
    "duration": 92,
    "start_time": "2022-10-06T08:32:44.269Z"
   },
   {
    "duration": 967,
    "start_time": "2022-10-06T08:37:38.873Z"
   },
   {
    "duration": 93,
    "start_time": "2022-10-06T08:37:48.872Z"
   },
   {
    "duration": 68,
    "start_time": "2022-10-06T08:38:30.805Z"
   },
   {
    "duration": 120,
    "start_time": "2022-10-06T08:38:38.760Z"
   },
   {
    "duration": 751,
    "start_time": "2022-10-06T08:40:38.701Z"
   },
   {
    "duration": 75,
    "start_time": "2022-10-06T08:41:07.299Z"
   },
   {
    "duration": 553,
    "start_time": "2022-10-06T08:41:22.996Z"
   },
   {
    "duration": 118,
    "start_time": "2022-10-06T08:42:44.685Z"
   },
   {
    "duration": 135,
    "start_time": "2022-10-06T08:42:55.974Z"
   },
   {
    "duration": 52,
    "start_time": "2022-10-06T08:43:17.522Z"
   },
   {
    "duration": 126,
    "start_time": "2022-10-06T08:43:22.455Z"
   },
   {
    "duration": 65,
    "start_time": "2022-10-06T08:43:49.482Z"
   },
   {
    "duration": 77,
    "start_time": "2022-10-06T08:44:04.928Z"
   },
   {
    "duration": 55,
    "start_time": "2022-10-06T08:44:15.377Z"
   },
   {
    "duration": 34,
    "start_time": "2022-10-06T08:59:16.362Z"
   },
   {
    "duration": 28,
    "start_time": "2022-10-06T09:05:46.875Z"
   },
   {
    "duration": 54,
    "start_time": "2022-10-06T09:06:14.153Z"
   },
   {
    "duration": 47,
    "start_time": "2022-10-06T09:06:54.151Z"
   },
   {
    "duration": 34,
    "start_time": "2022-10-06T09:09:36.080Z"
   },
   {
    "duration": 44,
    "start_time": "2022-10-06T09:09:54.500Z"
   },
   {
    "duration": 5,
    "start_time": "2022-10-06T09:37:09.193Z"
   },
   {
    "duration": 21,
    "start_time": "2022-10-06T09:37:32.608Z"
   },
   {
    "duration": 21,
    "start_time": "2022-10-06T09:38:05.889Z"
   },
   {
    "duration": 39,
    "start_time": "2022-10-06T09:51:41.232Z"
   },
   {
    "duration": 48,
    "start_time": "2022-10-06T09:51:59.645Z"
   },
   {
    "duration": 661,
    "start_time": "2022-10-06T10:30:31.421Z"
   },
   {
    "duration": 22,
    "start_time": "2022-10-06T10:33:01.453Z"
   },
   {
    "duration": 586,
    "start_time": "2022-10-06T10:33:11.206Z"
   },
   {
    "duration": 65,
    "start_time": "2022-10-06T10:33:11.795Z"
   },
   {
    "duration": 111,
    "start_time": "2022-10-06T10:33:11.861Z"
   },
   {
    "duration": 0,
    "start_time": "2022-10-06T10:33:11.974Z"
   },
   {
    "duration": 0,
    "start_time": "2022-10-06T10:33:11.976Z"
   },
   {
    "duration": 0,
    "start_time": "2022-10-06T10:33:11.977Z"
   },
   {
    "duration": 0,
    "start_time": "2022-10-06T10:33:11.978Z"
   },
   {
    "duration": 36,
    "start_time": "2022-10-06T10:33:48.386Z"
   },
   {
    "duration": 104,
    "start_time": "2022-10-06T11:23:38.901Z"
   },
   {
    "duration": 104,
    "start_time": "2022-10-06T11:24:43.502Z"
   },
   {
    "duration": 87,
    "start_time": "2022-10-06T11:29:36.769Z"
   },
   {
    "duration": 113,
    "start_time": "2022-10-06T11:40:06.905Z"
   },
   {
    "duration": 459,
    "start_time": "2022-10-06T11:47:15.428Z"
   },
   {
    "duration": 309,
    "start_time": "2022-10-06T11:48:14.313Z"
   },
   {
    "duration": 371,
    "start_time": "2022-10-06T11:49:19.481Z"
   },
   {
    "duration": 312,
    "start_time": "2022-10-06T12:20:19.020Z"
   },
   {
    "duration": 362,
    "start_time": "2022-10-06T12:20:29.293Z"
   },
   {
    "duration": 59,
    "start_time": "2022-10-06T12:22:42.169Z"
   },
   {
    "duration": 52,
    "start_time": "2022-10-06T12:22:47.107Z"
   },
   {
    "duration": 47,
    "start_time": "2022-10-06T12:22:56.984Z"
   },
   {
    "duration": 320,
    "start_time": "2022-10-06T12:23:26.894Z"
   },
   {
    "duration": 325,
    "start_time": "2022-10-06T12:25:17.310Z"
   },
   {
    "duration": 338,
    "start_time": "2022-10-06T12:28:21.942Z"
   },
   {
    "duration": 67,
    "start_time": "2022-10-06T12:30:45.231Z"
   },
   {
    "duration": 66,
    "start_time": "2022-10-06T12:31:38.594Z"
   },
   {
    "duration": 104,
    "start_time": "2022-10-06T12:32:44.189Z"
   },
   {
    "duration": 13,
    "start_time": "2022-10-06T12:33:12.863Z"
   },
   {
    "duration": 1233,
    "start_time": "2022-10-06T12:33:54.755Z"
   },
   {
    "duration": 76,
    "start_time": "2022-10-06T12:33:55.990Z"
   },
   {
    "duration": 93,
    "start_time": "2022-10-06T12:33:56.067Z"
   },
   {
    "duration": 578,
    "start_time": "2022-10-06T12:33:56.163Z"
   },
   {
    "duration": 1166,
    "start_time": "2022-10-06T12:33:56.742Z"
   },
   {
    "duration": 458,
    "start_time": "2022-10-06T12:33:57.910Z"
   },
   {
    "duration": 16,
    "start_time": "2022-10-06T12:33:58.369Z"
   },
   {
    "duration": 342,
    "start_time": "2022-10-06T12:34:17.715Z"
   },
   {
    "duration": 333,
    "start_time": "2022-10-06T12:34:52.100Z"
   },
   {
    "duration": 11,
    "start_time": "2022-10-06T12:43:46.275Z"
   },
   {
    "duration": 96,
    "start_time": "2022-10-06T12:45:34.919Z"
   },
   {
    "duration": 12,
    "start_time": "2022-10-06T12:56:17.654Z"
   },
   {
    "duration": 9,
    "start_time": "2022-10-06T12:56:21.409Z"
   },
   {
    "duration": 12,
    "start_time": "2022-10-06T12:56:28.024Z"
   },
   {
    "duration": 1153,
    "start_time": "2022-10-06T13:01:40.729Z"
   },
   {
    "duration": 41,
    "start_time": "2022-10-06T13:03:16.577Z"
   },
   {
    "duration": 36,
    "start_time": "2022-10-06T13:03:52.854Z"
   },
   {
    "duration": 98,
    "start_time": "2022-10-06T13:04:05.139Z"
   },
   {
    "duration": 39,
    "start_time": "2022-10-06T13:04:35.286Z"
   },
   {
    "duration": 18,
    "start_time": "2022-10-06T13:06:11.782Z"
   },
   {
    "duration": 24,
    "start_time": "2022-10-06T13:12:01.834Z"
   },
   {
    "duration": 20,
    "start_time": "2022-10-06T13:12:41.168Z"
   },
   {
    "duration": 1253,
    "start_time": "2022-10-06T13:12:56.362Z"
   },
   {
    "duration": 70,
    "start_time": "2022-10-06T13:12:57.617Z"
   },
   {
    "duration": 95,
    "start_time": "2022-10-06T13:12:57.689Z"
   },
   {
    "duration": 461,
    "start_time": "2022-10-06T13:12:57.786Z"
   },
   {
    "duration": 17,
    "start_time": "2022-10-06T13:12:58.249Z"
   },
   {
    "duration": 1080,
    "start_time": "2022-10-06T13:12:58.267Z"
   },
   {
    "duration": 408,
    "start_time": "2022-10-06T13:12:59.349Z"
   },
   {
    "duration": 16,
    "start_time": "2022-10-06T13:12:59.759Z"
   },
   {
    "duration": 23,
    "start_time": "2022-10-06T13:13:08.149Z"
   },
   {
    "duration": 329,
    "start_time": "2022-10-06T13:16:34.866Z"
   },
   {
    "duration": 19,
    "start_time": "2022-10-06T13:16:38.454Z"
   },
   {
    "duration": 21,
    "start_time": "2022-10-06T13:18:11.506Z"
   },
   {
    "duration": 234,
    "start_time": "2022-10-06T13:21:21.008Z"
   },
   {
    "duration": 222,
    "start_time": "2022-10-06T13:21:50.166Z"
   },
   {
    "duration": 237,
    "start_time": "2022-10-06T13:22:41.594Z"
   },
   {
    "duration": 21,
    "start_time": "2022-10-06T13:22:55.972Z"
   },
   {
    "duration": 20,
    "start_time": "2022-10-06T13:23:03.292Z"
   },
   {
    "duration": 19,
    "start_time": "2022-10-06T13:23:17.741Z"
   },
   {
    "duration": 1231,
    "start_time": "2022-10-06T13:23:38.713Z"
   },
   {
    "duration": 72,
    "start_time": "2022-10-06T13:23:39.947Z"
   },
   {
    "duration": 92,
    "start_time": "2022-10-06T13:23:40.021Z"
   },
   {
    "duration": 457,
    "start_time": "2022-10-06T13:23:40.116Z"
   },
   {
    "duration": 19,
    "start_time": "2022-10-06T13:23:40.574Z"
   },
   {
    "duration": 1168,
    "start_time": "2022-10-06T13:23:40.595Z"
   },
   {
    "duration": 413,
    "start_time": "2022-10-06T13:23:41.765Z"
   },
   {
    "duration": 18,
    "start_time": "2022-10-06T13:23:42.179Z"
   },
   {
    "duration": 318,
    "start_time": "2022-10-06T13:24:01.598Z"
   },
   {
    "duration": 20,
    "start_time": "2022-10-06T13:24:21.066Z"
   },
   {
    "duration": 36,
    "start_time": "2022-10-06T13:24:47.246Z"
   },
   {
    "duration": 18,
    "start_time": "2022-10-06T13:27:38.368Z"
   },
   {
    "duration": 43,
    "start_time": "2022-10-06T13:29:04.500Z"
   },
   {
    "duration": 1093,
    "start_time": "2022-10-06T14:22:32.076Z"
   },
   {
    "duration": 998,
    "start_time": "2022-10-06T14:22:54.631Z"
   },
   {
    "duration": 106,
    "start_time": "2022-10-06T14:24:08.096Z"
   },
   {
    "duration": 1116,
    "start_time": "2022-10-06T14:24:41.752Z"
   },
   {
    "duration": 1240,
    "start_time": "2022-10-06T14:24:57.814Z"
   },
   {
    "duration": 69,
    "start_time": "2022-10-06T14:24:59.056Z"
   },
   {
    "duration": 83,
    "start_time": "2022-10-06T14:24:59.126Z"
   },
   {
    "duration": 446,
    "start_time": "2022-10-06T14:24:59.211Z"
   },
   {
    "duration": 1137,
    "start_time": "2022-10-06T14:24:59.659Z"
   },
   {
    "duration": 1035,
    "start_time": "2022-10-06T14:25:00.798Z"
   },
   {
    "duration": 411,
    "start_time": "2022-10-06T14:25:01.835Z"
   },
   {
    "duration": 14,
    "start_time": "2022-10-06T14:25:02.248Z"
   },
   {
    "duration": 438,
    "start_time": "2022-10-06T14:25:05.498Z"
   },
   {
    "duration": 497,
    "start_time": "2022-10-07T05:49:56.478Z"
   },
   {
    "duration": 90,
    "start_time": "2022-10-07T05:50:05.307Z"
   },
   {
    "duration": 66,
    "start_time": "2022-10-07T05:50:05.399Z"
   },
   {
    "duration": 75,
    "start_time": "2022-10-07T05:50:05.467Z"
   },
   {
    "duration": 430,
    "start_time": "2022-10-07T05:50:05.543Z"
   },
   {
    "duration": 1218,
    "start_time": "2022-10-07T05:50:05.974Z"
   },
   {
    "duration": 850,
    "start_time": "2022-10-07T05:50:07.194Z"
   },
   {
    "duration": 361,
    "start_time": "2022-10-07T05:50:08.045Z"
   },
   {
    "duration": 116,
    "start_time": "2022-10-07T05:50:08.408Z"
   },
   {
    "duration": 286,
    "start_time": "2022-10-07T05:50:13.030Z"
   },
   {
    "duration": 117,
    "start_time": "2022-10-07T05:53:51.009Z"
   },
   {
    "duration": 3122,
    "start_time": "2022-10-07T06:20:28.446Z"
   },
   {
    "duration": 572,
    "start_time": "2022-10-07T06:20:47.275Z"
   },
   {
    "duration": 86,
    "start_time": "2022-10-07T06:21:23.668Z"
   },
   {
    "duration": 129,
    "start_time": "2022-10-07T06:26:39.050Z"
   },
   {
    "duration": 130,
    "start_time": "2022-10-07T06:26:51.798Z"
   },
   {
    "duration": 127,
    "start_time": "2022-10-07T06:27:03.175Z"
   },
   {
    "duration": 66,
    "start_time": "2022-10-07T06:28:23.246Z"
   },
   {
    "duration": 48,
    "start_time": "2022-10-07T06:28:39.162Z"
   },
   {
    "duration": 44,
    "start_time": "2022-10-07T06:29:34.014Z"
   },
   {
    "duration": 86,
    "start_time": "2022-10-07T06:36:41.820Z"
   },
   {
    "duration": 96,
    "start_time": "2022-10-07T06:37:15.642Z"
   },
   {
    "duration": 62,
    "start_time": "2022-10-07T06:37:19.937Z"
   },
   {
    "duration": 1165,
    "start_time": "2022-10-07T06:37:40.657Z"
   },
   {
    "duration": 93,
    "start_time": "2022-10-07T06:37:46.361Z"
   },
   {
    "duration": 106,
    "start_time": "2022-10-07T06:38:00.236Z"
   },
   {
    "duration": 73,
    "start_time": "2022-10-07T06:38:23.591Z"
   },
   {
    "duration": 76,
    "start_time": "2022-10-07T06:38:56.490Z"
   },
   {
    "duration": 7,
    "start_time": "2022-10-07T06:39:07.151Z"
   },
   {
    "duration": 0,
    "start_time": "2022-10-07T06:44:18.431Z"
   },
   {
    "duration": 472,
    "start_time": "2022-10-07T06:45:12.040Z"
   },
   {
    "duration": 70,
    "start_time": "2022-10-07T06:45:12.514Z"
   },
   {
    "duration": 84,
    "start_time": "2022-10-07T06:45:12.585Z"
   },
   {
    "duration": 465,
    "start_time": "2022-10-07T06:45:12.670Z"
   },
   {
    "duration": 16359,
    "start_time": "2022-10-07T06:45:13.137Z"
   },
   {
    "duration": 0,
    "start_time": "2022-10-07T06:45:29.497Z"
   },
   {
    "duration": 0,
    "start_time": "2022-10-07T06:45:29.498Z"
   },
   {
    "duration": 0,
    "start_time": "2022-10-07T06:45:29.500Z"
   },
   {
    "duration": 304,
    "start_time": "2022-10-07T06:45:34.411Z"
   },
   {
    "duration": 0,
    "start_time": "2022-10-07T06:46:29.205Z"
   },
   {
    "duration": 57,
    "start_time": "2022-10-07T06:46:38.220Z"
   },
   {
    "duration": 11,
    "start_time": "2022-10-07T06:56:45.951Z"
   },
   {
    "duration": 27,
    "start_time": "2022-10-07T06:57:20.958Z"
   },
   {
    "duration": 186,
    "start_time": "2022-10-07T06:57:36.564Z"
   },
   {
    "duration": 155,
    "start_time": "2022-10-07T06:58:03.494Z"
   },
   {
    "duration": 304,
    "start_time": "2022-10-07T06:58:28.276Z"
   },
   {
    "duration": 148,
    "start_time": "2022-10-07T07:01:14.808Z"
   },
   {
    "duration": 147,
    "start_time": "2022-10-07T07:01:48.912Z"
   },
   {
    "duration": 125,
    "start_time": "2022-10-07T07:02:03.843Z"
   },
   {
    "duration": 158,
    "start_time": "2022-10-07T07:02:24.983Z"
   },
   {
    "duration": 160,
    "start_time": "2022-10-07T07:02:49.363Z"
   },
   {
    "duration": 155,
    "start_time": "2022-10-07T07:02:56.428Z"
   },
   {
    "duration": 884,
    "start_time": "2022-10-07T07:03:29.796Z"
   },
   {
    "duration": 96,
    "start_time": "2022-10-07T07:04:02.979Z"
   },
   {
    "duration": 344,
    "start_time": "2022-10-07T07:05:23.167Z"
   },
   {
    "duration": 594,
    "start_time": "2022-10-07T07:06:50.533Z"
   },
   {
    "duration": 369,
    "start_time": "2022-10-07T07:08:49.166Z"
   },
   {
    "duration": 388,
    "start_time": "2022-10-07T07:12:48.251Z"
   },
   {
    "duration": 98,
    "start_time": "2022-10-07T07:13:02.570Z"
   },
   {
    "duration": 99,
    "start_time": "2022-10-07T07:13:19.983Z"
   },
   {
    "duration": 550,
    "start_time": "2022-10-07T07:13:29.233Z"
   },
   {
    "duration": 74,
    "start_time": "2022-10-07T07:13:29.785Z"
   },
   {
    "duration": 85,
    "start_time": "2022-10-07T07:13:29.860Z"
   },
   {
    "duration": 508,
    "start_time": "2022-10-07T07:13:29.947Z"
   },
   {
    "duration": 604,
    "start_time": "2022-10-07T07:13:30.457Z"
   },
   {
    "duration": 877,
    "start_time": "2022-10-07T07:13:31.063Z"
   },
   {
    "duration": 68,
    "start_time": "2022-10-07T07:13:31.942Z"
   },
   {
    "duration": 8,
    "start_time": "2022-10-07T07:13:44.400Z"
   },
   {
    "duration": 317,
    "start_time": "2022-10-07T07:29:10.053Z"
   },
   {
    "duration": 31,
    "start_time": "2022-10-07T07:36:47.658Z"
   },
   {
    "duration": 35,
    "start_time": "2022-10-07T07:39:19.972Z"
   },
   {
    "duration": 19,
    "start_time": "2022-10-07T07:40:03.956Z"
   },
   {
    "duration": 77,
    "start_time": "2022-10-07T07:41:23.707Z"
   },
   {
    "duration": 4,
    "start_time": "2022-10-07T07:41:56.458Z"
   },
   {
    "duration": 1103,
    "start_time": "2022-10-07T07:42:06.070Z"
   },
   {
    "duration": 75,
    "start_time": "2022-10-07T07:42:26.097Z"
   },
   {
    "duration": 34,
    "start_time": "2022-10-07T07:42:40.869Z"
   },
   {
    "duration": 30,
    "start_time": "2022-10-07T07:43:13.596Z"
   },
   {
    "duration": 276,
    "start_time": "2022-10-07T07:43:32.060Z"
   },
   {
    "duration": 398,
    "start_time": "2022-10-07T07:45:45.873Z"
   },
   {
    "duration": 215,
    "start_time": "2022-10-07T07:47:43.128Z"
   },
   {
    "duration": 516,
    "start_time": "2022-10-07T07:51:10.122Z"
   },
   {
    "duration": 71,
    "start_time": "2022-10-07T07:51:13.114Z"
   },
   {
    "duration": 74,
    "start_time": "2022-10-07T07:51:15.582Z"
   },
   {
    "duration": 501,
    "start_time": "2022-10-07T07:51:18.212Z"
   },
   {
    "duration": 335,
    "start_time": "2022-10-07T07:51:20.363Z"
   },
   {
    "duration": 463,
    "start_time": "2022-10-07T07:51:24.932Z"
   },
   {
    "duration": 225,
    "start_time": "2022-10-07T07:55:16.620Z"
   },
   {
    "duration": 229,
    "start_time": "2022-10-07T07:55:47.569Z"
   },
   {
    "duration": 255,
    "start_time": "2022-10-07T07:56:18.192Z"
   },
   {
    "duration": 234,
    "start_time": "2022-10-07T07:56:31.335Z"
   },
   {
    "duration": 305,
    "start_time": "2022-10-07T07:57:26.205Z"
   },
   {
    "duration": 253,
    "start_time": "2022-10-07T07:57:42.043Z"
   },
   {
    "duration": 321,
    "start_time": "2022-10-07T07:57:56.061Z"
   },
   {
    "duration": 76,
    "start_time": "2022-10-07T07:58:12.072Z"
   },
   {
    "duration": 278,
    "start_time": "2022-10-07T07:58:24.782Z"
   },
   {
    "duration": 119,
    "start_time": "2022-10-07T08:04:23.238Z"
   },
   {
    "duration": 271,
    "start_time": "2022-10-07T08:04:31.719Z"
   },
   {
    "duration": 346,
    "start_time": "2022-10-07T08:04:47.289Z"
   },
   {
    "duration": 244,
    "start_time": "2022-10-07T08:05:07.290Z"
   },
   {
    "duration": 225,
    "start_time": "2022-10-07T08:05:33.712Z"
   },
   {
    "duration": 240,
    "start_time": "2022-10-07T08:06:25.720Z"
   },
   {
    "duration": 242,
    "start_time": "2022-10-07T08:06:47.633Z"
   },
   {
    "duration": 221,
    "start_time": "2022-10-07T09:32:27.953Z"
   },
   {
    "duration": 215,
    "start_time": "2022-10-07T09:32:40.109Z"
   },
   {
    "duration": 245,
    "start_time": "2022-10-07T09:33:11.393Z"
   },
   {
    "duration": 236,
    "start_time": "2022-10-07T09:33:39.626Z"
   },
   {
    "duration": 249,
    "start_time": "2022-10-07T09:33:49.329Z"
   },
   {
    "duration": 238,
    "start_time": "2022-10-07T09:33:58.828Z"
   },
   {
    "duration": 316,
    "start_time": "2022-10-07T09:36:02.244Z"
   },
   {
    "duration": 226,
    "start_time": "2022-10-07T09:36:14.243Z"
   },
   {
    "duration": 258,
    "start_time": "2022-10-07T09:36:33.863Z"
   },
   {
    "duration": 259,
    "start_time": "2022-10-07T09:37:30.941Z"
   },
   {
    "duration": 219,
    "start_time": "2022-10-07T09:43:28.051Z"
   },
   {
    "duration": 231,
    "start_time": "2022-10-07T09:43:51.681Z"
   },
   {
    "duration": 188,
    "start_time": "2022-10-07T09:44:51.358Z"
   },
   {
    "duration": 176,
    "start_time": "2022-10-07T09:45:32.370Z"
   },
   {
    "duration": 156,
    "start_time": "2022-10-07T09:45:40.383Z"
   },
   {
    "duration": 483,
    "start_time": "2022-10-07T09:45:57.872Z"
   },
   {
    "duration": 68,
    "start_time": "2022-10-07T09:46:02.572Z"
   },
   {
    "duration": 72,
    "start_time": "2022-10-07T09:46:07.225Z"
   },
   {
    "duration": 434,
    "start_time": "2022-10-07T09:46:12.171Z"
   },
   {
    "duration": 295,
    "start_time": "2022-10-07T09:46:14.118Z"
   },
   {
    "duration": 484,
    "start_time": "2022-10-07T09:46:17.103Z"
   },
   {
    "duration": 896,
    "start_time": "2022-10-07T09:52:05.369Z"
   },
   {
    "duration": 7,
    "start_time": "2022-10-07T09:55:52.421Z"
   },
   {
    "duration": 1027,
    "start_time": "2022-10-07T09:55:54.426Z"
   },
   {
    "duration": 21,
    "start_time": "2022-10-07T09:56:10.001Z"
   },
   {
    "duration": 27,
    "start_time": "2022-10-07T09:56:17.982Z"
   },
   {
    "duration": 175,
    "start_time": "2022-10-07T09:58:08.869Z"
   },
   {
    "duration": 241,
    "start_time": "2022-10-07T09:59:21.730Z"
   },
   {
    "duration": 406,
    "start_time": "2022-10-07T10:00:42.891Z"
   },
   {
    "duration": 401,
    "start_time": "2022-10-07T10:08:15.510Z"
   },
   {
    "duration": 440,
    "start_time": "2022-10-07T10:08:26.099Z"
   },
   {
    "duration": 532,
    "start_time": "2022-10-07T10:14:29.413Z"
   },
   {
    "duration": 385,
    "start_time": "2022-10-07T10:17:31.944Z"
   },
   {
    "duration": 2153,
    "start_time": "2022-10-07T10:18:51.726Z"
   },
   {
    "duration": 460,
    "start_time": "2022-10-07T10:19:08.346Z"
   },
   {
    "duration": 498,
    "start_time": "2022-10-07T10:20:41.677Z"
   },
   {
    "duration": 424,
    "start_time": "2022-10-07T10:21:18.918Z"
   },
   {
    "duration": 477,
    "start_time": "2022-10-07T10:21:45.709Z"
   },
   {
    "duration": 930,
    "start_time": "2022-10-07T10:21:48.148Z"
   },
   {
    "duration": 479,
    "start_time": "2022-10-07T10:21:54.796Z"
   },
   {
    "duration": 420,
    "start_time": "2022-10-07T10:23:30.280Z"
   },
   {
    "duration": 406,
    "start_time": "2022-10-07T10:23:35.017Z"
   },
   {
    "duration": 496,
    "start_time": "2022-10-07T10:28:00.485Z"
   },
   {
    "duration": 440,
    "start_time": "2022-10-07T10:28:15.679Z"
   },
   {
    "duration": 382,
    "start_time": "2022-10-07T10:29:18.809Z"
   },
   {
    "duration": 463,
    "start_time": "2022-10-07T10:31:03.902Z"
   },
   {
    "duration": 407,
    "start_time": "2022-10-07T10:31:17.991Z"
   },
   {
    "duration": 403,
    "start_time": "2022-10-07T10:31:25.486Z"
   },
   {
    "duration": 456,
    "start_time": "2022-10-07T10:35:28.776Z"
   },
   {
    "duration": 477,
    "start_time": "2022-10-07T10:35:41.072Z"
   },
   {
    "duration": 671,
    "start_time": "2022-10-07T10:36:45.083Z"
   },
   {
    "duration": 615,
    "start_time": "2022-10-07T10:39:24.789Z"
   },
   {
    "duration": 723,
    "start_time": "2022-10-07T10:41:43.281Z"
   },
   {
    "duration": 932,
    "start_time": "2022-10-07T10:42:04.277Z"
   },
   {
    "duration": 735,
    "start_time": "2022-10-07T10:47:39.512Z"
   },
   {
    "duration": 906,
    "start_time": "2022-10-07T10:48:20.830Z"
   },
   {
    "duration": 23,
    "start_time": "2022-10-07T11:42:52.885Z"
   },
   {
    "duration": 177,
    "start_time": "2022-10-07T11:44:59.511Z"
   },
   {
    "duration": 65,
    "start_time": "2022-10-07T11:45:41.051Z"
   },
   {
    "duration": 148,
    "start_time": "2022-10-07T11:48:01.737Z"
   },
   {
    "duration": 176,
    "start_time": "2022-10-07T11:48:15.719Z"
   },
   {
    "duration": 59,
    "start_time": "2022-10-07T11:48:37.174Z"
   },
   {
    "duration": 186,
    "start_time": "2022-10-07T11:48:55.257Z"
   },
   {
    "duration": 202,
    "start_time": "2022-10-07T11:49:46.134Z"
   },
   {
    "duration": 497,
    "start_time": "2022-10-07T11:51:21.336Z"
   },
   {
    "duration": 70,
    "start_time": "2022-10-07T11:51:21.835Z"
   },
   {
    "duration": 80,
    "start_time": "2022-10-07T11:51:21.907Z"
   },
   {
    "duration": 460,
    "start_time": "2022-10-07T11:51:21.990Z"
   },
   {
    "duration": 416,
    "start_time": "2022-10-07T11:51:22.452Z"
   },
   {
    "duration": 913,
    "start_time": "2022-10-07T11:51:22.870Z"
   },
   {
    "duration": 189,
    "start_time": "2022-10-07T11:51:23.784Z"
   },
   {
    "duration": 895,
    "start_time": "2022-10-07T11:51:23.974Z"
   },
   {
    "duration": 68,
    "start_time": "2022-10-07T11:51:24.871Z"
   },
   {
    "duration": 283,
    "start_time": "2022-10-07T11:51:28.048Z"
   },
   {
    "duration": 243,
    "start_time": "2022-10-07T11:51:31.231Z"
   },
   {
    "duration": 949,
    "start_time": "2022-10-07T11:51:35.227Z"
   },
   {
    "duration": 181,
    "start_time": "2022-10-07T11:51:41.454Z"
   },
   {
    "duration": 95,
    "start_time": "2022-10-07T11:52:16.433Z"
   },
   {
    "duration": 230,
    "start_time": "2022-10-07T11:52:23.931Z"
   },
   {
    "duration": 611,
    "start_time": "2022-10-07T11:57:37.607Z"
   },
   {
    "duration": 638,
    "start_time": "2022-10-07T12:04:12.876Z"
   },
   {
    "duration": 944,
    "start_time": "2022-10-07T12:04:38.920Z"
   },
   {
    "duration": 952,
    "start_time": "2022-10-07T12:06:05.977Z"
   },
   {
    "duration": 1036,
    "start_time": "2022-10-07T12:06:35.514Z"
   },
   {
    "duration": 949,
    "start_time": "2022-10-07T12:06:51.134Z"
   },
   {
    "duration": 1045,
    "start_time": "2022-10-07T12:07:25.747Z"
   },
   {
    "duration": 68,
    "start_time": "2022-10-13T13:19:22.447Z"
   },
   {
    "duration": 610,
    "start_time": "2022-10-13T13:19:34.890Z"
   },
   {
    "duration": 99,
    "start_time": "2022-10-13T13:19:35.504Z"
   },
   {
    "duration": 105,
    "start_time": "2022-10-13T13:19:35.607Z"
   },
   {
    "duration": 600,
    "start_time": "2022-10-13T13:19:35.715Z"
   },
   {
    "duration": 701,
    "start_time": "2022-10-13T13:19:36.317Z"
   },
   {
    "duration": 1130,
    "start_time": "2022-10-13T13:19:37.020Z"
   },
   {
    "duration": 1053,
    "start_time": "2022-10-13T13:19:38.154Z"
   },
   {
    "duration": 1110,
    "start_time": "2022-10-13T13:19:39.209Z"
   },
   {
    "duration": 86,
    "start_time": "2022-10-13T13:19:40.321Z"
   },
   {
    "duration": 0,
    "start_time": "2022-10-13T13:19:40.409Z"
   },
   {
    "duration": 345,
    "start_time": "2022-10-13T13:19:43.398Z"
   },
   {
    "duration": 1216,
    "start_time": "2022-10-13T13:20:41.428Z"
   },
   {
    "duration": 960,
    "start_time": "2022-10-13T13:21:22.699Z"
   },
   {
    "duration": 277,
    "start_time": "2022-10-13T13:26:11.870Z"
   },
   {
    "duration": 136,
    "start_time": "2022-10-13T13:28:34.704Z"
   },
   {
    "duration": 126,
    "start_time": "2022-10-13T13:28:56.752Z"
   },
   {
    "duration": 43,
    "start_time": "2022-10-13T13:29:41.530Z"
   },
   {
    "duration": 27,
    "start_time": "2022-10-13T13:29:54.770Z"
   },
   {
    "duration": 252,
    "start_time": "2022-10-13T13:30:25.627Z"
   },
   {
    "duration": 649,
    "start_time": "2022-10-13T13:31:04.596Z"
   },
   {
    "duration": 381,
    "start_time": "2022-10-13T13:31:06.897Z"
   },
   {
    "duration": 29,
    "start_time": "2022-10-13T13:31:23.253Z"
   },
   {
    "duration": 1067,
    "start_time": "2022-10-13T13:50:31.902Z"
   },
   {
    "duration": 1144,
    "start_time": "2022-10-13T13:51:15.126Z"
   },
   {
    "duration": 157,
    "start_time": "2022-10-13T13:55:48.606Z"
   },
   {
    "duration": 29,
    "start_time": "2022-10-13T13:56:45.409Z"
   },
   {
    "duration": 245,
    "start_time": "2022-10-13T13:58:47.953Z"
   },
   {
    "duration": 138,
    "start_time": "2022-10-13T14:02:30.647Z"
   },
   {
    "duration": 79,
    "start_time": "2022-10-13T14:02:33.326Z"
   },
   {
    "duration": 90,
    "start_time": "2022-10-13T14:02:35.625Z"
   },
   {
    "duration": 513,
    "start_time": "2022-10-13T14:02:38.080Z"
   },
   {
    "duration": 374,
    "start_time": "2022-10-13T14:02:40.257Z"
   },
   {
    "duration": 262,
    "start_time": "2022-10-13T14:02:43.078Z"
   },
   {
    "duration": 1235,
    "start_time": "2022-10-13T14:02:45.002Z"
   },
   {
    "duration": 1031,
    "start_time": "2022-10-13T14:02:47.011Z"
   },
   {
    "duration": 1107,
    "start_time": "2022-10-13T14:02:48.237Z"
   },
   {
    "duration": 262,
    "start_time": "2022-10-13T14:02:51.983Z"
   },
   {
    "duration": 249,
    "start_time": "2022-10-13T14:03:26.506Z"
   },
   {
    "duration": 175,
    "start_time": "2022-10-13T14:11:20.391Z"
   },
   {
    "duration": 1217,
    "start_time": "2022-10-13T14:14:46.235Z"
   },
   {
    "duration": 183,
    "start_time": "2022-10-13T14:19:46.657Z"
   },
   {
    "duration": 171,
    "start_time": "2022-10-13T14:45:27.561Z"
   },
   {
    "duration": 26,
    "start_time": "2022-10-13T14:46:06.058Z"
   },
   {
    "duration": 186,
    "start_time": "2022-10-13T14:46:23.411Z"
   },
   {
    "duration": 14,
    "start_time": "2022-10-13T14:47:00.470Z"
   },
   {
    "duration": 182,
    "start_time": "2022-10-13T14:47:54.455Z"
   },
   {
    "duration": 174,
    "start_time": "2022-10-13T14:54:11.941Z"
   },
   {
    "duration": 60,
    "start_time": "2022-10-13T14:55:06.605Z"
   },
   {
    "duration": 448,
    "start_time": "2022-10-13T14:55:12.363Z"
   },
   {
    "duration": 885,
    "start_time": "2022-10-13T14:56:12.972Z"
   },
   {
    "duration": 91,
    "start_time": "2022-10-13T20:01:46.022Z"
   },
   {
    "duration": 7,
    "start_time": "2022-10-13T20:04:32.107Z"
   },
   {
    "duration": 27,
    "start_time": "2022-10-13T20:06:39.957Z"
   },
   {
    "duration": 35,
    "start_time": "2022-10-13T20:10:55.002Z"
   },
   {
    "duration": 35,
    "start_time": "2022-10-13T20:12:49.187Z"
   },
   {
    "duration": 21,
    "start_time": "2022-10-13T20:18:32.376Z"
   },
   {
    "duration": 22,
    "start_time": "2022-10-13T20:19:19.311Z"
   },
   {
    "duration": 24,
    "start_time": "2022-10-13T20:35:42.566Z"
   },
   {
    "duration": 46,
    "start_time": "2022-10-13T20:44:40.733Z"
   },
   {
    "duration": 85,
    "start_time": "2022-10-13T20:45:04.334Z"
   },
   {
    "duration": 110,
    "start_time": "2022-10-13T20:45:32.541Z"
   },
   {
    "duration": 346,
    "start_time": "2022-10-13T20:46:10.117Z"
   },
   {
    "duration": 345,
    "start_time": "2022-10-13T20:46:13.603Z"
   },
   {
    "duration": 460,
    "start_time": "2022-10-13T20:46:23.906Z"
   },
   {
    "duration": 343,
    "start_time": "2022-10-13T20:51:45.919Z"
   },
   {
    "duration": 340,
    "start_time": "2022-10-13T20:52:51.942Z"
   },
   {
    "duration": 352,
    "start_time": "2022-10-13T20:53:22.937Z"
   },
   {
    "duration": 437,
    "start_time": "2022-10-13T20:54:34.145Z"
   },
   {
    "duration": 353,
    "start_time": "2022-10-13T20:54:36.832Z"
   },
   {
    "duration": 355,
    "start_time": "2022-10-13T20:55:35.518Z"
   },
   {
    "duration": 353,
    "start_time": "2022-10-13T20:57:30.617Z"
   },
   {
    "duration": 511,
    "start_time": "2022-10-13T20:57:53.113Z"
   },
   {
    "duration": 92,
    "start_time": "2022-10-13T20:57:53.627Z"
   },
   {
    "duration": 99,
    "start_time": "2022-10-13T20:57:53.721Z"
   },
   {
    "duration": 519,
    "start_time": "2022-10-13T20:57:53.823Z"
   },
   {
    "duration": 477,
    "start_time": "2022-10-13T20:57:54.344Z"
   },
   {
    "duration": 1076,
    "start_time": "2022-10-13T20:57:54.822Z"
   },
   {
    "duration": 1003,
    "start_time": "2022-10-13T20:57:55.899Z"
   },
   {
    "duration": 1070,
    "start_time": "2022-10-13T20:57:56.904Z"
   },
   {
    "duration": 169,
    "start_time": "2022-10-13T20:57:57.975Z"
   },
   {
    "duration": 717,
    "start_time": "2022-10-13T20:57:58.146Z"
   },
   {
    "duration": 465,
    "start_time": "2022-10-13T20:57:58.865Z"
   },
   {
    "duration": 341,
    "start_time": "2022-10-13T20:57:59.399Z"
   },
   {
    "duration": 288,
    "start_time": "2022-10-13T20:58:02.541Z"
   },
   {
    "duration": 1040,
    "start_time": "2022-10-13T20:58:06.333Z"
   },
   {
    "duration": 1076,
    "start_time": "2022-10-13T20:58:12.671Z"
   },
   {
    "duration": 995,
    "start_time": "2022-10-13T20:58:17.714Z"
   },
   {
    "duration": 292,
    "start_time": "2022-10-13T20:58:22.400Z"
   },
   {
    "duration": 740,
    "start_time": "2022-10-13T20:58:46.621Z"
   },
   {
    "duration": 348,
    "start_time": "2022-10-13T20:59:00.034Z"
   },
   {
    "duration": 396,
    "start_time": "2022-10-13T20:59:57.421Z"
   },
   {
    "duration": 459,
    "start_time": "2022-10-13T21:00:11.713Z"
   },
   {
    "duration": 331,
    "start_time": "2022-10-13T21:02:34.106Z"
   },
   {
    "duration": 345,
    "start_time": "2022-10-13T21:02:41.040Z"
   },
   {
    "duration": 329,
    "start_time": "2022-10-13T21:03:05.573Z"
   },
   {
    "duration": 427,
    "start_time": "2022-10-13T21:04:14.052Z"
   },
   {
    "duration": 50,
    "start_time": "2022-10-14T19:03:32.730Z"
   },
   {
    "duration": 794,
    "start_time": "2022-10-14T19:03:53.972Z"
   },
   {
    "duration": 84,
    "start_time": "2022-10-14T19:03:58.553Z"
   },
   {
    "duration": 118,
    "start_time": "2022-10-14T19:04:00.567Z"
   },
   {
    "duration": 559,
    "start_time": "2022-10-14T19:04:03.981Z"
   },
   {
    "duration": 349,
    "start_time": "2022-10-14T19:04:06.306Z"
   },
   {
    "duration": 684,
    "start_time": "2022-10-14T19:04:10.041Z"
   },
   {
    "duration": 1053,
    "start_time": "2022-10-14T19:04:12.313Z"
   },
   {
    "duration": 1135,
    "start_time": "2022-10-14T19:04:14.045Z"
   },
   {
    "duration": 926,
    "start_time": "2022-10-14T19:04:15.182Z"
   },
   {
    "duration": 159,
    "start_time": "2022-10-14T19:04:16.980Z"
   },
   {
    "duration": 860,
    "start_time": "2022-10-14T19:04:18.557Z"
   },
   {
    "duration": 343,
    "start_time": "2022-10-14T19:04:21.814Z"
   },
   {
    "duration": 271,
    "start_time": "2022-10-14T19:04:25.281Z"
   },
   {
    "duration": 258,
    "start_time": "2022-10-14T19:04:41.051Z"
   },
   {
    "duration": 243,
    "start_time": "2022-10-14T19:05:10.123Z"
   },
   {
    "duration": 36,
    "start_time": "2022-10-14T19:48:27.341Z"
   },
   {
    "duration": 10,
    "start_time": "2022-10-14T19:48:41.416Z"
   },
   {
    "duration": 337,
    "start_time": "2022-10-14T19:51:15.616Z"
   },
   {
    "duration": 248,
    "start_time": "2022-10-14T19:51:27.551Z"
   },
   {
    "duration": 9,
    "start_time": "2022-10-14T19:51:44.714Z"
   },
   {
    "duration": 321,
    "start_time": "2022-10-14T19:55:07.410Z"
   },
   {
    "duration": 2760,
    "start_time": "2022-10-14T19:55:25.185Z"
   },
   {
    "duration": 394,
    "start_time": "2022-10-14T19:55:52.153Z"
   },
   {
    "duration": 164,
    "start_time": "2022-10-14T19:56:11.525Z"
   },
   {
    "duration": 738,
    "start_time": "2022-10-14T19:56:27.784Z"
   },
   {
    "duration": 654,
    "start_time": "2022-10-14T19:58:18.914Z"
   },
   {
    "duration": 809,
    "start_time": "2022-10-14T19:58:44.306Z"
   },
   {
    "duration": 496,
    "start_time": "2022-10-14T19:58:51.742Z"
   },
   {
    "duration": 493,
    "start_time": "2022-10-14T20:04:15.165Z"
   },
   {
    "duration": 10,
    "start_time": "2022-10-14T20:06:22.543Z"
   },
   {
    "duration": 545,
    "start_time": "2022-10-14T20:10:50.217Z"
   },
   {
    "duration": 353,
    "start_time": "2022-10-14T20:11:07.112Z"
   },
   {
    "duration": 506,
    "start_time": "2022-10-14T20:11:16.286Z"
   },
   {
    "duration": 408,
    "start_time": "2022-10-14T20:11:24.342Z"
   },
   {
    "duration": 9,
    "start_time": "2022-10-14T20:23:27.801Z"
   },
   {
    "duration": 130,
    "start_time": "2022-10-14T20:23:36.807Z"
   },
   {
    "duration": 381,
    "start_time": "2022-10-14T20:23:47.130Z"
   },
   {
    "duration": 431,
    "start_time": "2022-10-14T20:24:32.240Z"
   },
   {
    "duration": 421,
    "start_time": "2022-10-14T21:08:08.874Z"
   },
   {
    "duration": 382,
    "start_time": "2022-10-14T21:10:52.401Z"
   },
   {
    "duration": 731,
    "start_time": "2022-10-14T21:10:59.527Z"
   },
   {
    "duration": 477,
    "start_time": "2022-10-14T21:11:08.303Z"
   },
   {
    "duration": 766,
    "start_time": "2022-10-14T21:11:56.803Z"
   },
   {
    "duration": 3003,
    "start_time": "2022-10-14T21:12:21.606Z"
   },
   {
    "duration": 3190,
    "start_time": "2022-10-14T21:12:40.821Z"
   },
   {
    "duration": 3348,
    "start_time": "2022-10-14T21:13:13.570Z"
   },
   {
    "duration": 66,
    "start_time": "2022-10-14T21:13:34.185Z"
   },
   {
    "duration": 3585,
    "start_time": "2022-10-14T21:14:12.014Z"
   },
   {
    "duration": 197,
    "start_time": "2022-10-14T21:14:30.422Z"
   },
   {
    "duration": 9,
    "start_time": "2022-10-14T21:15:46.048Z"
   },
   {
    "duration": 1058,
    "start_time": "2022-10-14T21:16:09.650Z"
   },
   {
    "duration": 619,
    "start_time": "2022-10-14T21:16:53.311Z"
   },
   {
    "duration": 599,
    "start_time": "2022-10-14T21:17:04.651Z"
   },
   {
    "duration": 770,
    "start_time": "2022-10-14T21:17:10.610Z"
   },
   {
    "duration": 595,
    "start_time": "2022-10-14T21:17:22.355Z"
   },
   {
    "duration": 10,
    "start_time": "2022-10-14T21:17:46.024Z"
   },
   {
    "duration": 747,
    "start_time": "2022-10-14T21:19:22.625Z"
   },
   {
    "duration": 617,
    "start_time": "2022-10-14T21:19:40.383Z"
   },
   {
    "duration": 899,
    "start_time": "2022-10-14T21:20:26.333Z"
   },
   {
    "duration": 933,
    "start_time": "2022-10-14T21:34:31.603Z"
   },
   {
    "duration": 885,
    "start_time": "2022-10-14T21:34:59.129Z"
   },
   {
    "duration": 619,
    "start_time": "2022-10-14T21:35:45.393Z"
   },
   {
    "duration": 1317,
    "start_time": "2022-10-14T21:36:04.734Z"
   },
   {
    "duration": 858,
    "start_time": "2022-10-14T21:36:13.977Z"
   },
   {
    "duration": 655,
    "start_time": "2022-10-14T21:37:11.353Z"
   },
   {
    "duration": 795,
    "start_time": "2022-10-14T21:37:20.443Z"
   },
   {
    "duration": 1124,
    "start_time": "2022-10-14T21:38:45.125Z"
   },
   {
    "duration": 1069,
    "start_time": "2022-10-14T21:39:03.548Z"
   },
   {
    "duration": 1179,
    "start_time": "2022-10-14T21:39:17.212Z"
   },
   {
    "duration": 1812,
    "start_time": "2022-10-14T21:39:27.830Z"
   },
   {
    "duration": 937,
    "start_time": "2022-10-14T21:39:42.243Z"
   },
   {
    "duration": 1066,
    "start_time": "2022-10-15T07:26:10.513Z"
   },
   {
    "duration": 0,
    "start_time": "2022-10-15T07:32:25.514Z"
   },
   {
    "duration": 15879,
    "start_time": "2022-10-15T07:32:37.554Z"
   },
   {
    "duration": 1763,
    "start_time": "2022-10-15T07:34:57.589Z"
   },
   {
    "duration": 1479,
    "start_time": "2022-10-15T07:35:23.602Z"
   },
   {
    "duration": 1671,
    "start_time": "2022-10-15T07:36:56.436Z"
   },
   {
    "duration": 866,
    "start_time": "2022-10-15T07:37:38.897Z"
   },
   {
    "duration": 995,
    "start_time": "2022-10-15T07:38:13.281Z"
   },
   {
    "duration": 887,
    "start_time": "2022-10-15T07:38:22.094Z"
   },
   {
    "duration": 1096,
    "start_time": "2022-10-15T07:40:16.439Z"
   },
   {
    "duration": 2048,
    "start_time": "2022-10-15T07:40:37.193Z"
   },
   {
    "duration": 1006,
    "start_time": "2022-10-15T07:41:52.127Z"
   },
   {
    "duration": 73,
    "start_time": "2022-10-15T07:43:02.543Z"
   },
   {
    "duration": 1006,
    "start_time": "2022-10-15T07:43:15.073Z"
   },
   {
    "duration": 992,
    "start_time": "2022-10-15T07:43:29.409Z"
   },
   {
    "duration": 1823,
    "start_time": "2022-10-15T07:43:41.886Z"
   },
   {
    "duration": 2209,
    "start_time": "2022-10-15T07:45:41.907Z"
   },
   {
    "duration": 1180,
    "start_time": "2022-10-15T07:45:56.521Z"
   },
   {
    "duration": 2829,
    "start_time": "2022-10-15T08:15:58.078Z"
   },
   {
    "duration": 755,
    "start_time": "2022-10-15T08:16:41.123Z"
   },
   {
    "duration": 81,
    "start_time": "2022-10-15T08:16:41.881Z"
   },
   {
    "duration": 88,
    "start_time": "2022-10-15T08:16:41.964Z"
   },
   {
    "duration": 474,
    "start_time": "2022-10-15T08:16:42.054Z"
   },
   {
    "duration": 274,
    "start_time": "2022-10-15T08:16:42.530Z"
   },
   {
    "duration": 993,
    "start_time": "2022-10-15T08:16:42.806Z"
   },
   {
    "duration": 997,
    "start_time": "2022-10-15T08:16:43.801Z"
   },
   {
    "duration": 973,
    "start_time": "2022-10-15T08:16:44.800Z"
   },
   {
    "duration": 164,
    "start_time": "2022-10-15T08:16:45.775Z"
   },
   {
    "duration": 685,
    "start_time": "2022-10-15T08:16:45.942Z"
   },
   {
    "duration": 430,
    "start_time": "2022-10-15T08:16:46.629Z"
   },
   {
    "duration": 25622,
    "start_time": "2022-10-15T08:16:47.061Z"
   },
   {
    "duration": 313,
    "start_time": "2022-10-15T08:17:19.053Z"
   },
   {
    "duration": 267,
    "start_time": "2022-10-15T08:17:22.657Z"
   },
   {
    "duration": 1103,
    "start_time": "2022-10-15T08:17:26.028Z"
   },
   {
    "duration": 934,
    "start_time": "2022-10-15T08:17:31.075Z"
   },
   {
    "duration": 963,
    "start_time": "2022-10-15T08:17:35.844Z"
   },
   {
    "duration": 152,
    "start_time": "2022-10-15T08:17:41.166Z"
   },
   {
    "duration": 699,
    "start_time": "2022-10-15T08:17:44.029Z"
   },
   {
    "duration": 316,
    "start_time": "2022-10-15T08:17:48.696Z"
   },
   {
    "duration": 25618,
    "start_time": "2022-10-15T08:17:52.279Z"
   },
   {
    "duration": 4445,
    "start_time": "2022-10-15T08:19:25.177Z"
   },
   {
    "duration": 2694,
    "start_time": "2022-10-15T08:20:47.905Z"
   },
   {
    "duration": 1861,
    "start_time": "2022-10-15T08:27:16.305Z"
   },
   {
    "duration": 1778,
    "start_time": "2022-10-15T08:28:23.785Z"
   },
   {
    "duration": 2818,
    "start_time": "2022-10-15T08:28:55.441Z"
   },
   {
    "duration": 2641,
    "start_time": "2022-10-15T08:33:14.389Z"
   },
   {
    "duration": 6524,
    "start_time": "2022-10-15T08:34:17.543Z"
   },
   {
    "duration": 2898,
    "start_time": "2022-10-15T08:35:13.478Z"
   },
   {
    "duration": 2647,
    "start_time": "2022-10-15T08:35:51.762Z"
   },
   {
    "duration": 2715,
    "start_time": "2022-10-15T08:40:18.884Z"
   },
   {
    "duration": 2826,
    "start_time": "2022-10-15T08:43:07.705Z"
   },
   {
    "duration": 2965,
    "start_time": "2022-10-15T09:01:00.654Z"
   },
   {
    "duration": 3062,
    "start_time": "2022-10-15T09:02:09.892Z"
   },
   {
    "duration": 2984,
    "start_time": "2022-10-15T09:02:50.682Z"
   },
   {
    "duration": 3129,
    "start_time": "2022-10-15T09:03:56.344Z"
   },
   {
    "duration": 3283,
    "start_time": "2022-10-15T09:23:18.875Z"
   },
   {
    "duration": 2988,
    "start_time": "2022-10-15T09:23:54.021Z"
   },
   {
    "duration": 3144,
    "start_time": "2022-10-15T09:24:40.151Z"
   },
   {
    "duration": 2933,
    "start_time": "2022-10-15T09:26:42.120Z"
   },
   {
    "duration": 2790,
    "start_time": "2022-10-15T09:27:08.746Z"
   },
   {
    "duration": 3065,
    "start_time": "2022-10-15T09:29:58.044Z"
   },
   {
    "duration": 2938,
    "start_time": "2022-10-15T09:30:45.359Z"
   },
   {
    "duration": 2933,
    "start_time": "2022-10-15T09:31:30.635Z"
   },
   {
    "duration": 3031,
    "start_time": "2022-10-15T09:32:08.688Z"
   },
   {
    "duration": 2980,
    "start_time": "2022-10-15T09:33:17.493Z"
   },
   {
    "duration": 3010,
    "start_time": "2022-10-15T09:34:34.672Z"
   },
   {
    "duration": 2780,
    "start_time": "2022-10-15T09:36:06.929Z"
   },
   {
    "duration": 2906,
    "start_time": "2022-10-15T09:51:29.973Z"
   },
   {
    "duration": 2680,
    "start_time": "2022-10-15T09:51:53.520Z"
   },
   {
    "duration": 2550,
    "start_time": "2022-10-15T10:33:03.338Z"
   },
   {
    "duration": 2852,
    "start_time": "2022-10-15T10:45:54.986Z"
   },
   {
    "duration": 71,
    "start_time": "2022-10-15T10:51:13.002Z"
   },
   {
    "duration": 319,
    "start_time": "2022-10-15T10:51:22.588Z"
   },
   {
    "duration": 6,
    "start_time": "2022-10-15T10:52:02.695Z"
   },
   {
    "duration": 6,
    "start_time": "2022-10-15T10:52:12.628Z"
   },
   {
    "duration": 5,
    "start_time": "2022-10-15T10:52:37.552Z"
   },
   {
    "duration": 5,
    "start_time": "2022-10-15T10:52:41.196Z"
   },
   {
    "duration": 320,
    "start_time": "2022-10-15T10:54:05.885Z"
   },
   {
    "duration": 271,
    "start_time": "2022-10-15T10:55:25.999Z"
   },
   {
    "duration": 427,
    "start_time": "2022-10-15T10:57:01.163Z"
   },
   {
    "duration": 332,
    "start_time": "2022-10-15T10:58:58.313Z"
   },
   {
    "duration": 3,
    "start_time": "2022-10-15T11:31:59.714Z"
   },
   {
    "duration": 103,
    "start_time": "2022-10-15T12:35:32.214Z"
   },
   {
    "duration": 159,
    "start_time": "2022-10-15T12:35:40.944Z"
   },
   {
    "duration": 201,
    "start_time": "2022-10-15T12:37:27.665Z"
   },
   {
    "duration": 274,
    "start_time": "2022-10-15T12:38:45.793Z"
   },
   {
    "duration": 200,
    "start_time": "2022-10-15T12:39:29.873Z"
   },
   {
    "duration": 529,
    "start_time": "2022-10-15T12:41:01.311Z"
   },
   {
    "duration": 461,
    "start_time": "2022-10-15T12:41:22.421Z"
   },
   {
    "duration": 587,
    "start_time": "2022-10-15T12:42:01.951Z"
   },
   {
    "duration": 754,
    "start_time": "2022-10-15T12:43:19.868Z"
   },
   {
    "duration": 749,
    "start_time": "2022-10-15T12:43:58.624Z"
   },
   {
    "duration": 752,
    "start_time": "2022-10-15T12:44:53.881Z"
   },
   {
    "duration": 881,
    "start_time": "2022-10-15T12:45:25.101Z"
   },
   {
    "duration": 1031,
    "start_time": "2022-10-15T12:45:55.321Z"
   },
   {
    "duration": 828,
    "start_time": "2022-10-15T12:47:23.773Z"
   },
   {
    "duration": 797,
    "start_time": "2022-10-15T12:48:23.444Z"
   },
   {
    "duration": 864,
    "start_time": "2022-10-15T12:48:40.918Z"
   },
   {
    "duration": 1245,
    "start_time": "2022-10-15T12:50:08.960Z"
   },
   {
    "duration": 1153,
    "start_time": "2022-10-15T12:50:32.473Z"
   },
   {
    "duration": 1337,
    "start_time": "2022-10-15T13:04:50.742Z"
   },
   {
    "duration": 1546,
    "start_time": "2022-10-15T13:05:06.928Z"
   },
   {
    "duration": 9,
    "start_time": "2022-10-15T14:10:32.961Z"
   },
   {
    "duration": 19,
    "start_time": "2022-10-15T14:20:01.723Z"
   },
   {
    "duration": 22,
    "start_time": "2022-10-15T14:42:38.817Z"
   },
   {
    "duration": 4,
    "start_time": "2022-10-15T14:43:09.838Z"
   },
   {
    "duration": 79,
    "start_time": "2022-10-15T14:50:28.836Z"
   },
   {
    "duration": 100,
    "start_time": "2022-10-15T14:50:42.898Z"
   },
   {
    "duration": 244,
    "start_time": "2022-10-15T14:50:51.328Z"
   },
   {
    "duration": 196,
    "start_time": "2022-10-15T14:51:00.722Z"
   },
   {
    "duration": 25,
    "start_time": "2022-10-15T14:51:27.638Z"
   },
   {
    "duration": 33,
    "start_time": "2022-10-15T14:52:05.221Z"
   },
   {
    "duration": 33,
    "start_time": "2022-10-15T14:53:01.128Z"
   },
   {
    "duration": 34,
    "start_time": "2022-10-15T14:53:30.860Z"
   },
   {
    "duration": 76,
    "start_time": "2022-10-15T15:00:20.924Z"
   },
   {
    "duration": 34,
    "start_time": "2022-10-15T15:00:38.224Z"
   },
   {
    "duration": 12,
    "start_time": "2022-10-15T15:21:54.504Z"
   },
   {
    "duration": 21,
    "start_time": "2022-10-15T15:38:55.908Z"
   },
   {
    "duration": 19,
    "start_time": "2022-10-15T15:39:09.454Z"
   },
   {
    "duration": 23,
    "start_time": "2022-10-15T15:39:21.534Z"
   },
   {
    "duration": 1106,
    "start_time": "2022-10-15T15:41:44.128Z"
   },
   {
    "duration": 13,
    "start_time": "2022-10-15T15:41:58.576Z"
   },
   {
    "duration": 15,
    "start_time": "2022-10-15T15:44:18.808Z"
   },
   {
    "duration": 12,
    "start_time": "2022-10-15T15:44:20.925Z"
   },
   {
    "duration": 128,
    "start_time": "2022-10-15T15:47:26.736Z"
   },
   {
    "duration": 277,
    "start_time": "2022-10-15T15:48:17.125Z"
   },
   {
    "duration": 229,
    "start_time": "2022-10-15T15:48:52.001Z"
   },
   {
    "duration": 169,
    "start_time": "2022-10-15T16:45:34.283Z"
   },
   {
    "duration": 159,
    "start_time": "2022-10-15T16:46:59.793Z"
   },
   {
    "duration": 791,
    "start_time": "2022-10-15T17:39:02.996Z"
   },
   {
    "duration": 76,
    "start_time": "2022-10-15T17:39:03.789Z"
   },
   {
    "duration": 100,
    "start_time": "2022-10-15T17:39:03.866Z"
   },
   {
    "duration": 492,
    "start_time": "2022-10-15T17:39:03.968Z"
   },
   {
    "duration": 318,
    "start_time": "2022-10-15T17:39:04.462Z"
   },
   {
    "duration": 1078,
    "start_time": "2022-10-15T17:39:04.782Z"
   },
   {
    "duration": 979,
    "start_time": "2022-10-15T17:39:05.862Z"
   },
   {
    "duration": 995,
    "start_time": "2022-10-15T17:39:06.843Z"
   },
   {
    "duration": 162,
    "start_time": "2022-10-15T17:39:07.841Z"
   },
   {
    "duration": 736,
    "start_time": "2022-10-15T17:39:08.006Z"
   },
   {
    "duration": 423,
    "start_time": "2022-10-15T17:39:08.744Z"
   },
   {
    "duration": 2408,
    "start_time": "2022-10-15T17:39:09.169Z"
   },
   {
    "duration": 306,
    "start_time": "2022-10-15T17:39:11.579Z"
   },
   {
    "duration": 1248,
    "start_time": "2022-10-15T17:39:11.887Z"
   },
   {
    "duration": 23,
    "start_time": "2022-10-15T17:39:13.137Z"
   },
   {
    "duration": 188,
    "start_time": "2022-10-15T17:39:13.161Z"
   },
   {
    "duration": 128,
    "start_time": "2022-10-15T17:40:16.782Z"
   },
   {
    "duration": 65,
    "start_time": "2022-10-15T17:40:19.622Z"
   },
   {
    "duration": 83,
    "start_time": "2022-10-15T17:40:21.753Z"
   },
   {
    "duration": 425,
    "start_time": "2022-10-15T17:40:25.212Z"
   },
   {
    "duration": 329,
    "start_time": "2022-10-15T17:40:30.324Z"
   },
   {
    "duration": 315,
    "start_time": "2022-10-15T17:40:36.571Z"
   },
   {
    "duration": 926,
    "start_time": "2022-10-15T17:40:38.488Z"
   },
   {
    "duration": 986,
    "start_time": "2022-10-15T17:40:40.058Z"
   },
   {
    "duration": 885,
    "start_time": "2022-10-15T17:40:41.301Z"
   },
   {
    "duration": 202,
    "start_time": "2022-10-15T17:40:48.148Z"
   },
   {
    "duration": 695,
    "start_time": "2022-10-16T02:22:48.805Z"
   },
   {
    "duration": 4,
    "start_time": "2022-10-16T02:22:49.503Z"
   },
   {
    "duration": 222,
    "start_time": "2022-10-16T02:22:49.509Z"
   },
   {
    "duration": 78,
    "start_time": "2022-10-16T02:22:49.732Z"
   },
   {
    "duration": 83,
    "start_time": "2022-10-16T02:22:49.812Z"
   },
   {
    "duration": 414,
    "start_time": "2022-10-16T02:22:49.897Z"
   },
   {
    "duration": 11,
    "start_time": "2022-10-16T02:22:50.313Z"
   },
   {
    "duration": 303,
    "start_time": "2022-10-16T02:22:50.326Z"
   },
   {
    "duration": 862,
    "start_time": "2022-10-16T02:22:50.631Z"
   },
   {
    "duration": 1209,
    "start_time": "2022-10-16T02:22:51.494Z"
   },
   {
    "duration": 1624,
    "start_time": "2022-10-16T02:22:52.704Z"
   },
   {
    "duration": 412,
    "start_time": "2022-10-16T02:22:54.384Z"
   },
   {
    "duration": 1796,
    "start_time": "2022-10-16T02:22:54.798Z"
   },
   {
    "duration": 494,
    "start_time": "2022-10-16T02:22:56.595Z"
   },
   {
    "duration": 7,
    "start_time": "2022-10-16T02:22:57.090Z"
   },
   {
    "duration": 692,
    "start_time": "2022-10-16T02:22:57.099Z"
   },
   {
    "duration": 524,
    "start_time": "2022-10-16T02:22:57.793Z"
   },
   {
    "duration": 66,
    "start_time": "2022-10-16T02:22:58.319Z"
   },
   {
    "duration": 14,
    "start_time": "2022-10-16T02:22:58.386Z"
   },
   {
    "duration": 596,
    "start_time": "2022-10-16T02:22:58.402Z"
   },
   {
    "duration": 4800,
    "start_time": "2022-10-16T02:22:59.000Z"
   },
   {
    "duration": 505,
    "start_time": "2022-10-16T02:23:03.802Z"
   },
   {
    "duration": 2084,
    "start_time": "2022-10-16T02:23:04.309Z"
   },
   {
    "duration": 22,
    "start_time": "2022-10-16T02:23:06.396Z"
   },
   {
    "duration": 500,
    "start_time": "2022-10-16T02:23:06.420Z"
   },
   {
    "duration": 673,
    "start_time": "2022-10-16T02:47:07.122Z"
   },
   {
    "duration": 5,
    "start_time": "2022-10-16T02:47:07.796Z"
   },
   {
    "duration": 223,
    "start_time": "2022-10-16T02:47:07.802Z"
   },
   {
    "duration": 72,
    "start_time": "2022-10-16T02:47:08.027Z"
   },
   {
    "duration": 71,
    "start_time": "2022-10-16T02:47:08.100Z"
   },
   {
    "duration": 400,
    "start_time": "2022-10-16T02:47:08.172Z"
   },
   {
    "duration": 19,
    "start_time": "2022-10-16T02:47:08.574Z"
   },
   {
    "duration": 272,
    "start_time": "2022-10-16T02:47:08.595Z"
   },
   {
    "duration": 872,
    "start_time": "2022-10-16T02:47:08.869Z"
   },
   {
    "duration": 887,
    "start_time": "2022-10-16T02:47:09.743Z"
   },
   {
    "duration": 786,
    "start_time": "2022-10-16T02:47:10.632Z"
   },
   {
    "duration": 148,
    "start_time": "2022-10-16T02:47:11.419Z"
   },
   {
    "duration": 594,
    "start_time": "2022-10-16T02:47:11.569Z"
   },
   {
    "duration": 148,
    "start_time": "2022-10-16T02:47:12.165Z"
   },
   {
    "duration": 6,
    "start_time": "2022-10-16T02:47:12.315Z"
   },
   {
    "duration": 256,
    "start_time": "2022-10-16T02:47:12.323Z"
   },
   {
    "duration": 266,
    "start_time": "2022-10-16T02:47:12.584Z"
   },
   {
    "duration": 12,
    "start_time": "2022-10-16T02:47:12.852Z"
   },
   {
    "duration": 25,
    "start_time": "2022-10-16T02:47:12.865Z"
   },
   {
    "duration": 305,
    "start_time": "2022-10-16T02:47:12.891Z"
   },
   {
    "duration": 2206,
    "start_time": "2022-10-16T02:47:13.198Z"
   },
   {
    "duration": 252,
    "start_time": "2022-10-16T02:47:15.406Z"
   },
   {
    "duration": 985,
    "start_time": "2022-10-16T02:47:15.660Z"
   },
   {
    "duration": 20,
    "start_time": "2022-10-16T02:47:16.646Z"
   },
   {
    "duration": 253,
    "start_time": "2022-10-16T02:47:16.668Z"
   },
   {
    "duration": 738,
    "start_time": "2022-10-16T03:49:19.250Z"
   },
   {
    "duration": 118,
    "start_time": "2022-10-16T03:49:21.234Z"
   },
   {
    "duration": 39,
    "start_time": "2022-10-16T03:49:22.750Z"
   },
   {
    "duration": 24,
    "start_time": "2022-10-16T03:49:33.804Z"
   },
   {
    "duration": 1790,
    "start_time": "2022-10-16T03:50:25.870Z"
   },
   {
    "duration": 1849,
    "start_time": "2022-10-16T03:52:19.085Z"
   },
   {
    "duration": 74,
    "start_time": "2022-10-16T04:02:05.051Z"
   },
   {
    "duration": 3,
    "start_time": "2022-10-16T04:02:19.196Z"
   },
   {
    "duration": 458,
    "start_time": "2022-10-16T04:02:32.341Z"
   },
   {
    "duration": 353,
    "start_time": "2022-10-16T04:02:38.519Z"
   },
   {
    "duration": 441,
    "start_time": "2022-10-16T04:02:41.574Z"
   },
   {
    "duration": 324,
    "start_time": "2022-10-16T04:02:44.357Z"
   },
   {
    "duration": 622,
    "start_time": "2022-10-16T04:02:52.803Z"
   },
   {
    "duration": 75,
    "start_time": "2022-10-16T04:02:53.427Z"
   },
   {
    "duration": 30,
    "start_time": "2022-10-16T04:02:53.504Z"
   },
   {
    "duration": 1836,
    "start_time": "2022-10-16T04:02:53.536Z"
   },
   {
    "duration": 4,
    "start_time": "2022-10-16T04:02:55.374Z"
   },
   {
    "duration": 218,
    "start_time": "2022-10-16T04:02:55.379Z"
   },
   {
    "duration": 85,
    "start_time": "2022-10-16T04:02:55.600Z"
   },
   {
    "duration": 96,
    "start_time": "2022-10-16T04:02:55.686Z"
   },
   {
    "duration": 443,
    "start_time": "2022-10-16T04:02:55.784Z"
   },
   {
    "duration": 12,
    "start_time": "2022-10-16T04:02:56.230Z"
   },
   {
    "duration": 269,
    "start_time": "2022-10-16T04:02:56.244Z"
   },
   {
    "duration": 982,
    "start_time": "2022-10-16T04:02:56.515Z"
   },
   {
    "duration": 910,
    "start_time": "2022-10-16T04:02:57.499Z"
   },
   {
    "duration": 1061,
    "start_time": "2022-10-16T04:02:58.411Z"
   },
   {
    "duration": 155,
    "start_time": "2022-10-16T04:02:59.474Z"
   },
   {
    "duration": 665,
    "start_time": "2022-10-16T04:02:59.630Z"
   },
   {
    "duration": 54,
    "start_time": "2022-10-16T04:03:00.297Z"
   },
   {
    "duration": 8,
    "start_time": "2022-10-16T04:03:00.353Z"
   },
   {
    "duration": 297,
    "start_time": "2022-10-16T04:03:00.363Z"
   },
   {
    "duration": 427,
    "start_time": "2022-10-16T04:03:00.662Z"
   },
   {
    "duration": 15,
    "start_time": "2022-10-16T04:03:01.092Z"
   },
   {
    "duration": 27,
    "start_time": "2022-10-16T04:03:01.109Z"
   },
   {
    "duration": 327,
    "start_time": "2022-10-16T04:03:01.138Z"
   },
   {
    "duration": 2485,
    "start_time": "2022-10-16T04:03:01.466Z"
   },
   {
    "duration": 265,
    "start_time": "2022-10-16T04:03:03.953Z"
   },
   {
    "duration": 1061,
    "start_time": "2022-10-16T04:03:04.219Z"
   },
   {
    "duration": 20,
    "start_time": "2022-10-16T04:03:05.282Z"
   },
   {
    "duration": 160,
    "start_time": "2022-10-16T04:03:05.305Z"
   },
   {
    "duration": 380,
    "start_time": "2022-10-16T04:06:07.622Z"
   },
   {
    "duration": 291,
    "start_time": "2022-10-16T04:06:10.141Z"
   },
   {
    "duration": 710,
    "start_time": "2022-10-16T04:06:18.944Z"
   },
   {
    "duration": 79,
    "start_time": "2022-10-16T04:06:19.656Z"
   },
   {
    "duration": 26,
    "start_time": "2022-10-16T04:06:19.736Z"
   },
   {
    "duration": 1763,
    "start_time": "2022-10-16T04:06:19.765Z"
   },
   {
    "duration": 4,
    "start_time": "2022-10-16T04:06:21.530Z"
   },
   {
    "duration": 215,
    "start_time": "2022-10-16T04:06:21.535Z"
   },
   {
    "duration": 63,
    "start_time": "2022-10-16T04:06:21.751Z"
   },
   {
    "duration": 77,
    "start_time": "2022-10-16T04:06:21.822Z"
   },
   {
    "duration": 435,
    "start_time": "2022-10-16T04:06:21.901Z"
   },
   {
    "duration": 11,
    "start_time": "2022-10-16T04:06:22.338Z"
   },
   {
    "duration": 261,
    "start_time": "2022-10-16T04:06:22.350Z"
   },
   {
    "duration": 950,
    "start_time": "2022-10-16T04:06:22.621Z"
   },
   {
    "duration": 851,
    "start_time": "2022-10-16T04:06:23.573Z"
   },
   {
    "duration": 931,
    "start_time": "2022-10-16T04:06:24.426Z"
   },
   {
    "duration": 151,
    "start_time": "2022-10-16T04:06:25.358Z"
   },
   {
    "duration": 658,
    "start_time": "2022-10-16T04:06:25.511Z"
   },
   {
    "duration": 52,
    "start_time": "2022-10-16T04:06:26.171Z"
   },
   {
    "duration": 7,
    "start_time": "2022-10-16T04:06:26.225Z"
   },
   {
    "duration": 312,
    "start_time": "2022-10-16T04:06:26.233Z"
   },
   {
    "duration": 390,
    "start_time": "2022-10-16T04:06:26.546Z"
   },
   {
    "duration": 12,
    "start_time": "2022-10-16T04:06:26.938Z"
   },
   {
    "duration": 15,
    "start_time": "2022-10-16T04:06:26.951Z"
   },
   {
    "duration": 327,
    "start_time": "2022-10-16T04:06:26.967Z"
   },
   {
    "duration": 2486,
    "start_time": "2022-10-16T04:06:27.296Z"
   },
   {
    "duration": 263,
    "start_time": "2022-10-16T04:06:29.783Z"
   },
   {
    "duration": 1066,
    "start_time": "2022-10-16T04:06:30.048Z"
   },
   {
    "duration": 23,
    "start_time": "2022-10-16T04:06:31.116Z"
   },
   {
    "duration": 161,
    "start_time": "2022-10-16T04:06:31.141Z"
   },
   {
    "duration": 74,
    "start_time": "2022-10-16T04:08:45.795Z"
   },
   {
    "duration": 419,
    "start_time": "2022-10-16T04:09:10.085Z"
   },
   {
    "duration": 553,
    "start_time": "2022-10-16T04:09:17.981Z"
   },
   {
    "duration": 76,
    "start_time": "2022-10-16T04:09:18.536Z"
   },
   {
    "duration": 27,
    "start_time": "2022-10-16T04:09:18.613Z"
   },
   {
    "duration": 1854,
    "start_time": "2022-10-16T04:09:18.642Z"
   },
   {
    "duration": 6,
    "start_time": "2022-10-16T04:09:20.498Z"
   },
   {
    "duration": 228,
    "start_time": "2022-10-16T04:09:20.506Z"
   },
   {
    "duration": 64,
    "start_time": "2022-10-16T04:09:20.737Z"
   },
   {
    "duration": 92,
    "start_time": "2022-10-16T04:09:20.802Z"
   },
   {
    "duration": 503,
    "start_time": "2022-10-16T04:09:20.896Z"
   },
   {
    "duration": 26,
    "start_time": "2022-10-16T04:09:21.401Z"
   },
   {
    "duration": 251,
    "start_time": "2022-10-16T04:09:21.429Z"
   },
   {
    "duration": 1005,
    "start_time": "2022-10-16T04:09:21.682Z"
   },
   {
    "duration": 878,
    "start_time": "2022-10-16T04:09:22.688Z"
   },
   {
    "duration": 938,
    "start_time": "2022-10-16T04:09:23.568Z"
   },
   {
    "duration": 153,
    "start_time": "2022-10-16T04:09:24.508Z"
   },
   {
    "duration": 647,
    "start_time": "2022-10-16T04:09:24.663Z"
   },
   {
    "duration": 51,
    "start_time": "2022-10-16T04:09:25.312Z"
   },
   {
    "duration": 8,
    "start_time": "2022-10-16T04:09:25.365Z"
   },
   {
    "duration": 278,
    "start_time": "2022-10-16T04:09:25.374Z"
   },
   {
    "duration": 401,
    "start_time": "2022-10-16T04:09:25.654Z"
   },
   {
    "duration": 13,
    "start_time": "2022-10-16T04:09:26.057Z"
   },
   {
    "duration": 14,
    "start_time": "2022-10-16T04:09:26.071Z"
   },
   {
    "duration": 323,
    "start_time": "2022-10-16T04:09:26.087Z"
   },
   {
    "duration": 2476,
    "start_time": "2022-10-16T04:09:26.412Z"
   },
   {
    "duration": 321,
    "start_time": "2022-10-16T04:09:28.891Z"
   },
   {
    "duration": 1069,
    "start_time": "2022-10-16T04:09:29.214Z"
   },
   {
    "duration": 21,
    "start_time": "2022-10-16T04:09:30.284Z"
   },
   {
    "duration": 169,
    "start_time": "2022-10-16T04:09:30.308Z"
   },
   {
    "duration": 16,
    "start_time": "2022-10-16T04:15:14.305Z"
   },
   {
    "duration": 18,
    "start_time": "2022-10-16T04:15:16.651Z"
   },
   {
    "duration": 554,
    "start_time": "2022-10-16T04:15:26.580Z"
   },
   {
    "duration": 79,
    "start_time": "2022-10-16T04:15:27.135Z"
   },
   {
    "duration": 26,
    "start_time": "2022-10-16T04:15:27.215Z"
   },
   {
    "duration": 1843,
    "start_time": "2022-10-16T04:15:27.242Z"
   },
   {
    "duration": 5,
    "start_time": "2022-10-16T04:15:29.087Z"
   },
   {
    "duration": 215,
    "start_time": "2022-10-16T04:15:29.094Z"
   },
   {
    "duration": 69,
    "start_time": "2022-10-16T04:15:29.311Z"
   },
   {
    "duration": 86,
    "start_time": "2022-10-16T04:15:29.381Z"
   },
   {
    "duration": 16,
    "start_time": "2022-10-16T04:15:29.469Z"
   },
   {
    "duration": 11,
    "start_time": "2022-10-16T04:15:29.486Z"
   },
   {
    "duration": 245,
    "start_time": "2022-10-16T04:15:29.498Z"
   },
   {
    "duration": 973,
    "start_time": "2022-10-16T04:15:29.745Z"
   },
   {
    "duration": 891,
    "start_time": "2022-10-16T04:15:30.721Z"
   },
   {
    "duration": 849,
    "start_time": "2022-10-16T04:15:31.615Z"
   },
   {
    "duration": 274,
    "start_time": "2022-10-16T04:15:32.466Z"
   },
   {
    "duration": 645,
    "start_time": "2022-10-16T04:15:32.742Z"
   },
   {
    "duration": 53,
    "start_time": "2022-10-16T04:15:33.389Z"
   },
   {
    "duration": 7,
    "start_time": "2022-10-16T04:15:33.444Z"
   },
   {
    "duration": 272,
    "start_time": "2022-10-16T04:15:33.452Z"
   },
   {
    "duration": 275,
    "start_time": "2022-10-16T04:15:33.725Z"
   },
   {
    "duration": 24,
    "start_time": "2022-10-16T04:15:34.002Z"
   },
   {
    "duration": 118,
    "start_time": "2022-10-16T04:15:34.027Z"
   },
   {
    "duration": 489,
    "start_time": "2022-10-16T04:15:34.147Z"
   },
   {
    "duration": 3085,
    "start_time": "2022-10-16T04:15:34.637Z"
   },
   {
    "duration": 349,
    "start_time": "2022-10-16T04:15:37.724Z"
   },
   {
    "duration": 1086,
    "start_time": "2022-10-16T04:15:38.075Z"
   },
   {
    "duration": 21,
    "start_time": "2022-10-16T04:15:39.163Z"
   },
   {
    "duration": 204,
    "start_time": "2022-10-16T04:15:39.185Z"
   },
   {
    "duration": 16,
    "start_time": "2022-10-16T04:15:54.199Z"
   },
   {
    "duration": 397,
    "start_time": "2022-10-16T04:16:09.552Z"
   },
   {
    "duration": 382,
    "start_time": "2022-10-16T04:16:30.421Z"
   },
   {
    "duration": 375,
    "start_time": "2022-10-16T04:16:38.733Z"
   },
   {
    "duration": 293,
    "start_time": "2022-10-16T04:16:47.641Z"
   },
   {
    "duration": 585,
    "start_time": "2022-10-16T04:16:54.287Z"
   },
   {
    "duration": 80,
    "start_time": "2022-10-16T04:16:54.874Z"
   },
   {
    "duration": 27,
    "start_time": "2022-10-16T04:16:54.956Z"
   },
   {
    "duration": 1815,
    "start_time": "2022-10-16T04:16:54.985Z"
   },
   {
    "duration": 5,
    "start_time": "2022-10-16T04:16:56.803Z"
   },
   {
    "duration": 227,
    "start_time": "2022-10-16T04:16:56.810Z"
   },
   {
    "duration": 69,
    "start_time": "2022-10-16T04:16:57.039Z"
   },
   {
    "duration": 89,
    "start_time": "2022-10-16T04:16:57.110Z"
   },
   {
    "duration": 447,
    "start_time": "2022-10-16T04:16:57.200Z"
   },
   {
    "duration": 11,
    "start_time": "2022-10-16T04:16:57.649Z"
   },
   {
    "duration": 248,
    "start_time": "2022-10-16T04:16:57.661Z"
   },
   {
    "duration": 971,
    "start_time": "2022-10-16T04:16:57.910Z"
   },
   {
    "duration": 1569,
    "start_time": "2022-10-16T04:16:58.883Z"
   },
   {
    "duration": 1133,
    "start_time": "2022-10-16T04:17:00.454Z"
   },
   {
    "duration": 156,
    "start_time": "2022-10-16T04:17:01.588Z"
   },
   {
    "duration": 661,
    "start_time": "2022-10-16T04:17:01.746Z"
   },
   {
    "duration": 53,
    "start_time": "2022-10-16T04:17:02.409Z"
   },
   {
    "duration": 7,
    "start_time": "2022-10-16T04:17:02.464Z"
   },
   {
    "duration": 280,
    "start_time": "2022-10-16T04:17:02.472Z"
   },
   {
    "duration": 425,
    "start_time": "2022-10-16T04:17:02.754Z"
   },
   {
    "duration": 13,
    "start_time": "2022-10-16T04:17:03.180Z"
   },
   {
    "duration": 28,
    "start_time": "2022-10-16T04:17:03.195Z"
   },
   {
    "duration": 320,
    "start_time": "2022-10-16T04:17:03.225Z"
   },
   {
    "duration": 2460,
    "start_time": "2022-10-16T04:17:03.547Z"
   },
   {
    "duration": 273,
    "start_time": "2022-10-16T04:17:06.009Z"
   },
   {
    "duration": 1058,
    "start_time": "2022-10-16T04:17:06.284Z"
   },
   {
    "duration": 20,
    "start_time": "2022-10-16T04:17:07.344Z"
   },
   {
    "duration": 181,
    "start_time": "2022-10-16T04:17:07.366Z"
   },
   {
    "duration": 401,
    "start_time": "2022-10-16T04:27:14.358Z"
   },
   {
    "duration": 544,
    "start_time": "2022-10-16T04:27:24.165Z"
   },
   {
    "duration": 79,
    "start_time": "2022-10-16T04:27:24.711Z"
   },
   {
    "duration": 31,
    "start_time": "2022-10-16T04:27:24.792Z"
   },
   {
    "duration": 1799,
    "start_time": "2022-10-16T04:27:24.825Z"
   },
   {
    "duration": 4,
    "start_time": "2022-10-16T04:27:26.626Z"
   },
   {
    "duration": 212,
    "start_time": "2022-10-16T04:27:26.631Z"
   },
   {
    "duration": 64,
    "start_time": "2022-10-16T04:27:26.845Z"
   },
   {
    "duration": 78,
    "start_time": "2022-10-16T04:27:26.921Z"
   },
   {
    "duration": 423,
    "start_time": "2022-10-16T04:27:27.000Z"
   },
   {
    "duration": 12,
    "start_time": "2022-10-16T04:27:27.425Z"
   },
   {
    "duration": 257,
    "start_time": "2022-10-16T04:27:27.439Z"
   },
   {
    "duration": 944,
    "start_time": "2022-10-16T04:27:27.698Z"
   },
   {
    "duration": 1502,
    "start_time": "2022-10-16T04:27:28.644Z"
   },
   {
    "duration": 1231,
    "start_time": "2022-10-16T04:27:30.147Z"
   },
   {
    "duration": 147,
    "start_time": "2022-10-16T04:27:31.379Z"
   },
   {
    "duration": 651,
    "start_time": "2022-10-16T04:27:31.527Z"
   },
   {
    "duration": 52,
    "start_time": "2022-10-16T04:27:32.179Z"
   },
   {
    "duration": 8,
    "start_time": "2022-10-16T04:27:32.233Z"
   },
   {
    "duration": 291,
    "start_time": "2022-10-16T04:27:32.242Z"
   },
   {
    "duration": 413,
    "start_time": "2022-10-16T04:27:32.535Z"
   },
   {
    "duration": 13,
    "start_time": "2022-10-16T04:27:32.949Z"
   },
   {
    "duration": 13,
    "start_time": "2022-10-16T04:27:32.963Z"
   },
   {
    "duration": 346,
    "start_time": "2022-10-16T04:27:32.977Z"
   },
   {
    "duration": 2409,
    "start_time": "2022-10-16T04:27:33.324Z"
   },
   {
    "duration": 259,
    "start_time": "2022-10-16T04:27:35.735Z"
   },
   {
    "duration": 1021,
    "start_time": "2022-10-16T04:27:35.995Z"
   },
   {
    "duration": 21,
    "start_time": "2022-10-16T04:27:37.022Z"
   },
   {
    "duration": 164,
    "start_time": "2022-10-16T04:27:37.046Z"
   },
   {
    "duration": 474,
    "start_time": "2022-10-16T04:27:48.789Z"
   },
   {
    "duration": 603,
    "start_time": "2022-10-16T04:27:57.098Z"
   },
   {
    "duration": 77,
    "start_time": "2022-10-16T04:27:57.702Z"
   },
   {
    "duration": 25,
    "start_time": "2022-10-16T04:27:57.781Z"
   },
   {
    "duration": 1821,
    "start_time": "2022-10-16T04:27:57.807Z"
   },
   {
    "duration": 4,
    "start_time": "2022-10-16T04:27:59.630Z"
   },
   {
    "duration": 213,
    "start_time": "2022-10-16T04:27:59.635Z"
   },
   {
    "duration": 64,
    "start_time": "2022-10-16T04:27:59.849Z"
   },
   {
    "duration": 80,
    "start_time": "2022-10-16T04:27:59.922Z"
   },
   {
    "duration": 434,
    "start_time": "2022-10-16T04:28:00.003Z"
   },
   {
    "duration": 11,
    "start_time": "2022-10-16T04:28:00.440Z"
   },
   {
    "duration": 269,
    "start_time": "2022-10-16T04:28:00.453Z"
   },
   {
    "duration": 966,
    "start_time": "2022-10-16T04:28:00.723Z"
   },
   {
    "duration": 1261,
    "start_time": "2022-10-16T04:28:01.691Z"
   },
   {
    "duration": 1405,
    "start_time": "2022-10-16T04:28:02.954Z"
   },
   {
    "duration": 145,
    "start_time": "2022-10-16T04:28:04.361Z"
   },
   {
    "duration": 644,
    "start_time": "2022-10-16T04:28:04.507Z"
   },
   {
    "duration": 45,
    "start_time": "2022-10-16T04:28:05.152Z"
   },
   {
    "duration": 8,
    "start_time": "2022-10-16T04:28:05.198Z"
   },
   {
    "duration": 276,
    "start_time": "2022-10-16T04:28:05.208Z"
   },
   {
    "duration": 398,
    "start_time": "2022-10-16T04:28:05.486Z"
   },
   {
    "duration": 12,
    "start_time": "2022-10-16T04:28:05.887Z"
   },
   {
    "duration": 28,
    "start_time": "2022-10-16T04:28:05.901Z"
   },
   {
    "duration": 310,
    "start_time": "2022-10-16T04:28:05.931Z"
   },
   {
    "duration": 2385,
    "start_time": "2022-10-16T04:28:06.243Z"
   },
   {
    "duration": 266,
    "start_time": "2022-10-16T04:28:08.629Z"
   },
   {
    "duration": 1102,
    "start_time": "2022-10-16T04:28:08.896Z"
   },
   {
    "duration": 29,
    "start_time": "2022-10-16T04:28:10.000Z"
   },
   {
    "duration": 166,
    "start_time": "2022-10-16T04:28:10.032Z"
   },
   {
    "duration": 603,
    "start_time": "2022-10-16T04:30:58.180Z"
   },
   {
    "duration": 86,
    "start_time": "2022-10-16T04:30:58.785Z"
   },
   {
    "duration": 37,
    "start_time": "2022-10-16T04:30:58.874Z"
   },
   {
    "duration": 1856,
    "start_time": "2022-10-16T04:30:58.921Z"
   },
   {
    "duration": 3,
    "start_time": "2022-10-16T04:31:00.779Z"
   },
   {
    "duration": 224,
    "start_time": "2022-10-16T04:31:00.784Z"
   },
   {
    "duration": 79,
    "start_time": "2022-10-16T04:31:01.010Z"
   },
   {
    "duration": 99,
    "start_time": "2022-10-16T04:31:01.091Z"
   },
   {
    "duration": 438,
    "start_time": "2022-10-16T04:31:01.192Z"
   },
   {
    "duration": 13,
    "start_time": "2022-10-16T04:31:01.633Z"
   },
   {
    "duration": 274,
    "start_time": "2022-10-16T04:31:01.648Z"
   },
   {
    "duration": 961,
    "start_time": "2022-10-16T04:31:01.924Z"
   },
   {
    "duration": 917,
    "start_time": "2022-10-16T04:31:02.886Z"
   },
   {
    "duration": 1743,
    "start_time": "2022-10-16T04:31:03.805Z"
   },
   {
    "duration": 254,
    "start_time": "2022-10-16T04:31:05.549Z"
   },
   {
    "duration": 685,
    "start_time": "2022-10-16T04:31:05.804Z"
   },
   {
    "duration": 66,
    "start_time": "2022-10-16T04:31:06.490Z"
   },
   {
    "duration": 8,
    "start_time": "2022-10-16T04:31:06.557Z"
   },
   {
    "duration": 322,
    "start_time": "2022-10-16T04:31:06.567Z"
   },
   {
    "duration": 399,
    "start_time": "2022-10-16T04:31:06.891Z"
   },
   {
    "duration": 12,
    "start_time": "2022-10-16T04:31:07.292Z"
   },
   {
    "duration": 23,
    "start_time": "2022-10-16T04:31:07.305Z"
   },
   {
    "duration": 320,
    "start_time": "2022-10-16T04:31:07.329Z"
   },
   {
    "duration": 2625,
    "start_time": "2022-10-16T04:31:07.651Z"
   },
   {
    "duration": 263,
    "start_time": "2022-10-16T04:31:10.277Z"
   },
   {
    "duration": 1086,
    "start_time": "2022-10-16T04:31:10.542Z"
   },
   {
    "duration": 34,
    "start_time": "2022-10-16T04:31:11.630Z"
   },
   {
    "duration": 208,
    "start_time": "2022-10-16T04:31:11.669Z"
   },
   {
    "duration": 381,
    "start_time": "2022-10-16T04:33:32.654Z"
   },
   {
    "duration": 623,
    "start_time": "2022-10-16T04:33:38.832Z"
   },
   {
    "duration": 79,
    "start_time": "2022-10-16T04:33:39.456Z"
   },
   {
    "duration": 29,
    "start_time": "2022-10-16T04:33:39.537Z"
   },
   {
    "duration": 1840,
    "start_time": "2022-10-16T04:33:39.568Z"
   },
   {
    "duration": 4,
    "start_time": "2022-10-16T04:33:41.410Z"
   },
   {
    "duration": 234,
    "start_time": "2022-10-16T04:33:41.415Z"
   },
   {
    "duration": 62,
    "start_time": "2022-10-16T04:33:41.650Z"
   },
   {
    "duration": 77,
    "start_time": "2022-10-16T04:33:41.722Z"
   },
   {
    "duration": 429,
    "start_time": "2022-10-16T04:33:41.800Z"
   },
   {
    "duration": 11,
    "start_time": "2022-10-16T04:33:42.231Z"
   },
   {
    "duration": 249,
    "start_time": "2022-10-16T04:33:42.244Z"
   },
   {
    "duration": 997,
    "start_time": "2022-10-16T04:33:42.495Z"
   },
   {
    "duration": 1642,
    "start_time": "2022-10-16T04:33:43.494Z"
   },
   {
    "duration": 1091,
    "start_time": "2022-10-16T04:33:45.137Z"
   },
   {
    "duration": 144,
    "start_time": "2022-10-16T04:33:46.230Z"
   },
   {
    "duration": 622,
    "start_time": "2022-10-16T04:33:46.376Z"
   },
   {
    "duration": 55,
    "start_time": "2022-10-16T04:33:46.999Z"
   },
   {
    "duration": 8,
    "start_time": "2022-10-16T04:33:47.056Z"
   },
   {
    "duration": 274,
    "start_time": "2022-10-16T04:33:47.066Z"
   },
   {
    "duration": 405,
    "start_time": "2022-10-16T04:33:47.341Z"
   },
   {
    "duration": 11,
    "start_time": "2022-10-16T04:33:47.748Z"
   },
   {
    "duration": 12,
    "start_time": "2022-10-16T04:33:47.761Z"
   },
   {
    "duration": 319,
    "start_time": "2022-10-16T04:33:47.775Z"
   },
   {
    "duration": 2428,
    "start_time": "2022-10-16T04:33:48.096Z"
   },
   {
    "duration": 273,
    "start_time": "2022-10-16T04:33:50.525Z"
   },
   {
    "duration": 1024,
    "start_time": "2022-10-16T04:33:50.800Z"
   },
   {
    "duration": 21,
    "start_time": "2022-10-16T04:33:51.826Z"
   },
   {
    "duration": 165,
    "start_time": "2022-10-16T04:33:51.851Z"
   },
   {
    "duration": 443,
    "start_time": "2022-10-16T04:51:18.373Z"
   },
   {
    "duration": 366,
    "start_time": "2022-10-16T04:52:28.607Z"
   },
   {
    "duration": 398,
    "start_time": "2022-10-16T04:52:42.931Z"
   },
   {
    "duration": 325,
    "start_time": "2022-10-16T04:52:52.084Z"
   },
   {
    "duration": 415,
    "start_time": "2022-10-16T04:53:26.308Z"
   },
   {
    "duration": 324,
    "start_time": "2022-10-16T04:54:45.771Z"
   },
   {
    "duration": 2630,
    "start_time": "2022-10-16T04:59:47.478Z"
   },
   {
    "duration": 2468,
    "start_time": "2022-10-16T05:00:12.297Z"
   },
   {
    "duration": 2538,
    "start_time": "2022-10-16T05:00:42.687Z"
   },
   {
    "duration": 2604,
    "start_time": "2022-10-16T05:01:56.621Z"
   },
   {
    "duration": 1021,
    "start_time": "2022-10-16T05:11:50.565Z"
   },
   {
    "duration": 1079,
    "start_time": "2022-10-16T05:12:17.871Z"
   },
   {
    "duration": 9,
    "start_time": "2022-10-16T05:22:49.955Z"
   },
   {
    "duration": 576,
    "start_time": "2022-10-16T05:23:00.362Z"
   },
   {
    "duration": 81,
    "start_time": "2022-10-16T05:23:00.940Z"
   },
   {
    "duration": 27,
    "start_time": "2022-10-16T05:23:01.023Z"
   },
   {
    "duration": 1901,
    "start_time": "2022-10-16T05:23:01.052Z"
   },
   {
    "duration": 6,
    "start_time": "2022-10-16T05:23:02.956Z"
   },
   {
    "duration": 265,
    "start_time": "2022-10-16T05:23:02.964Z"
   },
   {
    "duration": 97,
    "start_time": "2022-10-16T05:23:03.231Z"
   },
   {
    "duration": 95,
    "start_time": "2022-10-16T05:23:03.329Z"
   },
   {
    "duration": 455,
    "start_time": "2022-10-16T05:23:03.426Z"
   },
   {
    "duration": 12,
    "start_time": "2022-10-16T05:23:03.884Z"
   },
   {
    "duration": 275,
    "start_time": "2022-10-16T05:23:03.898Z"
   },
   {
    "duration": 1006,
    "start_time": "2022-10-16T05:23:04.175Z"
   },
   {
    "duration": 924,
    "start_time": "2022-10-16T05:23:05.183Z"
   },
   {
    "duration": 986,
    "start_time": "2022-10-16T05:23:06.110Z"
   },
   {
    "duration": 171,
    "start_time": "2022-10-16T05:23:07.098Z"
   },
   {
    "duration": 686,
    "start_time": "2022-10-16T05:23:07.271Z"
   },
   {
    "duration": 47,
    "start_time": "2022-10-16T05:23:07.959Z"
   },
   {
    "duration": 19,
    "start_time": "2022-10-16T05:23:08.008Z"
   },
   {
    "duration": 283,
    "start_time": "2022-10-16T05:23:08.028Z"
   },
   {
    "duration": 398,
    "start_time": "2022-10-16T05:23:08.312Z"
   },
   {
    "duration": 14,
    "start_time": "2022-10-16T05:23:08.712Z"
   },
   {
    "duration": 29,
    "start_time": "2022-10-16T05:23:08.727Z"
   },
   {
    "duration": 430,
    "start_time": "2022-10-16T05:23:08.758Z"
   },
   {
    "duration": 2614,
    "start_time": "2022-10-16T05:23:09.190Z"
   },
   {
    "duration": 261,
    "start_time": "2022-10-16T05:23:11.805Z"
   },
   {
    "duration": 1073,
    "start_time": "2022-10-16T05:23:12.067Z"
   },
   {
    "duration": 22,
    "start_time": "2022-10-16T05:23:13.142Z"
   },
   {
    "duration": 173,
    "start_time": "2022-10-16T05:23:13.166Z"
   },
   {
    "duration": 182,
    "start_time": "2022-10-16T05:24:18.458Z"
   },
   {
    "duration": 1142,
    "start_time": "2022-10-16T05:26:05.898Z"
   },
   {
    "duration": 1094,
    "start_time": "2022-10-16T05:26:27.142Z"
   },
   {
    "duration": 1207,
    "start_time": "2022-10-16T05:26:47.262Z"
   },
   {
    "duration": 770,
    "start_time": "2022-10-16T05:29:59.575Z"
   },
   {
    "duration": 1087,
    "start_time": "2022-10-16T05:30:44.026Z"
   },
   {
    "duration": 281,
    "start_time": "2022-10-16T05:52:43.186Z"
   },
   {
    "duration": 141,
    "start_time": "2022-10-16T05:53:04.974Z"
   },
   {
    "duration": 147,
    "start_time": "2022-10-16T08:36:30.679Z"
   },
   {
    "duration": 22,
    "start_time": "2022-10-16T08:47:19.978Z"
   },
   {
    "duration": 60,
    "start_time": "2022-10-16T08:47:56.997Z"
   },
   {
    "duration": 61,
    "start_time": "2022-10-16T08:48:11.080Z"
   },
   {
    "duration": 146,
    "start_time": "2022-10-16T08:48:47.840Z"
   },
   {
    "duration": 156,
    "start_time": "2022-10-16T08:52:17.194Z"
   },
   {
    "duration": 155,
    "start_time": "2022-10-16T08:52:21.092Z"
   },
   {
    "duration": 193,
    "start_time": "2022-10-16T08:52:31.541Z"
   },
   {
    "duration": 172,
    "start_time": "2022-10-16T08:52:41.542Z"
   },
   {
    "duration": 1041,
    "start_time": "2022-10-16T08:57:11.458Z"
   },
   {
    "duration": 314,
    "start_time": "2022-10-16T08:58:33.058Z"
   },
   {
    "duration": 306,
    "start_time": "2022-10-16T09:06:03.350Z"
   },
   {
    "duration": 575,
    "start_time": "2022-10-16T09:06:13.972Z"
   },
   {
    "duration": 82,
    "start_time": "2022-10-16T09:06:14.549Z"
   },
   {
    "duration": 28,
    "start_time": "2022-10-16T09:06:14.633Z"
   },
   {
    "duration": 1878,
    "start_time": "2022-10-16T09:06:14.663Z"
   },
   {
    "duration": 4,
    "start_time": "2022-10-16T09:06:16.542Z"
   },
   {
    "duration": 221,
    "start_time": "2022-10-16T09:06:16.548Z"
   },
   {
    "duration": 71,
    "start_time": "2022-10-16T09:06:16.770Z"
   },
   {
    "duration": 95,
    "start_time": "2022-10-16T09:06:16.842Z"
   },
   {
    "duration": 348,
    "start_time": "2022-10-16T09:06:16.939Z"
   },
   {
    "duration": 12,
    "start_time": "2022-10-16T09:06:17.289Z"
   },
   {
    "duration": 280,
    "start_time": "2022-10-16T09:06:17.302Z"
   },
   {
    "duration": 1111,
    "start_time": "2022-10-16T09:06:17.583Z"
   },
   {
    "duration": 965,
    "start_time": "2022-10-16T09:06:18.696Z"
   },
   {
    "duration": 981,
    "start_time": "2022-10-16T09:06:19.663Z"
   },
   {
    "duration": 153,
    "start_time": "2022-10-16T09:06:20.646Z"
   },
   {
    "duration": 663,
    "start_time": "2022-10-16T09:06:20.801Z"
   },
   {
    "duration": 56,
    "start_time": "2022-10-16T09:06:21.466Z"
   },
   {
    "duration": 8,
    "start_time": "2022-10-16T09:06:21.524Z"
   },
   {
    "duration": 290,
    "start_time": "2022-10-16T09:06:21.534Z"
   },
   {
    "duration": 417,
    "start_time": "2022-10-16T09:06:21.826Z"
   },
   {
    "duration": 14,
    "start_time": "2022-10-16T09:06:22.244Z"
   },
   {
    "duration": 15,
    "start_time": "2022-10-16T09:06:22.259Z"
   },
   {
    "duration": 363,
    "start_time": "2022-10-16T09:06:22.276Z"
   },
   {
    "duration": 2685,
    "start_time": "2022-10-16T09:06:22.641Z"
   },
   {
    "duration": 267,
    "start_time": "2022-10-16T09:06:25.327Z"
   },
   {
    "duration": 1118,
    "start_time": "2022-10-16T09:06:25.596Z"
   },
   {
    "duration": 209,
    "start_time": "2022-10-16T09:06:26.716Z"
   },
   {
    "duration": 315,
    "start_time": "2022-10-16T09:06:26.928Z"
   },
   {
    "duration": 419,
    "start_time": "2022-10-16T09:06:33.012Z"
   },
   {
    "duration": 416,
    "start_time": "2022-10-16T09:14:28.900Z"
   },
   {
    "duration": 306,
    "start_time": "2022-10-16T09:17:23.924Z"
   },
   {
    "duration": 301,
    "start_time": "2022-10-16T09:17:45.778Z"
   },
   {
    "duration": 318,
    "start_time": "2022-10-16T09:17:55.989Z"
   },
   {
    "duration": 378,
    "start_time": "2022-10-16T09:18:00.304Z"
   },
   {
    "duration": 351,
    "start_time": "2022-10-16T09:20:14.817Z"
   },
   {
    "duration": 66,
    "start_time": "2022-10-16T09:28:53.192Z"
   },
   {
    "duration": 277,
    "start_time": "2022-10-16T09:29:08.928Z"
   },
   {
    "duration": 246,
    "start_time": "2022-10-16T09:29:16.894Z"
   },
   {
    "duration": 237,
    "start_time": "2022-10-16T09:30:08.267Z"
   },
   {
    "duration": 232,
    "start_time": "2022-10-16T09:30:21.581Z"
   },
   {
    "duration": 249,
    "start_time": "2022-10-16T09:30:33.206Z"
   },
   {
    "duration": 340,
    "start_time": "2022-10-16T09:31:31.445Z"
   },
   {
    "duration": 472,
    "start_time": "2022-10-16T09:32:04.629Z"
   },
   {
    "duration": 208,
    "start_time": "2022-10-16T09:32:37.883Z"
   },
   {
    "duration": 550,
    "start_time": "2022-10-16T09:33:25.496Z"
   },
   {
    "duration": 235,
    "start_time": "2022-10-16T09:33:40.335Z"
   },
   {
    "duration": 890,
    "start_time": "2022-10-16T09:53:49.875Z"
   },
   {
    "duration": 1020,
    "start_time": "2022-10-16T09:53:59.408Z"
   },
   {
    "duration": 873,
    "start_time": "2022-10-16T09:57:15.713Z"
   },
   {
    "duration": 975,
    "start_time": "2022-10-16T09:57:55.801Z"
   },
   {
    "duration": 858,
    "start_time": "2022-10-16T09:58:07.100Z"
   },
   {
    "duration": 1062,
    "start_time": "2022-10-16T09:58:38.679Z"
   },
   {
    "duration": 253,
    "start_time": "2022-10-16T10:02:50.861Z"
   },
   {
    "duration": 254,
    "start_time": "2022-10-16T10:03:50.886Z"
   },
   {
    "duration": 16,
    "start_time": "2022-10-16T10:05:02.937Z"
   },
   {
    "duration": 20,
    "start_time": "2022-10-16T10:05:12.240Z"
   },
   {
    "duration": 565,
    "start_time": "2022-10-16T10:05:30.774Z"
   },
   {
    "duration": 80,
    "start_time": "2022-10-16T10:05:31.341Z"
   },
   {
    "duration": 26,
    "start_time": "2022-10-16T10:05:31.423Z"
   },
   {
    "duration": 1937,
    "start_time": "2022-10-16T10:05:31.451Z"
   },
   {
    "duration": 4,
    "start_time": "2022-10-16T10:05:33.390Z"
   },
   {
    "duration": 213,
    "start_time": "2022-10-16T10:05:33.396Z"
   },
   {
    "duration": 66,
    "start_time": "2022-10-16T10:05:33.610Z"
   },
   {
    "duration": 91,
    "start_time": "2022-10-16T10:05:33.677Z"
   },
   {
    "duration": 337,
    "start_time": "2022-10-16T10:05:33.770Z"
   },
   {
    "duration": 18,
    "start_time": "2022-10-16T10:05:34.109Z"
   },
   {
    "duration": 230,
    "start_time": "2022-10-16T10:05:34.129Z"
   },
   {
    "duration": 296,
    "start_time": "2022-10-16T10:05:34.361Z"
   },
   {
    "duration": 892,
    "start_time": "2022-10-16T10:05:34.659Z"
   },
   {
    "duration": 1089,
    "start_time": "2022-10-16T10:05:35.553Z"
   },
   {
    "duration": 0,
    "start_time": "2022-10-16T10:05:36.644Z"
   },
   {
    "duration": 0,
    "start_time": "2022-10-16T10:05:36.645Z"
   },
   {
    "duration": 0,
    "start_time": "2022-10-16T10:05:36.646Z"
   },
   {
    "duration": 0,
    "start_time": "2022-10-16T10:05:36.647Z"
   },
   {
    "duration": 0,
    "start_time": "2022-10-16T10:05:36.648Z"
   },
   {
    "duration": 0,
    "start_time": "2022-10-16T10:05:36.649Z"
   },
   {
    "duration": 0,
    "start_time": "2022-10-16T10:05:36.650Z"
   },
   {
    "duration": 0,
    "start_time": "2022-10-16T10:05:36.651Z"
   },
   {
    "duration": 0,
    "start_time": "2022-10-16T10:05:36.652Z"
   },
   {
    "duration": 0,
    "start_time": "2022-10-16T10:05:36.653Z"
   },
   {
    "duration": 0,
    "start_time": "2022-10-16T10:05:36.654Z"
   },
   {
    "duration": 0,
    "start_time": "2022-10-16T10:05:36.655Z"
   },
   {
    "duration": 0,
    "start_time": "2022-10-16T10:05:36.656Z"
   },
   {
    "duration": 0,
    "start_time": "2022-10-16T10:05:36.657Z"
   },
   {
    "duration": 0,
    "start_time": "2022-10-16T10:05:36.658Z"
   },
   {
    "duration": 0,
    "start_time": "2022-10-16T10:05:36.659Z"
   },
   {
    "duration": 49,
    "start_time": "2022-10-16T10:05:55.485Z"
   },
   {
    "duration": 7,
    "start_time": "2022-10-16T10:06:13.544Z"
   },
   {
    "duration": 287,
    "start_time": "2022-10-16T10:06:20.182Z"
   },
   {
    "duration": 922,
    "start_time": "2022-10-16T10:07:06.731Z"
   },
   {
    "duration": 3,
    "start_time": "2022-10-16T10:07:39.084Z"
   },
   {
    "duration": 81,
    "start_time": "2022-10-16T10:07:40.493Z"
   },
   {
    "duration": 27,
    "start_time": "2022-10-16T10:07:41.473Z"
   },
   {
    "duration": 1840,
    "start_time": "2022-10-16T10:07:43.967Z"
   },
   {
    "duration": 4,
    "start_time": "2022-10-16T10:07:51.066Z"
   },
   {
    "duration": 62,
    "start_time": "2022-10-16T10:07:57.777Z"
   },
   {
    "duration": 80,
    "start_time": "2022-10-16T10:08:08.185Z"
   },
   {
    "duration": 455,
    "start_time": "2022-10-16T10:08:12.792Z"
   },
   {
    "duration": 238,
    "start_time": "2022-10-16T10:08:25.729Z"
   },
   {
    "duration": 876,
    "start_time": "2022-10-16T10:08:33.481Z"
   },
   {
    "duration": 1055,
    "start_time": "2022-10-16T10:08:39.915Z"
   },
   {
    "duration": 988,
    "start_time": "2022-10-16T10:09:28.696Z"
   },
   {
    "duration": 1065,
    "start_time": "2022-10-16T10:10:53.895Z"
   },
   {
    "duration": 914,
    "start_time": "2022-10-16T10:11:52.568Z"
   },
   {
    "duration": 1063,
    "start_time": "2022-10-16T10:12:01.179Z"
   },
   {
    "duration": 143,
    "start_time": "2022-10-16T10:12:10.369Z"
   },
   {
    "duration": 632,
    "start_time": "2022-10-16T10:12:14.436Z"
   },
   {
    "duration": 245,
    "start_time": "2022-10-16T10:12:20.451Z"
   },
   {
    "duration": 252,
    "start_time": "2022-10-16T10:12:39.984Z"
   },
   {
    "duration": 16,
    "start_time": "2022-10-16T10:12:52.286Z"
   },
   {
    "duration": 1124,
    "start_time": "2022-10-16T10:13:39.373Z"
   },
   {
    "duration": 865,
    "start_time": "2022-10-16T10:13:43.229Z"
   },
   {
    "duration": 3,
    "start_time": "2022-10-16T10:13:56.964Z"
   },
   {
    "duration": 82,
    "start_time": "2022-10-16T10:13:57.635Z"
   },
   {
    "duration": 25,
    "start_time": "2022-10-16T10:13:58.143Z"
   },
   {
    "duration": 1893,
    "start_time": "2022-10-16T10:13:59.709Z"
   },
   {
    "duration": 4,
    "start_time": "2022-10-16T10:14:02.016Z"
   },
   {
    "duration": 217,
    "start_time": "2022-10-16T10:14:02.620Z"
   },
   {
    "duration": 64,
    "start_time": "2022-10-16T10:14:04.825Z"
   },
   {
    "duration": 87,
    "start_time": "2022-10-16T10:14:08.064Z"
   },
   {
    "duration": 449,
    "start_time": "2022-10-16T10:14:10.311Z"
   },
   {
    "duration": 13,
    "start_time": "2022-10-16T10:14:15.002Z"
   },
   {
    "duration": 221,
    "start_time": "2022-10-16T10:14:16.693Z"
   },
   {
    "duration": 214,
    "start_time": "2022-10-16T10:14:17.912Z"
   },
   {
    "duration": 893,
    "start_time": "2022-10-16T10:14:19.794Z"
   },
   {
    "duration": 1140,
    "start_time": "2022-10-16T10:14:21.356Z"
   },
   {
    "duration": 867,
    "start_time": "2022-10-16T10:14:23.795Z"
   },
   {
    "duration": 151,
    "start_time": "2022-10-16T10:14:32.021Z"
   },
   {
    "duration": 695,
    "start_time": "2022-10-16T10:14:34.114Z"
   },
   {
    "duration": 458,
    "start_time": "2022-10-16T10:14:36.135Z"
   },
   {
    "duration": 21,
    "start_time": "2022-10-16T10:14:40.055Z"
   },
   {
    "duration": 7,
    "start_time": "2022-10-16T10:23:33.039Z"
   },
   {
    "duration": 280,
    "start_time": "2022-10-16T10:23:37.287Z"
   },
   {
    "duration": 271,
    "start_time": "2022-10-16T10:23:45.944Z"
   },
   {
    "duration": 13,
    "start_time": "2022-10-16T10:23:52.912Z"
   },
   {
    "duration": 14,
    "start_time": "2022-10-16T10:24:06.458Z"
   },
   {
    "duration": 571,
    "start_time": "2022-10-16T10:27:09.245Z"
   },
   {
    "duration": 76,
    "start_time": "2022-10-16T10:27:09.821Z"
   },
   {
    "duration": 27,
    "start_time": "2022-10-16T10:27:09.899Z"
   },
   {
    "duration": 1853,
    "start_time": "2022-10-16T10:27:09.928Z"
   },
   {
    "duration": 6,
    "start_time": "2022-10-16T10:27:11.783Z"
   },
   {
    "duration": 224,
    "start_time": "2022-10-16T10:27:11.791Z"
   },
   {
    "duration": 65,
    "start_time": "2022-10-16T10:27:12.021Z"
   },
   {
    "duration": 93,
    "start_time": "2022-10-16T10:27:12.088Z"
   },
   {
    "duration": 337,
    "start_time": "2022-10-16T10:27:12.183Z"
   },
   {
    "duration": 11,
    "start_time": "2022-10-16T10:27:12.523Z"
   },
   {
    "duration": 240,
    "start_time": "2022-10-16T10:27:12.536Z"
   },
   {
    "duration": 300,
    "start_time": "2022-10-16T10:27:12.778Z"
   },
   {
    "duration": 889,
    "start_time": "2022-10-16T10:27:13.080Z"
   },
   {
    "duration": 1029,
    "start_time": "2022-10-16T10:27:13.970Z"
   },
   {
    "duration": 887,
    "start_time": "2022-10-16T10:27:15.001Z"
   },
   {
    "duration": 156,
    "start_time": "2022-10-16T10:27:15.890Z"
   },
   {
    "duration": 764,
    "start_time": "2022-10-16T10:27:16.048Z"
   },
   {
    "duration": 243,
    "start_time": "2022-10-16T10:27:16.814Z"
   },
   {
    "duration": 68,
    "start_time": "2022-10-16T10:27:17.059Z"
   },
   {
    "duration": 8,
    "start_time": "2022-10-16T10:27:17.129Z"
   },
   {
    "duration": 297,
    "start_time": "2022-10-16T10:27:17.138Z"
   },
   {
    "duration": 278,
    "start_time": "2022-10-16T10:27:17.436Z"
   },
   {
    "duration": 14,
    "start_time": "2022-10-16T10:27:17.715Z"
   },
   {
    "duration": 12,
    "start_time": "2022-10-16T10:27:17.731Z"
   },
   {
    "duration": 433,
    "start_time": "2022-10-16T10:27:17.744Z"
   },
   {
    "duration": 2359,
    "start_time": "2022-10-16T10:27:18.179Z"
   },
   {
    "duration": 249,
    "start_time": "2022-10-16T10:27:20.539Z"
   },
   {
    "duration": 1167,
    "start_time": "2022-10-16T10:27:20.791Z"
   },
   {
    "duration": 175,
    "start_time": "2022-10-16T10:27:21.959Z"
   },
   {
    "duration": 140,
    "start_time": "2022-10-16T10:27:22.135Z"
   },
   {
    "duration": 247,
    "start_time": "2022-10-16T10:38:53.405Z"
   },
   {
    "duration": 595,
    "start_time": "2022-10-16T10:39:28.256Z"
   },
   {
    "duration": 106,
    "start_time": "2022-10-16T10:39:28.855Z"
   },
   {
    "duration": 34,
    "start_time": "2022-10-16T10:39:28.963Z"
   },
   {
    "duration": 1806,
    "start_time": "2022-10-16T10:39:28.998Z"
   },
   {
    "duration": 5,
    "start_time": "2022-10-16T10:39:30.806Z"
   },
   {
    "duration": 239,
    "start_time": "2022-10-16T10:39:30.812Z"
   },
   {
    "duration": 83,
    "start_time": "2022-10-16T10:39:31.053Z"
   },
   {
    "duration": 93,
    "start_time": "2022-10-16T10:39:31.137Z"
   },
   {
    "duration": 332,
    "start_time": "2022-10-16T10:39:31.232Z"
   },
   {
    "duration": 12,
    "start_time": "2022-10-16T10:39:31.565Z"
   },
   {
    "duration": 244,
    "start_time": "2022-10-16T10:39:31.579Z"
   },
   {
    "duration": 290,
    "start_time": "2022-10-16T10:39:31.825Z"
   },
   {
    "duration": 866,
    "start_time": "2022-10-16T10:39:32.117Z"
   },
   {
    "duration": 1011,
    "start_time": "2022-10-16T10:39:32.986Z"
   },
   {
    "duration": 836,
    "start_time": "2022-10-16T10:39:33.999Z"
   },
   {
    "duration": 149,
    "start_time": "2022-10-16T10:39:34.837Z"
   },
   {
    "duration": 834,
    "start_time": "2022-10-16T10:39:34.988Z"
   },
   {
    "duration": 250,
    "start_time": "2022-10-16T10:39:35.824Z"
   },
   {
    "duration": 53,
    "start_time": "2022-10-16T10:39:36.075Z"
   },
   {
    "duration": 7,
    "start_time": "2022-10-16T10:39:36.129Z"
   },
   {
    "duration": 313,
    "start_time": "2022-10-16T10:39:36.137Z"
   },
   {
    "duration": 289,
    "start_time": "2022-10-16T10:39:36.452Z"
   },
   {
    "duration": 13,
    "start_time": "2022-10-16T10:39:36.742Z"
   },
   {
    "duration": 38,
    "start_time": "2022-10-16T10:39:36.756Z"
   },
   {
    "duration": 483,
    "start_time": "2022-10-16T10:39:36.795Z"
   },
   {
    "duration": 2400,
    "start_time": "2022-10-16T10:39:37.280Z"
   },
   {
    "duration": 267,
    "start_time": "2022-10-16T10:39:39.682Z"
   },
   {
    "duration": 1177,
    "start_time": "2022-10-16T10:39:39.950Z"
   },
   {
    "duration": 180,
    "start_time": "2022-10-16T10:39:41.129Z"
   },
   {
    "duration": 164,
    "start_time": "2022-10-16T10:39:41.310Z"
   },
   {
    "duration": 826,
    "start_time": "2022-10-16T10:43:27.869Z"
   },
   {
    "duration": 418,
    "start_time": "2022-10-16T11:47:01.230Z"
   },
   {
    "duration": 44,
    "start_time": "2022-10-16T11:47:37.791Z"
   },
   {
    "duration": 59,
    "start_time": "2022-10-16T11:47:50.470Z"
   },
   {
    "duration": 44,
    "start_time": "2022-10-16T11:48:42.556Z"
   },
   {
    "duration": 320,
    "start_time": "2022-10-16T11:48:56.365Z"
   },
   {
    "duration": 13,
    "start_time": "2022-10-16T11:49:23.912Z"
   },
   {
    "duration": 371,
    "start_time": "2022-10-16T11:52:34.456Z"
   },
   {
    "duration": 318,
    "start_time": "2022-10-16T11:52:59.032Z"
   },
   {
    "duration": 8,
    "start_time": "2022-10-16T11:53:19.972Z"
   },
   {
    "duration": 9,
    "start_time": "2022-10-16T12:27:11.634Z"
   },
   {
    "duration": 3,
    "start_time": "2022-10-16T12:28:42.589Z"
   },
   {
    "duration": 9,
    "start_time": "2022-10-16T12:28:47.142Z"
   },
   {
    "duration": 8,
    "start_time": "2022-10-16T12:28:59.269Z"
   },
   {
    "duration": 12,
    "start_time": "2022-10-16T12:29:32.234Z"
   },
   {
    "duration": 5,
    "start_time": "2022-10-16T12:29:49.786Z"
   },
   {
    "duration": 6,
    "start_time": "2022-10-16T12:30:09.938Z"
   },
   {
    "duration": 9,
    "start_time": "2022-10-16T12:30:22.196Z"
   },
   {
    "duration": 9,
    "start_time": "2022-10-16T12:30:30.218Z"
   },
   {
    "duration": 9,
    "start_time": "2022-10-16T12:30:37.088Z"
   },
   {
    "duration": 6,
    "start_time": "2022-10-16T12:30:58.565Z"
   },
   {
    "duration": 15,
    "start_time": "2022-10-16T12:31:24.456Z"
   },
   {
    "duration": 650,
    "start_time": "2022-10-16T14:00:12.581Z"
   },
   {
    "duration": 85,
    "start_time": "2022-10-16T14:08:31.561Z"
   },
   {
    "duration": 333,
    "start_time": "2022-10-16T14:09:02.710Z"
   },
   {
    "duration": 396,
    "start_time": "2022-10-16T14:10:58.733Z"
   },
   {
    "duration": 294,
    "start_time": "2022-10-16T14:11:15.978Z"
   },
   {
    "duration": 602,
    "start_time": "2022-10-16T14:11:29.934Z"
   },
   {
    "duration": 78,
    "start_time": "2022-10-16T14:11:30.538Z"
   },
   {
    "duration": 27,
    "start_time": "2022-10-16T14:11:30.618Z"
   },
   {
    "duration": 1797,
    "start_time": "2022-10-16T14:11:30.647Z"
   },
   {
    "duration": 4,
    "start_time": "2022-10-16T14:11:32.446Z"
   },
   {
    "duration": 212,
    "start_time": "2022-10-16T14:11:32.451Z"
   },
   {
    "duration": 70,
    "start_time": "2022-10-16T14:11:32.665Z"
   },
   {
    "duration": 88,
    "start_time": "2022-10-16T14:11:32.736Z"
   },
   {
    "duration": 337,
    "start_time": "2022-10-16T14:11:32.825Z"
   },
   {
    "duration": 8,
    "start_time": "2022-10-16T14:11:33.165Z"
   },
   {
    "duration": 265,
    "start_time": "2022-10-16T14:11:33.176Z"
   },
   {
    "duration": 318,
    "start_time": "2022-10-16T14:11:33.443Z"
   },
   {
    "duration": 922,
    "start_time": "2022-10-16T14:11:33.762Z"
   },
   {
    "duration": 1028,
    "start_time": "2022-10-16T14:11:34.686Z"
   },
   {
    "duration": 845,
    "start_time": "2022-10-16T14:11:35.716Z"
   },
   {
    "duration": 149,
    "start_time": "2022-10-16T14:11:36.562Z"
   },
   {
    "duration": 772,
    "start_time": "2022-10-16T14:11:36.713Z"
   },
   {
    "duration": 262,
    "start_time": "2022-10-16T14:11:37.487Z"
   },
   {
    "duration": 48,
    "start_time": "2022-10-16T14:11:37.750Z"
   },
   {
    "duration": 29,
    "start_time": "2022-10-16T14:11:37.799Z"
   },
   {
    "duration": 290,
    "start_time": "2022-10-16T14:11:37.830Z"
   },
   {
    "duration": 276,
    "start_time": "2022-10-16T14:11:38.121Z"
   },
   {
    "duration": 11,
    "start_time": "2022-10-16T14:11:38.399Z"
   },
   {
    "duration": 20,
    "start_time": "2022-10-16T14:11:38.412Z"
   },
   {
    "duration": 466,
    "start_time": "2022-10-16T14:11:38.434Z"
   },
   {
    "duration": 2449,
    "start_time": "2022-10-16T14:11:38.904Z"
   },
   {
    "duration": 296,
    "start_time": "2022-10-16T14:11:41.355Z"
   },
   {
    "duration": 1170,
    "start_time": "2022-10-16T14:11:41.654Z"
   },
   {
    "duration": 172,
    "start_time": "2022-10-16T14:11:42.826Z"
   },
   {
    "duration": 169,
    "start_time": "2022-10-16T14:11:43.001Z"
   },
   {
    "duration": 74,
    "start_time": "2022-10-16T14:13:48.304Z"
   },
   {
    "duration": 12,
    "start_time": "2022-10-16T14:13:55.837Z"
   },
   {
    "duration": 5,
    "start_time": "2022-10-16T14:14:14.362Z"
   },
   {
    "duration": 332,
    "start_time": "2022-10-16T14:16:04.498Z"
   },
   {
    "duration": 307,
    "start_time": "2022-10-16T14:16:15.096Z"
   },
   {
    "duration": 6,
    "start_time": "2022-10-16T14:16:20.342Z"
   },
   {
    "duration": 36,
    "start_time": "2022-10-16T14:17:18.181Z"
   },
   {
    "duration": 586,
    "start_time": "2022-10-16T14:18:45.260Z"
   },
   {
    "duration": 80,
    "start_time": "2022-10-16T14:18:45.848Z"
   },
   {
    "duration": 26,
    "start_time": "2022-10-16T14:18:45.929Z"
   },
   {
    "duration": 1831,
    "start_time": "2022-10-16T14:18:45.957Z"
   },
   {
    "duration": 4,
    "start_time": "2022-10-16T14:18:47.791Z"
   },
   {
    "duration": 232,
    "start_time": "2022-10-16T14:18:47.796Z"
   },
   {
    "duration": 63,
    "start_time": "2022-10-16T14:18:48.030Z"
   },
   {
    "duration": 91,
    "start_time": "2022-10-16T14:18:48.094Z"
   },
   {
    "duration": 333,
    "start_time": "2022-10-16T14:18:48.186Z"
   },
   {
    "duration": 34,
    "start_time": "2022-10-16T14:18:48.521Z"
   },
   {
    "duration": 231,
    "start_time": "2022-10-16T14:18:48.557Z"
   },
   {
    "duration": 341,
    "start_time": "2022-10-16T14:18:48.790Z"
   },
   {
    "duration": 867,
    "start_time": "2022-10-16T14:18:49.133Z"
   },
   {
    "duration": 1003,
    "start_time": "2022-10-16T14:18:50.003Z"
   },
   {
    "duration": 835,
    "start_time": "2022-10-16T14:18:51.008Z"
   },
   {
    "duration": 150,
    "start_time": "2022-10-16T14:18:51.845Z"
   },
   {
    "duration": 745,
    "start_time": "2022-10-16T14:18:51.997Z"
   },
   {
    "duration": 245,
    "start_time": "2022-10-16T14:18:52.744Z"
   },
   {
    "duration": 53,
    "start_time": "2022-10-16T14:18:52.990Z"
   },
   {
    "duration": 6,
    "start_time": "2022-10-16T14:18:53.045Z"
   },
   {
    "duration": 283,
    "start_time": "2022-10-16T14:18:53.053Z"
   },
   {
    "duration": 266,
    "start_time": "2022-10-16T14:18:53.337Z"
   },
   {
    "duration": 12,
    "start_time": "2022-10-16T14:18:53.605Z"
   },
   {
    "duration": 13,
    "start_time": "2022-10-16T14:18:53.622Z"
   },
   {
    "duration": 457,
    "start_time": "2022-10-16T14:18:53.637Z"
   },
   {
    "duration": 2364,
    "start_time": "2022-10-16T14:18:54.096Z"
   },
   {
    "duration": 260,
    "start_time": "2022-10-16T14:18:56.462Z"
   },
   {
    "duration": 1181,
    "start_time": "2022-10-16T14:18:56.724Z"
   },
   {
    "duration": 174,
    "start_time": "2022-10-16T14:18:57.906Z"
   },
   {
    "duration": 147,
    "start_time": "2022-10-16T14:18:58.081Z"
   },
   {
    "duration": 294,
    "start_time": "2022-10-16T14:20:41.143Z"
   },
   {
    "duration": 305,
    "start_time": "2022-10-16T14:20:59.404Z"
   },
   {
    "duration": 34,
    "start_time": "2022-10-16T14:21:03.667Z"
   },
   {
    "duration": 3,
    "start_time": "2022-10-16T14:21:15.213Z"
   },
   {
    "duration": 93,
    "start_time": "2022-10-16T14:21:16.540Z"
   },
   {
    "duration": 23,
    "start_time": "2022-10-16T14:21:17.404Z"
   },
   {
    "duration": 1782,
    "start_time": "2022-10-16T14:21:19.446Z"
   },
   {
    "duration": 4,
    "start_time": "2022-10-16T14:21:22.882Z"
   },
   {
    "duration": 202,
    "start_time": "2022-10-16T14:21:23.805Z"
   },
   {
    "duration": 60,
    "start_time": "2022-10-16T14:21:25.747Z"
   },
   {
    "duration": 76,
    "start_time": "2022-10-16T14:21:28.259Z"
   },
   {
    "duration": 417,
    "start_time": "2022-10-16T14:21:30.778Z"
   },
   {
    "duration": 37,
    "start_time": "2022-10-16T14:21:37.999Z"
   },
   {
    "duration": 318,
    "start_time": "2022-10-16T14:22:38.068Z"
   },
   {
    "duration": 38,
    "start_time": "2022-10-16T14:22:42.050Z"
   },
   {
    "duration": 37,
    "start_time": "2022-10-16T14:22:45.883Z"
   },
   {
    "duration": 318,
    "start_time": "2022-10-16T14:22:53.430Z"
   },
   {
    "duration": 35,
    "start_time": "2022-10-16T14:23:03.749Z"
   },
   {
    "duration": 590,
    "start_time": "2022-10-16T14:23:50.319Z"
   },
   {
    "duration": 81,
    "start_time": "2022-10-16T14:23:50.912Z"
   },
   {
    "duration": 35,
    "start_time": "2022-10-16T14:23:50.995Z"
   },
   {
    "duration": 1851,
    "start_time": "2022-10-16T14:23:51.032Z"
   },
   {
    "duration": 4,
    "start_time": "2022-10-16T14:23:52.885Z"
   },
   {
    "duration": 235,
    "start_time": "2022-10-16T14:23:52.890Z"
   },
   {
    "duration": 76,
    "start_time": "2022-10-16T14:23:53.127Z"
   },
   {
    "duration": 85,
    "start_time": "2022-10-16T14:23:53.222Z"
   },
   {
    "duration": 336,
    "start_time": "2022-10-16T14:23:53.309Z"
   },
   {
    "duration": 35,
    "start_time": "2022-10-16T14:23:53.646Z"
   },
   {
    "duration": 241,
    "start_time": "2022-10-16T14:23:53.682Z"
   },
   {
    "duration": 285,
    "start_time": "2022-10-16T14:23:53.925Z"
   },
   {
    "duration": 878,
    "start_time": "2022-10-16T14:23:54.212Z"
   },
   {
    "duration": 1007,
    "start_time": "2022-10-16T14:23:55.094Z"
   },
   {
    "duration": 820,
    "start_time": "2022-10-16T14:23:56.102Z"
   },
   {
    "duration": 159,
    "start_time": "2022-10-16T14:23:56.924Z"
   },
   {
    "duration": 824,
    "start_time": "2022-10-16T14:23:57.085Z"
   },
   {
    "duration": 255,
    "start_time": "2022-10-16T14:23:57.910Z"
   },
   {
    "duration": 59,
    "start_time": "2022-10-16T14:23:58.167Z"
   },
   {
    "duration": 8,
    "start_time": "2022-10-16T14:23:58.228Z"
   },
   {
    "duration": 288,
    "start_time": "2022-10-16T14:23:58.237Z"
   },
   {
    "duration": 262,
    "start_time": "2022-10-16T14:23:58.526Z"
   },
   {
    "duration": 12,
    "start_time": "2022-10-16T14:23:58.790Z"
   },
   {
    "duration": 23,
    "start_time": "2022-10-16T14:23:58.804Z"
   },
   {
    "duration": 486,
    "start_time": "2022-10-16T14:23:58.828Z"
   },
   {
    "duration": 2362,
    "start_time": "2022-10-16T14:23:59.316Z"
   },
   {
    "duration": 280,
    "start_time": "2022-10-16T14:24:01.680Z"
   },
   {
    "duration": 1204,
    "start_time": "2022-10-16T14:24:01.962Z"
   },
   {
    "duration": 177,
    "start_time": "2022-10-16T14:24:03.168Z"
   },
   {
    "duration": 154,
    "start_time": "2022-10-16T14:24:03.347Z"
   },
   {
    "duration": 33,
    "start_time": "2022-10-16T14:24:25.998Z"
   },
   {
    "duration": 40,
    "start_time": "2022-10-16T14:24:31.049Z"
   },
   {
    "duration": 299,
    "start_time": "2022-10-16T14:24:37.637Z"
   },
   {
    "duration": 34,
    "start_time": "2022-10-16T14:24:43.329Z"
   },
   {
    "duration": 586,
    "start_time": "2022-10-16T14:35:19.308Z"
   },
   {
    "duration": 78,
    "start_time": "2022-10-16T14:35:20.354Z"
   },
   {
    "duration": 26,
    "start_time": "2022-10-16T14:35:20.998Z"
   },
   {
    "duration": 40,
    "start_time": "2022-10-16T14:35:24.694Z"
   },
   {
    "duration": 1825,
    "start_time": "2022-10-16T14:40:45.551Z"
   },
   {
    "duration": 4,
    "start_time": "2022-10-16T14:41:53.135Z"
   },
   {
    "duration": 66,
    "start_time": "2022-10-16T14:41:56.476Z"
   },
   {
    "duration": 79,
    "start_time": "2022-10-16T14:42:02.160Z"
   },
   {
    "duration": 340,
    "start_time": "2022-10-16T14:42:06.218Z"
   },
   {
    "duration": 36,
    "start_time": "2022-10-16T14:42:46.018Z"
   },
   {
    "duration": 334,
    "start_time": "2022-10-16T14:43:12.302Z"
   },
   {
    "duration": 36,
    "start_time": "2022-10-16T14:43:19.168Z"
   },
   {
    "duration": 360,
    "start_time": "2022-10-16T14:44:15.183Z"
   },
   {
    "duration": 36,
    "start_time": "2022-10-16T14:44:24.353Z"
   },
   {
    "duration": 600,
    "start_time": "2022-10-16T14:44:34.234Z"
   },
   {
    "duration": 84,
    "start_time": "2022-10-16T14:44:34.836Z"
   },
   {
    "duration": 27,
    "start_time": "2022-10-16T14:44:34.922Z"
   },
   {
    "duration": 40,
    "start_time": "2022-10-16T14:44:34.951Z"
   },
   {
    "duration": 1856,
    "start_time": "2022-10-16T14:44:34.992Z"
   },
   {
    "duration": 4,
    "start_time": "2022-10-16T14:44:36.850Z"
   },
   {
    "duration": 224,
    "start_time": "2022-10-16T14:44:36.856Z"
   },
   {
    "duration": 69,
    "start_time": "2022-10-16T14:44:37.082Z"
   },
   {
    "duration": 89,
    "start_time": "2022-10-16T14:44:37.153Z"
   },
   {
    "duration": 358,
    "start_time": "2022-10-16T14:44:37.245Z"
   },
   {
    "duration": 43,
    "start_time": "2022-10-16T14:44:37.605Z"
   },
   {
    "duration": 248,
    "start_time": "2022-10-16T14:44:37.650Z"
   },
   {
    "duration": 304,
    "start_time": "2022-10-16T14:44:37.899Z"
   },
   {
    "duration": 937,
    "start_time": "2022-10-16T14:44:38.205Z"
   },
   {
    "duration": 1121,
    "start_time": "2022-10-16T14:44:39.143Z"
   },
   {
    "duration": 822,
    "start_time": "2022-10-16T14:44:40.265Z"
   },
   {
    "duration": 149,
    "start_time": "2022-10-16T14:44:41.089Z"
   },
   {
    "duration": 806,
    "start_time": "2022-10-16T14:44:41.240Z"
   },
   {
    "duration": 246,
    "start_time": "2022-10-16T14:44:42.048Z"
   },
   {
    "duration": 53,
    "start_time": "2022-10-16T14:44:42.296Z"
   },
   {
    "duration": 7,
    "start_time": "2022-10-16T14:44:42.350Z"
   },
   {
    "duration": 269,
    "start_time": "2022-10-16T14:44:42.358Z"
   },
   {
    "duration": 261,
    "start_time": "2022-10-16T14:44:42.628Z"
   },
   {
    "duration": 12,
    "start_time": "2022-10-16T14:44:42.890Z"
   },
   {
    "duration": 23,
    "start_time": "2022-10-16T14:44:42.904Z"
   },
   {
    "duration": 449,
    "start_time": "2022-10-16T14:44:42.928Z"
   },
   {
    "duration": 2650,
    "start_time": "2022-10-16T14:44:43.379Z"
   },
   {
    "duration": 295,
    "start_time": "2022-10-16T14:44:46.033Z"
   },
   {
    "duration": 1212,
    "start_time": "2022-10-16T14:44:46.330Z"
   },
   {
    "duration": 171,
    "start_time": "2022-10-16T14:44:47.544Z"
   },
   {
    "duration": 149,
    "start_time": "2022-10-16T14:44:47.716Z"
   },
   {
    "duration": 371,
    "start_time": "2022-10-16T14:45:45.675Z"
   },
   {
    "duration": 34,
    "start_time": "2022-10-16T14:45:52.633Z"
   },
   {
    "duration": 3,
    "start_time": "2022-10-16T14:58:38.052Z"
   },
   {
    "duration": 78,
    "start_time": "2022-10-16T14:58:38.752Z"
   },
   {
    "duration": 26,
    "start_time": "2022-10-16T14:58:39.545Z"
   },
   {
    "duration": 43,
    "start_time": "2022-10-16T14:58:41.074Z"
   },
   {
    "duration": 1811,
    "start_time": "2022-10-16T14:59:15.415Z"
   },
   {
    "duration": 4,
    "start_time": "2022-10-16T14:59:31.773Z"
   },
   {
    "duration": 204,
    "start_time": "2022-10-16T14:59:32.805Z"
   },
   {
    "duration": 72,
    "start_time": "2022-10-16T14:59:35.230Z"
   },
   {
    "duration": 113,
    "start_time": "2022-10-16T14:59:38.357Z"
   },
   {
    "duration": 308,
    "start_time": "2022-10-16T14:59:42.084Z"
   },
   {
    "duration": 38,
    "start_time": "2022-10-16T15:00:05.155Z"
   },
   {
    "duration": 35,
    "start_time": "2022-10-16T15:00:15.743Z"
   },
   {
    "duration": 412,
    "start_time": "2022-10-16T15:00:21.356Z"
   },
   {
    "duration": 39,
    "start_time": "2022-10-16T15:00:31.086Z"
   },
   {
    "duration": 57,
    "start_time": "2022-10-16T15:01:32.571Z"
   },
   {
    "duration": 57,
    "start_time": "2022-10-16T15:01:42.222Z"
   },
   {
    "duration": 77,
    "start_time": "2022-10-16T15:01:52.009Z"
   },
   {
    "duration": 318,
    "start_time": "2022-10-16T15:01:57.472Z"
   },
   {
    "duration": 39,
    "start_time": "2022-10-16T15:02:17.930Z"
   },
   {
    "duration": 226,
    "start_time": "2022-10-16T15:02:22.408Z"
   },
   {
    "duration": 1012,
    "start_time": "2022-10-16T15:02:27.237Z"
   },
   {
    "duration": 939,
    "start_time": "2022-10-16T15:02:35.189Z"
   },
   {
    "duration": 1012,
    "start_time": "2022-10-16T15:02:41.665Z"
   },
   {
    "duration": 147,
    "start_time": "2022-10-16T15:02:52.167Z"
   },
   {
    "duration": 617,
    "start_time": "2022-10-16T15:02:55.887Z"
   },
   {
    "duration": 238,
    "start_time": "2022-10-16T15:02:59.168Z"
   },
   {
    "duration": 16,
    "start_time": "2022-10-16T15:03:04.302Z"
   },
   {
    "duration": 16,
    "start_time": "2022-10-16T15:04:32.233Z"
   },
   {
    "duration": 1075,
    "start_time": "2022-10-16T15:06:55.221Z"
   },
   {
    "duration": 13,
    "start_time": "2022-10-16T15:07:09.851Z"
   },
   {
    "duration": 313,
    "start_time": "2022-10-16T15:07:26.226Z"
   },
   {
    "duration": 2506,
    "start_time": "2022-10-16T15:08:16.976Z"
   },
   {
    "duration": 275,
    "start_time": "2022-10-16T15:08:38.686Z"
   },
   {
    "duration": 1202,
    "start_time": "2022-10-16T15:09:20.003Z"
   },
   {
    "duration": 78,
    "start_time": "2022-10-16T15:10:08.443Z"
   },
   {
    "duration": 19,
    "start_time": "2022-10-16T15:10:24.557Z"
   },
   {
    "duration": 19,
    "start_time": "2022-10-16T15:10:30.593Z"
   },
   {
    "duration": 18,
    "start_time": "2022-10-16T15:10:33.974Z"
   },
   {
    "duration": 1053,
    "start_time": "2022-10-16T15:11:51.088Z"
   },
   {
    "duration": 165,
    "start_time": "2022-10-16T15:12:18.603Z"
   },
   {
    "duration": 147,
    "start_time": "2022-10-16T15:12:28.382Z"
   },
   {
    "duration": 1270,
    "start_time": "2022-10-16T15:19:15.910Z"
   },
   {
    "duration": 1119,
    "start_time": "2022-10-16T15:19:45.404Z"
   },
   {
    "duration": 44,
    "start_time": "2022-10-16T15:20:14.856Z"
   },
   {
    "duration": 208,
    "start_time": "2022-10-16T16:59:33.388Z"
   },
   {
    "duration": 620,
    "start_time": "2022-10-16T17:00:52.420Z"
   },
   {
    "duration": 81,
    "start_time": "2022-10-16T17:00:53.042Z"
   },
   {
    "duration": 26,
    "start_time": "2022-10-16T17:00:53.125Z"
   },
   {
    "duration": 36,
    "start_time": "2022-10-16T17:00:53.153Z"
   },
   {
    "duration": 1837,
    "start_time": "2022-10-16T17:00:53.191Z"
   },
   {
    "duration": 4,
    "start_time": "2022-10-16T17:00:55.030Z"
   },
   {
    "duration": 218,
    "start_time": "2022-10-16T17:00:55.036Z"
   },
   {
    "duration": 68,
    "start_time": "2022-10-16T17:00:55.256Z"
   },
   {
    "duration": 79,
    "start_time": "2022-10-16T17:00:55.325Z"
   },
   {
    "duration": 375,
    "start_time": "2022-10-16T17:00:55.407Z"
   },
   {
    "duration": 42,
    "start_time": "2022-10-16T17:00:55.783Z"
   },
   {
    "duration": 238,
    "start_time": "2022-10-16T17:00:55.827Z"
   },
   {
    "duration": 295,
    "start_time": "2022-10-16T17:00:56.067Z"
   },
   {
    "duration": 908,
    "start_time": "2022-10-16T17:00:56.364Z"
   },
   {
    "duration": 1056,
    "start_time": "2022-10-16T17:00:57.274Z"
   },
   {
    "duration": 906,
    "start_time": "2022-10-16T17:00:58.331Z"
   },
   {
    "duration": 149,
    "start_time": "2022-10-16T17:00:59.238Z"
   },
   {
    "duration": 784,
    "start_time": "2022-10-16T17:00:59.388Z"
   },
   {
    "duration": 289,
    "start_time": "2022-10-16T17:01:00.174Z"
   },
   {
    "duration": 49,
    "start_time": "2022-10-16T17:01:00.465Z"
   },
   {
    "duration": 7,
    "start_time": "2022-10-16T17:01:00.523Z"
   },
   {
    "duration": 327,
    "start_time": "2022-10-16T17:01:00.532Z"
   },
   {
    "duration": 285,
    "start_time": "2022-10-16T17:01:00.861Z"
   },
   {
    "duration": 12,
    "start_time": "2022-10-16T17:01:01.148Z"
   },
   {
    "duration": 45,
    "start_time": "2022-10-16T17:01:01.161Z"
   },
   {
    "duration": 462,
    "start_time": "2022-10-16T17:01:01.208Z"
   },
   {
    "duration": 2493,
    "start_time": "2022-10-16T17:01:01.672Z"
   },
   {
    "duration": 268,
    "start_time": "2022-10-16T17:01:04.168Z"
   },
   {
    "duration": 195,
    "start_time": "2022-10-16T17:01:04.438Z"
   },
   {
    "duration": 0,
    "start_time": "2022-10-16T17:01:04.635Z"
   },
   {
    "duration": 0,
    "start_time": "2022-10-16T17:01:04.636Z"
   },
   {
    "duration": 1134,
    "start_time": "2022-10-16T17:01:38.734Z"
   },
   {
    "duration": 1462,
    "start_time": "2022-10-17T14:11:14.765Z"
   },
   {
    "duration": 285,
    "start_time": "2022-10-17T14:11:16.228Z"
   },
   {
    "duration": 98,
    "start_time": "2022-10-17T14:11:16.515Z"
   },
   {
    "duration": 111,
    "start_time": "2022-10-17T14:11:16.615Z"
   },
   {
    "duration": 7422,
    "start_time": "2022-10-17T14:11:16.799Z"
   },
   {
    "duration": 79,
    "start_time": "2022-10-17T14:11:24.223Z"
   },
   {
    "duration": 1103,
    "start_time": "2022-10-17T14:11:24.304Z"
   },
   {
    "duration": 395,
    "start_time": "2022-10-17T14:11:25.410Z"
   },
   {
    "duration": 396,
    "start_time": "2022-10-17T14:11:25.807Z"
   },
   {
    "duration": 2097,
    "start_time": "2022-10-17T14:11:26.205Z"
   },
   {
    "duration": 298,
    "start_time": "2022-10-17T14:11:28.304Z"
   },
   {
    "duration": 911,
    "start_time": "2022-10-17T14:11:28.603Z"
   },
   {
    "duration": 1585,
    "start_time": "2022-10-17T14:11:29.516Z"
   },
   {
    "duration": 4106,
    "start_time": "2022-10-17T14:11:31.105Z"
   },
   {
    "duration": 5193,
    "start_time": "2022-10-17T14:11:35.214Z"
   },
   {
    "duration": 4010,
    "start_time": "2022-10-17T14:11:40.409Z"
   },
   {
    "duration": 683,
    "start_time": "2022-10-17T14:11:44.421Z"
   },
   {
    "duration": 4493,
    "start_time": "2022-10-17T14:11:45.107Z"
   },
   {
    "duration": 1002,
    "start_time": "2022-10-17T14:11:49.603Z"
   },
   {
    "duration": 209,
    "start_time": "2022-10-17T14:11:50.607Z"
   },
   {
    "duration": 505,
    "start_time": "2022-10-17T14:11:50.818Z"
   },
   {
    "duration": 1607,
    "start_time": "2022-10-17T14:11:51.401Z"
   },
   {
    "duration": 1504,
    "start_time": "2022-10-17T14:11:53.010Z"
   },
   {
    "duration": 91,
    "start_time": "2022-10-17T14:11:54.517Z"
   },
   {
    "duration": 93,
    "start_time": "2022-10-17T14:11:54.609Z"
   },
   {
    "duration": 2801,
    "start_time": "2022-10-17T14:11:54.704Z"
   },
   {
    "duration": 11003,
    "start_time": "2022-10-17T14:11:57.507Z"
   },
   {
    "duration": 1205,
    "start_time": "2022-10-17T14:12:08.512Z"
   },
   {
    "duration": 5792,
    "start_time": "2022-10-17T14:12:09.718Z"
   },
   {
    "duration": 1502,
    "start_time": "2022-10-17T14:12:15.512Z"
   },
   {
    "duration": 598,
    "start_time": "2022-10-17T14:12:17.016Z"
   },
   {
    "duration": 522,
    "start_time": "2022-10-17T14:16:31.712Z"
   },
   {
    "duration": 93,
    "start_time": "2022-10-17T14:16:32.520Z"
   },
   {
    "duration": 3052,
    "start_time": "2022-10-17T14:16:36.249Z"
   },
   {
    "duration": 341,
    "start_time": "2022-10-17T14:16:40.592Z"
   },
   {
    "duration": 937,
    "start_time": "2022-10-17T14:16:45.848Z"
   },
   {
    "duration": 164,
    "start_time": "2022-10-17T14:33:53.381Z"
   },
   {
    "duration": 125,
    "start_time": "2022-10-17T14:39:14.874Z"
   },
   {
    "duration": 570,
    "start_time": "2022-10-17T14:41:32.436Z"
   },
   {
    "duration": 75,
    "start_time": "2022-10-17T14:41:33.008Z"
   },
   {
    "duration": 25,
    "start_time": "2022-10-17T14:41:33.085Z"
   },
   {
    "duration": 37,
    "start_time": "2022-10-17T14:41:33.112Z"
   },
   {
    "duration": 2744,
    "start_time": "2022-10-17T14:41:33.151Z"
   },
   {
    "duration": 4,
    "start_time": "2022-10-17T14:41:35.900Z"
   },
   {
    "duration": 228,
    "start_time": "2022-10-17T14:41:35.905Z"
   },
   {
    "duration": 68,
    "start_time": "2022-10-17T14:41:36.135Z"
   },
   {
    "duration": 76,
    "start_time": "2022-10-17T14:41:36.204Z"
   },
   {
    "duration": 360,
    "start_time": "2022-10-17T14:41:36.282Z"
   },
   {
    "duration": 42,
    "start_time": "2022-10-17T14:41:36.643Z"
   },
   {
    "duration": 237,
    "start_time": "2022-10-17T14:41:36.686Z"
   },
   {
    "duration": 291,
    "start_time": "2022-10-17T14:41:36.924Z"
   },
   {
    "duration": 836,
    "start_time": "2022-10-17T14:41:37.217Z"
   },
   {
    "duration": 13,
    "start_time": "2022-10-17T14:41:38.055Z"
   },
   {
    "duration": 993,
    "start_time": "2022-10-17T14:41:38.069Z"
   },
   {
    "duration": 4,
    "start_time": "2022-10-17T14:41:39.063Z"
   },
   {
    "duration": 832,
    "start_time": "2022-10-17T14:41:39.068Z"
   },
   {
    "duration": 142,
    "start_time": "2022-10-17T14:41:39.901Z"
   },
   {
    "duration": 740,
    "start_time": "2022-10-17T14:41:40.044Z"
   },
   {
    "duration": 242,
    "start_time": "2022-10-17T14:41:40.785Z"
   },
   {
    "duration": 50,
    "start_time": "2022-10-17T14:41:41.029Z"
   },
   {
    "duration": 190,
    "start_time": "2022-10-17T14:41:41.081Z"
   },
   {
    "duration": 7,
    "start_time": "2022-10-17T14:41:41.273Z"
   },
   {
    "duration": 301,
    "start_time": "2022-10-17T14:41:41.281Z"
   },
   {
    "duration": 294,
    "start_time": "2022-10-17T14:41:41.584Z"
   },
   {
    "duration": 13,
    "start_time": "2022-10-17T14:41:41.879Z"
   },
   {
    "duration": 135,
    "start_time": "2022-10-17T14:41:41.901Z"
   },
   {
    "duration": 357,
    "start_time": "2022-10-17T14:41:42.038Z"
   },
   {
    "duration": 2383,
    "start_time": "2022-10-17T14:41:42.396Z"
   },
   {
    "duration": 369,
    "start_time": "2022-10-17T14:41:44.781Z"
   },
   {
    "duration": 1086,
    "start_time": "2022-10-17T14:41:45.152Z"
   },
   {
    "duration": 120,
    "start_time": "2022-10-17T14:41:46.240Z"
   },
   {
    "duration": 218,
    "start_time": "2022-10-17T14:41:46.362Z"
   },
   {
    "duration": 154,
    "start_time": "2022-10-17T14:41:46.582Z"
   },
   {
    "duration": 545,
    "start_time": "2022-10-17T14:41:46.737Z"
   },
   {
    "duration": 3088,
    "start_time": "2022-10-17T14:41:47.283Z"
   },
   {
    "duration": 366,
    "start_time": "2022-10-17T14:41:50.372Z"
   },
   {
    "duration": 645,
    "start_time": "2022-10-17T14:44:23.896Z"
   },
   {
    "duration": 86,
    "start_time": "2022-10-17T14:44:24.543Z"
   },
   {
    "duration": 25,
    "start_time": "2022-10-17T14:44:24.632Z"
   },
   {
    "duration": 46,
    "start_time": "2022-10-17T14:44:24.658Z"
   },
   {
    "duration": 1846,
    "start_time": "2022-10-17T14:44:24.706Z"
   },
   {
    "duration": 4,
    "start_time": "2022-10-17T14:44:26.554Z"
   },
   {
    "duration": 209,
    "start_time": "2022-10-17T14:44:26.559Z"
   },
   {
    "duration": 65,
    "start_time": "2022-10-17T14:44:26.770Z"
   },
   {
    "duration": 81,
    "start_time": "2022-10-17T14:44:26.838Z"
   },
   {
    "duration": 338,
    "start_time": "2022-10-17T14:44:26.921Z"
   },
   {
    "duration": 43,
    "start_time": "2022-10-17T14:44:27.261Z"
   },
   {
    "duration": 246,
    "start_time": "2022-10-17T14:44:27.305Z"
   },
   {
    "duration": 268,
    "start_time": "2022-10-17T14:44:27.552Z"
   },
   {
    "duration": 3,
    "start_time": "2022-10-17T14:44:27.822Z"
   },
   {
    "duration": 842,
    "start_time": "2022-10-17T14:44:27.826Z"
   },
   {
    "duration": 11,
    "start_time": "2022-10-17T14:44:28.670Z"
   },
   {
    "duration": 1014,
    "start_time": "2022-10-17T14:44:28.682Z"
   },
   {
    "duration": 4,
    "start_time": "2022-10-17T14:44:29.699Z"
   },
   {
    "duration": 869,
    "start_time": "2022-10-17T14:44:29.705Z"
   },
   {
    "duration": 147,
    "start_time": "2022-10-17T14:44:30.575Z"
   },
   {
    "duration": 789,
    "start_time": "2022-10-17T14:44:30.724Z"
   },
   {
    "duration": 236,
    "start_time": "2022-10-17T14:44:31.515Z"
   },
   {
    "duration": 51,
    "start_time": "2022-10-17T14:44:31.753Z"
   },
   {
    "duration": 154,
    "start_time": "2022-10-17T14:44:31.806Z"
   },
   {
    "duration": 8,
    "start_time": "2022-10-17T14:44:31.961Z"
   },
   {
    "duration": 272,
    "start_time": "2022-10-17T14:44:31.970Z"
   },
   {
    "duration": 270,
    "start_time": "2022-10-17T14:44:32.246Z"
   },
   {
    "duration": 13,
    "start_time": "2022-10-17T14:44:32.518Z"
   },
   {
    "duration": 142,
    "start_time": "2022-10-17T14:44:32.532Z"
   },
   {
    "duration": 365,
    "start_time": "2022-10-17T14:44:32.676Z"
   },
   {
    "duration": 2431,
    "start_time": "2022-10-17T14:44:33.043Z"
   },
   {
    "duration": 379,
    "start_time": "2022-10-17T14:44:35.476Z"
   },
   {
    "duration": 1052,
    "start_time": "2022-10-17T14:44:35.857Z"
   },
   {
    "duration": 119,
    "start_time": "2022-10-17T14:44:36.911Z"
   },
   {
    "duration": 207,
    "start_time": "2022-10-17T14:44:37.032Z"
   },
   {
    "duration": 151,
    "start_time": "2022-10-17T14:44:37.241Z"
   },
   {
    "duration": 544,
    "start_time": "2022-10-17T14:44:37.400Z"
   },
   {
    "duration": 3107,
    "start_time": "2022-10-17T14:44:37.945Z"
   },
   {
    "duration": 376,
    "start_time": "2022-10-17T14:44:41.053Z"
   },
   {
    "duration": 567,
    "start_time": "2022-10-17T15:00:00.146Z"
   },
   {
    "duration": 79,
    "start_time": "2022-10-17T15:00:00.715Z"
   },
   {
    "duration": 27,
    "start_time": "2022-10-17T15:00:00.796Z"
   },
   {
    "duration": 38,
    "start_time": "2022-10-17T15:00:00.824Z"
   },
   {
    "duration": 1771,
    "start_time": "2022-10-17T15:00:00.864Z"
   },
   {
    "duration": 4,
    "start_time": "2022-10-17T15:00:02.637Z"
   },
   {
    "duration": 253,
    "start_time": "2022-10-17T15:00:02.642Z"
   },
   {
    "duration": 62,
    "start_time": "2022-10-17T15:00:02.897Z"
   },
   {
    "duration": 90,
    "start_time": "2022-10-17T15:00:02.961Z"
   },
   {
    "duration": 338,
    "start_time": "2022-10-17T15:00:03.052Z"
   },
   {
    "duration": 38,
    "start_time": "2022-10-17T15:00:03.392Z"
   },
   {
    "duration": 3,
    "start_time": "2022-10-17T15:00:03.432Z"
   },
   {
    "duration": 22,
    "start_time": "2022-10-17T15:00:03.437Z"
   },
   {
    "duration": 232,
    "start_time": "2022-10-17T15:00:03.462Z"
   },
   {
    "duration": 299,
    "start_time": "2022-10-17T15:00:03.701Z"
   },
   {
    "duration": 3,
    "start_time": "2022-10-17T15:00:04.002Z"
   },
   {
    "duration": 1005,
    "start_time": "2022-10-17T15:00:04.007Z"
   },
   {
    "duration": 14,
    "start_time": "2022-10-17T15:00:05.014Z"
   },
   {
    "duration": 1127,
    "start_time": "2022-10-17T15:00:05.030Z"
   },
   {
    "duration": 3,
    "start_time": "2022-10-17T15:00:06.159Z"
   },
   {
    "duration": 832,
    "start_time": "2022-10-17T15:00:06.164Z"
   },
   {
    "duration": 160,
    "start_time": "2022-10-17T15:00:07.000Z"
   },
   {
    "duration": 793,
    "start_time": "2022-10-17T15:00:07.162Z"
   },
   {
    "duration": 248,
    "start_time": "2022-10-17T15:00:07.957Z"
   },
   {
    "duration": 45,
    "start_time": "2022-10-17T15:00:08.207Z"
   },
   {
    "duration": 173,
    "start_time": "2022-10-17T15:00:08.253Z"
   },
   {
    "duration": 8,
    "start_time": "2022-10-17T15:00:08.427Z"
   },
   {
    "duration": 299,
    "start_time": "2022-10-17T15:00:08.436Z"
   },
   {
    "duration": 284,
    "start_time": "2022-10-17T15:00:08.737Z"
   },
   {
    "duration": 13,
    "start_time": "2022-10-17T15:00:09.023Z"
   },
   {
    "duration": 146,
    "start_time": "2022-10-17T15:00:09.038Z"
   },
   {
    "duration": 330,
    "start_time": "2022-10-17T15:00:09.185Z"
   },
   {
    "duration": 2301,
    "start_time": "2022-10-17T15:00:09.516Z"
   },
   {
    "duration": 352,
    "start_time": "2022-10-17T15:00:11.819Z"
   },
   {
    "duration": 1054,
    "start_time": "2022-10-17T15:00:12.173Z"
   },
   {
    "duration": 127,
    "start_time": "2022-10-17T15:00:13.229Z"
   },
   {
    "duration": 231,
    "start_time": "2022-10-17T15:00:13.358Z"
   },
   {
    "duration": 147,
    "start_time": "2022-10-17T15:00:13.590Z"
   },
   {
    "duration": 568,
    "start_time": "2022-10-17T15:00:13.738Z"
   },
   {
    "duration": 3376,
    "start_time": "2022-10-17T15:00:14.308Z"
   },
   {
    "duration": 351,
    "start_time": "2022-10-17T15:00:17.687Z"
   },
   {
    "duration": 779,
    "start_time": "2022-10-17T15:24:10.192Z"
   },
   {
    "duration": 309,
    "start_time": "2022-10-17T15:24:10.973Z"
   },
   {
    "duration": 30,
    "start_time": "2022-10-17T15:24:11.283Z"
   },
   {
    "duration": 40,
    "start_time": "2022-10-17T15:24:11.314Z"
   },
   {
    "duration": 1927,
    "start_time": "2022-10-17T15:24:11.357Z"
   },
   {
    "duration": 4,
    "start_time": "2022-10-17T15:24:13.286Z"
   },
   {
    "duration": 237,
    "start_time": "2022-10-17T15:24:13.292Z"
   },
   {
    "duration": 73,
    "start_time": "2022-10-17T15:24:13.531Z"
   },
   {
    "duration": 93,
    "start_time": "2022-10-17T15:24:13.605Z"
   },
   {
    "duration": 353,
    "start_time": "2022-10-17T15:24:13.700Z"
   },
   {
    "duration": 51,
    "start_time": "2022-10-17T15:24:14.055Z"
   },
   {
    "duration": 4,
    "start_time": "2022-10-17T15:24:14.107Z"
   },
   {
    "duration": 14,
    "start_time": "2022-10-17T15:24:14.112Z"
   },
   {
    "duration": 267,
    "start_time": "2022-10-17T15:24:14.128Z"
   },
   {
    "duration": 350,
    "start_time": "2022-10-17T15:24:14.398Z"
   },
   {
    "duration": 3,
    "start_time": "2022-10-17T15:24:14.750Z"
   },
   {
    "duration": 917,
    "start_time": "2022-10-17T15:24:14.755Z"
   },
   {
    "duration": 23,
    "start_time": "2022-10-17T15:24:15.674Z"
   },
   {
    "duration": 992,
    "start_time": "2022-10-17T15:24:15.698Z"
   },
   {
    "duration": 6,
    "start_time": "2022-10-17T15:24:16.692Z"
   },
   {
    "duration": 865,
    "start_time": "2022-10-17T15:24:16.699Z"
   },
   {
    "duration": 148,
    "start_time": "2022-10-17T15:24:17.565Z"
   },
   {
    "duration": 735,
    "start_time": "2022-10-17T15:24:17.715Z"
   },
   {
    "duration": 409,
    "start_time": "2022-10-17T15:24:18.452Z"
   },
   {
    "duration": 53,
    "start_time": "2022-10-17T15:24:18.862Z"
   },
   {
    "duration": 188,
    "start_time": "2022-10-17T15:24:18.916Z"
   },
   {
    "duration": 7,
    "start_time": "2022-10-17T15:24:19.106Z"
   },
   {
    "duration": 288,
    "start_time": "2022-10-17T15:24:19.116Z"
   },
   {
    "duration": 287,
    "start_time": "2022-10-17T15:24:19.405Z"
   },
   {
    "duration": 12,
    "start_time": "2022-10-17T15:24:19.696Z"
   },
   {
    "duration": 11,
    "start_time": "2022-10-17T15:24:19.710Z"
   },
   {
    "duration": 329,
    "start_time": "2022-10-17T15:24:19.722Z"
   },
   {
    "duration": 2293,
    "start_time": "2022-10-17T15:24:20.053Z"
   },
   {
    "duration": 274,
    "start_time": "2022-10-17T15:24:22.348Z"
   },
   {
    "duration": 1248,
    "start_time": "2022-10-17T15:24:22.624Z"
   },
   {
    "duration": 137,
    "start_time": "2022-10-17T15:24:23.873Z"
   },
   {
    "duration": 221,
    "start_time": "2022-10-17T15:24:24.012Z"
   },
   {
    "duration": 163,
    "start_time": "2022-10-17T15:24:24.234Z"
   },
   {
    "duration": 478,
    "start_time": "2022-10-17T15:24:24.398Z"
   },
   {
    "duration": 3152,
    "start_time": "2022-10-17T15:24:24.877Z"
   },
   {
    "duration": 449,
    "start_time": "2022-10-17T15:24:28.031Z"
   },
   {
    "duration": 1086,
    "start_time": "2022-10-17T15:26:12.495Z"
   },
   {
    "duration": 929,
    "start_time": "2022-10-17T15:26:21.460Z"
   },
   {
    "duration": 1094,
    "start_time": "2022-10-17T15:26:28.718Z"
   },
   {
    "duration": 226,
    "start_time": "2022-10-17T15:27:25.980Z"
   },
   {
    "duration": 222,
    "start_time": "2022-10-17T15:27:39.136Z"
   },
   {
    "duration": 3,
    "start_time": "2022-10-17T15:27:51.115Z"
   },
   {
    "duration": 90,
    "start_time": "2022-10-17T15:27:51.724Z"
   },
   {
    "duration": 36,
    "start_time": "2022-10-17T15:27:52.357Z"
   },
   {
    "duration": 41,
    "start_time": "2022-10-17T15:27:53.061Z"
   },
   {
    "duration": 1970,
    "start_time": "2022-10-17T15:27:55.253Z"
   },
   {
    "duration": 6,
    "start_time": "2022-10-17T15:27:58.164Z"
   },
   {
    "duration": 212,
    "start_time": "2022-10-17T15:27:58.920Z"
   },
   {
    "duration": 65,
    "start_time": "2022-10-17T15:28:00.709Z"
   },
   {
    "duration": 85,
    "start_time": "2022-10-17T15:28:03.028Z"
   },
   {
    "duration": 357,
    "start_time": "2022-10-17T15:28:05.340Z"
   },
   {
    "duration": 42,
    "start_time": "2022-10-17T15:28:10.253Z"
   },
   {
    "duration": 4,
    "start_time": "2022-10-17T15:28:11.868Z"
   },
   {
    "duration": 13,
    "start_time": "2022-10-17T15:28:12.560Z"
   },
   {
    "duration": 248,
    "start_time": "2022-10-17T15:28:13.414Z"
   },
   {
    "duration": 246,
    "start_time": "2022-10-17T15:28:32.881Z"
   },
   {
    "duration": 246,
    "start_time": "2022-10-17T15:28:50.232Z"
   },
   {
    "duration": 1114,
    "start_time": "2022-10-17T15:30:12.917Z"
   },
   {
    "duration": 928,
    "start_time": "2022-10-17T15:30:46.218Z"
   },
   {
    "duration": 1103,
    "start_time": "2022-10-17T15:30:59.211Z"
   },
   {
    "duration": 938,
    "start_time": "2022-10-17T15:31:03.170Z"
   },
   {
    "duration": 67,
    "start_time": "2022-10-17T15:32:07.227Z"
   },
   {
    "duration": 177,
    "start_time": "2022-10-17T15:38:13.273Z"
   },
   {
    "duration": 191,
    "start_time": "2022-10-17T15:38:21.120Z"
   },
   {
    "duration": 188,
    "start_time": "2022-10-17T15:39:29.849Z"
   },
   {
    "duration": 425,
    "start_time": "2022-10-17T15:43:01.255Z"
   },
   {
    "duration": 194,
    "start_time": "2022-10-17T15:43:13.128Z"
   },
   {
    "duration": 674,
    "start_time": "2022-10-17T15:44:32.070Z"
   },
   {
    "duration": 99,
    "start_time": "2022-10-17T15:44:32.746Z"
   },
   {
    "duration": 39,
    "start_time": "2022-10-17T15:44:32.847Z"
   },
   {
    "duration": 58,
    "start_time": "2022-10-17T15:44:32.888Z"
   },
   {
    "duration": 2087,
    "start_time": "2022-10-17T15:44:32.949Z"
   },
   {
    "duration": 4,
    "start_time": "2022-10-17T15:44:35.038Z"
   },
   {
    "duration": 232,
    "start_time": "2022-10-17T15:44:35.044Z"
   },
   {
    "duration": 75,
    "start_time": "2022-10-17T15:44:35.278Z"
   },
   {
    "duration": 97,
    "start_time": "2022-10-17T15:44:35.354Z"
   },
   {
    "duration": 380,
    "start_time": "2022-10-17T15:44:35.453Z"
   },
   {
    "duration": 39,
    "start_time": "2022-10-17T15:44:35.835Z"
   },
   {
    "duration": 4,
    "start_time": "2022-10-17T15:44:35.875Z"
   },
   {
    "duration": 13,
    "start_time": "2022-10-17T15:44:35.897Z"
   },
   {
    "duration": 270,
    "start_time": "2022-10-17T15:44:35.913Z"
   },
   {
    "duration": 315,
    "start_time": "2022-10-17T15:44:36.185Z"
   },
   {
    "duration": 5,
    "start_time": "2022-10-17T15:44:36.502Z"
   },
   {
    "duration": 988,
    "start_time": "2022-10-17T15:44:36.509Z"
   },
   {
    "duration": 15,
    "start_time": "2022-10-17T15:44:37.499Z"
   },
   {
    "duration": 1210,
    "start_time": "2022-10-17T15:44:37.515Z"
   },
   {
    "duration": 5,
    "start_time": "2022-10-17T15:44:38.727Z"
   },
   {
    "duration": 915,
    "start_time": "2022-10-17T15:44:38.734Z"
   },
   {
    "duration": 163,
    "start_time": "2022-10-17T15:44:39.650Z"
   },
   {
    "duration": 708,
    "start_time": "2022-10-17T15:44:39.814Z"
   },
   {
    "duration": 434,
    "start_time": "2022-10-17T15:44:40.524Z"
   },
   {
    "duration": 60,
    "start_time": "2022-10-17T15:44:40.960Z"
   },
   {
    "duration": 219,
    "start_time": "2022-10-17T15:44:41.021Z"
   },
   {
    "duration": 7,
    "start_time": "2022-10-17T15:44:41.242Z"
   },
   {
    "duration": 394,
    "start_time": "2022-10-17T15:44:41.251Z"
   },
   {
    "duration": 318,
    "start_time": "2022-10-17T15:44:41.649Z"
   },
   {
    "duration": 12,
    "start_time": "2022-10-17T15:44:41.969Z"
   },
   {
    "duration": 25,
    "start_time": "2022-10-17T15:44:41.983Z"
   },
   {
    "duration": 479,
    "start_time": "2022-10-17T15:44:42.010Z"
   },
   {
    "duration": 2793,
    "start_time": "2022-10-17T15:44:42.491Z"
   },
   {
    "duration": 291,
    "start_time": "2022-10-17T15:44:45.286Z"
   },
   {
    "duration": 1408,
    "start_time": "2022-10-17T15:44:45.579Z"
   },
   {
    "duration": 149,
    "start_time": "2022-10-17T15:44:46.989Z"
   },
   {
    "duration": 243,
    "start_time": "2022-10-17T15:44:47.140Z"
   },
   {
    "duration": 177,
    "start_time": "2022-10-17T15:44:47.385Z"
   },
   {
    "duration": 650,
    "start_time": "2022-10-17T15:44:47.563Z"
   },
   {
    "duration": 3581,
    "start_time": "2022-10-17T15:44:48.215Z"
   },
   {
    "duration": 403,
    "start_time": "2022-10-17T15:44:51.801Z"
   },
   {
    "duration": 23,
    "start_time": "2022-10-17T15:46:54.468Z"
   },
   {
    "duration": 190,
    "start_time": "2022-10-17T15:47:06.243Z"
   },
   {
    "duration": 194,
    "start_time": "2022-10-17T15:47:29.697Z"
   },
   {
    "duration": 35,
    "start_time": "2022-10-17T15:48:19.958Z"
   },
   {
    "duration": 2818,
    "start_time": "2022-10-17T15:51:26.740Z"
   },
   {
    "duration": 61,
    "start_time": "2022-10-17T15:52:37.485Z"
   },
   {
    "duration": 652,
    "start_time": "2022-10-17T15:52:45.124Z"
   },
   {
    "duration": 102,
    "start_time": "2022-10-17T15:52:45.778Z"
   },
   {
    "duration": 38,
    "start_time": "2022-10-17T15:52:45.882Z"
   },
   {
    "duration": 42,
    "start_time": "2022-10-17T15:52:45.922Z"
   },
   {
    "duration": 1929,
    "start_time": "2022-10-17T15:52:45.967Z"
   },
   {
    "duration": 4,
    "start_time": "2022-10-17T15:52:47.898Z"
   },
   {
    "duration": 256,
    "start_time": "2022-10-17T15:52:47.904Z"
   },
   {
    "duration": 94,
    "start_time": "2022-10-17T15:52:48.162Z"
   },
   {
    "duration": 124,
    "start_time": "2022-10-17T15:52:48.258Z"
   },
   {
    "duration": 377,
    "start_time": "2022-10-17T15:52:48.383Z"
   },
   {
    "duration": 40,
    "start_time": "2022-10-17T15:52:48.762Z"
   },
   {
    "duration": 4,
    "start_time": "2022-10-17T15:52:48.804Z"
   },
   {
    "duration": 13,
    "start_time": "2022-10-17T15:52:48.810Z"
   },
   {
    "duration": 273,
    "start_time": "2022-10-17T15:52:48.827Z"
   },
   {
    "duration": 333,
    "start_time": "2022-10-17T15:52:49.102Z"
   },
   {
    "duration": 4,
    "start_time": "2022-10-17T15:52:49.438Z"
   },
   {
    "duration": 993,
    "start_time": "2022-10-17T15:52:49.444Z"
   },
   {
    "duration": 13,
    "start_time": "2022-10-17T15:52:50.438Z"
   },
   {
    "duration": 1048,
    "start_time": "2022-10-17T15:52:50.452Z"
   },
   {
    "duration": 4,
    "start_time": "2022-10-17T15:52:51.502Z"
   },
   {
    "duration": 896,
    "start_time": "2022-10-17T15:52:51.508Z"
   },
   {
    "duration": 160,
    "start_time": "2022-10-17T15:52:52.406Z"
   },
   {
    "duration": 704,
    "start_time": "2022-10-17T15:52:52.568Z"
   },
   {
    "duration": 391,
    "start_time": "2022-10-17T15:52:53.274Z"
   },
   {
    "duration": 54,
    "start_time": "2022-10-17T15:52:53.667Z"
   },
   {
    "duration": 200,
    "start_time": "2022-10-17T15:52:53.723Z"
   },
   {
    "duration": 8,
    "start_time": "2022-10-17T15:52:53.925Z"
   },
   {
    "duration": 307,
    "start_time": "2022-10-17T15:52:53.934Z"
   },
   {
    "duration": 304,
    "start_time": "2022-10-17T15:52:54.242Z"
   },
   {
    "duration": 19,
    "start_time": "2022-10-17T15:52:54.549Z"
   },
   {
    "duration": 32,
    "start_time": "2022-10-17T15:52:54.570Z"
   },
   {
    "duration": 442,
    "start_time": "2022-10-17T15:52:54.604Z"
   },
   {
    "duration": 2521,
    "start_time": "2022-10-17T15:52:55.048Z"
   },
   {
    "duration": 275,
    "start_time": "2022-10-17T15:52:57.570Z"
   },
   {
    "duration": 1368,
    "start_time": "2022-10-17T15:52:57.847Z"
   },
   {
    "duration": 220,
    "start_time": "2022-10-17T15:52:59.217Z"
   },
   {
    "duration": 299,
    "start_time": "2022-10-17T15:52:59.439Z"
   },
   {
    "duration": 165,
    "start_time": "2022-10-17T15:52:59.740Z"
   },
   {
    "duration": 560,
    "start_time": "2022-10-17T15:52:59.906Z"
   },
   {
    "duration": 3503,
    "start_time": "2022-10-17T15:53:00.468Z"
   },
   {
    "duration": 393,
    "start_time": "2022-10-17T15:53:03.974Z"
   },
   {
    "duration": 1098,
    "start_time": "2022-10-17T15:57:40.275Z"
   },
   {
    "duration": 1353,
    "start_time": "2022-10-17T15:58:30.658Z"
   },
   {
    "duration": 1124,
    "start_time": "2022-10-17T15:59:04.580Z"
   },
   {
    "duration": 678,
    "start_time": "2022-10-17T16:01:36.893Z"
   },
   {
    "duration": 95,
    "start_time": "2022-10-17T16:01:37.573Z"
   },
   {
    "duration": 34,
    "start_time": "2022-10-17T16:01:37.670Z"
   },
   {
    "duration": 41,
    "start_time": "2022-10-17T16:01:37.706Z"
   },
   {
    "duration": 2003,
    "start_time": "2022-10-17T16:01:37.749Z"
   },
   {
    "duration": 4,
    "start_time": "2022-10-17T16:01:39.754Z"
   },
   {
    "duration": 219,
    "start_time": "2022-10-17T16:01:39.760Z"
   },
   {
    "duration": 74,
    "start_time": "2022-10-17T16:01:39.981Z"
   },
   {
    "duration": 93,
    "start_time": "2022-10-17T16:01:40.057Z"
   },
   {
    "duration": 351,
    "start_time": "2022-10-17T16:01:40.152Z"
   },
   {
    "duration": 38,
    "start_time": "2022-10-17T16:01:40.504Z"
   },
   {
    "duration": 3,
    "start_time": "2022-10-17T16:01:40.543Z"
   },
   {
    "duration": 14,
    "start_time": "2022-10-17T16:01:40.548Z"
   },
   {
    "duration": 274,
    "start_time": "2022-10-17T16:01:40.563Z"
   },
   {
    "duration": 311,
    "start_time": "2022-10-17T16:01:40.839Z"
   },
   {
    "duration": 4,
    "start_time": "2022-10-17T16:01:41.151Z"
   },
   {
    "duration": 963,
    "start_time": "2022-10-17T16:01:41.156Z"
   },
   {
    "duration": 14,
    "start_time": "2022-10-17T16:01:42.121Z"
   },
   {
    "duration": 1064,
    "start_time": "2022-10-17T16:01:42.137Z"
   },
   {
    "duration": 4,
    "start_time": "2022-10-17T16:01:43.203Z"
   },
   {
    "duration": 907,
    "start_time": "2022-10-17T16:01:43.209Z"
   },
   {
    "duration": 158,
    "start_time": "2022-10-17T16:01:44.117Z"
   },
   {
    "duration": 712,
    "start_time": "2022-10-17T16:01:44.277Z"
   },
   {
    "duration": 388,
    "start_time": "2022-10-17T16:01:44.991Z"
   },
   {
    "duration": 57,
    "start_time": "2022-10-17T16:01:45.380Z"
   },
   {
    "duration": 201,
    "start_time": "2022-10-17T16:01:45.439Z"
   },
   {
    "duration": 8,
    "start_time": "2022-10-17T16:01:45.641Z"
   },
   {
    "duration": 303,
    "start_time": "2022-10-17T16:01:45.652Z"
   },
   {
    "duration": 286,
    "start_time": "2022-10-17T16:01:45.956Z"
   },
   {
    "duration": 13,
    "start_time": "2022-10-17T16:01:46.243Z"
   },
   {
    "duration": 14,
    "start_time": "2022-10-17T16:01:46.258Z"
   },
   {
    "duration": 464,
    "start_time": "2022-10-17T16:01:46.273Z"
   },
   {
    "duration": 2561,
    "start_time": "2022-10-17T16:01:46.739Z"
   },
   {
    "duration": 273,
    "start_time": "2022-10-17T16:01:49.302Z"
   },
   {
    "duration": 1257,
    "start_time": "2022-10-17T16:01:49.577Z"
   },
   {
    "duration": 132,
    "start_time": "2022-10-17T16:01:50.836Z"
   },
   {
    "duration": 231,
    "start_time": "2022-10-17T16:01:50.970Z"
   },
   {
    "duration": 151,
    "start_time": "2022-10-17T16:01:51.202Z"
   },
   {
    "duration": 577,
    "start_time": "2022-10-17T16:01:51.355Z"
   },
   {
    "duration": 3323,
    "start_time": "2022-10-17T16:01:51.933Z"
   },
   {
    "duration": 393,
    "start_time": "2022-10-17T16:01:55.258Z"
   },
   {
    "duration": 641,
    "start_time": "2022-10-17T16:13:58.222Z"
   },
   {
    "duration": 94,
    "start_time": "2022-10-17T16:13:58.865Z"
   },
   {
    "duration": 26,
    "start_time": "2022-10-17T16:13:58.961Z"
   },
   {
    "duration": 44,
    "start_time": "2022-10-17T16:13:58.989Z"
   },
   {
    "duration": 1930,
    "start_time": "2022-10-17T16:13:59.035Z"
   },
   {
    "duration": 4,
    "start_time": "2022-10-17T16:14:00.967Z"
   },
   {
    "duration": 239,
    "start_time": "2022-10-17T16:14:00.973Z"
   },
   {
    "duration": 82,
    "start_time": "2022-10-17T16:14:01.214Z"
   },
   {
    "duration": 101,
    "start_time": "2022-10-17T16:14:01.299Z"
   },
   {
    "duration": 356,
    "start_time": "2022-10-17T16:14:01.402Z"
   },
   {
    "duration": 59,
    "start_time": "2022-10-17T16:14:01.761Z"
   },
   {
    "duration": 4,
    "start_time": "2022-10-17T16:14:01.822Z"
   },
   {
    "duration": 24,
    "start_time": "2022-10-17T16:14:01.828Z"
   },
   {
    "duration": 269,
    "start_time": "2022-10-17T16:14:01.855Z"
   },
   {
    "duration": 332,
    "start_time": "2022-10-17T16:14:02.126Z"
   },
   {
    "duration": 4,
    "start_time": "2022-10-17T16:14:02.460Z"
   },
   {
    "duration": 969,
    "start_time": "2022-10-17T16:14:02.466Z"
   },
   {
    "duration": 12,
    "start_time": "2022-10-17T16:14:03.437Z"
   },
   {
    "duration": 1119,
    "start_time": "2022-10-17T16:14:03.451Z"
   },
   {
    "duration": 4,
    "start_time": "2022-10-17T16:14:04.572Z"
   },
   {
    "duration": 1008,
    "start_time": "2022-10-17T16:14:04.578Z"
   },
   {
    "duration": 157,
    "start_time": "2022-10-17T16:14:05.588Z"
   },
   {
    "duration": 693,
    "start_time": "2022-10-17T16:14:05.747Z"
   },
   {
    "duration": 393,
    "start_time": "2022-10-17T16:14:06.442Z"
   },
   {
    "duration": 63,
    "start_time": "2022-10-17T16:14:06.837Z"
   },
   {
    "duration": 205,
    "start_time": "2022-10-17T16:14:06.902Z"
   },
   {
    "duration": 7,
    "start_time": "2022-10-17T16:14:07.109Z"
   },
   {
    "duration": 293,
    "start_time": "2022-10-17T16:14:07.118Z"
   },
   {
    "duration": 286,
    "start_time": "2022-10-17T16:14:07.413Z"
   },
   {
    "duration": 14,
    "start_time": "2022-10-17T16:14:07.701Z"
   },
   {
    "duration": 17,
    "start_time": "2022-10-17T16:14:07.717Z"
   },
   {
    "duration": 472,
    "start_time": "2022-10-17T16:14:07.736Z"
   },
   {
    "duration": 2603,
    "start_time": "2022-10-17T16:14:08.211Z"
   },
   {
    "duration": 321,
    "start_time": "2022-10-17T16:14:10.816Z"
   },
   {
    "duration": 1311,
    "start_time": "2022-10-17T16:14:11.139Z"
   },
   {
    "duration": 146,
    "start_time": "2022-10-17T16:14:12.452Z"
   },
   {
    "duration": 231,
    "start_time": "2022-10-17T16:14:12.599Z"
   },
   {
    "duration": 157,
    "start_time": "2022-10-17T16:14:12.831Z"
   },
   {
    "duration": 543,
    "start_time": "2022-10-17T16:14:12.990Z"
   },
   {
    "duration": 3362,
    "start_time": "2022-10-17T16:14:13.536Z"
   },
   {
    "duration": 386,
    "start_time": "2022-10-17T16:14:16.901Z"
   },
   {
    "duration": 612,
    "start_time": "2022-10-18T11:06:23.695Z"
   },
   {
    "duration": 68,
    "start_time": "2022-10-18T11:06:24.309Z"
   },
   {
    "duration": 32,
    "start_time": "2022-10-18T11:06:24.379Z"
   },
   {
    "duration": 63,
    "start_time": "2022-10-18T11:06:24.413Z"
   },
   {
    "duration": 1732,
    "start_time": "2022-10-18T11:06:24.479Z"
   },
   {
    "duration": 4,
    "start_time": "2022-10-18T11:06:26.212Z"
   },
   {
    "duration": 235,
    "start_time": "2022-10-18T11:06:26.218Z"
   },
   {
    "duration": 67,
    "start_time": "2022-10-18T11:06:26.454Z"
   },
   {
    "duration": 86,
    "start_time": "2022-10-18T11:06:26.523Z"
   },
   {
    "duration": 324,
    "start_time": "2022-10-18T11:06:26.611Z"
   },
   {
    "duration": 36,
    "start_time": "2022-10-18T11:06:26.936Z"
   },
   {
    "duration": 12,
    "start_time": "2022-10-18T11:06:26.974Z"
   },
   {
    "duration": 21,
    "start_time": "2022-10-18T11:06:26.988Z"
   },
   {
    "duration": 224,
    "start_time": "2022-10-18T11:06:27.012Z"
   },
   {
    "duration": 284,
    "start_time": "2022-10-18T11:06:27.238Z"
   },
   {
    "duration": 4,
    "start_time": "2022-10-18T11:06:27.524Z"
   },
   {
    "duration": 893,
    "start_time": "2022-10-18T11:06:27.530Z"
   },
   {
    "duration": 13,
    "start_time": "2022-10-18T11:06:28.424Z"
   },
   {
    "duration": 943,
    "start_time": "2022-10-18T11:06:28.439Z"
   },
   {
    "duration": 4,
    "start_time": "2022-10-18T11:06:29.384Z"
   },
   {
    "duration": 790,
    "start_time": "2022-10-18T11:06:29.399Z"
   },
   {
    "duration": 143,
    "start_time": "2022-10-18T11:06:30.191Z"
   },
   {
    "duration": 636,
    "start_time": "2022-10-18T11:06:30.336Z"
   },
   {
    "duration": 384,
    "start_time": "2022-10-18T11:06:30.974Z"
   },
   {
    "duration": 56,
    "start_time": "2022-10-18T11:06:31.359Z"
   },
   {
    "duration": 187,
    "start_time": "2022-10-18T11:06:31.416Z"
   },
   {
    "duration": 8,
    "start_time": "2022-10-18T11:06:31.605Z"
   },
   {
    "duration": 271,
    "start_time": "2022-10-18T11:06:31.615Z"
   },
   {
    "duration": 282,
    "start_time": "2022-10-18T11:06:31.888Z"
   },
   {
    "duration": 14,
    "start_time": "2022-10-18T11:06:32.172Z"
   },
   {
    "duration": 23,
    "start_time": "2022-10-18T11:06:32.187Z"
   },
   {
    "duration": 411,
    "start_time": "2022-10-18T11:06:32.211Z"
   },
   {
    "duration": 2332,
    "start_time": "2022-10-18T11:06:32.624Z"
   },
   {
    "duration": 259,
    "start_time": "2022-10-18T11:06:34.957Z"
   },
   {
    "duration": 1075,
    "start_time": "2022-10-18T11:06:35.218Z"
   },
   {
    "duration": 121,
    "start_time": "2022-10-18T11:06:36.299Z"
   },
   {
    "duration": 196,
    "start_time": "2022-10-18T11:06:36.421Z"
   },
   {
    "duration": 139,
    "start_time": "2022-10-18T11:06:36.618Z"
   },
   {
    "duration": 528,
    "start_time": "2022-10-18T11:06:36.759Z"
   },
   {
    "duration": 3047,
    "start_time": "2022-10-18T11:06:37.288Z"
   },
   {
    "duration": 346,
    "start_time": "2022-10-18T11:06:40.338Z"
   },
   {
    "duration": 571,
    "start_time": "2022-10-18T12:05:39.335Z"
   },
   {
    "duration": 86,
    "start_time": "2022-10-18T12:05:39.908Z"
   },
   {
    "duration": 28,
    "start_time": "2022-10-18T12:05:39.996Z"
   },
   {
    "duration": 38,
    "start_time": "2022-10-18T12:05:40.026Z"
   },
   {
    "duration": 1808,
    "start_time": "2022-10-18T12:05:40.066Z"
   },
   {
    "duration": 4,
    "start_time": "2022-10-18T12:05:41.876Z"
   },
   {
    "duration": 229,
    "start_time": "2022-10-18T12:05:41.881Z"
   },
   {
    "duration": 70,
    "start_time": "2022-10-18T12:05:42.112Z"
   },
   {
    "duration": 91,
    "start_time": "2022-10-18T12:05:42.184Z"
   },
   {
    "duration": 320,
    "start_time": "2022-10-18T12:05:42.277Z"
   },
   {
    "duration": 35,
    "start_time": "2022-10-18T12:05:42.600Z"
   },
   {
    "duration": 3,
    "start_time": "2022-10-18T12:05:42.637Z"
   },
   {
    "duration": 12,
    "start_time": "2022-10-18T12:05:42.641Z"
   },
   {
    "duration": 247,
    "start_time": "2022-10-18T12:05:42.655Z"
   },
   {
    "duration": 316,
    "start_time": "2022-10-18T12:05:42.903Z"
   },
   {
    "duration": 3,
    "start_time": "2022-10-18T12:05:43.221Z"
   },
   {
    "duration": 876,
    "start_time": "2022-10-18T12:05:43.225Z"
   },
   {
    "duration": 228,
    "start_time": "2022-10-18T12:05:44.102Z"
   },
   {
    "duration": 274,
    "start_time": "2022-10-18T12:05:44.332Z"
   },
   {
    "duration": 16,
    "start_time": "2022-10-18T12:05:44.608Z"
   },
   {
    "duration": 1044,
    "start_time": "2022-10-18T12:05:44.625Z"
   },
   {
    "duration": 4,
    "start_time": "2022-10-18T12:05:45.670Z"
   },
   {
    "duration": 868,
    "start_time": "2022-10-18T12:05:45.676Z"
   },
   {
    "duration": 154,
    "start_time": "2022-10-18T12:05:46.546Z"
   },
   {
    "duration": 745,
    "start_time": "2022-10-18T12:05:46.702Z"
   },
   {
    "duration": 261,
    "start_time": "2022-10-18T12:05:47.448Z"
   },
   {
    "duration": 45,
    "start_time": "2022-10-18T12:05:47.711Z"
   },
   {
    "duration": 185,
    "start_time": "2022-10-18T12:05:47.758Z"
   },
   {
    "duration": 6,
    "start_time": "2022-10-18T12:05:47.945Z"
   },
   {
    "duration": 277,
    "start_time": "2022-10-18T12:05:47.952Z"
   },
   {
    "duration": 493,
    "start_time": "2022-10-18T12:05:48.231Z"
   },
   {
    "duration": 13,
    "start_time": "2022-10-18T12:05:48.726Z"
   },
   {
    "duration": 278,
    "start_time": "2022-10-18T12:05:48.740Z"
   },
   {
    "duration": 628,
    "start_time": "2022-10-18T12:05:49.019Z"
   },
   {
    "duration": 3679,
    "start_time": "2022-10-18T12:05:49.648Z"
   },
   {
    "duration": 349,
    "start_time": "2022-10-18T12:05:53.328Z"
   },
   {
    "duration": 1254,
    "start_time": "2022-10-18T12:05:53.679Z"
   },
   {
    "duration": 271,
    "start_time": "2022-10-18T12:05:54.935Z"
   },
   {
    "duration": 282,
    "start_time": "2022-10-18T12:05:55.207Z"
   },
   {
    "duration": 145,
    "start_time": "2022-10-18T12:05:55.500Z"
   },
   {
    "duration": 552,
    "start_time": "2022-10-18T12:05:55.648Z"
   },
   {
    "duration": 3648,
    "start_time": "2022-10-18T12:05:56.201Z"
   },
   {
    "duration": 368,
    "start_time": "2022-10-18T12:05:59.851Z"
   },
   {
    "duration": 667,
    "start_time": "2022-10-18T12:13:16.775Z"
   },
   {
    "duration": 80,
    "start_time": "2022-10-18T12:13:17.444Z"
   },
   {
    "duration": 29,
    "start_time": "2022-10-18T12:13:17.525Z"
   },
   {
    "duration": 47,
    "start_time": "2022-10-18T12:13:17.555Z"
   },
   {
    "duration": 1785,
    "start_time": "2022-10-18T12:13:17.604Z"
   },
   {
    "duration": 9,
    "start_time": "2022-10-18T12:13:19.391Z"
   },
   {
    "duration": 217,
    "start_time": "2022-10-18T12:13:19.401Z"
   },
   {
    "duration": 58,
    "start_time": "2022-10-18T12:13:19.620Z"
   },
   {
    "duration": 82,
    "start_time": "2022-10-18T12:13:19.680Z"
   },
   {
    "duration": 329,
    "start_time": "2022-10-18T12:13:19.764Z"
   },
   {
    "duration": 39,
    "start_time": "2022-10-18T12:13:20.094Z"
   },
   {
    "duration": 4,
    "start_time": "2022-10-18T12:13:20.135Z"
   },
   {
    "duration": 6,
    "start_time": "2022-10-18T12:13:20.140Z"
   },
   {
    "duration": 13,
    "start_time": "2022-10-18T12:13:20.148Z"
   },
   {
    "duration": 259,
    "start_time": "2022-10-18T12:13:20.163Z"
   },
   {
    "duration": 324,
    "start_time": "2022-10-18T12:13:20.424Z"
   },
   {
    "duration": 4,
    "start_time": "2022-10-18T12:13:20.749Z"
   },
   {
    "duration": 913,
    "start_time": "2022-10-18T12:13:20.754Z"
   },
   {
    "duration": 183,
    "start_time": "2022-10-18T12:13:21.669Z"
   },
   {
    "duration": 165,
    "start_time": "2022-10-18T12:13:21.854Z"
   },
   {
    "duration": 11,
    "start_time": "2022-10-18T12:13:22.021Z"
   },
   {
    "duration": 977,
    "start_time": "2022-10-18T12:13:22.033Z"
   },
   {
    "duration": 3,
    "start_time": "2022-10-18T12:13:23.012Z"
   },
   {
    "duration": 846,
    "start_time": "2022-10-18T12:13:23.017Z"
   },
   {
    "duration": 157,
    "start_time": "2022-10-18T12:13:23.864Z"
   },
   {
    "duration": 872,
    "start_time": "2022-10-18T12:13:24.023Z"
   },
   {
    "duration": 270,
    "start_time": "2022-10-18T12:13:24.899Z"
   },
   {
    "duration": 55,
    "start_time": "2022-10-18T12:13:25.172Z"
   },
   {
    "duration": 189,
    "start_time": "2022-10-18T12:13:25.229Z"
   },
   {
    "duration": 7,
    "start_time": "2022-10-18T12:13:25.421Z"
   },
   {
    "duration": 275,
    "start_time": "2022-10-18T12:13:25.429Z"
   },
   {
    "duration": 254,
    "start_time": "2022-10-18T12:13:25.706Z"
   },
   {
    "duration": 13,
    "start_time": "2022-10-18T12:13:25.962Z"
   },
   {
    "duration": 123,
    "start_time": "2022-10-18T12:13:25.977Z"
   },
   {
    "duration": 337,
    "start_time": "2022-10-18T12:13:26.102Z"
   },
   {
    "duration": 2456,
    "start_time": "2022-10-18T12:13:26.440Z"
   },
   {
    "duration": 358,
    "start_time": "2022-10-18T12:13:28.897Z"
   },
   {
    "duration": 1017,
    "start_time": "2022-10-18T12:13:29.257Z"
   },
   {
    "duration": 133,
    "start_time": "2022-10-18T12:13:30.275Z"
   },
   {
    "duration": 223,
    "start_time": "2022-10-18T12:13:30.410Z"
   },
   {
    "duration": 152,
    "start_time": "2022-10-18T12:13:30.635Z"
   },
   {
    "duration": 537,
    "start_time": "2022-10-18T12:13:30.789Z"
   },
   {
    "duration": 3137,
    "start_time": "2022-10-18T12:13:31.327Z"
   },
   {
    "duration": 472,
    "start_time": "2022-10-18T12:13:34.467Z"
   },
   {
    "duration": 580,
    "start_time": "2022-10-18T12:16:14.739Z"
   },
   {
    "duration": 82,
    "start_time": "2022-10-18T12:16:15.321Z"
   },
   {
    "duration": 33,
    "start_time": "2022-10-18T12:16:15.404Z"
   },
   {
    "duration": 45,
    "start_time": "2022-10-18T12:16:15.439Z"
   },
   {
    "duration": 1820,
    "start_time": "2022-10-18T12:16:15.500Z"
   },
   {
    "duration": 5,
    "start_time": "2022-10-18T12:16:17.322Z"
   },
   {
    "duration": 236,
    "start_time": "2022-10-18T12:16:17.328Z"
   },
   {
    "duration": 72,
    "start_time": "2022-10-18T12:16:17.565Z"
   },
   {
    "duration": 86,
    "start_time": "2022-10-18T12:16:17.640Z"
   },
   {
    "duration": 367,
    "start_time": "2022-10-18T12:16:17.728Z"
   },
   {
    "duration": 38,
    "start_time": "2022-10-18T12:16:18.097Z"
   },
   {
    "duration": 4,
    "start_time": "2022-10-18T12:16:18.137Z"
   },
   {
    "duration": 8,
    "start_time": "2022-10-18T12:16:18.142Z"
   },
   {
    "duration": 13,
    "start_time": "2022-10-18T12:16:18.153Z"
   },
   {
    "duration": 264,
    "start_time": "2022-10-18T12:16:18.167Z"
   },
   {
    "duration": 312,
    "start_time": "2022-10-18T12:16:18.432Z"
   },
   {
    "duration": 3,
    "start_time": "2022-10-18T12:16:18.746Z"
   },
   {
    "duration": 1069,
    "start_time": "2022-10-18T12:16:18.750Z"
   },
   {
    "duration": 296,
    "start_time": "2022-10-18T12:16:19.820Z"
   },
   {
    "duration": 305,
    "start_time": "2022-10-18T12:16:20.118Z"
   },
   {
    "duration": 12,
    "start_time": "2022-10-18T12:16:20.424Z"
   },
   {
    "duration": 1910,
    "start_time": "2022-10-18T12:16:20.437Z"
   },
   {
    "duration": 5,
    "start_time": "2022-10-18T12:16:22.349Z"
   },
   {
    "duration": 1001,
    "start_time": "2022-10-18T12:16:22.356Z"
   },
   {
    "duration": 157,
    "start_time": "2022-10-18T12:16:23.359Z"
   },
   {
    "duration": 812,
    "start_time": "2022-10-18T12:16:23.518Z"
   },
   {
    "duration": 313,
    "start_time": "2022-10-18T12:16:24.332Z"
   },
   {
    "duration": 85,
    "start_time": "2022-10-18T12:16:24.647Z"
   },
   {
    "duration": 199,
    "start_time": "2022-10-18T12:16:24.734Z"
   },
   {
    "duration": 7,
    "start_time": "2022-10-18T12:16:24.935Z"
   },
   {
    "duration": 278,
    "start_time": "2022-10-18T12:16:24.943Z"
   },
   {
    "duration": 288,
    "start_time": "2022-10-18T12:16:25.222Z"
   },
   {
    "duration": 12,
    "start_time": "2022-10-18T12:16:25.511Z"
   },
   {
    "duration": 118,
    "start_time": "2022-10-18T12:16:25.525Z"
   },
   {
    "duration": 342,
    "start_time": "2022-10-18T12:16:25.645Z"
   },
   {
    "duration": 2394,
    "start_time": "2022-10-18T12:16:25.989Z"
   },
   {
    "duration": 367,
    "start_time": "2022-10-18T12:16:28.384Z"
   },
   {
    "duration": 1042,
    "start_time": "2022-10-18T12:16:28.753Z"
   },
   {
    "duration": 129,
    "start_time": "2022-10-18T12:16:29.799Z"
   },
   {
    "duration": 215,
    "start_time": "2022-10-18T12:16:29.929Z"
   },
   {
    "duration": 148,
    "start_time": "2022-10-18T12:16:30.148Z"
   },
   {
    "duration": 718,
    "start_time": "2022-10-18T12:16:30.300Z"
   },
   {
    "duration": 3871,
    "start_time": "2022-10-18T12:16:31.020Z"
   },
   {
    "duration": 375,
    "start_time": "2022-10-18T12:16:34.893Z"
   },
   {
    "duration": 554,
    "start_time": "2022-10-18T12:17:45.752Z"
   },
   {
    "duration": 82,
    "start_time": "2022-10-18T12:17:46.308Z"
   },
   {
    "duration": 28,
    "start_time": "2022-10-18T12:17:46.391Z"
   },
   {
    "duration": 39,
    "start_time": "2022-10-18T12:17:46.420Z"
   },
   {
    "duration": 1762,
    "start_time": "2022-10-18T12:17:46.461Z"
   },
   {
    "duration": 5,
    "start_time": "2022-10-18T12:17:48.225Z"
   },
   {
    "duration": 212,
    "start_time": "2022-10-18T12:17:48.232Z"
   },
   {
    "duration": 69,
    "start_time": "2022-10-18T12:17:48.446Z"
   },
   {
    "duration": 69,
    "start_time": "2022-10-18T12:17:48.517Z"
   },
   {
    "duration": 340,
    "start_time": "2022-10-18T12:17:48.599Z"
   },
   {
    "duration": 40,
    "start_time": "2022-10-18T12:17:48.941Z"
   },
   {
    "duration": 3,
    "start_time": "2022-10-18T12:17:48.983Z"
   },
   {
    "duration": 10,
    "start_time": "2022-10-18T12:17:49.001Z"
   },
   {
    "duration": 26,
    "start_time": "2022-10-18T12:17:49.015Z"
   },
   {
    "duration": 318,
    "start_time": "2022-10-18T12:17:49.043Z"
   },
   {
    "duration": 316,
    "start_time": "2022-10-18T12:17:49.362Z"
   },
   {
    "duration": 3,
    "start_time": "2022-10-18T12:17:49.680Z"
   },
   {
    "duration": 887,
    "start_time": "2022-10-18T12:17:49.684Z"
   },
   {
    "duration": 208,
    "start_time": "2022-10-18T12:17:50.572Z"
   },
   {
    "duration": 205,
    "start_time": "2022-10-18T12:17:50.782Z"
   },
   {
    "duration": 22,
    "start_time": "2022-10-18T12:17:50.989Z"
   },
   {
    "duration": 1005,
    "start_time": "2022-10-18T12:17:51.013Z"
   },
   {
    "duration": 3,
    "start_time": "2022-10-18T12:17:52.020Z"
   },
   {
    "duration": 815,
    "start_time": "2022-10-18T12:17:52.024Z"
   },
   {
    "duration": 146,
    "start_time": "2022-10-18T12:17:52.841Z"
   },
   {
    "duration": 823,
    "start_time": "2022-10-18T12:17:52.989Z"
   },
   {
    "duration": 477,
    "start_time": "2022-10-18T12:17:53.814Z"
   },
   {
    "duration": 47,
    "start_time": "2022-10-18T12:17:54.300Z"
   },
   {
    "duration": 244,
    "start_time": "2022-10-18T12:17:54.348Z"
   },
   {
    "duration": 12,
    "start_time": "2022-10-18T12:17:54.594Z"
   },
   {
    "duration": 295,
    "start_time": "2022-10-18T12:17:54.609Z"
   },
   {
    "duration": 286,
    "start_time": "2022-10-18T12:17:54.906Z"
   },
   {
    "duration": 17,
    "start_time": "2022-10-18T12:17:55.193Z"
   },
   {
    "duration": 108,
    "start_time": "2022-10-18T12:17:55.211Z"
   },
   {
    "duration": 326,
    "start_time": "2022-10-18T12:17:55.323Z"
   },
   {
    "duration": 2307,
    "start_time": "2022-10-18T12:17:55.651Z"
   },
   {
    "duration": 343,
    "start_time": "2022-10-18T12:17:57.959Z"
   },
   {
    "duration": 1068,
    "start_time": "2022-10-18T12:17:58.303Z"
   },
   {
    "duration": 135,
    "start_time": "2022-10-18T12:17:59.372Z"
   },
   {
    "duration": 237,
    "start_time": "2022-10-18T12:17:59.509Z"
   },
   {
    "duration": 163,
    "start_time": "2022-10-18T12:17:59.750Z"
   },
   {
    "duration": 513,
    "start_time": "2022-10-18T12:17:59.914Z"
   },
   {
    "duration": 3159,
    "start_time": "2022-10-18T12:18:00.428Z"
   },
   {
    "duration": 360,
    "start_time": "2022-10-18T12:18:03.589Z"
   },
   {
    "duration": 298,
    "start_time": "2022-10-18T12:19:48.456Z"
   },
   {
    "duration": 729,
    "start_time": "2022-10-18T12:20:02.098Z"
   },
   {
    "duration": 79,
    "start_time": "2022-10-18T12:20:02.829Z"
   },
   {
    "duration": 27,
    "start_time": "2022-10-18T12:20:02.910Z"
   },
   {
    "duration": 36,
    "start_time": "2022-10-18T12:20:02.938Z"
   },
   {
    "duration": 1975,
    "start_time": "2022-10-18T12:20:02.976Z"
   },
   {
    "duration": 3,
    "start_time": "2022-10-18T12:20:04.953Z"
   },
   {
    "duration": 249,
    "start_time": "2022-10-18T12:20:04.958Z"
   },
   {
    "duration": 63,
    "start_time": "2022-10-18T12:20:05.208Z"
   },
   {
    "duration": 98,
    "start_time": "2022-10-18T12:20:05.272Z"
   },
   {
    "duration": 341,
    "start_time": "2022-10-18T12:20:05.371Z"
   },
   {
    "duration": 37,
    "start_time": "2022-10-18T12:20:05.714Z"
   },
   {
    "duration": 4,
    "start_time": "2022-10-18T12:20:05.752Z"
   },
   {
    "duration": 45,
    "start_time": "2022-10-18T12:20:05.757Z"
   },
   {
    "duration": 25,
    "start_time": "2022-10-18T12:20:05.805Z"
   },
   {
    "duration": 319,
    "start_time": "2022-10-18T12:20:05.832Z"
   },
   {
    "duration": 343,
    "start_time": "2022-10-18T12:20:06.153Z"
   },
   {
    "duration": 243,
    "start_time": "2022-10-18T12:20:06.500Z"
   },
   {
    "duration": 4,
    "start_time": "2022-10-18T12:20:06.745Z"
   },
   {
    "duration": 944,
    "start_time": "2022-10-18T12:20:06.751Z"
   },
   {
    "duration": 214,
    "start_time": "2022-10-18T12:20:07.699Z"
   },
   {
    "duration": 214,
    "start_time": "2022-10-18T12:20:07.914Z"
   },
   {
    "duration": 12,
    "start_time": "2022-10-18T12:20:08.130Z"
   },
   {
    "duration": 1014,
    "start_time": "2022-10-18T12:20:08.144Z"
   },
   {
    "duration": 6,
    "start_time": "2022-10-18T12:20:09.160Z"
   },
   {
    "duration": 919,
    "start_time": "2022-10-18T12:20:09.167Z"
   },
   {
    "duration": 272,
    "start_time": "2022-10-18T12:20:10.087Z"
   },
   {
    "duration": 678,
    "start_time": "2022-10-18T12:20:10.360Z"
   },
   {
    "duration": 280,
    "start_time": "2022-10-18T12:20:11.040Z"
   },
   {
    "duration": 46,
    "start_time": "2022-10-18T12:20:11.322Z"
   },
   {
    "duration": 198,
    "start_time": "2022-10-18T12:20:11.370Z"
   },
   {
    "duration": 8,
    "start_time": "2022-10-18T12:20:11.569Z"
   },
   {
    "duration": 293,
    "start_time": "2022-10-18T12:20:11.580Z"
   },
   {
    "duration": 362,
    "start_time": "2022-10-18T12:20:11.874Z"
   },
   {
    "duration": 12,
    "start_time": "2022-10-18T12:20:12.239Z"
   },
   {
    "duration": 36,
    "start_time": "2022-10-18T12:20:12.253Z"
   },
   {
    "duration": 326,
    "start_time": "2022-10-18T12:20:12.291Z"
   },
   {
    "duration": 2525,
    "start_time": "2022-10-18T12:20:12.619Z"
   },
   {
    "duration": 292,
    "start_time": "2022-10-18T12:20:15.145Z"
   },
   {
    "duration": 1098,
    "start_time": "2022-10-18T12:20:15.443Z"
   },
   {
    "duration": 135,
    "start_time": "2022-10-18T12:20:16.543Z"
   },
   {
    "duration": 230,
    "start_time": "2022-10-18T12:20:16.682Z"
   },
   {
    "duration": 157,
    "start_time": "2022-10-18T12:20:16.914Z"
   },
   {
    "duration": 546,
    "start_time": "2022-10-18T12:20:17.073Z"
   },
   {
    "duration": 3095,
    "start_time": "2022-10-18T12:20:17.621Z"
   },
   {
    "duration": 352,
    "start_time": "2022-10-18T12:20:20.718Z"
   },
   {
    "duration": 19,
    "start_time": "2022-10-18T12:23:09.420Z"
   },
   {
    "duration": 185,
    "start_time": "2022-10-18T12:24:10.118Z"
   },
   {
    "duration": 622,
    "start_time": "2022-10-18T12:25:44.483Z"
   },
   {
    "duration": 76,
    "start_time": "2022-10-18T12:25:45.107Z"
   },
   {
    "duration": 30,
    "start_time": "2022-10-18T12:25:45.185Z"
   },
   {
    "duration": 38,
    "start_time": "2022-10-18T12:25:45.217Z"
   },
   {
    "duration": 1746,
    "start_time": "2022-10-18T12:25:45.256Z"
   },
   {
    "duration": 4,
    "start_time": "2022-10-18T12:25:47.004Z"
   },
   {
    "duration": 230,
    "start_time": "2022-10-18T12:25:47.010Z"
   },
   {
    "duration": 66,
    "start_time": "2022-10-18T12:25:47.242Z"
   },
   {
    "duration": 72,
    "start_time": "2022-10-18T12:25:47.310Z"
   },
   {
    "duration": 333,
    "start_time": "2022-10-18T12:25:47.400Z"
   },
   {
    "duration": 38,
    "start_time": "2022-10-18T12:25:47.735Z"
   },
   {
    "duration": 4,
    "start_time": "2022-10-18T12:25:47.775Z"
   },
   {
    "duration": 21,
    "start_time": "2022-10-18T12:25:47.780Z"
   },
   {
    "duration": 19,
    "start_time": "2022-10-18T12:25:47.803Z"
   },
   {
    "duration": 305,
    "start_time": "2022-10-18T12:25:47.823Z"
   },
   {
    "duration": 322,
    "start_time": "2022-10-18T12:25:48.129Z"
   },
   {
    "duration": 216,
    "start_time": "2022-10-18T12:25:48.452Z"
   },
   {
    "duration": 3,
    "start_time": "2022-10-18T12:25:48.670Z"
   },
   {
    "duration": 885,
    "start_time": "2022-10-18T12:25:48.675Z"
   },
   {
    "duration": 182,
    "start_time": "2022-10-18T12:25:49.562Z"
   },
   {
    "duration": 184,
    "start_time": "2022-10-18T12:25:49.746Z"
   },
   {
    "duration": 257,
    "start_time": "2022-10-18T12:25:49.932Z"
   },
   {
    "duration": 20,
    "start_time": "2022-10-18T12:25:50.190Z"
   },
   {
    "duration": 910,
    "start_time": "2022-10-18T12:25:50.212Z"
   },
   {
    "duration": 5,
    "start_time": "2022-10-18T12:25:51.124Z"
   },
   {
    "duration": 952,
    "start_time": "2022-10-18T12:25:51.130Z"
   },
   {
    "duration": 152,
    "start_time": "2022-10-18T12:25:52.084Z"
   },
   {
    "duration": 770,
    "start_time": "2022-10-18T12:25:52.239Z"
   },
   {
    "duration": 309,
    "start_time": "2022-10-18T12:25:53.011Z"
   },
   {
    "duration": 49,
    "start_time": "2022-10-18T12:25:53.322Z"
   },
   {
    "duration": 191,
    "start_time": "2022-10-18T12:25:53.373Z"
   },
   {
    "duration": 7,
    "start_time": "2022-10-18T12:25:53.565Z"
   },
   {
    "duration": 378,
    "start_time": "2022-10-18T12:25:53.573Z"
   },
   {
    "duration": 329,
    "start_time": "2022-10-18T12:25:53.952Z"
   },
   {
    "duration": 19,
    "start_time": "2022-10-18T12:25:54.282Z"
   },
   {
    "duration": 16,
    "start_time": "2022-10-18T12:25:54.302Z"
   },
   {
    "duration": 12,
    "start_time": "2022-10-18T12:25:54.319Z"
   },
   {
    "duration": 377,
    "start_time": "2022-10-18T12:25:54.332Z"
   },
   {
    "duration": 2384,
    "start_time": "2022-10-18T12:25:54.711Z"
   },
   {
    "duration": 276,
    "start_time": "2022-10-18T12:25:57.096Z"
   },
   {
    "duration": 1085,
    "start_time": "2022-10-18T12:25:57.373Z"
   },
   {
    "duration": 126,
    "start_time": "2022-10-18T12:25:58.459Z"
   },
   {
    "duration": 307,
    "start_time": "2022-10-18T12:25:58.587Z"
   },
   {
    "duration": 144,
    "start_time": "2022-10-18T12:25:58.895Z"
   },
   {
    "duration": 392,
    "start_time": "2022-10-18T12:25:59.041Z"
   },
   {
    "duration": 3209,
    "start_time": "2022-10-18T12:25:59.434Z"
   },
   {
    "duration": 373,
    "start_time": "2022-10-18T12:26:02.645Z"
   },
   {
    "duration": 603,
    "start_time": "2022-10-18T12:28:50.449Z"
   },
   {
    "duration": 84,
    "start_time": "2022-10-18T12:28:51.054Z"
   },
   {
    "duration": 34,
    "start_time": "2022-10-18T12:28:51.140Z"
   },
   {
    "duration": 61,
    "start_time": "2022-10-18T12:28:51.176Z"
   },
   {
    "duration": 1942,
    "start_time": "2022-10-18T12:28:51.240Z"
   },
   {
    "duration": 7,
    "start_time": "2022-10-18T12:28:53.184Z"
   },
   {
    "duration": 268,
    "start_time": "2022-10-18T12:28:53.192Z"
   },
   {
    "duration": 97,
    "start_time": "2022-10-18T12:28:53.462Z"
   },
   {
    "duration": 140,
    "start_time": "2022-10-18T12:28:53.562Z"
   },
   {
    "duration": 355,
    "start_time": "2022-10-18T12:28:53.706Z"
   },
   {
    "duration": 65,
    "start_time": "2022-10-18T12:28:54.063Z"
   },
   {
    "duration": 3,
    "start_time": "2022-10-18T12:28:54.130Z"
   },
   {
    "duration": 12,
    "start_time": "2022-10-18T12:28:54.137Z"
   },
   {
    "duration": 15,
    "start_time": "2022-10-18T12:28:54.151Z"
   },
   {
    "duration": 358,
    "start_time": "2022-10-18T12:28:54.168Z"
   },
   {
    "duration": 339,
    "start_time": "2022-10-18T12:28:54.528Z"
   },
   {
    "duration": 225,
    "start_time": "2022-10-18T12:28:54.868Z"
   },
   {
    "duration": 5,
    "start_time": "2022-10-18T12:28:55.100Z"
   },
   {
    "duration": 944,
    "start_time": "2022-10-18T12:28:55.106Z"
   },
   {
    "duration": 50,
    "start_time": "2022-10-18T12:28:56.052Z"
   },
   {
    "duration": 162,
    "start_time": "2022-10-18T12:28:56.104Z"
   },
   {
    "duration": 276,
    "start_time": "2022-10-18T12:28:56.267Z"
   },
   {
    "duration": 187,
    "start_time": "2022-10-18T12:28:56.545Z"
   },
   {
    "duration": 13,
    "start_time": "2022-10-18T12:28:56.733Z"
   },
   {
    "duration": 967,
    "start_time": "2022-10-18T12:28:56.747Z"
   },
   {
    "duration": 3,
    "start_time": "2022-10-18T12:28:57.716Z"
   },
   {
    "duration": 937,
    "start_time": "2022-10-18T12:28:57.720Z"
   },
   {
    "duration": 145,
    "start_time": "2022-10-18T12:28:58.660Z"
   },
   {
    "duration": 662,
    "start_time": "2022-10-18T12:28:58.807Z"
   },
   {
    "duration": 382,
    "start_time": "2022-10-18T12:28:59.471Z"
   },
   {
    "duration": 25,
    "start_time": "2022-10-18T12:28:59.855Z"
   },
   {
    "duration": 286,
    "start_time": "2022-10-18T12:28:59.882Z"
   },
   {
    "duration": 8,
    "start_time": "2022-10-18T12:29:00.170Z"
   },
   {
    "duration": 470,
    "start_time": "2022-10-18T12:29:00.180Z"
   },
   {
    "duration": 341,
    "start_time": "2022-10-18T12:29:00.652Z"
   },
   {
    "duration": 16,
    "start_time": "2022-10-18T12:29:00.995Z"
   },
   {
    "duration": 22,
    "start_time": "2022-10-18T12:29:01.013Z"
   },
   {
    "duration": 13,
    "start_time": "2022-10-18T12:29:01.037Z"
   },
   {
    "duration": 350,
    "start_time": "2022-10-18T12:29:01.052Z"
   },
   {
    "duration": 2550,
    "start_time": "2022-10-18T12:29:01.404Z"
   },
   {
    "duration": 282,
    "start_time": "2022-10-18T12:29:03.956Z"
   },
   {
    "duration": 1149,
    "start_time": "2022-10-18T12:29:04.240Z"
   },
   {
    "duration": 159,
    "start_time": "2022-10-18T12:29:05.391Z"
   },
   {
    "duration": 223,
    "start_time": "2022-10-18T12:29:05.552Z"
   },
   {
    "duration": 241,
    "start_time": "2022-10-18T12:29:05.777Z"
   },
   {
    "duration": 453,
    "start_time": "2022-10-18T12:29:06.019Z"
   },
   {
    "duration": 3139,
    "start_time": "2022-10-18T12:29:06.474Z"
   },
   {
    "duration": 393,
    "start_time": "2022-10-18T12:29:09.615Z"
   },
   {
    "duration": 639,
    "start_time": "2023-06-08T09:27:11.511Z"
   },
   {
    "duration": 95,
    "start_time": "2023-06-08T09:27:12.152Z"
   },
   {
    "duration": 33,
    "start_time": "2023-06-08T09:27:12.249Z"
   },
   {
    "duration": 69,
    "start_time": "2023-06-08T09:27:12.284Z"
   },
   {
    "duration": 70,
    "start_time": "2023-06-08T09:27:12.354Z"
   },
   {
    "duration": 0,
    "start_time": "2023-06-08T09:27:12.427Z"
   },
   {
    "duration": 0,
    "start_time": "2023-06-08T09:27:12.428Z"
   },
   {
    "duration": 0,
    "start_time": "2023-06-08T09:27:12.430Z"
   },
   {
    "duration": 0,
    "start_time": "2023-06-08T09:27:12.432Z"
   },
   {
    "duration": 0,
    "start_time": "2023-06-08T09:27:12.433Z"
   },
   {
    "duration": 1,
    "start_time": "2023-06-08T09:27:12.434Z"
   },
   {
    "duration": 0,
    "start_time": "2023-06-08T09:27:12.437Z"
   },
   {
    "duration": 0,
    "start_time": "2023-06-08T09:27:12.438Z"
   },
   {
    "duration": 0,
    "start_time": "2023-06-08T09:27:12.440Z"
   },
   {
    "duration": 0,
    "start_time": "2023-06-08T09:27:12.441Z"
   },
   {
    "duration": 0,
    "start_time": "2023-06-08T09:27:12.443Z"
   },
   {
    "duration": 0,
    "start_time": "2023-06-08T09:27:12.444Z"
   },
   {
    "duration": 1,
    "start_time": "2023-06-08T09:27:12.445Z"
   },
   {
    "duration": 0,
    "start_time": "2023-06-08T09:27:12.447Z"
   },
   {
    "duration": 0,
    "start_time": "2023-06-08T09:27:12.448Z"
   },
   {
    "duration": 0,
    "start_time": "2023-06-08T09:27:12.451Z"
   },
   {
    "duration": 0,
    "start_time": "2023-06-08T09:27:12.452Z"
   },
   {
    "duration": 0,
    "start_time": "2023-06-08T09:27:12.453Z"
   },
   {
    "duration": 0,
    "start_time": "2023-06-08T09:27:12.455Z"
   },
   {
    "duration": 0,
    "start_time": "2023-06-08T09:27:12.456Z"
   },
   {
    "duration": 0,
    "start_time": "2023-06-08T09:27:12.457Z"
   },
   {
    "duration": 0,
    "start_time": "2023-06-08T09:27:12.459Z"
   },
   {
    "duration": 0,
    "start_time": "2023-06-08T09:27:12.461Z"
   },
   {
    "duration": 0,
    "start_time": "2023-06-08T09:27:12.461Z"
   },
   {
    "duration": 0,
    "start_time": "2023-06-08T09:27:12.463Z"
   },
   {
    "duration": 0,
    "start_time": "2023-06-08T09:27:12.464Z"
   },
   {
    "duration": 0,
    "start_time": "2023-06-08T09:27:12.466Z"
   },
   {
    "duration": 0,
    "start_time": "2023-06-08T09:27:12.467Z"
   },
   {
    "duration": 0,
    "start_time": "2023-06-08T09:27:12.468Z"
   },
   {
    "duration": 0,
    "start_time": "2023-06-08T09:27:12.470Z"
   },
   {
    "duration": 0,
    "start_time": "2023-06-08T09:27:12.471Z"
   },
   {
    "duration": 0,
    "start_time": "2023-06-08T09:27:12.472Z"
   },
   {
    "duration": 0,
    "start_time": "2023-06-08T09:27:12.473Z"
   },
   {
    "duration": 0,
    "start_time": "2023-06-08T09:27:12.474Z"
   },
   {
    "duration": 0,
    "start_time": "2023-06-08T09:27:12.476Z"
   },
   {
    "duration": 0,
    "start_time": "2023-06-08T09:27:12.477Z"
   },
   {
    "duration": 0,
    "start_time": "2023-06-08T09:27:12.478Z"
   },
   {
    "duration": 0,
    "start_time": "2023-06-08T09:27:12.482Z"
   },
   {
    "duration": 0,
    "start_time": "2023-06-08T09:27:12.484Z"
   },
   {
    "duration": 0,
    "start_time": "2023-06-08T09:27:12.485Z"
   },
   {
    "duration": 0,
    "start_time": "2023-06-08T09:27:12.486Z"
   },
   {
    "duration": 0,
    "start_time": "2023-06-08T09:27:12.488Z"
   },
   {
    "duration": 0,
    "start_time": "2023-06-08T09:27:12.490Z"
   },
   {
    "duration": 859,
    "start_time": "2023-06-09T09:07:49.809Z"
   },
   {
    "duration": 247,
    "start_time": "2023-06-09T09:07:50.670Z"
   },
   {
    "duration": 30,
    "start_time": "2023-06-09T09:07:50.919Z"
   },
   {
    "duration": 60,
    "start_time": "2023-06-09T09:07:50.950Z"
   },
   {
    "duration": 2250,
    "start_time": "2023-06-09T09:07:51.013Z"
   },
   {
    "duration": 84,
    "start_time": "2023-06-09T09:07:53.264Z"
   },
   {
    "duration": 108,
    "start_time": "2023-06-09T09:07:53.350Z"
   },
   {
    "duration": 421,
    "start_time": "2023-06-09T09:07:53.460Z"
   },
   {
    "duration": 322,
    "start_time": "2023-06-09T09:07:53.889Z"
   },
   {
    "duration": 289,
    "start_time": "2023-06-09T09:07:54.213Z"
   },
   {
    "duration": 1214,
    "start_time": "2023-06-09T09:07:54.504Z"
   },
   {
    "duration": 1105,
    "start_time": "2023-06-09T09:07:55.720Z"
   },
   {
    "duration": 1141,
    "start_time": "2023-06-09T09:07:56.827Z"
   },
   {
    "duration": 188,
    "start_time": "2023-06-09T09:07:57.983Z"
   },
   {
    "duration": 795,
    "start_time": "2023-06-09T09:07:58.174Z"
   },
   {
    "duration": 433,
    "start_time": "2023-06-09T09:07:58.970Z"
   },
   {
    "duration": 416,
    "start_time": "2023-06-09T09:07:59.414Z"
   },
   {
    "duration": 2905,
    "start_time": "2023-06-09T09:07:59.832Z"
   },
   {
    "duration": 415,
    "start_time": "2023-06-09T09:08:02.739Z"
   },
   {
    "duration": 1353,
    "start_time": "2023-06-09T09:08:03.156Z"
   },
   {
    "duration": 247,
    "start_time": "2023-06-09T09:08:04.519Z"
   },
   {
    "duration": 176,
    "start_time": "2023-06-09T09:08:04.768Z"
   }
  ],
  "kernelspec": {
   "display_name": "Python 3 (ipykernel)",
   "language": "python",
   "name": "python3"
  },
  "language_info": {
   "codemirror_mode": {
    "name": "ipython",
    "version": 3
   },
   "file_extension": ".py",
   "mimetype": "text/x-python",
   "name": "python",
   "nbconvert_exporter": "python",
   "pygments_lexer": "ipython3",
   "version": "3.9.5"
  },
  "toc": {
   "base_numbering": 1,
   "nav_menu": {},
   "number_sections": true,
   "sideBar": true,
   "skip_h1_title": true,
   "title_cell": "Table of Contents",
   "title_sidebar": "Contents",
   "toc_cell": false,
   "toc_position": {
    "height": "450.545px",
    "left": "271px",
    "top": "111.125px",
    "width": "237.867px"
   },
   "toc_section_display": true,
   "toc_window_display": true
  }
 },
 "nbformat": 4,
 "nbformat_minor": 2
}
